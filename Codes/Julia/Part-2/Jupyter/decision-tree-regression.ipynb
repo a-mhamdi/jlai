{
 "cells": [
  {
   "cell_type": "markdown",
   "id": "36bbccf0-2b3c-4963-9ec2-5418d4458c85",
   "metadata": {},
   "source": [
    "# DECISION TREE REGRESSION\n",
    "---"
   ]
  },
  {
   "cell_type": "markdown",
   "id": "61a4b063-3ff3-4857-afdf-420376b519ab",
   "metadata": {},
   "source": [
    "```julia\n",
    "versioninfo() # -> v\"1.11.1\"\n",
    "```"
   ]
  },
  {
   "cell_type": "code",
   "execution_count": 1,
   "id": "bad5c057-f270-48ff-9838-661f53740390",
   "metadata": {},
   "outputs": [],
   "source": [
    "cd(@__DIR__)"
   ]
  },
  {
   "cell_type": "code",
   "execution_count": 2,
   "id": "c2afce4c-73a2-44f4-b9fe-73d4296f9cb9",
   "metadata": {},
   "outputs": [
    {
     "name": "stderr",
     "output_type": "stream",
     "text": [
      "\u001b[32m\u001b[1m  Activating\u001b[22m\u001b[39m project at `~/Work/git-repos/AI-ML-DL/jlai/Codes/Julia/Part-2`\n"
     ]
    }
   ],
   "source": [
    "using Pkg; pkg\"activate ..\""
   ]
  },
  {
   "cell_type": "markdown",
   "id": "3f33d641-c9d4-412b-b289-90cd739428c4",
   "metadata": {},
   "source": [
    "Import librairies"
   ]
  },
  {
   "cell_type": "code",
   "execution_count": 3,
   "id": "82620482-b2da-4175-9415-887c6aa0966b",
   "metadata": {},
   "outputs": [],
   "source": [
    "using CSV, DataFrames\n",
    "using MLJ"
   ]
  },
  {
   "cell_type": "markdown",
   "id": "c3194d94-af27-4987-a8c7-42f759d203c1",
   "metadata": {},
   "source": [
    "Load data from CSV file"
   ]
  },
  {
   "cell_type": "code",
   "execution_count": 4,
   "id": "8f12f1f1-fca7-47ee-8aa7-18d88e196a17",
   "metadata": {},
   "outputs": [
    {
     "data": {
      "text/plain": [
       "┌─────────────────┬────────────┬──────────┐\n",
       "│\u001b[22m names           \u001b[0m│\u001b[22m scitypes   \u001b[0m│\u001b[22m types    \u001b[0m│\n",
       "├─────────────────┼────────────┼──────────┤\n",
       "│ R&D Spend       │ Continuous │ Float64  │\n",
       "│ Administration  │ Continuous │ Float64  │\n",
       "│ Marketing Spend │ Continuous │ Float64  │\n",
       "│ State           │ Textual    │ String15 │\n",
       "│ Profit          │ Continuous │ Float64  │\n",
       "└─────────────────┴────────────┴──────────┘\n"
      ]
     },
     "execution_count": 4,
     "metadata": {},
     "output_type": "execute_result"
    }
   ],
   "source": [
    "df = CSV.read(\"../../Datasets/50_Startups.csv\", DataFrame)\n",
    "schema(df)"
   ]
  },
  {
   "cell_type": "markdown",
   "id": "301f6a95-7439-4179-b2ad-ed4f528dbe51",
   "metadata": {},
   "source": [
    "Design the features"
   ]
  },
  {
   "cell_type": "code",
   "execution_count": 5,
   "id": "f04aafb6-af63-447c-a12e-fb4faea3ef7c",
   "metadata": {},
   "outputs": [
    {
     "data": {
      "text/html": [
       "<div><div style = \"float: left;\"><span>50×4 DataFrame</span></div><div style = \"float: right;\"><span style = \"font-style: italic;\">25 rows omitted</span></div><div style = \"clear: both;\"></div></div><div class = \"data-frame\" style = \"overflow-x: scroll;\"><table class = \"data-frame\" style = \"margin-bottom: 6px;\"><thead><tr class = \"header\"><th class = \"rowNumber\" style = \"font-weight: bold; text-align: right;\">Row</th><th style = \"text-align: left;\">rd</th><th style = \"text-align: left;\">admin</th><th style = \"text-align: left;\">spend</th><th style = \"text-align: left;\">state</th></tr><tr class = \"subheader headerLastRow\"><th class = \"rowNumber\" style = \"font-weight: bold; text-align: right;\"></th><th title = \"Float64\" style = \"text-align: left;\">Float64</th><th title = \"Float64\" style = \"text-align: left;\">Float64</th><th title = \"Float64\" style = \"text-align: left;\">Float64</th><th title = \"CategoricalArrays.CategoricalValue{String15, UInt32}\" style = \"text-align: left;\">Cat…</th></tr></thead><tbody><tr><td class = \"rowNumber\" style = \"font-weight: bold; text-align: right;\">1</td><td style = \"text-align: right;\">1.65349e5</td><td style = \"text-align: right;\">1.36898e5</td><td style = \"text-align: right;\">4.71784e5</td><td style = \"text-align: left;\">New York</td></tr><tr><td class = \"rowNumber\" style = \"font-weight: bold; text-align: right;\">2</td><td style = \"text-align: right;\">1.62598e5</td><td style = \"text-align: right;\">1.51378e5</td><td style = \"text-align: right;\">4.43899e5</td><td style = \"text-align: left;\">California</td></tr><tr><td class = \"rowNumber\" style = \"font-weight: bold; text-align: right;\">3</td><td style = \"text-align: right;\">1.53442e5</td><td style = \"text-align: right;\">1.01146e5</td><td style = \"text-align: right;\">4.07935e5</td><td style = \"text-align: left;\">Florida</td></tr><tr><td class = \"rowNumber\" style = \"font-weight: bold; text-align: right;\">4</td><td style = \"text-align: right;\">1.44372e5</td><td style = \"text-align: right;\">1.18672e5</td><td style = \"text-align: right;\">3.832e5</td><td style = \"text-align: left;\">New York</td></tr><tr><td class = \"rowNumber\" style = \"font-weight: bold; text-align: right;\">5</td><td style = \"text-align: right;\">1.42107e5</td><td style = \"text-align: right;\">91391.8</td><td style = \"text-align: right;\">3.66168e5</td><td style = \"text-align: left;\">Florida</td></tr><tr><td class = \"rowNumber\" style = \"font-weight: bold; text-align: right;\">6</td><td style = \"text-align: right;\">1.31877e5</td><td style = \"text-align: right;\">99814.7</td><td style = \"text-align: right;\">3.62861e5</td><td style = \"text-align: left;\">New York</td></tr><tr><td class = \"rowNumber\" style = \"font-weight: bold; text-align: right;\">7</td><td style = \"text-align: right;\">1.34615e5</td><td style = \"text-align: right;\">1.47199e5</td><td style = \"text-align: right;\">1.27717e5</td><td style = \"text-align: left;\">California</td></tr><tr><td class = \"rowNumber\" style = \"font-weight: bold; text-align: right;\">8</td><td style = \"text-align: right;\">1.30298e5</td><td style = \"text-align: right;\">1.4553e5</td><td style = \"text-align: right;\">3.23877e5</td><td style = \"text-align: left;\">Florida</td></tr><tr><td class = \"rowNumber\" style = \"font-weight: bold; text-align: right;\">9</td><td style = \"text-align: right;\">1.20543e5</td><td style = \"text-align: right;\">148719.0</td><td style = \"text-align: right;\">3.11613e5</td><td style = \"text-align: left;\">New York</td></tr><tr><td class = \"rowNumber\" style = \"font-weight: bold; text-align: right;\">10</td><td style = \"text-align: right;\">1.23335e5</td><td style = \"text-align: right;\">1.08679e5</td><td style = \"text-align: right;\">3.04982e5</td><td style = \"text-align: left;\">California</td></tr><tr><td class = \"rowNumber\" style = \"font-weight: bold; text-align: right;\">11</td><td style = \"text-align: right;\">1.01913e5</td><td style = \"text-align: right;\">1.10594e5</td><td style = \"text-align: right;\">229161.0</td><td style = \"text-align: left;\">Florida</td></tr><tr><td class = \"rowNumber\" style = \"font-weight: bold; text-align: right;\">12</td><td style = \"text-align: right;\">100672.0</td><td style = \"text-align: right;\">91790.6</td><td style = \"text-align: right;\">2.49745e5</td><td style = \"text-align: left;\">California</td></tr><tr><td class = \"rowNumber\" style = \"font-weight: bold; text-align: right;\">13</td><td style = \"text-align: right;\">93863.8</td><td style = \"text-align: right;\">1.2732e5</td><td style = \"text-align: right;\">2.49839e5</td><td style = \"text-align: left;\">Florida</td></tr><tr><td style = \"text-align: right;\">&vellip;</td><td style = \"text-align: right;\">&vellip;</td><td style = \"text-align: right;\">&vellip;</td><td style = \"text-align: right;\">&vellip;</td><td style = \"text-align: right;\">&vellip;</td></tr><tr><td class = \"rowNumber\" style = \"font-weight: bold; text-align: right;\">39</td><td style = \"text-align: right;\">20229.6</td><td style = \"text-align: right;\">65947.9</td><td style = \"text-align: right;\">1.85265e5</td><td style = \"text-align: left;\">New York</td></tr><tr><td class = \"rowNumber\" style = \"font-weight: bold; text-align: right;\">40</td><td style = \"text-align: right;\">38558.5</td><td style = \"text-align: right;\">82982.1</td><td style = \"text-align: right;\">1.74999e5</td><td style = \"text-align: left;\">California</td></tr><tr><td class = \"rowNumber\" style = \"font-weight: bold; text-align: right;\">41</td><td style = \"text-align: right;\">28754.3</td><td style = \"text-align: right;\">1.18546e5</td><td style = \"text-align: right;\">1.72796e5</td><td style = \"text-align: left;\">California</td></tr><tr><td class = \"rowNumber\" style = \"font-weight: bold; text-align: right;\">42</td><td style = \"text-align: right;\">27892.9</td><td style = \"text-align: right;\">84710.8</td><td style = \"text-align: right;\">1.64471e5</td><td style = \"text-align: left;\">Florida</td></tr><tr><td class = \"rowNumber\" style = \"font-weight: bold; text-align: right;\">43</td><td style = \"text-align: right;\">23640.9</td><td style = \"text-align: right;\">96189.6</td><td style = \"text-align: right;\">1.48001e5</td><td style = \"text-align: left;\">California</td></tr><tr><td class = \"rowNumber\" style = \"font-weight: bold; text-align: right;\">44</td><td style = \"text-align: right;\">15505.7</td><td style = \"text-align: right;\">1.27382e5</td><td style = \"text-align: right;\">35534.2</td><td style = \"text-align: left;\">New York</td></tr><tr><td class = \"rowNumber\" style = \"font-weight: bold; text-align: right;\">45</td><td style = \"text-align: right;\">22177.7</td><td style = \"text-align: right;\">1.54806e5</td><td style = \"text-align: right;\">28334.7</td><td style = \"text-align: left;\">California</td></tr><tr><td class = \"rowNumber\" style = \"font-weight: bold; text-align: right;\">46</td><td style = \"text-align: right;\">1000.23</td><td style = \"text-align: right;\">124153.0</td><td style = \"text-align: right;\">1903.93</td><td style = \"text-align: left;\">New York</td></tr><tr><td class = \"rowNumber\" style = \"font-weight: bold; text-align: right;\">47</td><td style = \"text-align: right;\">1315.46</td><td style = \"text-align: right;\">1.15816e5</td><td style = \"text-align: right;\">2.97114e5</td><td style = \"text-align: left;\">Florida</td></tr><tr><td class = \"rowNumber\" style = \"font-weight: bold; text-align: right;\">48</td><td style = \"text-align: right;\">0.0</td><td style = \"text-align: right;\">1.35427e5</td><td style = \"text-align: right;\">0.0</td><td style = \"text-align: left;\">California</td></tr><tr><td class = \"rowNumber\" style = \"font-weight: bold; text-align: right;\">49</td><td style = \"text-align: right;\">542.05</td><td style = \"text-align: right;\">51743.2</td><td style = \"text-align: right;\">0.0</td><td style = \"text-align: left;\">New York</td></tr><tr><td class = \"rowNumber\" style = \"font-weight: bold; text-align: right;\">50</td><td style = \"text-align: right;\">0.0</td><td style = \"text-align: right;\">1.16984e5</td><td style = \"text-align: right;\">45173.1</td><td style = \"text-align: left;\">California</td></tr></tbody></table></div>"
      ],
      "text/latex": [
       "\\begin{tabular}{r|cccc}\n",
       "\t& rd & admin & spend & state\\\\\n",
       "\t\\hline\n",
       "\t& Float64 & Float64 & Float64 & Cat…\\\\\n",
       "\t\\hline\n",
       "\t1 & 1.65349e5 & 1.36898e5 & 4.71784e5 & New York \\\\\n",
       "\t2 & 1.62598e5 & 1.51378e5 & 4.43899e5 & California \\\\\n",
       "\t3 & 1.53442e5 & 1.01146e5 & 4.07935e5 & Florida \\\\\n",
       "\t4 & 1.44372e5 & 1.18672e5 & 3.832e5 & New York \\\\\n",
       "\t5 & 1.42107e5 & 91391.8 & 3.66168e5 & Florida \\\\\n",
       "\t6 & 1.31877e5 & 99814.7 & 3.62861e5 & New York \\\\\n",
       "\t7 & 1.34615e5 & 1.47199e5 & 1.27717e5 & California \\\\\n",
       "\t8 & 1.30298e5 & 1.4553e5 & 3.23877e5 & Florida \\\\\n",
       "\t9 & 1.20543e5 & 148719.0 & 3.11613e5 & New York \\\\\n",
       "\t10 & 1.23335e5 & 1.08679e5 & 3.04982e5 & California \\\\\n",
       "\t11 & 1.01913e5 & 1.10594e5 & 229161.0 & Florida \\\\\n",
       "\t12 & 100672.0 & 91790.6 & 2.49745e5 & California \\\\\n",
       "\t13 & 93863.8 & 1.2732e5 & 2.49839e5 & Florida \\\\\n",
       "\t14 & 91992.4 & 1.35495e5 & 2.52665e5 & California \\\\\n",
       "\t15 & 1.19943e5 & 1.56547e5 & 2.56513e5 & Florida \\\\\n",
       "\t16 & 1.14524e5 & 1.22617e5 & 2.61776e5 & New York \\\\\n",
       "\t17 & 78013.1 & 1.21598e5 & 2.64346e5 & California \\\\\n",
       "\t18 & 94657.2 & 1.45078e5 & 2.82574e5 & New York \\\\\n",
       "\t19 & 91749.2 & 1.14176e5 & 2.9492e5 & Florida \\\\\n",
       "\t20 & 86419.7 & 1.53514e5 & 0.0 & New York \\\\\n",
       "\t21 & 76253.9 & 1.13867e5 & 2.98664e5 & California \\\\\n",
       "\t22 & 78389.5 & 1.53773e5 & 2.99737e5 & New York \\\\\n",
       "\t23 & 73994.6 & 1.22783e5 & 3.03319e5 & Florida \\\\\n",
       "\t24 & 67532.5 & 105751.0 & 3.04769e5 & Florida \\\\\n",
       "\t25 & 77044.0 & 99281.3 & 1.40575e5 & New York \\\\\n",
       "\t26 & 64664.7 & 1.39553e5 & 1.37963e5 & California \\\\\n",
       "\t27 & 75328.9 & 144136.0 & 1.3405e5 & Florida \\\\\n",
       "\t28 & 72107.6 & 1.27865e5 & 3.53184e5 & New York \\\\\n",
       "\t29 & 66051.5 & 1.82646e5 & 1.18148e5 & Florida \\\\\n",
       "\t30 & 65605.5 & 1.53032e5 & 1.07138e5 & New York \\\\\n",
       "\t$\\dots$ & $\\dots$ & $\\dots$ & $\\dots$ & $\\dots$ \\\\\n",
       "\\end{tabular}\n"
      ],
      "text/plain": [
       "\u001b[1m50×4 DataFrame\u001b[0m\n",
       "\u001b[1m Row \u001b[0m│\u001b[1m rd             \u001b[0m\u001b[1m admin          \u001b[0m\u001b[1m spend          \u001b[0m\u001b[1m state      \u001b[0m\n",
       "     │\u001b[90m Float64        \u001b[0m\u001b[90m Float64        \u001b[0m\u001b[90m Float64        \u001b[0m\u001b[90m Cat…       \u001b[0m\n",
       "─────┼────────────────────────────────────────────────────────────\n",
       "   1 │      1.65349e5       1.36898e5       4.71784e5  New York\n",
       "   2 │      1.62598e5       1.51378e5       4.43899e5  California\n",
       "   3 │      1.53442e5       1.01146e5       4.07935e5  Florida\n",
       "   4 │      1.44372e5       1.18672e5       3.832e5    New York\n",
       "   5 │      1.42107e5   91391.8             3.66168e5  Florida\n",
       "   6 │      1.31877e5   99814.7             3.62861e5  New York\n",
       "   7 │      1.34615e5       1.47199e5       1.27717e5  California\n",
       "   8 │      1.30298e5       1.4553e5        3.23877e5  Florida\n",
       "   9 │      1.20543e5  148719.0             3.11613e5  New York\n",
       "  10 │      1.23335e5       1.08679e5       3.04982e5  California\n",
       "  11 │      1.01913e5       1.10594e5  229161.0        Florida\n",
       "  ⋮  │       ⋮               ⋮               ⋮             ⋮\n",
       "  41 │  28754.3             1.18546e5       1.72796e5  California\n",
       "  42 │  27892.9         84710.8             1.64471e5  Florida\n",
       "  43 │  23640.9         96189.6             1.48001e5  California\n",
       "  44 │  15505.7             1.27382e5   35534.2        New York\n",
       "  45 │  22177.7             1.54806e5   28334.7        California\n",
       "  46 │   1000.23       124153.0          1903.93       New York\n",
       "  47 │   1315.46            1.15816e5       2.97114e5  Florida\n",
       "  48 │      0.0             1.35427e5       0.0        California\n",
       "  49 │    542.05        51743.2             0.0        New York\n",
       "  50 │      0.0             1.16984e5   45173.1        California\n",
       "\u001b[36m                                                   29 rows omitted\u001b[0m"
      ]
     },
     "execution_count": 5,
     "metadata": {},
     "output_type": "execute_result"
    }
   ],
   "source": [
    "X = df[!, 1:4]\n",
    "colnames = [\"rd\", \"admin\", \"spend\", \"state\"]\n",
    "rename!(X, Symbol.(colnames))\n",
    "coerce!(X, :state => Multiclass)"
   ]
  },
  {
   "cell_type": "markdown",
   "id": "8912e08a-8671-4329-a776-7cfad1f163bf",
   "metadata": {},
   "source": [
    "Encoding the state column"
   ]
  },
  {
   "cell_type": "code",
   "execution_count": 6,
   "id": "251fc5df-5326-4ae8-9fce-ae6712517b91",
   "metadata": {},
   "outputs": [
    {
     "name": "stderr",
     "output_type": "stream",
     "text": [
      "\u001b[36m\u001b[1m[ \u001b[22m\u001b[39m\u001b[36m\u001b[1mInfo: \u001b[22m\u001b[39mTraining machine(ContinuousEncoder(drop_last = false, …), …).\n"
     ]
    },
    {
     "data": {
      "text/html": [
       "<div><div style = \"float: left;\"><span>50×6 DataFrame</span></div><div style = \"float: right;\"><span style = \"font-style: italic;\">25 rows omitted</span></div><div style = \"clear: both;\"></div></div><div class = \"data-frame\" style = \"overflow-x: scroll;\"><table class = \"data-frame\" style = \"margin-bottom: 6px;\"><thead><tr class = \"header\"><th class = \"rowNumber\" style = \"font-weight: bold; text-align: right;\">Row</th><th style = \"text-align: left;\">rd</th><th style = \"text-align: left;\">admin</th><th style = \"text-align: left;\">spend</th><th style = \"text-align: left;\">state__California</th><th style = \"text-align: left;\">state__Florida</th><th style = \"text-align: left;\">state__New York</th></tr><tr class = \"subheader headerLastRow\"><th class = \"rowNumber\" style = \"font-weight: bold; text-align: right;\"></th><th title = \"Float64\" style = \"text-align: left;\">Float64</th><th title = \"Float64\" style = \"text-align: left;\">Float64</th><th title = \"Float64\" style = \"text-align: left;\">Float64</th><th title = \"Float64\" style = \"text-align: left;\">Float64</th><th title = \"Float64\" style = \"text-align: left;\">Float64</th><th title = \"Float64\" style = \"text-align: left;\">Float64</th></tr></thead><tbody><tr><td class = \"rowNumber\" style = \"font-weight: bold; text-align: right;\">1</td><td style = \"text-align: right;\">1.65349e5</td><td style = \"text-align: right;\">1.36898e5</td><td style = \"text-align: right;\">4.71784e5</td><td style = \"text-align: right;\">0.0</td><td style = \"text-align: right;\">0.0</td><td style = \"text-align: right;\">1.0</td></tr><tr><td class = \"rowNumber\" style = \"font-weight: bold; text-align: right;\">2</td><td style = \"text-align: right;\">1.62598e5</td><td style = \"text-align: right;\">1.51378e5</td><td style = \"text-align: right;\">4.43899e5</td><td style = \"text-align: right;\">1.0</td><td style = \"text-align: right;\">0.0</td><td style = \"text-align: right;\">0.0</td></tr><tr><td class = \"rowNumber\" style = \"font-weight: bold; text-align: right;\">3</td><td style = \"text-align: right;\">1.53442e5</td><td style = \"text-align: right;\">1.01146e5</td><td style = \"text-align: right;\">4.07935e5</td><td style = \"text-align: right;\">0.0</td><td style = \"text-align: right;\">1.0</td><td style = \"text-align: right;\">0.0</td></tr><tr><td class = \"rowNumber\" style = \"font-weight: bold; text-align: right;\">4</td><td style = \"text-align: right;\">1.44372e5</td><td style = \"text-align: right;\">1.18672e5</td><td style = \"text-align: right;\">3.832e5</td><td style = \"text-align: right;\">0.0</td><td style = \"text-align: right;\">0.0</td><td style = \"text-align: right;\">1.0</td></tr><tr><td class = \"rowNumber\" style = \"font-weight: bold; text-align: right;\">5</td><td style = \"text-align: right;\">1.42107e5</td><td style = \"text-align: right;\">91391.8</td><td style = \"text-align: right;\">3.66168e5</td><td style = \"text-align: right;\">0.0</td><td style = \"text-align: right;\">1.0</td><td style = \"text-align: right;\">0.0</td></tr><tr><td class = \"rowNumber\" style = \"font-weight: bold; text-align: right;\">6</td><td style = \"text-align: right;\">1.31877e5</td><td style = \"text-align: right;\">99814.7</td><td style = \"text-align: right;\">3.62861e5</td><td style = \"text-align: right;\">0.0</td><td style = \"text-align: right;\">0.0</td><td style = \"text-align: right;\">1.0</td></tr><tr><td class = \"rowNumber\" style = \"font-weight: bold; text-align: right;\">7</td><td style = \"text-align: right;\">1.34615e5</td><td style = \"text-align: right;\">1.47199e5</td><td style = \"text-align: right;\">1.27717e5</td><td style = \"text-align: right;\">1.0</td><td style = \"text-align: right;\">0.0</td><td style = \"text-align: right;\">0.0</td></tr><tr><td class = \"rowNumber\" style = \"font-weight: bold; text-align: right;\">8</td><td style = \"text-align: right;\">1.30298e5</td><td style = \"text-align: right;\">1.4553e5</td><td style = \"text-align: right;\">3.23877e5</td><td style = \"text-align: right;\">0.0</td><td style = \"text-align: right;\">1.0</td><td style = \"text-align: right;\">0.0</td></tr><tr><td class = \"rowNumber\" style = \"font-weight: bold; text-align: right;\">9</td><td style = \"text-align: right;\">1.20543e5</td><td style = \"text-align: right;\">148719.0</td><td style = \"text-align: right;\">3.11613e5</td><td style = \"text-align: right;\">0.0</td><td style = \"text-align: right;\">0.0</td><td style = \"text-align: right;\">1.0</td></tr><tr><td class = \"rowNumber\" style = \"font-weight: bold; text-align: right;\">10</td><td style = \"text-align: right;\">1.23335e5</td><td style = \"text-align: right;\">1.08679e5</td><td style = \"text-align: right;\">3.04982e5</td><td style = \"text-align: right;\">1.0</td><td style = \"text-align: right;\">0.0</td><td style = \"text-align: right;\">0.0</td></tr><tr><td class = \"rowNumber\" style = \"font-weight: bold; text-align: right;\">11</td><td style = \"text-align: right;\">1.01913e5</td><td style = \"text-align: right;\">1.10594e5</td><td style = \"text-align: right;\">229161.0</td><td style = \"text-align: right;\">0.0</td><td style = \"text-align: right;\">1.0</td><td style = \"text-align: right;\">0.0</td></tr><tr><td class = \"rowNumber\" style = \"font-weight: bold; text-align: right;\">12</td><td style = \"text-align: right;\">100672.0</td><td style = \"text-align: right;\">91790.6</td><td style = \"text-align: right;\">2.49745e5</td><td style = \"text-align: right;\">1.0</td><td style = \"text-align: right;\">0.0</td><td style = \"text-align: right;\">0.0</td></tr><tr><td class = \"rowNumber\" style = \"font-weight: bold; text-align: right;\">13</td><td style = \"text-align: right;\">93863.8</td><td style = \"text-align: right;\">1.2732e5</td><td style = \"text-align: right;\">2.49839e5</td><td style = \"text-align: right;\">0.0</td><td style = \"text-align: right;\">1.0</td><td style = \"text-align: right;\">0.0</td></tr><tr><td style = \"text-align: right;\">&vellip;</td><td style = \"text-align: right;\">&vellip;</td><td style = \"text-align: right;\">&vellip;</td><td style = \"text-align: right;\">&vellip;</td><td style = \"text-align: right;\">&vellip;</td><td style = \"text-align: right;\">&vellip;</td><td style = \"text-align: right;\">&vellip;</td></tr><tr><td class = \"rowNumber\" style = \"font-weight: bold; text-align: right;\">39</td><td style = \"text-align: right;\">20229.6</td><td style = \"text-align: right;\">65947.9</td><td style = \"text-align: right;\">1.85265e5</td><td style = \"text-align: right;\">0.0</td><td style = \"text-align: right;\">0.0</td><td style = \"text-align: right;\">1.0</td></tr><tr><td class = \"rowNumber\" style = \"font-weight: bold; text-align: right;\">40</td><td style = \"text-align: right;\">38558.5</td><td style = \"text-align: right;\">82982.1</td><td style = \"text-align: right;\">1.74999e5</td><td style = \"text-align: right;\">1.0</td><td style = \"text-align: right;\">0.0</td><td style = \"text-align: right;\">0.0</td></tr><tr><td class = \"rowNumber\" style = \"font-weight: bold; text-align: right;\">41</td><td style = \"text-align: right;\">28754.3</td><td style = \"text-align: right;\">1.18546e5</td><td style = \"text-align: right;\">1.72796e5</td><td style = \"text-align: right;\">1.0</td><td style = \"text-align: right;\">0.0</td><td style = \"text-align: right;\">0.0</td></tr><tr><td class = \"rowNumber\" style = \"font-weight: bold; text-align: right;\">42</td><td style = \"text-align: right;\">27892.9</td><td style = \"text-align: right;\">84710.8</td><td style = \"text-align: right;\">1.64471e5</td><td style = \"text-align: right;\">0.0</td><td style = \"text-align: right;\">1.0</td><td style = \"text-align: right;\">0.0</td></tr><tr><td class = \"rowNumber\" style = \"font-weight: bold; text-align: right;\">43</td><td style = \"text-align: right;\">23640.9</td><td style = \"text-align: right;\">96189.6</td><td style = \"text-align: right;\">1.48001e5</td><td style = \"text-align: right;\">1.0</td><td style = \"text-align: right;\">0.0</td><td style = \"text-align: right;\">0.0</td></tr><tr><td class = \"rowNumber\" style = \"font-weight: bold; text-align: right;\">44</td><td style = \"text-align: right;\">15505.7</td><td style = \"text-align: right;\">1.27382e5</td><td style = \"text-align: right;\">35534.2</td><td style = \"text-align: right;\">0.0</td><td style = \"text-align: right;\">0.0</td><td style = \"text-align: right;\">1.0</td></tr><tr><td class = \"rowNumber\" style = \"font-weight: bold; text-align: right;\">45</td><td style = \"text-align: right;\">22177.7</td><td style = \"text-align: right;\">1.54806e5</td><td style = \"text-align: right;\">28334.7</td><td style = \"text-align: right;\">1.0</td><td style = \"text-align: right;\">0.0</td><td style = \"text-align: right;\">0.0</td></tr><tr><td class = \"rowNumber\" style = \"font-weight: bold; text-align: right;\">46</td><td style = \"text-align: right;\">1000.23</td><td style = \"text-align: right;\">124153.0</td><td style = \"text-align: right;\">1903.93</td><td style = \"text-align: right;\">0.0</td><td style = \"text-align: right;\">0.0</td><td style = \"text-align: right;\">1.0</td></tr><tr><td class = \"rowNumber\" style = \"font-weight: bold; text-align: right;\">47</td><td style = \"text-align: right;\">1315.46</td><td style = \"text-align: right;\">1.15816e5</td><td style = \"text-align: right;\">2.97114e5</td><td style = \"text-align: right;\">0.0</td><td style = \"text-align: right;\">1.0</td><td style = \"text-align: right;\">0.0</td></tr><tr><td class = \"rowNumber\" style = \"font-weight: bold; text-align: right;\">48</td><td style = \"text-align: right;\">0.0</td><td style = \"text-align: right;\">1.35427e5</td><td style = \"text-align: right;\">0.0</td><td style = \"text-align: right;\">1.0</td><td style = \"text-align: right;\">0.0</td><td style = \"text-align: right;\">0.0</td></tr><tr><td class = \"rowNumber\" style = \"font-weight: bold; text-align: right;\">49</td><td style = \"text-align: right;\">542.05</td><td style = \"text-align: right;\">51743.2</td><td style = \"text-align: right;\">0.0</td><td style = \"text-align: right;\">0.0</td><td style = \"text-align: right;\">0.0</td><td style = \"text-align: right;\">1.0</td></tr><tr><td class = \"rowNumber\" style = \"font-weight: bold; text-align: right;\">50</td><td style = \"text-align: right;\">0.0</td><td style = \"text-align: right;\">1.16984e5</td><td style = \"text-align: right;\">45173.1</td><td style = \"text-align: right;\">1.0</td><td style = \"text-align: right;\">0.0</td><td style = \"text-align: right;\">0.0</td></tr></tbody></table></div>"
      ],
      "text/latex": [
       "\\begin{tabular}{r|cccccc}\n",
       "\t& rd & admin & spend & state\\_\\_California & state\\_\\_Florida & state\\_\\_New York\\\\\n",
       "\t\\hline\n",
       "\t& Float64 & Float64 & Float64 & Float64 & Float64 & Float64\\\\\n",
       "\t\\hline\n",
       "\t1 & 1.65349e5 & 1.36898e5 & 4.71784e5 & 0.0 & 0.0 & 1.0 \\\\\n",
       "\t2 & 1.62598e5 & 1.51378e5 & 4.43899e5 & 1.0 & 0.0 & 0.0 \\\\\n",
       "\t3 & 1.53442e5 & 1.01146e5 & 4.07935e5 & 0.0 & 1.0 & 0.0 \\\\\n",
       "\t4 & 1.44372e5 & 1.18672e5 & 3.832e5 & 0.0 & 0.0 & 1.0 \\\\\n",
       "\t5 & 1.42107e5 & 91391.8 & 3.66168e5 & 0.0 & 1.0 & 0.0 \\\\\n",
       "\t6 & 1.31877e5 & 99814.7 & 3.62861e5 & 0.0 & 0.0 & 1.0 \\\\\n",
       "\t7 & 1.34615e5 & 1.47199e5 & 1.27717e5 & 1.0 & 0.0 & 0.0 \\\\\n",
       "\t8 & 1.30298e5 & 1.4553e5 & 3.23877e5 & 0.0 & 1.0 & 0.0 \\\\\n",
       "\t9 & 1.20543e5 & 148719.0 & 3.11613e5 & 0.0 & 0.0 & 1.0 \\\\\n",
       "\t10 & 1.23335e5 & 1.08679e5 & 3.04982e5 & 1.0 & 0.0 & 0.0 \\\\\n",
       "\t11 & 1.01913e5 & 1.10594e5 & 229161.0 & 0.0 & 1.0 & 0.0 \\\\\n",
       "\t12 & 100672.0 & 91790.6 & 2.49745e5 & 1.0 & 0.0 & 0.0 \\\\\n",
       "\t13 & 93863.8 & 1.2732e5 & 2.49839e5 & 0.0 & 1.0 & 0.0 \\\\\n",
       "\t14 & 91992.4 & 1.35495e5 & 2.52665e5 & 1.0 & 0.0 & 0.0 \\\\\n",
       "\t15 & 1.19943e5 & 1.56547e5 & 2.56513e5 & 0.0 & 1.0 & 0.0 \\\\\n",
       "\t16 & 1.14524e5 & 1.22617e5 & 2.61776e5 & 0.0 & 0.0 & 1.0 \\\\\n",
       "\t17 & 78013.1 & 1.21598e5 & 2.64346e5 & 1.0 & 0.0 & 0.0 \\\\\n",
       "\t18 & 94657.2 & 1.45078e5 & 2.82574e5 & 0.0 & 0.0 & 1.0 \\\\\n",
       "\t19 & 91749.2 & 1.14176e5 & 2.9492e5 & 0.0 & 1.0 & 0.0 \\\\\n",
       "\t20 & 86419.7 & 1.53514e5 & 0.0 & 0.0 & 0.0 & 1.0 \\\\\n",
       "\t21 & 76253.9 & 1.13867e5 & 2.98664e5 & 1.0 & 0.0 & 0.0 \\\\\n",
       "\t22 & 78389.5 & 1.53773e5 & 2.99737e5 & 0.0 & 0.0 & 1.0 \\\\\n",
       "\t23 & 73994.6 & 1.22783e5 & 3.03319e5 & 0.0 & 1.0 & 0.0 \\\\\n",
       "\t24 & 67532.5 & 105751.0 & 3.04769e5 & 0.0 & 1.0 & 0.0 \\\\\n",
       "\t25 & 77044.0 & 99281.3 & 1.40575e5 & 0.0 & 0.0 & 1.0 \\\\\n",
       "\t26 & 64664.7 & 1.39553e5 & 1.37963e5 & 1.0 & 0.0 & 0.0 \\\\\n",
       "\t27 & 75328.9 & 144136.0 & 1.3405e5 & 0.0 & 1.0 & 0.0 \\\\\n",
       "\t28 & 72107.6 & 1.27865e5 & 3.53184e5 & 0.0 & 0.0 & 1.0 \\\\\n",
       "\t29 & 66051.5 & 1.82646e5 & 1.18148e5 & 0.0 & 1.0 & 0.0 \\\\\n",
       "\t30 & 65605.5 & 1.53032e5 & 1.07138e5 & 0.0 & 0.0 & 1.0 \\\\\n",
       "\t$\\dots$ & $\\dots$ & $\\dots$ & $\\dots$ & $\\dots$ & $\\dots$ & $\\dots$ \\\\\n",
       "\\end{tabular}\n"
      ],
      "text/plain": [
       "\u001b[1m50×6 DataFrame\u001b[0m\n",
       "\u001b[1m Row \u001b[0m│\u001b[1m rd             \u001b[0m\u001b[1m admin          \u001b[0m\u001b[1m spend          \u001b[0m\u001b[1m state__California \u001b[0m\u001b[1m stat\u001b[0m ⋯\n",
       "     │\u001b[90m Float64        \u001b[0m\u001b[90m Float64        \u001b[0m\u001b[90m Float64        \u001b[0m\u001b[90m Float64           \u001b[0m\u001b[90m Floa\u001b[0m ⋯\n",
       "─────┼──────────────────────────────────────────────────────────────────────────\n",
       "   1 │      1.65349e5       1.36898e5       4.71784e5                0.0       ⋯\n",
       "   2 │      1.62598e5       1.51378e5       4.43899e5                1.0\n",
       "   3 │      1.53442e5       1.01146e5       4.07935e5                0.0\n",
       "   4 │      1.44372e5       1.18672e5       3.832e5                  0.0\n",
       "   5 │      1.42107e5   91391.8             3.66168e5                0.0       ⋯\n",
       "   6 │      1.31877e5   99814.7             3.62861e5                0.0\n",
       "   7 │      1.34615e5       1.47199e5       1.27717e5                1.0\n",
       "   8 │      1.30298e5       1.4553e5        3.23877e5                0.0\n",
       "   9 │      1.20543e5  148719.0             3.11613e5                0.0       ⋯\n",
       "  10 │      1.23335e5       1.08679e5       3.04982e5                1.0\n",
       "  11 │      1.01913e5       1.10594e5  229161.0                      0.0\n",
       "  ⋮  │       ⋮               ⋮               ⋮                 ⋮               ⋱\n",
       "  41 │  28754.3             1.18546e5       1.72796e5                1.0\n",
       "  42 │  27892.9         84710.8             1.64471e5                0.0       ⋯\n",
       "  43 │  23640.9         96189.6             1.48001e5                1.0\n",
       "  44 │  15505.7             1.27382e5   35534.2                      0.0\n",
       "  45 │  22177.7             1.54806e5   28334.7                      1.0\n",
       "  46 │   1000.23       124153.0          1903.93                     0.0       ⋯\n",
       "  47 │   1315.46            1.15816e5       2.97114e5                0.0\n",
       "  48 │      0.0             1.35427e5       0.0                      1.0\n",
       "  49 │    542.05        51743.2             0.0                      0.0\n",
       "  50 │      0.0             1.16984e5   45173.1                      1.0       ⋯\n",
       "\u001b[36m                                                   2 columns and 29 rows omitted\u001b[0m"
      ]
     },
     "execution_count": 6,
     "metadata": {},
     "output_type": "execute_result"
    }
   ],
   "source": [
    "ce = ContinuousEncoder()\n",
    "X = machine(ce, X) |> fit! |> MLJ.transform"
   ]
  },
  {
   "cell_type": "markdown",
   "id": "af79cd21-ee1d-4fc4-ad85-e89dc7160382",
   "metadata": {},
   "source": [
    "Extract target vector"
   ]
  },
  {
   "cell_type": "code",
   "execution_count": 7,
   "id": "fc67e087-b125-4079-b547-0b773dc95e3c",
   "metadata": {},
   "outputs": [
    {
     "data": {
      "text/plain": [
       "50-element Vector{Float64}:\n",
       " 192261.83\n",
       " 191792.06\n",
       " 191050.39\n",
       " 182901.99\n",
       " 166187.94\n",
       " 156991.12\n",
       " 156122.51\n",
       " 155752.6\n",
       " 152211.77\n",
       " 149759.96\n",
       " 146121.95\n",
       " 144259.4\n",
       " 141585.52\n",
       "      ⋮\n",
       "  81229.06\n",
       "  81005.76\n",
       "  78239.91\n",
       "  77798.83\n",
       "  71498.49\n",
       "  69758.98\n",
       "  65200.33\n",
       "  64926.08\n",
       "  49490.75\n",
       "  42559.73\n",
       "  35673.41\n",
       "  14681.4"
      ]
     },
     "execution_count": 7,
     "metadata": {},
     "output_type": "execute_result"
    }
   ],
   "source": [
    "y = df.Profit"
   ]
  },
  {
   "cell_type": "markdown",
   "id": "19178218-3b4a-4c8c-98a2-edb981b2c866",
   "metadata": {},
   "source": [
    "Preparing for the split"
   ]
  },
  {
   "cell_type": "code",
   "execution_count": 8,
   "id": "f2a2b8c6-bd80-40d0-9b7f-1941da263a64",
   "metadata": {},
   "outputs": [
    {
     "data": {
      "text/plain": [
       "([141585.52, 192261.83, 81005.76, 156991.12, 96778.92, 69758.98, 78239.91, 96712.8, 14681.4, 125370.37  …  134307.35, 182901.99, 129917.04, 71498.49, 77798.83, 191050.39, 99937.59, 108552.04, 42559.73, 132602.65], [166187.94, 35673.41, 105008.31, 107404.34, 126992.93, 118474.03, 105733.54, 124266.9, 146121.95, 96479.51])"
      ]
     },
     "execution_count": 8,
     "metadata": {},
     "output_type": "execute_result"
    }
   ],
   "source": [
    "train, test = partition(eachindex(y), 0.8, shuffle=true, rng=123)\n",
    "Xtrain, Xtest = X[train, :], X[test, :]\n",
    "ytrain, ytest = y[train], y[test]"
   ]
  },
  {
   "cell_type": "markdown",
   "id": "8b3a3e1e-f845-43c5-bf5e-250e84720c0b",
   "metadata": {},
   "source": [
    "Load & instantiate the decision tree regression model"
   ]
  },
  {
   "cell_type": "code",
   "execution_count": 9,
   "id": "435704cd-efaf-4cd3-92a9-b1ebb592e87a",
   "metadata": {},
   "outputs": [
    {
     "name": "stderr",
     "output_type": "stream",
     "text": [
      "\u001b[36m\u001b[1m[ \u001b[22m\u001b[39m\u001b[36m\u001b[1mInfo: \u001b[22m\u001b[39mFor silent loading, specify `verbosity=0`. \n"
     ]
    },
    {
     "name": "stdout",
     "output_type": "stream",
     "text": [
      "import MLJDecisionTreeInterface ✔\n"
     ]
    },
    {
     "data": {
      "text/plain": [
       "MLJDecisionTreeInterface.DecisionTreeRegressor"
      ]
     },
     "execution_count": 9,
     "metadata": {},
     "output_type": "execute_result"
    }
   ],
   "source": [
    "DTR = @load DecisionTreeRegressor pkg=DecisionTree"
   ]
  },
  {
   "cell_type": "code",
   "execution_count": 10,
   "id": "220c37b4-6b74-47b7-8324-56edb4e2182e",
   "metadata": {},
   "outputs": [
    {
     "data": {
      "text/plain": [
       "DecisionTreeRegressor(\n",
       "  max_depth = 5, \n",
       "  min_samples_leaf = 5, \n",
       "  min_samples_split = 3, \n",
       "  min_purity_increase = 0.0, \n",
       "  n_subfeatures = 0, \n",
       "  post_prune = false, \n",
       "  merge_purity_threshold = 1.0, \n",
       "  feature_importance = :impurity, \n",
       "  rng = Random.TaskLocalRNG())"
      ]
     },
     "execution_count": 10,
     "metadata": {},
     "output_type": "execute_result"
    }
   ],
   "source": [
    "dtr_ = DTR(max_depth=5, min_samples_split=3)"
   ]
  },
  {
   "cell_type": "markdown",
   "id": "80c3fd1c-e97d-4c02-abe6-bc185103de82",
   "metadata": {},
   "source": [
    "You may want to see [DecisionTree.jl](https://github.com/bensadeghi/DecisionTree.jl) and the unwrapped model type [`MLJDecisionTreeInterface.DecisionTree.DecisionTreeRegressor`](@ref)."
   ]
  },
  {
   "cell_type": "markdown",
   "id": "72d3048c-3fd0-4473-80ed-dc1bb813f539",
   "metadata": {},
   "source": [
    "Train & fit"
   ]
  },
  {
   "cell_type": "code",
   "execution_count": 11,
   "id": "819e7c5c-8b7e-4221-84ed-d0026e5f1d3f",
   "metadata": {},
   "outputs": [
    {
     "name": "stderr",
     "output_type": "stream",
     "text": [
      "\u001b[36m\u001b[1m[ \u001b[22m\u001b[39m\u001b[36m\u001b[1mInfo: \u001b[22m\u001b[39mTraining machine(DecisionTreeRegressor(max_depth = 5, …), …).\n"
     ]
    },
    {
     "data": {
      "text/plain": [
       "trained Machine; caches model-specific representations of data\n",
       "  model: DecisionTreeRegressor(max_depth = 5, …)\n",
       "  args: \n",
       "    1:\tSource @628 ⏎ Table{AbstractVector{Continuous}}\n",
       "    2:\tSource @829 ⏎ AbstractVector{Continuous}\n"
      ]
     },
     "execution_count": 11,
     "metadata": {},
     "output_type": "execute_result"
    }
   ],
   "source": [
    "dtr = machine(dtr_, Xtrain, ytrain) |> fit!"
   ]
  },
  {
   "cell_type": "code",
   "execution_count": 12,
   "id": "abce80b2-a892-4561-9c81-883e2245bf05",
   "metadata": {},
   "outputs": [
    {
     "name": "stdout",
     "output_type": "stream",
     "text": [
      "Params of fitted model are DecisionTree.InfoNode{Float64, Float64}(Decision Tree\n",
      "Leaves: 7\n",
      "Depth:  4, nchildren=2)\n"
     ]
    }
   ],
   "source": [
    "println(\"Params of fitted model are $(fitted_params(dtr).tree)\")"
   ]
  },
  {
   "cell_type": "markdown",
   "id": "c210d3ba-0e5c-4aca-97f7-b7144ffbbac6",
   "metadata": {},
   "source": [
    "Prediction"
   ]
  },
  {
   "cell_type": "code",
   "execution_count": 13,
   "id": "44acdb27-3e76-4347-94b4-269aab279747",
   "metadata": {},
   "outputs": [
    {
     "data": {
      "text/plain": [
       "10-element Vector{Float64}:\n",
       " 182999.478\n",
       "  59682.62777777778\n",
       " 108446.73599999999\n",
       "  98526.50999999998\n",
       " 108446.73599999999\n",
       " 108446.73599999999\n",
       " 108446.73599999999\n",
       " 133036.09\n",
       " 133036.09\n",
       "  87323.16"
      ]
     },
     "execution_count": 13,
     "metadata": {},
     "output_type": "execute_result"
    }
   ],
   "source": [
    "yhat_dtr = predict(dtr, Xtest)"
   ]
  },
  {
   "cell_type": "markdown",
   "id": "2a904c07-f563-4689-8bd1-a0caa09a7612",
   "metadata": {},
   "source": [
    "Results & metrics"
   ]
  },
  {
   "cell_type": "code",
   "execution_count": 14,
   "id": "353e91bc-e598-4555-bcb3-99dd9484eadf",
   "metadata": {},
   "outputs": [
    {
     "name": "stdout",
     "output_type": "stream",
     "text": [
      "Error is 1.733555526993269e8\n"
     ]
    }
   ],
   "source": [
    "println(\"Error is $(sum((yhat_dtr .- ytest).^2) ./ length(ytest))\")"
   ]
  }
 ],
 "metadata": {
  "kernelspec": {
   "display_name": "Julia 1.11.4",
   "language": "julia",
   "name": "julia-1.11"
  },
  "language_info": {
   "file_extension": ".jl",
   "mimetype": "application/julia",
   "name": "julia",
   "version": "1.11.4"
  }
 },
 "nbformat": 4,
 "nbformat_minor": 5
}
