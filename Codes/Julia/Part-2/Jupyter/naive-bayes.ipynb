{
 "cells": [
  {
   "cell_type": "markdown",
   "id": "d0ce594f-a5e3-4371-9822-2fbb50025e5c",
   "metadata": {},
   "source": [
    "# Naive Bayes"
   ]
  },
  {
   "cell_type": "code",
   "execution_count": 1,
   "id": "9f297fec-e74b-483d-8b0a-dfca60891153",
   "metadata": {},
   "outputs": [
    {
     "name": "stdout",
     "output_type": "stream",
     "text": [
      "Julia Version 1.11.4\n",
      "Commit 8561cc3d68d (2025-03-10 11:36 UTC)\n",
      "Build Info:\n",
      "  Official https://julialang.org/ release\n",
      "Platform Info:\n",
      "  OS: Linux (x86_64-linux-gnu)\n",
      "  CPU: 8 × Intel(R) Core(TM) i7-8565U CPU @ 1.80GHz\n",
      "  WORD_SIZE: 64\n",
      "  LLVM: libLLVM-16.0.6 (ORCJIT, skylake)\n",
      "Threads: 8 default, 0 interactive, 4 GC (on 8 virtual cores)\n",
      "Environment:\n",
      "  LD_LIBRARY_PATH = /home/mhamdi/torch/install/lib:/home/mhamdi/torch/install/lib:/home/mhamdi/torch/install/lib:\n",
      "  DYLD_LIBRARY_PATH = /home/mhamdi/torch/install/lib:/home/mhamdi/torch/install/lib:/home/mhamdi/torch/install/lib:\n",
      "  JULIA_NUM_THREADS = 8\n"
     ]
    }
   ],
   "source": [
    "versioninfo()"
   ]
  },
  {
   "cell_type": "code",
   "execution_count": 2,
   "id": "62c7cd59-5215-407e-8565-3edaf466be8b",
   "metadata": {},
   "outputs": [
    {
     "name": "stderr",
     "output_type": "stream",
     "text": [
      "\u001b[32m\u001b[1m  Activating\u001b[22m\u001b[39m project at `~/Work/git-repos/AI-ML-DL/jlai/Codes/Julia/Part-2`\n"
     ]
    }
   ],
   "source": [
    "using Pkg; pkg\"activate ..\""
   ]
  },
  {
   "cell_type": "code",
   "execution_count": 3,
   "id": "461e8838-6db7-4a34-a423-3fde49f71b96",
   "metadata": {},
   "outputs": [],
   "source": [
    "using MLJ"
   ]
  },
  {
   "cell_type": "code",
   "execution_count": 4,
   "id": "91872150-61c1-4545-8bb2-c0a0a68a7768",
   "metadata": {},
   "outputs": [],
   "source": [
    "import Languages, TextAnalysis"
   ]
  },
  {
   "cell_type": "code",
   "execution_count": 5,
   "id": "0c3e3c25-67b4-4c39-8ce0-6d540bc2bd12",
   "metadata": {},
   "outputs": [
    {
     "data": {
      "text/plain": [
       "15-element Vector{Vector{String}}:\n",
       " [\"I am furious! This is unacceptable.\", \"Negative\"]\n",
       " [\"Could you assist me with this problem? I'd appreciate it.\", \"Positive\"]\n",
       " [\"My coworker ignored me again. I hate this place.\", \"Negative\"]\n",
       " [\"The manager offered support. That was kind of her.\", \"Positive\"]\n",
       " [\"Thanks for your patience. You’re very understanding.\", \"Positive\"]\n",
       " [\"This is a disaster! Everything is going wrong.\", \"Negative\"]\n",
       " [\"The team handled the project well. Good job!\", \"Positive\"]\n",
       " [\"I’m so annoyed. Nobody ever helps me.\", \"Negative\"]\n",
       " [\"She gave me great advice. I’m grateful.\", \"Positive\"]\n",
       " [\"Why does this always happen? I’m done with this.\", \"Negative\"]\n",
       " [\"Your guidance was excellent. Thank you!\", \"Positive\"]\n",
       " [\"He yelled at me for no reason. So unfair.\", \"Negative\"]\n",
       " [\"The meeting went smoothly. No issues at all.\", \"Neutral\"]\n",
       " [\"I’m really happy with the results. Well done!\", \"Positive\"]\n",
       " [\"This company is terrible. I regret joining.\", \"Negative\"]"
      ]
     },
     "execution_count": 5,
     "metadata": {},
     "output_type": "execute_result"
    }
   ],
   "source": [
    "reviews = [\n",
    "    [\"I am furious! This is unacceptable.\", \"Negative\"],\n",
    "    [\"Could you assist me with this problem? I'd appreciate it.\", \"Positive\"],\n",
    "    [\"My coworker ignored me again. I hate this place.\", \"Negative\"],\n",
    "    [\"The manager offered support. That was kind of her.\", \"Positive\"],\n",
    "    [\"Thanks for your patience. You’re very understanding.\", \"Positive\"],\n",
    "    [\"This is a disaster! Everything is going wrong.\", \"Negative\"],\n",
    "    [\"The team handled the project well. Good job!\", \"Positive\"],\n",
    "    [\"I’m so annoyed. Nobody ever helps me.\", \"Negative\"],\n",
    "    [\"She gave me great advice. I’m grateful.\", \"Positive\"],\n",
    "    [\"Why does this always happen? I’m done with this.\", \"Negative\"],\n",
    "    [\"Your guidance was excellent. Thank you!\", \"Positive\"],\n",
    "    [\"He yelled at me for no reason. So unfair.\", \"Negative\"],\n",
    "    [\"The meeting went smoothly. No issues at all.\", \"Neutral\"],\n",
    "    [\"I’m really happy with the results. Well done!\", \"Positive\"],\n",
    "    [\"This company is terrible. I regret joining.\", \"Negative\"],\n",
    "]"
   ]
  },
  {
   "cell_type": "code",
   "execution_count": 6,
   "id": "b3e677c2-9835-4b62-bc26-469cfa1241a0",
   "metadata": {},
   "outputs": [
    {
     "data": {
      "text/plain": [
       "([10, 6, 14, 9, 12, 5, 2, 13, 3, 4, 8, 15], [7, 1, 11])"
      ]
     },
     "execution_count": 6,
     "metadata": {},
     "output_type": "execute_result"
    }
   ],
   "source": [
    "train, test = partition(1:length(reviews), .8; shuffle=true)"
   ]
  },
  {
   "cell_type": "code",
   "execution_count": 7,
   "id": "d0f64d85-85dd-41b8-89bd-635c3d064c02",
   "metadata": {},
   "outputs": [
    {
     "data": {
      "text/plain": [
       "5-element Vector{String}:\n",
       " \"Negative\"\n",
       " \"Positive\"\n",
       " \"Negative\"\n",
       " \"Positive\"\n",
       " \"Positive\""
      ]
     },
     "execution_count": 7,
     "metadata": {},
     "output_type": "execute_result"
    }
   ],
   "source": [
    "sentiment = [review[2] for review in reviews]\n",
    "first(sentiment, 5)"
   ]
  },
  {
   "cell_type": "code",
   "execution_count": 8,
   "id": "0e485108-d429-4236-938b-4d3d4c6e0aaa",
   "metadata": {},
   "outputs": [
    {
     "data": {
      "text/plain": [
       "true"
      ]
     },
     "execution_count": 8,
     "metadata": {},
     "output_type": "execute_result"
    }
   ],
   "source": [
    "y = coerce(sentiment, OrderedFactor)\n",
    "scitype(y) <: AbstractVector{<:OrderedFactor}"
   ]
  },
  {
   "cell_type": "code",
   "execution_count": 9,
   "id": "0886d440-f87c-442b-9b4e-a065e694d0c0",
   "metadata": {},
   "outputs": [
    {
     "data": {
      "text/plain": [
       "15-element Vector{Vector{String}}:\n",
       " [\"I\", \"am\", \"furious\", \"!\", \"This\", \"is\", \"unacceptable\", \".\"]\n",
       " [\"Could\", \"you\", \"assist\", \"me\", \"with\", \"this\", \"problem\", \"?\", \"I\", \"'\", \"d\", \"appreciate\", \"it\", \".\"]\n",
       " [\"My\", \"coworker\", \"ignored\", \"me\", \"again.\", \"I\", \"hate\", \"this\", \"place\", \".\"]\n",
       " [\"The\", \"manager\", \"offered\", \"support.\", \"That\", \"was\", \"kind\", \"of\", \"her\", \".\"]\n",
       " [\"Thanks\", \"for\", \"your\", \"patience.\", \"You\", \"’\", \"re\", \"very\", \"understanding\", \".\"]\n",
       " [\"This\", \"is\", \"a\", \"disaster\", \"!\", \"Everything\", \"is\", \"going\", \"wrong\", \".\"]\n",
       " [\"The\", \"team\", \"handled\", \"the\", \"project\", \"well.\", \"Good\", \"job\", \"!\"]\n",
       " [\"I\", \"’\", \"m\", \"so\", \"annoyed.\", \"Nobody\", \"ever\", \"helps\", \"me\", \".\"]\n",
       " [\"She\", \"gave\", \"me\", \"great\", \"advice.\", \"I\", \"’\", \"m\", \"grateful\", \".\"]\n",
       " [\"Why\", \"does\", \"this\", \"always\", \"happen\", \"?\", \"I\", \"’\", \"m\", \"done\", \"with\", \"this\", \".\"]\n",
       " [\"Your\", \"guidance\", \"was\", \"excellent.\", \"Thank\", \"you\", \"!\"]\n",
       " [\"He\", \"yelled\", \"at\", \"me\", \"for\", \"no\", \"reason.\", \"So\", \"unfair\", \".\"]\n",
       " [\"The\", \"meeting\", \"went\", \"smoothly.\", \"No\", \"issues\", \"at\", \"all\", \".\"]\n",
       " [\"I\", \"’\", \"m\", \"really\", \"happy\", \"with\", \"the\", \"results.\", \"Well\", \"done\", \"!\"]\n",
       " [\"This\", \"company\", \"is\", \"terrible.\", \"I\", \"regret\", \"joining\", \".\"]"
      ]
     },
     "execution_count": 9,
     "metadata": {},
     "output_type": "execute_result"
    }
   ],
   "source": [
    "tokens = [TextAnalysis.tokenize(Languages.English(), review[1]) for review in reviews]"
   ]
  },
  {
   "cell_type": "code",
   "execution_count": 10,
   "id": "653cd764-9a47-4023-84da-f89e85498fa3",
   "metadata": {
    "scrolled": true
   },
   "outputs": [
    {
     "name": "stderr",
     "output_type": "stream",
     "text": [
      "\u001b[36m\u001b[1m[ \u001b[22m\u001b[39m\u001b[36m\u001b[1mInfo: \u001b[22m\u001b[39mFor silent loading, specify `verbosity=0`. \n"
     ]
    },
    {
     "name": "stdout",
     "output_type": "stream",
     "text": [
      "import MLJText ✔\n"
     ]
    },
    {
     "data": {
      "text/plain": [
       "CountTransformer(\n",
       "  max_doc_freq = 1.0, \n",
       "  min_doc_freq = 0.0)"
      ]
     },
     "execution_count": 10,
     "metadata": {},
     "output_type": "execute_result"
    }
   ],
   "source": [
    "CountTransformer = @load CountTransformer pkg=MLJText\n",
    "ct = CountTransformer()"
   ]
  },
  {
   "cell_type": "code",
   "execution_count": 11,
   "id": "bc97eefd-32c5-489e-a338-734a6e0851e0",
   "metadata": {},
   "outputs": [
    {
     "name": "stderr",
     "output_type": "stream",
     "text": [
      "\u001b[36m\u001b[1m[ \u001b[22m\u001b[39m\u001b[36m\u001b[1mInfo: \u001b[22m\u001b[39mTraining machine(CountTransformer(max_doc_freq = 1.0, …), …).\n"
     ]
    },
    {
     "data": {
      "text/plain": [
       "trained Machine; caches model-specific representations of data\n",
       "  model: CountTransformer(max_doc_freq = 1.0, …)\n",
       "  args: \n",
       "    1:\tSource @058 ⏎ AbstractVector{AbstractVector{Textual}}\n"
      ]
     },
     "execution_count": 11,
     "metadata": {},
     "output_type": "execute_result"
    }
   ],
   "source": [
    "mach_ct = machine(ct, tokens) |> fit!"
   ]
  },
  {
   "cell_type": "markdown",
   "id": "6fff0fe5-1217-4f8a-89e3-44002ee55a90",
   "metadata": {},
   "source": [
    "Matrix of counts"
   ]
  },
  {
   "cell_type": "code",
   "execution_count": 12,
   "id": "3834fd2b-5ada-478f-b534-5e5eadd2c00b",
   "metadata": {},
   "outputs": [
    {
     "data": {
      "text/plain": [
       "15×97 LinearAlgebra.Adjoint{Int64, SparseArrays.SparseMatrixCSC{Int64, Int64}} with 147 stored entries:\n",
       "⎡⠑⡗⠀⠸⠀⠀⡠⠌⢀⠀⠠⠈⠐⠂⠔⠀⠀⡈⠀⠀⠀⠄⠌⠐⠠⠠⠆⠤⡠⢂⠀⠀⠠⠀⠎⡀⡄⠐⠐⣀⎤\n",
       "⎢⠃⡇⠑⢰⠐⠄⠀⠊⡀⠈⠄⡀⠂⠀⠀⣁⠂⠠⠡⠔⡀⠐⠈⠀⠂⡆⠆⠀⠀⠂⠀⠀⠂⠒⡀⠀⠐⢀⠁⢰⎥\n",
       "⎣⠅⡂⠀⢢⠂⠐⠁⢂⠄⠁⠐⠀⠀⢂⠀⠠⠈⠂⠀⠈⠠⠀⢀⠂⢀⠄⠒⠀⠀⠀⠔⡰⠀⢠⠀⠐⠁⠢⠘⠠⎦"
      ]
     },
     "execution_count": 12,
     "metadata": {},
     "output_type": "execute_result"
    }
   ],
   "source": [
    "X = MLJ.transform(mach_ct, tokens)"
   ]
  },
  {
   "cell_type": "code",
   "execution_count": 13,
   "id": "53616cbf-ba60-4a48-b1e7-adca85504fb7",
   "metadata": {},
   "outputs": [
    {
     "data": {
      "text/plain": [
       "5-element Vector{Int64}:\n",
       " 1\n",
       " 0\n",
       " 0\n",
       " 0\n",
       " 0"
      ]
     },
     "execution_count": 13,
     "metadata": {},
     "output_type": "execute_result"
    }
   ],
   "source": [
    "first(X, 5)"
   ]
  },
  {
   "cell_type": "code",
   "execution_count": 14,
   "id": "47a496c0-b075-47e8-987f-f6cd6998a01b",
   "metadata": {},
   "outputs": [
    {
     "data": {
      "text/plain": [
       "8-element Vector{NamedTuple{(:name, :package_name, :is_supervised, :abstract_type, :constructor, :deep_properties, :docstring, :fit_data_scitype, :human_name, :hyperparameter_ranges, :hyperparameter_types, :hyperparameters, :implemented_methods, :inverse_transform_scitype, :is_pure_julia, :is_wrapper, :iteration_parameter, :load_path, :package_license, :package_url, :package_uuid, :predict_scitype, :prediction_type, :reporting_operations, :reports_feature_importances, :supports_class_weights, :supports_online, :supports_training_losses, :supports_weights, :target_in_fit, :transform_scitype, :input_scitype, :target_scitype, :output_scitype)}}:\n",
       " (name = BernoulliNBClassifier, package_name = MLJScikitLearnInterface, ... )\n",
       " (name = ComplementNBClassifier, package_name = MLJScikitLearnInterface, ... )\n",
       " (name = GaussianNBClassifier, package_name = MLJScikitLearnInterface, ... )\n",
       " (name = GaussianNBClassifier, package_name = NaiveBayes, ... )\n",
       " (name = MultinomialNBClassifier, package_name = MLJScikitLearnInterface, ... )\n",
       " (name = MultinomialNBClassifier, package_name = NaiveBayes, ... )\n",
       " (name = RandomOversampler, package_name = Imbalance, ... )\n",
       " (name = RandomUndersampler, package_name = Imbalance, ... )"
      ]
     },
     "execution_count": 14,
     "metadata": {},
     "output_type": "execute_result"
    }
   ],
   "source": [
    "models(\"naive\")"
   ]
  },
  {
   "cell_type": "code",
   "execution_count": 15,
   "id": "6f08d64f-33df-40b2-8811-d0ef6f81248c",
   "metadata": {},
   "outputs": [
    {
     "name": "stderr",
     "output_type": "stream",
     "text": [
      "\u001b[36m\u001b[1m[ \u001b[22m\u001b[39m\u001b[36m\u001b[1mInfo: \u001b[22m\u001b[39mFor silent loading, specify `verbosity=0`. \n"
     ]
    },
    {
     "name": "stdout",
     "output_type": "stream",
     "text": [
      "import MLJNaiveBayesInterface ✔\n"
     ]
    },
    {
     "data": {
      "text/plain": [
       "MLJNaiveBayesInterface.MultinomialNBClassifier"
      ]
     },
     "execution_count": 15,
     "metadata": {},
     "output_type": "execute_result"
    }
   ],
   "source": [
    "NaiveBayes = @load MultinomialNBClassifier pkg=NaiveBayes"
   ]
  },
  {
   "cell_type": "code",
   "execution_count": 16,
   "id": "42aa3508-4eef-44a1-92c3-7dcfe7121da6",
   "metadata": {},
   "outputs": [
    {
     "data": {
      "text/plain": [
       "MultinomialNBClassifier(\n",
       "  alpha = 1)"
      ]
     },
     "execution_count": 16,
     "metadata": {},
     "output_type": "execute_result"
    }
   ],
   "source": [
    "nb = NaiveBayes()"
   ]
  },
  {
   "cell_type": "code",
   "execution_count": 17,
   "id": "9461f9d0-c3ca-479d-bb74-f91465c2bb9c",
   "metadata": {},
   "outputs": [
    {
     "data": {
      "text/plain": [
       "untrained Machine; caches model-specific representations of data\n",
       "  model: MultinomialNBClassifier(alpha = 1)\n",
       "  args: \n",
       "    1:\tSource @596 ⏎ AbstractMatrix{Count}\n",
       "    2:\tSource @749 ⏎ AbstractVector{OrderedFactor{3}}\n"
      ]
     },
     "execution_count": 17,
     "metadata": {},
     "output_type": "execute_result"
    }
   ],
   "source": [
    "mach_nb = machine(nb, X, y)"
   ]
  },
  {
   "cell_type": "code",
   "execution_count": 18,
   "id": "0f8e26cf-f104-427d-b8c3-861b3737c9eb",
   "metadata": {},
   "outputs": [
    {
     "name": "stderr",
     "output_type": "stream",
     "text": [
      "\u001b[36m\u001b[1m[ \u001b[22m\u001b[39m\u001b[36m\u001b[1mInfo: \u001b[22m\u001b[39mTraining machine(MultinomialNBClassifier(alpha = 1), …).\n"
     ]
    },
    {
     "data": {
      "text/plain": [
       "trained Machine; caches model-specific representations of data\n",
       "  model: MultinomialNBClassifier(alpha = 1)\n",
       "  args: \n",
       "    1:\tSource @596 ⏎ AbstractMatrix{Count}\n",
       "    2:\tSource @749 ⏎ AbstractVector{OrderedFactor{3}}\n"
      ]
     },
     "execution_count": 18,
     "metadata": {},
     "output_type": "execute_result"
    }
   ],
   "source": [
    "fit!(mach_nb, rows=train)"
   ]
  },
  {
   "cell_type": "markdown",
   "id": "b72e9b15-1cef-4525-86e2-d5877f862828",
   "metadata": {},
   "source": [
    "Probabilistic predictions"
   ]
  },
  {
   "cell_type": "code",
   "execution_count": 19,
   "id": "67fc513e-ab5d-4de4-a3dc-b9c185e72997",
   "metadata": {},
   "outputs": [
    {
     "data": {
      "text/plain": [
       "3-element CategoricalDistributions.UnivariateFiniteVector{OrderedFactor{3}, String, UInt32, Float64}:\n",
       " UnivariateFinite{OrderedFactor{3}}(Negative=>0.0616, Neutral=>0.639, Positive=>0.299)\n",
       " UnivariateFinite{OrderedFactor{3}}(Negative=>0.933, Neutral=>0.0155, Positive=>0.0519)\n",
       " UnivariateFinite{OrderedFactor{3}}(Negative=>0.128, Neutral=>0.298, Positive=>0.574)"
      ]
     },
     "execution_count": 19,
     "metadata": {},
     "output_type": "execute_result"
    }
   ],
   "source": [
    "y_prob = predict(mach_nb, rows=test) ## distributions"
   ]
  },
  {
   "cell_type": "code",
   "execution_count": 20,
   "id": "68480794-aaff-4a81-8082-01059f852979",
   "metadata": {},
   "outputs": [
    {
     "data": {
      "text/plain": [
       "3-element Vector{Float64}:\n",
       " 0.29920973445433097\n",
       " 0.05188738380654243\n",
       " 0.574088964273517"
      ]
     },
     "execution_count": 20,
     "metadata": {},
     "output_type": "execute_result"
    }
   ],
   "source": [
    "pdf.(y_prob, \"Positive\") ## probabilities for \"Positive\""
   ]
  },
  {
   "cell_type": "code",
   "execution_count": 21,
   "id": "1a19d6a2-8fed-4190-969e-c0fa0e9d5fca",
   "metadata": {},
   "outputs": [
    {
     "data": {
      "text/plain": [
       "0.6104346626511568"
      ]
     },
     "execution_count": 21,
     "metadata": {},
     "output_type": "execute_result"
    }
   ],
   "source": [
    "log_loss(y_prob, y[test])"
   ]
  },
  {
   "cell_type": "markdown",
   "id": "7eef08fc-0241-4bfb-8908-9d324adbe372",
   "metadata": {},
   "source": [
    "Point predictions"
   ]
  },
  {
   "cell_type": "code",
   "execution_count": 22,
   "id": "de46a6e5-b4f2-4252-94bc-2e212ad02e18",
   "metadata": {},
   "outputs": [
    {
     "data": {
      "text/plain": [
       "3-element CategoricalArrays.CategoricalArray{String,1,UInt32}:\n",
       " \"Neutral\"\n",
       " \"Negative\"\n",
       " \"Positive\""
      ]
     },
     "execution_count": 22,
     "metadata": {},
     "output_type": "execute_result"
    }
   ],
   "source": [
    "ŷ = predict_mode(mach_nb, rows=test)"
   ]
  },
  {
   "cell_type": "code",
   "execution_count": 23,
   "id": "510e430f-9962-473c-8547-5e31eecb9cbe",
   "metadata": {},
   "outputs": [
    {
     "data": {
      "text/plain": [
       "3-element BitVector:\n",
       " 0\n",
       " 1\n",
       " 1"
      ]
     },
     "execution_count": 23,
     "metadata": {},
     "output_type": "execute_result"
    }
   ],
   "source": [
    "ŷ .== sentiment[test] ## or `predict_mode(mach_nb, rows=test)`"
   ]
  },
  {
   "cell_type": "code",
   "execution_count": null,
   "id": "1734b905-dab7-495d-97a0-0f7aa9a6af26",
   "metadata": {},
   "outputs": [],
   "source": []
  }
 ],
 "metadata": {
  "kernelspec": {
   "display_name": "Julia 1.11.4",
   "language": "julia",
   "name": "julia-1.11"
  },
  "language_info": {
   "file_extension": ".jl",
   "mimetype": "application/julia",
   "name": "julia",
   "version": "1.11.4"
  }
 },
 "nbformat": 4,
 "nbformat_minor": 5
}
