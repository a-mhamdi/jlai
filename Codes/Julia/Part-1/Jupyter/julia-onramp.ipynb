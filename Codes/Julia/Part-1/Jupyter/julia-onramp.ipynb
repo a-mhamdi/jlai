{
 "cells": [
  {
   "cell_type": "markdown",
   "metadata": {},
   "source": [
    "# `Julia` ONRAMP\n",
    "---"
   ]
  },
  {
   "cell_type": "markdown",
   "metadata": {},
   "source": [
    "### GOALS\n",
    "- Enter commands in ${\\tt Julia}$ REPL to create variables and perform calculations;\n",
    "- Write and save programs;\n",
    "- Use indexing to extract and modify rows, columns, and elements of ${\\tt Julia}$ tensors."
   ]
  },
  {
   "cell_type": "markdown",
   "metadata": {},
   "source": [
    "${\\tt Julia}$ is a standalone program which can be downloaded from [https://julialang.org/downloads/](https://julialang.org/downloads/)"
   ]
  },
  {
   "cell_type": "markdown",
   "metadata": {
    "tags": []
   },
   "source": [
    "**Getting around**"
   ]
  },
  {
   "cell_type": "markdown",
   "metadata": {},
   "source": [
    "By default, Julia runs in an interactive terminal called the REPL. In this mode, Some useful commands are:\n",
    "1. `^C` aborts execution\n",
    "1. `^D` exits Julia\n",
    "1. `?` enters help mode\n",
    "1. `;` enters system shell mode\n",
    "1. `]` enters package manager mode\n",
    "1. `^l` clears screen"
   ]
  },
  {
   "cell_type": "markdown",
   "metadata": {},
   "source": [
    "We begin first by activating the environement within the desired folder."
   ]
  },
  {
   "cell_type": "markdown",
   "metadata": {},
   "source": [
    "From the REPL interface, either type\n",
    "```julia\n",
    "using Pkg  \n",
    "pkg\"activate .\"\n",
    "```\n",
    "or access the package mode by typing `]` and simply write\n",
    "```julia\n",
    "activate .\n",
    "```\n",
    "Always within the package mode, to see the full list of installed packages\n",
    "```julia\n",
    "st\n",
    "```"
   ]
  },
  {
   "cell_type": "code",
   "execution_count": 1,
   "metadata": {
    "scrolled": true
   },
   "outputs": [
    {
     "name": "stderr",
     "output_type": "stream",
     "text": [
      "\u001b[32m\u001b[1m  Activating\u001b[22m\u001b[39m project at `~/Work/git-repos/AI-ML-DL/jlai/Codes/Julia/Part-1`\n"
     ]
    }
   ],
   "source": [
    "using Pkg; pkg\"activate ..\""
   ]
  },
  {
   "cell_type": "code",
   "execution_count": 2,
   "metadata": {},
   "outputs": [
    {
     "name": "stdout",
     "output_type": "stream",
     "text": [
      "\u001b[32m\u001b[1mStatus\u001b[22m\u001b[39m `~/Work/git-repos/AI-ML-DL/jlai/Codes/Julia/Part-1/Project.toml`\n",
      "  \u001b[90m[336ed68f] \u001b[39mCSV v0.10.15\n",
      "  \u001b[90m[a93c6f00] \u001b[39mDataFrames v1.7.0\n",
      "\u001b[32m⌃\u001b[39m \u001b[90m[587475ba] \u001b[39mFlux v0.16.0\n",
      "  \u001b[90m[a9166f1b] \u001b[39mFuzzy v0.3.1\n",
      "  \u001b[90m[d8c32880] \u001b[39mImageInTerminal v0.5.4\n",
      "  \u001b[90m[add582a8] \u001b[39mMLJ v0.20.7\n",
      "  \u001b[90m[91a5bcdd] \u001b[39mPlots v1.40.9\n",
      "  \u001b[90m[c3e4b0f8] \u001b[39mPluto v0.20.4\n",
      "\u001b[32m⌃\u001b[39m \u001b[90m[7f904dfe] \u001b[39mPlutoUI v0.7.60\n",
      "  \u001b[90m[92933f4c] \u001b[39mProgressMeter v1.10.2\n",
      "  \u001b[90m[d6f4376e] \u001b[39mMarkdown v1.11.0\n",
      "\u001b[36m\u001b[1mInfo\u001b[22m\u001b[39m Packages marked with \u001b[32m⌃\u001b[39m have new versions available and may be upgradable.\n"
     ]
    }
   ],
   "source": [
    "using Pkg; pkg\"status\""
   ]
  },
  {
   "cell_type": "markdown",
   "metadata": {},
   "source": [
    "To add the **Markdown** package for instance, we write"
   ]
  },
  {
   "cell_type": "code",
   "execution_count": 3,
   "metadata": {
    "tags": []
   },
   "outputs": [
    {
     "name": "stderr",
     "output_type": "stream",
     "text": [
      "\u001b[32m\u001b[1m   Resolving\u001b[22m\u001b[39m package versions...\n",
      "\u001b[32m\u001b[1m  No Changes\u001b[22m\u001b[39m to `~/Work/git-repos/AI-ML-DL/jlai/Codes/Julia/Part-1/Project.toml`\n",
      "\u001b[32m\u001b[1m  No Changes\u001b[22m\u001b[39m to `~/Work/git-repos/AI-ML-DL/jlai/Codes/Julia/Part-1/Manifest.toml`\n"
     ]
    }
   ],
   "source": [
    "using Pkg; pkg\"add Markdown\""
   ]
  },
  {
   "cell_type": "markdown",
   "metadata": {},
   "source": [
    "To be able to use it, we do as follows"
   ]
  },
  {
   "cell_type": "code",
   "execution_count": 4,
   "metadata": {},
   "outputs": [],
   "source": [
    "using Markdown"
   ]
  },
  {
   "cell_type": "code",
   "execution_count": 5,
   "metadata": {},
   "outputs": [
    {
     "data": {
      "text/latex": [
       "This a text inside a code cell, thanks to \\textbf{Markdown} package. I can \\emph{emphasize} anything. Make other things \\textbf{bold}\n",
       "\n"
      ],
      "text/markdown": [
       "This a text inside a code cell, thanks to **Markdown** package. I can *emphasize* anything. Make other things **bold**\n"
      ],
      "text/plain": [
       "  This a text inside a code cell, thanks to \u001b[1mMarkdown\u001b[22m package. I can \u001b[4memphasize\u001b[24m\n",
       "  anything. Make other things \u001b[1mbold\u001b[22m"
      ]
     },
     "execution_count": 5,
     "metadata": {},
     "output_type": "execute_result"
    }
   ],
   "source": [
    "md\"\"\"\n",
    "This a text inside a code cell, thanks to **Markdown** package. I can _emphasize_ anything. Make other things **bold**\n",
    "\"\"\""
   ]
  },
  {
   "cell_type": "markdown",
   "metadata": {},
   "source": [
    "Jupyter Lab is pretty handy. We only need to install the appropriate kernel. In order to add `Julia` kernel `IJulia` to Jupyter Notebook and/or `JupyterLab` IDEs, we begin by executing the following commands:\n",
    "```julia\n",
    "using Pkg  \n",
    "Pkg.add(\"IJulia\") \n",
    "```\n",
    "If we want to get `JupyterLab` instance running in current directory, we can do:\n",
    "```julia\n",
    "jupyterlab(dir=pwd(), detached=true)\n",
    "```"
   ]
  },
  {
   "cell_type": "markdown",
   "metadata": {},
   "source": [
    "In case things do not work, we run the two following commands from ${\\tt Julia}$ REPL which launch jupyter environment.\n",
    "```julia\n",
    "using IJulia  \n",
    "installkernel(\"Julia\") \n",
    "```"
   ]
  },
  {
   "cell_type": "markdown",
   "metadata": {},
   "source": [
    "The shell mode is also available through the REPL to evaluate some OS commands. To do so, simply preface the regular command by a semicolon. For instance, `pwd` prints the path to the working directory, and `ls` allows listing the content of the current directory."
   ]
  },
  {
   "cell_type": "code",
   "execution_count": 6,
   "metadata": {},
   "outputs": [
    {
     "name": "stdout",
     "output_type": "stream",
     "text": [
      "/home/mhamdi/Work/git-repos/AI-ML-DL/jlai/Codes/Julia/Part-1/Jupyter\n"
     ]
    }
   ],
   "source": [
    ";pwd"
   ]
  },
  {
   "cell_type": "code",
   "execution_count": 7,
   "metadata": {
    "scrolled": true
   },
   "outputs": [
    {
     "name": "stdout",
     "output_type": "stream",
     "text": [
      "total 4900\n",
      "drwxrwxr-x 3 mhamdi mhamdi    4096 Mar  5 23:06 .\n",
      "drwx------ 4 mhamdi mhamdi    4096 Dec 22 14:53 ..\n",
      "-rw-rw-r-- 1 mhamdi mhamdi  711291 Dec 22 15:14 classifier-ann.ipynb\n",
      "drwxrwxr-x 2 mhamdi mhamdi    4096 Mar  5 22:03 .ipynb_checkpoints\n",
      "-rw------- 1 mhamdi mhamdi  630107 Mar  5 23:06 julia-onramp.ipynb\n",
      "-rw-r--r-- 1 mhamdi mhamdi   11002 Dec 17 22:24 jupyter.svg\n",
      "-rw-rw-r-- 1 mhamdi mhamdi     165 Feb 22 13:21 README.md\n",
      "-rw-rw-r-- 1 mhamdi mhamdi  648207 Dec 22 15:14 selection-process.ipynb\n",
      "-rw-rw-r-- 1 mhamdi mhamdi      66 Mar  5 22:34 test-file.csv\n",
      "-rw-rw-r-- 1 mhamdi mhamdi  334842 Dec 22 15:14 tipper.ipynb\n",
      "-rw-rw-r-- 1 mhamdi mhamdi 2652701 Dec 22 15:14 xor-gate.ipynb\n"
     ]
    }
   ],
   "source": [
    ";ls -la"
   ]
  },
  {
   "cell_type": "markdown",
   "metadata": {},
   "source": [
    "### Getting Help"
   ]
  },
  {
   "cell_type": "markdown",
   "metadata": {},
   "source": [
    "In order to seek help on a particular function. We just use the `?` mark. We can use the ${\\tt Julia}$ documentation to discover more pieces of information about ${\\tt Julia}$ features."
   ]
  },
  {
   "cell_type": "code",
   "execution_count": 8,
   "metadata": {},
   "outputs": [
    {
     "name": "stdout",
     "output_type": "stream",
     "text": [
      "search: \u001b[0m\u001b[1mc\u001b[22m\u001b[0m\u001b[1mo\u001b[22m\u001b[0m\u001b[1ms\u001b[22m a\u001b[0m\u001b[1mc\u001b[22m\u001b[0m\u001b[1mo\u001b[22m\u001b[0m\u001b[1ms\u001b[22m \u001b[0m\u001b[1mc\u001b[22m\u001b[0m\u001b[1mo\u001b[22m\u001b[0m\u001b[1ms\u001b[22md \u001b[0m\u001b[1mc\u001b[22m\u001b[0m\u001b[1mo\u001b[22m\u001b[0m\u001b[1ms\u001b[22mc \u001b[0m\u001b[1mc\u001b[22m\u001b[0m\u001b[1mo\u001b[22m\u001b[0m\u001b[1ms\u001b[22mh \u001b[0m\u001b[1mc\u001b[22mis \u001b[0m\u001b[1mc\u001b[22m\u001b[0m\u001b[1mo\u001b[22mt a\u001b[0m\u001b[1mc\u001b[22m\u001b[0m\u001b[1mo\u001b[22m\u001b[0m\u001b[1ms\u001b[22mh \u001b[0m\u001b[1mc\u001b[22ml\u001b[0m\u001b[1mo\u001b[22m\u001b[0m\u001b[1ms\u001b[22me \u001b[0m\u001b[1mc\u001b[22m\u001b[0m\u001b[1mo\u001b[22mn\u001b[0m\u001b[1ms\u001b[22mt a\u001b[0m\u001b[1mc\u001b[22m\u001b[0m\u001b[1mo\u001b[22m\u001b[0m\u001b[1ms\u001b[22md \u001b[0m\u001b[1mc\u001b[22m\u001b[0m\u001b[1mo\u001b[22m\u001b[0m\u001b[1ms\u001b[22mpi a\u001b[0m\u001b[1mc\u001b[22m\u001b[0m\u001b[1mo\u001b[22mt \u001b[0m\u001b[1mc\u001b[22m\u001b[0m\u001b[1mo\u001b[22mpy\n",
      "\n"
     ]
    },
    {
     "data": {
      "text/latex": [
       "\\begin{verbatim}\n",
       "cos(x)\n",
       "\\end{verbatim}\n",
       "Compute cosine of \\texttt{x}, where \\texttt{x} is in radians.\n",
       "\n",
       "See also \\href{@ref}{\\texttt{cosd}}, \\href{@ref}{\\texttt{cospi}}, \\href{@ref}{\\texttt{sincos}}, \\href{@ref}{\\texttt{cis}}.\n",
       "\n",
       "\\rule{\\textwidth}{1pt}\n",
       "\\begin{verbatim}\n",
       "cos(A::AbstractMatrix)\n",
       "\\end{verbatim}\n",
       "Compute the matrix cosine of a square matrix \\texttt{A}.\n",
       "\n",
       "If \\texttt{A} is symmetric or Hermitian, its eigendecomposition (\\href{@ref}{\\texttt{eigen}}) is used to compute the cosine. Otherwise, the cosine is determined by calling \\href{@ref}{\\texttt{exp}}.\n",
       "\n",
       "\\section{Examples}\n",
       "\\begin{verbatim}\n",
       "julia> cos(fill(1.0, (2,2)))\n",
       "2×2 Matrix{Float64}:\n",
       "  0.291927  -0.708073\n",
       " -0.708073   0.291927\n",
       "\\end{verbatim}\n"
      ],
      "text/markdown": [
       "```\n",
       "cos(x)\n",
       "```\n",
       "\n",
       "Compute cosine of `x`, where `x` is in radians.\n",
       "\n",
       "See also [`cosd`](@ref), [`cospi`](@ref), [`sincos`](@ref), [`cis`](@ref).\n",
       "\n",
       "---\n",
       "\n",
       "```\n",
       "cos(A::AbstractMatrix)\n",
       "```\n",
       "\n",
       "Compute the matrix cosine of a square matrix `A`.\n",
       "\n",
       "If `A` is symmetric or Hermitian, its eigendecomposition ([`eigen`](@ref)) is used to compute the cosine. Otherwise, the cosine is determined by calling [`exp`](@ref).\n",
       "\n",
       "# Examples\n",
       "\n",
       "```jldoctest\n",
       "julia> cos(fill(1.0, (2,2)))\n",
       "2×2 Matrix{Float64}:\n",
       "  0.291927  -0.708073\n",
       " -0.708073   0.291927\n",
       "```\n"
      ],
      "text/plain": [
       "  \u001b[38;2;102;217;239mcos\u001b[0m(\u001b[0m\u001b[39mx\u001b[0m\u001b[39m)\u001b[0m\n",
       "\n",
       "  Compute cosine of \u001b[36mx\u001b[39m, where \u001b[36mx\u001b[39m is in radians.\n",
       "\n",
       "  See also \u001b[36mcosd\u001b[39m, \u001b[36mcospi\u001b[39m, \u001b[36msincos\u001b[39m, \u001b[36mcis\u001b[39m.\n",
       "\n",
       "  ────────────────────────────────────────────────────────────────────────────\n",
       "\n",
       "  \u001b[38;2;102;217;239mcos\u001b[0m(\u001b[0m\u001b[39mA\u001b[0m\u001b[38;2;102;217;239m::\u001b[0m\u001b[38;2;102;217;239mAbstractMatrix\u001b[0m\u001b[39m)\u001b[0m\n",
       "\n",
       "  Compute the matrix cosine of a square matrix \u001b[36mA\u001b[39m.\n",
       "\n",
       "  If \u001b[36mA\u001b[39m is symmetric or Hermitian, its eigendecomposition (\u001b[36meigen\u001b[39m) is used to\n",
       "  compute the cosine. Otherwise, the cosine is determined by calling \u001b[36mexp\u001b[39m.\n",
       "\n",
       "\u001b[1m  Examples\u001b[22m\n",
       "\u001b[1m  ≡≡≡≡≡≡≡≡\u001b[22m\n",
       "\n",
       "  \u001b[31;1mjulia> \u001b[0m\u001b[38;2;102;217;239mcos\u001b[0m(\u001b[0m\u001b[38;2;102;217;239mfill\u001b[0m(\u001b[0m\u001b[38;2;174;129;255m1.0\u001b[0m\u001b[39m,\u001b[0m \u001b[0m(\u001b[0m\u001b[38;2;174;129;255m2\u001b[0m\u001b[39m,\u001b[0m\u001b[38;2;174;129;255m2\u001b[0m\u001b[39m)\u001b[0m\u001b[39m)\u001b[0m\u001b[39m)\u001b[0m\n",
       "  \u001b[0m2×2 Matrix{Float64}:\n",
       "    0.291927  -0.708073\n",
       "   -0.708073   0.291927"
      ]
     },
     "execution_count": 8,
     "metadata": {},
     "output_type": "execute_result"
    }
   ],
   "source": [
    "?cos"
   ]
  },
  {
   "cell_type": "markdown",
   "metadata": {},
   "source": [
    "To print something on the standard output, it is possible to use either `print` and `println`. The last one displays the text and moves the cursor to the next line."
   ]
  },
  {
   "cell_type": "code",
   "execution_count": 9,
   "metadata": {},
   "outputs": [
    {
     "name": "stdout",
     "output_type": "stream",
     "text": [
      "Hello World"
     ]
    }
   ],
   "source": [
    "print(\"Hello\")\n",
    "print(' ')\n",
    "print(\"World\")"
   ]
  },
  {
   "cell_type": "code",
   "execution_count": 10,
   "metadata": {},
   "outputs": [
    {
     "name": "stdout",
     "output_type": "stream",
     "text": [
      "Hello\n",
      "World\n"
     ]
    }
   ],
   "source": [
    "println(\"Hello\")\n",
    "println(\"World\")"
   ]
  },
  {
   "cell_type": "markdown",
   "metadata": {},
   "source": [
    "**Data types: Dictionaries**"
   ]
  },
  {
   "cell_type": "code",
   "execution_count": 11,
   "metadata": {
    "tags": []
   },
   "outputs": [
    {
     "data": {
      "text/plain": [
       "Dict{String, Int64} with 3 entries:\n",
       "  \"Bicycle\"  => 2\n",
       "  \"Tricycle\" => 3\n",
       "  \"Unicycle\" => 1"
      ]
     },
     "execution_count": 11,
     "metadata": {},
     "output_type": "execute_result"
    }
   ],
   "source": [
    "dict = Dict(\n",
    "    # Name => # of wheels\n",
    "    \"Unicycle\" => 1,\n",
    "    \"Bicycle\" => 2,\n",
    "    \"Tricycle\" => 3\n",
    ")"
   ]
  },
  {
   "cell_type": "code",
   "execution_count": 12,
   "metadata": {
    "tags": []
   },
   "outputs": [
    {
     "data": {
      "text/plain": [
       "Dict{String, Int64}"
      ]
     },
     "execution_count": 12,
     "metadata": {},
     "output_type": "execute_result"
    }
   ],
   "source": [
    "typeof(dict)"
   ]
  },
  {
   "cell_type": "code",
   "execution_count": 13,
   "metadata": {
    "tags": []
   },
   "outputs": [
    {
     "data": {
      "text/plain": [
       "Dict{String, Int64} with 3 entries:\n",
       "  \"Bicycle\"  => 2\n",
       "  \"Tricycle\" => 3\n",
       "  \"Unicycle\" => 1"
      ]
     },
     "execution_count": 13,
     "metadata": {},
     "output_type": "execute_result"
    }
   ],
   "source": [
    "dict = Dict([(\"Unicycle\", 1), (\"Bicycle\", 2), (\"Tricycle\", 3)])"
   ]
  },
  {
   "cell_type": "code",
   "execution_count": 14,
   "metadata": {
    "tags": []
   },
   "outputs": [
    {
     "data": {
      "text/plain": [
       "2"
      ]
     },
     "execution_count": 14,
     "metadata": {},
     "output_type": "execute_result"
    }
   ],
   "source": [
    "dict[\"Bicycle\"]"
   ]
  },
  {
   "cell_type": "code",
   "execution_count": 15,
   "metadata": {
    "tags": []
   },
   "outputs": [
    {
     "data": {
      "text/plain": [
       "5-element Vector{Any}:\n",
       "    1\n",
       "     'a': ASCII/Unicode U+0061 (category Ll: Letter, lowercase)\n",
       "     \"abc\"\n",
       " true\n",
       "     ComplexF64[0.0 + 0.0im, 0.0 + 0.5im]"
      ]
     },
     "execution_count": 15,
     "metadata": {},
     "output_type": "execute_result"
    }
   ],
   "source": [
    "vect = [1, 'a', \"abc\", true, [0, .5im]]"
   ]
  },
  {
   "cell_type": "code",
   "execution_count": 16,
   "metadata": {
    "tags": []
   },
   "outputs": [
    {
     "data": {
      "text/plain": [
       "Vector{Any}\u001b[90m (alias for \u001b[39m\u001b[90mArray{Any, 1}\u001b[39m\u001b[90m)\u001b[39m"
      ]
     },
     "execution_count": 16,
     "metadata": {},
     "output_type": "execute_result"
    }
   ],
   "source": [
    "typeof(vect)"
   ]
  },
  {
   "cell_type": "code",
   "execution_count": 17,
   "metadata": {
    "tags": []
   },
   "outputs": [
    {
     "data": {
      "text/plain": [
       "2-element Vector{ComplexF64}:\n",
       " 0.0 + 0.0im\n",
       " 0.0 + 0.5im"
      ]
     },
     "execution_count": 17,
     "metadata": {},
     "output_type": "execute_result"
    }
   ],
   "source": [
    "vect[end]"
   ]
  },
  {
   "cell_type": "markdown",
   "metadata": {},
   "source": [
    "### Basic Calculations"
   ]
  },
  {
   "cell_type": "code",
   "execution_count": 18,
   "metadata": {},
   "outputs": [
    {
     "data": {
      "text/plain": [
       "(1, 1.5)"
      ]
     },
     "execution_count": 18,
     "metadata": {},
     "output_type": "execute_result"
    }
   ],
   "source": [
    "a, b = 1, 1.5"
   ]
  },
  {
   "cell_type": "code",
   "execution_count": 19,
   "metadata": {},
   "outputs": [
    {
     "name": "stdout",
     "output_type": "stream",
     "text": [
      "Int64\n",
      "Float64\n"
     ]
    }
   ],
   "source": [
    "println(typeof(a))\n",
    "println(typeof(b))"
   ]
  },
  {
   "cell_type": "code",
   "execution_count": 20,
   "metadata": {},
   "outputs": [
    {
     "data": {
      "text/latex": [
       "\\texttt{varinfo} method allows to display loaded variables.\n",
       "\n"
      ],
      "text/markdown": [
       "`varinfo` method allows to display loaded variables.\n"
      ],
      "text/plain": [
       "  \u001b[36mvarinfo\u001b[39m method allows to display loaded variables."
      ]
     },
     "execution_count": 20,
     "metadata": {},
     "output_type": "execute_result"
    }
   ],
   "source": [
    "md\"\"\"\n",
    "`varinfo` method allows to display loaded variables.\n",
    "\"\"\""
   ]
  },
  {
   "cell_type": "code",
   "execution_count": 21,
   "metadata": {},
   "outputs": [
    {
     "data": {
      "text/latex": [
       "\\begin{tabular}\n",
       "{l | r | l}\n",
       "name & size & summary \\\\\n",
       "\\hline\n",
       "Base &  & Module \\\\\n",
       "Core &  & Module \\\\\n",
       "Main &  & Module \\\\\n",
       "PLOTS\\_DEFAULTS & 384 bytes & Dict\\{Symbol, Symbol\\} with 1 entry \\\\\n",
       "a & 8 bytes & Int64 \\\\\n",
       "b & 8 bytes & Float64 \\\\\n",
       "dict & 431 bytes & Dict\\{String, Int64\\} with 3 entries \\\\\n",
       "docs & 6.474 KiB & Markdown.MD \\\\\n",
       "showall & 0 bytes & showall (generic function with 1 method) \\\\\n",
       "vect & 176 bytes & 5-element Vector\\{Any\\} \\\\\n",
       "\\end{tabular}\n"
      ],
      "text/markdown": [
       "| name           |      size | summary                                  |\n",
       "|:-------------- | ---------:|:---------------------------------------- |\n",
       "| Base           |           | Module                                   |\n",
       "| Core           |           | Module                                   |\n",
       "| Main           |           | Module                                   |\n",
       "| PLOTS_DEFAULTS | 384 bytes | Dict{Symbol, Symbol} with 1 entry        |\n",
       "| a              |   8 bytes | Int64                                    |\n",
       "| b              |   8 bytes | Float64                                  |\n",
       "| dict           | 431 bytes | Dict{String, Int64} with 3 entries       |\n",
       "| docs           | 6.474 KiB | Markdown.MD                              |\n",
       "| showall        |   0 bytes | showall (generic function with 1 method) |\n",
       "| vect           | 176 bytes | 5-element Vector{Any}                    |\n"
      ],
      "text/plain": [
       "  name                size summary                                 \n",
       "  –––––––––––––– ––––––––– ––––––––––––––––––––––––––––––––––––––––\n",
       "  Base                     Module                                  \n",
       "  Core                     Module                                  \n",
       "  Main                     Module                                  \n",
       "  PLOTS_DEFAULTS 384 bytes Dict{Symbol, Symbol} with 1 entry       \n",
       "  a                8 bytes Int64                                   \n",
       "  b                8 bytes Float64                                 \n",
       "  dict           431 bytes Dict{String, Int64} with 3 entries      \n",
       "  docs           6.474 KiB Markdown.MD                             \n",
       "  showall          0 bytes showall (generic function with 1 method)\n",
       "  vect           176 bytes 5-element Vector{Any}                   "
      ]
     },
     "execution_count": 21,
     "metadata": {},
     "output_type": "execute_result"
    }
   ],
   "source": [
    "varinfo()"
   ]
  },
  {
   "cell_type": "code",
   "execution_count": 22,
   "metadata": {},
   "outputs": [
    {
     "name": "stdout",
     "output_type": "stream",
     "text": [
      "search: \u001b[0m\u001b[1mv\u001b[22m\u001b[0m\u001b[1ma\u001b[22m\u001b[0m\u001b[1mr\u001b[22m\u001b[0m\u001b[1mi\u001b[22m\u001b[0m\u001b[1mn\u001b[22m\u001b[0m\u001b[1mf\u001b[22m\u001b[0m\u001b[1mo\u001b[22m @info \u001b[0m\u001b[1mv\u001b[22mersioninfo\n",
      "\n"
     ]
    },
    {
     "data": {
      "text/latex": [
       "\\begin{verbatim}\n",
       "varinfo(m::Module=Main, pattern::Regex=r\"\"; all=false, imported=false, recursive=false, sortby::Symbol=:name, minsize::Int=0)\n",
       "\\end{verbatim}\n",
       "Return a markdown table giving information about public global variables in a module, optionally restricted to those matching \\texttt{pattern}.\n",
       "\n",
       "The memory consumption estimate is an approximate lower bound on the size of the internal structure of the object.\n",
       "\n",
       "\\begin{itemize}\n",
       "\\item \\texttt{all} : also list non-public objects defined in the module, deprecated objects, and compiler-generated objects.\n",
       "\n",
       "\n",
       "\\item \\texttt{imported} : also list objects explicitly imported from other modules.\n",
       "\n",
       "\n",
       "\\item \\texttt{recursive} : recursively include objects in sub-modules, observing the same settings in each.\n",
       "\n",
       "\n",
       "\\item \\texttt{sortby} : the column to sort results by. Options are \\texttt{:name} (default), \\texttt{:size}, and \\texttt{:summary}.\n",
       "\n",
       "\n",
       "\\item \\texttt{minsize} : only includes objects with size at least \\texttt{minsize} bytes. Defaults to \\texttt{0}.\n",
       "\n",
       "\\end{itemize}\n",
       "The output of \\texttt{varinfo} is intended for display purposes only.  See also \\href{@ref}{\\texttt{names}} to get an array of symbols defined in a module, which is suitable for more general manipulations.\n",
       "\n"
      ],
      "text/markdown": [
       "```\n",
       "varinfo(m::Module=Main, pattern::Regex=r\"\"; all=false, imported=false, recursive=false, sortby::Symbol=:name, minsize::Int=0)\n",
       "```\n",
       "\n",
       "Return a markdown table giving information about public global variables in a module, optionally restricted to those matching `pattern`.\n",
       "\n",
       "The memory consumption estimate is an approximate lower bound on the size of the internal structure of the object.\n",
       "\n",
       "  * `all` : also list non-public objects defined in the module, deprecated objects, and compiler-generated objects.\n",
       "  * `imported` : also list objects explicitly imported from other modules.\n",
       "  * `recursive` : recursively include objects in sub-modules, observing the same settings in each.\n",
       "  * `sortby` : the column to sort results by. Options are `:name` (default), `:size`, and `:summary`.\n",
       "  * `minsize` : only includes objects with size at least `minsize` bytes. Defaults to `0`.\n",
       "\n",
       "The output of `varinfo` is intended for display purposes only.  See also [`names`](@ref) to get an array of symbols defined in a module, which is suitable for more general manipulations.\n"
      ],
      "text/plain": [
       "  \u001b[38;2;102;217;239mvarinfo\u001b[0m(\u001b[0m\u001b[39mm\u001b[0m\u001b[38;2;102;217;239m::\u001b[0m\u001b[38;2;102;217;239mModule\u001b[0m\u001b[38;2;249;38;114m=\u001b[0m\u001b[39mMain\u001b[0m\u001b[39m,\u001b[0m \u001b[0m\u001b[39mpattern\u001b[0m\u001b[38;2;102;217;239m::\u001b[0m\u001b[38;2;102;217;239mRegex\u001b[0m\u001b[38;2;249;38;114m=\u001b[0m\u001b[39mr\u001b[0m\u001b[39m\"\u001b[0m\u001b[38;2;230;219;116m\u001b[0m\u001b[39m\"\u001b[0m\u001b[39m;\u001b[0m \u001b[0m\u001b[39mall\u001b[0m\u001b[38;2;249;38;114m=\u001b[0m\u001b[38;2;249;38;114mfalse\u001b[0m\u001b[39m,\u001b[0m \u001b[0m\u001b[39mimported\u001b[0m\u001b[38;2;249;38;114m=\u001b[0m\u001b[38;2;249;38;114mfalse\u001b[0m\u001b[39m,\u001b[0m \u001b[0m\u001b[39mrecursive\u001b[0m\u001b[38;2;249;38;114m=\u001b[0m\u001b[38;2;249;38;114mfalse\u001b[0m\u001b[39m,\u001b[0m \u001b[0m\u001b[39msortby\u001b[0m\u001b[38;2;102;217;239m::\u001b[0m\u001b[38;2;102;217;239mSymbol\u001b[0m\u001b[38;2;249;38;114m=\u001b[0m\u001b[38;2;174;129;255m:\u001b[0m\u001b[38;2;174;129;255mname\u001b[0m\u001b[39m,\u001b[0m \u001b[0m\u001b[39mminsize\u001b[0m\u001b[38;2;102;217;239m::\u001b[0m\u001b[38;2;102;217;239mInt\u001b[0m\u001b[38;2;249;38;114m=\u001b[0m\u001b[38;2;174;129;255m0\u001b[0m\u001b[39m)\u001b[0m\n",
       "\n",
       "  Return a markdown table giving information about public global variables in\n",
       "  a module, optionally restricted to those matching \u001b[36mpattern\u001b[39m.\n",
       "\n",
       "  The memory consumption estimate is an approximate lower bound on the size of\n",
       "  the internal structure of the object.\n",
       "\n",
       "    •  \u001b[36mall\u001b[39m : also list non-public objects defined in the module,\n",
       "       deprecated objects, and compiler-generated objects.\n",
       "\n",
       "    •  \u001b[36mimported\u001b[39m : also list objects explicitly imported from other\n",
       "       modules.\n",
       "\n",
       "    •  \u001b[36mrecursive\u001b[39m : recursively include objects in sub-modules, observing\n",
       "       the same settings in each.\n",
       "\n",
       "    •  \u001b[36msortby\u001b[39m : the column to sort results by. Options are \u001b[36m:name\u001b[39m\n",
       "       (default), \u001b[36m:size\u001b[39m, and \u001b[36m:summary\u001b[39m.\n",
       "\n",
       "    •  \u001b[36mminsize\u001b[39m : only includes objects with size at least \u001b[36mminsize\u001b[39m bytes.\n",
       "       Defaults to \u001b[36m0\u001b[39m.\n",
       "\n",
       "  The output of \u001b[36mvarinfo\u001b[39m is intended for display purposes only. See also \u001b[36mnames\u001b[39m\n",
       "  to get an array of symbols defined in a module, which is suitable for more\n",
       "  general manipulations."
      ]
     },
     "execution_count": 22,
     "metadata": {},
     "output_type": "execute_result"
    }
   ],
   "source": [
    "?varinfo"
   ]
  },
  {
   "cell_type": "code",
   "execution_count": 23,
   "metadata": {},
   "outputs": [
    {
     "name": "stdout",
     "output_type": "stream",
     "text": [
      "Sum of 1 and 1.5 is 2.5\n"
     ]
    }
   ],
   "source": [
    "println(\"Sum of $a and $b is $(a+b)\")"
   ]
  },
  {
   "cell_type": "markdown",
   "metadata": {},
   "source": [
    "Addition, subtraction, multiplication, division, exponent"
   ]
  },
  {
   "cell_type": "code",
   "execution_count": 24,
   "metadata": {},
   "outputs": [
    {
     "data": {
      "text/plain": [
       "(2.5, -0.5, 1.5, 0.0, 1.0)"
      ]
     },
     "execution_count": 24,
     "metadata": {},
     "output_type": "execute_result"
    }
   ],
   "source": [
    "a+b, a-b, a*b, a÷b, a^b"
   ]
  },
  {
   "cell_type": "code",
   "execution_count": 25,
   "metadata": {},
   "outputs": [
    {
     "data": {
      "text/latex": [
       "\\textbf{Unicode support} \n",
       "\n",
       "\\begin{itemize}\n",
       "\\item[1. ] We can use π instead of \\texttt{pi}\n",
       "\n",
       "\n",
       "\\item[2. ] Greek letters improe comprehension: α \\emph{(alpha)}, β \\emph{(beta)}, ...\n",
       "\n",
       "\n",
       "\\item[3. ] Symbols: ≥ \\emph{(>=)}, ≤ \\emph{(<=)}, ∈ \\emph{(in)}, ... \n",
       "\n",
       "\n",
       "\\item[4. ] ...\n",
       "\n",
       "\\end{itemize}\n"
      ],
      "text/markdown": [
       "**Unicode support** \n",
       "\n",
       "1. We can use π instead of `pi`\n",
       "2. Greek letters improe comprehension: α *(alpha)*, β *(beta)*, ...\n",
       "3. Symbols: ≥ *(>=)*, ≤ *(<=)*, ∈ *(in)*, ...\n",
       "4. ...\n"
      ],
      "text/plain": [
       "  \u001b[1mUnicode support\u001b[22m\n",
       "\n",
       "    1. We can use π instead of \u001b[36mpi\u001b[39m\n",
       "\n",
       "    2. Greek letters improe comprehension: α \u001b[4m(alpha)\u001b[24m, β \u001b[4m(beta)\u001b[24m, ...\n",
       "\n",
       "    3. Symbols: ≥ \u001b[4m(>=)\u001b[24m, ≤ \u001b[4m(<=)\u001b[24m, ∈ \u001b[4m(in)\u001b[24m, ...\n",
       "\n",
       "    4. ..."
      ]
     },
     "execution_count": 25,
     "metadata": {},
     "output_type": "execute_result"
    }
   ],
   "source": [
    "md\"\"\"\n",
    "**Unicode support** \n",
    "1. We can use π instead of `pi`\n",
    "1. Greek letters improe comprehension: α _(alpha)_, β _(beta)_, ...\n",
    "1. Symbols: ≥ _(>=)_, ≤ _(<=)_, ∈ _(in)_, ... \n",
    "1. ...\n",
    "\"\"\""
   ]
  },
  {
   "cell_type": "code",
   "execution_count": 26,
   "metadata": {},
   "outputs": [
    {
     "data": {
      "text/plain": [
       "true"
      ]
     },
     "execution_count": 26,
     "metadata": {},
     "output_type": "execute_result"
    }
   ],
   "source": [
    "3 ≤ π "
   ]
  },
  {
   "cell_type": "code",
   "execution_count": 27,
   "metadata": {},
   "outputs": [
    {
     "data": {
      "text/plain": [
       "Float64"
      ]
     },
     "execution_count": 27,
     "metadata": {},
     "output_type": "execute_result"
    }
   ],
   "source": [
    "typeof(3.14)"
   ]
  },
  {
   "cell_type": "code",
   "execution_count": 28,
   "metadata": {},
   "outputs": [
    {
     "data": {
      "text/plain": [
       "Any"
      ]
     },
     "execution_count": 28,
     "metadata": {},
     "output_type": "execute_result"
    }
   ],
   "source": [
    "Float64 |> supertype |> supertype |> supertype |> supertype "
   ]
  },
  {
   "cell_type": "code",
   "execution_count": 29,
   "metadata": {},
   "outputs": [
    {
     "data": {
      "text/plain": [
       "3-element Vector{Any}:\n",
       " Bool\n",
       " Signed\n",
       " Unsigned"
      ]
     },
     "execution_count": 29,
     "metadata": {},
     "output_type": "execute_result"
    }
   ],
   "source": [
    "Integer |> subtypes"
   ]
  },
  {
   "cell_type": "code",
   "execution_count": 30,
   "metadata": {},
   "outputs": [
    {
     "data": {
      "text/plain": [
       "6-element Vector{Any}:\n",
       " BigInt\n",
       " Int128\n",
       " Int16\n",
       " Int32\n",
       " Int64\n",
       " Int8"
      ]
     },
     "execution_count": 30,
     "metadata": {},
     "output_type": "execute_result"
    }
   ],
   "source": [
    "Signed |> subtypes"
   ]
  },
  {
   "cell_type": "code",
   "execution_count": 31,
   "metadata": {},
   "outputs": [
    {
     "data": {
      "text/plain": [
       "true"
      ]
     },
     "execution_count": 31,
     "metadata": {},
     "output_type": "execute_result"
    }
   ],
   "source": [
    "UInt8 <: Unsigned # UInt8 is one subtype of Unsigned"
   ]
  },
  {
   "cell_type": "code",
   "execution_count": 32,
   "metadata": {},
   "outputs": [
    {
     "data": {
      "text/plain": [
       "true"
      ]
     },
     "execution_count": 32,
     "metadata": {},
     "output_type": "execute_result"
    }
   ],
   "source": [
    "Signed >: Int8 # Signed is supertype of Int8"
   ]
  },
  {
   "cell_type": "code",
   "execution_count": 33,
   "metadata": {},
   "outputs": [
    {
     "data": {
      "text/plain": [
       "Int64"
      ]
     },
     "execution_count": 33,
     "metadata": {},
     "output_type": "execute_result"
    }
   ],
   "source": [
    "typeof(3)"
   ]
  },
  {
   "cell_type": "code",
   "execution_count": 34,
   "metadata": {},
   "outputs": [
    {
     "data": {
      "text/plain": [
       "UInt8"
      ]
     },
     "execution_count": 34,
     "metadata": {},
     "output_type": "execute_result"
    }
   ],
   "source": [
    "tmp::UInt8 = 3\n",
    "typeof(tmp)"
   ]
  },
  {
   "cell_type": "markdown",
   "metadata": {},
   "source": [
    "### Mathematical Notation"
   ]
  },
  {
   "cell_type": "code",
   "execution_count": 35,
   "metadata": {},
   "outputs": [
    {
     "name": "stdout",
     "output_type": "stream",
     "text": [
      "3\n",
      "3\n"
     ]
    }
   ],
   "source": [
    "println(1+2)\n",
    "println(+(1, 2))"
   ]
  },
  {
   "cell_type": "code",
   "execution_count": 36,
   "metadata": {},
   "outputs": [
    {
     "name": "stdout",
     "output_type": "stream",
     "text": [
      "-1\n",
      "-1\n"
     ]
    }
   ],
   "source": [
    "println(1-2)\n",
    "println(-(1, 2))"
   ]
  },
  {
   "cell_type": "code",
   "execution_count": 37,
   "metadata": {},
   "outputs": [
    {
     "name": "stdout",
     "output_type": "stream",
     "text": [
      "2\n",
      "2\n"
     ]
    }
   ],
   "source": [
    "println(1*2)\n",
    "println(*(1, 2))"
   ]
  },
  {
   "cell_type": "code",
   "execution_count": 38,
   "metadata": {},
   "outputs": [
    {
     "name": "stdout",
     "output_type": "stream",
     "text": [
      "0.5\n",
      "0.5\n"
     ]
    }
   ],
   "source": [
    "println(1/2)\n",
    "println(/(1, 2))"
   ]
  },
  {
   "cell_type": "code",
   "execution_count": 39,
   "metadata": {},
   "outputs": [
    {
     "name": "stdout",
     "output_type": "stream",
     "text": [
      "2.15\n",
      "43//20\n"
     ]
    }
   ],
   "source": [
    "println(3/4+7/5)\n",
    "println(3//4+7//5)"
   ]
  },
  {
   "cell_type": "markdown",
   "metadata": {},
   "source": [
    "### Array Transformations"
   ]
  },
  {
   "cell_type": "markdown",
   "metadata": {},
   "source": [
    "Perform calculations on entire arrays at once."
   ]
  },
  {
   "cell_type": "code",
   "execution_count": 40,
   "metadata": {},
   "outputs": [
    {
     "data": {
      "text/plain": [
       "3×2 Matrix{Float64}:\n",
       " 0.0  0.0\n",
       " 0.0  0.0\n",
       " 0.0  0.0"
      ]
     },
     "execution_count": 40,
     "metadata": {},
     "output_type": "execute_result"
    }
   ],
   "source": [
    "zeros(3, 2)"
   ]
  },
  {
   "cell_type": "code",
   "execution_count": 41,
   "metadata": {},
   "outputs": [
    {
     "data": {
      "text/plain": [
       "3×3×2 Array{Float64, 3}:\n",
       "[:, :, 1] =\n",
       " 1.0  1.0  1.0\n",
       " 1.0  1.0  1.0\n",
       " 1.0  1.0  1.0\n",
       "\n",
       "[:, :, 2] =\n",
       " 1.0  1.0  1.0\n",
       " 1.0  1.0  1.0\n",
       " 1.0  1.0  1.0"
      ]
     },
     "execution_count": 41,
     "metadata": {},
     "output_type": "execute_result"
    }
   ],
   "source": [
    "ones(3, 3, 2)"
   ]
  },
  {
   "cell_type": "code",
   "execution_count": 42,
   "metadata": {},
   "outputs": [
    {
     "data": {
      "text/plain": [
       "2×2 Matrix{Irrational{:π}}:\n",
       " π  π\n",
       " π  π"
      ]
     },
     "execution_count": 42,
     "metadata": {},
     "output_type": "execute_result"
    }
   ],
   "source": [
    "fill(π, (2, 2))"
   ]
  },
  {
   "cell_type": "code",
   "execution_count": 43,
   "metadata": {},
   "outputs": [
    {
     "data": {
      "text/plain": [
       "2×2 Matrix{Float64}:\n",
       " 3.14159  3.14159\n",
       " 3.14159  3.14159"
      ]
     },
     "execution_count": 43,
     "metadata": {},
     "output_type": "execute_result"
    }
   ],
   "source": [
    "π .* ones(2, 2)"
   ]
  },
  {
   "cell_type": "code",
   "execution_count": 44,
   "metadata": {},
   "outputs": [
    {
     "data": {
      "text/latex": [
       "Creates a \\texttt{BitArray} with all values set to \\texttt{true}\n",
       "\n"
      ],
      "text/markdown": [
       "Creates a `BitArray` with all values set to `true`\n"
      ],
      "text/plain": [
       "  Creates a \u001b[36mBitArray\u001b[39m with all values set to \u001b[36mtrue\u001b[39m"
      ]
     },
     "execution_count": 44,
     "metadata": {},
     "output_type": "execute_result"
    }
   ],
   "source": [
    "md\"Creates a `BitArray` with all values set to `true`\""
   ]
  },
  {
   "cell_type": "code",
   "execution_count": 45,
   "metadata": {},
   "outputs": [
    {
     "name": "stdout",
     "output_type": "stream",
     "text": [
      "Bool[1 1 1 1; 1 1 1 1]\n"
     ]
    },
    {
     "data": {
      "text/plain": [
       "BitMatrix\u001b[90m (alias for \u001b[39m\u001b[90mBitArray{2}\u001b[39m\u001b[90m)\u001b[39m"
      ]
     },
     "execution_count": 45,
     "metadata": {},
     "output_type": "execute_result"
    }
   ],
   "source": [
    "var = trues(2, 4)\n",
    "println(var)\n",
    "typeof(var)"
   ]
  },
  {
   "cell_type": "code",
   "execution_count": 46,
   "metadata": {},
   "outputs": [
    {
     "data": {
      "text/latex": [
       "Creates a \\texttt{BitArray} with all values set to \\texttt{false}\n",
       "\n"
      ],
      "text/markdown": [
       "Creates a `BitArray` with all values set to `false`\n"
      ],
      "text/plain": [
       "  Creates a \u001b[36mBitArray\u001b[39m with all values set to \u001b[36mfalse\u001b[39m"
      ]
     },
     "execution_count": 46,
     "metadata": {},
     "output_type": "execute_result"
    }
   ],
   "source": [
    "md\"Creates a `BitArray` with all values set to `false`\""
   ]
  },
  {
   "cell_type": "code",
   "execution_count": 47,
   "metadata": {},
   "outputs": [
    {
     "name": "stdout",
     "output_type": "stream",
     "text": [
      "Bool[0 0 0 0; 0 0 0 0]\n"
     ]
    },
    {
     "data": {
      "text/plain": [
       "BitMatrix\u001b[90m (alias for \u001b[39m\u001b[90mBitArray{2}\u001b[39m\u001b[90m)\u001b[39m"
      ]
     },
     "execution_count": 47,
     "metadata": {},
     "output_type": "execute_result"
    }
   ],
   "source": [
    "var = falses(2, 4)\n",
    "println(var)\n",
    "typeof(var)"
   ]
  },
  {
   "cell_type": "code",
   "execution_count": 48,
   "metadata": {},
   "outputs": [
    {
     "data": {
      "text/latex": [
       "\\textbf{Comprehension}\n",
       "\n"
      ],
      "text/markdown": [
       "**Comprehension**\n"
      ],
      "text/plain": [
       "  \u001b[1mComprehension\u001b[22m"
      ]
     },
     "execution_count": 48,
     "metadata": {},
     "output_type": "execute_result"
    }
   ],
   "source": [
    "md\"**Comprehension**\""
   ]
  },
  {
   "cell_type": "code",
   "execution_count": 49,
   "metadata": {},
   "outputs": [
    {
     "name": "stdout",
     "output_type": "stream",
     "text": [
      "H\n",
      "e\n",
      "l\n",
      "l\n",
      "o\n",
      " \n",
      "J\n",
      "u\n",
      "l\n",
      "i\n",
      "a\n"
     ]
    }
   ],
   "source": [
    "str = \"Hello Julia\"\n",
    "[println(el) for el in str];"
   ]
  },
  {
   "cell_type": "markdown",
   "metadata": {},
   "source": [
    "### Calling Functions"
   ]
  },
  {
   "cell_type": "markdown",
   "metadata": {},
   "source": [
    "Call functions to obtain multiple outputs."
   ]
  },
  {
   "cell_type": "code",
   "execution_count": 50,
   "metadata": {},
   "outputs": [
    {
     "data": {
      "text/latex": [
       "\\href{https://docs.julialang.org/en/v1/manual/functions/}{Functions in ${\\tt Julia}$}\n",
       "\n"
      ],
      "text/markdown": [
       "[Functions in ${\\tt Julia}$](https://docs.julialang.org/en/v1/manual/functions/)\n"
      ],
      "text/plain": [
       "  Functions in \u001b[35m{\\tt Julia}\u001b[39m\n",
       "  (https://docs.julialang.org/en/v1/manual/functions/)"
      ]
     },
     "execution_count": 50,
     "metadata": {},
     "output_type": "execute_result"
    }
   ],
   "source": [
    "md\"\"\"\n",
    "[Functions in ${\\tt Julia}$](https://docs.julialang.org/en/v1/manual/functions/)\n",
    "\"\"\""
   ]
  },
  {
   "cell_type": "code",
   "execution_count": 51,
   "metadata": {},
   "outputs": [
    {
     "data": {
      "text/latex": [
       "\\textbf{Spreading Arguments}\n",
       "\n"
      ],
      "text/markdown": [
       "**Spreading Arguments**\n"
      ],
      "text/plain": [
       "  \u001b[1mSpreading Arguments\u001b[22m"
      ]
     },
     "execution_count": 51,
     "metadata": {},
     "output_type": "execute_result"
    }
   ],
   "source": [
    "md\"**Spreading Arguments**\""
   ]
  },
  {
   "cell_type": "markdown",
   "metadata": {},
   "source": [
    "_Optional positional arguments_"
   ]
  },
  {
   "cell_type": "code",
   "execution_count": 52,
   "metadata": {},
   "outputs": [
    {
     "data": {
      "text/plain": [
       "foo (generic function with 4 methods)"
      ]
     },
     "execution_count": 52,
     "metadata": {},
     "output_type": "execute_result"
    }
   ],
   "source": [
    "foo(x=0, y=0, z=0) = x+y+z"
   ]
  },
  {
   "cell_type": "code",
   "execution_count": 53,
   "metadata": {},
   "outputs": [
    {
     "data": {
      "text/plain": [
       "(0, 6)"
      ]
     },
     "execution_count": 53,
     "metadata": {},
     "output_type": "execute_result"
    }
   ],
   "source": [
    "foo(), foo(1, 2, 3)"
   ]
  },
  {
   "cell_type": "code",
   "execution_count": 54,
   "metadata": {},
   "outputs": [
    {
     "data": {
      "text/plain": [
       "6"
      ]
     },
     "execution_count": 54,
     "metadata": {},
     "output_type": "execute_result"
    }
   ],
   "source": [
    "foo([1, 2, 3]...) # Splat `...` operator"
   ]
  },
  {
   "cell_type": "markdown",
   "metadata": {},
   "source": [
    "_Keywords arguments_"
   ]
  },
  {
   "cell_type": "code",
   "execution_count": 55,
   "metadata": {},
   "outputs": [
    {
     "data": {
      "text/plain": [
       "bar (generic function with 1 method)"
      ]
     },
     "execution_count": 55,
     "metadata": {},
     "output_type": "execute_result"
    }
   ],
   "source": [
    "bar(; a::Real=0, b::Real=0, c::Real=0) = a+b+c"
   ]
  },
  {
   "cell_type": "code",
   "execution_count": 56,
   "metadata": {},
   "outputs": [
    {
     "data": {
      "text/plain": [
       "0"
      ]
     },
     "execution_count": 56,
     "metadata": {},
     "output_type": "execute_result"
    }
   ],
   "source": [
    "bar()"
   ]
  },
  {
   "cell_type": "code",
   "execution_count": 57,
   "metadata": {},
   "outputs": [
    {
     "data": {
      "text/plain": [
       "7.2"
      ]
     },
     "execution_count": 57,
     "metadata": {},
     "output_type": "execute_result"
    }
   ],
   "source": [
    "bar(; Dict(:a => 3, :b => 5.4, :c => -1.2)... ) # ; kwargs..."
   ]
  },
  {
   "cell_type": "code",
   "execution_count": 58,
   "metadata": {},
   "outputs": [
    {
     "name": "stdout",
     "output_type": "stream",
     "text": [
      "MethodError(Main.bar, (1, 2, 3), 0x0000000000006871)\n"
     ]
    }
   ],
   "source": [
    "# THROW AN ERROR \n",
    "try bar([1, 2, 3]...)\n",
    "catch error\n",
    "    println(error)\n",
    "end"
   ]
  },
  {
   "cell_type": "code",
   "execution_count": 59,
   "metadata": {},
   "outputs": [
    {
     "data": {
      "text/latex": [
       "\\textbf{Multiple Dispatch}\n",
       "\n"
      ],
      "text/markdown": [
       "**Multiple Dispatch**\n"
      ],
      "text/plain": [
       "  \u001b[1mMultiple Dispatch\u001b[22m"
      ]
     },
     "execution_count": 59,
     "metadata": {},
     "output_type": "execute_result"
    }
   ],
   "source": [
    "md\"**Multiple Dispatch**\""
   ]
  },
  {
   "cell_type": "code",
   "execution_count": 60,
   "metadata": {},
   "outputs": [
    {
     "data": {
      "text/plain": [
       "f (generic function with 1 method)"
      ]
     },
     "execution_count": 60,
     "metadata": {},
     "output_type": "execute_result"
    }
   ],
   "source": [
    "# 1st method signature\n",
    "function f(x::Int)\n",
    "    x^2\n",
    "end"
   ]
  },
  {
   "cell_type": "code",
   "execution_count": 61,
   "metadata": {},
   "outputs": [
    {
     "data": {
      "text/plain": [
       "f (generic function with 2 methods)"
      ]
     },
     "execution_count": 61,
     "metadata": {},
     "output_type": "execute_result"
    }
   ],
   "source": [
    "# 2nd method signature\n",
    "f(x::Float64) = x^2+1"
   ]
  },
  {
   "cell_type": "code",
   "execution_count": 62,
   "metadata": {},
   "outputs": [
    {
     "data": {
      "text/plain": [
       "f (generic function with 3 methods)"
      ]
     },
     "execution_count": 62,
     "metadata": {},
     "output_type": "execute_result"
    }
   ],
   "source": [
    "# 3rd method signature\n",
    "f(x::Char) = x*'y'*'z'"
   ]
  },
  {
   "cell_type": "code",
   "execution_count": 63,
   "metadata": {},
   "outputs": [
    {
     "data": {
      "text/plain": [
       "f (generic function with 4 methods)"
      ]
     },
     "execution_count": 63,
     "metadata": {},
     "output_type": "execute_result"
    }
   ],
   "source": [
    "# 4th mehod signature\n",
    "f(x::String) = x*x "
   ]
  },
  {
   "cell_type": "code",
   "execution_count": 64,
   "metadata": {},
   "outputs": [
    {
     "data": {
      "text/html": [
       "# 4 methods for generic function <b>f</b> from \u001b[35mMain\u001b[39m:<ul><li> f(x::<b>String</b>) in Main at In[63]:2</li> <li> f(x::<b>Char</b>) in Main at In[62]:2</li> <li> f(x::<b>Float64</b>) in Main at In[61]:2</li> <li> f(x::<b>Int64</b>) in Main at In[60]:2</li> </ul>"
      ],
      "text/plain": [
       "# 4 methods for generic function \"f\" from \u001b[35mMain\u001b[39m:\n",
       " [1] f(\u001b[90mx\u001b[39m::\u001b[1mString\u001b[22m)\n",
       "\u001b[90m     @\u001b[39m \u001b[90m\u001b[4mIn[63]:2\u001b[24m\u001b[39m\n",
       " [2] f(\u001b[90mx\u001b[39m::\u001b[1mChar\u001b[22m)\n",
       "\u001b[90m     @\u001b[39m \u001b[90m\u001b[4mIn[62]:2\u001b[24m\u001b[39m\n",
       " [3] f(\u001b[90mx\u001b[39m::\u001b[1mFloat64\u001b[22m)\n",
       "\u001b[90m     @\u001b[39m \u001b[90m\u001b[4mIn[61]:2\u001b[24m\u001b[39m\n",
       " [4] f(\u001b[90mx\u001b[39m::\u001b[1mInt64\u001b[22m)\n",
       "\u001b[90m     @\u001b[39m \u001b[90m\u001b[4mIn[60]:2\u001b[24m\u001b[39m"
      ]
     },
     "execution_count": 64,
     "metadata": {},
     "output_type": "execute_result"
    }
   ],
   "source": [
    "methods(f)"
   ]
  },
  {
   "cell_type": "code",
   "execution_count": 65,
   "metadata": {},
   "outputs": [
    {
     "data": {
      "text/plain": [
       "(1, 2.0, \"xyz\", \"abcabc\")"
      ]
     },
     "execution_count": 65,
     "metadata": {},
     "output_type": "execute_result"
    }
   ],
   "source": [
    "f(1), f(1.), f('x'), f(\"abc\")"
   ]
  },
  {
   "cell_type": "code",
   "execution_count": 66,
   "metadata": {},
   "outputs": [
    {
     "data": {
      "text/plain": [
       "mycos (generic function with 2 methods)"
      ]
     },
     "execution_count": 66,
     "metadata": {},
     "output_type": "execute_result"
    }
   ],
   "source": [
    "mycos(x) = cos(x)\n",
    "mycos(adj, hyp) = adj/hyp # Extension to `mycos` function"
   ]
  },
  {
   "cell_type": "code",
   "execution_count": 67,
   "metadata": {
    "scrolled": true
   },
   "outputs": [
    {
     "data": {
      "text/html": [
       "# 2 methods for generic function <b>mycos</b> from \u001b[35mMain\u001b[39m:<ul><li> mycos(adj, hyp) in Main at In[66]:2</li> <li> mycos(x) in Main at In[66]:1</li> </ul>"
      ],
      "text/plain": [
       "# 2 methods for generic function \"mycos\" from \u001b[35mMain\u001b[39m:\n",
       " [1] mycos(\u001b[90madj\u001b[39m, \u001b[90mhyp\u001b[39m)\n",
       "\u001b[90m     @\u001b[39m \u001b[90m\u001b[4mIn[66]:2\u001b[24m\u001b[39m\n",
       " [2] mycos(\u001b[90mx\u001b[39m)\n",
       "\u001b[90m     @\u001b[39m \u001b[90m\u001b[4mIn[66]:1\u001b[24m\u001b[39m"
      ]
     },
     "execution_count": 67,
     "metadata": {},
     "output_type": "execute_result"
    }
   ],
   "source": [
    "methods(mycos)"
   ]
  },
  {
   "cell_type": "code",
   "execution_count": 68,
   "metadata": {
    "scrolled": true
   },
   "outputs": [
    {
     "data": {
      "text/html": [
       "mycos(x) in Main at In[66]:1"
      ],
      "text/plain": [
       "mycos(\u001b[90mx\u001b[39m)\n",
       "\u001b[90m     @\u001b[39m \u001b[90mMain\u001b[39m \u001b[90m\u001b[4mIn[66]:1\u001b[24m\u001b[39m"
      ]
     },
     "execution_count": 68,
     "metadata": {},
     "output_type": "execute_result"
    }
   ],
   "source": [
    "@which mycos(π)"
   ]
  },
  {
   "cell_type": "code",
   "execution_count": 69,
   "metadata": {
    "scrolled": true
   },
   "outputs": [
    {
     "data": {
      "text/html": [
       "mycos(adj, hyp) in Main at In[66]:2"
      ],
      "text/plain": [
       "mycos(\u001b[90madj\u001b[39m, \u001b[90mhyp\u001b[39m)\n",
       "\u001b[90m     @\u001b[39m \u001b[90mMain\u001b[39m \u001b[90m\u001b[4mIn[66]:2\u001b[24m\u001b[39m"
      ]
     },
     "execution_count": 69,
     "metadata": {},
     "output_type": "execute_result"
    }
   ],
   "source": [
    "@which mycos(5, 3)"
   ]
  },
  {
   "cell_type": "code",
   "execution_count": 70,
   "metadata": {},
   "outputs": [
    {
     "data": {
      "text/plain": [
       "mycos (generic function with 2 methods)"
      ]
     },
     "execution_count": 70,
     "metadata": {},
     "output_type": "execute_result"
    }
   ],
   "source": [
    "mycos(adj, hyp=10) = adj/hyp"
   ]
  },
  {
   "cell_type": "code",
   "execution_count": 71,
   "metadata": {},
   "outputs": [
    {
     "data": {
      "text/html": [
       "mycos(adj) in Main at In[70]:1"
      ],
      "text/plain": [
       "mycos(\u001b[90madj\u001b[39m)\n",
       "\u001b[90m     @\u001b[39m \u001b[90mMain\u001b[39m \u001b[90m\u001b[4mIn[70]:1\u001b[24m\u001b[39m"
      ]
     },
     "execution_count": 71,
     "metadata": {},
     "output_type": "execute_result"
    }
   ],
   "source": [
    "@which mycos(π)"
   ]
  },
  {
   "cell_type": "markdown",
   "metadata": {},
   "source": [
    "**Function Chaining** applies a function to the preceding argument."
   ]
  },
  {
   "cell_type": "code",
   "execution_count": 72,
   "metadata": {},
   "outputs": [
    {
     "data": {
      "text/plain": [
       "9"
      ]
     },
     "execution_count": 72,
     "metadata": {},
     "output_type": "execute_result"
    }
   ],
   "source": [
    "g(x) = x+1\n",
    "h(x) = x^2\n",
    "x = 2 |> g |> h"
   ]
  },
  {
   "cell_type": "code",
   "execution_count": 73,
   "metadata": {},
   "outputs": [
    {
     "data": {
      "text/latex": [
       "Another pssible way is t use \\texttt{∘}\\emph{{\\textbackslash}circ\\{tab\\}} symbol\n",
       "\n"
      ],
      "text/markdown": [
       "Another pssible way is t use `∘`*\\circ{tab}* symbol\n"
      ],
      "text/plain": [
       "  Another pssible way is t use \u001b[36m∘\u001b[39m\u001b[4m\\circ{tab}\u001b[24m symbol"
      ]
     },
     "execution_count": 73,
     "metadata": {},
     "output_type": "execute_result"
    }
   ],
   "source": [
    "md\"Another pssible way is t use `∘`_\\circ{tab}_ symbol\""
   ]
  },
  {
   "cell_type": "code",
   "execution_count": 74,
   "metadata": {},
   "outputs": [
    {
     "data": {
      "text/plain": [
       "9"
      ]
     },
     "execution_count": 74,
     "metadata": {},
     "output_type": "execute_result"
    }
   ],
   "source": [
    "(h∘g)(2)"
   ]
  },
  {
   "cell_type": "code",
   "execution_count": 75,
   "metadata": {},
   "outputs": [
    {
     "data": {
      "text/latex": [
       "Definition of a function can be done on the fly\n",
       "\n"
      ],
      "text/markdown": [
       "Definition of a function can be done on the fly\n"
      ],
      "text/plain": [
       "  Definition of a function can be done on the fly"
      ]
     },
     "execution_count": 75,
     "metadata": {},
     "output_type": "execute_result"
    }
   ],
   "source": [
    "md\"Definition of a function can be done on the fly\""
   ]
  },
  {
   "cell_type": "code",
   "execution_count": 76,
   "metadata": {},
   "outputs": [
    {
     "data": {
      "text/plain": [
       "5.0"
      ]
     },
     "execution_count": 76,
     "metadata": {},
     "output_type": "execute_result"
    }
   ],
   "source": [
    "y = 5 |> (x->x^2) |> √"
   ]
  },
  {
   "cell_type": "code",
   "execution_count": 77,
   "metadata": {},
   "outputs": [
    {
     "data": {
      "text/latex": [
       "\\textbf{Metaprogramming:} Code is optimized by default in ${\\tt Julia}$\n",
       "\n"
      ],
      "text/markdown": [
       "**Metaprogramming:** Code is optimized by default in ${\\tt Julia}$\n"
      ],
      "text/plain": [
       "  \u001b[1mMetaprogramming:\u001b[22m Code is optimized by default in \u001b[35m{\\tt Julia}\u001b[39m"
      ]
     },
     "execution_count": 77,
     "metadata": {},
     "output_type": "execute_result"
    }
   ],
   "source": [
    "md\"\"\"\n",
    "**Metaprogramming:** Code is optimized by default in ${\\tt Julia}$\n",
    "\"\"\""
   ]
  },
  {
   "cell_type": "code",
   "execution_count": 78,
   "metadata": {},
   "outputs": [
    {
     "data": {
      "text/plain": [
       "Foo (generic function with 1 method)"
      ]
     },
     "execution_count": 78,
     "metadata": {},
     "output_type": "execute_result"
    }
   ],
   "source": [
    "function Foo(x::Integer)\n",
    "    y = x\n",
    "    for i=1:100\n",
    "        y += i^2\n",
    "    end\n",
    "    return y\n",
    "end"
   ]
  },
  {
   "cell_type": "code",
   "execution_count": 79,
   "metadata": {},
   "outputs": [
    {
     "name": "stdout",
     "output_type": "stream",
     "text": [
      "\u001b[90m; Function Signature: Foo(Int64)\u001b[39m\n",
      "\u001b[90m;  @ In[78]:1 within `Foo`\u001b[39m\n",
      "\u001b[95mdefine\u001b[39m \u001b[36mi64\u001b[39m \u001b[93m@julia_Foo_22981\u001b[39m\u001b[33m(\u001b[39m\u001b[36mi64\u001b[39m \u001b[95msignext\u001b[39m \u001b[0m%\"x::Int64\"\u001b[33m)\u001b[39m \u001b[0m#0 \u001b[33m{\u001b[39m\n",
      "\u001b[91mtop:\u001b[39m\n",
      "  \u001b[0m%0 \u001b[0m= \u001b[96m\u001b[1madd\u001b[22m\u001b[39m \u001b[36mi64\u001b[39m \u001b[0m%\"x::Int64\"\u001b[0m, \u001b[33m338350\u001b[39m\n",
      "\u001b[90m;  @ In[78]:6 within `Foo`\u001b[39m\n",
      "  \u001b[96m\u001b[1mret\u001b[22m\u001b[39m \u001b[36mi64\u001b[39m \u001b[0m%0\n",
      "\u001b[33m}\u001b[39m\n"
     ]
    }
   ],
   "source": [
    "@code_llvm Foo(3)"
   ]
  },
  {
   "cell_type": "code",
   "execution_count": 80,
   "metadata": {},
   "outputs": [
    {
     "data": {
      "text/latex": [
       "\\begin{verbatim}\n",
       "@code_llvm\n",
       "\\end{verbatim}\n",
       "Evaluates the arguments to the function or macro call, determines their types, and calls \\href{@ref}{\\texttt{code\\_llvm}} on the resulting expression. Set the optional keyword arguments \\texttt{raw}, \\texttt{dump\\_module}, \\texttt{debuginfo}, \\texttt{optimize} by putting them and their value before the function call, like this:\n",
       "\n",
       "\\begin{verbatim}\n",
       "@code_llvm raw=true dump_module=true debuginfo=:default f(x)\n",
       "@code_llvm optimize=false f(x)\n",
       "\\end{verbatim}\n",
       "\\texttt{optimize} controls whether additional optimizations, such as inlining, are also applied. \\texttt{raw} makes all metadata and dbg.* calls visible. \\texttt{debuginfo} may be one of \\texttt{:source} (default) or \\texttt{:none},  to specify the verbosity of code comments. \\texttt{dump\\_module} prints the entire module that encapsulates the function.\n",
       "\n",
       "See also: \\href{@ref}{\\texttt{code\\_llvm}}, \\href{@ref}{\\texttt{@code\\_warntype}}, \\href{@ref}{\\texttt{@code\\_typed}}, \\href{@ref}{\\texttt{@code\\_lowered}}, \\href{@ref}{\\texttt{@code\\_native}}.\n",
       "\n"
      ],
      "text/markdown": [
       "```\n",
       "@code_llvm\n",
       "```\n",
       "\n",
       "Evaluates the arguments to the function or macro call, determines their types, and calls [`code_llvm`](@ref) on the resulting expression. Set the optional keyword arguments `raw`, `dump_module`, `debuginfo`, `optimize` by putting them and their value before the function call, like this:\n",
       "\n",
       "```\n",
       "@code_llvm raw=true dump_module=true debuginfo=:default f(x)\n",
       "@code_llvm optimize=false f(x)\n",
       "```\n",
       "\n",
       "`optimize` controls whether additional optimizations, such as inlining, are also applied. `raw` makes all metadata and dbg.* calls visible. `debuginfo` may be one of `:source` (default) or `:none`,  to specify the verbosity of code comments. `dump_module` prints the entire module that encapsulates the function.\n",
       "\n",
       "See also: [`code_llvm`](@ref), [`@code_warntype`](@ref), [`@code_typed`](@ref), [`@code_lowered`](@ref), [`@code_native`](@ref).\n"
      ],
      "text/plain": [
       "  \u001b[38;2;102;217;239m@\u001b[0m\u001b[38;2;102;217;239mcode_llvm\u001b[0m\n",
       "\n",
       "  Evaluates the arguments to the function or macro call, determines their\n",
       "  types, and calls \u001b[36mcode_llvm\u001b[39m on the resulting expression. Set the optional\n",
       "  keyword arguments \u001b[36mraw\u001b[39m, \u001b[36mdump_module\u001b[39m, \u001b[36mdebuginfo\u001b[39m, \u001b[36moptimize\u001b[39m by putting them and\n",
       "  their value before the function call, like this:\n",
       "\n",
       "  \u001b[38;2;102;217;239m@\u001b[0m\u001b[38;2;102;217;239mcode_llvm\u001b[0m \u001b[0m\u001b[39mraw\u001b[0m\u001b[38;2;249;38;114m=\u001b[0m\u001b[38;2;249;38;114mtrue\u001b[0m \u001b[0m\u001b[39mdump_module\u001b[0m\u001b[38;2;249;38;114m=\u001b[0m\u001b[38;2;249;38;114mtrue\u001b[0m \u001b[0m\u001b[39mdebuginfo\u001b[0m\u001b[38;2;249;38;114m=\u001b[0m\u001b[38;2;174;129;255m:\u001b[0m\u001b[38;2;174;129;255mdefault\u001b[0m \u001b[0m\u001b[38;2;102;217;239mf\u001b[0m(\u001b[0m\u001b[39mx\u001b[0m\u001b[39m)\u001b[0m\n",
       "  \u001b[0m\u001b[38;2;102;217;239m@\u001b[0m\u001b[38;2;102;217;239mcode_llvm\u001b[0m \u001b[0m\u001b[39moptimize\u001b[0m\u001b[38;2;249;38;114m=\u001b[0m\u001b[38;2;249;38;114mfalse\u001b[0m \u001b[0m\u001b[38;2;102;217;239mf\u001b[0m(\u001b[0m\u001b[39mx\u001b[0m\u001b[39m)\u001b[0m\n",
       "\n",
       "  \u001b[36moptimize\u001b[39m controls whether additional optimizations, such as inlining, are\n",
       "  also applied. \u001b[36mraw\u001b[39m makes all metadata and dbg.* calls visible. \u001b[36mdebuginfo\u001b[39m may\n",
       "  be one of \u001b[36m:source\u001b[39m (default) or \u001b[36m:none\u001b[39m, to specify the verbosity of code\n",
       "  comments. \u001b[36mdump_module\u001b[39m prints the entire module that encapsulates the\n",
       "  function.\n",
       "\n",
       "  See also: \u001b[36mcode_llvm\u001b[39m, \u001b[36m@code_warntype\u001b[39m, \u001b[36m@code_typed\u001b[39m, \u001b[36m@code_lowered\u001b[39m,\n",
       "  \u001b[36m@code_native\u001b[39m."
      ]
     },
     "execution_count": 80,
     "metadata": {},
     "output_type": "execute_result"
    }
   ],
   "source": [
    "?@code_llvm"
   ]
  },
  {
   "cell_type": "markdown",
   "metadata": {},
   "source": [
    "### Plotting Data"
   ]
  },
  {
   "cell_type": "markdown",
   "metadata": {},
   "source": [
    "Visualize variables using ${\\tt Julia}$'s plotting functions."
   ]
  },
  {
   "cell_type": "code",
   "execution_count": 81,
   "metadata": {},
   "outputs": [
    {
     "name": "stderr",
     "output_type": "stream",
     "text": [
      "\u001b[32m\u001b[1m   Resolving\u001b[22m\u001b[39m package versions...\n",
      "\u001b[32m\u001b[1m  No Changes\u001b[22m\u001b[39m to `~/Work/git-repos/AI-ML-DL/jlai/Codes/Julia/Part-1/Project.toml`\n",
      "\u001b[32m\u001b[1m  No Changes\u001b[22m\u001b[39m to `~/Work/git-repos/AI-ML-DL/jlai/Codes/Julia/Part-1/Manifest.toml`\n"
     ]
    }
   ],
   "source": [
    "]add Plots"
   ]
  },
  {
   "cell_type": "code",
   "execution_count": 82,
   "metadata": {},
   "outputs": [
    {
     "name": "stderr",
     "output_type": "stream",
     "text": [
      "WARNING: using Plots.bar in module Main conflicts with an existing identifier.\n"
     ]
    }
   ],
   "source": [
    "using Plots # GR is the default backend"
   ]
  },
  {
   "cell_type": "code",
   "execution_count": 83,
   "metadata": {},
   "outputs": [
    {
     "data": {
      "image/png": "[encoded data removed]",
      "image/svg+xml": [
       "<?xml version=\"1.0\" encoding=\"utf-8\"?>\n",
       "<svg xmlns=\"http://www.w3.org/2000/svg\" xmlns:xlink=\"http://www.w3.org/1999/xlink\" width=\"600\" height=\"400\" viewBox=\"0 0 2400 1600\">\n",
       "<defs>\n",
       "  <clipPath id=\"clip540\">\n",
       "    <rect x=\"0\" y=\"0\" width=\"2400\" height=\"1600\"/>\n",
       "  </clipPath>\n",
       "</defs>\n",
       "<path clip-path=\"url(#clip540)\" d=\"M0 1600 L2400 1600 L2400 0 L0 0  Z\" fill=\"#282a36\" fill-rule=\"evenodd\" fill-opacity=\"1\"/>\n",
       "<defs>\n",
       "  <clipPath id=\"clip541\">\n",
       "    <rect x=\"480\" y=\"0\" width=\"1681\" height=\"1600\"/>\n",
       "  </clipPath>\n",
       "</defs>\n",
       "<path clip-path=\"url(#clip540)\" d=\"M193.936 1486.45 L2352.76 1486.45 L2352.76 47.2441 L193.936 47.2441  Z\" fill=\"#30343b\" fill-rule=\"evenodd\" fill-opacity=\"1\"/>\n",
       "<defs>\n",
       "  <clipPath id=\"clip542\">\n",
       "    <rect x=\"193\" y=\"47\" width=\"2160\" height=\"1440\"/>\n",
       "  </clipPath>\n",
       "</defs>\n",
       "<polyline clip-path=\"url(#clip542)\" style=\"stroke:#f8f8f2; stroke-linecap:round; stroke-linejoin:round; stroke-width:2; stroke-opacity:0.1; fill:none\" points=\"481.326,1486.45 481.326,47.2441 \"/>\n",
       "<polyline clip-path=\"url(#clip542)\" style=\"stroke:#f8f8f2; stroke-linecap:round; stroke-linejoin:round; stroke-width:2; stroke-opacity:0.1; fill:none\" points=\"933.909,1486.45 933.909,47.2441 \"/>\n",
       "<polyline clip-path=\"url(#clip542)\" style=\"stroke:#f8f8f2; stroke-linecap:round; stroke-linejoin:round; stroke-width:2; stroke-opacity:0.1; fill:none\" points=\"1386.49,1486.45 1386.49,47.2441 \"/>\n",
       "<polyline clip-path=\"url(#clip542)\" style=\"stroke:#f8f8f2; stroke-linecap:round; stroke-linejoin:round; stroke-width:2; stroke-opacity:0.1; fill:none\" points=\"1839.07,1486.45 1839.07,47.2441 \"/>\n",
       "<polyline clip-path=\"url(#clip542)\" style=\"stroke:#f8f8f2; stroke-linecap:round; stroke-linejoin:round; stroke-width:2; stroke-opacity:0.1; fill:none\" points=\"2291.66,1486.45 2291.66,47.2441 \"/>\n",
       "<polyline clip-path=\"url(#clip542)\" style=\"stroke:#f8f8f2; stroke-linecap:round; stroke-linejoin:round; stroke-width:2; stroke-opacity:0.1; fill:none\" points=\"193.936,1445.77 2352.76,1445.77 \"/>\n",
       "<polyline clip-path=\"url(#clip542)\" style=\"stroke:#f8f8f2; stroke-linecap:round; stroke-linejoin:round; stroke-width:2; stroke-opacity:0.1; fill:none\" points=\"193.936,1106.3 2352.76,1106.3 \"/>\n",
       "<polyline clip-path=\"url(#clip542)\" style=\"stroke:#f8f8f2; stroke-linecap:round; stroke-linejoin:round; stroke-width:2; stroke-opacity:0.1; fill:none\" points=\"193.936,766.824 2352.76,766.824 \"/>\n",
       "<polyline clip-path=\"url(#clip542)\" style=\"stroke:#f8f8f2; stroke-linecap:round; stroke-linejoin:round; stroke-width:2; stroke-opacity:0.1; fill:none\" points=\"193.936,427.352 2352.76,427.352 \"/>\n",
       "<polyline clip-path=\"url(#clip542)\" style=\"stroke:#f8f8f2; stroke-linecap:round; stroke-linejoin:round; stroke-width:2; stroke-opacity:0.1; fill:none\" points=\"193.936,87.8803 2352.76,87.8803 \"/>\n",
       "<polyline clip-path=\"url(#clip540)\" style=\"stroke:#f8f8f2; stroke-linecap:round; stroke-linejoin:round; stroke-width:4; stroke-opacity:1; fill:none\" points=\"193.936,1486.45 2352.76,1486.45 \"/>\n",
       "<polyline clip-path=\"url(#clip540)\" style=\"stroke:#f8f8f2; stroke-linecap:round; stroke-linejoin:round; stroke-width:4; stroke-opacity:1; fill:none\" points=\"481.326,1486.45 481.326,1467.55 \"/>\n",
       "<polyline clip-path=\"url(#clip540)\" style=\"stroke:#f8f8f2; stroke-linecap:round; stroke-linejoin:round; stroke-width:4; stroke-opacity:1; fill:none\" points=\"933.909,1486.45 933.909,1467.55 \"/>\n",
       "<polyline clip-path=\"url(#clip540)\" style=\"stroke:#f8f8f2; stroke-linecap:round; stroke-linejoin:round; stroke-width:4; stroke-opacity:1; fill:none\" points=\"1386.49,1486.45 1386.49,1467.55 \"/>\n",
       "<polyline clip-path=\"url(#clip540)\" style=\"stroke:#f8f8f2; stroke-linecap:round; stroke-linejoin:round; stroke-width:4; stroke-opacity:1; fill:none\" points=\"1839.07,1486.45 1839.07,1467.55 \"/>\n",
       "<polyline clip-path=\"url(#clip540)\" style=\"stroke:#f8f8f2; stroke-linecap:round; stroke-linejoin:round; stroke-width:4; stroke-opacity:1; fill:none\" points=\"2291.66,1486.45 2291.66,1467.55 \"/>\n",
       "<path clip-path=\"url(#clip540)\" d=\"M475.979 1544.91 L492.298 1544.91 L492.298 1548.85 L470.354 1548.85 L470.354 1544.91 Q473.016 1542.16 477.599 1537.53 Q482.206 1532.88 483.386 1531.53 Q485.632 1529.01 486.511 1527.27 Q487.414 1525.51 487.414 1523.82 Q487.414 1521.07 485.47 1519.33 Q483.548 1517.6 480.446 1517.6 Q478.247 1517.6 475.794 1518.36 Q473.363 1519.13 470.585 1520.68 L470.585 1515.95 Q473.409 1514.82 475.863 1514.24 Q478.317 1513.66 480.354 1513.66 Q485.724 1513.66 488.919 1516.35 Q492.113 1519.03 492.113 1523.52 Q492.113 1525.65 491.303 1527.57 Q490.516 1529.47 488.409 1532.07 Q487.831 1532.74 484.729 1535.95 Q481.627 1539.15 475.979 1544.91 Z\" fill=\"#f8f8f2\" fill-rule=\"nonzero\" fill-opacity=\"1\" /><path clip-path=\"url(#clip540)\" d=\"M936.918 1518.36 L925.113 1536.81 L936.918 1536.81 L936.918 1518.36 M935.691 1514.29 L941.571 1514.29 L941.571 1536.81 L946.501 1536.81 L946.501 1540.7 L941.571 1540.7 L941.571 1548.85 L936.918 1548.85 L936.918 1540.7 L921.316 1540.7 L921.316 1536.19 L935.691 1514.29 Z\" fill=\"#f8f8f2\" fill-rule=\"nonzero\" fill-opacity=\"1\" /><path clip-path=\"url(#clip540)\" d=\"M1386.9 1529.7 Q1383.75 1529.7 1381.9 1531.86 Q1380.07 1534.01 1380.07 1537.76 Q1380.07 1541.49 1381.9 1543.66 Q1383.75 1545.82 1386.9 1545.82 Q1390.04 1545.82 1391.87 1543.66 Q1393.73 1541.49 1393.73 1537.76 Q1393.73 1534.01 1391.87 1531.86 Q1390.04 1529.7 1386.9 1529.7 M1396.18 1515.05 L1396.18 1519.31 Q1394.42 1518.48 1392.61 1518.04 Q1390.83 1517.6 1389.07 1517.6 Q1384.44 1517.6 1381.99 1520.72 Q1379.56 1523.85 1379.21 1530.17 Q1380.58 1528.15 1382.64 1527.09 Q1384.7 1526 1387.17 1526 Q1392.38 1526 1395.39 1529.17 Q1398.42 1532.32 1398.42 1537.76 Q1398.42 1543.08 1395.28 1546.3 Q1392.13 1549.52 1386.9 1549.52 Q1380.9 1549.52 1377.73 1544.94 Q1374.56 1540.33 1374.56 1531.6 Q1374.56 1523.41 1378.45 1518.55 Q1382.34 1513.66 1388.89 1513.66 Q1390.65 1513.66 1392.43 1514.01 Q1394.23 1514.36 1396.18 1515.05 Z\" fill=\"#f8f8f2\" fill-rule=\"nonzero\" fill-opacity=\"1\" /><path clip-path=\"url(#clip540)\" d=\"M1839.07 1532.44 Q1835.74 1532.44 1833.82 1534.22 Q1831.92 1536 1831.92 1539.13 Q1831.92 1542.25 1833.82 1544.03 Q1835.74 1545.82 1839.07 1545.82 Q1842.41 1545.82 1844.33 1544.03 Q1846.25 1542.23 1846.25 1539.13 Q1846.25 1536 1844.33 1534.22 Q1842.43 1532.44 1839.07 1532.44 M1834.4 1530.45 Q1831.39 1529.7 1829.7 1527.64 Q1828.03 1525.58 1828.03 1522.62 Q1828.03 1518.48 1830.97 1516.07 Q1833.94 1513.66 1839.07 1513.66 Q1844.24 1513.66 1847.18 1516.07 Q1850.12 1518.48 1850.12 1522.62 Q1850.12 1525.58 1848.43 1527.64 Q1846.76 1529.7 1843.77 1530.45 Q1847.15 1531.23 1849.03 1533.52 Q1850.93 1535.82 1850.93 1539.13 Q1850.93 1544.15 1847.85 1546.83 Q1844.79 1549.52 1839.07 1549.52 Q1833.36 1549.52 1830.28 1546.83 Q1827.22 1544.15 1827.22 1539.13 Q1827.22 1535.82 1829.12 1533.52 Q1831.02 1531.23 1834.4 1530.45 M1832.69 1523.06 Q1832.69 1525.75 1834.35 1527.25 Q1836.04 1528.76 1839.07 1528.76 Q1842.08 1528.76 1843.77 1527.25 Q1845.49 1525.75 1845.49 1523.06 Q1845.49 1520.38 1843.77 1518.87 Q1842.08 1517.37 1839.07 1517.37 Q1836.04 1517.37 1834.35 1518.87 Q1832.69 1520.38 1832.69 1523.06 Z\" fill=\"#f8f8f2\" fill-rule=\"nonzero\" fill-opacity=\"1\" /><path clip-path=\"url(#clip540)\" d=\"M2266.34 1544.91 L2273.98 1544.91 L2273.98 1518.55 L2265.67 1520.21 L2265.67 1515.95 L2273.94 1514.29 L2278.61 1514.29 L2278.61 1544.91 L2286.25 1544.91 L2286.25 1548.85 L2266.34 1548.85 L2266.34 1544.91 Z\" fill=\"#f8f8f2\" fill-rule=\"nonzero\" fill-opacity=\"1\" /><path clip-path=\"url(#clip540)\" d=\"M2305.7 1517.37 Q2302.09 1517.37 2300.26 1520.93 Q2298.45 1524.47 2298.45 1531.6 Q2298.45 1538.71 2300.26 1542.27 Q2302.09 1545.82 2305.7 1545.82 Q2309.33 1545.82 2311.14 1542.27 Q2312.96 1538.71 2312.96 1531.6 Q2312.96 1524.47 2311.14 1520.93 Q2309.33 1517.37 2305.7 1517.37 M2305.7 1513.66 Q2311.51 1513.66 2314.56 1518.27 Q2317.64 1522.85 2317.64 1531.6 Q2317.64 1540.33 2314.56 1544.94 Q2311.51 1549.52 2305.7 1549.52 Q2299.89 1549.52 2296.81 1544.94 Q2293.75 1540.33 2293.75 1531.6 Q2293.75 1522.85 2296.81 1518.27 Q2299.89 1513.66 2305.7 1513.66 Z\" fill=\"#f8f8f2\" fill-rule=\"nonzero\" fill-opacity=\"1\" /><polyline clip-path=\"url(#clip540)\" style=\"stroke:#f8f8f2; stroke-linecap:round; stroke-linejoin:round; stroke-width:4; stroke-opacity:1; fill:none\" points=\"193.936,1486.45 193.936,47.2441 \"/>\n",
       "<polyline clip-path=\"url(#clip540)\" style=\"stroke:#f8f8f2; stroke-linecap:round; stroke-linejoin:round; stroke-width:4; stroke-opacity:1; fill:none\" points=\"193.936,1445.77 212.834,1445.77 \"/>\n",
       "<polyline clip-path=\"url(#clip540)\" style=\"stroke:#f8f8f2; stroke-linecap:round; stroke-linejoin:round; stroke-width:4; stroke-opacity:1; fill:none\" points=\"193.936,1106.3 212.834,1106.3 \"/>\n",
       "<polyline clip-path=\"url(#clip540)\" style=\"stroke:#f8f8f2; stroke-linecap:round; stroke-linejoin:round; stroke-width:4; stroke-opacity:1; fill:none\" points=\"193.936,766.824 212.834,766.824 \"/>\n",
       "<polyline clip-path=\"url(#clip540)\" style=\"stroke:#f8f8f2; stroke-linecap:round; stroke-linejoin:round; stroke-width:4; stroke-opacity:1; fill:none\" points=\"193.936,427.352 212.834,427.352 \"/>\n",
       "<polyline clip-path=\"url(#clip540)\" style=\"stroke:#f8f8f2; stroke-linecap:round; stroke-linejoin:round; stroke-width:4; stroke-opacity:1; fill:none\" points=\"193.936,87.8803 212.834,87.8803 \"/>\n",
       "<path clip-path=\"url(#clip540)\" d=\"M50.9921 1446.22 L80.6679 1446.22 L80.6679 1450.15 L50.9921 1450.15 L50.9921 1446.22 Z\" fill=\"#f8f8f2\" fill-rule=\"nonzero\" fill-opacity=\"1\" /><path clip-path=\"url(#clip540)\" d=\"M91.5706 1459.11 L99.2095 1459.11 L99.2095 1432.75 L90.8993 1434.41 L90.8993 1430.15 L99.1632 1428.49 L103.839 1428.49 L103.839 1459.11 L111.478 1459.11 L111.478 1463.05 L91.5706 1463.05 L91.5706 1459.11 Z\" fill=\"#f8f8f2\" fill-rule=\"nonzero\" fill-opacity=\"1\" /><path clip-path=\"url(#clip540)\" d=\"M120.922 1457.17 L125.807 1457.17 L125.807 1463.05 L120.922 1463.05 L120.922 1457.17 Z\" fill=\"#f8f8f2\" fill-rule=\"nonzero\" fill-opacity=\"1\" /><path clip-path=\"url(#clip540)\" d=\"M145.992 1431.57 Q142.381 1431.57 140.552 1435.13 Q138.746 1438.67 138.746 1445.8 Q138.746 1452.91 140.552 1456.47 Q142.381 1460.02 145.992 1460.02 Q149.626 1460.02 151.431 1456.47 Q153.26 1452.91 153.26 1445.8 Q153.26 1438.67 151.431 1435.13 Q149.626 1431.57 145.992 1431.57 M145.992 1427.86 Q151.802 1427.86 154.857 1432.47 Q157.936 1437.05 157.936 1445.8 Q157.936 1454.53 154.857 1459.14 Q151.802 1463.72 145.992 1463.72 Q140.181 1463.72 137.103 1459.14 Q134.047 1454.53 134.047 1445.8 Q134.047 1437.05 137.103 1432.47 Q140.181 1427.86 145.992 1427.86 Z\" fill=\"#f8f8f2\" fill-rule=\"nonzero\" fill-opacity=\"1\" /><path clip-path=\"url(#clip540)\" d=\"M51.9875 1106.75 L81.6633 1106.75 L81.6633 1110.68 L51.9875 1110.68 L51.9875 1106.75 Z\" fill=\"#f8f8f2\" fill-rule=\"nonzero\" fill-opacity=\"1\" /><path clip-path=\"url(#clip540)\" d=\"M101.756 1092.09 Q98.1447 1092.09 96.316 1095.66 Q94.5104 1099.2 94.5104 1106.33 Q94.5104 1113.44 96.316 1117 Q98.1447 1120.54 101.756 1120.54 Q105.39 1120.54 107.196 1117 Q109.024 1113.44 109.024 1106.33 Q109.024 1099.2 107.196 1095.66 Q105.39 1092.09 101.756 1092.09 M101.756 1088.39 Q107.566 1088.39 110.621 1093 Q113.7 1097.58 113.7 1106.33 Q113.7 1115.06 110.621 1119.66 Q107.566 1124.25 101.756 1124.25 Q95.9456 1124.25 92.8669 1119.66 Q89.8114 1115.06 89.8114 1106.33 Q89.8114 1097.58 92.8669 1093 Q95.9456 1088.39 101.756 1088.39 Z\" fill=\"#f8f8f2\" fill-rule=\"nonzero\" fill-opacity=\"1\" /><path clip-path=\"url(#clip540)\" d=\"M121.918 1117.7 L126.802 1117.7 L126.802 1123.58 L121.918 1123.58 L121.918 1117.7 Z\" fill=\"#f8f8f2\" fill-rule=\"nonzero\" fill-opacity=\"1\" /><path clip-path=\"url(#clip540)\" d=\"M137.033 1089.02 L155.39 1089.02 L155.39 1092.95 L141.316 1092.95 L141.316 1101.42 Q142.334 1101.08 143.353 1100.91 Q144.371 1100.73 145.39 1100.73 Q151.177 1100.73 154.556 1103.9 Q157.936 1107.07 157.936 1112.49 Q157.936 1118.07 154.464 1121.17 Q150.992 1124.25 144.672 1124.25 Q142.496 1124.25 140.228 1123.88 Q137.982 1123.51 135.575 1122.77 L135.575 1118.07 Q137.658 1119.2 139.881 1119.76 Q142.103 1120.31 144.58 1120.31 Q148.584 1120.31 150.922 1118.21 Q153.26 1116.1 153.26 1112.49 Q153.26 1108.88 150.922 1106.77 Q148.584 1104.66 144.58 1104.66 Q142.705 1104.66 140.83 1105.08 Q138.978 1105.5 137.033 1106.38 L137.033 1089.02 Z\" fill=\"#f8f8f2\" fill-rule=\"nonzero\" fill-opacity=\"1\" /><path clip-path=\"url(#clip540)\" d=\"M100.76 752.623 Q97.1493 752.623 95.3206 756.188 Q93.515 759.729 93.515 766.859 Q93.515 773.965 95.3206 777.53 Q97.1493 781.072 100.76 781.072 Q104.395 781.072 106.2 777.53 Q108.029 773.965 108.029 766.859 Q108.029 759.729 106.2 756.188 Q104.395 752.623 100.76 752.623 M100.76 748.919 Q106.571 748.919 109.626 753.526 Q112.705 758.109 112.705 766.859 Q112.705 775.586 109.626 780.192 Q106.571 784.775 100.76 784.775 Q94.9502 784.775 91.8715 780.192 Q88.816 775.586 88.816 766.859 Q88.816 758.109 91.8715 753.526 Q94.9502 748.919 100.76 748.919 Z\" fill=\"#f8f8f2\" fill-rule=\"nonzero\" fill-opacity=\"1\" /><path clip-path=\"url(#clip540)\" d=\"M120.922 778.224 L125.807 778.224 L125.807 784.104 L120.922 784.104 L120.922 778.224 Z\" fill=\"#f8f8f2\" fill-rule=\"nonzero\" fill-opacity=\"1\" /><path clip-path=\"url(#clip540)\" d=\"M145.992 752.623 Q142.381 752.623 140.552 756.188 Q138.746 759.729 138.746 766.859 Q138.746 773.965 140.552 777.53 Q142.381 781.072 145.992 781.072 Q149.626 781.072 151.431 777.53 Q153.26 773.965 153.26 766.859 Q153.26 759.729 151.431 756.188 Q149.626 752.623 145.992 752.623 M145.992 748.919 Q151.802 748.919 154.857 753.526 Q157.936 758.109 157.936 766.859 Q157.936 775.586 154.857 780.192 Q151.802 784.775 145.992 784.775 Q140.181 784.775 137.103 780.192 Q134.047 775.586 134.047 766.859 Q134.047 758.109 137.103 753.526 Q140.181 748.919 145.992 748.919 Z\" fill=\"#f8f8f2\" fill-rule=\"nonzero\" fill-opacity=\"1\" /><path clip-path=\"url(#clip540)\" d=\"M101.756 413.151 Q98.1447 413.151 96.316 416.716 Q94.5104 420.257 94.5104 427.387 Q94.5104 434.493 96.316 438.058 Q98.1447 441.6 101.756 441.6 Q105.39 441.6 107.196 438.058 Q109.024 434.493 109.024 427.387 Q109.024 420.257 107.196 416.716 Q105.39 413.151 101.756 413.151 M101.756 409.447 Q107.566 409.447 110.621 414.054 Q113.7 418.637 113.7 427.387 Q113.7 436.114 110.621 440.72 Q107.566 445.303 101.756 445.303 Q95.9456 445.303 92.8669 440.72 Q89.8114 436.114 89.8114 427.387 Q89.8114 418.637 92.8669 414.054 Q95.9456 409.447 101.756 409.447 Z\" fill=\"#f8f8f2\" fill-rule=\"nonzero\" fill-opacity=\"1\" /><path clip-path=\"url(#clip540)\" d=\"M121.918 438.753 L126.802 438.753 L126.802 444.632 L121.918 444.632 L121.918 438.753 Z\" fill=\"#f8f8f2\" fill-rule=\"nonzero\" fill-opacity=\"1\" /><path clip-path=\"url(#clip540)\" d=\"M137.033 410.072 L155.39 410.072 L155.39 414.007 L141.316 414.007 L141.316 422.48 Q142.334 422.132 143.353 421.97 Q144.371 421.785 145.39 421.785 Q151.177 421.785 154.556 424.956 Q157.936 428.128 157.936 433.544 Q157.936 439.123 154.464 442.225 Q150.992 445.303 144.672 445.303 Q142.496 445.303 140.228 444.933 Q137.982 444.563 135.575 443.822 L135.575 439.123 Q137.658 440.257 139.881 440.813 Q142.103 441.368 144.58 441.368 Q148.584 441.368 150.922 439.262 Q153.26 437.155 153.26 433.544 Q153.26 429.933 150.922 427.827 Q148.584 425.72 144.58 425.72 Q142.705 425.72 140.83 426.137 Q138.978 426.554 137.033 427.433 L137.033 410.072 Z\" fill=\"#f8f8f2\" fill-rule=\"nonzero\" fill-opacity=\"1\" /><path clip-path=\"url(#clip540)\" d=\"M91.5706 101.225 L99.2095 101.225 L99.2095 74.8595 L90.8993 76.5262 L90.8993 72.267 L99.1632 70.6003 L103.839 70.6003 L103.839 101.225 L111.478 101.225 L111.478 105.16 L91.5706 105.16 L91.5706 101.225 Z\" fill=\"#f8f8f2\" fill-rule=\"nonzero\" fill-opacity=\"1\" /><path clip-path=\"url(#clip540)\" d=\"M120.922 99.2807 L125.807 99.2807 L125.807 105.16 L120.922 105.16 L120.922 99.2807 Z\" fill=\"#f8f8f2\" fill-rule=\"nonzero\" fill-opacity=\"1\" /><path clip-path=\"url(#clip540)\" d=\"M145.992 73.679 Q142.381 73.679 140.552 77.2438 Q138.746 80.7854 138.746 87.915 Q138.746 95.0215 140.552 98.5863 Q142.381 102.128 145.992 102.128 Q149.626 102.128 151.431 98.5863 Q153.26 95.0215 153.26 87.915 Q153.26 80.7854 151.431 77.2438 Q149.626 73.679 145.992 73.679 M145.992 69.9753 Q151.802 69.9753 154.857 74.5818 Q157.936 79.1651 157.936 87.915 Q157.936 96.6418 154.857 101.248 Q151.802 105.832 145.992 105.832 Q140.181 105.832 137.103 101.248 Q134.047 96.6418 134.047 87.915 Q134.047 79.1651 137.103 74.5818 Q140.181 69.9753 145.992 69.9753 Z\" fill=\"#f8f8f2\" fill-rule=\"nonzero\" fill-opacity=\"1\" /><polyline clip-path=\"url(#clip542)\" style=\"stroke:#8be9fd; stroke-linecap:round; stroke-linejoin:round; stroke-width:4; stroke-opacity:1; fill:none\" points=\"255.035,195.513 277.664,161.744 300.293,134.022 322.922,112.622 345.551,97.7591 368.18,89.5811 390.81,88.1698 413.439,93.5394 436.068,105.636 458.697,124.34 481.326,149.462 503.955,180.753 526.584,217.9 549.213,260.532 571.843,308.223 594.472,360.495 617.101,416.828 639.73,476.657 662.359,539.386 684.988,604.387 707.617,671.011 730.247,738.593 752.876,806.457 775.505,873.925 798.134,940.322 820.763,1004.99 843.392,1067.27 866.021,1126.55 888.651,1182.24 911.28,1233.78 933.909,1280.65 956.538,1322.39 979.167,1358.57 1001.8,1388.85 1024.43,1412.91 1047.05,1430.51 1069.68,1441.48 1092.31,1445.72 1114.94,1443.16 1137.57,1433.85 1160.2,1417.88 1182.83,1395.4 1205.46,1366.64 1228.09,1331.89 1250.72,1291.49 1273.35,1245.85 1295.98,1195.42 1318.6,1140.71 1341.23,1082.26 1363.86,1020.67 1386.49,956.531 1409.12,890.502 1431.75,823.237 1454.38,755.408 1477.01,687.694 1499.64,620.77 1522.27,555.305 1544.9,491.954 1567.52,431.349 1590.15,374.096 1612.78,320.767 1635.41,271.895 1658.04,227.968 1680.67,189.425 1703.3,156.652 1725.93,129.975 1748.56,109.661 1771.19,95.9134 1793.82,88.8693 1816.45,88.5991 1839.07,95.1055 1861.7,108.323 1884.33,128.121 1906.96,154.3 1929.59,186.599 1952.22,224.696 1974.85,268.21 1997.48,316.705 2020.11,369.698 2042.74,426.659 2065.37,487.019 2087.99,550.174 2110.62,615.494 2133.25,682.326 2155.88,750.003 2178.51,817.847 2201.14,885.182 2223.77,951.334 2246.4,1015.64 2269.03,1077.47 2291.66,1136.18 \"/>\n",
       "<polyline clip-path=\"url(#clip542)\" style=\"stroke:#ff79c6; stroke-linecap:round; stroke-linejoin:round; stroke-width:4; stroke-opacity:1; fill:none\" points=\"255.035,399.989 277.664,458.858 300.293,520.804 322.922,585.207 345.551,651.426 368.18,718.797 390.81,786.649 413.439,854.302 436.068,921.081 458.697,986.319 481.326,1049.36 503.955,1109.59 526.584,1166.38 549.213,1219.19 571.843,1267.47 594.472,1310.76 617.101,1348.6 639.73,1380.64 662.359,1406.54 684.988,1426.05 707.617,1438.97 730.247,1445.18 752.876,1444.61 775.505,1437.27 798.134,1423.23 820.763,1402.63 843.392,1375.67 866.021,1342.64 888.651,1303.85 911.28,1259.69 933.909,1210.61 956.538,1157.1 979.167,1099.68 1001.8,1038.94 1024.43,975.486 1047.05,909.943 1069.68,842.969 1092.31,775.235 1114.94,707.417 1137.57,640.193 1160.2,574.233 1182.83,510.198 1205.46,448.728 1228.09,390.435 1250.72,335.903 1273.35,285.677 1295.98,240.258 1318.6,200.101 1341.23,165.606 1363.86,137.118 1386.49,114.922 1409.12,99.2401 1431.75,90.228 1454.38,87.9763 1477.01,92.5074 1499.64,103.776 1522.27,121.67 1544.9,146.009 1567.52,176.552 1590.15,212.993 1612.78,254.967 1635.41,302.055 1658.04,353.788 1680.67,409.647 1703.3,469.075 1725.93,531.478 1748.56,596.233 1771.19,662.692 1793.82,730.191 1816.45,798.057 1839.07,865.61 1861.7,932.177 1884.33,997.091 1906.96,1059.7 1929.59,1119.39 1952.22,1175.56 1974.85,1227.64 1997.48,1275.11 2020.11,1317.51 2042.74,1354.41 2065.37,1385.43 2087.99,1410.27 2110.62,1428.69 2133.25,1440.49 2155.88,1445.56 2178.51,1443.85 2201.14,1435.37 2223.77,1420.22 2246.4,1398.53 2269.03,1370.53 2291.66,1336.51 \"/>\n",
       "<path clip-path=\"url(#clip540)\" d=\"M1926.79 250.738 L2280.8 250.738 L2280.8 95.2176 L1926.79 95.2176  Z\" fill=\"#282a36\" fill-rule=\"evenodd\" fill-opacity=\"1\"/>\n",
       "<polyline clip-path=\"url(#clip540)\" style=\"stroke:#f8f8f2; stroke-linecap:round; stroke-linejoin:round; stroke-width:4; stroke-opacity:1; fill:none\" points=\"1926.79,250.738 2280.8,250.738 2280.8,95.2176 1926.79,95.2176 1926.79,250.738 \"/>\n",
       "<polyline clip-path=\"url(#clip540)\" style=\"stroke:#8be9fd; stroke-linecap:round; stroke-linejoin:round; stroke-width:4; stroke-opacity:1; fill:none\" points=\"1950.78,147.058 2094.7,147.058 \"/>\n",
       "<path clip-path=\"url(#clip540)\" d=\"M2137.11 139.176 L2137.11 143.203 Q2135.3 142.277 2133.36 141.815 Q2131.42 141.352 2129.33 141.352 Q2126.16 141.352 2124.56 142.324 Q2122.99 143.296 2122.99 145.24 Q2122.99 146.722 2124.12 147.578 Q2125.26 148.412 2128.68 149.176 L2130.14 149.5 Q2134.68 150.472 2136.58 152.254 Q2138.5 154.014 2138.5 157.185 Q2138.5 160.796 2135.63 162.902 Q2132.78 165.009 2127.78 165.009 Q2125.7 165.009 2123.43 164.592 Q2121.18 164.199 2118.68 163.388 L2118.68 158.99 Q2121.05 160.217 2123.34 160.842 Q2125.63 161.444 2127.87 161.444 Q2130.88 161.444 2132.5 160.426 Q2134.12 159.384 2134.12 157.509 Q2134.12 155.773 2132.94 154.847 Q2131.79 153.921 2127.83 153.064 L2126.35 152.717 Q2122.39 151.884 2120.63 150.171 Q2118.87 148.435 2118.87 145.426 Q2118.87 141.768 2121.46 139.778 Q2124.05 137.787 2128.82 137.787 Q2131.18 137.787 2133.27 138.134 Q2135.35 138.481 2137.11 139.176 Z\" fill=\"#f8f8f2\" fill-rule=\"nonzero\" fill-opacity=\"1\" /><path clip-path=\"url(#clip540)\" d=\"M2145.28 138.412 L2149.54 138.412 L2149.54 164.338 L2145.28 164.338 L2145.28 138.412 M2145.28 128.319 L2149.54 128.319 L2149.54 133.713 L2145.28 133.713 L2145.28 128.319 Z\" fill=\"#f8f8f2\" fill-rule=\"nonzero\" fill-opacity=\"1\" /><path clip-path=\"url(#clip540)\" d=\"M2180 148.689 L2180 164.338 L2175.74 164.338 L2175.74 148.828 Q2175.74 145.148 2174.31 143.319 Q2172.87 141.49 2170 141.49 Q2166.55 141.49 2164.56 143.69 Q2162.57 145.889 2162.57 149.685 L2162.57 164.338 L2158.29 164.338 L2158.29 138.412 L2162.57 138.412 L2162.57 142.44 Q2164.1 140.102 2166.16 138.944 Q2168.24 137.787 2170.95 137.787 Q2175.42 137.787 2177.71 140.565 Q2180 143.319 2180 148.689 Z\" fill=\"#f8f8f2\" fill-rule=\"nonzero\" fill-opacity=\"1\" /><path clip-path=\"url(#clip540)\" d=\"M2198.73 128.366 Q2195.63 133.69 2194.12 138.898 Q2192.62 144.106 2192.62 149.453 Q2192.62 154.801 2194.12 160.055 Q2195.65 165.287 2198.73 170.588 L2195.03 170.588 Q2191.55 165.148 2189.82 159.893 Q2188.11 154.639 2188.11 149.453 Q2188.11 144.291 2189.82 139.06 Q2191.53 133.828 2195.03 128.366 L2198.73 128.366 Z\" fill=\"#f8f8f2\" fill-rule=\"nonzero\" fill-opacity=\"1\" /><path clip-path=\"url(#clip540)\" d=\"M2228.54 138.412 L2219.17 151.027 L2229.03 164.338 L2224.01 164.338 L2216.46 154.152 L2208.92 164.338 L2203.89 164.338 L2213.96 150.773 L2204.75 138.412 L2209.77 138.412 L2216.65 147.648 L2223.52 138.412 L2228.54 138.412 Z\" fill=\"#f8f8f2\" fill-rule=\"nonzero\" fill-opacity=\"1\" /><path clip-path=\"url(#clip540)\" d=\"M2234.38 128.366 L2238.08 128.366 Q2241.55 133.828 2243.27 139.06 Q2245 144.291 2245 149.453 Q2245 154.639 2243.27 159.893 Q2241.55 165.148 2238.08 170.588 L2234.38 170.588 Q2237.46 165.287 2238.96 160.055 Q2240.49 154.801 2240.49 149.453 Q2240.49 144.106 2238.96 138.898 Q2237.46 133.69 2234.38 128.366 Z\" fill=\"#f8f8f2\" fill-rule=\"nonzero\" fill-opacity=\"1\" /><polyline clip-path=\"url(#clip540)\" style=\"stroke:#ff79c6; stroke-linecap:round; stroke-linejoin:round; stroke-width:4; stroke-opacity:1; fill:none\" points=\"1950.78,198.898 2094.7,198.898 \"/>\n",
       "<path clip-path=\"url(#clip540)\" d=\"M2139.19 191.247 L2139.19 195.229 Q2137.39 194.233 2135.56 193.747 Q2133.75 193.238 2131.9 193.238 Q2127.76 193.238 2125.47 195.877 Q2123.17 198.492 2123.17 203.238 Q2123.17 207.983 2125.47 210.622 Q2127.76 213.238 2131.9 213.238 Q2133.75 213.238 2135.56 212.752 Q2137.39 212.242 2139.19 211.247 L2139.19 215.182 Q2137.41 216.016 2135.49 216.432 Q2133.59 216.849 2131.44 216.849 Q2125.58 216.849 2122.13 213.168 Q2118.68 209.488 2118.68 203.238 Q2118.68 196.895 2122.16 193.261 Q2125.65 189.627 2131.72 189.627 Q2133.68 189.627 2135.56 190.043 Q2137.43 190.437 2139.19 191.247 Z\" fill=\"#f8f8f2\" fill-rule=\"nonzero\" fill-opacity=\"1\" /><path clip-path=\"url(#clip540)\" d=\"M2156.65 193.238 Q2153.22 193.238 2151.23 195.923 Q2149.24 198.585 2149.24 203.238 Q2149.24 207.891 2151.21 210.576 Q2153.2 213.238 2156.65 213.238 Q2160.05 213.238 2162.04 210.553 Q2164.03 207.867 2164.03 203.238 Q2164.03 198.631 2162.04 195.946 Q2160.05 193.238 2156.65 193.238 M2156.65 189.627 Q2162.2 189.627 2165.37 193.238 Q2168.54 196.849 2168.54 203.238 Q2168.54 209.604 2165.37 213.238 Q2162.2 216.849 2156.65 216.849 Q2151.07 216.849 2147.9 213.238 Q2144.75 209.604 2144.75 203.238 Q2144.75 196.849 2147.9 193.238 Q2151.07 189.627 2156.65 189.627 Z\" fill=\"#f8f8f2\" fill-rule=\"nonzero\" fill-opacity=\"1\" /><path clip-path=\"url(#clip540)\" d=\"M2192.13 191.016 L2192.13 195.043 Q2190.33 194.117 2188.38 193.655 Q2186.44 193.192 2184.36 193.192 Q2181.18 193.192 2179.59 194.164 Q2178.01 195.136 2178.01 197.08 Q2178.01 198.562 2179.15 199.418 Q2180.28 200.252 2183.71 201.016 L2185.17 201.34 Q2189.7 202.312 2191.6 204.094 Q2193.52 205.854 2193.52 209.025 Q2193.52 212.636 2190.65 214.742 Q2187.8 216.849 2182.8 216.849 Q2180.72 216.849 2178.45 216.432 Q2176.21 216.039 2173.71 215.228 L2173.71 210.83 Q2176.07 212.057 2178.36 212.682 Q2180.65 213.284 2182.9 213.284 Q2185.91 213.284 2187.53 212.266 Q2189.15 211.224 2189.15 209.349 Q2189.15 207.613 2187.97 206.687 Q2186.81 205.761 2182.85 204.904 L2181.37 204.557 Q2177.41 203.724 2175.65 202.011 Q2173.89 200.275 2173.89 197.266 Q2173.89 193.608 2176.48 191.618 Q2179.08 189.627 2183.85 189.627 Q2186.21 189.627 2188.29 189.974 Q2190.37 190.321 2192.13 191.016 Z\" fill=\"#f8f8f2\" fill-rule=\"nonzero\" fill-opacity=\"1\" /><path clip-path=\"url(#clip540)\" d=\"M2210.54 180.206 Q2207.43 185.53 2205.93 190.738 Q2204.42 195.946 2204.42 201.293 Q2204.42 206.641 2205.93 211.895 Q2207.46 217.127 2210.54 222.428 L2206.83 222.428 Q2203.36 216.988 2201.62 211.733 Q2199.91 206.479 2199.91 201.293 Q2199.91 196.131 2201.62 190.9 Q2203.34 185.668 2206.83 180.206 L2210.54 180.206 Z\" fill=\"#f8f8f2\" fill-rule=\"nonzero\" fill-opacity=\"1\" /><path clip-path=\"url(#clip540)\" d=\"M2240.35 190.252 L2230.98 202.867 L2240.84 216.178 L2235.81 216.178 L2228.27 205.992 L2220.72 216.178 L2215.7 216.178 L2225.77 202.613 L2216.55 190.252 L2221.58 190.252 L2228.45 199.488 L2235.33 190.252 L2240.35 190.252 Z\" fill=\"#f8f8f2\" fill-rule=\"nonzero\" fill-opacity=\"1\" /><path clip-path=\"url(#clip540)\" d=\"M2246.18 180.206 L2249.89 180.206 Q2253.36 185.668 2255.07 190.9 Q2256.81 196.131 2256.81 201.293 Q2256.81 206.479 2255.07 211.733 Q2253.36 216.988 2249.89 222.428 L2246.18 222.428 Q2249.26 217.127 2250.77 211.895 Q2252.29 206.641 2252.29 201.293 Q2252.29 195.946 2250.77 190.738 Q2249.26 185.53 2246.18 180.206 Z\" fill=\"#f8f8f2\" fill-rule=\"nonzero\" fill-opacity=\"1\" /></svg>\n"
      ],
      "text/html": [
       "<?xml version=\"1.0\" encoding=\"utf-8\"?>\n",
       "<svg xmlns=\"http://www.w3.org/2000/svg\" xmlns:xlink=\"http://www.w3.org/1999/xlink\" width=\"600\" height=\"400\" viewBox=\"0 0 2400 1600\">\n",
       "<defs>\n",
       "  <clipPath id=\"clip590\">\n",
       "    <rect x=\"0\" y=\"0\" width=\"2400\" height=\"1600\"/>\n",
       "  </clipPath>\n",
       "</defs>\n",
       "<path clip-path=\"url(#clip590)\" d=\"M0 1600 L2400 1600 L2400 0 L0 0  Z\" fill=\"#282a36\" fill-rule=\"evenodd\" fill-opacity=\"1\"/>\n",
       "<defs>\n",
       "  <clipPath id=\"clip591\">\n",
       "    <rect x=\"480\" y=\"0\" width=\"1681\" height=\"1600\"/>\n",
       "  </clipPath>\n",
       "</defs>\n",
       "<path clip-path=\"url(#clip590)\" d=\"M193.936 1486.45 L2352.76 1486.45 L2352.76 47.2441 L193.936 47.2441  Z\" fill=\"#30343b\" fill-rule=\"evenodd\" fill-opacity=\"1\"/>\n",
       "<defs>\n",
       "  <clipPath id=\"clip592\">\n",
       "    <rect x=\"193\" y=\"47\" width=\"2160\" height=\"1440\"/>\n",
       "  </clipPath>\n",
       "</defs>\n",
       "<polyline clip-path=\"url(#clip592)\" style=\"stroke:#f8f8f2; stroke-linecap:round; stroke-linejoin:round; stroke-width:2; stroke-opacity:0.1; fill:none\" points=\"481.326,1486.45 481.326,47.2441 \"/>\n",
       "<polyline clip-path=\"url(#clip592)\" style=\"stroke:#f8f8f2; stroke-linecap:round; stroke-linejoin:round; stroke-width:2; stroke-opacity:0.1; fill:none\" points=\"933.909,1486.45 933.909,47.2441 \"/>\n",
       "<polyline clip-path=\"url(#clip592)\" style=\"stroke:#f8f8f2; stroke-linecap:round; stroke-linejoin:round; stroke-width:2; stroke-opacity:0.1; fill:none\" points=\"1386.49,1486.45 1386.49,47.2441 \"/>\n",
       "<polyline clip-path=\"url(#clip592)\" style=\"stroke:#f8f8f2; stroke-linecap:round; stroke-linejoin:round; stroke-width:2; stroke-opacity:0.1; fill:none\" points=\"1839.07,1486.45 1839.07,47.2441 \"/>\n",
       "<polyline clip-path=\"url(#clip592)\" style=\"stroke:#f8f8f2; stroke-linecap:round; stroke-linejoin:round; stroke-width:2; stroke-opacity:0.1; fill:none\" points=\"2291.66,1486.45 2291.66,47.2441 \"/>\n",
       "<polyline clip-path=\"url(#clip592)\" style=\"stroke:#f8f8f2; stroke-linecap:round; stroke-linejoin:round; stroke-width:2; stroke-opacity:0.1; fill:none\" points=\"193.936,1445.77 2352.76,1445.77 \"/>\n",
       "<polyline clip-path=\"url(#clip592)\" style=\"stroke:#f8f8f2; stroke-linecap:round; stroke-linejoin:round; stroke-width:2; stroke-opacity:0.1; fill:none\" points=\"193.936,1106.3 2352.76,1106.3 \"/>\n",
       "<polyline clip-path=\"url(#clip592)\" style=\"stroke:#f8f8f2; stroke-linecap:round; stroke-linejoin:round; stroke-width:2; stroke-opacity:0.1; fill:none\" points=\"193.936,766.824 2352.76,766.824 \"/>\n",
       "<polyline clip-path=\"url(#clip592)\" style=\"stroke:#f8f8f2; stroke-linecap:round; stroke-linejoin:round; stroke-width:2; stroke-opacity:0.1; fill:none\" points=\"193.936,427.352 2352.76,427.352 \"/>\n",
       "<polyline clip-path=\"url(#clip592)\" style=\"stroke:#f8f8f2; stroke-linecap:round; stroke-linejoin:round; stroke-width:2; stroke-opacity:0.1; fill:none\" points=\"193.936,87.8803 2352.76,87.8803 \"/>\n",
       "<polyline clip-path=\"url(#clip590)\" style=\"stroke:#f8f8f2; stroke-linecap:round; stroke-linejoin:round; stroke-width:4; stroke-opacity:1; fill:none\" points=\"193.936,1486.45 2352.76,1486.45 \"/>\n",
       "<polyline clip-path=\"url(#clip590)\" style=\"stroke:#f8f8f2; stroke-linecap:round; stroke-linejoin:round; stroke-width:4; stroke-opacity:1; fill:none\" points=\"481.326,1486.45 481.326,1467.55 \"/>\n",
       "<polyline clip-path=\"url(#clip590)\" style=\"stroke:#f8f8f2; stroke-linecap:round; stroke-linejoin:round; stroke-width:4; stroke-opacity:1; fill:none\" points=\"933.909,1486.45 933.909,1467.55 \"/>\n",
       "<polyline clip-path=\"url(#clip590)\" style=\"stroke:#f8f8f2; stroke-linecap:round; stroke-linejoin:round; stroke-width:4; stroke-opacity:1; fill:none\" points=\"1386.49,1486.45 1386.49,1467.55 \"/>\n",
       "<polyline clip-path=\"url(#clip590)\" style=\"stroke:#f8f8f2; stroke-linecap:round; stroke-linejoin:round; stroke-width:4; stroke-opacity:1; fill:none\" points=\"1839.07,1486.45 1839.07,1467.55 \"/>\n",
       "<polyline clip-path=\"url(#clip590)\" style=\"stroke:#f8f8f2; stroke-linecap:round; stroke-linejoin:round; stroke-width:4; stroke-opacity:1; fill:none\" points=\"2291.66,1486.45 2291.66,1467.55 \"/>\n",
       "<path clip-path=\"url(#clip590)\" d=\"M475.979 1544.91 L492.298 1544.91 L492.298 1548.85 L470.354 1548.85 L470.354 1544.91 Q473.016 1542.16 477.599 1537.53 Q482.206 1532.88 483.386 1531.53 Q485.632 1529.01 486.511 1527.27 Q487.414 1525.51 487.414 1523.82 Q487.414 1521.07 485.47 1519.33 Q483.548 1517.6 480.446 1517.6 Q478.247 1517.6 475.794 1518.36 Q473.363 1519.13 470.585 1520.68 L470.585 1515.95 Q473.409 1514.82 475.863 1514.24 Q478.317 1513.66 480.354 1513.66 Q485.724 1513.66 488.919 1516.35 Q492.113 1519.03 492.113 1523.52 Q492.113 1525.65 491.303 1527.57 Q490.516 1529.47 488.409 1532.07 Q487.831 1532.74 484.729 1535.95 Q481.627 1539.15 475.979 1544.91 Z\" fill=\"#f8f8f2\" fill-rule=\"nonzero\" fill-opacity=\"1\" /><path clip-path=\"url(#clip590)\" d=\"M936.918 1518.36 L925.113 1536.81 L936.918 1536.81 L936.918 1518.36 M935.691 1514.29 L941.571 1514.29 L941.571 1536.81 L946.501 1536.81 L946.501 1540.7 L941.571 1540.7 L941.571 1548.85 L936.918 1548.85 L936.918 1540.7 L921.316 1540.7 L921.316 1536.19 L935.691 1514.29 Z\" fill=\"#f8f8f2\" fill-rule=\"nonzero\" fill-opacity=\"1\" /><path clip-path=\"url(#clip590)\" d=\"M1386.9 1529.7 Q1383.75 1529.7 1381.9 1531.86 Q1380.07 1534.01 1380.07 1537.76 Q1380.07 1541.49 1381.9 1543.66 Q1383.75 1545.82 1386.9 1545.82 Q1390.04 1545.82 1391.87 1543.66 Q1393.73 1541.49 1393.73 1537.76 Q1393.73 1534.01 1391.87 1531.86 Q1390.04 1529.7 1386.9 1529.7 M1396.18 1515.05 L1396.18 1519.31 Q1394.42 1518.48 1392.61 1518.04 Q1390.83 1517.6 1389.07 1517.6 Q1384.44 1517.6 1381.99 1520.72 Q1379.56 1523.85 1379.21 1530.17 Q1380.58 1528.15 1382.64 1527.09 Q1384.7 1526 1387.17 1526 Q1392.38 1526 1395.39 1529.17 Q1398.42 1532.32 1398.42 1537.76 Q1398.42 1543.08 1395.28 1546.3 Q1392.13 1549.52 1386.9 1549.52 Q1380.9 1549.52 1377.73 1544.94 Q1374.56 1540.33 1374.56 1531.6 Q1374.56 1523.41 1378.45 1518.55 Q1382.34 1513.66 1388.89 1513.66 Q1390.65 1513.66 1392.43 1514.01 Q1394.23 1514.36 1396.18 1515.05 Z\" fill=\"#f8f8f2\" fill-rule=\"nonzero\" fill-opacity=\"1\" /><path clip-path=\"url(#clip590)\" d=\"M1839.07 1532.44 Q1835.74 1532.44 1833.82 1534.22 Q1831.92 1536 1831.92 1539.13 Q1831.92 1542.25 1833.82 1544.03 Q1835.74 1545.82 1839.07 1545.82 Q1842.41 1545.82 1844.33 1544.03 Q1846.25 1542.23 1846.25 1539.13 Q1846.25 1536 1844.33 1534.22 Q1842.43 1532.44 1839.07 1532.44 M1834.4 1530.45 Q1831.39 1529.7 1829.7 1527.64 Q1828.03 1525.58 1828.03 1522.62 Q1828.03 1518.48 1830.97 1516.07 Q1833.94 1513.66 1839.07 1513.66 Q1844.24 1513.66 1847.18 1516.07 Q1850.12 1518.48 1850.12 1522.62 Q1850.12 1525.58 1848.43 1527.64 Q1846.76 1529.7 1843.77 1530.45 Q1847.15 1531.23 1849.03 1533.52 Q1850.93 1535.82 1850.93 1539.13 Q1850.93 1544.15 1847.85 1546.83 Q1844.79 1549.52 1839.07 1549.52 Q1833.36 1549.52 1830.28 1546.83 Q1827.22 1544.15 1827.22 1539.13 Q1827.22 1535.82 1829.12 1533.52 Q1831.02 1531.23 1834.4 1530.45 M1832.69 1523.06 Q1832.69 1525.75 1834.35 1527.25 Q1836.04 1528.76 1839.07 1528.76 Q1842.08 1528.76 1843.77 1527.25 Q1845.49 1525.75 1845.49 1523.06 Q1845.49 1520.38 1843.77 1518.87 Q1842.08 1517.37 1839.07 1517.37 Q1836.04 1517.37 1834.35 1518.87 Q1832.69 1520.38 1832.69 1523.06 Z\" fill=\"#f8f8f2\" fill-rule=\"nonzero\" fill-opacity=\"1\" /><path clip-path=\"url(#clip590)\" d=\"M2266.34 1544.91 L2273.98 1544.91 L2273.98 1518.55 L2265.67 1520.21 L2265.67 1515.95 L2273.94 1514.29 L2278.61 1514.29 L2278.61 1544.91 L2286.25 1544.91 L2286.25 1548.85 L2266.34 1548.85 L2266.34 1544.91 Z\" fill=\"#f8f8f2\" fill-rule=\"nonzero\" fill-opacity=\"1\" /><path clip-path=\"url(#clip590)\" d=\"M2305.7 1517.37 Q2302.09 1517.37 2300.26 1520.93 Q2298.45 1524.47 2298.45 1531.6 Q2298.45 1538.71 2300.26 1542.27 Q2302.09 1545.82 2305.7 1545.82 Q2309.33 1545.82 2311.14 1542.27 Q2312.96 1538.71 2312.96 1531.6 Q2312.96 1524.47 2311.14 1520.93 Q2309.33 1517.37 2305.7 1517.37 M2305.7 1513.66 Q2311.51 1513.66 2314.56 1518.27 Q2317.64 1522.85 2317.64 1531.6 Q2317.64 1540.33 2314.56 1544.94 Q2311.51 1549.52 2305.7 1549.52 Q2299.89 1549.52 2296.81 1544.94 Q2293.75 1540.33 2293.75 1531.6 Q2293.75 1522.85 2296.81 1518.27 Q2299.89 1513.66 2305.7 1513.66 Z\" fill=\"#f8f8f2\" fill-rule=\"nonzero\" fill-opacity=\"1\" /><polyline clip-path=\"url(#clip590)\" style=\"stroke:#f8f8f2; stroke-linecap:round; stroke-linejoin:round; stroke-width:4; stroke-opacity:1; fill:none\" points=\"193.936,1486.45 193.936,47.2441 \"/>\n",
       "<polyline clip-path=\"url(#clip590)\" style=\"stroke:#f8f8f2; stroke-linecap:round; stroke-linejoin:round; stroke-width:4; stroke-opacity:1; fill:none\" points=\"193.936,1445.77 212.834,1445.77 \"/>\n",
       "<polyline clip-path=\"url(#clip590)\" style=\"stroke:#f8f8f2; stroke-linecap:round; stroke-linejoin:round; stroke-width:4; stroke-opacity:1; fill:none\" points=\"193.936,1106.3 212.834,1106.3 \"/>\n",
       "<polyline clip-path=\"url(#clip590)\" style=\"stroke:#f8f8f2; stroke-linecap:round; stroke-linejoin:round; stroke-width:4; stroke-opacity:1; fill:none\" points=\"193.936,766.824 212.834,766.824 \"/>\n",
       "<polyline clip-path=\"url(#clip590)\" style=\"stroke:#f8f8f2; stroke-linecap:round; stroke-linejoin:round; stroke-width:4; stroke-opacity:1; fill:none\" points=\"193.936,427.352 212.834,427.352 \"/>\n",
       "<polyline clip-path=\"url(#clip590)\" style=\"stroke:#f8f8f2; stroke-linecap:round; stroke-linejoin:round; stroke-width:4; stroke-opacity:1; fill:none\" points=\"193.936,87.8803 212.834,87.8803 \"/>\n",
       "<path clip-path=\"url(#clip590)\" d=\"M50.9921 1446.22 L80.6679 1446.22 L80.6679 1450.15 L50.9921 1450.15 L50.9921 1446.22 Z\" fill=\"#f8f8f2\" fill-rule=\"nonzero\" fill-opacity=\"1\" /><path clip-path=\"url(#clip590)\" d=\"M91.5706 1459.11 L99.2095 1459.11 L99.2095 1432.75 L90.8993 1434.41 L90.8993 1430.15 L99.1632 1428.49 L103.839 1428.49 L103.839 1459.11 L111.478 1459.11 L111.478 1463.05 L91.5706 1463.05 L91.5706 1459.11 Z\" fill=\"#f8f8f2\" fill-rule=\"nonzero\" fill-opacity=\"1\" /><path clip-path=\"url(#clip590)\" d=\"M120.922 1457.17 L125.807 1457.17 L125.807 1463.05 L120.922 1463.05 L120.922 1457.17 Z\" fill=\"#f8f8f2\" fill-rule=\"nonzero\" fill-opacity=\"1\" /><path clip-path=\"url(#clip590)\" d=\"M145.992 1431.57 Q142.381 1431.57 140.552 1435.13 Q138.746 1438.67 138.746 1445.8 Q138.746 1452.91 140.552 1456.47 Q142.381 1460.02 145.992 1460.02 Q149.626 1460.02 151.431 1456.47 Q153.26 1452.91 153.26 1445.8 Q153.26 1438.67 151.431 1435.13 Q149.626 1431.57 145.992 1431.57 M145.992 1427.86 Q151.802 1427.86 154.857 1432.47 Q157.936 1437.05 157.936 1445.8 Q157.936 1454.53 154.857 1459.14 Q151.802 1463.72 145.992 1463.72 Q140.181 1463.72 137.103 1459.14 Q134.047 1454.53 134.047 1445.8 Q134.047 1437.05 137.103 1432.47 Q140.181 1427.86 145.992 1427.86 Z\" fill=\"#f8f8f2\" fill-rule=\"nonzero\" fill-opacity=\"1\" /><path clip-path=\"url(#clip590)\" d=\"M51.9875 1106.75 L81.6633 1106.75 L81.6633 1110.68 L51.9875 1110.68 L51.9875 1106.75 Z\" fill=\"#f8f8f2\" fill-rule=\"nonzero\" fill-opacity=\"1\" /><path clip-path=\"url(#clip590)\" d=\"M101.756 1092.09 Q98.1447 1092.09 96.316 1095.66 Q94.5104 1099.2 94.5104 1106.33 Q94.5104 1113.44 96.316 1117 Q98.1447 1120.54 101.756 1120.54 Q105.39 1120.54 107.196 1117 Q109.024 1113.44 109.024 1106.33 Q109.024 1099.2 107.196 1095.66 Q105.39 1092.09 101.756 1092.09 M101.756 1088.39 Q107.566 1088.39 110.621 1093 Q113.7 1097.58 113.7 1106.33 Q113.7 1115.06 110.621 1119.66 Q107.566 1124.25 101.756 1124.25 Q95.9456 1124.25 92.8669 1119.66 Q89.8114 1115.06 89.8114 1106.33 Q89.8114 1097.58 92.8669 1093 Q95.9456 1088.39 101.756 1088.39 Z\" fill=\"#f8f8f2\" fill-rule=\"nonzero\" fill-opacity=\"1\" /><path clip-path=\"url(#clip590)\" d=\"M121.918 1117.7 L126.802 1117.7 L126.802 1123.58 L121.918 1123.58 L121.918 1117.7 Z\" fill=\"#f8f8f2\" fill-rule=\"nonzero\" fill-opacity=\"1\" /><path clip-path=\"url(#clip590)\" d=\"M137.033 1089.02 L155.39 1089.02 L155.39 1092.95 L141.316 1092.95 L141.316 1101.42 Q142.334 1101.08 143.353 1100.91 Q144.371 1100.73 145.39 1100.73 Q151.177 1100.73 154.556 1103.9 Q157.936 1107.07 157.936 1112.49 Q157.936 1118.07 154.464 1121.17 Q150.992 1124.25 144.672 1124.25 Q142.496 1124.25 140.228 1123.88 Q137.982 1123.51 135.575 1122.77 L135.575 1118.07 Q137.658 1119.2 139.881 1119.76 Q142.103 1120.31 144.58 1120.31 Q148.584 1120.31 150.922 1118.21 Q153.26 1116.1 153.26 1112.49 Q153.26 1108.88 150.922 1106.77 Q148.584 1104.66 144.58 1104.66 Q142.705 1104.66 140.83 1105.08 Q138.978 1105.5 137.033 1106.38 L137.033 1089.02 Z\" fill=\"#f8f8f2\" fill-rule=\"nonzero\" fill-opacity=\"1\" /><path clip-path=\"url(#clip590)\" d=\"M100.76 752.623 Q97.1493 752.623 95.3206 756.188 Q93.515 759.729 93.515 766.859 Q93.515 773.965 95.3206 777.53 Q97.1493 781.072 100.76 781.072 Q104.395 781.072 106.2 777.53 Q108.029 773.965 108.029 766.859 Q108.029 759.729 106.2 756.188 Q104.395 752.623 100.76 752.623 M100.76 748.919 Q106.571 748.919 109.626 753.526 Q112.705 758.109 112.705 766.859 Q112.705 775.586 109.626 780.192 Q106.571 784.775 100.76 784.775 Q94.9502 784.775 91.8715 780.192 Q88.816 775.586 88.816 766.859 Q88.816 758.109 91.8715 753.526 Q94.9502 748.919 100.76 748.919 Z\" fill=\"#f8f8f2\" fill-rule=\"nonzero\" fill-opacity=\"1\" /><path clip-path=\"url(#clip590)\" d=\"M120.922 778.224 L125.807 778.224 L125.807 784.104 L120.922 784.104 L120.922 778.224 Z\" fill=\"#f8f8f2\" fill-rule=\"nonzero\" fill-opacity=\"1\" /><path clip-path=\"url(#clip590)\" d=\"M145.992 752.623 Q142.381 752.623 140.552 756.188 Q138.746 759.729 138.746 766.859 Q138.746 773.965 140.552 777.53 Q142.381 781.072 145.992 781.072 Q149.626 781.072 151.431 777.53 Q153.26 773.965 153.26 766.859 Q153.26 759.729 151.431 756.188 Q149.626 752.623 145.992 752.623 M145.992 748.919 Q151.802 748.919 154.857 753.526 Q157.936 758.109 157.936 766.859 Q157.936 775.586 154.857 780.192 Q151.802 784.775 145.992 784.775 Q140.181 784.775 137.103 780.192 Q134.047 775.586 134.047 766.859 Q134.047 758.109 137.103 753.526 Q140.181 748.919 145.992 748.919 Z\" fill=\"#f8f8f2\" fill-rule=\"nonzero\" fill-opacity=\"1\" /><path clip-path=\"url(#clip590)\" d=\"M101.756 413.151 Q98.1447 413.151 96.316 416.716 Q94.5104 420.257 94.5104 427.387 Q94.5104 434.493 96.316 438.058 Q98.1447 441.6 101.756 441.6 Q105.39 441.6 107.196 438.058 Q109.024 434.493 109.024 427.387 Q109.024 420.257 107.196 416.716 Q105.39 413.151 101.756 413.151 M101.756 409.447 Q107.566 409.447 110.621 414.054 Q113.7 418.637 113.7 427.387 Q113.7 436.114 110.621 440.72 Q107.566 445.303 101.756 445.303 Q95.9456 445.303 92.8669 440.72 Q89.8114 436.114 89.8114 427.387 Q89.8114 418.637 92.8669 414.054 Q95.9456 409.447 101.756 409.447 Z\" fill=\"#f8f8f2\" fill-rule=\"nonzero\" fill-opacity=\"1\" /><path clip-path=\"url(#clip590)\" d=\"M121.918 438.753 L126.802 438.753 L126.802 444.632 L121.918 444.632 L121.918 438.753 Z\" fill=\"#f8f8f2\" fill-rule=\"nonzero\" fill-opacity=\"1\" /><path clip-path=\"url(#clip590)\" d=\"M137.033 410.072 L155.39 410.072 L155.39 414.007 L141.316 414.007 L141.316 422.48 Q142.334 422.132 143.353 421.97 Q144.371 421.785 145.39 421.785 Q151.177 421.785 154.556 424.956 Q157.936 428.128 157.936 433.544 Q157.936 439.123 154.464 442.225 Q150.992 445.303 144.672 445.303 Q142.496 445.303 140.228 444.933 Q137.982 444.563 135.575 443.822 L135.575 439.123 Q137.658 440.257 139.881 440.813 Q142.103 441.368 144.58 441.368 Q148.584 441.368 150.922 439.262 Q153.26 437.155 153.26 433.544 Q153.26 429.933 150.922 427.827 Q148.584 425.72 144.58 425.72 Q142.705 425.72 140.83 426.137 Q138.978 426.554 137.033 427.433 L137.033 410.072 Z\" fill=\"#f8f8f2\" fill-rule=\"nonzero\" fill-opacity=\"1\" /><path clip-path=\"url(#clip590)\" d=\"M91.5706 101.225 L99.2095 101.225 L99.2095 74.8595 L90.8993 76.5262 L90.8993 72.267 L99.1632 70.6003 L103.839 70.6003 L103.839 101.225 L111.478 101.225 L111.478 105.16 L91.5706 105.16 L91.5706 101.225 Z\" fill=\"#f8f8f2\" fill-rule=\"nonzero\" fill-opacity=\"1\" /><path clip-path=\"url(#clip590)\" d=\"M120.922 99.2807 L125.807 99.2807 L125.807 105.16 L120.922 105.16 L120.922 99.2807 Z\" fill=\"#f8f8f2\" fill-rule=\"nonzero\" fill-opacity=\"1\" /><path clip-path=\"url(#clip590)\" d=\"M145.992 73.679 Q142.381 73.679 140.552 77.2438 Q138.746 80.7854 138.746 87.915 Q138.746 95.0215 140.552 98.5863 Q142.381 102.128 145.992 102.128 Q149.626 102.128 151.431 98.5863 Q153.26 95.0215 153.26 87.915 Q153.26 80.7854 151.431 77.2438 Q149.626 73.679 145.992 73.679 M145.992 69.9753 Q151.802 69.9753 154.857 74.5818 Q157.936 79.1651 157.936 87.915 Q157.936 96.6418 154.857 101.248 Q151.802 105.832 145.992 105.832 Q140.181 105.832 137.103 101.248 Q134.047 96.6418 134.047 87.915 Q134.047 79.1651 137.103 74.5818 Q140.181 69.9753 145.992 69.9753 Z\" fill=\"#f8f8f2\" fill-rule=\"nonzero\" fill-opacity=\"1\" /><polyline clip-path=\"url(#clip592)\" style=\"stroke:#8be9fd; stroke-linecap:round; stroke-linejoin:round; stroke-width:4; stroke-opacity:1; fill:none\" points=\"255.035,195.513 277.664,161.744 300.293,134.022 322.922,112.622 345.551,97.7591 368.18,89.5811 390.81,88.1698 413.439,93.5394 436.068,105.636 458.697,124.34 481.326,149.462 503.955,180.753 526.584,217.9 549.213,260.532 571.843,308.223 594.472,360.495 617.101,416.828 639.73,476.657 662.359,539.386 684.988,604.387 707.617,671.011 730.247,738.593 752.876,806.457 775.505,873.925 798.134,940.322 820.763,1004.99 843.392,1067.27 866.021,1126.55 888.651,1182.24 911.28,1233.78 933.909,1280.65 956.538,1322.39 979.167,1358.57 1001.8,1388.85 1024.43,1412.91 1047.05,1430.51 1069.68,1441.48 1092.31,1445.72 1114.94,1443.16 1137.57,1433.85 1160.2,1417.88 1182.83,1395.4 1205.46,1366.64 1228.09,1331.89 1250.72,1291.49 1273.35,1245.85 1295.98,1195.42 1318.6,1140.71 1341.23,1082.26 1363.86,1020.67 1386.49,956.531 1409.12,890.502 1431.75,823.237 1454.38,755.408 1477.01,687.694 1499.64,620.77 1522.27,555.305 1544.9,491.954 1567.52,431.349 1590.15,374.096 1612.78,320.767 1635.41,271.895 1658.04,227.968 1680.67,189.425 1703.3,156.652 1725.93,129.975 1748.56,109.661 1771.19,95.9134 1793.82,88.8693 1816.45,88.5991 1839.07,95.1055 1861.7,108.323 1884.33,128.121 1906.96,154.3 1929.59,186.599 1952.22,224.696 1974.85,268.21 1997.48,316.705 2020.11,369.698 2042.74,426.659 2065.37,487.019 2087.99,550.174 2110.62,615.494 2133.25,682.326 2155.88,750.003 2178.51,817.847 2201.14,885.182 2223.77,951.334 2246.4,1015.64 2269.03,1077.47 2291.66,1136.18 \"/>\n",
       "<polyline clip-path=\"url(#clip592)\" style=\"stroke:#ff79c6; stroke-linecap:round; stroke-linejoin:round; stroke-width:4; stroke-opacity:1; fill:none\" points=\"255.035,399.989 277.664,458.858 300.293,520.804 322.922,585.207 345.551,651.426 368.18,718.797 390.81,786.649 413.439,854.302 436.068,921.081 458.697,986.319 481.326,1049.36 503.955,1109.59 526.584,1166.38 549.213,1219.19 571.843,1267.47 594.472,1310.76 617.101,1348.6 639.73,1380.64 662.359,1406.54 684.988,1426.05 707.617,1438.97 730.247,1445.18 752.876,1444.61 775.505,1437.27 798.134,1423.23 820.763,1402.63 843.392,1375.67 866.021,1342.64 888.651,1303.85 911.28,1259.69 933.909,1210.61 956.538,1157.1 979.167,1099.68 1001.8,1038.94 1024.43,975.486 1047.05,909.943 1069.68,842.969 1092.31,775.235 1114.94,707.417 1137.57,640.193 1160.2,574.233 1182.83,510.198 1205.46,448.728 1228.09,390.435 1250.72,335.903 1273.35,285.677 1295.98,240.258 1318.6,200.101 1341.23,165.606 1363.86,137.118 1386.49,114.922 1409.12,99.2401 1431.75,90.228 1454.38,87.9763 1477.01,92.5074 1499.64,103.776 1522.27,121.67 1544.9,146.009 1567.52,176.552 1590.15,212.993 1612.78,254.967 1635.41,302.055 1658.04,353.788 1680.67,409.647 1703.3,469.075 1725.93,531.478 1748.56,596.233 1771.19,662.692 1793.82,730.191 1816.45,798.057 1839.07,865.61 1861.7,932.177 1884.33,997.091 1906.96,1059.7 1929.59,1119.39 1952.22,1175.56 1974.85,1227.64 1997.48,1275.11 2020.11,1317.51 2042.74,1354.41 2065.37,1385.43 2087.99,1410.27 2110.62,1428.69 2133.25,1440.49 2155.88,1445.56 2178.51,1443.85 2201.14,1435.37 2223.77,1420.22 2246.4,1398.53 2269.03,1370.53 2291.66,1336.51 \"/>\n",
       "<path clip-path=\"url(#clip590)\" d=\"M1926.79 250.738 L2280.8 250.738 L2280.8 95.2176 L1926.79 95.2176  Z\" fill=\"#282a36\" fill-rule=\"evenodd\" fill-opacity=\"1\"/>\n",
       "<polyline clip-path=\"url(#clip590)\" style=\"stroke:#f8f8f2; stroke-linecap:round; stroke-linejoin:round; stroke-width:4; stroke-opacity:1; fill:none\" points=\"1926.79,250.738 2280.8,250.738 2280.8,95.2176 1926.79,95.2176 1926.79,250.738 \"/>\n",
       "<polyline clip-path=\"url(#clip590)\" style=\"stroke:#8be9fd; stroke-linecap:round; stroke-linejoin:round; stroke-width:4; stroke-opacity:1; fill:none\" points=\"1950.78,147.058 2094.7,147.058 \"/>\n",
       "<path clip-path=\"url(#clip590)\" d=\"M2137.11 139.176 L2137.11 143.203 Q2135.3 142.277 2133.36 141.815 Q2131.42 141.352 2129.33 141.352 Q2126.16 141.352 2124.56 142.324 Q2122.99 143.296 2122.99 145.24 Q2122.99 146.722 2124.12 147.578 Q2125.26 148.412 2128.68 149.176 L2130.14 149.5 Q2134.68 150.472 2136.58 152.254 Q2138.5 154.014 2138.5 157.185 Q2138.5 160.796 2135.63 162.902 Q2132.78 165.009 2127.78 165.009 Q2125.7 165.009 2123.43 164.592 Q2121.18 164.199 2118.68 163.388 L2118.68 158.99 Q2121.05 160.217 2123.34 160.842 Q2125.63 161.444 2127.87 161.444 Q2130.88 161.444 2132.5 160.426 Q2134.12 159.384 2134.12 157.509 Q2134.12 155.773 2132.94 154.847 Q2131.79 153.921 2127.83 153.064 L2126.35 152.717 Q2122.39 151.884 2120.63 150.171 Q2118.87 148.435 2118.87 145.426 Q2118.87 141.768 2121.46 139.778 Q2124.05 137.787 2128.82 137.787 Q2131.18 137.787 2133.27 138.134 Q2135.35 138.481 2137.11 139.176 Z\" fill=\"#f8f8f2\" fill-rule=\"nonzero\" fill-opacity=\"1\" /><path clip-path=\"url(#clip590)\" d=\"M2145.28 138.412 L2149.54 138.412 L2149.54 164.338 L2145.28 164.338 L2145.28 138.412 M2145.28 128.319 L2149.54 128.319 L2149.54 133.713 L2145.28 133.713 L2145.28 128.319 Z\" fill=\"#f8f8f2\" fill-rule=\"nonzero\" fill-opacity=\"1\" /><path clip-path=\"url(#clip590)\" d=\"M2180 148.689 L2180 164.338 L2175.74 164.338 L2175.74 148.828 Q2175.74 145.148 2174.31 143.319 Q2172.87 141.49 2170 141.49 Q2166.55 141.49 2164.56 143.69 Q2162.57 145.889 2162.57 149.685 L2162.57 164.338 L2158.29 164.338 L2158.29 138.412 L2162.57 138.412 L2162.57 142.44 Q2164.1 140.102 2166.16 138.944 Q2168.24 137.787 2170.95 137.787 Q2175.42 137.787 2177.71 140.565 Q2180 143.319 2180 148.689 Z\" fill=\"#f8f8f2\" fill-rule=\"nonzero\" fill-opacity=\"1\" /><path clip-path=\"url(#clip590)\" d=\"M2198.73 128.366 Q2195.63 133.69 2194.12 138.898 Q2192.62 144.106 2192.62 149.453 Q2192.62 154.801 2194.12 160.055 Q2195.65 165.287 2198.73 170.588 L2195.03 170.588 Q2191.55 165.148 2189.82 159.893 Q2188.11 154.639 2188.11 149.453 Q2188.11 144.291 2189.82 139.06 Q2191.53 133.828 2195.03 128.366 L2198.73 128.366 Z\" fill=\"#f8f8f2\" fill-rule=\"nonzero\" fill-opacity=\"1\" /><path clip-path=\"url(#clip590)\" d=\"M2228.54 138.412 L2219.17 151.027 L2229.03 164.338 L2224.01 164.338 L2216.46 154.152 L2208.92 164.338 L2203.89 164.338 L2213.96 150.773 L2204.75 138.412 L2209.77 138.412 L2216.65 147.648 L2223.52 138.412 L2228.54 138.412 Z\" fill=\"#f8f8f2\" fill-rule=\"nonzero\" fill-opacity=\"1\" /><path clip-path=\"url(#clip590)\" d=\"M2234.38 128.366 L2238.08 128.366 Q2241.55 133.828 2243.27 139.06 Q2245 144.291 2245 149.453 Q2245 154.639 2243.27 159.893 Q2241.55 165.148 2238.08 170.588 L2234.38 170.588 Q2237.46 165.287 2238.96 160.055 Q2240.49 154.801 2240.49 149.453 Q2240.49 144.106 2238.96 138.898 Q2237.46 133.69 2234.38 128.366 Z\" fill=\"#f8f8f2\" fill-rule=\"nonzero\" fill-opacity=\"1\" /><polyline clip-path=\"url(#clip590)\" style=\"stroke:#ff79c6; stroke-linecap:round; stroke-linejoin:round; stroke-width:4; stroke-opacity:1; fill:none\" points=\"1950.78,198.898 2094.7,198.898 \"/>\n",
       "<path clip-path=\"url(#clip590)\" d=\"M2139.19 191.247 L2139.19 195.229 Q2137.39 194.233 2135.56 193.747 Q2133.75 193.238 2131.9 193.238 Q2127.76 193.238 2125.47 195.877 Q2123.17 198.492 2123.17 203.238 Q2123.17 207.983 2125.47 210.622 Q2127.76 213.238 2131.9 213.238 Q2133.75 213.238 2135.56 212.752 Q2137.39 212.242 2139.19 211.247 L2139.19 215.182 Q2137.41 216.016 2135.49 216.432 Q2133.59 216.849 2131.44 216.849 Q2125.58 216.849 2122.13 213.168 Q2118.68 209.488 2118.68 203.238 Q2118.68 196.895 2122.16 193.261 Q2125.65 189.627 2131.72 189.627 Q2133.68 189.627 2135.56 190.043 Q2137.43 190.437 2139.19 191.247 Z\" fill=\"#f8f8f2\" fill-rule=\"nonzero\" fill-opacity=\"1\" /><path clip-path=\"url(#clip590)\" d=\"M2156.65 193.238 Q2153.22 193.238 2151.23 195.923 Q2149.24 198.585 2149.24 203.238 Q2149.24 207.891 2151.21 210.576 Q2153.2 213.238 2156.65 213.238 Q2160.05 213.238 2162.04 210.553 Q2164.03 207.867 2164.03 203.238 Q2164.03 198.631 2162.04 195.946 Q2160.05 193.238 2156.65 193.238 M2156.65 189.627 Q2162.2 189.627 2165.37 193.238 Q2168.54 196.849 2168.54 203.238 Q2168.54 209.604 2165.37 213.238 Q2162.2 216.849 2156.65 216.849 Q2151.07 216.849 2147.9 213.238 Q2144.75 209.604 2144.75 203.238 Q2144.75 196.849 2147.9 193.238 Q2151.07 189.627 2156.65 189.627 Z\" fill=\"#f8f8f2\" fill-rule=\"nonzero\" fill-opacity=\"1\" /><path clip-path=\"url(#clip590)\" d=\"M2192.13 191.016 L2192.13 195.043 Q2190.33 194.117 2188.38 193.655 Q2186.44 193.192 2184.36 193.192 Q2181.18 193.192 2179.59 194.164 Q2178.01 195.136 2178.01 197.08 Q2178.01 198.562 2179.15 199.418 Q2180.28 200.252 2183.71 201.016 L2185.17 201.34 Q2189.7 202.312 2191.6 204.094 Q2193.52 205.854 2193.52 209.025 Q2193.52 212.636 2190.65 214.742 Q2187.8 216.849 2182.8 216.849 Q2180.72 216.849 2178.45 216.432 Q2176.21 216.039 2173.71 215.228 L2173.71 210.83 Q2176.07 212.057 2178.36 212.682 Q2180.65 213.284 2182.9 213.284 Q2185.91 213.284 2187.53 212.266 Q2189.15 211.224 2189.15 209.349 Q2189.15 207.613 2187.97 206.687 Q2186.81 205.761 2182.85 204.904 L2181.37 204.557 Q2177.41 203.724 2175.65 202.011 Q2173.89 200.275 2173.89 197.266 Q2173.89 193.608 2176.48 191.618 Q2179.08 189.627 2183.85 189.627 Q2186.21 189.627 2188.29 189.974 Q2190.37 190.321 2192.13 191.016 Z\" fill=\"#f8f8f2\" fill-rule=\"nonzero\" fill-opacity=\"1\" /><path clip-path=\"url(#clip590)\" d=\"M2210.54 180.206 Q2207.43 185.53 2205.93 190.738 Q2204.42 195.946 2204.42 201.293 Q2204.42 206.641 2205.93 211.895 Q2207.46 217.127 2210.54 222.428 L2206.83 222.428 Q2203.36 216.988 2201.62 211.733 Q2199.91 206.479 2199.91 201.293 Q2199.91 196.131 2201.62 190.9 Q2203.34 185.668 2206.83 180.206 L2210.54 180.206 Z\" fill=\"#f8f8f2\" fill-rule=\"nonzero\" fill-opacity=\"1\" /><path clip-path=\"url(#clip590)\" d=\"M2240.35 190.252 L2230.98 202.867 L2240.84 216.178 L2235.81 216.178 L2228.27 205.992 L2220.72 216.178 L2215.7 216.178 L2225.77 202.613 L2216.55 190.252 L2221.58 190.252 L2228.45 199.488 L2235.33 190.252 L2240.35 190.252 Z\" fill=\"#f8f8f2\" fill-rule=\"nonzero\" fill-opacity=\"1\" /><path clip-path=\"url(#clip590)\" d=\"M2246.18 180.206 L2249.89 180.206 Q2253.36 185.668 2255.07 190.9 Q2256.81 196.131 2256.81 201.293 Q2256.81 206.479 2255.07 211.733 Q2253.36 216.988 2249.89 222.428 L2246.18 222.428 Q2249.26 217.127 2250.77 211.895 Q2252.29 206.641 2252.29 201.293 Q2252.29 195.946 2250.77 190.738 Q2249.26 185.53 2246.18 180.206 Z\" fill=\"#f8f8f2\" fill-rule=\"nonzero\" fill-opacity=\"1\" /></svg>\n"
      ]
     },
     "execution_count": 83,
     "metadata": {},
     "output_type": "execute_result"
    }
   ],
   "source": [
    "x = 1:.1:10\n",
    "y = sin.(x)\n",
    "z = cos.(x)\n",
    "\n",
    "plot(x, y, label=\"sin(x)\")\n",
    "plot!(x, z, label=\"cos(x)\") # Hold on the previous plot"
   ]
  },
  {
   "cell_type": "code",
   "execution_count": 84,
   "metadata": {},
   "outputs": [
    {
     "data": {
      "text/latex": [
       "\\textbf{Scatter Plot}\n",
       "\n"
      ],
      "text/markdown": [
       "**Scatter Plot**\n"
      ],
      "text/plain": [
       "  \u001b[1mScatter Plot\u001b[22m"
      ]
     },
     "execution_count": 84,
     "metadata": {},
     "output_type": "execute_result"
    }
   ],
   "source": [
    "md\"**Scatter Plot**\""
   ]
  },
  {
   "cell_type": "code",
   "execution_count": 85,
   "metadata": {},
   "outputs": [
    {
     "data": {
      "image/png": "[encoded data removed]",
      "image/svg+xml": [
       "<?xml version=\"1.0\" encoding=\"utf-8\"?>\n",
       "<svg xmlns=\"http://www.w3.org/2000/svg\" xmlns:xlink=\"http://www.w3.org/1999/xlink\" width=\"600\" height=\"400\" viewBox=\"0 0 2400 1600\">\n",
       "<defs>\n",
       "  <clipPath id=\"clip630\">\n",
       "    <rect x=\"0\" y=\"0\" width=\"2400\" height=\"1600\"/>\n",
       "  </clipPath>\n",
       "</defs>\n",
       "<path clip-path=\"url(#clip630)\" d=\"M0 1600 L2400 1600 L2400 0 L0 0  Z\" fill=\"#282a36\" fill-rule=\"evenodd\" fill-opacity=\"1\"/>\n",
       "<defs>\n",
       "  <clipPath id=\"clip631\">\n",
       "    <rect x=\"480\" y=\"0\" width=\"1681\" height=\"1600\"/>\n",
       "  </clipPath>\n",
       "</defs>\n",
       "<path clip-path=\"url(#clip630)\" d=\"M193.936 1486.45 L2352.76 1486.45 L2352.76 47.2441 L193.936 47.2441  Z\" fill=\"#30343b\" fill-rule=\"evenodd\" fill-opacity=\"1\"/>\n",
       "<defs>\n",
       "  <clipPath id=\"clip632\">\n",
       "    <rect x=\"193\" y=\"47\" width=\"2160\" height=\"1440\"/>\n",
       "  </clipPath>\n",
       "</defs>\n",
       "<polyline clip-path=\"url(#clip632)\" style=\"stroke:#f8f8f2; stroke-linecap:round; stroke-linejoin:round; stroke-width:2; stroke-opacity:0.1; fill:none\" points=\"481.326,1486.45 481.326,47.2441 \"/>\n",
       "<polyline clip-path=\"url(#clip632)\" style=\"stroke:#f8f8f2; stroke-linecap:round; stroke-linejoin:round; stroke-width:2; stroke-opacity:0.1; fill:none\" points=\"933.909,1486.45 933.909,47.2441 \"/>\n",
       "<polyline clip-path=\"url(#clip632)\" style=\"stroke:#f8f8f2; stroke-linecap:round; stroke-linejoin:round; stroke-width:2; stroke-opacity:0.1; fill:none\" points=\"1386.49,1486.45 1386.49,47.2441 \"/>\n",
       "<polyline clip-path=\"url(#clip632)\" style=\"stroke:#f8f8f2; stroke-linecap:round; stroke-linejoin:round; stroke-width:2; stroke-opacity:0.1; fill:none\" points=\"1839.07,1486.45 1839.07,47.2441 \"/>\n",
       "<polyline clip-path=\"url(#clip632)\" style=\"stroke:#f8f8f2; stroke-linecap:round; stroke-linejoin:round; stroke-width:2; stroke-opacity:0.1; fill:none\" points=\"2291.66,1486.45 2291.66,47.2441 \"/>\n",
       "<polyline clip-path=\"url(#clip632)\" style=\"stroke:#f8f8f2; stroke-linecap:round; stroke-linejoin:round; stroke-width:2; stroke-opacity:0.1; fill:none\" points=\"193.936,1447.88 2352.76,1447.88 \"/>\n",
       "<polyline clip-path=\"url(#clip632)\" style=\"stroke:#f8f8f2; stroke-linecap:round; stroke-linejoin:round; stroke-width:2; stroke-opacity:0.1; fill:none\" points=\"193.936,1105.97 2352.76,1105.97 \"/>\n",
       "<polyline clip-path=\"url(#clip632)\" style=\"stroke:#f8f8f2; stroke-linecap:round; stroke-linejoin:round; stroke-width:2; stroke-opacity:0.1; fill:none\" points=\"193.936,764.064 2352.76,764.064 \"/>\n",
       "<polyline clip-path=\"url(#clip632)\" style=\"stroke:#f8f8f2; stroke-linecap:round; stroke-linejoin:round; stroke-width:2; stroke-opacity:0.1; fill:none\" points=\"193.936,422.155 2352.76,422.155 \"/>\n",
       "<polyline clip-path=\"url(#clip632)\" style=\"stroke:#f8f8f2; stroke-linecap:round; stroke-linejoin:round; stroke-width:2; stroke-opacity:0.1; fill:none\" points=\"193.936,80.2461 2352.76,80.2461 \"/>\n",
       "<polyline clip-path=\"url(#clip630)\" style=\"stroke:#f8f8f2; stroke-linecap:round; stroke-linejoin:round; stroke-width:4; stroke-opacity:1; fill:none\" points=\"193.936,1486.45 2352.76,1486.45 \"/>\n",
       "<polyline clip-path=\"url(#clip630)\" style=\"stroke:#f8f8f2; stroke-linecap:round; stroke-linejoin:round; stroke-width:4; stroke-opacity:1; fill:none\" points=\"481.326,1486.45 481.326,1467.55 \"/>\n",
       "<polyline clip-path=\"url(#clip630)\" style=\"stroke:#f8f8f2; stroke-linecap:round; stroke-linejoin:round; stroke-width:4; stroke-opacity:1; fill:none\" points=\"933.909,1486.45 933.909,1467.55 \"/>\n",
       "<polyline clip-path=\"url(#clip630)\" style=\"stroke:#f8f8f2; stroke-linecap:round; stroke-linejoin:round; stroke-width:4; stroke-opacity:1; fill:none\" points=\"1386.49,1486.45 1386.49,1467.55 \"/>\n",
       "<polyline clip-path=\"url(#clip630)\" style=\"stroke:#f8f8f2; stroke-linecap:round; stroke-linejoin:round; stroke-width:4; stroke-opacity:1; fill:none\" points=\"1839.07,1486.45 1839.07,1467.55 \"/>\n",
       "<polyline clip-path=\"url(#clip630)\" style=\"stroke:#f8f8f2; stroke-linecap:round; stroke-linejoin:round; stroke-width:4; stroke-opacity:1; fill:none\" points=\"2291.66,1486.45 2291.66,1467.55 \"/>\n",
       "<path clip-path=\"url(#clip630)\" d=\"M475.979 1544.91 L492.298 1544.91 L492.298 1548.85 L470.354 1548.85 L470.354 1544.91 Q473.016 1542.16 477.599 1537.53 Q482.206 1532.88 483.386 1531.53 Q485.632 1529.01 486.511 1527.27 Q487.414 1525.51 487.414 1523.82 Q487.414 1521.07 485.47 1519.33 Q483.548 1517.6 480.446 1517.6 Q478.247 1517.6 475.794 1518.36 Q473.363 1519.13 470.585 1520.68 L470.585 1515.95 Q473.409 1514.82 475.863 1514.24 Q478.317 1513.66 480.354 1513.66 Q485.724 1513.66 488.919 1516.35 Q492.113 1519.03 492.113 1523.52 Q492.113 1525.65 491.303 1527.57 Q490.516 1529.47 488.409 1532.07 Q487.831 1532.74 484.729 1535.95 Q481.627 1539.15 475.979 1544.91 Z\" fill=\"#f8f8f2\" fill-rule=\"nonzero\" fill-opacity=\"1\" /><path clip-path=\"url(#clip630)\" d=\"M936.918 1518.36 L925.113 1536.81 L936.918 1536.81 L936.918 1518.36 M935.691 1514.29 L941.571 1514.29 L941.571 1536.81 L946.501 1536.81 L946.501 1540.7 L941.571 1540.7 L941.571 1548.85 L936.918 1548.85 L936.918 1540.7 L921.316 1540.7 L921.316 1536.19 L935.691 1514.29 Z\" fill=\"#f8f8f2\" fill-rule=\"nonzero\" fill-opacity=\"1\" /><path clip-path=\"url(#clip630)\" d=\"M1386.9 1529.7 Q1383.75 1529.7 1381.9 1531.86 Q1380.07 1534.01 1380.07 1537.76 Q1380.07 1541.49 1381.9 1543.66 Q1383.75 1545.82 1386.9 1545.82 Q1390.04 1545.82 1391.87 1543.66 Q1393.73 1541.49 1393.73 1537.76 Q1393.73 1534.01 1391.87 1531.86 Q1390.04 1529.7 1386.9 1529.7 M1396.18 1515.05 L1396.18 1519.31 Q1394.42 1518.48 1392.61 1518.04 Q1390.83 1517.6 1389.07 1517.6 Q1384.44 1517.6 1381.99 1520.72 Q1379.56 1523.85 1379.21 1530.17 Q1380.58 1528.15 1382.64 1527.09 Q1384.7 1526 1387.17 1526 Q1392.38 1526 1395.39 1529.17 Q1398.42 1532.32 1398.42 1537.76 Q1398.42 1543.08 1395.28 1546.3 Q1392.13 1549.52 1386.9 1549.52 Q1380.9 1549.52 1377.73 1544.94 Q1374.56 1540.33 1374.56 1531.6 Q1374.56 1523.41 1378.45 1518.55 Q1382.34 1513.66 1388.89 1513.66 Q1390.65 1513.66 1392.43 1514.01 Q1394.23 1514.36 1396.18 1515.05 Z\" fill=\"#f8f8f2\" fill-rule=\"nonzero\" fill-opacity=\"1\" /><path clip-path=\"url(#clip630)\" d=\"M1839.07 1532.44 Q1835.74 1532.44 1833.82 1534.22 Q1831.92 1536 1831.92 1539.13 Q1831.92 1542.25 1833.82 1544.03 Q1835.74 1545.82 1839.07 1545.82 Q1842.41 1545.82 1844.33 1544.03 Q1846.25 1542.23 1846.25 1539.13 Q1846.25 1536 1844.33 1534.22 Q1842.43 1532.44 1839.07 1532.44 M1834.4 1530.45 Q1831.39 1529.7 1829.7 1527.64 Q1828.03 1525.58 1828.03 1522.62 Q1828.03 1518.48 1830.97 1516.07 Q1833.94 1513.66 1839.07 1513.66 Q1844.24 1513.66 1847.18 1516.07 Q1850.12 1518.48 1850.12 1522.62 Q1850.12 1525.58 1848.43 1527.64 Q1846.76 1529.7 1843.77 1530.45 Q1847.15 1531.23 1849.03 1533.52 Q1850.93 1535.82 1850.93 1539.13 Q1850.93 1544.15 1847.85 1546.83 Q1844.79 1549.52 1839.07 1549.52 Q1833.36 1549.52 1830.28 1546.83 Q1827.22 1544.15 1827.22 1539.13 Q1827.22 1535.82 1829.12 1533.52 Q1831.02 1531.23 1834.4 1530.45 M1832.69 1523.06 Q1832.69 1525.75 1834.35 1527.25 Q1836.04 1528.76 1839.07 1528.76 Q1842.08 1528.76 1843.77 1527.25 Q1845.49 1525.75 1845.49 1523.06 Q1845.49 1520.38 1843.77 1518.87 Q1842.08 1517.37 1839.07 1517.37 Q1836.04 1517.37 1834.35 1518.87 Q1832.69 1520.38 1832.69 1523.06 Z\" fill=\"#f8f8f2\" fill-rule=\"nonzero\" fill-opacity=\"1\" /><path clip-path=\"url(#clip630)\" d=\"M2266.34 1544.91 L2273.98 1544.91 L2273.98 1518.55 L2265.67 1520.21 L2265.67 1515.95 L2273.94 1514.29 L2278.61 1514.29 L2278.61 1544.91 L2286.25 1544.91 L2286.25 1548.85 L2266.34 1548.85 L2266.34 1544.91 Z\" fill=\"#f8f8f2\" fill-rule=\"nonzero\" fill-opacity=\"1\" /><path clip-path=\"url(#clip630)\" d=\"M2305.7 1517.37 Q2302.09 1517.37 2300.26 1520.93 Q2298.45 1524.47 2298.45 1531.6 Q2298.45 1538.71 2300.26 1542.27 Q2302.09 1545.82 2305.7 1545.82 Q2309.33 1545.82 2311.14 1542.27 Q2312.96 1538.71 2312.96 1531.6 Q2312.96 1524.47 2311.14 1520.93 Q2309.33 1517.37 2305.7 1517.37 M2305.7 1513.66 Q2311.51 1513.66 2314.56 1518.27 Q2317.64 1522.85 2317.64 1531.6 Q2317.64 1540.33 2314.56 1544.94 Q2311.51 1549.52 2305.7 1549.52 Q2299.89 1549.52 2296.81 1544.94 Q2293.75 1540.33 2293.75 1531.6 Q2293.75 1522.85 2296.81 1518.27 Q2299.89 1513.66 2305.7 1513.66 Z\" fill=\"#f8f8f2\" fill-rule=\"nonzero\" fill-opacity=\"1\" /><polyline clip-path=\"url(#clip630)\" style=\"stroke:#f8f8f2; stroke-linecap:round; stroke-linejoin:round; stroke-width:4; stroke-opacity:1; fill:none\" points=\"193.936,1486.45 193.936,47.2441 \"/>\n",
       "<polyline clip-path=\"url(#clip630)\" style=\"stroke:#f8f8f2; stroke-linecap:round; stroke-linejoin:round; stroke-width:4; stroke-opacity:1; fill:none\" points=\"193.936,1447.88 212.834,1447.88 \"/>\n",
       "<polyline clip-path=\"url(#clip630)\" style=\"stroke:#f8f8f2; stroke-linecap:round; stroke-linejoin:round; stroke-width:4; stroke-opacity:1; fill:none\" points=\"193.936,1105.97 212.834,1105.97 \"/>\n",
       "<polyline clip-path=\"url(#clip630)\" style=\"stroke:#f8f8f2; stroke-linecap:round; stroke-linejoin:round; stroke-width:4; stroke-opacity:1; fill:none\" points=\"193.936,764.064 212.834,764.064 \"/>\n",
       "<polyline clip-path=\"url(#clip630)\" style=\"stroke:#f8f8f2; stroke-linecap:round; stroke-linejoin:round; stroke-width:4; stroke-opacity:1; fill:none\" points=\"193.936,422.155 212.834,422.155 \"/>\n",
       "<polyline clip-path=\"url(#clip630)\" style=\"stroke:#f8f8f2; stroke-linecap:round; stroke-linejoin:round; stroke-width:4; stroke-opacity:1; fill:none\" points=\"193.936,80.2461 212.834,80.2461 \"/>\n",
       "<path clip-path=\"url(#clip630)\" d=\"M50.9921 1448.33 L80.6679 1448.33 L80.6679 1452.27 L50.9921 1452.27 L50.9921 1448.33 Z\" fill=\"#f8f8f2\" fill-rule=\"nonzero\" fill-opacity=\"1\" /><path clip-path=\"url(#clip630)\" d=\"M91.5706 1461.23 L99.2095 1461.23 L99.2095 1434.86 L90.8993 1436.53 L90.8993 1432.27 L99.1632 1430.6 L103.839 1430.6 L103.839 1461.23 L111.478 1461.23 L111.478 1465.16 L91.5706 1465.16 L91.5706 1461.23 Z\" fill=\"#f8f8f2\" fill-rule=\"nonzero\" fill-opacity=\"1\" /><path clip-path=\"url(#clip630)\" d=\"M120.922 1459.28 L125.807 1459.28 L125.807 1465.16 L120.922 1465.16 L120.922 1459.28 Z\" fill=\"#f8f8f2\" fill-rule=\"nonzero\" fill-opacity=\"1\" /><path clip-path=\"url(#clip630)\" d=\"M145.992 1433.68 Q142.381 1433.68 140.552 1437.24 Q138.746 1440.79 138.746 1447.92 Q138.746 1455.02 140.552 1458.59 Q142.381 1462.13 145.992 1462.13 Q149.626 1462.13 151.431 1458.59 Q153.26 1455.02 153.26 1447.92 Q153.26 1440.79 151.431 1437.24 Q149.626 1433.68 145.992 1433.68 M145.992 1429.98 Q151.802 1429.98 154.857 1434.58 Q157.936 1439.17 157.936 1447.92 Q157.936 1456.64 154.857 1461.25 Q151.802 1465.83 145.992 1465.83 Q140.181 1465.83 137.103 1461.25 Q134.047 1456.64 134.047 1447.92 Q134.047 1439.17 137.103 1434.58 Q140.181 1429.98 145.992 1429.98 Z\" fill=\"#f8f8f2\" fill-rule=\"nonzero\" fill-opacity=\"1\" /><path clip-path=\"url(#clip630)\" d=\"M51.9875 1106.42 L81.6633 1106.42 L81.6633 1110.36 L51.9875 1110.36 L51.9875 1106.42 Z\" fill=\"#f8f8f2\" fill-rule=\"nonzero\" fill-opacity=\"1\" /><path clip-path=\"url(#clip630)\" d=\"M101.756 1091.77 Q98.1447 1091.77 96.316 1095.34 Q94.5104 1098.88 94.5104 1106.01 Q94.5104 1113.11 96.316 1116.68 Q98.1447 1120.22 101.756 1120.22 Q105.39 1120.22 107.196 1116.68 Q109.024 1113.11 109.024 1106.01 Q109.024 1098.88 107.196 1095.34 Q105.39 1091.77 101.756 1091.77 M101.756 1088.07 Q107.566 1088.07 110.621 1092.67 Q113.7 1097.26 113.7 1106.01 Q113.7 1114.73 110.621 1119.34 Q107.566 1123.92 101.756 1123.92 Q95.9456 1123.92 92.8669 1119.34 Q89.8114 1114.73 89.8114 1106.01 Q89.8114 1097.26 92.8669 1092.67 Q95.9456 1088.07 101.756 1088.07 Z\" fill=\"#f8f8f2\" fill-rule=\"nonzero\" fill-opacity=\"1\" /><path clip-path=\"url(#clip630)\" d=\"M121.918 1117.37 L126.802 1117.37 L126.802 1123.25 L121.918 1123.25 L121.918 1117.37 Z\" fill=\"#f8f8f2\" fill-rule=\"nonzero\" fill-opacity=\"1\" /><path clip-path=\"url(#clip630)\" d=\"M137.033 1088.69 L155.39 1088.69 L155.39 1092.63 L141.316 1092.63 L141.316 1101.1 Q142.334 1100.75 143.353 1100.59 Q144.371 1100.41 145.39 1100.41 Q151.177 1100.41 154.556 1103.58 Q157.936 1106.75 157.936 1112.16 Q157.936 1117.74 154.464 1120.84 Q150.992 1123.92 144.672 1123.92 Q142.496 1123.92 140.228 1123.55 Q137.982 1123.18 135.575 1122.44 L135.575 1117.74 Q137.658 1118.88 139.881 1119.43 Q142.103 1119.99 144.58 1119.99 Q148.584 1119.99 150.922 1117.88 Q153.26 1115.78 153.26 1112.16 Q153.26 1108.55 150.922 1106.45 Q148.584 1104.34 144.58 1104.34 Q142.705 1104.34 140.83 1104.76 Q138.978 1105.17 137.033 1106.05 L137.033 1088.69 Z\" fill=\"#f8f8f2\" fill-rule=\"nonzero\" fill-opacity=\"1\" /><path clip-path=\"url(#clip630)\" d=\"M100.76 749.862 Q97.1493 749.862 95.3206 753.427 Q93.515 756.969 93.515 764.098 Q93.515 771.205 95.3206 774.77 Q97.1493 778.311 100.76 778.311 Q104.395 778.311 106.2 774.77 Q108.029 771.205 108.029 764.098 Q108.029 756.969 106.2 753.427 Q104.395 749.862 100.76 749.862 M100.76 746.159 Q106.571 746.159 109.626 750.765 Q112.705 755.348 112.705 764.098 Q112.705 772.825 109.626 777.432 Q106.571 782.015 100.76 782.015 Q94.9502 782.015 91.8715 777.432 Q88.816 772.825 88.816 764.098 Q88.816 755.348 91.8715 750.765 Q94.9502 746.159 100.76 746.159 Z\" fill=\"#f8f8f2\" fill-rule=\"nonzero\" fill-opacity=\"1\" /><path clip-path=\"url(#clip630)\" d=\"M120.922 775.464 L125.807 775.464 L125.807 781.344 L120.922 781.344 L120.922 775.464 Z\" fill=\"#f8f8f2\" fill-rule=\"nonzero\" fill-opacity=\"1\" /><path clip-path=\"url(#clip630)\" d=\"M145.992 749.862 Q142.381 749.862 140.552 753.427 Q138.746 756.969 138.746 764.098 Q138.746 771.205 140.552 774.77 Q142.381 778.311 145.992 778.311 Q149.626 778.311 151.431 774.77 Q153.26 771.205 153.26 764.098 Q153.26 756.969 151.431 753.427 Q149.626 749.862 145.992 749.862 M145.992 746.159 Q151.802 746.159 154.857 750.765 Q157.936 755.348 157.936 764.098 Q157.936 772.825 154.857 777.432 Q151.802 782.015 145.992 782.015 Q140.181 782.015 137.103 777.432 Q134.047 772.825 134.047 764.098 Q134.047 755.348 137.103 750.765 Q140.181 746.159 145.992 746.159 Z\" fill=\"#f8f8f2\" fill-rule=\"nonzero\" fill-opacity=\"1\" /><path clip-path=\"url(#clip630)\" d=\"M101.756 407.954 Q98.1447 407.954 96.316 411.518 Q94.5104 415.06 94.5104 422.19 Q94.5104 429.296 96.316 432.861 Q98.1447 436.402 101.756 436.402 Q105.39 436.402 107.196 432.861 Q109.024 429.296 109.024 422.19 Q109.024 415.06 107.196 411.518 Q105.39 407.954 101.756 407.954 M101.756 404.25 Q107.566 404.25 110.621 408.856 Q113.7 413.44 113.7 422.19 Q113.7 430.916 110.621 435.523 Q107.566 440.106 101.756 440.106 Q95.9456 440.106 92.8669 435.523 Q89.8114 430.916 89.8114 422.19 Q89.8114 413.44 92.8669 408.856 Q95.9456 404.25 101.756 404.25 Z\" fill=\"#f8f8f2\" fill-rule=\"nonzero\" fill-opacity=\"1\" /><path clip-path=\"url(#clip630)\" d=\"M121.918 433.555 L126.802 433.555 L126.802 439.435 L121.918 439.435 L121.918 433.555 Z\" fill=\"#f8f8f2\" fill-rule=\"nonzero\" fill-opacity=\"1\" /><path clip-path=\"url(#clip630)\" d=\"M137.033 404.875 L155.39 404.875 L155.39 408.81 L141.316 408.81 L141.316 417.282 Q142.334 416.935 143.353 416.773 Q144.371 416.588 145.39 416.588 Q151.177 416.588 154.556 419.759 Q157.936 422.93 157.936 428.347 Q157.936 433.926 154.464 437.027 Q150.992 440.106 144.672 440.106 Q142.496 440.106 140.228 439.736 Q137.982 439.365 135.575 438.625 L135.575 433.926 Q137.658 435.06 139.881 435.615 Q142.103 436.171 144.58 436.171 Q148.584 436.171 150.922 434.065 Q153.26 431.958 153.26 428.347 Q153.26 424.736 150.922 422.629 Q148.584 420.523 144.58 420.523 Q142.705 420.523 140.83 420.94 Q138.978 421.356 137.033 422.236 L137.033 404.875 Z\" fill=\"#f8f8f2\" fill-rule=\"nonzero\" fill-opacity=\"1\" /><path clip-path=\"url(#clip630)\" d=\"M91.5706 93.591 L99.2095 93.591 L99.2095 67.2254 L90.8993 68.892 L90.8993 64.6328 L99.1632 62.9661 L103.839 62.9661 L103.839 93.591 L111.478 93.591 L111.478 97.5261 L91.5706 97.5261 L91.5706 93.591 Z\" fill=\"#f8f8f2\" fill-rule=\"nonzero\" fill-opacity=\"1\" /><path clip-path=\"url(#clip630)\" d=\"M120.922 91.6465 L125.807 91.6465 L125.807 97.5261 L120.922 97.5261 L120.922 91.6465 Z\" fill=\"#f8f8f2\" fill-rule=\"nonzero\" fill-opacity=\"1\" /><path clip-path=\"url(#clip630)\" d=\"M145.992 66.0448 Q142.381 66.0448 140.552 69.6096 Q138.746 73.1512 138.746 80.2808 Q138.746 87.3873 140.552 90.9521 Q142.381 94.4937 145.992 94.4937 Q149.626 94.4937 151.431 90.9521 Q153.26 87.3873 153.26 80.2808 Q153.26 73.1512 151.431 69.6096 Q149.626 66.0448 145.992 66.0448 M145.992 62.3411 Q151.802 62.3411 154.857 66.9476 Q157.936 71.5309 157.936 80.2808 Q157.936 89.0076 154.857 93.6141 Q151.802 98.1974 145.992 98.1974 Q140.181 98.1974 137.103 93.6141 Q134.047 89.0076 134.047 80.2808 Q134.047 71.5309 137.103 66.9476 Q140.181 62.3411 145.992 62.3411 Z\" fill=\"#f8f8f2\" fill-rule=\"nonzero\" fill-opacity=\"1\" /><circle clip-path=\"url(#clip632)\" cx=\"255.035\" cy=\"394.595\" r=\"14.4\" fill=\"#8be9fd\" fill-rule=\"evenodd\" fill-opacity=\"1\" stroke=\"#f8f8f2\" stroke-opacity=\"1\" stroke-width=\"3.2\"/>\n",
       "<circle clip-path=\"url(#clip632)\" cx=\"481.326\" cy=\"863.559\" r=\"14.4\" fill=\"#8be9fd\" fill-rule=\"evenodd\" fill-opacity=\"1\" stroke=\"#f8f8f2\" stroke-opacity=\"1\" stroke-width=\"3.2\"/>\n",
       "<circle clip-path=\"url(#clip632)\" cx=\"707.617\" cy=\"963.833\" r=\"14.4\" fill=\"#8be9fd\" fill-rule=\"evenodd\" fill-opacity=\"1\" stroke=\"#f8f8f2\" stroke-opacity=\"1\" stroke-width=\"3.2\"/>\n",
       "<circle clip-path=\"url(#clip632)\" cx=\"933.909\" cy=\"496.105\" r=\"14.4\" fill=\"#8be9fd\" fill-rule=\"evenodd\" fill-opacity=\"1\" stroke=\"#f8f8f2\" stroke-opacity=\"1\" stroke-width=\"3.2\"/>\n",
       "<circle clip-path=\"url(#clip632)\" cx=\"1160.2\" cy=\"225.411\" r=\"14.4\" fill=\"#8be9fd\" fill-rule=\"evenodd\" fill-opacity=\"1\" stroke=\"#f8f8f2\" stroke-opacity=\"1\" stroke-width=\"3.2\"/>\n",
       "<circle clip-path=\"url(#clip632)\" cx=\"1386.49\" cy=\"1255.03\" r=\"14.4\" fill=\"#8be9fd\" fill-rule=\"evenodd\" fill-opacity=\"1\" stroke=\"#f8f8f2\" stroke-opacity=\"1\" stroke-width=\"3.2\"/>\n",
       "<circle clip-path=\"url(#clip632)\" cx=\"1612.78\" cy=\"1341.09\" r=\"14.4\" fill=\"#8be9fd\" fill-rule=\"evenodd\" fill-opacity=\"1\" stroke=\"#f8f8f2\" stroke-opacity=\"1\" stroke-width=\"3.2\"/>\n",
       "<circle clip-path=\"url(#clip632)\" cx=\"1839.07\" cy=\"1445.72\" r=\"14.4\" fill=\"#8be9fd\" fill-rule=\"evenodd\" fill-opacity=\"1\" stroke=\"#f8f8f2\" stroke-opacity=\"1\" stroke-width=\"3.2\"/>\n",
       "<circle clip-path=\"url(#clip632)\" cx=\"2065.37\" cy=\"87.9763\" r=\"14.4\" fill=\"#8be9fd\" fill-rule=\"evenodd\" fill-opacity=\"1\" stroke=\"#f8f8f2\" stroke-opacity=\"1\" stroke-width=\"3.2\"/>\n",
       "<circle clip-path=\"url(#clip632)\" cx=\"2291.66\" cy=\"379.499\" r=\"14.4\" fill=\"#8be9fd\" fill-rule=\"evenodd\" fill-opacity=\"1\" stroke=\"#f8f8f2\" stroke-opacity=\"1\" stroke-width=\"3.2\"/>\n",
       "</svg>\n"
      ],
      "text/html": [
       "<?xml version=\"1.0\" encoding=\"utf-8\"?>\n",
       "<svg xmlns=\"http://www.w3.org/2000/svg\" xmlns:xlink=\"http://www.w3.org/1999/xlink\" width=\"600\" height=\"400\" viewBox=\"0 0 2400 1600\">\n",
       "<defs>\n",
       "  <clipPath id=\"clip680\">\n",
       "    <rect x=\"0\" y=\"0\" width=\"2400\" height=\"1600\"/>\n",
       "  </clipPath>\n",
       "</defs>\n",
       "<path clip-path=\"url(#clip680)\" d=\"M0 1600 L2400 1600 L2400 0 L0 0  Z\" fill=\"#282a36\" fill-rule=\"evenodd\" fill-opacity=\"1\"/>\n",
       "<defs>\n",
       "  <clipPath id=\"clip681\">\n",
       "    <rect x=\"480\" y=\"0\" width=\"1681\" height=\"1600\"/>\n",
       "  </clipPath>\n",
       "</defs>\n",
       "<path clip-path=\"url(#clip680)\" d=\"M193.936 1486.45 L2352.76 1486.45 L2352.76 47.2441 L193.936 47.2441  Z\" fill=\"#30343b\" fill-rule=\"evenodd\" fill-opacity=\"1\"/>\n",
       "<defs>\n",
       "  <clipPath id=\"clip682\">\n",
       "    <rect x=\"193\" y=\"47\" width=\"2160\" height=\"1440\"/>\n",
       "  </clipPath>\n",
       "</defs>\n",
       "<polyline clip-path=\"url(#clip682)\" style=\"stroke:#f8f8f2; stroke-linecap:round; stroke-linejoin:round; stroke-width:2; stroke-opacity:0.1; fill:none\" points=\"481.326,1486.45 481.326,47.2441 \"/>\n",
       "<polyline clip-path=\"url(#clip682)\" style=\"stroke:#f8f8f2; stroke-linecap:round; stroke-linejoin:round; stroke-width:2; stroke-opacity:0.1; fill:none\" points=\"933.909,1486.45 933.909,47.2441 \"/>\n",
       "<polyline clip-path=\"url(#clip682)\" style=\"stroke:#f8f8f2; stroke-linecap:round; stroke-linejoin:round; stroke-width:2; stroke-opacity:0.1; fill:none\" points=\"1386.49,1486.45 1386.49,47.2441 \"/>\n",
       "<polyline clip-path=\"url(#clip682)\" style=\"stroke:#f8f8f2; stroke-linecap:round; stroke-linejoin:round; stroke-width:2; stroke-opacity:0.1; fill:none\" points=\"1839.07,1486.45 1839.07,47.2441 \"/>\n",
       "<polyline clip-path=\"url(#clip682)\" style=\"stroke:#f8f8f2; stroke-linecap:round; stroke-linejoin:round; stroke-width:2; stroke-opacity:0.1; fill:none\" points=\"2291.66,1486.45 2291.66,47.2441 \"/>\n",
       "<polyline clip-path=\"url(#clip682)\" style=\"stroke:#f8f8f2; stroke-linecap:round; stroke-linejoin:round; stroke-width:2; stroke-opacity:0.1; fill:none\" points=\"193.936,1447.88 2352.76,1447.88 \"/>\n",
       "<polyline clip-path=\"url(#clip682)\" style=\"stroke:#f8f8f2; stroke-linecap:round; stroke-linejoin:round; stroke-width:2; stroke-opacity:0.1; fill:none\" points=\"193.936,1105.97 2352.76,1105.97 \"/>\n",
       "<polyline clip-path=\"url(#clip682)\" style=\"stroke:#f8f8f2; stroke-linecap:round; stroke-linejoin:round; stroke-width:2; stroke-opacity:0.1; fill:none\" points=\"193.936,764.064 2352.76,764.064 \"/>\n",
       "<polyline clip-path=\"url(#clip682)\" style=\"stroke:#f8f8f2; stroke-linecap:round; stroke-linejoin:round; stroke-width:2; stroke-opacity:0.1; fill:none\" points=\"193.936,422.155 2352.76,422.155 \"/>\n",
       "<polyline clip-path=\"url(#clip682)\" style=\"stroke:#f8f8f2; stroke-linecap:round; stroke-linejoin:round; stroke-width:2; stroke-opacity:0.1; fill:none\" points=\"193.936,80.2461 2352.76,80.2461 \"/>\n",
       "<polyline clip-path=\"url(#clip680)\" style=\"stroke:#f8f8f2; stroke-linecap:round; stroke-linejoin:round; stroke-width:4; stroke-opacity:1; fill:none\" points=\"193.936,1486.45 2352.76,1486.45 \"/>\n",
       "<polyline clip-path=\"url(#clip680)\" style=\"stroke:#f8f8f2; stroke-linecap:round; stroke-linejoin:round; stroke-width:4; stroke-opacity:1; fill:none\" points=\"481.326,1486.45 481.326,1467.55 \"/>\n",
       "<polyline clip-path=\"url(#clip680)\" style=\"stroke:#f8f8f2; stroke-linecap:round; stroke-linejoin:round; stroke-width:4; stroke-opacity:1; fill:none\" points=\"933.909,1486.45 933.909,1467.55 \"/>\n",
       "<polyline clip-path=\"url(#clip680)\" style=\"stroke:#f8f8f2; stroke-linecap:round; stroke-linejoin:round; stroke-width:4; stroke-opacity:1; fill:none\" points=\"1386.49,1486.45 1386.49,1467.55 \"/>\n",
       "<polyline clip-path=\"url(#clip680)\" style=\"stroke:#f8f8f2; stroke-linecap:round; stroke-linejoin:round; stroke-width:4; stroke-opacity:1; fill:none\" points=\"1839.07,1486.45 1839.07,1467.55 \"/>\n",
       "<polyline clip-path=\"url(#clip680)\" style=\"stroke:#f8f8f2; stroke-linecap:round; stroke-linejoin:round; stroke-width:4; stroke-opacity:1; fill:none\" points=\"2291.66,1486.45 2291.66,1467.55 \"/>\n",
       "<path clip-path=\"url(#clip680)\" d=\"M475.979 1544.91 L492.298 1544.91 L492.298 1548.85 L470.354 1548.85 L470.354 1544.91 Q473.016 1542.16 477.599 1537.53 Q482.206 1532.88 483.386 1531.53 Q485.632 1529.01 486.511 1527.27 Q487.414 1525.51 487.414 1523.82 Q487.414 1521.07 485.47 1519.33 Q483.548 1517.6 480.446 1517.6 Q478.247 1517.6 475.794 1518.36 Q473.363 1519.13 470.585 1520.68 L470.585 1515.95 Q473.409 1514.82 475.863 1514.24 Q478.317 1513.66 480.354 1513.66 Q485.724 1513.66 488.919 1516.35 Q492.113 1519.03 492.113 1523.52 Q492.113 1525.65 491.303 1527.57 Q490.516 1529.47 488.409 1532.07 Q487.831 1532.74 484.729 1535.95 Q481.627 1539.15 475.979 1544.91 Z\" fill=\"#f8f8f2\" fill-rule=\"nonzero\" fill-opacity=\"1\" /><path clip-path=\"url(#clip680)\" d=\"M936.918 1518.36 L925.113 1536.81 L936.918 1536.81 L936.918 1518.36 M935.691 1514.29 L941.571 1514.29 L941.571 1536.81 L946.501 1536.81 L946.501 1540.7 L941.571 1540.7 L941.571 1548.85 L936.918 1548.85 L936.918 1540.7 L921.316 1540.7 L921.316 1536.19 L935.691 1514.29 Z\" fill=\"#f8f8f2\" fill-rule=\"nonzero\" fill-opacity=\"1\" /><path clip-path=\"url(#clip680)\" d=\"M1386.9 1529.7 Q1383.75 1529.7 1381.9 1531.86 Q1380.07 1534.01 1380.07 1537.76 Q1380.07 1541.49 1381.9 1543.66 Q1383.75 1545.82 1386.9 1545.82 Q1390.04 1545.82 1391.87 1543.66 Q1393.73 1541.49 1393.73 1537.76 Q1393.73 1534.01 1391.87 1531.86 Q1390.04 1529.7 1386.9 1529.7 M1396.18 1515.05 L1396.18 1519.31 Q1394.42 1518.48 1392.61 1518.04 Q1390.83 1517.6 1389.07 1517.6 Q1384.44 1517.6 1381.99 1520.72 Q1379.56 1523.85 1379.21 1530.17 Q1380.58 1528.15 1382.64 1527.09 Q1384.7 1526 1387.17 1526 Q1392.38 1526 1395.39 1529.17 Q1398.42 1532.32 1398.42 1537.76 Q1398.42 1543.08 1395.28 1546.3 Q1392.13 1549.52 1386.9 1549.52 Q1380.9 1549.52 1377.73 1544.94 Q1374.56 1540.33 1374.56 1531.6 Q1374.56 1523.41 1378.45 1518.55 Q1382.34 1513.66 1388.89 1513.66 Q1390.65 1513.66 1392.43 1514.01 Q1394.23 1514.36 1396.18 1515.05 Z\" fill=\"#f8f8f2\" fill-rule=\"nonzero\" fill-opacity=\"1\" /><path clip-path=\"url(#clip680)\" d=\"M1839.07 1532.44 Q1835.74 1532.44 1833.82 1534.22 Q1831.92 1536 1831.92 1539.13 Q1831.92 1542.25 1833.82 1544.03 Q1835.74 1545.82 1839.07 1545.82 Q1842.41 1545.82 1844.33 1544.03 Q1846.25 1542.23 1846.25 1539.13 Q1846.25 1536 1844.33 1534.22 Q1842.43 1532.44 1839.07 1532.44 M1834.4 1530.45 Q1831.39 1529.7 1829.7 1527.64 Q1828.03 1525.58 1828.03 1522.62 Q1828.03 1518.48 1830.97 1516.07 Q1833.94 1513.66 1839.07 1513.66 Q1844.24 1513.66 1847.18 1516.07 Q1850.12 1518.48 1850.12 1522.62 Q1850.12 1525.58 1848.43 1527.64 Q1846.76 1529.7 1843.77 1530.45 Q1847.15 1531.23 1849.03 1533.52 Q1850.93 1535.82 1850.93 1539.13 Q1850.93 1544.15 1847.85 1546.83 Q1844.79 1549.52 1839.07 1549.52 Q1833.36 1549.52 1830.28 1546.83 Q1827.22 1544.15 1827.22 1539.13 Q1827.22 1535.82 1829.12 1533.52 Q1831.02 1531.23 1834.4 1530.45 M1832.69 1523.06 Q1832.69 1525.75 1834.35 1527.25 Q1836.04 1528.76 1839.07 1528.76 Q1842.08 1528.76 1843.77 1527.25 Q1845.49 1525.75 1845.49 1523.06 Q1845.49 1520.38 1843.77 1518.87 Q1842.08 1517.37 1839.07 1517.37 Q1836.04 1517.37 1834.35 1518.87 Q1832.69 1520.38 1832.69 1523.06 Z\" fill=\"#f8f8f2\" fill-rule=\"nonzero\" fill-opacity=\"1\" /><path clip-path=\"url(#clip680)\" d=\"M2266.34 1544.91 L2273.98 1544.91 L2273.98 1518.55 L2265.67 1520.21 L2265.67 1515.95 L2273.94 1514.29 L2278.61 1514.29 L2278.61 1544.91 L2286.25 1544.91 L2286.25 1548.85 L2266.34 1548.85 L2266.34 1544.91 Z\" fill=\"#f8f8f2\" fill-rule=\"nonzero\" fill-opacity=\"1\" /><path clip-path=\"url(#clip680)\" d=\"M2305.7 1517.37 Q2302.09 1517.37 2300.26 1520.93 Q2298.45 1524.47 2298.45 1531.6 Q2298.45 1538.71 2300.26 1542.27 Q2302.09 1545.82 2305.7 1545.82 Q2309.33 1545.82 2311.14 1542.27 Q2312.96 1538.71 2312.96 1531.6 Q2312.96 1524.47 2311.14 1520.93 Q2309.33 1517.37 2305.7 1517.37 M2305.7 1513.66 Q2311.51 1513.66 2314.56 1518.27 Q2317.64 1522.85 2317.64 1531.6 Q2317.64 1540.33 2314.56 1544.94 Q2311.51 1549.52 2305.7 1549.52 Q2299.89 1549.52 2296.81 1544.94 Q2293.75 1540.33 2293.75 1531.6 Q2293.75 1522.85 2296.81 1518.27 Q2299.89 1513.66 2305.7 1513.66 Z\" fill=\"#f8f8f2\" fill-rule=\"nonzero\" fill-opacity=\"1\" /><polyline clip-path=\"url(#clip680)\" style=\"stroke:#f8f8f2; stroke-linecap:round; stroke-linejoin:round; stroke-width:4; stroke-opacity:1; fill:none\" points=\"193.936,1486.45 193.936,47.2441 \"/>\n",
       "<polyline clip-path=\"url(#clip680)\" style=\"stroke:#f8f8f2; stroke-linecap:round; stroke-linejoin:round; stroke-width:4; stroke-opacity:1; fill:none\" points=\"193.936,1447.88 212.834,1447.88 \"/>\n",
       "<polyline clip-path=\"url(#clip680)\" style=\"stroke:#f8f8f2; stroke-linecap:round; stroke-linejoin:round; stroke-width:4; stroke-opacity:1; fill:none\" points=\"193.936,1105.97 212.834,1105.97 \"/>\n",
       "<polyline clip-path=\"url(#clip680)\" style=\"stroke:#f8f8f2; stroke-linecap:round; stroke-linejoin:round; stroke-width:4; stroke-opacity:1; fill:none\" points=\"193.936,764.064 212.834,764.064 \"/>\n",
       "<polyline clip-path=\"url(#clip680)\" style=\"stroke:#f8f8f2; stroke-linecap:round; stroke-linejoin:round; stroke-width:4; stroke-opacity:1; fill:none\" points=\"193.936,422.155 212.834,422.155 \"/>\n",
       "<polyline clip-path=\"url(#clip680)\" style=\"stroke:#f8f8f2; stroke-linecap:round; stroke-linejoin:round; stroke-width:4; stroke-opacity:1; fill:none\" points=\"193.936,80.2461 212.834,80.2461 \"/>\n",
       "<path clip-path=\"url(#clip680)\" d=\"M50.9921 1448.33 L80.6679 1448.33 L80.6679 1452.27 L50.9921 1452.27 L50.9921 1448.33 Z\" fill=\"#f8f8f2\" fill-rule=\"nonzero\" fill-opacity=\"1\" /><path clip-path=\"url(#clip680)\" d=\"M91.5706 1461.23 L99.2095 1461.23 L99.2095 1434.86 L90.8993 1436.53 L90.8993 1432.27 L99.1632 1430.6 L103.839 1430.6 L103.839 1461.23 L111.478 1461.23 L111.478 1465.16 L91.5706 1465.16 L91.5706 1461.23 Z\" fill=\"#f8f8f2\" fill-rule=\"nonzero\" fill-opacity=\"1\" /><path clip-path=\"url(#clip680)\" d=\"M120.922 1459.28 L125.807 1459.28 L125.807 1465.16 L120.922 1465.16 L120.922 1459.28 Z\" fill=\"#f8f8f2\" fill-rule=\"nonzero\" fill-opacity=\"1\" /><path clip-path=\"url(#clip680)\" d=\"M145.992 1433.68 Q142.381 1433.68 140.552 1437.24 Q138.746 1440.79 138.746 1447.92 Q138.746 1455.02 140.552 1458.59 Q142.381 1462.13 145.992 1462.13 Q149.626 1462.13 151.431 1458.59 Q153.26 1455.02 153.26 1447.92 Q153.26 1440.79 151.431 1437.24 Q149.626 1433.68 145.992 1433.68 M145.992 1429.98 Q151.802 1429.98 154.857 1434.58 Q157.936 1439.17 157.936 1447.92 Q157.936 1456.64 154.857 1461.25 Q151.802 1465.83 145.992 1465.83 Q140.181 1465.83 137.103 1461.25 Q134.047 1456.64 134.047 1447.92 Q134.047 1439.17 137.103 1434.58 Q140.181 1429.98 145.992 1429.98 Z\" fill=\"#f8f8f2\" fill-rule=\"nonzero\" fill-opacity=\"1\" /><path clip-path=\"url(#clip680)\" d=\"M51.9875 1106.42 L81.6633 1106.42 L81.6633 1110.36 L51.9875 1110.36 L51.9875 1106.42 Z\" fill=\"#f8f8f2\" fill-rule=\"nonzero\" fill-opacity=\"1\" /><path clip-path=\"url(#clip680)\" d=\"M101.756 1091.77 Q98.1447 1091.77 96.316 1095.34 Q94.5104 1098.88 94.5104 1106.01 Q94.5104 1113.11 96.316 1116.68 Q98.1447 1120.22 101.756 1120.22 Q105.39 1120.22 107.196 1116.68 Q109.024 1113.11 109.024 1106.01 Q109.024 1098.88 107.196 1095.34 Q105.39 1091.77 101.756 1091.77 M101.756 1088.07 Q107.566 1088.07 110.621 1092.67 Q113.7 1097.26 113.7 1106.01 Q113.7 1114.73 110.621 1119.34 Q107.566 1123.92 101.756 1123.92 Q95.9456 1123.92 92.8669 1119.34 Q89.8114 1114.73 89.8114 1106.01 Q89.8114 1097.26 92.8669 1092.67 Q95.9456 1088.07 101.756 1088.07 Z\" fill=\"#f8f8f2\" fill-rule=\"nonzero\" fill-opacity=\"1\" /><path clip-path=\"url(#clip680)\" d=\"M121.918 1117.37 L126.802 1117.37 L126.802 1123.25 L121.918 1123.25 L121.918 1117.37 Z\" fill=\"#f8f8f2\" fill-rule=\"nonzero\" fill-opacity=\"1\" /><path clip-path=\"url(#clip680)\" d=\"M137.033 1088.69 L155.39 1088.69 L155.39 1092.63 L141.316 1092.63 L141.316 1101.1 Q142.334 1100.75 143.353 1100.59 Q144.371 1100.41 145.39 1100.41 Q151.177 1100.41 154.556 1103.58 Q157.936 1106.75 157.936 1112.16 Q157.936 1117.74 154.464 1120.84 Q150.992 1123.92 144.672 1123.92 Q142.496 1123.92 140.228 1123.55 Q137.982 1123.18 135.575 1122.44 L135.575 1117.74 Q137.658 1118.88 139.881 1119.43 Q142.103 1119.99 144.58 1119.99 Q148.584 1119.99 150.922 1117.88 Q153.26 1115.78 153.26 1112.16 Q153.26 1108.55 150.922 1106.45 Q148.584 1104.34 144.58 1104.34 Q142.705 1104.34 140.83 1104.76 Q138.978 1105.17 137.033 1106.05 L137.033 1088.69 Z\" fill=\"#f8f8f2\" fill-rule=\"nonzero\" fill-opacity=\"1\" /><path clip-path=\"url(#clip680)\" d=\"M100.76 749.862 Q97.1493 749.862 95.3206 753.427 Q93.515 756.969 93.515 764.098 Q93.515 771.205 95.3206 774.77 Q97.1493 778.311 100.76 778.311 Q104.395 778.311 106.2 774.77 Q108.029 771.205 108.029 764.098 Q108.029 756.969 106.2 753.427 Q104.395 749.862 100.76 749.862 M100.76 746.159 Q106.571 746.159 109.626 750.765 Q112.705 755.348 112.705 764.098 Q112.705 772.825 109.626 777.432 Q106.571 782.015 100.76 782.015 Q94.9502 782.015 91.8715 777.432 Q88.816 772.825 88.816 764.098 Q88.816 755.348 91.8715 750.765 Q94.9502 746.159 100.76 746.159 Z\" fill=\"#f8f8f2\" fill-rule=\"nonzero\" fill-opacity=\"1\" /><path clip-path=\"url(#clip680)\" d=\"M120.922 775.464 L125.807 775.464 L125.807 781.344 L120.922 781.344 L120.922 775.464 Z\" fill=\"#f8f8f2\" fill-rule=\"nonzero\" fill-opacity=\"1\" /><path clip-path=\"url(#clip680)\" d=\"M145.992 749.862 Q142.381 749.862 140.552 753.427 Q138.746 756.969 138.746 764.098 Q138.746 771.205 140.552 774.77 Q142.381 778.311 145.992 778.311 Q149.626 778.311 151.431 774.77 Q153.26 771.205 153.26 764.098 Q153.26 756.969 151.431 753.427 Q149.626 749.862 145.992 749.862 M145.992 746.159 Q151.802 746.159 154.857 750.765 Q157.936 755.348 157.936 764.098 Q157.936 772.825 154.857 777.432 Q151.802 782.015 145.992 782.015 Q140.181 782.015 137.103 777.432 Q134.047 772.825 134.047 764.098 Q134.047 755.348 137.103 750.765 Q140.181 746.159 145.992 746.159 Z\" fill=\"#f8f8f2\" fill-rule=\"nonzero\" fill-opacity=\"1\" /><path clip-path=\"url(#clip680)\" d=\"M101.756 407.954 Q98.1447 407.954 96.316 411.518 Q94.5104 415.06 94.5104 422.19 Q94.5104 429.296 96.316 432.861 Q98.1447 436.402 101.756 436.402 Q105.39 436.402 107.196 432.861 Q109.024 429.296 109.024 422.19 Q109.024 415.06 107.196 411.518 Q105.39 407.954 101.756 407.954 M101.756 404.25 Q107.566 404.25 110.621 408.856 Q113.7 413.44 113.7 422.19 Q113.7 430.916 110.621 435.523 Q107.566 440.106 101.756 440.106 Q95.9456 440.106 92.8669 435.523 Q89.8114 430.916 89.8114 422.19 Q89.8114 413.44 92.8669 408.856 Q95.9456 404.25 101.756 404.25 Z\" fill=\"#f8f8f2\" fill-rule=\"nonzero\" fill-opacity=\"1\" /><path clip-path=\"url(#clip680)\" d=\"M121.918 433.555 L126.802 433.555 L126.802 439.435 L121.918 439.435 L121.918 433.555 Z\" fill=\"#f8f8f2\" fill-rule=\"nonzero\" fill-opacity=\"1\" /><path clip-path=\"url(#clip680)\" d=\"M137.033 404.875 L155.39 404.875 L155.39 408.81 L141.316 408.81 L141.316 417.282 Q142.334 416.935 143.353 416.773 Q144.371 416.588 145.39 416.588 Q151.177 416.588 154.556 419.759 Q157.936 422.93 157.936 428.347 Q157.936 433.926 154.464 437.027 Q150.992 440.106 144.672 440.106 Q142.496 440.106 140.228 439.736 Q137.982 439.365 135.575 438.625 L135.575 433.926 Q137.658 435.06 139.881 435.615 Q142.103 436.171 144.58 436.171 Q148.584 436.171 150.922 434.065 Q153.26 431.958 153.26 428.347 Q153.26 424.736 150.922 422.629 Q148.584 420.523 144.58 420.523 Q142.705 420.523 140.83 420.94 Q138.978 421.356 137.033 422.236 L137.033 404.875 Z\" fill=\"#f8f8f2\" fill-rule=\"nonzero\" fill-opacity=\"1\" /><path clip-path=\"url(#clip680)\" d=\"M91.5706 93.591 L99.2095 93.591 L99.2095 67.2254 L90.8993 68.892 L90.8993 64.6328 L99.1632 62.9661 L103.839 62.9661 L103.839 93.591 L111.478 93.591 L111.478 97.5261 L91.5706 97.5261 L91.5706 93.591 Z\" fill=\"#f8f8f2\" fill-rule=\"nonzero\" fill-opacity=\"1\" /><path clip-path=\"url(#clip680)\" d=\"M120.922 91.6465 L125.807 91.6465 L125.807 97.5261 L120.922 97.5261 L120.922 91.6465 Z\" fill=\"#f8f8f2\" fill-rule=\"nonzero\" fill-opacity=\"1\" /><path clip-path=\"url(#clip680)\" d=\"M145.992 66.0448 Q142.381 66.0448 140.552 69.6096 Q138.746 73.1512 138.746 80.2808 Q138.746 87.3873 140.552 90.9521 Q142.381 94.4937 145.992 94.4937 Q149.626 94.4937 151.431 90.9521 Q153.26 87.3873 153.26 80.2808 Q153.26 73.1512 151.431 69.6096 Q149.626 66.0448 145.992 66.0448 M145.992 62.3411 Q151.802 62.3411 154.857 66.9476 Q157.936 71.5309 157.936 80.2808 Q157.936 89.0076 154.857 93.6141 Q151.802 98.1974 145.992 98.1974 Q140.181 98.1974 137.103 93.6141 Q134.047 89.0076 134.047 80.2808 Q134.047 71.5309 137.103 66.9476 Q140.181 62.3411 145.992 62.3411 Z\" fill=\"#f8f8f2\" fill-rule=\"nonzero\" fill-opacity=\"1\" /><circle clip-path=\"url(#clip682)\" cx=\"255.035\" cy=\"394.595\" r=\"14.4\" fill=\"#8be9fd\" fill-rule=\"evenodd\" fill-opacity=\"1\" stroke=\"#f8f8f2\" stroke-opacity=\"1\" stroke-width=\"3.2\"/>\n",
       "<circle clip-path=\"url(#clip682)\" cx=\"481.326\" cy=\"863.559\" r=\"14.4\" fill=\"#8be9fd\" fill-rule=\"evenodd\" fill-opacity=\"1\" stroke=\"#f8f8f2\" stroke-opacity=\"1\" stroke-width=\"3.2\"/>\n",
       "<circle clip-path=\"url(#clip682)\" cx=\"707.617\" cy=\"963.833\" r=\"14.4\" fill=\"#8be9fd\" fill-rule=\"evenodd\" fill-opacity=\"1\" stroke=\"#f8f8f2\" stroke-opacity=\"1\" stroke-width=\"3.2\"/>\n",
       "<circle clip-path=\"url(#clip682)\" cx=\"933.909\" cy=\"496.105\" r=\"14.4\" fill=\"#8be9fd\" fill-rule=\"evenodd\" fill-opacity=\"1\" stroke=\"#f8f8f2\" stroke-opacity=\"1\" stroke-width=\"3.2\"/>\n",
       "<circle clip-path=\"url(#clip682)\" cx=\"1160.2\" cy=\"225.411\" r=\"14.4\" fill=\"#8be9fd\" fill-rule=\"evenodd\" fill-opacity=\"1\" stroke=\"#f8f8f2\" stroke-opacity=\"1\" stroke-width=\"3.2\"/>\n",
       "<circle clip-path=\"url(#clip682)\" cx=\"1386.49\" cy=\"1255.03\" r=\"14.4\" fill=\"#8be9fd\" fill-rule=\"evenodd\" fill-opacity=\"1\" stroke=\"#f8f8f2\" stroke-opacity=\"1\" stroke-width=\"3.2\"/>\n",
       "<circle clip-path=\"url(#clip682)\" cx=\"1612.78\" cy=\"1341.09\" r=\"14.4\" fill=\"#8be9fd\" fill-rule=\"evenodd\" fill-opacity=\"1\" stroke=\"#f8f8f2\" stroke-opacity=\"1\" stroke-width=\"3.2\"/>\n",
       "<circle clip-path=\"url(#clip682)\" cx=\"1839.07\" cy=\"1445.72\" r=\"14.4\" fill=\"#8be9fd\" fill-rule=\"evenodd\" fill-opacity=\"1\" stroke=\"#f8f8f2\" stroke-opacity=\"1\" stroke-width=\"3.2\"/>\n",
       "<circle clip-path=\"url(#clip682)\" cx=\"2065.37\" cy=\"87.9763\" r=\"14.4\" fill=\"#8be9fd\" fill-rule=\"evenodd\" fill-opacity=\"1\" stroke=\"#f8f8f2\" stroke-opacity=\"1\" stroke-width=\"3.2\"/>\n",
       "<circle clip-path=\"url(#clip682)\" cx=\"2291.66\" cy=\"379.499\" r=\"14.4\" fill=\"#8be9fd\" fill-rule=\"evenodd\" fill-opacity=\"1\" stroke=\"#f8f8f2\" stroke-opacity=\"1\" stroke-width=\"3.2\"/>\n",
       "</svg>\n"
      ]
     },
     "execution_count": 85,
     "metadata": {},
     "output_type": "execute_result"
    }
   ],
   "source": [
    "x = range(1, 10)\n",
    "y = cos.(x.^3)\n",
    "scatter(x, y, legend=false)"
   ]
  },
  {
   "cell_type": "code",
   "execution_count": 86,
   "metadata": {},
   "outputs": [
    {
     "data": {
      "text/latex": [
       "\\textbf{Uniform Distribtion}\n",
       "\n"
      ],
      "text/markdown": [
       "**Uniform Distribtion**\n"
      ],
      "text/plain": [
       "  \u001b[1mUniform Distribtion\u001b[22m"
      ]
     },
     "execution_count": 86,
     "metadata": {},
     "output_type": "execute_result"
    }
   ],
   "source": [
    "md\"**Uniform Distribtion**\""
   ]
  },
  {
   "cell_type": "code",
   "execution_count": 87,
   "metadata": {},
   "outputs": [],
   "source": [
    "?rand;"
   ]
  },
  {
   "cell_type": "code",
   "execution_count": 88,
   "metadata": {},
   "outputs": [
    {
     "data": {
      "image/png": "[encoded data removed]",
      "image/svg+xml": [
       "<?xml version=\"1.0\" encoding=\"utf-8\"?>\n",
       "<svg xmlns=\"http://www.w3.org/2000/svg\" xmlns:xlink=\"http://www.w3.org/1999/xlink\" width=\"600\" height=\"400\" viewBox=\"0 0 2400 1600\">\n",
       "<defs>\n",
       "  <clipPath id=\"clip720\">\n",
       "    <rect x=\"0\" y=\"0\" width=\"2400\" height=\"1600\"/>\n",
       "  </clipPath>\n",
       "</defs>\n",
       "<path clip-path=\"url(#clip720)\" d=\"M0 1600 L2400 1600 L2400 0 L0 0  Z\" fill=\"#282a36\" fill-rule=\"evenodd\" fill-opacity=\"1\"/>\n",
       "<defs>\n",
       "  <clipPath id=\"clip721\">\n",
       "    <rect x=\"480\" y=\"0\" width=\"1681\" height=\"1600\"/>\n",
       "  </clipPath>\n",
       "</defs>\n",
       "<path clip-path=\"url(#clip720)\" d=\"M201.019 1486.45 L2352.76 1486.45 L2352.76 47.2441 L201.019 47.2441  Z\" fill=\"#30343b\" fill-rule=\"evenodd\" fill-opacity=\"1\"/>\n",
       "<defs>\n",
       "  <clipPath id=\"clip722\">\n",
       "    <rect x=\"201\" y=\"47\" width=\"2153\" height=\"1440\"/>\n",
       "  </clipPath>\n",
       "</defs>\n",
       "<polyline clip-path=\"url(#clip722)\" style=\"stroke:#f8f8f2; stroke-linecap:round; stroke-linejoin:round; stroke-width:2; stroke-opacity:0.1; fill:none\" points=\"319.369,1486.45 319.369,47.2441 \"/>\n",
       "<polyline clip-path=\"url(#clip722)\" style=\"stroke:#f8f8f2; stroke-linecap:round; stroke-linejoin:round; stroke-width:2; stroke-opacity:0.1; fill:none\" points=\"798.128,1486.45 798.128,47.2441 \"/>\n",
       "<polyline clip-path=\"url(#clip722)\" style=\"stroke:#f8f8f2; stroke-linecap:round; stroke-linejoin:round; stroke-width:2; stroke-opacity:0.1; fill:none\" points=\"1276.89,1486.45 1276.89,47.2441 \"/>\n",
       "<polyline clip-path=\"url(#clip722)\" style=\"stroke:#f8f8f2; stroke-linecap:round; stroke-linejoin:round; stroke-width:2; stroke-opacity:0.1; fill:none\" points=\"1755.65,1486.45 1755.65,47.2441 \"/>\n",
       "<polyline clip-path=\"url(#clip722)\" style=\"stroke:#f8f8f2; stroke-linecap:round; stroke-linejoin:round; stroke-width:2; stroke-opacity:0.1; fill:none\" points=\"2234.41,1486.45 2234.41,47.2441 \"/>\n",
       "<polyline clip-path=\"url(#clip722)\" style=\"stroke:#f8f8f2; stroke-linecap:round; stroke-linejoin:round; stroke-width:2; stroke-opacity:0.1; fill:none\" points=\"201.019,1486.45 2352.76,1486.45 \"/>\n",
       "<polyline clip-path=\"url(#clip722)\" style=\"stroke:#f8f8f2; stroke-linecap:round; stroke-linejoin:round; stroke-width:2; stroke-opacity:0.1; fill:none\" points=\"201.019,1145.73 2352.76,1145.73 \"/>\n",
       "<polyline clip-path=\"url(#clip722)\" style=\"stroke:#f8f8f2; stroke-linecap:round; stroke-linejoin:round; stroke-width:2; stroke-opacity:0.1; fill:none\" points=\"201.019,805.007 2352.76,805.007 \"/>\n",
       "<polyline clip-path=\"url(#clip722)\" style=\"stroke:#f8f8f2; stroke-linecap:round; stroke-linejoin:round; stroke-width:2; stroke-opacity:0.1; fill:none\" points=\"201.019,464.286 2352.76,464.286 \"/>\n",
       "<polyline clip-path=\"url(#clip722)\" style=\"stroke:#f8f8f2; stroke-linecap:round; stroke-linejoin:round; stroke-width:2; stroke-opacity:0.1; fill:none\" points=\"201.019,123.566 2352.76,123.566 \"/>\n",
       "<polyline clip-path=\"url(#clip720)\" style=\"stroke:#f8f8f2; stroke-linecap:round; stroke-linejoin:round; stroke-width:4; stroke-opacity:1; fill:none\" points=\"201.019,1486.45 2352.76,1486.45 \"/>\n",
       "<polyline clip-path=\"url(#clip720)\" style=\"stroke:#f8f8f2; stroke-linecap:round; stroke-linejoin:round; stroke-width:4; stroke-opacity:1; fill:none\" points=\"319.369,1486.45 319.369,1467.55 \"/>\n",
       "<polyline clip-path=\"url(#clip720)\" style=\"stroke:#f8f8f2; stroke-linecap:round; stroke-linejoin:round; stroke-width:4; stroke-opacity:1; fill:none\" points=\"798.128,1486.45 798.128,1467.55 \"/>\n",
       "<polyline clip-path=\"url(#clip720)\" style=\"stroke:#f8f8f2; stroke-linecap:round; stroke-linejoin:round; stroke-width:4; stroke-opacity:1; fill:none\" points=\"1276.89,1486.45 1276.89,1467.55 \"/>\n",
       "<polyline clip-path=\"url(#clip720)\" style=\"stroke:#f8f8f2; stroke-linecap:round; stroke-linejoin:round; stroke-width:4; stroke-opacity:1; fill:none\" points=\"1755.65,1486.45 1755.65,1467.55 \"/>\n",
       "<polyline clip-path=\"url(#clip720)\" style=\"stroke:#f8f8f2; stroke-linecap:round; stroke-linejoin:round; stroke-width:4; stroke-opacity:1; fill:none\" points=\"2234.41,1486.45 2234.41,1467.55 \"/>\n",
       "<path clip-path=\"url(#clip720)\" d=\"M281.672 1517.37 Q278.061 1517.37 276.232 1520.93 Q274.427 1524.47 274.427 1531.6 Q274.427 1538.71 276.232 1542.27 Q278.061 1545.82 281.672 1545.82 Q285.306 1545.82 287.112 1542.27 Q288.941 1538.71 288.941 1531.6 Q288.941 1524.47 287.112 1520.93 Q285.306 1517.37 281.672 1517.37 M281.672 1513.66 Q287.482 1513.66 290.538 1518.27 Q293.616 1522.85 293.616 1531.6 Q293.616 1540.33 290.538 1544.94 Q287.482 1549.52 281.672 1549.52 Q275.862 1549.52 272.783 1544.94 Q269.728 1540.33 269.728 1531.6 Q269.728 1522.85 272.783 1518.27 Q275.862 1513.66 281.672 1513.66 Z\" fill=\"#f8f8f2\" fill-rule=\"nonzero\" fill-opacity=\"1\" /><path clip-path=\"url(#clip720)\" d=\"M301.834 1542.97 L306.718 1542.97 L306.718 1548.85 L301.834 1548.85 L301.834 1542.97 Z\" fill=\"#f8f8f2\" fill-rule=\"nonzero\" fill-opacity=\"1\" /><path clip-path=\"url(#clip720)\" d=\"M326.903 1517.37 Q323.292 1517.37 321.464 1520.93 Q319.658 1524.47 319.658 1531.6 Q319.658 1538.71 321.464 1542.27 Q323.292 1545.82 326.903 1545.82 Q330.538 1545.82 332.343 1542.27 Q334.172 1538.71 334.172 1531.6 Q334.172 1524.47 332.343 1520.93 Q330.538 1517.37 326.903 1517.37 M326.903 1513.66 Q332.713 1513.66 335.769 1518.27 Q338.848 1522.85 338.848 1531.6 Q338.848 1540.33 335.769 1544.94 Q332.713 1549.52 326.903 1549.52 Q321.093 1549.52 318.014 1544.94 Q314.959 1540.33 314.959 1531.6 Q314.959 1522.85 318.014 1518.27 Q321.093 1513.66 326.903 1513.66 Z\" fill=\"#f8f8f2\" fill-rule=\"nonzero\" fill-opacity=\"1\" /><path clip-path=\"url(#clip720)\" d=\"M357.065 1517.37 Q353.454 1517.37 351.625 1520.93 Q349.82 1524.47 349.82 1531.6 Q349.82 1538.71 351.625 1542.27 Q353.454 1545.82 357.065 1545.82 Q360.699 1545.82 362.505 1542.27 Q364.334 1538.71 364.334 1531.6 Q364.334 1524.47 362.505 1520.93 Q360.699 1517.37 357.065 1517.37 M357.065 1513.66 Q362.875 1513.66 365.931 1518.27 Q369.01 1522.85 369.01 1531.6 Q369.01 1540.33 365.931 1544.94 Q362.875 1549.52 357.065 1549.52 Q351.255 1549.52 348.176 1544.94 Q345.121 1540.33 345.121 1531.6 Q345.121 1522.85 348.176 1518.27 Q351.255 1513.66 357.065 1513.66 Z\" fill=\"#f8f8f2\" fill-rule=\"nonzero\" fill-opacity=\"1\" /><path clip-path=\"url(#clip720)\" d=\"M760.929 1517.37 Q757.318 1517.37 755.489 1520.93 Q753.684 1524.47 753.684 1531.6 Q753.684 1538.71 755.489 1542.27 Q757.318 1545.82 760.929 1545.82 Q764.563 1545.82 766.369 1542.27 Q768.198 1538.71 768.198 1531.6 Q768.198 1524.47 766.369 1520.93 Q764.563 1517.37 760.929 1517.37 M760.929 1513.66 Q766.739 1513.66 769.795 1518.27 Q772.874 1522.85 772.874 1531.6 Q772.874 1540.33 769.795 1544.94 Q766.739 1549.52 760.929 1549.52 Q755.119 1549.52 752.04 1544.94 Q748.985 1540.33 748.985 1531.6 Q748.985 1522.85 752.04 1518.27 Q755.119 1513.66 760.929 1513.66 Z\" fill=\"#f8f8f2\" fill-rule=\"nonzero\" fill-opacity=\"1\" /><path clip-path=\"url(#clip720)\" d=\"M781.091 1542.97 L785.975 1542.97 L785.975 1548.85 L781.091 1548.85 L781.091 1542.97 Z\" fill=\"#f8f8f2\" fill-rule=\"nonzero\" fill-opacity=\"1\" /><path clip-path=\"url(#clip720)\" d=\"M800.188 1544.91 L816.508 1544.91 L816.508 1548.85 L794.563 1548.85 L794.563 1544.91 Q797.225 1542.16 801.809 1537.53 Q806.415 1532.88 807.596 1531.53 Q809.841 1529.01 810.721 1527.27 Q811.623 1525.51 811.623 1523.82 Q811.623 1521.07 809.679 1519.33 Q807.758 1517.6 804.656 1517.6 Q802.457 1517.6 800.003 1518.36 Q797.573 1519.13 794.795 1520.68 L794.795 1515.95 Q797.619 1514.82 800.073 1514.24 Q802.526 1513.66 804.563 1513.66 Q809.934 1513.66 813.128 1516.35 Q816.322 1519.03 816.322 1523.52 Q816.322 1525.65 815.512 1527.57 Q814.725 1529.47 812.619 1532.07 Q812.04 1532.74 808.938 1535.95 Q805.836 1539.15 800.188 1544.91 Z\" fill=\"#f8f8f2\" fill-rule=\"nonzero\" fill-opacity=\"1\" /><path clip-path=\"url(#clip720)\" d=\"M826.369 1514.29 L844.725 1514.29 L844.725 1518.22 L830.651 1518.22 L830.651 1526.7 Q831.67 1526.35 832.688 1526.19 Q833.707 1526 834.725 1526 Q840.512 1526 843.892 1529.17 Q847.271 1532.34 847.271 1537.76 Q847.271 1543.34 843.799 1546.44 Q840.327 1549.52 834.008 1549.52 Q831.832 1549.52 829.563 1549.15 Q827.318 1548.78 824.91 1548.04 L824.91 1543.34 Q826.994 1544.47 829.216 1545.03 Q831.438 1545.58 833.915 1545.58 Q837.92 1545.58 840.258 1543.48 Q842.595 1541.37 842.595 1537.76 Q842.595 1534.15 840.258 1532.04 Q837.92 1529.94 833.915 1529.94 Q832.04 1529.94 830.165 1530.35 Q828.313 1530.77 826.369 1531.65 L826.369 1514.29 Z\" fill=\"#f8f8f2\" fill-rule=\"nonzero\" fill-opacity=\"1\" /><path clip-path=\"url(#clip720)\" d=\"M1239.19 1517.37 Q1235.58 1517.37 1233.75 1520.93 Q1231.95 1524.47 1231.95 1531.6 Q1231.95 1538.71 1233.75 1542.27 Q1235.58 1545.82 1239.19 1545.82 Q1242.83 1545.82 1244.63 1542.27 Q1246.46 1538.71 1246.46 1531.6 Q1246.46 1524.47 1244.63 1520.93 Q1242.83 1517.37 1239.19 1517.37 M1239.19 1513.66 Q1245 1513.66 1248.06 1518.27 Q1251.14 1522.85 1251.14 1531.6 Q1251.14 1540.33 1248.06 1544.94 Q1245 1549.52 1239.19 1549.52 Q1233.38 1549.52 1230.3 1544.94 Q1227.25 1540.33 1227.25 1531.6 Q1227.25 1522.85 1230.3 1518.27 Q1233.38 1513.66 1239.19 1513.66 Z\" fill=\"#f8f8f2\" fill-rule=\"nonzero\" fill-opacity=\"1\" /><path clip-path=\"url(#clip720)\" d=\"M1259.35 1542.97 L1264.24 1542.97 L1264.24 1548.85 L1259.35 1548.85 L1259.35 1542.97 Z\" fill=\"#f8f8f2\" fill-rule=\"nonzero\" fill-opacity=\"1\" /><path clip-path=\"url(#clip720)\" d=\"M1274.47 1514.29 L1292.83 1514.29 L1292.83 1518.22 L1278.75 1518.22 L1278.75 1526.7 Q1279.77 1526.35 1280.79 1526.19 Q1281.81 1526 1282.83 1526 Q1288.61 1526 1291.99 1529.17 Q1295.37 1532.34 1295.37 1537.76 Q1295.37 1543.34 1291.9 1546.44 Q1288.43 1549.52 1282.11 1549.52 Q1279.93 1549.52 1277.66 1549.15 Q1275.42 1548.78 1273.01 1548.04 L1273.01 1543.34 Q1275.09 1544.47 1277.32 1545.03 Q1279.54 1545.58 1282.01 1545.58 Q1286.02 1545.58 1288.36 1543.48 Q1290.7 1541.37 1290.7 1537.76 Q1290.7 1534.15 1288.36 1532.04 Q1286.02 1529.94 1282.01 1529.94 Q1280.14 1529.94 1278.26 1530.35 Q1276.41 1530.77 1274.47 1531.65 L1274.47 1514.29 Z\" fill=\"#f8f8f2\" fill-rule=\"nonzero\" fill-opacity=\"1\" /><path clip-path=\"url(#clip720)\" d=\"M1314.58 1517.37 Q1310.97 1517.37 1309.14 1520.93 Q1307.34 1524.47 1307.34 1531.6 Q1307.34 1538.71 1309.14 1542.27 Q1310.97 1545.82 1314.58 1545.82 Q1318.22 1545.82 1320.02 1542.27 Q1321.85 1538.71 1321.85 1531.6 Q1321.85 1524.47 1320.02 1520.93 Q1318.22 1517.37 1314.58 1517.37 M1314.58 1513.66 Q1320.39 1513.66 1323.45 1518.27 Q1326.53 1522.85 1326.53 1531.6 Q1326.53 1540.33 1323.45 1544.94 Q1320.39 1549.52 1314.58 1549.52 Q1308.77 1549.52 1305.7 1544.94 Q1302.64 1540.33 1302.64 1531.6 Q1302.64 1522.85 1305.7 1518.27 Q1308.77 1513.66 1314.58 1513.66 Z\" fill=\"#f8f8f2\" fill-rule=\"nonzero\" fill-opacity=\"1\" /><path clip-path=\"url(#clip720)\" d=\"M1718.45 1517.37 Q1714.84 1517.37 1713.01 1520.93 Q1711.2 1524.47 1711.2 1531.6 Q1711.2 1538.71 1713.01 1542.27 Q1714.84 1545.82 1718.45 1545.82 Q1722.08 1545.82 1723.89 1542.27 Q1725.72 1538.71 1725.72 1531.6 Q1725.72 1524.47 1723.89 1520.93 Q1722.08 1517.37 1718.45 1517.37 M1718.45 1513.66 Q1724.26 1513.66 1727.31 1518.27 Q1730.39 1522.85 1730.39 1531.6 Q1730.39 1540.33 1727.31 1544.94 Q1724.26 1549.52 1718.45 1549.52 Q1712.64 1549.52 1709.56 1544.94 Q1706.5 1540.33 1706.5 1531.6 Q1706.5 1522.85 1709.56 1518.27 Q1712.64 1513.66 1718.45 1513.66 Z\" fill=\"#f8f8f2\" fill-rule=\"nonzero\" fill-opacity=\"1\" /><path clip-path=\"url(#clip720)\" d=\"M1738.61 1542.97 L1743.49 1542.97 L1743.49 1548.85 L1738.61 1548.85 L1738.61 1542.97 Z\" fill=\"#f8f8f2\" fill-rule=\"nonzero\" fill-opacity=\"1\" /><path clip-path=\"url(#clip720)\" d=\"M1752.5 1514.29 L1774.72 1514.29 L1774.72 1516.28 L1762.17 1548.85 L1757.29 1548.85 L1769.1 1518.22 L1752.5 1518.22 L1752.5 1514.29 Z\" fill=\"#f8f8f2\" fill-rule=\"nonzero\" fill-opacity=\"1\" /><path clip-path=\"url(#clip720)\" d=\"M1783.89 1514.29 L1802.24 1514.29 L1802.24 1518.22 L1788.17 1518.22 L1788.17 1526.7 Q1789.19 1526.35 1790.21 1526.19 Q1791.23 1526 1792.24 1526 Q1798.03 1526 1801.41 1529.17 Q1804.79 1532.34 1804.79 1537.76 Q1804.79 1543.34 1801.32 1546.44 Q1797.85 1549.52 1791.53 1549.52 Q1789.35 1549.52 1787.08 1549.15 Q1784.84 1548.78 1782.43 1548.04 L1782.43 1543.34 Q1784.51 1544.47 1786.73 1545.03 Q1788.96 1545.58 1791.43 1545.58 Q1795.44 1545.58 1797.78 1543.48 Q1800.11 1541.37 1800.11 1537.76 Q1800.11 1534.15 1797.78 1532.04 Q1795.44 1529.94 1791.43 1529.94 Q1789.56 1529.94 1787.68 1530.35 Q1785.83 1530.77 1783.89 1531.65 L1783.89 1514.29 Z\" fill=\"#f8f8f2\" fill-rule=\"nonzero\" fill-opacity=\"1\" /><path clip-path=\"url(#clip720)\" d=\"M2186.48 1544.91 L2194.12 1544.91 L2194.12 1518.55 L2185.81 1520.21 L2185.81 1515.95 L2194.07 1514.29 L2198.75 1514.29 L2198.75 1544.91 L2206.39 1544.91 L2206.39 1548.85 L2186.48 1548.85 L2186.48 1544.91 Z\" fill=\"#f8f8f2\" fill-rule=\"nonzero\" fill-opacity=\"1\" /><path clip-path=\"url(#clip720)\" d=\"M2215.83 1542.97 L2220.71 1542.97 L2220.71 1548.85 L2215.83 1548.85 L2215.83 1542.97 Z\" fill=\"#f8f8f2\" fill-rule=\"nonzero\" fill-opacity=\"1\" /><path clip-path=\"url(#clip720)\" d=\"M2240.9 1517.37 Q2237.29 1517.37 2235.46 1520.93 Q2233.65 1524.47 2233.65 1531.6 Q2233.65 1538.71 2235.46 1542.27 Q2237.29 1545.82 2240.9 1545.82 Q2244.53 1545.82 2246.34 1542.27 Q2248.17 1538.71 2248.17 1531.6 Q2248.17 1524.47 2246.34 1520.93 Q2244.53 1517.37 2240.9 1517.37 M2240.9 1513.66 Q2246.71 1513.66 2249.77 1518.27 Q2252.84 1522.85 2252.84 1531.6 Q2252.84 1540.33 2249.77 1544.94 Q2246.71 1549.52 2240.9 1549.52 Q2235.09 1549.52 2232.01 1544.94 Q2228.96 1540.33 2228.96 1531.6 Q2228.96 1522.85 2232.01 1518.27 Q2235.09 1513.66 2240.9 1513.66 Z\" fill=\"#f8f8f2\" fill-rule=\"nonzero\" fill-opacity=\"1\" /><path clip-path=\"url(#clip720)\" d=\"M2271.06 1517.37 Q2267.45 1517.37 2265.62 1520.93 Q2263.82 1524.47 2263.82 1531.6 Q2263.82 1538.71 2265.62 1542.27 Q2267.45 1545.82 2271.06 1545.82 Q2274.7 1545.82 2276.5 1542.27 Q2278.33 1538.71 2278.33 1531.6 Q2278.33 1524.47 2276.5 1520.93 Q2274.7 1517.37 2271.06 1517.37 M2271.06 1513.66 Q2276.87 1513.66 2279.93 1518.27 Q2283.01 1522.85 2283.01 1531.6 Q2283.01 1540.33 2279.93 1544.94 Q2276.87 1549.52 2271.06 1549.52 Q2265.25 1549.52 2262.17 1544.94 Q2259.12 1540.33 2259.12 1531.6 Q2259.12 1522.85 2262.17 1518.27 Q2265.25 1513.66 2271.06 1513.66 Z\" fill=\"#f8f8f2\" fill-rule=\"nonzero\" fill-opacity=\"1\" /><polyline clip-path=\"url(#clip720)\" style=\"stroke:#f8f8f2; stroke-linecap:round; stroke-linejoin:round; stroke-width:4; stroke-opacity:1; fill:none\" points=\"201.019,1486.45 201.019,47.2441 \"/>\n",
       "<polyline clip-path=\"url(#clip720)\" style=\"stroke:#f8f8f2; stroke-linecap:round; stroke-linejoin:round; stroke-width:4; stroke-opacity:1; fill:none\" points=\"201.019,1486.45 219.917,1486.45 \"/>\n",
       "<polyline clip-path=\"url(#clip720)\" style=\"stroke:#f8f8f2; stroke-linecap:round; stroke-linejoin:round; stroke-width:4; stroke-opacity:1; fill:none\" points=\"201.019,1145.73 219.917,1145.73 \"/>\n",
       "<polyline clip-path=\"url(#clip720)\" style=\"stroke:#f8f8f2; stroke-linecap:round; stroke-linejoin:round; stroke-width:4; stroke-opacity:1; fill:none\" points=\"201.019,805.007 219.917,805.007 \"/>\n",
       "<polyline clip-path=\"url(#clip720)\" style=\"stroke:#f8f8f2; stroke-linecap:round; stroke-linejoin:round; stroke-width:4; stroke-opacity:1; fill:none\" points=\"201.019,464.286 219.917,464.286 \"/>\n",
       "<polyline clip-path=\"url(#clip720)\" style=\"stroke:#f8f8f2; stroke-linecap:round; stroke-linejoin:round; stroke-width:4; stroke-opacity:1; fill:none\" points=\"201.019,123.566 219.917,123.566 \"/>\n",
       "<path clip-path=\"url(#clip720)\" d=\"M153.075 1472.25 Q149.464 1472.25 147.635 1475.81 Q145.83 1479.35 145.83 1486.48 Q145.83 1493.59 147.635 1497.15 Q149.464 1500.7 153.075 1500.7 Q156.709 1500.7 158.515 1497.15 Q160.343 1493.59 160.343 1486.48 Q160.343 1479.35 158.515 1475.81 Q156.709 1472.25 153.075 1472.25 M153.075 1468.54 Q158.885 1468.54 161.941 1473.15 Q165.019 1477.73 165.019 1486.48 Q165.019 1495.21 161.941 1499.82 Q158.885 1504.4 153.075 1504.4 Q147.265 1504.4 144.186 1499.82 Q141.131 1495.21 141.131 1486.48 Q141.131 1477.73 144.186 1473.15 Q147.265 1468.54 153.075 1468.54 Z\" fill=\"#f8f8f2\" fill-rule=\"nonzero\" fill-opacity=\"1\" /><path clip-path=\"url(#clip720)\" d=\"M82.7975 1128.45 L101.154 1128.45 L101.154 1132.38 L87.0799 1132.38 L87.0799 1140.85 Q88.0984 1140.51 89.1169 1140.35 Q90.1354 1140.16 91.1539 1140.16 Q96.941 1140.16 100.321 1143.33 Q103.7 1146.5 103.7 1151.92 Q103.7 1157.5 100.228 1160.6 Q96.7558 1163.68 90.4364 1163.68 Q88.2604 1163.68 85.9919 1163.31 Q83.7466 1162.94 81.3392 1162.2 L81.3392 1157.5 Q83.4225 1158.63 85.6447 1159.19 Q87.8669 1159.74 90.3438 1159.74 Q94.3484 1159.74 96.6863 1157.64 Q99.0243 1155.53 99.0243 1151.92 Q99.0243 1148.31 96.6863 1146.2 Q94.3484 1144.1 90.3438 1144.1 Q88.4688 1144.1 86.5938 1144.51 Q84.7419 1144.93 82.7975 1145.81 L82.7975 1128.45 Z\" fill=\"#f8f8f2\" fill-rule=\"nonzero\" fill-opacity=\"1\" /><path clip-path=\"url(#clip720)\" d=\"M122.913 1131.53 Q119.302 1131.53 117.473 1135.09 Q115.668 1138.63 115.668 1145.76 Q115.668 1152.87 117.473 1156.43 Q119.302 1159.97 122.913 1159.97 Q126.547 1159.97 128.353 1156.43 Q130.182 1152.87 130.182 1145.76 Q130.182 1138.63 128.353 1135.09 Q126.547 1131.53 122.913 1131.53 M122.913 1127.82 Q128.723 1127.82 131.779 1132.43 Q134.857 1137.01 134.857 1145.76 Q134.857 1154.49 131.779 1159.1 Q128.723 1163.68 122.913 1163.68 Q117.103 1163.68 114.024 1159.1 Q110.969 1154.49 110.969 1145.76 Q110.969 1137.01 114.024 1132.43 Q117.103 1127.82 122.913 1127.82 Z\" fill=\"#f8f8f2\" fill-rule=\"nonzero\" fill-opacity=\"1\" /><path clip-path=\"url(#clip720)\" d=\"M153.075 1131.53 Q149.464 1131.53 147.635 1135.09 Q145.83 1138.63 145.83 1145.76 Q145.83 1152.87 147.635 1156.43 Q149.464 1159.97 153.075 1159.97 Q156.709 1159.97 158.515 1156.43 Q160.343 1152.87 160.343 1145.76 Q160.343 1138.63 158.515 1135.09 Q156.709 1131.53 153.075 1131.53 M153.075 1127.82 Q158.885 1127.82 161.941 1132.43 Q165.019 1137.01 165.019 1145.76 Q165.019 1154.49 161.941 1159.1 Q158.885 1163.68 153.075 1163.68 Q147.265 1163.68 144.186 1159.1 Q141.131 1154.49 141.131 1145.76 Q141.131 1137.01 144.186 1132.43 Q147.265 1127.82 153.075 1127.82 Z\" fill=\"#f8f8f2\" fill-rule=\"nonzero\" fill-opacity=\"1\" /><path clip-path=\"url(#clip720)\" d=\"M53.3995 818.352 L61.0384 818.352 L61.0384 791.986 L52.7282 793.653 L52.7282 789.393 L60.9921 787.727 L65.668 787.727 L65.668 818.352 L73.3068 818.352 L73.3068 822.287 L53.3995 822.287 L53.3995 818.352 Z\" fill=\"#f8f8f2\" fill-rule=\"nonzero\" fill-opacity=\"1\" /><path clip-path=\"url(#clip720)\" d=\"M92.7512 790.805 Q89.1401 790.805 87.3114 794.37 Q85.5058 797.912 85.5058 805.041 Q85.5058 812.148 87.3114 815.713 Q89.1401 819.254 92.7512 819.254 Q96.3854 819.254 98.1909 815.713 Q100.02 812.148 100.02 805.041 Q100.02 797.912 98.1909 794.37 Q96.3854 790.805 92.7512 790.805 M92.7512 787.102 Q98.5613 787.102 101.617 791.708 Q104.696 796.291 104.696 805.041 Q104.696 813.768 101.617 818.375 Q98.5613 822.958 92.7512 822.958 Q86.941 822.958 83.8623 818.375 Q80.8068 813.768 80.8068 805.041 Q80.8068 796.291 83.8623 791.708 Q86.941 787.102 92.7512 787.102 Z\" fill=\"#f8f8f2\" fill-rule=\"nonzero\" fill-opacity=\"1\" /><path clip-path=\"url(#clip720)\" d=\"M122.913 790.805 Q119.302 790.805 117.473 794.37 Q115.668 797.912 115.668 805.041 Q115.668 812.148 117.473 815.713 Q119.302 819.254 122.913 819.254 Q126.547 819.254 128.353 815.713 Q130.182 812.148 130.182 805.041 Q130.182 797.912 128.353 794.37 Q126.547 790.805 122.913 790.805 M122.913 787.102 Q128.723 787.102 131.779 791.708 Q134.857 796.291 134.857 805.041 Q134.857 813.768 131.779 818.375 Q128.723 822.958 122.913 822.958 Q117.103 822.958 114.024 818.375 Q110.969 813.768 110.969 805.041 Q110.969 796.291 114.024 791.708 Q117.103 787.102 122.913 787.102 Z\" fill=\"#f8f8f2\" fill-rule=\"nonzero\" fill-opacity=\"1\" /><path clip-path=\"url(#clip720)\" d=\"M153.075 790.805 Q149.464 790.805 147.635 794.37 Q145.83 797.912 145.83 805.041 Q145.83 812.148 147.635 815.713 Q149.464 819.254 153.075 819.254 Q156.709 819.254 158.515 815.713 Q160.343 812.148 160.343 805.041 Q160.343 797.912 158.515 794.37 Q156.709 790.805 153.075 790.805 M153.075 787.102 Q158.885 787.102 161.941 791.708 Q165.019 796.291 165.019 805.041 Q165.019 813.768 161.941 818.375 Q158.885 822.958 153.075 822.958 Q147.265 822.958 144.186 818.375 Q141.131 813.768 141.131 805.041 Q141.131 796.291 144.186 791.708 Q147.265 787.102 153.075 787.102 Z\" fill=\"#f8f8f2\" fill-rule=\"nonzero\" fill-opacity=\"1\" /><path clip-path=\"url(#clip720)\" d=\"M53.3995 477.631 L61.0384 477.631 L61.0384 451.265 L52.7282 452.932 L52.7282 448.673 L60.9921 447.006 L65.668 447.006 L65.668 477.631 L73.3068 477.631 L73.3068 481.566 L53.3995 481.566 L53.3995 477.631 Z\" fill=\"#f8f8f2\" fill-rule=\"nonzero\" fill-opacity=\"1\" /><path clip-path=\"url(#clip720)\" d=\"M82.7975 447.006 L101.154 447.006 L101.154 450.941 L87.0799 450.941 L87.0799 459.413 Q88.0984 459.066 89.1169 458.904 Q90.1354 458.719 91.1539 458.719 Q96.941 458.719 100.321 461.89 Q103.7 465.062 103.7 470.478 Q103.7 476.057 100.228 479.159 Q96.7558 482.237 90.4364 482.237 Q88.2604 482.237 85.9919 481.867 Q83.7466 481.497 81.3392 480.756 L81.3392 476.057 Q83.4225 477.191 85.6447 477.747 Q87.8669 478.302 90.3438 478.302 Q94.3484 478.302 96.6863 476.196 Q99.0243 474.089 99.0243 470.478 Q99.0243 466.867 96.6863 464.761 Q94.3484 462.654 90.3438 462.654 Q88.4688 462.654 86.5938 463.071 Q84.7419 463.487 82.7975 464.367 L82.7975 447.006 Z\" fill=\"#f8f8f2\" fill-rule=\"nonzero\" fill-opacity=\"1\" /><path clip-path=\"url(#clip720)\" d=\"M122.913 450.085 Q119.302 450.085 117.473 453.65 Q115.668 457.191 115.668 464.321 Q115.668 471.427 117.473 474.992 Q119.302 478.534 122.913 478.534 Q126.547 478.534 128.353 474.992 Q130.182 471.427 130.182 464.321 Q130.182 457.191 128.353 453.65 Q126.547 450.085 122.913 450.085 M122.913 446.381 Q128.723 446.381 131.779 450.988 Q134.857 455.571 134.857 464.321 Q134.857 473.048 131.779 477.654 Q128.723 482.237 122.913 482.237 Q117.103 482.237 114.024 477.654 Q110.969 473.048 110.969 464.321 Q110.969 455.571 114.024 450.988 Q117.103 446.381 122.913 446.381 Z\" fill=\"#f8f8f2\" fill-rule=\"nonzero\" fill-opacity=\"1\" /><path clip-path=\"url(#clip720)\" d=\"M153.075 450.085 Q149.464 450.085 147.635 453.65 Q145.83 457.191 145.83 464.321 Q145.83 471.427 147.635 474.992 Q149.464 478.534 153.075 478.534 Q156.709 478.534 158.515 474.992 Q160.343 471.427 160.343 464.321 Q160.343 457.191 158.515 453.65 Q156.709 450.085 153.075 450.085 M153.075 446.381 Q158.885 446.381 161.941 450.988 Q165.019 455.571 165.019 464.321 Q165.019 473.048 161.941 477.654 Q158.885 482.237 153.075 482.237 Q147.265 482.237 144.186 477.654 Q141.131 473.048 141.131 464.321 Q141.131 455.571 144.186 450.988 Q147.265 446.381 153.075 446.381 Z\" fill=\"#f8f8f2\" fill-rule=\"nonzero\" fill-opacity=\"1\" /><path clip-path=\"url(#clip720)\" d=\"M56.6171 136.91 L72.9365 136.91 L72.9365 140.846 L50.9921 140.846 L50.9921 136.91 Q53.6541 134.156 58.2375 129.526 Q62.8439 124.873 64.0245 123.531 Q66.2698 121.008 67.1494 119.272 Q68.0522 117.512 68.0522 115.822 Q68.0522 113.068 66.1078 111.332 Q64.1865 109.596 61.0847 109.596 Q58.8856 109.596 56.4319 110.36 Q54.0014 111.123 51.2236 112.674 L51.2236 107.952 Q54.0477 106.818 56.5014 106.239 Q58.955 105.661 60.9921 105.661 Q66.3624 105.661 69.5568 108.346 Q72.7513 111.031 72.7513 115.522 Q72.7513 117.651 71.9411 119.572 Q71.1541 121.471 69.0476 124.063 Q68.4689 124.734 65.367 127.952 Q62.2652 131.146 56.6171 136.91 Z\" fill=\"#f8f8f2\" fill-rule=\"nonzero\" fill-opacity=\"1\" /><path clip-path=\"url(#clip720)\" d=\"M92.7512 109.364 Q89.1401 109.364 87.3114 112.929 Q85.5058 116.471 85.5058 123.6 Q85.5058 130.707 87.3114 134.271 Q89.1401 137.813 92.7512 137.813 Q96.3854 137.813 98.1909 134.271 Q100.02 130.707 100.02 123.6 Q100.02 116.471 98.1909 112.929 Q96.3854 109.364 92.7512 109.364 M92.7512 105.661 Q98.5613 105.661 101.617 110.267 Q104.696 114.85 104.696 123.6 Q104.696 132.327 101.617 136.933 Q98.5613 141.517 92.7512 141.517 Q86.941 141.517 83.8623 136.933 Q80.8068 132.327 80.8068 123.6 Q80.8068 114.85 83.8623 110.267 Q86.941 105.661 92.7512 105.661 Z\" fill=\"#f8f8f2\" fill-rule=\"nonzero\" fill-opacity=\"1\" /><path clip-path=\"url(#clip720)\" d=\"M122.913 109.364 Q119.302 109.364 117.473 112.929 Q115.668 116.471 115.668 123.6 Q115.668 130.707 117.473 134.271 Q119.302 137.813 122.913 137.813 Q126.547 137.813 128.353 134.271 Q130.182 130.707 130.182 123.6 Q130.182 116.471 128.353 112.929 Q126.547 109.364 122.913 109.364 M122.913 105.661 Q128.723 105.661 131.779 110.267 Q134.857 114.85 134.857 123.6 Q134.857 132.327 131.779 136.933 Q128.723 141.517 122.913 141.517 Q117.103 141.517 114.024 136.933 Q110.969 132.327 110.969 123.6 Q110.969 114.85 114.024 110.267 Q117.103 105.661 122.913 105.661 Z\" fill=\"#f8f8f2\" fill-rule=\"nonzero\" fill-opacity=\"1\" /><path clip-path=\"url(#clip720)\" d=\"M153.075 109.364 Q149.464 109.364 147.635 112.929 Q145.83 116.471 145.83 123.6 Q145.83 130.707 147.635 134.271 Q149.464 137.813 153.075 137.813 Q156.709 137.813 158.515 134.271 Q160.343 130.707 160.343 123.6 Q160.343 116.471 158.515 112.929 Q156.709 109.364 153.075 109.364 M153.075 105.661 Q158.885 105.661 161.941 110.267 Q165.019 114.85 165.019 123.6 Q165.019 132.327 161.941 136.933 Q158.885 141.517 153.075 141.517 Q147.265 141.517 144.186 136.933 Q141.131 132.327 141.131 123.6 Q141.131 114.85 144.186 110.267 Q147.265 105.661 153.075 105.661 Z\" fill=\"#f8f8f2\" fill-rule=\"nonzero\" fill-opacity=\"1\" /><path clip-path=\"url(#clip722)\" d=\"M319.369 165.815 L319.369 1486.45 L357.669 1486.45 L357.669 165.815 L319.369 165.815 L319.369 165.815  Z\" fill=\"#8be9fd\" fill-rule=\"evenodd\" fill-opacity=\"1\"/>\n",
       "<polyline clip-path=\"url(#clip722)\" style=\"stroke:#f8f8f2; stroke-linecap:round; stroke-linejoin:round; stroke-width:4; stroke-opacity:1; fill:none\" points=\"319.369,165.815 319.369,1486.45 357.669,1486.45 357.669,165.815 319.369,165.815 \"/>\n",
       "<path clip-path=\"url(#clip722)\" d=\"M357.669 152.867 L357.669 1486.45 L395.97 1486.45 L395.97 152.867 L357.669 152.867 L357.669 152.867  Z\" fill=\"#8be9fd\" fill-rule=\"evenodd\" fill-opacity=\"1\"/>\n",
       "<polyline clip-path=\"url(#clip722)\" style=\"stroke:#f8f8f2; stroke-linecap:round; stroke-linejoin:round; stroke-width:4; stroke-opacity:1; fill:none\" points=\"357.669,152.867 357.669,1486.45 395.97,1486.45 395.97,152.867 357.669,152.867 \"/>\n",
       "<path clip-path=\"url(#clip722)\" d=\"M395.97 103.804 L395.97 1486.45 L434.271 1486.45 L434.271 103.804 L395.97 103.804 L395.97 103.804  Z\" fill=\"#8be9fd\" fill-rule=\"evenodd\" fill-opacity=\"1\"/>\n",
       "<polyline clip-path=\"url(#clip722)\" style=\"stroke:#f8f8f2; stroke-linecap:round; stroke-linejoin:round; stroke-width:4; stroke-opacity:1; fill:none\" points=\"395.97,103.804 395.97,1486.45 434.271,1486.45 434.271,103.804 395.97,103.804 \"/>\n",
       "<path clip-path=\"url(#clip722)\" d=\"M434.271 132.424 L434.271 1486.45 L472.572 1486.45 L472.572 132.424 L434.271 132.424 L434.271 132.424  Z\" fill=\"#8be9fd\" fill-rule=\"evenodd\" fill-opacity=\"1\"/>\n",
       "<polyline clip-path=\"url(#clip722)\" style=\"stroke:#f8f8f2; stroke-linecap:round; stroke-linejoin:round; stroke-width:4; stroke-opacity:1; fill:none\" points=\"434.271,132.424 434.271,1486.45 472.572,1486.45 472.572,132.424 434.271,132.424 \"/>\n",
       "<path clip-path=\"url(#clip722)\" d=\"M472.572 161.045 L472.572 1486.45 L510.872 1486.45 L510.872 161.045 L472.572 161.045 L472.572 161.045  Z\" fill=\"#8be9fd\" fill-rule=\"evenodd\" fill-opacity=\"1\"/>\n",
       "<polyline clip-path=\"url(#clip722)\" style=\"stroke:#f8f8f2; stroke-linecap:round; stroke-linejoin:round; stroke-width:4; stroke-opacity:1; fill:none\" points=\"472.572,161.045 472.572,1486.45 510.872,1486.45 510.872,161.045 472.572,161.045 \"/>\n",
       "<path clip-path=\"url(#clip722)\" d=\"M510.872 103.804 L510.872 1486.45 L549.173 1486.45 L549.173 103.804 L510.872 103.804 L510.872 103.804  Z\" fill=\"#8be9fd\" fill-rule=\"evenodd\" fill-opacity=\"1\"/>\n",
       "<polyline clip-path=\"url(#clip722)\" style=\"stroke:#f8f8f2; stroke-linecap:round; stroke-linejoin:round; stroke-width:4; stroke-opacity:1; fill:none\" points=\"510.872,103.804 510.872,1486.45 549.173,1486.45 549.173,103.804 510.872,103.804 \"/>\n",
       "<path clip-path=\"url(#clip722)\" d=\"M549.173 114.025 L549.173 1486.45 L587.474 1486.45 L587.474 114.025 L549.173 114.025 L549.173 114.025  Z\" fill=\"#8be9fd\" fill-rule=\"evenodd\" fill-opacity=\"1\"/>\n",
       "<polyline clip-path=\"url(#clip722)\" style=\"stroke:#f8f8f2; stroke-linecap:round; stroke-linejoin:round; stroke-width:4; stroke-opacity:1; fill:none\" points=\"549.173,114.025 549.173,1486.45 587.474,1486.45 587.474,114.025 549.173,114.025 \"/>\n",
       "<path clip-path=\"url(#clip722)\" d=\"M587.474 89.4934 L587.474 1486.45 L625.775 1486.45 L625.775 89.4934 L587.474 89.4934 L587.474 89.4934  Z\" fill=\"#8be9fd\" fill-rule=\"evenodd\" fill-opacity=\"1\"/>\n",
       "<polyline clip-path=\"url(#clip722)\" style=\"stroke:#f8f8f2; stroke-linecap:round; stroke-linejoin:round; stroke-width:4; stroke-opacity:1; fill:none\" points=\"587.474,89.4934 587.474,1486.45 625.775,1486.45 625.775,89.4934 587.474,89.4934 \"/>\n",
       "<path clip-path=\"url(#clip722)\" d=\"M625.775 116.751 L625.775 1486.45 L664.075 1486.45 L664.075 116.751 L625.775 116.751 L625.775 116.751  Z\" fill=\"#8be9fd\" fill-rule=\"evenodd\" fill-opacity=\"1\"/>\n",
       "<polyline clip-path=\"url(#clip722)\" style=\"stroke:#f8f8f2; stroke-linecap:round; stroke-linejoin:round; stroke-width:4; stroke-opacity:1; fill:none\" points=\"625.775,116.751 625.775,1486.45 664.075,1486.45 664.075,116.751 625.775,116.751 \"/>\n",
       "<path clip-path=\"url(#clip722)\" d=\"M664.075 145.372 L664.075 1486.45 L702.376 1486.45 L702.376 145.372 L664.075 145.372 L664.075 145.372  Z\" fill=\"#8be9fd\" fill-rule=\"evenodd\" fill-opacity=\"1\"/>\n",
       "<polyline clip-path=\"url(#clip722)\" style=\"stroke:#f8f8f2; stroke-linecap:round; stroke-linejoin:round; stroke-width:4; stroke-opacity:1; fill:none\" points=\"664.075,145.372 664.075,1486.45 702.376,1486.45 702.376,145.372 664.075,145.372 \"/>\n",
       "<path clip-path=\"url(#clip722)\" d=\"M702.376 101.759 L702.376 1486.45 L740.677 1486.45 L740.677 101.759 L702.376 101.759 L702.376 101.759  Z\" fill=\"#8be9fd\" fill-rule=\"evenodd\" fill-opacity=\"1\"/>\n",
       "<polyline clip-path=\"url(#clip722)\" style=\"stroke:#f8f8f2; stroke-linecap:round; stroke-linejoin:round; stroke-width:4; stroke-opacity:1; fill:none\" points=\"702.376,101.759 702.376,1486.45 740.677,1486.45 740.677,101.759 702.376,101.759 \"/>\n",
       "<path clip-path=\"url(#clip722)\" d=\"M740.677 141.964 L740.677 1486.45 L778.978 1486.45 L778.978 141.964 L740.677 141.964 L740.677 141.964  Z\" fill=\"#8be9fd\" fill-rule=\"evenodd\" fill-opacity=\"1\"/>\n",
       "<polyline clip-path=\"url(#clip722)\" style=\"stroke:#f8f8f2; stroke-linecap:round; stroke-linejoin:round; stroke-width:4; stroke-opacity:1; fill:none\" points=\"740.677,141.964 740.677,1486.45 778.978,1486.45 778.978,141.964 740.677,141.964 \"/>\n",
       "<path clip-path=\"url(#clip722)\" d=\"M778.978 126.973 L778.978 1486.45 L817.278 1486.45 L817.278 126.973 L778.978 126.973 L778.978 126.973  Z\" fill=\"#8be9fd\" fill-rule=\"evenodd\" fill-opacity=\"1\"/>\n",
       "<polyline clip-path=\"url(#clip722)\" style=\"stroke:#f8f8f2; stroke-linecap:round; stroke-linejoin:round; stroke-width:4; stroke-opacity:1; fill:none\" points=\"778.978,126.973 778.978,1486.45 817.278,1486.45 817.278,126.973 778.978,126.973 \"/>\n",
       "<path clip-path=\"url(#clip722)\" d=\"M817.278 141.964 L817.278 1486.45 L855.579 1486.45 L855.579 141.964 L817.278 141.964 L817.278 141.964  Z\" fill=\"#8be9fd\" fill-rule=\"evenodd\" fill-opacity=\"1\"/>\n",
       "<polyline clip-path=\"url(#clip722)\" style=\"stroke:#f8f8f2; stroke-linecap:round; stroke-linejoin:round; stroke-width:4; stroke-opacity:1; fill:none\" points=\"817.278,141.964 817.278,1486.45 855.579,1486.45 855.579,141.964 817.278,141.964 \"/>\n",
       "<path clip-path=\"url(#clip722)\" d=\"M855.579 47.2441 L855.579 1486.45 L893.88 1486.45 L893.88 47.2441 L855.579 47.2441 L855.579 47.2441  Z\" fill=\"#8be9fd\" fill-rule=\"evenodd\" fill-opacity=\"1\"/>\n",
       "<polyline clip-path=\"url(#clip722)\" style=\"stroke:#f8f8f2; stroke-linecap:round; stroke-linejoin:round; stroke-width:4; stroke-opacity:1; fill:none\" points=\"855.579,47.2441 855.579,1486.45 893.88,1486.45 893.88,47.2441 855.579,47.2441 \"/>\n",
       "<path clip-path=\"url(#clip722)\" d=\"M893.88 142.646 L893.88 1486.45 L932.181 1486.45 L932.181 142.646 L893.88 142.646 L893.88 142.646  Z\" fill=\"#8be9fd\" fill-rule=\"evenodd\" fill-opacity=\"1\"/>\n",
       "<polyline clip-path=\"url(#clip722)\" style=\"stroke:#f8f8f2; stroke-linecap:round; stroke-linejoin:round; stroke-width:4; stroke-opacity:1; fill:none\" points=\"893.88,142.646 893.88,1486.45 932.181,1486.45 932.181,142.646 893.88,142.646 \"/>\n",
       "<path clip-path=\"url(#clip722)\" d=\"M932.181 96.9893 L932.181 1486.45 L970.482 1486.45 L970.482 96.9893 L932.181 96.9893 L932.181 96.9893  Z\" fill=\"#8be9fd\" fill-rule=\"evenodd\" fill-opacity=\"1\"/>\n",
       "<polyline clip-path=\"url(#clip722)\" style=\"stroke:#f8f8f2; stroke-linecap:round; stroke-linejoin:round; stroke-width:4; stroke-opacity:1; fill:none\" points=\"932.181,96.9893 932.181,1486.45 970.482,1486.45 970.482,96.9893 932.181,96.9893 \"/>\n",
       "<path clip-path=\"url(#clip722)\" d=\"M970.482 63.5987 L970.482 1486.45 L1008.78 1486.45 L1008.78 63.5987 L970.482 63.5987 L970.482 63.5987  Z\" fill=\"#8be9fd\" fill-rule=\"evenodd\" fill-opacity=\"1\"/>\n",
       "<polyline clip-path=\"url(#clip722)\" style=\"stroke:#f8f8f2; stroke-linecap:round; stroke-linejoin:round; stroke-width:4; stroke-opacity:1; fill:none\" points=\"970.482,63.5987 970.482,1486.45 1008.78,1486.45 1008.78,63.5987 970.482,63.5987 \"/>\n",
       "<path clip-path=\"url(#clip722)\" d=\"M1008.78 79.9533 L1008.78 1486.45 L1047.08 1486.45 L1047.08 79.9533 L1008.78 79.9533 L1008.78 79.9533  Z\" fill=\"#8be9fd\" fill-rule=\"evenodd\" fill-opacity=\"1\"/>\n",
       "<polyline clip-path=\"url(#clip722)\" style=\"stroke:#f8f8f2; stroke-linecap:round; stroke-linejoin:round; stroke-width:4; stroke-opacity:1; fill:none\" points=\"1008.78,79.9533 1008.78,1486.45 1047.08,1486.45 1047.08,79.9533 1008.78,79.9533 \"/>\n",
       "<path clip-path=\"url(#clip722)\" d=\"M1047.08 89.4934 L1047.08 1486.45 L1085.38 1486.45 L1085.38 89.4934 L1047.08 89.4934 L1047.08 89.4934  Z\" fill=\"#8be9fd\" fill-rule=\"evenodd\" fill-opacity=\"1\"/>\n",
       "<polyline clip-path=\"url(#clip722)\" style=\"stroke:#f8f8f2; stroke-linecap:round; stroke-linejoin:round; stroke-width:4; stroke-opacity:1; fill:none\" points=\"1047.08,89.4934 1047.08,1486.45 1085.38,1486.45 1085.38,89.4934 1047.08,89.4934 \"/>\n",
       "<path clip-path=\"url(#clip722)\" d=\"M1085.38 92.9007 L1085.38 1486.45 L1123.68 1486.45 L1123.68 92.9007 L1085.38 92.9007 L1085.38 92.9007  Z\" fill=\"#8be9fd\" fill-rule=\"evenodd\" fill-opacity=\"1\"/>\n",
       "<polyline clip-path=\"url(#clip722)\" style=\"stroke:#f8f8f2; stroke-linecap:round; stroke-linejoin:round; stroke-width:4; stroke-opacity:1; fill:none\" points=\"1085.38,92.9007 1085.38,1486.45 1123.68,1486.45 1123.68,92.9007 1085.38,92.9007 \"/>\n",
       "<path clip-path=\"url(#clip722)\" d=\"M1123.68 156.956 L1123.68 1486.45 L1161.99 1486.45 L1161.99 156.956 L1123.68 156.956 L1123.68 156.956  Z\" fill=\"#8be9fd\" fill-rule=\"evenodd\" fill-opacity=\"1\"/>\n",
       "<polyline clip-path=\"url(#clip722)\" style=\"stroke:#f8f8f2; stroke-linecap:round; stroke-linejoin:round; stroke-width:4; stroke-opacity:1; fill:none\" points=\"1123.68,156.956 1123.68,1486.45 1161.99,1486.45 1161.99,156.956 1123.68,156.956 \"/>\n",
       "<path clip-path=\"url(#clip722)\" d=\"M1161.99 144.009 L1161.99 1486.45 L1200.29 1486.45 L1200.29 144.009 L1161.99 144.009 L1161.99 144.009  Z\" fill=\"#8be9fd\" fill-rule=\"evenodd\" fill-opacity=\"1\"/>\n",
       "<polyline clip-path=\"url(#clip722)\" style=\"stroke:#f8f8f2; stroke-linecap:round; stroke-linejoin:round; stroke-width:4; stroke-opacity:1; fill:none\" points=\"1161.99,144.009 1161.99,1486.45 1200.29,1486.45 1200.29,144.009 1161.99,144.009 \"/>\n",
       "<path clip-path=\"url(#clip722)\" d=\"M1200.29 131.061 L1200.29 1486.45 L1238.59 1486.45 L1238.59 131.061 L1200.29 131.061 L1200.29 131.061  Z\" fill=\"#8be9fd\" fill-rule=\"evenodd\" fill-opacity=\"1\"/>\n",
       "<polyline clip-path=\"url(#clip722)\" style=\"stroke:#f8f8f2; stroke-linecap:round; stroke-linejoin:round; stroke-width:4; stroke-opacity:1; fill:none\" points=\"1200.29,131.061 1200.29,1486.45 1238.59,1486.45 1238.59,131.061 1200.29,131.061 \"/>\n",
       "<path clip-path=\"url(#clip722)\" d=\"M1238.59 69.7317 L1238.59 1486.45 L1276.89 1486.45 L1276.89 69.7317 L1238.59 69.7317 L1238.59 69.7317  Z\" fill=\"#8be9fd\" fill-rule=\"evenodd\" fill-opacity=\"1\"/>\n",
       "<polyline clip-path=\"url(#clip722)\" style=\"stroke:#f8f8f2; stroke-linecap:round; stroke-linejoin:round; stroke-width:4; stroke-opacity:1; fill:none\" points=\"1238.59,69.7317 1238.59,1486.45 1276.89,1486.45 1276.89,69.7317 1238.59,69.7317 \"/>\n",
       "<path clip-path=\"url(#clip722)\" d=\"M1276.89 152.867 L1276.89 1486.45 L1315.19 1486.45 L1315.19 152.867 L1276.89 152.867 L1276.89 152.867  Z\" fill=\"#8be9fd\" fill-rule=\"evenodd\" fill-opacity=\"1\"/>\n",
       "<polyline clip-path=\"url(#clip722)\" style=\"stroke:#f8f8f2; stroke-linecap:round; stroke-linejoin:round; stroke-width:4; stroke-opacity:1; fill:none\" points=\"1276.89,152.867 1276.89,1486.45 1315.19,1486.45 1315.19,152.867 1276.89,152.867 \"/>\n",
       "<path clip-path=\"url(#clip722)\" d=\"M1315.19 121.521 L1315.19 1486.45 L1353.49 1486.45 L1353.49 121.521 L1315.19 121.521 L1315.19 121.521  Z\" fill=\"#8be9fd\" fill-rule=\"evenodd\" fill-opacity=\"1\"/>\n",
       "<polyline clip-path=\"url(#clip722)\" style=\"stroke:#f8f8f2; stroke-linecap:round; stroke-linejoin:round; stroke-width:4; stroke-opacity:1; fill:none\" points=\"1315.19,121.521 1315.19,1486.45 1353.49,1486.45 1353.49,121.521 1315.19,121.521 \"/>\n",
       "<path clip-path=\"url(#clip722)\" d=\"M1353.49 116.751 L1353.49 1486.45 L1391.79 1486.45 L1391.79 116.751 L1353.49 116.751 L1353.49 116.751  Z\" fill=\"#8be9fd\" fill-rule=\"evenodd\" fill-opacity=\"1\"/>\n",
       "<polyline clip-path=\"url(#clip722)\" style=\"stroke:#f8f8f2; stroke-linecap:round; stroke-linejoin:round; stroke-width:4; stroke-opacity:1; fill:none\" points=\"1353.49,116.751 1353.49,1486.45 1391.79,1486.45 1391.79,116.751 1353.49,116.751 \"/>\n",
       "<path clip-path=\"url(#clip722)\" d=\"M1391.79 163.089 L1391.79 1486.45 L1430.09 1486.45 L1430.09 163.089 L1391.79 163.089 L1391.79 163.089  Z\" fill=\"#8be9fd\" fill-rule=\"evenodd\" fill-opacity=\"1\"/>\n",
       "<polyline clip-path=\"url(#clip722)\" style=\"stroke:#f8f8f2; stroke-linecap:round; stroke-linejoin:round; stroke-width:4; stroke-opacity:1; fill:none\" points=\"1391.79,163.089 1391.79,1486.45 1430.09,1486.45 1430.09,163.089 1391.79,163.089 \"/>\n",
       "<path clip-path=\"url(#clip722)\" d=\"M1430.09 134.469 L1430.09 1486.45 L1468.39 1486.45 L1468.39 134.469 L1430.09 134.469 L1430.09 134.469  Z\" fill=\"#8be9fd\" fill-rule=\"evenodd\" fill-opacity=\"1\"/>\n",
       "<polyline clip-path=\"url(#clip722)\" style=\"stroke:#f8f8f2; stroke-linecap:round; stroke-linejoin:round; stroke-width:4; stroke-opacity:1; fill:none\" points=\"1430.09,134.469 1430.09,1486.45 1468.39,1486.45 1468.39,134.469 1430.09,134.469 \"/>\n",
       "<path clip-path=\"url(#clip722)\" d=\"M1468.39 110.618 L1468.39 1486.45 L1506.69 1486.45 L1506.69 110.618 L1468.39 110.618 L1468.39 110.618  Z\" fill=\"#8be9fd\" fill-rule=\"evenodd\" fill-opacity=\"1\"/>\n",
       "<polyline clip-path=\"url(#clip722)\" style=\"stroke:#f8f8f2; stroke-linecap:round; stroke-linejoin:round; stroke-width:4; stroke-opacity:1; fill:none\" points=\"1468.39,110.618 1468.39,1486.45 1506.69,1486.45 1506.69,110.618 1468.39,110.618 \"/>\n",
       "<path clip-path=\"url(#clip722)\" d=\"M1506.69 132.424 L1506.69 1486.45 L1544.99 1486.45 L1544.99 132.424 L1506.69 132.424 L1506.69 132.424  Z\" fill=\"#8be9fd\" fill-rule=\"evenodd\" fill-opacity=\"1\"/>\n",
       "<polyline clip-path=\"url(#clip722)\" style=\"stroke:#f8f8f2; stroke-linecap:round; stroke-linejoin:round; stroke-width:4; stroke-opacity:1; fill:none\" points=\"1506.69,132.424 1506.69,1486.45 1544.99,1486.45 1544.99,132.424 1506.69,132.424 \"/>\n",
       "<path clip-path=\"url(#clip722)\" d=\"M1544.99 102.441 L1544.99 1486.45 L1583.29 1486.45 L1583.29 102.441 L1544.99 102.441 L1544.99 102.441  Z\" fill=\"#8be9fd\" fill-rule=\"evenodd\" fill-opacity=\"1\"/>\n",
       "<polyline clip-path=\"url(#clip722)\" style=\"stroke:#f8f8f2; stroke-linecap:round; stroke-linejoin:round; stroke-width:4; stroke-opacity:1; fill:none\" points=\"1544.99,102.441 1544.99,1486.45 1583.29,1486.45 1583.29,102.441 1544.99,102.441 \"/>\n",
       "<path clip-path=\"url(#clip722)\" d=\"M1583.29 106.529 L1583.29 1486.45 L1621.59 1486.45 L1621.59 106.529 L1583.29 106.529 L1583.29 106.529  Z\" fill=\"#8be9fd\" fill-rule=\"evenodd\" fill-opacity=\"1\"/>\n",
       "<polyline clip-path=\"url(#clip722)\" style=\"stroke:#f8f8f2; stroke-linecap:round; stroke-linejoin:round; stroke-width:4; stroke-opacity:1; fill:none\" points=\"1583.29,106.529 1583.29,1486.45 1621.59,1486.45 1621.59,106.529 1583.29,106.529 \"/>\n",
       "<path clip-path=\"url(#clip722)\" d=\"M1621.59 214.879 L1621.59 1486.45 L1659.9 1486.45 L1659.9 214.879 L1621.59 214.879 L1621.59 214.879  Z\" fill=\"#8be9fd\" fill-rule=\"evenodd\" fill-opacity=\"1\"/>\n",
       "<polyline clip-path=\"url(#clip722)\" style=\"stroke:#f8f8f2; stroke-linecap:round; stroke-linejoin:round; stroke-width:4; stroke-opacity:1; fill:none\" points=\"1621.59,214.879 1621.59,1486.45 1659.9,1486.45 1659.9,214.879 1621.59,214.879 \"/>\n",
       "<path clip-path=\"url(#clip722)\" d=\"M1659.9 145.372 L1659.9 1486.45 L1698.2 1486.45 L1698.2 145.372 L1659.9 145.372 L1659.9 145.372  Z\" fill=\"#8be9fd\" fill-rule=\"evenodd\" fill-opacity=\"1\"/>\n",
       "<polyline clip-path=\"url(#clip722)\" style=\"stroke:#f8f8f2; stroke-linecap:round; stroke-linejoin:round; stroke-width:4; stroke-opacity:1; fill:none\" points=\"1659.9,145.372 1659.9,1486.45 1698.2,1486.45 1698.2,145.372 1659.9,145.372 \"/>\n",
       "<path clip-path=\"url(#clip722)\" d=\"M1698.2 119.477 L1698.2 1486.45 L1736.5 1486.45 L1736.5 119.477 L1698.2 119.477 L1698.2 119.477  Z\" fill=\"#8be9fd\" fill-rule=\"evenodd\" fill-opacity=\"1\"/>\n",
       "<polyline clip-path=\"url(#clip722)\" style=\"stroke:#f8f8f2; stroke-linecap:round; stroke-linejoin:round; stroke-width:4; stroke-opacity:1; fill:none\" points=\"1698.2,119.477 1698.2,1486.45 1736.5,1486.45 1736.5,119.477 1698.2,119.477 \"/>\n",
       "<path clip-path=\"url(#clip722)\" d=\"M1736.5 122.203 L1736.5 1486.45 L1774.8 1486.45 L1774.8 122.203 L1736.5 122.203 L1736.5 122.203  Z\" fill=\"#8be9fd\" fill-rule=\"evenodd\" fill-opacity=\"1\"/>\n",
       "<polyline clip-path=\"url(#clip722)\" style=\"stroke:#f8f8f2; stroke-linecap:round; stroke-linejoin:round; stroke-width:4; stroke-opacity:1; fill:none\" points=\"1736.5,122.203 1736.5,1486.45 1774.8,1486.45 1774.8,122.203 1736.5,122.203 \"/>\n",
       "<path clip-path=\"url(#clip722)\" d=\"M1774.8 120.158 L1774.8 1486.45 L1813.1 1486.45 L1813.1 120.158 L1774.8 120.158 L1774.8 120.158  Z\" fill=\"#8be9fd\" fill-rule=\"evenodd\" fill-opacity=\"1\"/>\n",
       "<polyline clip-path=\"url(#clip722)\" style=\"stroke:#f8f8f2; stroke-linecap:round; stroke-linejoin:round; stroke-width:4; stroke-opacity:1; fill:none\" points=\"1774.8,120.158 1774.8,1486.45 1813.1,1486.45 1813.1,120.158 1774.8,120.158 \"/>\n",
       "<path clip-path=\"url(#clip722)\" d=\"M1813.1 110.618 L1813.1 1486.45 L1851.4 1486.45 L1851.4 110.618 L1813.1 110.618 L1813.1 110.618  Z\" fill=\"#8be9fd\" fill-rule=\"evenodd\" fill-opacity=\"1\"/>\n",
       "<polyline clip-path=\"url(#clip722)\" style=\"stroke:#f8f8f2; stroke-linecap:round; stroke-linejoin:round; stroke-width:4; stroke-opacity:1; fill:none\" points=\"1813.1,110.618 1813.1,1486.45 1851.4,1486.45 1851.4,110.618 1813.1,110.618 \"/>\n",
       "<path clip-path=\"url(#clip722)\" d=\"M1851.4 131.743 L1851.4 1486.45 L1889.7 1486.45 L1889.7 131.743 L1851.4 131.743 L1851.4 131.743  Z\" fill=\"#8be9fd\" fill-rule=\"evenodd\" fill-opacity=\"1\"/>\n",
       "<polyline clip-path=\"url(#clip722)\" style=\"stroke:#f8f8f2; stroke-linecap:round; stroke-linejoin:round; stroke-width:4; stroke-opacity:1; fill:none\" points=\"1851.4,131.743 1851.4,1486.45 1889.7,1486.45 1889.7,131.743 1851.4,131.743 \"/>\n",
       "<path clip-path=\"url(#clip722)\" d=\"M1889.7 145.372 L1889.7 1486.45 L1928 1486.45 L1928 145.372 L1889.7 145.372 L1889.7 145.372  Z\" fill=\"#8be9fd\" fill-rule=\"evenodd\" fill-opacity=\"1\"/>\n",
       "<polyline clip-path=\"url(#clip722)\" style=\"stroke:#f8f8f2; stroke-linecap:round; stroke-linejoin:round; stroke-width:4; stroke-opacity:1; fill:none\" points=\"1889.7,145.372 1889.7,1486.45 1928,1486.45 1928,145.372 1889.7,145.372 \"/>\n",
       "<path clip-path=\"url(#clip722)\" d=\"M1928 121.521 L1928 1486.45 L1966.3 1486.45 L1966.3 121.521 L1928 121.521 L1928 121.521  Z\" fill=\"#8be9fd\" fill-rule=\"evenodd\" fill-opacity=\"1\"/>\n",
       "<polyline clip-path=\"url(#clip722)\" style=\"stroke:#f8f8f2; stroke-linecap:round; stroke-linejoin:round; stroke-width:4; stroke-opacity:1; fill:none\" points=\"1928,121.521 1928,1486.45 1966.3,1486.45 1966.3,121.521 1928,121.521 \"/>\n",
       "<path clip-path=\"url(#clip722)\" d=\"M1966.3 91.5378 L1966.3 1486.45 L2004.6 1486.45 L2004.6 91.5378 L1966.3 91.5378 L1966.3 91.5378  Z\" fill=\"#8be9fd\" fill-rule=\"evenodd\" fill-opacity=\"1\"/>\n",
       "<polyline clip-path=\"url(#clip722)\" style=\"stroke:#f8f8f2; stroke-linecap:round; stroke-linejoin:round; stroke-width:4; stroke-opacity:1; fill:none\" points=\"1966.3,91.5378 1966.3,1486.45 2004.6,1486.45 2004.6,91.5378 1966.3,91.5378 \"/>\n",
       "<path clip-path=\"url(#clip722)\" d=\"M2004.6 133.106 L2004.6 1486.45 L2042.9 1486.45 L2042.9 133.106 L2004.6 133.106 L2004.6 133.106  Z\" fill=\"#8be9fd\" fill-rule=\"evenodd\" fill-opacity=\"1\"/>\n",
       "<polyline clip-path=\"url(#clip722)\" style=\"stroke:#f8f8f2; stroke-linecap:round; stroke-linejoin:round; stroke-width:4; stroke-opacity:1; fill:none\" points=\"2004.6,133.106 2004.6,1486.45 2042.9,1486.45 2042.9,133.106 2004.6,133.106 \"/>\n",
       "<path clip-path=\"url(#clip722)\" d=\"M2042.9 98.3522 L2042.9 1486.45 L2081.2 1486.45 L2081.2 98.3522 L2042.9 98.3522 L2042.9 98.3522  Z\" fill=\"#8be9fd\" fill-rule=\"evenodd\" fill-opacity=\"1\"/>\n",
       "<polyline clip-path=\"url(#clip722)\" style=\"stroke:#f8f8f2; stroke-linecap:round; stroke-linejoin:round; stroke-width:4; stroke-opacity:1; fill:none\" points=\"2042.9,98.3522 2042.9,1486.45 2081.2,1486.45 2081.2,98.3522 2042.9,98.3522 \"/>\n",
       "<path clip-path=\"url(#clip722)\" d=\"M2081.2 184.214 L2081.2 1486.45 L2119.5 1486.45 L2119.5 184.214 L2081.2 184.214 L2081.2 184.214  Z\" fill=\"#8be9fd\" fill-rule=\"evenodd\" fill-opacity=\"1\"/>\n",
       "<polyline clip-path=\"url(#clip722)\" style=\"stroke:#f8f8f2; stroke-linecap:round; stroke-linejoin:round; stroke-width:4; stroke-opacity:1; fill:none\" points=\"2081.2,184.214 2081.2,1486.45 2119.5,1486.45 2119.5,184.214 2081.2,184.214 \"/>\n",
       "<path clip-path=\"url(#clip722)\" d=\"M2119.5 111.981 L2119.5 1486.45 L2157.81 1486.45 L2157.81 111.981 L2119.5 111.981 L2119.5 111.981  Z\" fill=\"#8be9fd\" fill-rule=\"evenodd\" fill-opacity=\"1\"/>\n",
       "<polyline clip-path=\"url(#clip722)\" style=\"stroke:#f8f8f2; stroke-linecap:round; stroke-linejoin:round; stroke-width:4; stroke-opacity:1; fill:none\" points=\"2119.5,111.981 2119.5,1486.45 2157.81,1486.45 2157.81,111.981 2119.5,111.981 \"/>\n",
       "<path clip-path=\"url(#clip722)\" d=\"M2157.81 154.23 L2157.81 1486.45 L2196.11 1486.45 L2196.11 154.23 L2157.81 154.23 L2157.81 154.23  Z\" fill=\"#8be9fd\" fill-rule=\"evenodd\" fill-opacity=\"1\"/>\n",
       "<polyline clip-path=\"url(#clip722)\" style=\"stroke:#f8f8f2; stroke-linecap:round; stroke-linejoin:round; stroke-width:4; stroke-opacity:1; fill:none\" points=\"2157.81,154.23 2157.81,1486.45 2196.11,1486.45 2196.11,154.23 2157.81,154.23 \"/>\n",
       "<path clip-path=\"url(#clip722)\" d=\"M2196.11 120.158 L2196.11 1486.45 L2234.41 1486.45 L2234.41 120.158 L2196.11 120.158 L2196.11 120.158  Z\" fill=\"#8be9fd\" fill-rule=\"evenodd\" fill-opacity=\"1\"/>\n",
       "<polyline clip-path=\"url(#clip722)\" style=\"stroke:#f8f8f2; stroke-linecap:round; stroke-linejoin:round; stroke-width:4; stroke-opacity:1; fill:none\" points=\"2196.11,120.158 2196.11,1486.45 2234.41,1486.45 2234.41,120.158 2196.11,120.158 \"/>\n",
       "<circle clip-path=\"url(#clip722)\" style=\"fill:#8be9fd; stroke:none; fill-opacity:0\" cx=\"338.519\" cy=\"165.815\" r=\"2\"/>\n",
       "<circle clip-path=\"url(#clip722)\" style=\"fill:#8be9fd; stroke:none; fill-opacity:0\" cx=\"376.82\" cy=\"152.867\" r=\"2\"/>\n",
       "<circle clip-path=\"url(#clip722)\" style=\"fill:#8be9fd; stroke:none; fill-opacity:0\" cx=\"415.121\" cy=\"103.804\" r=\"2\"/>\n",
       "<circle clip-path=\"url(#clip722)\" style=\"fill:#8be9fd; stroke:none; fill-opacity:0\" cx=\"453.421\" cy=\"132.424\" r=\"2\"/>\n",
       "<circle clip-path=\"url(#clip722)\" style=\"fill:#8be9fd; stroke:none; fill-opacity:0\" cx=\"491.722\" cy=\"161.045\" r=\"2\"/>\n",
       "<circle clip-path=\"url(#clip722)\" style=\"fill:#8be9fd; stroke:none; fill-opacity:0\" cx=\"530.023\" cy=\"103.804\" r=\"2\"/>\n",
       "<circle clip-path=\"url(#clip722)\" style=\"fill:#8be9fd; stroke:none; fill-opacity:0\" cx=\"568.324\" cy=\"114.025\" r=\"2\"/>\n",
       "<circle clip-path=\"url(#clip722)\" style=\"fill:#8be9fd; stroke:none; fill-opacity:0\" cx=\"606.624\" cy=\"89.4934\" r=\"2\"/>\n",
       "<circle clip-path=\"url(#clip722)\" style=\"fill:#8be9fd; stroke:none; fill-opacity:0\" cx=\"644.925\" cy=\"116.751\" r=\"2\"/>\n",
       "<circle clip-path=\"url(#clip722)\" style=\"fill:#8be9fd; stroke:none; fill-opacity:0\" cx=\"683.226\" cy=\"145.372\" r=\"2\"/>\n",
       "<circle clip-path=\"url(#clip722)\" style=\"fill:#8be9fd; stroke:none; fill-opacity:0\" cx=\"721.527\" cy=\"101.759\" r=\"2\"/>\n",
       "<circle clip-path=\"url(#clip722)\" style=\"fill:#8be9fd; stroke:none; fill-opacity:0\" cx=\"759.827\" cy=\"141.964\" r=\"2\"/>\n",
       "<circle clip-path=\"url(#clip722)\" style=\"fill:#8be9fd; stroke:none; fill-opacity:0\" cx=\"798.128\" cy=\"126.973\" r=\"2\"/>\n",
       "<circle clip-path=\"url(#clip722)\" style=\"fill:#8be9fd; stroke:none; fill-opacity:0\" cx=\"836.429\" cy=\"141.964\" r=\"2\"/>\n",
       "<circle clip-path=\"url(#clip722)\" style=\"fill:#8be9fd; stroke:none; fill-opacity:0\" cx=\"874.73\" cy=\"47.2441\" r=\"2\"/>\n",
       "<circle clip-path=\"url(#clip722)\" style=\"fill:#8be9fd; stroke:none; fill-opacity:0\" cx=\"913.03\" cy=\"142.646\" r=\"2\"/>\n",
       "<circle clip-path=\"url(#clip722)\" style=\"fill:#8be9fd; stroke:none; fill-opacity:0\" cx=\"951.331\" cy=\"96.9893\" r=\"2\"/>\n",
       "<circle clip-path=\"url(#clip722)\" style=\"fill:#8be9fd; stroke:none; fill-opacity:0\" cx=\"989.632\" cy=\"63.5987\" r=\"2\"/>\n",
       "<circle clip-path=\"url(#clip722)\" style=\"fill:#8be9fd; stroke:none; fill-opacity:0\" cx=\"1027.93\" cy=\"79.9533\" r=\"2\"/>\n",
       "<circle clip-path=\"url(#clip722)\" style=\"fill:#8be9fd; stroke:none; fill-opacity:0\" cx=\"1066.23\" cy=\"89.4934\" r=\"2\"/>\n",
       "<circle clip-path=\"url(#clip722)\" style=\"fill:#8be9fd; stroke:none; fill-opacity:0\" cx=\"1104.53\" cy=\"92.9007\" r=\"2\"/>\n",
       "<circle clip-path=\"url(#clip722)\" style=\"fill:#8be9fd; stroke:none; fill-opacity:0\" cx=\"1142.83\" cy=\"156.956\" r=\"2\"/>\n",
       "<circle clip-path=\"url(#clip722)\" style=\"fill:#8be9fd; stroke:none; fill-opacity:0\" cx=\"1181.14\" cy=\"144.009\" r=\"2\"/>\n",
       "<circle clip-path=\"url(#clip722)\" style=\"fill:#8be9fd; stroke:none; fill-opacity:0\" cx=\"1219.44\" cy=\"131.061\" r=\"2\"/>\n",
       "<circle clip-path=\"url(#clip722)\" style=\"fill:#8be9fd; stroke:none; fill-opacity:0\" cx=\"1257.74\" cy=\"69.7317\" r=\"2\"/>\n",
       "<circle clip-path=\"url(#clip722)\" style=\"fill:#8be9fd; stroke:none; fill-opacity:0\" cx=\"1296.04\" cy=\"152.867\" r=\"2\"/>\n",
       "<circle clip-path=\"url(#clip722)\" style=\"fill:#8be9fd; stroke:none; fill-opacity:0\" cx=\"1334.34\" cy=\"121.521\" r=\"2\"/>\n",
       "<circle clip-path=\"url(#clip722)\" style=\"fill:#8be9fd; stroke:none; fill-opacity:0\" cx=\"1372.64\" cy=\"116.751\" r=\"2\"/>\n",
       "<circle clip-path=\"url(#clip722)\" style=\"fill:#8be9fd; stroke:none; fill-opacity:0\" cx=\"1410.94\" cy=\"163.089\" r=\"2\"/>\n",
       "<circle clip-path=\"url(#clip722)\" style=\"fill:#8be9fd; stroke:none; fill-opacity:0\" cx=\"1449.24\" cy=\"134.469\" r=\"2\"/>\n",
       "<circle clip-path=\"url(#clip722)\" style=\"fill:#8be9fd; stroke:none; fill-opacity:0\" cx=\"1487.54\" cy=\"110.618\" r=\"2\"/>\n",
       "<circle clip-path=\"url(#clip722)\" style=\"fill:#8be9fd; stroke:none; fill-opacity:0\" cx=\"1525.84\" cy=\"132.424\" r=\"2\"/>\n",
       "<circle clip-path=\"url(#clip722)\" style=\"fill:#8be9fd; stroke:none; fill-opacity:0\" cx=\"1564.14\" cy=\"102.441\" r=\"2\"/>\n",
       "<circle clip-path=\"url(#clip722)\" style=\"fill:#8be9fd; stroke:none; fill-opacity:0\" cx=\"1602.44\" cy=\"106.529\" r=\"2\"/>\n",
       "<circle clip-path=\"url(#clip722)\" style=\"fill:#8be9fd; stroke:none; fill-opacity:0\" cx=\"1640.74\" cy=\"214.879\" r=\"2\"/>\n",
       "<circle clip-path=\"url(#clip722)\" style=\"fill:#8be9fd; stroke:none; fill-opacity:0\" cx=\"1679.05\" cy=\"145.372\" r=\"2\"/>\n",
       "<circle clip-path=\"url(#clip722)\" style=\"fill:#8be9fd; stroke:none; fill-opacity:0\" cx=\"1717.35\" cy=\"119.477\" r=\"2\"/>\n",
       "<circle clip-path=\"url(#clip722)\" style=\"fill:#8be9fd; stroke:none; fill-opacity:0\" cx=\"1755.65\" cy=\"122.203\" r=\"2\"/>\n",
       "<circle clip-path=\"url(#clip722)\" style=\"fill:#8be9fd; stroke:none; fill-opacity:0\" cx=\"1793.95\" cy=\"120.158\" r=\"2\"/>\n",
       "<circle clip-path=\"url(#clip722)\" style=\"fill:#8be9fd; stroke:none; fill-opacity:0\" cx=\"1832.25\" cy=\"110.618\" r=\"2\"/>\n",
       "<circle clip-path=\"url(#clip722)\" style=\"fill:#8be9fd; stroke:none; fill-opacity:0\" cx=\"1870.55\" cy=\"131.743\" r=\"2\"/>\n",
       "<circle clip-path=\"url(#clip722)\" style=\"fill:#8be9fd; stroke:none; fill-opacity:0\" cx=\"1908.85\" cy=\"145.372\" r=\"2\"/>\n",
       "<circle clip-path=\"url(#clip722)\" style=\"fill:#8be9fd; stroke:none; fill-opacity:0\" cx=\"1947.15\" cy=\"121.521\" r=\"2\"/>\n",
       "<circle clip-path=\"url(#clip722)\" style=\"fill:#8be9fd; stroke:none; fill-opacity:0\" cx=\"1985.45\" cy=\"91.5378\" r=\"2\"/>\n",
       "<circle clip-path=\"url(#clip722)\" style=\"fill:#8be9fd; stroke:none; fill-opacity:0\" cx=\"2023.75\" cy=\"133.106\" r=\"2\"/>\n",
       "<circle clip-path=\"url(#clip722)\" style=\"fill:#8be9fd; stroke:none; fill-opacity:0\" cx=\"2062.05\" cy=\"98.3522\" r=\"2\"/>\n",
       "<circle clip-path=\"url(#clip722)\" style=\"fill:#8be9fd; stroke:none; fill-opacity:0\" cx=\"2100.35\" cy=\"184.214\" r=\"2\"/>\n",
       "<circle clip-path=\"url(#clip722)\" style=\"fill:#8be9fd; stroke:none; fill-opacity:0\" cx=\"2138.65\" cy=\"111.981\" r=\"2\"/>\n",
       "<circle clip-path=\"url(#clip722)\" style=\"fill:#8be9fd; stroke:none; fill-opacity:0\" cx=\"2176.96\" cy=\"154.23\" r=\"2\"/>\n",
       "<circle clip-path=\"url(#clip722)\" style=\"fill:#8be9fd; stroke:none; fill-opacity:0\" cx=\"2215.26\" cy=\"120.158\" r=\"2\"/>\n",
       "</svg>\n"
      ],
      "text/html": [
       "<?xml version=\"1.0\" encoding=\"utf-8\"?>\n",
       "<svg xmlns=\"http://www.w3.org/2000/svg\" xmlns:xlink=\"http://www.w3.org/1999/xlink\" width=\"600\" height=\"400\" viewBox=\"0 0 2400 1600\">\n",
       "<defs>\n",
       "  <clipPath id=\"clip770\">\n",
       "    <rect x=\"0\" y=\"0\" width=\"2400\" height=\"1600\"/>\n",
       "  </clipPath>\n",
       "</defs>\n",
       "<path clip-path=\"url(#clip770)\" d=\"M0 1600 L2400 1600 L2400 0 L0 0  Z\" fill=\"#282a36\" fill-rule=\"evenodd\" fill-opacity=\"1\"/>\n",
       "<defs>\n",
       "  <clipPath id=\"clip771\">\n",
       "    <rect x=\"480\" y=\"0\" width=\"1681\" height=\"1600\"/>\n",
       "  </clipPath>\n",
       "</defs>\n",
       "<path clip-path=\"url(#clip770)\" d=\"M201.019 1486.45 L2352.76 1486.45 L2352.76 47.2441 L201.019 47.2441  Z\" fill=\"#30343b\" fill-rule=\"evenodd\" fill-opacity=\"1\"/>\n",
       "<defs>\n",
       "  <clipPath id=\"clip772\">\n",
       "    <rect x=\"201\" y=\"47\" width=\"2153\" height=\"1440\"/>\n",
       "  </clipPath>\n",
       "</defs>\n",
       "<polyline clip-path=\"url(#clip772)\" style=\"stroke:#f8f8f2; stroke-linecap:round; stroke-linejoin:round; stroke-width:2; stroke-opacity:0.1; fill:none\" points=\"319.369,1486.45 319.369,47.2441 \"/>\n",
       "<polyline clip-path=\"url(#clip772)\" style=\"stroke:#f8f8f2; stroke-linecap:round; stroke-linejoin:round; stroke-width:2; stroke-opacity:0.1; fill:none\" points=\"798.128,1486.45 798.128,47.2441 \"/>\n",
       "<polyline clip-path=\"url(#clip772)\" style=\"stroke:#f8f8f2; stroke-linecap:round; stroke-linejoin:round; stroke-width:2; stroke-opacity:0.1; fill:none\" points=\"1276.89,1486.45 1276.89,47.2441 \"/>\n",
       "<polyline clip-path=\"url(#clip772)\" style=\"stroke:#f8f8f2; stroke-linecap:round; stroke-linejoin:round; stroke-width:2; stroke-opacity:0.1; fill:none\" points=\"1755.65,1486.45 1755.65,47.2441 \"/>\n",
       "<polyline clip-path=\"url(#clip772)\" style=\"stroke:#f8f8f2; stroke-linecap:round; stroke-linejoin:round; stroke-width:2; stroke-opacity:0.1; fill:none\" points=\"2234.41,1486.45 2234.41,47.2441 \"/>\n",
       "<polyline clip-path=\"url(#clip772)\" style=\"stroke:#f8f8f2; stroke-linecap:round; stroke-linejoin:round; stroke-width:2; stroke-opacity:0.1; fill:none\" points=\"201.019,1486.45 2352.76,1486.45 \"/>\n",
       "<polyline clip-path=\"url(#clip772)\" style=\"stroke:#f8f8f2; stroke-linecap:round; stroke-linejoin:round; stroke-width:2; stroke-opacity:0.1; fill:none\" points=\"201.019,1145.73 2352.76,1145.73 \"/>\n",
       "<polyline clip-path=\"url(#clip772)\" style=\"stroke:#f8f8f2; stroke-linecap:round; stroke-linejoin:round; stroke-width:2; stroke-opacity:0.1; fill:none\" points=\"201.019,805.007 2352.76,805.007 \"/>\n",
       "<polyline clip-path=\"url(#clip772)\" style=\"stroke:#f8f8f2; stroke-linecap:round; stroke-linejoin:round; stroke-width:2; stroke-opacity:0.1; fill:none\" points=\"201.019,464.286 2352.76,464.286 \"/>\n",
       "<polyline clip-path=\"url(#clip772)\" style=\"stroke:#f8f8f2; stroke-linecap:round; stroke-linejoin:round; stroke-width:2; stroke-opacity:0.1; fill:none\" points=\"201.019,123.566 2352.76,123.566 \"/>\n",
       "<polyline clip-path=\"url(#clip770)\" style=\"stroke:#f8f8f2; stroke-linecap:round; stroke-linejoin:round; stroke-width:4; stroke-opacity:1; fill:none\" points=\"201.019,1486.45 2352.76,1486.45 \"/>\n",
       "<polyline clip-path=\"url(#clip770)\" style=\"stroke:#f8f8f2; stroke-linecap:round; stroke-linejoin:round; stroke-width:4; stroke-opacity:1; fill:none\" points=\"319.369,1486.45 319.369,1467.55 \"/>\n",
       "<polyline clip-path=\"url(#clip770)\" style=\"stroke:#f8f8f2; stroke-linecap:round; stroke-linejoin:round; stroke-width:4; stroke-opacity:1; fill:none\" points=\"798.128,1486.45 798.128,1467.55 \"/>\n",
       "<polyline clip-path=\"url(#clip770)\" style=\"stroke:#f8f8f2; stroke-linecap:round; stroke-linejoin:round; stroke-width:4; stroke-opacity:1; fill:none\" points=\"1276.89,1486.45 1276.89,1467.55 \"/>\n",
       "<polyline clip-path=\"url(#clip770)\" style=\"stroke:#f8f8f2; stroke-linecap:round; stroke-linejoin:round; stroke-width:4; stroke-opacity:1; fill:none\" points=\"1755.65,1486.45 1755.65,1467.55 \"/>\n",
       "<polyline clip-path=\"url(#clip770)\" style=\"stroke:#f8f8f2; stroke-linecap:round; stroke-linejoin:round; stroke-width:4; stroke-opacity:1; fill:none\" points=\"2234.41,1486.45 2234.41,1467.55 \"/>\n",
       "<path clip-path=\"url(#clip770)\" d=\"M281.672 1517.37 Q278.061 1517.37 276.232 1520.93 Q274.427 1524.47 274.427 1531.6 Q274.427 1538.71 276.232 1542.27 Q278.061 1545.82 281.672 1545.82 Q285.306 1545.82 287.112 1542.27 Q288.941 1538.71 288.941 1531.6 Q288.941 1524.47 287.112 1520.93 Q285.306 1517.37 281.672 1517.37 M281.672 1513.66 Q287.482 1513.66 290.538 1518.27 Q293.616 1522.85 293.616 1531.6 Q293.616 1540.33 290.538 1544.94 Q287.482 1549.52 281.672 1549.52 Q275.862 1549.52 272.783 1544.94 Q269.728 1540.33 269.728 1531.6 Q269.728 1522.85 272.783 1518.27 Q275.862 1513.66 281.672 1513.66 Z\" fill=\"#f8f8f2\" fill-rule=\"nonzero\" fill-opacity=\"1\" /><path clip-path=\"url(#clip770)\" d=\"M301.834 1542.97 L306.718 1542.97 L306.718 1548.85 L301.834 1548.85 L301.834 1542.97 Z\" fill=\"#f8f8f2\" fill-rule=\"nonzero\" fill-opacity=\"1\" /><path clip-path=\"url(#clip770)\" d=\"M326.903 1517.37 Q323.292 1517.37 321.464 1520.93 Q319.658 1524.47 319.658 1531.6 Q319.658 1538.71 321.464 1542.27 Q323.292 1545.82 326.903 1545.82 Q330.538 1545.82 332.343 1542.27 Q334.172 1538.71 334.172 1531.6 Q334.172 1524.47 332.343 1520.93 Q330.538 1517.37 326.903 1517.37 M326.903 1513.66 Q332.713 1513.66 335.769 1518.27 Q338.848 1522.85 338.848 1531.6 Q338.848 1540.33 335.769 1544.94 Q332.713 1549.52 326.903 1549.52 Q321.093 1549.52 318.014 1544.94 Q314.959 1540.33 314.959 1531.6 Q314.959 1522.85 318.014 1518.27 Q321.093 1513.66 326.903 1513.66 Z\" fill=\"#f8f8f2\" fill-rule=\"nonzero\" fill-opacity=\"1\" /><path clip-path=\"url(#clip770)\" d=\"M357.065 1517.37 Q353.454 1517.37 351.625 1520.93 Q349.82 1524.47 349.82 1531.6 Q349.82 1538.71 351.625 1542.27 Q353.454 1545.82 357.065 1545.82 Q360.699 1545.82 362.505 1542.27 Q364.334 1538.71 364.334 1531.6 Q364.334 1524.47 362.505 1520.93 Q360.699 1517.37 357.065 1517.37 M357.065 1513.66 Q362.875 1513.66 365.931 1518.27 Q369.01 1522.85 369.01 1531.6 Q369.01 1540.33 365.931 1544.94 Q362.875 1549.52 357.065 1549.52 Q351.255 1549.52 348.176 1544.94 Q345.121 1540.33 345.121 1531.6 Q345.121 1522.85 348.176 1518.27 Q351.255 1513.66 357.065 1513.66 Z\" fill=\"#f8f8f2\" fill-rule=\"nonzero\" fill-opacity=\"1\" /><path clip-path=\"url(#clip770)\" d=\"M760.929 1517.37 Q757.318 1517.37 755.489 1520.93 Q753.684 1524.47 753.684 1531.6 Q753.684 1538.71 755.489 1542.27 Q757.318 1545.82 760.929 1545.82 Q764.563 1545.82 766.369 1542.27 Q768.198 1538.71 768.198 1531.6 Q768.198 1524.47 766.369 1520.93 Q764.563 1517.37 760.929 1517.37 M760.929 1513.66 Q766.739 1513.66 769.795 1518.27 Q772.874 1522.85 772.874 1531.6 Q772.874 1540.33 769.795 1544.94 Q766.739 1549.52 760.929 1549.52 Q755.119 1549.52 752.04 1544.94 Q748.985 1540.33 748.985 1531.6 Q748.985 1522.85 752.04 1518.27 Q755.119 1513.66 760.929 1513.66 Z\" fill=\"#f8f8f2\" fill-rule=\"nonzero\" fill-opacity=\"1\" /><path clip-path=\"url(#clip770)\" d=\"M781.091 1542.97 L785.975 1542.97 L785.975 1548.85 L781.091 1548.85 L781.091 1542.97 Z\" fill=\"#f8f8f2\" fill-rule=\"nonzero\" fill-opacity=\"1\" /><path clip-path=\"url(#clip770)\" d=\"M800.188 1544.91 L816.508 1544.91 L816.508 1548.85 L794.563 1548.85 L794.563 1544.91 Q797.225 1542.16 801.809 1537.53 Q806.415 1532.88 807.596 1531.53 Q809.841 1529.01 810.721 1527.27 Q811.623 1525.51 811.623 1523.82 Q811.623 1521.07 809.679 1519.33 Q807.758 1517.6 804.656 1517.6 Q802.457 1517.6 800.003 1518.36 Q797.573 1519.13 794.795 1520.68 L794.795 1515.95 Q797.619 1514.82 800.073 1514.24 Q802.526 1513.66 804.563 1513.66 Q809.934 1513.66 813.128 1516.35 Q816.322 1519.03 816.322 1523.52 Q816.322 1525.65 815.512 1527.57 Q814.725 1529.47 812.619 1532.07 Q812.04 1532.74 808.938 1535.95 Q805.836 1539.15 800.188 1544.91 Z\" fill=\"#f8f8f2\" fill-rule=\"nonzero\" fill-opacity=\"1\" /><path clip-path=\"url(#clip770)\" d=\"M826.369 1514.29 L844.725 1514.29 L844.725 1518.22 L830.651 1518.22 L830.651 1526.7 Q831.67 1526.35 832.688 1526.19 Q833.707 1526 834.725 1526 Q840.512 1526 843.892 1529.17 Q847.271 1532.34 847.271 1537.76 Q847.271 1543.34 843.799 1546.44 Q840.327 1549.52 834.008 1549.52 Q831.832 1549.52 829.563 1549.15 Q827.318 1548.78 824.91 1548.04 L824.91 1543.34 Q826.994 1544.47 829.216 1545.03 Q831.438 1545.58 833.915 1545.58 Q837.92 1545.58 840.258 1543.48 Q842.595 1541.37 842.595 1537.76 Q842.595 1534.15 840.258 1532.04 Q837.92 1529.94 833.915 1529.94 Q832.04 1529.94 830.165 1530.35 Q828.313 1530.77 826.369 1531.65 L826.369 1514.29 Z\" fill=\"#f8f8f2\" fill-rule=\"nonzero\" fill-opacity=\"1\" /><path clip-path=\"url(#clip770)\" d=\"M1239.19 1517.37 Q1235.58 1517.37 1233.75 1520.93 Q1231.95 1524.47 1231.95 1531.6 Q1231.95 1538.71 1233.75 1542.27 Q1235.58 1545.82 1239.19 1545.82 Q1242.83 1545.82 1244.63 1542.27 Q1246.46 1538.71 1246.46 1531.6 Q1246.46 1524.47 1244.63 1520.93 Q1242.83 1517.37 1239.19 1517.37 M1239.19 1513.66 Q1245 1513.66 1248.06 1518.27 Q1251.14 1522.85 1251.14 1531.6 Q1251.14 1540.33 1248.06 1544.94 Q1245 1549.52 1239.19 1549.52 Q1233.38 1549.52 1230.3 1544.94 Q1227.25 1540.33 1227.25 1531.6 Q1227.25 1522.85 1230.3 1518.27 Q1233.38 1513.66 1239.19 1513.66 Z\" fill=\"#f8f8f2\" fill-rule=\"nonzero\" fill-opacity=\"1\" /><path clip-path=\"url(#clip770)\" d=\"M1259.35 1542.97 L1264.24 1542.97 L1264.24 1548.85 L1259.35 1548.85 L1259.35 1542.97 Z\" fill=\"#f8f8f2\" fill-rule=\"nonzero\" fill-opacity=\"1\" /><path clip-path=\"url(#clip770)\" d=\"M1274.47 1514.29 L1292.83 1514.29 L1292.83 1518.22 L1278.75 1518.22 L1278.75 1526.7 Q1279.77 1526.35 1280.79 1526.19 Q1281.81 1526 1282.83 1526 Q1288.61 1526 1291.99 1529.17 Q1295.37 1532.34 1295.37 1537.76 Q1295.37 1543.34 1291.9 1546.44 Q1288.43 1549.52 1282.11 1549.52 Q1279.93 1549.52 1277.66 1549.15 Q1275.42 1548.78 1273.01 1548.04 L1273.01 1543.34 Q1275.09 1544.47 1277.32 1545.03 Q1279.54 1545.58 1282.01 1545.58 Q1286.02 1545.58 1288.36 1543.48 Q1290.7 1541.37 1290.7 1537.76 Q1290.7 1534.15 1288.36 1532.04 Q1286.02 1529.94 1282.01 1529.94 Q1280.14 1529.94 1278.26 1530.35 Q1276.41 1530.77 1274.47 1531.65 L1274.47 1514.29 Z\" fill=\"#f8f8f2\" fill-rule=\"nonzero\" fill-opacity=\"1\" /><path clip-path=\"url(#clip770)\" d=\"M1314.58 1517.37 Q1310.97 1517.37 1309.14 1520.93 Q1307.34 1524.47 1307.34 1531.6 Q1307.34 1538.71 1309.14 1542.27 Q1310.97 1545.82 1314.58 1545.82 Q1318.22 1545.82 1320.02 1542.27 Q1321.85 1538.71 1321.85 1531.6 Q1321.85 1524.47 1320.02 1520.93 Q1318.22 1517.37 1314.58 1517.37 M1314.58 1513.66 Q1320.39 1513.66 1323.45 1518.27 Q1326.53 1522.85 1326.53 1531.6 Q1326.53 1540.33 1323.45 1544.94 Q1320.39 1549.52 1314.58 1549.52 Q1308.77 1549.52 1305.7 1544.94 Q1302.64 1540.33 1302.64 1531.6 Q1302.64 1522.85 1305.7 1518.27 Q1308.77 1513.66 1314.58 1513.66 Z\" fill=\"#f8f8f2\" fill-rule=\"nonzero\" fill-opacity=\"1\" /><path clip-path=\"url(#clip770)\" d=\"M1718.45 1517.37 Q1714.84 1517.37 1713.01 1520.93 Q1711.2 1524.47 1711.2 1531.6 Q1711.2 1538.71 1713.01 1542.27 Q1714.84 1545.82 1718.45 1545.82 Q1722.08 1545.82 1723.89 1542.27 Q1725.72 1538.71 1725.72 1531.6 Q1725.72 1524.47 1723.89 1520.93 Q1722.08 1517.37 1718.45 1517.37 M1718.45 1513.66 Q1724.26 1513.66 1727.31 1518.27 Q1730.39 1522.85 1730.39 1531.6 Q1730.39 1540.33 1727.31 1544.94 Q1724.26 1549.52 1718.45 1549.52 Q1712.64 1549.52 1709.56 1544.94 Q1706.5 1540.33 1706.5 1531.6 Q1706.5 1522.85 1709.56 1518.27 Q1712.64 1513.66 1718.45 1513.66 Z\" fill=\"#f8f8f2\" fill-rule=\"nonzero\" fill-opacity=\"1\" /><path clip-path=\"url(#clip770)\" d=\"M1738.61 1542.97 L1743.49 1542.97 L1743.49 1548.85 L1738.61 1548.85 L1738.61 1542.97 Z\" fill=\"#f8f8f2\" fill-rule=\"nonzero\" fill-opacity=\"1\" /><path clip-path=\"url(#clip770)\" d=\"M1752.5 1514.29 L1774.72 1514.29 L1774.72 1516.28 L1762.17 1548.85 L1757.29 1548.85 L1769.1 1518.22 L1752.5 1518.22 L1752.5 1514.29 Z\" fill=\"#f8f8f2\" fill-rule=\"nonzero\" fill-opacity=\"1\" /><path clip-path=\"url(#clip770)\" d=\"M1783.89 1514.29 L1802.24 1514.29 L1802.24 1518.22 L1788.17 1518.22 L1788.17 1526.7 Q1789.19 1526.35 1790.21 1526.19 Q1791.23 1526 1792.24 1526 Q1798.03 1526 1801.41 1529.17 Q1804.79 1532.34 1804.79 1537.76 Q1804.79 1543.34 1801.32 1546.44 Q1797.85 1549.52 1791.53 1549.52 Q1789.35 1549.52 1787.08 1549.15 Q1784.84 1548.78 1782.43 1548.04 L1782.43 1543.34 Q1784.51 1544.47 1786.73 1545.03 Q1788.96 1545.58 1791.43 1545.58 Q1795.44 1545.58 1797.78 1543.48 Q1800.11 1541.37 1800.11 1537.76 Q1800.11 1534.15 1797.78 1532.04 Q1795.44 1529.94 1791.43 1529.94 Q1789.56 1529.94 1787.68 1530.35 Q1785.83 1530.77 1783.89 1531.65 L1783.89 1514.29 Z\" fill=\"#f8f8f2\" fill-rule=\"nonzero\" fill-opacity=\"1\" /><path clip-path=\"url(#clip770)\" d=\"M2186.48 1544.91 L2194.12 1544.91 L2194.12 1518.55 L2185.81 1520.21 L2185.81 1515.95 L2194.07 1514.29 L2198.75 1514.29 L2198.75 1544.91 L2206.39 1544.91 L2206.39 1548.85 L2186.48 1548.85 L2186.48 1544.91 Z\" fill=\"#f8f8f2\" fill-rule=\"nonzero\" fill-opacity=\"1\" /><path clip-path=\"url(#clip770)\" d=\"M2215.83 1542.97 L2220.71 1542.97 L2220.71 1548.85 L2215.83 1548.85 L2215.83 1542.97 Z\" fill=\"#f8f8f2\" fill-rule=\"nonzero\" fill-opacity=\"1\" /><path clip-path=\"url(#clip770)\" d=\"M2240.9 1517.37 Q2237.29 1517.37 2235.46 1520.93 Q2233.65 1524.47 2233.65 1531.6 Q2233.65 1538.71 2235.46 1542.27 Q2237.29 1545.82 2240.9 1545.82 Q2244.53 1545.82 2246.34 1542.27 Q2248.17 1538.71 2248.17 1531.6 Q2248.17 1524.47 2246.34 1520.93 Q2244.53 1517.37 2240.9 1517.37 M2240.9 1513.66 Q2246.71 1513.66 2249.77 1518.27 Q2252.84 1522.85 2252.84 1531.6 Q2252.84 1540.33 2249.77 1544.94 Q2246.71 1549.52 2240.9 1549.52 Q2235.09 1549.52 2232.01 1544.94 Q2228.96 1540.33 2228.96 1531.6 Q2228.96 1522.85 2232.01 1518.27 Q2235.09 1513.66 2240.9 1513.66 Z\" fill=\"#f8f8f2\" fill-rule=\"nonzero\" fill-opacity=\"1\" /><path clip-path=\"url(#clip770)\" d=\"M2271.06 1517.37 Q2267.45 1517.37 2265.62 1520.93 Q2263.82 1524.47 2263.82 1531.6 Q2263.82 1538.71 2265.62 1542.27 Q2267.45 1545.82 2271.06 1545.82 Q2274.7 1545.82 2276.5 1542.27 Q2278.33 1538.71 2278.33 1531.6 Q2278.33 1524.47 2276.5 1520.93 Q2274.7 1517.37 2271.06 1517.37 M2271.06 1513.66 Q2276.87 1513.66 2279.93 1518.27 Q2283.01 1522.85 2283.01 1531.6 Q2283.01 1540.33 2279.93 1544.94 Q2276.87 1549.52 2271.06 1549.52 Q2265.25 1549.52 2262.17 1544.94 Q2259.12 1540.33 2259.12 1531.6 Q2259.12 1522.85 2262.17 1518.27 Q2265.25 1513.66 2271.06 1513.66 Z\" fill=\"#f8f8f2\" fill-rule=\"nonzero\" fill-opacity=\"1\" /><polyline clip-path=\"url(#clip770)\" style=\"stroke:#f8f8f2; stroke-linecap:round; stroke-linejoin:round; stroke-width:4; stroke-opacity:1; fill:none\" points=\"201.019,1486.45 201.019,47.2441 \"/>\n",
       "<polyline clip-path=\"url(#clip770)\" style=\"stroke:#f8f8f2; stroke-linecap:round; stroke-linejoin:round; stroke-width:4; stroke-opacity:1; fill:none\" points=\"201.019,1486.45 219.917,1486.45 \"/>\n",
       "<polyline clip-path=\"url(#clip770)\" style=\"stroke:#f8f8f2; stroke-linecap:round; stroke-linejoin:round; stroke-width:4; stroke-opacity:1; fill:none\" points=\"201.019,1145.73 219.917,1145.73 \"/>\n",
       "<polyline clip-path=\"url(#clip770)\" style=\"stroke:#f8f8f2; stroke-linecap:round; stroke-linejoin:round; stroke-width:4; stroke-opacity:1; fill:none\" points=\"201.019,805.007 219.917,805.007 \"/>\n",
       "<polyline clip-path=\"url(#clip770)\" style=\"stroke:#f8f8f2; stroke-linecap:round; stroke-linejoin:round; stroke-width:4; stroke-opacity:1; fill:none\" points=\"201.019,464.286 219.917,464.286 \"/>\n",
       "<polyline clip-path=\"url(#clip770)\" style=\"stroke:#f8f8f2; stroke-linecap:round; stroke-linejoin:round; stroke-width:4; stroke-opacity:1; fill:none\" points=\"201.019,123.566 219.917,123.566 \"/>\n",
       "<path clip-path=\"url(#clip770)\" d=\"M153.075 1472.25 Q149.464 1472.25 147.635 1475.81 Q145.83 1479.35 145.83 1486.48 Q145.83 1493.59 147.635 1497.15 Q149.464 1500.7 153.075 1500.7 Q156.709 1500.7 158.515 1497.15 Q160.343 1493.59 160.343 1486.48 Q160.343 1479.35 158.515 1475.81 Q156.709 1472.25 153.075 1472.25 M153.075 1468.54 Q158.885 1468.54 161.941 1473.15 Q165.019 1477.73 165.019 1486.48 Q165.019 1495.21 161.941 1499.82 Q158.885 1504.4 153.075 1504.4 Q147.265 1504.4 144.186 1499.82 Q141.131 1495.21 141.131 1486.48 Q141.131 1477.73 144.186 1473.15 Q147.265 1468.54 153.075 1468.54 Z\" fill=\"#f8f8f2\" fill-rule=\"nonzero\" fill-opacity=\"1\" /><path clip-path=\"url(#clip770)\" d=\"M82.7975 1128.45 L101.154 1128.45 L101.154 1132.38 L87.0799 1132.38 L87.0799 1140.85 Q88.0984 1140.51 89.1169 1140.35 Q90.1354 1140.16 91.1539 1140.16 Q96.941 1140.16 100.321 1143.33 Q103.7 1146.5 103.7 1151.92 Q103.7 1157.5 100.228 1160.6 Q96.7558 1163.68 90.4364 1163.68 Q88.2604 1163.68 85.9919 1163.31 Q83.7466 1162.94 81.3392 1162.2 L81.3392 1157.5 Q83.4225 1158.63 85.6447 1159.19 Q87.8669 1159.74 90.3438 1159.74 Q94.3484 1159.74 96.6863 1157.64 Q99.0243 1155.53 99.0243 1151.92 Q99.0243 1148.31 96.6863 1146.2 Q94.3484 1144.1 90.3438 1144.1 Q88.4688 1144.1 86.5938 1144.51 Q84.7419 1144.93 82.7975 1145.81 L82.7975 1128.45 Z\" fill=\"#f8f8f2\" fill-rule=\"nonzero\" fill-opacity=\"1\" /><path clip-path=\"url(#clip770)\" d=\"M122.913 1131.53 Q119.302 1131.53 117.473 1135.09 Q115.668 1138.63 115.668 1145.76 Q115.668 1152.87 117.473 1156.43 Q119.302 1159.97 122.913 1159.97 Q126.547 1159.97 128.353 1156.43 Q130.182 1152.87 130.182 1145.76 Q130.182 1138.63 128.353 1135.09 Q126.547 1131.53 122.913 1131.53 M122.913 1127.82 Q128.723 1127.82 131.779 1132.43 Q134.857 1137.01 134.857 1145.76 Q134.857 1154.49 131.779 1159.1 Q128.723 1163.68 122.913 1163.68 Q117.103 1163.68 114.024 1159.1 Q110.969 1154.49 110.969 1145.76 Q110.969 1137.01 114.024 1132.43 Q117.103 1127.82 122.913 1127.82 Z\" fill=\"#f8f8f2\" fill-rule=\"nonzero\" fill-opacity=\"1\" /><path clip-path=\"url(#clip770)\" d=\"M153.075 1131.53 Q149.464 1131.53 147.635 1135.09 Q145.83 1138.63 145.83 1145.76 Q145.83 1152.87 147.635 1156.43 Q149.464 1159.97 153.075 1159.97 Q156.709 1159.97 158.515 1156.43 Q160.343 1152.87 160.343 1145.76 Q160.343 1138.63 158.515 1135.09 Q156.709 1131.53 153.075 1131.53 M153.075 1127.82 Q158.885 1127.82 161.941 1132.43 Q165.019 1137.01 165.019 1145.76 Q165.019 1154.49 161.941 1159.1 Q158.885 1163.68 153.075 1163.68 Q147.265 1163.68 144.186 1159.1 Q141.131 1154.49 141.131 1145.76 Q141.131 1137.01 144.186 1132.43 Q147.265 1127.82 153.075 1127.82 Z\" fill=\"#f8f8f2\" fill-rule=\"nonzero\" fill-opacity=\"1\" /><path clip-path=\"url(#clip770)\" d=\"M53.3995 818.352 L61.0384 818.352 L61.0384 791.986 L52.7282 793.653 L52.7282 789.393 L60.9921 787.727 L65.668 787.727 L65.668 818.352 L73.3068 818.352 L73.3068 822.287 L53.3995 822.287 L53.3995 818.352 Z\" fill=\"#f8f8f2\" fill-rule=\"nonzero\" fill-opacity=\"1\" /><path clip-path=\"url(#clip770)\" d=\"M92.7512 790.805 Q89.1401 790.805 87.3114 794.37 Q85.5058 797.912 85.5058 805.041 Q85.5058 812.148 87.3114 815.713 Q89.1401 819.254 92.7512 819.254 Q96.3854 819.254 98.1909 815.713 Q100.02 812.148 100.02 805.041 Q100.02 797.912 98.1909 794.37 Q96.3854 790.805 92.7512 790.805 M92.7512 787.102 Q98.5613 787.102 101.617 791.708 Q104.696 796.291 104.696 805.041 Q104.696 813.768 101.617 818.375 Q98.5613 822.958 92.7512 822.958 Q86.941 822.958 83.8623 818.375 Q80.8068 813.768 80.8068 805.041 Q80.8068 796.291 83.8623 791.708 Q86.941 787.102 92.7512 787.102 Z\" fill=\"#f8f8f2\" fill-rule=\"nonzero\" fill-opacity=\"1\" /><path clip-path=\"url(#clip770)\" d=\"M122.913 790.805 Q119.302 790.805 117.473 794.37 Q115.668 797.912 115.668 805.041 Q115.668 812.148 117.473 815.713 Q119.302 819.254 122.913 819.254 Q126.547 819.254 128.353 815.713 Q130.182 812.148 130.182 805.041 Q130.182 797.912 128.353 794.37 Q126.547 790.805 122.913 790.805 M122.913 787.102 Q128.723 787.102 131.779 791.708 Q134.857 796.291 134.857 805.041 Q134.857 813.768 131.779 818.375 Q128.723 822.958 122.913 822.958 Q117.103 822.958 114.024 818.375 Q110.969 813.768 110.969 805.041 Q110.969 796.291 114.024 791.708 Q117.103 787.102 122.913 787.102 Z\" fill=\"#f8f8f2\" fill-rule=\"nonzero\" fill-opacity=\"1\" /><path clip-path=\"url(#clip770)\" d=\"M153.075 790.805 Q149.464 790.805 147.635 794.37 Q145.83 797.912 145.83 805.041 Q145.83 812.148 147.635 815.713 Q149.464 819.254 153.075 819.254 Q156.709 819.254 158.515 815.713 Q160.343 812.148 160.343 805.041 Q160.343 797.912 158.515 794.37 Q156.709 790.805 153.075 790.805 M153.075 787.102 Q158.885 787.102 161.941 791.708 Q165.019 796.291 165.019 805.041 Q165.019 813.768 161.941 818.375 Q158.885 822.958 153.075 822.958 Q147.265 822.958 144.186 818.375 Q141.131 813.768 141.131 805.041 Q141.131 796.291 144.186 791.708 Q147.265 787.102 153.075 787.102 Z\" fill=\"#f8f8f2\" fill-rule=\"nonzero\" fill-opacity=\"1\" /><path clip-path=\"url(#clip770)\" d=\"M53.3995 477.631 L61.0384 477.631 L61.0384 451.265 L52.7282 452.932 L52.7282 448.673 L60.9921 447.006 L65.668 447.006 L65.668 477.631 L73.3068 477.631 L73.3068 481.566 L53.3995 481.566 L53.3995 477.631 Z\" fill=\"#f8f8f2\" fill-rule=\"nonzero\" fill-opacity=\"1\" /><path clip-path=\"url(#clip770)\" d=\"M82.7975 447.006 L101.154 447.006 L101.154 450.941 L87.0799 450.941 L87.0799 459.413 Q88.0984 459.066 89.1169 458.904 Q90.1354 458.719 91.1539 458.719 Q96.941 458.719 100.321 461.89 Q103.7 465.062 103.7 470.478 Q103.7 476.057 100.228 479.159 Q96.7558 482.237 90.4364 482.237 Q88.2604 482.237 85.9919 481.867 Q83.7466 481.497 81.3392 480.756 L81.3392 476.057 Q83.4225 477.191 85.6447 477.747 Q87.8669 478.302 90.3438 478.302 Q94.3484 478.302 96.6863 476.196 Q99.0243 474.089 99.0243 470.478 Q99.0243 466.867 96.6863 464.761 Q94.3484 462.654 90.3438 462.654 Q88.4688 462.654 86.5938 463.071 Q84.7419 463.487 82.7975 464.367 L82.7975 447.006 Z\" fill=\"#f8f8f2\" fill-rule=\"nonzero\" fill-opacity=\"1\" /><path clip-path=\"url(#clip770)\" d=\"M122.913 450.085 Q119.302 450.085 117.473 453.65 Q115.668 457.191 115.668 464.321 Q115.668 471.427 117.473 474.992 Q119.302 478.534 122.913 478.534 Q126.547 478.534 128.353 474.992 Q130.182 471.427 130.182 464.321 Q130.182 457.191 128.353 453.65 Q126.547 450.085 122.913 450.085 M122.913 446.381 Q128.723 446.381 131.779 450.988 Q134.857 455.571 134.857 464.321 Q134.857 473.048 131.779 477.654 Q128.723 482.237 122.913 482.237 Q117.103 482.237 114.024 477.654 Q110.969 473.048 110.969 464.321 Q110.969 455.571 114.024 450.988 Q117.103 446.381 122.913 446.381 Z\" fill=\"#f8f8f2\" fill-rule=\"nonzero\" fill-opacity=\"1\" /><path clip-path=\"url(#clip770)\" d=\"M153.075 450.085 Q149.464 450.085 147.635 453.65 Q145.83 457.191 145.83 464.321 Q145.83 471.427 147.635 474.992 Q149.464 478.534 153.075 478.534 Q156.709 478.534 158.515 474.992 Q160.343 471.427 160.343 464.321 Q160.343 457.191 158.515 453.65 Q156.709 450.085 153.075 450.085 M153.075 446.381 Q158.885 446.381 161.941 450.988 Q165.019 455.571 165.019 464.321 Q165.019 473.048 161.941 477.654 Q158.885 482.237 153.075 482.237 Q147.265 482.237 144.186 477.654 Q141.131 473.048 141.131 464.321 Q141.131 455.571 144.186 450.988 Q147.265 446.381 153.075 446.381 Z\" fill=\"#f8f8f2\" fill-rule=\"nonzero\" fill-opacity=\"1\" /><path clip-path=\"url(#clip770)\" d=\"M56.6171 136.91 L72.9365 136.91 L72.9365 140.846 L50.9921 140.846 L50.9921 136.91 Q53.6541 134.156 58.2375 129.526 Q62.8439 124.873 64.0245 123.531 Q66.2698 121.008 67.1494 119.272 Q68.0522 117.512 68.0522 115.822 Q68.0522 113.068 66.1078 111.332 Q64.1865 109.596 61.0847 109.596 Q58.8856 109.596 56.4319 110.36 Q54.0014 111.123 51.2236 112.674 L51.2236 107.952 Q54.0477 106.818 56.5014 106.239 Q58.955 105.661 60.9921 105.661 Q66.3624 105.661 69.5568 108.346 Q72.7513 111.031 72.7513 115.522 Q72.7513 117.651 71.9411 119.572 Q71.1541 121.471 69.0476 124.063 Q68.4689 124.734 65.367 127.952 Q62.2652 131.146 56.6171 136.91 Z\" fill=\"#f8f8f2\" fill-rule=\"nonzero\" fill-opacity=\"1\" /><path clip-path=\"url(#clip770)\" d=\"M92.7512 109.364 Q89.1401 109.364 87.3114 112.929 Q85.5058 116.471 85.5058 123.6 Q85.5058 130.707 87.3114 134.271 Q89.1401 137.813 92.7512 137.813 Q96.3854 137.813 98.1909 134.271 Q100.02 130.707 100.02 123.6 Q100.02 116.471 98.1909 112.929 Q96.3854 109.364 92.7512 109.364 M92.7512 105.661 Q98.5613 105.661 101.617 110.267 Q104.696 114.85 104.696 123.6 Q104.696 132.327 101.617 136.933 Q98.5613 141.517 92.7512 141.517 Q86.941 141.517 83.8623 136.933 Q80.8068 132.327 80.8068 123.6 Q80.8068 114.85 83.8623 110.267 Q86.941 105.661 92.7512 105.661 Z\" fill=\"#f8f8f2\" fill-rule=\"nonzero\" fill-opacity=\"1\" /><path clip-path=\"url(#clip770)\" d=\"M122.913 109.364 Q119.302 109.364 117.473 112.929 Q115.668 116.471 115.668 123.6 Q115.668 130.707 117.473 134.271 Q119.302 137.813 122.913 137.813 Q126.547 137.813 128.353 134.271 Q130.182 130.707 130.182 123.6 Q130.182 116.471 128.353 112.929 Q126.547 109.364 122.913 109.364 M122.913 105.661 Q128.723 105.661 131.779 110.267 Q134.857 114.85 134.857 123.6 Q134.857 132.327 131.779 136.933 Q128.723 141.517 122.913 141.517 Q117.103 141.517 114.024 136.933 Q110.969 132.327 110.969 123.6 Q110.969 114.85 114.024 110.267 Q117.103 105.661 122.913 105.661 Z\" fill=\"#f8f8f2\" fill-rule=\"nonzero\" fill-opacity=\"1\" /><path clip-path=\"url(#clip770)\" d=\"M153.075 109.364 Q149.464 109.364 147.635 112.929 Q145.83 116.471 145.83 123.6 Q145.83 130.707 147.635 134.271 Q149.464 137.813 153.075 137.813 Q156.709 137.813 158.515 134.271 Q160.343 130.707 160.343 123.6 Q160.343 116.471 158.515 112.929 Q156.709 109.364 153.075 109.364 M153.075 105.661 Q158.885 105.661 161.941 110.267 Q165.019 114.85 165.019 123.6 Q165.019 132.327 161.941 136.933 Q158.885 141.517 153.075 141.517 Q147.265 141.517 144.186 136.933 Q141.131 132.327 141.131 123.6 Q141.131 114.85 144.186 110.267 Q147.265 105.661 153.075 105.661 Z\" fill=\"#f8f8f2\" fill-rule=\"nonzero\" fill-opacity=\"1\" /><path clip-path=\"url(#clip772)\" d=\"M319.369 165.815 L319.369 1486.45 L357.669 1486.45 L357.669 165.815 L319.369 165.815 L319.369 165.815  Z\" fill=\"#8be9fd\" fill-rule=\"evenodd\" fill-opacity=\"1\"/>\n",
       "<polyline clip-path=\"url(#clip772)\" style=\"stroke:#f8f8f2; stroke-linecap:round; stroke-linejoin:round; stroke-width:4; stroke-opacity:1; fill:none\" points=\"319.369,165.815 319.369,1486.45 357.669,1486.45 357.669,165.815 319.369,165.815 \"/>\n",
       "<path clip-path=\"url(#clip772)\" d=\"M357.669 152.867 L357.669 1486.45 L395.97 1486.45 L395.97 152.867 L357.669 152.867 L357.669 152.867  Z\" fill=\"#8be9fd\" fill-rule=\"evenodd\" fill-opacity=\"1\"/>\n",
       "<polyline clip-path=\"url(#clip772)\" style=\"stroke:#f8f8f2; stroke-linecap:round; stroke-linejoin:round; stroke-width:4; stroke-opacity:1; fill:none\" points=\"357.669,152.867 357.669,1486.45 395.97,1486.45 395.97,152.867 357.669,152.867 \"/>\n",
       "<path clip-path=\"url(#clip772)\" d=\"M395.97 103.804 L395.97 1486.45 L434.271 1486.45 L434.271 103.804 L395.97 103.804 L395.97 103.804  Z\" fill=\"#8be9fd\" fill-rule=\"evenodd\" fill-opacity=\"1\"/>\n",
       "<polyline clip-path=\"url(#clip772)\" style=\"stroke:#f8f8f2; stroke-linecap:round; stroke-linejoin:round; stroke-width:4; stroke-opacity:1; fill:none\" points=\"395.97,103.804 395.97,1486.45 434.271,1486.45 434.271,103.804 395.97,103.804 \"/>\n",
       "<path clip-path=\"url(#clip772)\" d=\"M434.271 132.424 L434.271 1486.45 L472.572 1486.45 L472.572 132.424 L434.271 132.424 L434.271 132.424  Z\" fill=\"#8be9fd\" fill-rule=\"evenodd\" fill-opacity=\"1\"/>\n",
       "<polyline clip-path=\"url(#clip772)\" style=\"stroke:#f8f8f2; stroke-linecap:round; stroke-linejoin:round; stroke-width:4; stroke-opacity:1; fill:none\" points=\"434.271,132.424 434.271,1486.45 472.572,1486.45 472.572,132.424 434.271,132.424 \"/>\n",
       "<path clip-path=\"url(#clip772)\" d=\"M472.572 161.045 L472.572 1486.45 L510.872 1486.45 L510.872 161.045 L472.572 161.045 L472.572 161.045  Z\" fill=\"#8be9fd\" fill-rule=\"evenodd\" fill-opacity=\"1\"/>\n",
       "<polyline clip-path=\"url(#clip772)\" style=\"stroke:#f8f8f2; stroke-linecap:round; stroke-linejoin:round; stroke-width:4; stroke-opacity:1; fill:none\" points=\"472.572,161.045 472.572,1486.45 510.872,1486.45 510.872,161.045 472.572,161.045 \"/>\n",
       "<path clip-path=\"url(#clip772)\" d=\"M510.872 103.804 L510.872 1486.45 L549.173 1486.45 L549.173 103.804 L510.872 103.804 L510.872 103.804  Z\" fill=\"#8be9fd\" fill-rule=\"evenodd\" fill-opacity=\"1\"/>\n",
       "<polyline clip-path=\"url(#clip772)\" style=\"stroke:#f8f8f2; stroke-linecap:round; stroke-linejoin:round; stroke-width:4; stroke-opacity:1; fill:none\" points=\"510.872,103.804 510.872,1486.45 549.173,1486.45 549.173,103.804 510.872,103.804 \"/>\n",
       "<path clip-path=\"url(#clip772)\" d=\"M549.173 114.025 L549.173 1486.45 L587.474 1486.45 L587.474 114.025 L549.173 114.025 L549.173 114.025  Z\" fill=\"#8be9fd\" fill-rule=\"evenodd\" fill-opacity=\"1\"/>\n",
       "<polyline clip-path=\"url(#clip772)\" style=\"stroke:#f8f8f2; stroke-linecap:round; stroke-linejoin:round; stroke-width:4; stroke-opacity:1; fill:none\" points=\"549.173,114.025 549.173,1486.45 587.474,1486.45 587.474,114.025 549.173,114.025 \"/>\n",
       "<path clip-path=\"url(#clip772)\" d=\"M587.474 89.4934 L587.474 1486.45 L625.775 1486.45 L625.775 89.4934 L587.474 89.4934 L587.474 89.4934  Z\" fill=\"#8be9fd\" fill-rule=\"evenodd\" fill-opacity=\"1\"/>\n",
       "<polyline clip-path=\"url(#clip772)\" style=\"stroke:#f8f8f2; stroke-linecap:round; stroke-linejoin:round; stroke-width:4; stroke-opacity:1; fill:none\" points=\"587.474,89.4934 587.474,1486.45 625.775,1486.45 625.775,89.4934 587.474,89.4934 \"/>\n",
       "<path clip-path=\"url(#clip772)\" d=\"M625.775 116.751 L625.775 1486.45 L664.075 1486.45 L664.075 116.751 L625.775 116.751 L625.775 116.751  Z\" fill=\"#8be9fd\" fill-rule=\"evenodd\" fill-opacity=\"1\"/>\n",
       "<polyline clip-path=\"url(#clip772)\" style=\"stroke:#f8f8f2; stroke-linecap:round; stroke-linejoin:round; stroke-width:4; stroke-opacity:1; fill:none\" points=\"625.775,116.751 625.775,1486.45 664.075,1486.45 664.075,116.751 625.775,116.751 \"/>\n",
       "<path clip-path=\"url(#clip772)\" d=\"M664.075 145.372 L664.075 1486.45 L702.376 1486.45 L702.376 145.372 L664.075 145.372 L664.075 145.372  Z\" fill=\"#8be9fd\" fill-rule=\"evenodd\" fill-opacity=\"1\"/>\n",
       "<polyline clip-path=\"url(#clip772)\" style=\"stroke:#f8f8f2; stroke-linecap:round; stroke-linejoin:round; stroke-width:4; stroke-opacity:1; fill:none\" points=\"664.075,145.372 664.075,1486.45 702.376,1486.45 702.376,145.372 664.075,145.372 \"/>\n",
       "<path clip-path=\"url(#clip772)\" d=\"M702.376 101.759 L702.376 1486.45 L740.677 1486.45 L740.677 101.759 L702.376 101.759 L702.376 101.759  Z\" fill=\"#8be9fd\" fill-rule=\"evenodd\" fill-opacity=\"1\"/>\n",
       "<polyline clip-path=\"url(#clip772)\" style=\"stroke:#f8f8f2; stroke-linecap:round; stroke-linejoin:round; stroke-width:4; stroke-opacity:1; fill:none\" points=\"702.376,101.759 702.376,1486.45 740.677,1486.45 740.677,101.759 702.376,101.759 \"/>\n",
       "<path clip-path=\"url(#clip772)\" d=\"M740.677 141.964 L740.677 1486.45 L778.978 1486.45 L778.978 141.964 L740.677 141.964 L740.677 141.964  Z\" fill=\"#8be9fd\" fill-rule=\"evenodd\" fill-opacity=\"1\"/>\n",
       "<polyline clip-path=\"url(#clip772)\" style=\"stroke:#f8f8f2; stroke-linecap:round; stroke-linejoin:round; stroke-width:4; stroke-opacity:1; fill:none\" points=\"740.677,141.964 740.677,1486.45 778.978,1486.45 778.978,141.964 740.677,141.964 \"/>\n",
       "<path clip-path=\"url(#clip772)\" d=\"M778.978 126.973 L778.978 1486.45 L817.278 1486.45 L817.278 126.973 L778.978 126.973 L778.978 126.973  Z\" fill=\"#8be9fd\" fill-rule=\"evenodd\" fill-opacity=\"1\"/>\n",
       "<polyline clip-path=\"url(#clip772)\" style=\"stroke:#f8f8f2; stroke-linecap:round; stroke-linejoin:round; stroke-width:4; stroke-opacity:1; fill:none\" points=\"778.978,126.973 778.978,1486.45 817.278,1486.45 817.278,126.973 778.978,126.973 \"/>\n",
       "<path clip-path=\"url(#clip772)\" d=\"M817.278 141.964 L817.278 1486.45 L855.579 1486.45 L855.579 141.964 L817.278 141.964 L817.278 141.964  Z\" fill=\"#8be9fd\" fill-rule=\"evenodd\" fill-opacity=\"1\"/>\n",
       "<polyline clip-path=\"url(#clip772)\" style=\"stroke:#f8f8f2; stroke-linecap:round; stroke-linejoin:round; stroke-width:4; stroke-opacity:1; fill:none\" points=\"817.278,141.964 817.278,1486.45 855.579,1486.45 855.579,141.964 817.278,141.964 \"/>\n",
       "<path clip-path=\"url(#clip772)\" d=\"M855.579 47.2441 L855.579 1486.45 L893.88 1486.45 L893.88 47.2441 L855.579 47.2441 L855.579 47.2441  Z\" fill=\"#8be9fd\" fill-rule=\"evenodd\" fill-opacity=\"1\"/>\n",
       "<polyline clip-path=\"url(#clip772)\" style=\"stroke:#f8f8f2; stroke-linecap:round; stroke-linejoin:round; stroke-width:4; stroke-opacity:1; fill:none\" points=\"855.579,47.2441 855.579,1486.45 893.88,1486.45 893.88,47.2441 855.579,47.2441 \"/>\n",
       "<path clip-path=\"url(#clip772)\" d=\"M893.88 142.646 L893.88 1486.45 L932.181 1486.45 L932.181 142.646 L893.88 142.646 L893.88 142.646  Z\" fill=\"#8be9fd\" fill-rule=\"evenodd\" fill-opacity=\"1\"/>\n",
       "<polyline clip-path=\"url(#clip772)\" style=\"stroke:#f8f8f2; stroke-linecap:round; stroke-linejoin:round; stroke-width:4; stroke-opacity:1; fill:none\" points=\"893.88,142.646 893.88,1486.45 932.181,1486.45 932.181,142.646 893.88,142.646 \"/>\n",
       "<path clip-path=\"url(#clip772)\" d=\"M932.181 96.9893 L932.181 1486.45 L970.482 1486.45 L970.482 96.9893 L932.181 96.9893 L932.181 96.9893  Z\" fill=\"#8be9fd\" fill-rule=\"evenodd\" fill-opacity=\"1\"/>\n",
       "<polyline clip-path=\"url(#clip772)\" style=\"stroke:#f8f8f2; stroke-linecap:round; stroke-linejoin:round; stroke-width:4; stroke-opacity:1; fill:none\" points=\"932.181,96.9893 932.181,1486.45 970.482,1486.45 970.482,96.9893 932.181,96.9893 \"/>\n",
       "<path clip-path=\"url(#clip772)\" d=\"M970.482 63.5987 L970.482 1486.45 L1008.78 1486.45 L1008.78 63.5987 L970.482 63.5987 L970.482 63.5987  Z\" fill=\"#8be9fd\" fill-rule=\"evenodd\" fill-opacity=\"1\"/>\n",
       "<polyline clip-path=\"url(#clip772)\" style=\"stroke:#f8f8f2; stroke-linecap:round; stroke-linejoin:round; stroke-width:4; stroke-opacity:1; fill:none\" points=\"970.482,63.5987 970.482,1486.45 1008.78,1486.45 1008.78,63.5987 970.482,63.5987 \"/>\n",
       "<path clip-path=\"url(#clip772)\" d=\"M1008.78 79.9533 L1008.78 1486.45 L1047.08 1486.45 L1047.08 79.9533 L1008.78 79.9533 L1008.78 79.9533  Z\" fill=\"#8be9fd\" fill-rule=\"evenodd\" fill-opacity=\"1\"/>\n",
       "<polyline clip-path=\"url(#clip772)\" style=\"stroke:#f8f8f2; stroke-linecap:round; stroke-linejoin:round; stroke-width:4; stroke-opacity:1; fill:none\" points=\"1008.78,79.9533 1008.78,1486.45 1047.08,1486.45 1047.08,79.9533 1008.78,79.9533 \"/>\n",
       "<path clip-path=\"url(#clip772)\" d=\"M1047.08 89.4934 L1047.08 1486.45 L1085.38 1486.45 L1085.38 89.4934 L1047.08 89.4934 L1047.08 89.4934  Z\" fill=\"#8be9fd\" fill-rule=\"evenodd\" fill-opacity=\"1\"/>\n",
       "<polyline clip-path=\"url(#clip772)\" style=\"stroke:#f8f8f2; stroke-linecap:round; stroke-linejoin:round; stroke-width:4; stroke-opacity:1; fill:none\" points=\"1047.08,89.4934 1047.08,1486.45 1085.38,1486.45 1085.38,89.4934 1047.08,89.4934 \"/>\n",
       "<path clip-path=\"url(#clip772)\" d=\"M1085.38 92.9007 L1085.38 1486.45 L1123.68 1486.45 L1123.68 92.9007 L1085.38 92.9007 L1085.38 92.9007  Z\" fill=\"#8be9fd\" fill-rule=\"evenodd\" fill-opacity=\"1\"/>\n",
       "<polyline clip-path=\"url(#clip772)\" style=\"stroke:#f8f8f2; stroke-linecap:round; stroke-linejoin:round; stroke-width:4; stroke-opacity:1; fill:none\" points=\"1085.38,92.9007 1085.38,1486.45 1123.68,1486.45 1123.68,92.9007 1085.38,92.9007 \"/>\n",
       "<path clip-path=\"url(#clip772)\" d=\"M1123.68 156.956 L1123.68 1486.45 L1161.99 1486.45 L1161.99 156.956 L1123.68 156.956 L1123.68 156.956  Z\" fill=\"#8be9fd\" fill-rule=\"evenodd\" fill-opacity=\"1\"/>\n",
       "<polyline clip-path=\"url(#clip772)\" style=\"stroke:#f8f8f2; stroke-linecap:round; stroke-linejoin:round; stroke-width:4; stroke-opacity:1; fill:none\" points=\"1123.68,156.956 1123.68,1486.45 1161.99,1486.45 1161.99,156.956 1123.68,156.956 \"/>\n",
       "<path clip-path=\"url(#clip772)\" d=\"M1161.99 144.009 L1161.99 1486.45 L1200.29 1486.45 L1200.29 144.009 L1161.99 144.009 L1161.99 144.009  Z\" fill=\"#8be9fd\" fill-rule=\"evenodd\" fill-opacity=\"1\"/>\n",
       "<polyline clip-path=\"url(#clip772)\" style=\"stroke:#f8f8f2; stroke-linecap:round; stroke-linejoin:round; stroke-width:4; stroke-opacity:1; fill:none\" points=\"1161.99,144.009 1161.99,1486.45 1200.29,1486.45 1200.29,144.009 1161.99,144.009 \"/>\n",
       "<path clip-path=\"url(#clip772)\" d=\"M1200.29 131.061 L1200.29 1486.45 L1238.59 1486.45 L1238.59 131.061 L1200.29 131.061 L1200.29 131.061  Z\" fill=\"#8be9fd\" fill-rule=\"evenodd\" fill-opacity=\"1\"/>\n",
       "<polyline clip-path=\"url(#clip772)\" style=\"stroke:#f8f8f2; stroke-linecap:round; stroke-linejoin:round; stroke-width:4; stroke-opacity:1; fill:none\" points=\"1200.29,131.061 1200.29,1486.45 1238.59,1486.45 1238.59,131.061 1200.29,131.061 \"/>\n",
       "<path clip-path=\"url(#clip772)\" d=\"M1238.59 69.7317 L1238.59 1486.45 L1276.89 1486.45 L1276.89 69.7317 L1238.59 69.7317 L1238.59 69.7317  Z\" fill=\"#8be9fd\" fill-rule=\"evenodd\" fill-opacity=\"1\"/>\n",
       "<polyline clip-path=\"url(#clip772)\" style=\"stroke:#f8f8f2; stroke-linecap:round; stroke-linejoin:round; stroke-width:4; stroke-opacity:1; fill:none\" points=\"1238.59,69.7317 1238.59,1486.45 1276.89,1486.45 1276.89,69.7317 1238.59,69.7317 \"/>\n",
       "<path clip-path=\"url(#clip772)\" d=\"M1276.89 152.867 L1276.89 1486.45 L1315.19 1486.45 L1315.19 152.867 L1276.89 152.867 L1276.89 152.867  Z\" fill=\"#8be9fd\" fill-rule=\"evenodd\" fill-opacity=\"1\"/>\n",
       "<polyline clip-path=\"url(#clip772)\" style=\"stroke:#f8f8f2; stroke-linecap:round; stroke-linejoin:round; stroke-width:4; stroke-opacity:1; fill:none\" points=\"1276.89,152.867 1276.89,1486.45 1315.19,1486.45 1315.19,152.867 1276.89,152.867 \"/>\n",
       "<path clip-path=\"url(#clip772)\" d=\"M1315.19 121.521 L1315.19 1486.45 L1353.49 1486.45 L1353.49 121.521 L1315.19 121.521 L1315.19 121.521  Z\" fill=\"#8be9fd\" fill-rule=\"evenodd\" fill-opacity=\"1\"/>\n",
       "<polyline clip-path=\"url(#clip772)\" style=\"stroke:#f8f8f2; stroke-linecap:round; stroke-linejoin:round; stroke-width:4; stroke-opacity:1; fill:none\" points=\"1315.19,121.521 1315.19,1486.45 1353.49,1486.45 1353.49,121.521 1315.19,121.521 \"/>\n",
       "<path clip-path=\"url(#clip772)\" d=\"M1353.49 116.751 L1353.49 1486.45 L1391.79 1486.45 L1391.79 116.751 L1353.49 116.751 L1353.49 116.751  Z\" fill=\"#8be9fd\" fill-rule=\"evenodd\" fill-opacity=\"1\"/>\n",
       "<polyline clip-path=\"url(#clip772)\" style=\"stroke:#f8f8f2; stroke-linecap:round; stroke-linejoin:round; stroke-width:4; stroke-opacity:1; fill:none\" points=\"1353.49,116.751 1353.49,1486.45 1391.79,1486.45 1391.79,116.751 1353.49,116.751 \"/>\n",
       "<path clip-path=\"url(#clip772)\" d=\"M1391.79 163.089 L1391.79 1486.45 L1430.09 1486.45 L1430.09 163.089 L1391.79 163.089 L1391.79 163.089  Z\" fill=\"#8be9fd\" fill-rule=\"evenodd\" fill-opacity=\"1\"/>\n",
       "<polyline clip-path=\"url(#clip772)\" style=\"stroke:#f8f8f2; stroke-linecap:round; stroke-linejoin:round; stroke-width:4; stroke-opacity:1; fill:none\" points=\"1391.79,163.089 1391.79,1486.45 1430.09,1486.45 1430.09,163.089 1391.79,163.089 \"/>\n",
       "<path clip-path=\"url(#clip772)\" d=\"M1430.09 134.469 L1430.09 1486.45 L1468.39 1486.45 L1468.39 134.469 L1430.09 134.469 L1430.09 134.469  Z\" fill=\"#8be9fd\" fill-rule=\"evenodd\" fill-opacity=\"1\"/>\n",
       "<polyline clip-path=\"url(#clip772)\" style=\"stroke:#f8f8f2; stroke-linecap:round; stroke-linejoin:round; stroke-width:4; stroke-opacity:1; fill:none\" points=\"1430.09,134.469 1430.09,1486.45 1468.39,1486.45 1468.39,134.469 1430.09,134.469 \"/>\n",
       "<path clip-path=\"url(#clip772)\" d=\"M1468.39 110.618 L1468.39 1486.45 L1506.69 1486.45 L1506.69 110.618 L1468.39 110.618 L1468.39 110.618  Z\" fill=\"#8be9fd\" fill-rule=\"evenodd\" fill-opacity=\"1\"/>\n",
       "<polyline clip-path=\"url(#clip772)\" style=\"stroke:#f8f8f2; stroke-linecap:round; stroke-linejoin:round; stroke-width:4; stroke-opacity:1; fill:none\" points=\"1468.39,110.618 1468.39,1486.45 1506.69,1486.45 1506.69,110.618 1468.39,110.618 \"/>\n",
       "<path clip-path=\"url(#clip772)\" d=\"M1506.69 132.424 L1506.69 1486.45 L1544.99 1486.45 L1544.99 132.424 L1506.69 132.424 L1506.69 132.424  Z\" fill=\"#8be9fd\" fill-rule=\"evenodd\" fill-opacity=\"1\"/>\n",
       "<polyline clip-path=\"url(#clip772)\" style=\"stroke:#f8f8f2; stroke-linecap:round; stroke-linejoin:round; stroke-width:4; stroke-opacity:1; fill:none\" points=\"1506.69,132.424 1506.69,1486.45 1544.99,1486.45 1544.99,132.424 1506.69,132.424 \"/>\n",
       "<path clip-path=\"url(#clip772)\" d=\"M1544.99 102.441 L1544.99 1486.45 L1583.29 1486.45 L1583.29 102.441 L1544.99 102.441 L1544.99 102.441  Z\" fill=\"#8be9fd\" fill-rule=\"evenodd\" fill-opacity=\"1\"/>\n",
       "<polyline clip-path=\"url(#clip772)\" style=\"stroke:#f8f8f2; stroke-linecap:round; stroke-linejoin:round; stroke-width:4; stroke-opacity:1; fill:none\" points=\"1544.99,102.441 1544.99,1486.45 1583.29,1486.45 1583.29,102.441 1544.99,102.441 \"/>\n",
       "<path clip-path=\"url(#clip772)\" d=\"M1583.29 106.529 L1583.29 1486.45 L1621.59 1486.45 L1621.59 106.529 L1583.29 106.529 L1583.29 106.529  Z\" fill=\"#8be9fd\" fill-rule=\"evenodd\" fill-opacity=\"1\"/>\n",
       "<polyline clip-path=\"url(#clip772)\" style=\"stroke:#f8f8f2; stroke-linecap:round; stroke-linejoin:round; stroke-width:4; stroke-opacity:1; fill:none\" points=\"1583.29,106.529 1583.29,1486.45 1621.59,1486.45 1621.59,106.529 1583.29,106.529 \"/>\n",
       "<path clip-path=\"url(#clip772)\" d=\"M1621.59 214.879 L1621.59 1486.45 L1659.9 1486.45 L1659.9 214.879 L1621.59 214.879 L1621.59 214.879  Z\" fill=\"#8be9fd\" fill-rule=\"evenodd\" fill-opacity=\"1\"/>\n",
       "<polyline clip-path=\"url(#clip772)\" style=\"stroke:#f8f8f2; stroke-linecap:round; stroke-linejoin:round; stroke-width:4; stroke-opacity:1; fill:none\" points=\"1621.59,214.879 1621.59,1486.45 1659.9,1486.45 1659.9,214.879 1621.59,214.879 \"/>\n",
       "<path clip-path=\"url(#clip772)\" d=\"M1659.9 145.372 L1659.9 1486.45 L1698.2 1486.45 L1698.2 145.372 L1659.9 145.372 L1659.9 145.372  Z\" fill=\"#8be9fd\" fill-rule=\"evenodd\" fill-opacity=\"1\"/>\n",
       "<polyline clip-path=\"url(#clip772)\" style=\"stroke:#f8f8f2; stroke-linecap:round; stroke-linejoin:round; stroke-width:4; stroke-opacity:1; fill:none\" points=\"1659.9,145.372 1659.9,1486.45 1698.2,1486.45 1698.2,145.372 1659.9,145.372 \"/>\n",
       "<path clip-path=\"url(#clip772)\" d=\"M1698.2 119.477 L1698.2 1486.45 L1736.5 1486.45 L1736.5 119.477 L1698.2 119.477 L1698.2 119.477  Z\" fill=\"#8be9fd\" fill-rule=\"evenodd\" fill-opacity=\"1\"/>\n",
       "<polyline clip-path=\"url(#clip772)\" style=\"stroke:#f8f8f2; stroke-linecap:round; stroke-linejoin:round; stroke-width:4; stroke-opacity:1; fill:none\" points=\"1698.2,119.477 1698.2,1486.45 1736.5,1486.45 1736.5,119.477 1698.2,119.477 \"/>\n",
       "<path clip-path=\"url(#clip772)\" d=\"M1736.5 122.203 L1736.5 1486.45 L1774.8 1486.45 L1774.8 122.203 L1736.5 122.203 L1736.5 122.203  Z\" fill=\"#8be9fd\" fill-rule=\"evenodd\" fill-opacity=\"1\"/>\n",
       "<polyline clip-path=\"url(#clip772)\" style=\"stroke:#f8f8f2; stroke-linecap:round; stroke-linejoin:round; stroke-width:4; stroke-opacity:1; fill:none\" points=\"1736.5,122.203 1736.5,1486.45 1774.8,1486.45 1774.8,122.203 1736.5,122.203 \"/>\n",
       "<path clip-path=\"url(#clip772)\" d=\"M1774.8 120.158 L1774.8 1486.45 L1813.1 1486.45 L1813.1 120.158 L1774.8 120.158 L1774.8 120.158  Z\" fill=\"#8be9fd\" fill-rule=\"evenodd\" fill-opacity=\"1\"/>\n",
       "<polyline clip-path=\"url(#clip772)\" style=\"stroke:#f8f8f2; stroke-linecap:round; stroke-linejoin:round; stroke-width:4; stroke-opacity:1; fill:none\" points=\"1774.8,120.158 1774.8,1486.45 1813.1,1486.45 1813.1,120.158 1774.8,120.158 \"/>\n",
       "<path clip-path=\"url(#clip772)\" d=\"M1813.1 110.618 L1813.1 1486.45 L1851.4 1486.45 L1851.4 110.618 L1813.1 110.618 L1813.1 110.618  Z\" fill=\"#8be9fd\" fill-rule=\"evenodd\" fill-opacity=\"1\"/>\n",
       "<polyline clip-path=\"url(#clip772)\" style=\"stroke:#f8f8f2; stroke-linecap:round; stroke-linejoin:round; stroke-width:4; stroke-opacity:1; fill:none\" points=\"1813.1,110.618 1813.1,1486.45 1851.4,1486.45 1851.4,110.618 1813.1,110.618 \"/>\n",
       "<path clip-path=\"url(#clip772)\" d=\"M1851.4 131.743 L1851.4 1486.45 L1889.7 1486.45 L1889.7 131.743 L1851.4 131.743 L1851.4 131.743  Z\" fill=\"#8be9fd\" fill-rule=\"evenodd\" fill-opacity=\"1\"/>\n",
       "<polyline clip-path=\"url(#clip772)\" style=\"stroke:#f8f8f2; stroke-linecap:round; stroke-linejoin:round; stroke-width:4; stroke-opacity:1; fill:none\" points=\"1851.4,131.743 1851.4,1486.45 1889.7,1486.45 1889.7,131.743 1851.4,131.743 \"/>\n",
       "<path clip-path=\"url(#clip772)\" d=\"M1889.7 145.372 L1889.7 1486.45 L1928 1486.45 L1928 145.372 L1889.7 145.372 L1889.7 145.372  Z\" fill=\"#8be9fd\" fill-rule=\"evenodd\" fill-opacity=\"1\"/>\n",
       "<polyline clip-path=\"url(#clip772)\" style=\"stroke:#f8f8f2; stroke-linecap:round; stroke-linejoin:round; stroke-width:4; stroke-opacity:1; fill:none\" points=\"1889.7,145.372 1889.7,1486.45 1928,1486.45 1928,145.372 1889.7,145.372 \"/>\n",
       "<path clip-path=\"url(#clip772)\" d=\"M1928 121.521 L1928 1486.45 L1966.3 1486.45 L1966.3 121.521 L1928 121.521 L1928 121.521  Z\" fill=\"#8be9fd\" fill-rule=\"evenodd\" fill-opacity=\"1\"/>\n",
       "<polyline clip-path=\"url(#clip772)\" style=\"stroke:#f8f8f2; stroke-linecap:round; stroke-linejoin:round; stroke-width:4; stroke-opacity:1; fill:none\" points=\"1928,121.521 1928,1486.45 1966.3,1486.45 1966.3,121.521 1928,121.521 \"/>\n",
       "<path clip-path=\"url(#clip772)\" d=\"M1966.3 91.5378 L1966.3 1486.45 L2004.6 1486.45 L2004.6 91.5378 L1966.3 91.5378 L1966.3 91.5378  Z\" fill=\"#8be9fd\" fill-rule=\"evenodd\" fill-opacity=\"1\"/>\n",
       "<polyline clip-path=\"url(#clip772)\" style=\"stroke:#f8f8f2; stroke-linecap:round; stroke-linejoin:round; stroke-width:4; stroke-opacity:1; fill:none\" points=\"1966.3,91.5378 1966.3,1486.45 2004.6,1486.45 2004.6,91.5378 1966.3,91.5378 \"/>\n",
       "<path clip-path=\"url(#clip772)\" d=\"M2004.6 133.106 L2004.6 1486.45 L2042.9 1486.45 L2042.9 133.106 L2004.6 133.106 L2004.6 133.106  Z\" fill=\"#8be9fd\" fill-rule=\"evenodd\" fill-opacity=\"1\"/>\n",
       "<polyline clip-path=\"url(#clip772)\" style=\"stroke:#f8f8f2; stroke-linecap:round; stroke-linejoin:round; stroke-width:4; stroke-opacity:1; fill:none\" points=\"2004.6,133.106 2004.6,1486.45 2042.9,1486.45 2042.9,133.106 2004.6,133.106 \"/>\n",
       "<path clip-path=\"url(#clip772)\" d=\"M2042.9 98.3522 L2042.9 1486.45 L2081.2 1486.45 L2081.2 98.3522 L2042.9 98.3522 L2042.9 98.3522  Z\" fill=\"#8be9fd\" fill-rule=\"evenodd\" fill-opacity=\"1\"/>\n",
       "<polyline clip-path=\"url(#clip772)\" style=\"stroke:#f8f8f2; stroke-linecap:round; stroke-linejoin:round; stroke-width:4; stroke-opacity:1; fill:none\" points=\"2042.9,98.3522 2042.9,1486.45 2081.2,1486.45 2081.2,98.3522 2042.9,98.3522 \"/>\n",
       "<path clip-path=\"url(#clip772)\" d=\"M2081.2 184.214 L2081.2 1486.45 L2119.5 1486.45 L2119.5 184.214 L2081.2 184.214 L2081.2 184.214  Z\" fill=\"#8be9fd\" fill-rule=\"evenodd\" fill-opacity=\"1\"/>\n",
       "<polyline clip-path=\"url(#clip772)\" style=\"stroke:#f8f8f2; stroke-linecap:round; stroke-linejoin:round; stroke-width:4; stroke-opacity:1; fill:none\" points=\"2081.2,184.214 2081.2,1486.45 2119.5,1486.45 2119.5,184.214 2081.2,184.214 \"/>\n",
       "<path clip-path=\"url(#clip772)\" d=\"M2119.5 111.981 L2119.5 1486.45 L2157.81 1486.45 L2157.81 111.981 L2119.5 111.981 L2119.5 111.981  Z\" fill=\"#8be9fd\" fill-rule=\"evenodd\" fill-opacity=\"1\"/>\n",
       "<polyline clip-path=\"url(#clip772)\" style=\"stroke:#f8f8f2; stroke-linecap:round; stroke-linejoin:round; stroke-width:4; stroke-opacity:1; fill:none\" points=\"2119.5,111.981 2119.5,1486.45 2157.81,1486.45 2157.81,111.981 2119.5,111.981 \"/>\n",
       "<path clip-path=\"url(#clip772)\" d=\"M2157.81 154.23 L2157.81 1486.45 L2196.11 1486.45 L2196.11 154.23 L2157.81 154.23 L2157.81 154.23  Z\" fill=\"#8be9fd\" fill-rule=\"evenodd\" fill-opacity=\"1\"/>\n",
       "<polyline clip-path=\"url(#clip772)\" style=\"stroke:#f8f8f2; stroke-linecap:round; stroke-linejoin:round; stroke-width:4; stroke-opacity:1; fill:none\" points=\"2157.81,154.23 2157.81,1486.45 2196.11,1486.45 2196.11,154.23 2157.81,154.23 \"/>\n",
       "<path clip-path=\"url(#clip772)\" d=\"M2196.11 120.158 L2196.11 1486.45 L2234.41 1486.45 L2234.41 120.158 L2196.11 120.158 L2196.11 120.158  Z\" fill=\"#8be9fd\" fill-rule=\"evenodd\" fill-opacity=\"1\"/>\n",
       "<polyline clip-path=\"url(#clip772)\" style=\"stroke:#f8f8f2; stroke-linecap:round; stroke-linejoin:round; stroke-width:4; stroke-opacity:1; fill:none\" points=\"2196.11,120.158 2196.11,1486.45 2234.41,1486.45 2234.41,120.158 2196.11,120.158 \"/>\n",
       "<circle clip-path=\"url(#clip772)\" style=\"fill:#8be9fd; stroke:none; fill-opacity:0\" cx=\"338.519\" cy=\"165.815\" r=\"2\"/>\n",
       "<circle clip-path=\"url(#clip772)\" style=\"fill:#8be9fd; stroke:none; fill-opacity:0\" cx=\"376.82\" cy=\"152.867\" r=\"2\"/>\n",
       "<circle clip-path=\"url(#clip772)\" style=\"fill:#8be9fd; stroke:none; fill-opacity:0\" cx=\"415.121\" cy=\"103.804\" r=\"2\"/>\n",
       "<circle clip-path=\"url(#clip772)\" style=\"fill:#8be9fd; stroke:none; fill-opacity:0\" cx=\"453.421\" cy=\"132.424\" r=\"2\"/>\n",
       "<circle clip-path=\"url(#clip772)\" style=\"fill:#8be9fd; stroke:none; fill-opacity:0\" cx=\"491.722\" cy=\"161.045\" r=\"2\"/>\n",
       "<circle clip-path=\"url(#clip772)\" style=\"fill:#8be9fd; stroke:none; fill-opacity:0\" cx=\"530.023\" cy=\"103.804\" r=\"2\"/>\n",
       "<circle clip-path=\"url(#clip772)\" style=\"fill:#8be9fd; stroke:none; fill-opacity:0\" cx=\"568.324\" cy=\"114.025\" r=\"2\"/>\n",
       "<circle clip-path=\"url(#clip772)\" style=\"fill:#8be9fd; stroke:none; fill-opacity:0\" cx=\"606.624\" cy=\"89.4934\" r=\"2\"/>\n",
       "<circle clip-path=\"url(#clip772)\" style=\"fill:#8be9fd; stroke:none; fill-opacity:0\" cx=\"644.925\" cy=\"116.751\" r=\"2\"/>\n",
       "<circle clip-path=\"url(#clip772)\" style=\"fill:#8be9fd; stroke:none; fill-opacity:0\" cx=\"683.226\" cy=\"145.372\" r=\"2\"/>\n",
       "<circle clip-path=\"url(#clip772)\" style=\"fill:#8be9fd; stroke:none; fill-opacity:0\" cx=\"721.527\" cy=\"101.759\" r=\"2\"/>\n",
       "<circle clip-path=\"url(#clip772)\" style=\"fill:#8be9fd; stroke:none; fill-opacity:0\" cx=\"759.827\" cy=\"141.964\" r=\"2\"/>\n",
       "<circle clip-path=\"url(#clip772)\" style=\"fill:#8be9fd; stroke:none; fill-opacity:0\" cx=\"798.128\" cy=\"126.973\" r=\"2\"/>\n",
       "<circle clip-path=\"url(#clip772)\" style=\"fill:#8be9fd; stroke:none; fill-opacity:0\" cx=\"836.429\" cy=\"141.964\" r=\"2\"/>\n",
       "<circle clip-path=\"url(#clip772)\" style=\"fill:#8be9fd; stroke:none; fill-opacity:0\" cx=\"874.73\" cy=\"47.2441\" r=\"2\"/>\n",
       "<circle clip-path=\"url(#clip772)\" style=\"fill:#8be9fd; stroke:none; fill-opacity:0\" cx=\"913.03\" cy=\"142.646\" r=\"2\"/>\n",
       "<circle clip-path=\"url(#clip772)\" style=\"fill:#8be9fd; stroke:none; fill-opacity:0\" cx=\"951.331\" cy=\"96.9893\" r=\"2\"/>\n",
       "<circle clip-path=\"url(#clip772)\" style=\"fill:#8be9fd; stroke:none; fill-opacity:0\" cx=\"989.632\" cy=\"63.5987\" r=\"2\"/>\n",
       "<circle clip-path=\"url(#clip772)\" style=\"fill:#8be9fd; stroke:none; fill-opacity:0\" cx=\"1027.93\" cy=\"79.9533\" r=\"2\"/>\n",
       "<circle clip-path=\"url(#clip772)\" style=\"fill:#8be9fd; stroke:none; fill-opacity:0\" cx=\"1066.23\" cy=\"89.4934\" r=\"2\"/>\n",
       "<circle clip-path=\"url(#clip772)\" style=\"fill:#8be9fd; stroke:none; fill-opacity:0\" cx=\"1104.53\" cy=\"92.9007\" r=\"2\"/>\n",
       "<circle clip-path=\"url(#clip772)\" style=\"fill:#8be9fd; stroke:none; fill-opacity:0\" cx=\"1142.83\" cy=\"156.956\" r=\"2\"/>\n",
       "<circle clip-path=\"url(#clip772)\" style=\"fill:#8be9fd; stroke:none; fill-opacity:0\" cx=\"1181.14\" cy=\"144.009\" r=\"2\"/>\n",
       "<circle clip-path=\"url(#clip772)\" style=\"fill:#8be9fd; stroke:none; fill-opacity:0\" cx=\"1219.44\" cy=\"131.061\" r=\"2\"/>\n",
       "<circle clip-path=\"url(#clip772)\" style=\"fill:#8be9fd; stroke:none; fill-opacity:0\" cx=\"1257.74\" cy=\"69.7317\" r=\"2\"/>\n",
       "<circle clip-path=\"url(#clip772)\" style=\"fill:#8be9fd; stroke:none; fill-opacity:0\" cx=\"1296.04\" cy=\"152.867\" r=\"2\"/>\n",
       "<circle clip-path=\"url(#clip772)\" style=\"fill:#8be9fd; stroke:none; fill-opacity:0\" cx=\"1334.34\" cy=\"121.521\" r=\"2\"/>\n",
       "<circle clip-path=\"url(#clip772)\" style=\"fill:#8be9fd; stroke:none; fill-opacity:0\" cx=\"1372.64\" cy=\"116.751\" r=\"2\"/>\n",
       "<circle clip-path=\"url(#clip772)\" style=\"fill:#8be9fd; stroke:none; fill-opacity:0\" cx=\"1410.94\" cy=\"163.089\" r=\"2\"/>\n",
       "<circle clip-path=\"url(#clip772)\" style=\"fill:#8be9fd; stroke:none; fill-opacity:0\" cx=\"1449.24\" cy=\"134.469\" r=\"2\"/>\n",
       "<circle clip-path=\"url(#clip772)\" style=\"fill:#8be9fd; stroke:none; fill-opacity:0\" cx=\"1487.54\" cy=\"110.618\" r=\"2\"/>\n",
       "<circle clip-path=\"url(#clip772)\" style=\"fill:#8be9fd; stroke:none; fill-opacity:0\" cx=\"1525.84\" cy=\"132.424\" r=\"2\"/>\n",
       "<circle clip-path=\"url(#clip772)\" style=\"fill:#8be9fd; stroke:none; fill-opacity:0\" cx=\"1564.14\" cy=\"102.441\" r=\"2\"/>\n",
       "<circle clip-path=\"url(#clip772)\" style=\"fill:#8be9fd; stroke:none; fill-opacity:0\" cx=\"1602.44\" cy=\"106.529\" r=\"2\"/>\n",
       "<circle clip-path=\"url(#clip772)\" style=\"fill:#8be9fd; stroke:none; fill-opacity:0\" cx=\"1640.74\" cy=\"214.879\" r=\"2\"/>\n",
       "<circle clip-path=\"url(#clip772)\" style=\"fill:#8be9fd; stroke:none; fill-opacity:0\" cx=\"1679.05\" cy=\"145.372\" r=\"2\"/>\n",
       "<circle clip-path=\"url(#clip772)\" style=\"fill:#8be9fd; stroke:none; fill-opacity:0\" cx=\"1717.35\" cy=\"119.477\" r=\"2\"/>\n",
       "<circle clip-path=\"url(#clip772)\" style=\"fill:#8be9fd; stroke:none; fill-opacity:0\" cx=\"1755.65\" cy=\"122.203\" r=\"2\"/>\n",
       "<circle clip-path=\"url(#clip772)\" style=\"fill:#8be9fd; stroke:none; fill-opacity:0\" cx=\"1793.95\" cy=\"120.158\" r=\"2\"/>\n",
       "<circle clip-path=\"url(#clip772)\" style=\"fill:#8be9fd; stroke:none; fill-opacity:0\" cx=\"1832.25\" cy=\"110.618\" r=\"2\"/>\n",
       "<circle clip-path=\"url(#clip772)\" style=\"fill:#8be9fd; stroke:none; fill-opacity:0\" cx=\"1870.55\" cy=\"131.743\" r=\"2\"/>\n",
       "<circle clip-path=\"url(#clip772)\" style=\"fill:#8be9fd; stroke:none; fill-opacity:0\" cx=\"1908.85\" cy=\"145.372\" r=\"2\"/>\n",
       "<circle clip-path=\"url(#clip772)\" style=\"fill:#8be9fd; stroke:none; fill-opacity:0\" cx=\"1947.15\" cy=\"121.521\" r=\"2\"/>\n",
       "<circle clip-path=\"url(#clip772)\" style=\"fill:#8be9fd; stroke:none; fill-opacity:0\" cx=\"1985.45\" cy=\"91.5378\" r=\"2\"/>\n",
       "<circle clip-path=\"url(#clip772)\" style=\"fill:#8be9fd; stroke:none; fill-opacity:0\" cx=\"2023.75\" cy=\"133.106\" r=\"2\"/>\n",
       "<circle clip-path=\"url(#clip772)\" style=\"fill:#8be9fd; stroke:none; fill-opacity:0\" cx=\"2062.05\" cy=\"98.3522\" r=\"2\"/>\n",
       "<circle clip-path=\"url(#clip772)\" style=\"fill:#8be9fd; stroke:none; fill-opacity:0\" cx=\"2100.35\" cy=\"184.214\" r=\"2\"/>\n",
       "<circle clip-path=\"url(#clip772)\" style=\"fill:#8be9fd; stroke:none; fill-opacity:0\" cx=\"2138.65\" cy=\"111.981\" r=\"2\"/>\n",
       "<circle clip-path=\"url(#clip772)\" style=\"fill:#8be9fd; stroke:none; fill-opacity:0\" cx=\"2176.96\" cy=\"154.23\" r=\"2\"/>\n",
       "<circle clip-path=\"url(#clip772)\" style=\"fill:#8be9fd; stroke:none; fill-opacity:0\" cx=\"2215.26\" cy=\"120.158\" r=\"2\"/>\n",
       "</svg>\n"
      ]
     },
     "execution_count": 88,
     "metadata": {},
     "output_type": "execute_result"
    }
   ],
   "source": [
    "x = rand(10^5)\n",
    "histogram(x, bins=64, legend=false)"
   ]
  },
  {
   "cell_type": "code",
   "execution_count": 89,
   "metadata": {},
   "outputs": [
    {
     "data": {
      "text/latex": [
       "\\textbf{Normal Distribution}\n",
       "\n"
      ],
      "text/markdown": [
       "**Normal Distribution**\n"
      ],
      "text/plain": [
       "  \u001b[1mNormal Distribution\u001b[22m"
      ]
     },
     "execution_count": 89,
     "metadata": {},
     "output_type": "execute_result"
    }
   ],
   "source": [
    "md\"**Normal Distribution**\""
   ]
  },
  {
   "cell_type": "code",
   "execution_count": 90,
   "metadata": {},
   "outputs": [],
   "source": [
    "?randn;"
   ]
  },
  {
   "cell_type": "code",
   "execution_count": 91,
   "metadata": {},
   "outputs": [
    {
     "data": {
      "image/png": "[encoded data removed]",
      "image/svg+xml": [
       "<?xml version=\"1.0\" encoding=\"utf-8\"?>\n",
       "<svg xmlns=\"http://www.w3.org/2000/svg\" xmlns:xlink=\"http://www.w3.org/1999/xlink\" width=\"600\" height=\"400\" viewBox=\"0 0 2400 1600\">\n",
       "<defs>\n",
       "  <clipPath id=\"clip810\">\n",
       "    <rect x=\"0\" y=\"0\" width=\"2400\" height=\"1600\"/>\n",
       "  </clipPath>\n",
       "</defs>\n",
       "<path clip-path=\"url(#clip810)\" d=\"M0 1600 L2400 1600 L2400 0 L0 0  Z\" fill=\"#282a36\" fill-rule=\"evenodd\" fill-opacity=\"1\"/>\n",
       "<defs>\n",
       "  <clipPath id=\"clip811\">\n",
       "    <rect x=\"480\" y=\"0\" width=\"1681\" height=\"1600\"/>\n",
       "  </clipPath>\n",
       "</defs>\n",
       "<path clip-path=\"url(#clip810)\" d=\"M202.177 1486.45 L2352.76 1486.45 L2352.76 47.2441 L202.177 47.2441  Z\" fill=\"#30343b\" fill-rule=\"evenodd\" fill-opacity=\"1\"/>\n",
       "<defs>\n",
       "  <clipPath id=\"clip812\">\n",
       "    <rect x=\"202\" y=\"47\" width=\"2152\" height=\"1440\"/>\n",
       "  </clipPath>\n",
       "</defs>\n",
       "<polyline clip-path=\"url(#clip812)\" style=\"stroke:#f8f8f2; stroke-linecap:round; stroke-linejoin:round; stroke-width:2; stroke-opacity:0.1; fill:none\" points=\"479.963,1486.45 479.963,47.2441 \"/>\n",
       "<polyline clip-path=\"url(#clip812)\" style=\"stroke:#f8f8f2; stroke-linecap:round; stroke-linejoin:round; stroke-width:2; stroke-opacity:0.1; fill:none\" points=\"878.715,1486.45 878.715,47.2441 \"/>\n",
       "<polyline clip-path=\"url(#clip812)\" style=\"stroke:#f8f8f2; stroke-linecap:round; stroke-linejoin:round; stroke-width:2; stroke-opacity:0.1; fill:none\" points=\"1277.47,1486.45 1277.47,47.2441 \"/>\n",
       "<polyline clip-path=\"url(#clip812)\" style=\"stroke:#f8f8f2; stroke-linecap:round; stroke-linejoin:round; stroke-width:2; stroke-opacity:0.1; fill:none\" points=\"1676.22,1486.45 1676.22,47.2441 \"/>\n",
       "<polyline clip-path=\"url(#clip812)\" style=\"stroke:#f8f8f2; stroke-linecap:round; stroke-linejoin:round; stroke-width:2; stroke-opacity:0.1; fill:none\" points=\"2074.97,1486.45 2074.97,47.2441 \"/>\n",
       "<polyline clip-path=\"url(#clip812)\" style=\"stroke:#f8f8f2; stroke-linecap:round; stroke-linejoin:round; stroke-width:2; stroke-opacity:0.1; fill:none\" points=\"202.177,1486.45 2352.76,1486.45 \"/>\n",
       "<polyline clip-path=\"url(#clip812)\" style=\"stroke:#f8f8f2; stroke-linecap:round; stroke-linejoin:round; stroke-width:2; stroke-opacity:0.1; fill:none\" points=\"202.177,1125.84 2352.76,1125.84 \"/>\n",
       "<polyline clip-path=\"url(#clip812)\" style=\"stroke:#f8f8f2; stroke-linecap:round; stroke-linejoin:round; stroke-width:2; stroke-opacity:0.1; fill:none\" points=\"202.177,765.223 2352.76,765.223 \"/>\n",
       "<polyline clip-path=\"url(#clip812)\" style=\"stroke:#f8f8f2; stroke-linecap:round; stroke-linejoin:round; stroke-width:2; stroke-opacity:0.1; fill:none\" points=\"202.177,404.611 2352.76,404.611 \"/>\n",
       "<polyline clip-path=\"url(#clip810)\" style=\"stroke:#f8f8f2; stroke-linecap:round; stroke-linejoin:round; stroke-width:4; stroke-opacity:1; fill:none\" points=\"202.177,1486.45 2352.76,1486.45 \"/>\n",
       "<polyline clip-path=\"url(#clip810)\" style=\"stroke:#f8f8f2; stroke-linecap:round; stroke-linejoin:round; stroke-width:4; stroke-opacity:1; fill:none\" points=\"479.963,1486.45 479.963,1467.55 \"/>\n",
       "<polyline clip-path=\"url(#clip810)\" style=\"stroke:#f8f8f2; stroke-linecap:round; stroke-linejoin:round; stroke-width:4; stroke-opacity:1; fill:none\" points=\"878.715,1486.45 878.715,1467.55 \"/>\n",
       "<polyline clip-path=\"url(#clip810)\" style=\"stroke:#f8f8f2; stroke-linecap:round; stroke-linejoin:round; stroke-width:4; stroke-opacity:1; fill:none\" points=\"1277.47,1486.45 1277.47,1467.55 \"/>\n",
       "<polyline clip-path=\"url(#clip810)\" style=\"stroke:#f8f8f2; stroke-linecap:round; stroke-linejoin:round; stroke-width:4; stroke-opacity:1; fill:none\" points=\"1676.22,1486.45 1676.22,1467.55 \"/>\n",
       "<polyline clip-path=\"url(#clip810)\" style=\"stroke:#f8f8f2; stroke-linecap:round; stroke-linejoin:round; stroke-width:4; stroke-opacity:1; fill:none\" points=\"2074.97,1486.45 2074.97,1467.55 \"/>\n",
       "<path clip-path=\"url(#clip810)\" d=\"M448.864 1532.02 L478.539 1532.02 L478.539 1535.95 L448.864 1535.95 L448.864 1532.02 Z\" fill=\"#f8f8f2\" fill-rule=\"nonzero\" fill-opacity=\"1\" /><path clip-path=\"url(#clip810)\" d=\"M501.479 1518.36 L489.674 1536.81 L501.479 1536.81 L501.479 1518.36 M500.252 1514.29 L506.132 1514.29 L506.132 1536.81 L511.062 1536.81 L511.062 1540.7 L506.132 1540.7 L506.132 1548.85 L501.479 1548.85 L501.479 1540.7 L485.877 1540.7 L485.877 1536.19 L500.252 1514.29 Z\" fill=\"#f8f8f2\" fill-rule=\"nonzero\" fill-opacity=\"1\" /><path clip-path=\"url(#clip810)\" d=\"M848.657 1532.02 L878.333 1532.02 L878.333 1535.95 L848.657 1535.95 L848.657 1532.02 Z\" fill=\"#f8f8f2\" fill-rule=\"nonzero\" fill-opacity=\"1\" /><path clip-path=\"url(#clip810)\" d=\"M892.453 1544.91 L908.772 1544.91 L908.772 1548.85 L886.828 1548.85 L886.828 1544.91 Q889.49 1542.16 894.073 1537.53 Q898.68 1532.88 899.86 1531.53 Q902.106 1529.01 902.985 1527.27 Q903.888 1525.51 903.888 1523.82 Q903.888 1521.07 901.944 1519.33 Q900.022 1517.6 896.921 1517.6 Q894.722 1517.6 892.268 1518.36 Q889.837 1519.13 887.06 1520.68 L887.06 1515.95 Q889.884 1514.82 892.337 1514.24 Q894.791 1513.66 896.828 1513.66 Q902.198 1513.66 905.393 1516.35 Q908.587 1519.03 908.587 1523.52 Q908.587 1525.65 907.777 1527.57 Q906.99 1529.47 904.884 1532.07 Q904.305 1532.74 901.203 1535.95 Q898.101 1539.15 892.453 1544.91 Z\" fill=\"#f8f8f2\" fill-rule=\"nonzero\" fill-opacity=\"1\" /><path clip-path=\"url(#clip810)\" d=\"M1277.47 1517.37 Q1273.86 1517.37 1272.03 1520.93 Q1270.22 1524.47 1270.22 1531.6 Q1270.22 1538.71 1272.03 1542.27 Q1273.86 1545.82 1277.47 1545.82 Q1281.1 1545.82 1282.91 1542.27 Q1284.73 1538.71 1284.73 1531.6 Q1284.73 1524.47 1282.91 1520.93 Q1281.1 1517.37 1277.47 1517.37 M1277.47 1513.66 Q1283.28 1513.66 1286.33 1518.27 Q1289.41 1522.85 1289.41 1531.6 Q1289.41 1540.33 1286.33 1544.94 Q1283.28 1549.52 1277.47 1549.52 Q1271.66 1549.52 1268.58 1544.94 Q1265.52 1540.33 1265.52 1531.6 Q1265.52 1522.85 1268.58 1518.27 Q1271.66 1513.66 1277.47 1513.66 Z\" fill=\"#f8f8f2\" fill-rule=\"nonzero\" fill-opacity=\"1\" /><path clip-path=\"url(#clip810)\" d=\"M1670.87 1544.91 L1687.19 1544.91 L1687.19 1548.85 L1665.25 1548.85 L1665.25 1544.91 Q1667.91 1542.16 1672.49 1537.53 Q1677.1 1532.88 1678.28 1531.53 Q1680.52 1529.01 1681.4 1527.27 Q1682.31 1525.51 1682.31 1523.82 Q1682.31 1521.07 1680.36 1519.33 Q1678.44 1517.6 1675.34 1517.6 Q1673.14 1517.6 1670.69 1518.36 Q1668.26 1519.13 1665.48 1520.68 L1665.48 1515.95 Q1668.3 1514.82 1670.75 1514.24 Q1673.21 1513.66 1675.25 1513.66 Q1680.62 1513.66 1683.81 1516.35 Q1687 1519.03 1687 1523.52 Q1687 1525.65 1686.19 1527.57 Q1685.41 1529.47 1683.3 1532.07 Q1682.72 1532.74 1679.62 1535.95 Q1676.52 1539.15 1670.87 1544.91 Z\" fill=\"#f8f8f2\" fill-rule=\"nonzero\" fill-opacity=\"1\" /><path clip-path=\"url(#clip810)\" d=\"M2077.98 1518.36 L2066.17 1536.81 L2077.98 1536.81 L2077.98 1518.36 M2076.75 1514.29 L2082.63 1514.29 L2082.63 1536.81 L2087.56 1536.81 L2087.56 1540.7 L2082.63 1540.7 L2082.63 1548.85 L2077.98 1548.85 L2077.98 1540.7 L2062.38 1540.7 L2062.38 1536.19 L2076.75 1514.29 Z\" fill=\"#f8f8f2\" fill-rule=\"nonzero\" fill-opacity=\"1\" /><polyline clip-path=\"url(#clip810)\" style=\"stroke:#f8f8f2; stroke-linecap:round; stroke-linejoin:round; stroke-width:4; stroke-opacity:1; fill:none\" points=\"202.177,1486.45 202.177,47.2441 \"/>\n",
       "<polyline clip-path=\"url(#clip810)\" style=\"stroke:#f8f8f2; stroke-linecap:round; stroke-linejoin:round; stroke-width:4; stroke-opacity:1; fill:none\" points=\"202.177,1486.45 221.074,1486.45 \"/>\n",
       "<polyline clip-path=\"url(#clip810)\" style=\"stroke:#f8f8f2; stroke-linecap:round; stroke-linejoin:round; stroke-width:4; stroke-opacity:1; fill:none\" points=\"202.177,1125.84 221.074,1125.84 \"/>\n",
       "<polyline clip-path=\"url(#clip810)\" style=\"stroke:#f8f8f2; stroke-linecap:round; stroke-linejoin:round; stroke-width:4; stroke-opacity:1; fill:none\" points=\"202.177,765.223 221.074,765.223 \"/>\n",
       "<polyline clip-path=\"url(#clip810)\" style=\"stroke:#f8f8f2; stroke-linecap:round; stroke-linejoin:round; stroke-width:4; stroke-opacity:1; fill:none\" points=\"202.177,404.611 221.074,404.611 \"/>\n",
       "<path clip-path=\"url(#clip810)\" d=\"M154.232 1472.25 Q150.621 1472.25 148.793 1475.81 Q146.987 1479.35 146.987 1486.48 Q146.987 1493.59 148.793 1497.15 Q150.621 1500.7 154.232 1500.7 Q157.867 1500.7 159.672 1497.15 Q161.501 1493.59 161.501 1486.48 Q161.501 1479.35 159.672 1475.81 Q157.867 1472.25 154.232 1472.25 M154.232 1468.54 Q160.042 1468.54 163.098 1473.15 Q166.177 1477.73 166.177 1486.48 Q166.177 1495.21 163.098 1499.82 Q160.042 1504.4 154.232 1504.4 Q148.422 1504.4 145.343 1499.82 Q142.288 1495.21 142.288 1486.48 Q142.288 1477.73 145.343 1473.15 Q148.422 1468.54 154.232 1468.54 Z\" fill=\"#f8f8f2\" fill-rule=\"nonzero\" fill-opacity=\"1\" /><path clip-path=\"url(#clip810)\" d=\"M57.7745 1139.18 L74.0939 1139.18 L74.0939 1143.12 L52.1495 1143.12 L52.1495 1139.18 Q54.8115 1136.43 59.3949 1131.8 Q64.0013 1127.14 65.1819 1125.8 Q67.4272 1123.28 68.3068 1121.54 Q69.2096 1119.78 69.2096 1118.09 Q69.2096 1115.34 67.2652 1113.6 Q65.3439 1111.87 62.2421 1111.87 Q60.043 1111.87 57.5893 1112.63 Q55.1588 1113.39 52.381 1114.94 L52.381 1110.22 Q55.2051 1109.09 57.6588 1108.51 Q60.1124 1107.93 62.1495 1107.93 Q67.5198 1107.93 70.7142 1110.62 Q73.9087 1113.3 73.9087 1117.79 Q73.9087 1119.92 73.0985 1121.84 Q72.3115 1123.74 70.205 1126.33 Q69.6263 1127 66.5245 1130.22 Q63.4226 1133.42 57.7745 1139.18 Z\" fill=\"#f8f8f2\" fill-rule=\"nonzero\" fill-opacity=\"1\" /><path clip-path=\"url(#clip810)\" d=\"M93.9086 1111.63 Q90.2975 1111.63 88.4688 1115.2 Q86.6632 1118.74 86.6632 1125.87 Q86.6632 1132.98 88.4688 1136.54 Q90.2975 1140.08 93.9086 1140.08 Q97.5428 1140.08 99.3483 1136.54 Q101.177 1132.98 101.177 1125.87 Q101.177 1118.74 99.3483 1115.2 Q97.5428 1111.63 93.9086 1111.63 M93.9086 1107.93 Q99.7187 1107.93 102.774 1112.54 Q105.853 1117.12 105.853 1125.87 Q105.853 1134.6 102.774 1139.2 Q99.7187 1143.79 93.9086 1143.79 Q88.0984 1143.79 85.0197 1139.2 Q81.9642 1134.6 81.9642 1125.87 Q81.9642 1117.12 85.0197 1112.54 Q88.0984 1107.93 93.9086 1107.93 Z\" fill=\"#f8f8f2\" fill-rule=\"nonzero\" fill-opacity=\"1\" /><path clip-path=\"url(#clip810)\" d=\"M124.07 1111.63 Q120.459 1111.63 118.631 1115.2 Q116.825 1118.74 116.825 1125.87 Q116.825 1132.98 118.631 1136.54 Q120.459 1140.08 124.07 1140.08 Q127.705 1140.08 129.51 1136.54 Q131.339 1132.98 131.339 1125.87 Q131.339 1118.74 129.51 1115.2 Q127.705 1111.63 124.07 1111.63 M124.07 1107.93 Q129.881 1107.93 132.936 1112.54 Q136.015 1117.12 136.015 1125.87 Q136.015 1134.6 132.936 1139.2 Q129.881 1143.79 124.07 1143.79 Q118.26 1143.79 115.182 1139.2 Q112.126 1134.6 112.126 1125.87 Q112.126 1117.12 115.182 1112.54 Q118.26 1107.93 124.07 1107.93 Z\" fill=\"#f8f8f2\" fill-rule=\"nonzero\" fill-opacity=\"1\" /><path clip-path=\"url(#clip810)\" d=\"M154.232 1111.63 Q150.621 1111.63 148.793 1115.2 Q146.987 1118.74 146.987 1125.87 Q146.987 1132.98 148.793 1136.54 Q150.621 1140.08 154.232 1140.08 Q157.867 1140.08 159.672 1136.54 Q161.501 1132.98 161.501 1125.87 Q161.501 1118.74 159.672 1115.2 Q157.867 1111.63 154.232 1111.63 M154.232 1107.93 Q160.042 1107.93 163.098 1112.54 Q166.177 1117.12 166.177 1125.87 Q166.177 1134.6 163.098 1139.2 Q160.042 1143.79 154.232 1143.79 Q148.422 1143.79 145.343 1139.2 Q142.288 1134.6 142.288 1125.87 Q142.288 1117.12 145.343 1112.54 Q148.422 1107.93 154.232 1107.93 Z\" fill=\"#f8f8f2\" fill-rule=\"nonzero\" fill-opacity=\"1\" /><path clip-path=\"url(#clip810)\" d=\"M66.5939 752.017 L54.7884 770.466 L66.5939 770.466 L66.5939 752.017 M65.367 747.943 L71.2466 747.943 L71.2466 770.466 L76.1772 770.466 L76.1772 774.355 L71.2466 774.355 L71.2466 782.503 L66.5939 782.503 L66.5939 774.355 L50.9921 774.355 L50.9921 769.841 L65.367 747.943 Z\" fill=\"#f8f8f2\" fill-rule=\"nonzero\" fill-opacity=\"1\" /><path clip-path=\"url(#clip810)\" d=\"M93.9086 751.022 Q90.2975 751.022 88.4688 754.587 Q86.6632 758.128 86.6632 765.258 Q86.6632 772.364 88.4688 775.929 Q90.2975 779.471 93.9086 779.471 Q97.5428 779.471 99.3483 775.929 Q101.177 772.364 101.177 765.258 Q101.177 758.128 99.3483 754.587 Q97.5428 751.022 93.9086 751.022 M93.9086 747.318 Q99.7187 747.318 102.774 751.925 Q105.853 756.508 105.853 765.258 Q105.853 773.985 102.774 778.591 Q99.7187 783.175 93.9086 783.175 Q88.0984 783.175 85.0197 778.591 Q81.9642 773.985 81.9642 765.258 Q81.9642 756.508 85.0197 751.925 Q88.0984 747.318 93.9086 747.318 Z\" fill=\"#f8f8f2\" fill-rule=\"nonzero\" fill-opacity=\"1\" /><path clip-path=\"url(#clip810)\" d=\"M124.07 751.022 Q120.459 751.022 118.631 754.587 Q116.825 758.128 116.825 765.258 Q116.825 772.364 118.631 775.929 Q120.459 779.471 124.07 779.471 Q127.705 779.471 129.51 775.929 Q131.339 772.364 131.339 765.258 Q131.339 758.128 129.51 754.587 Q127.705 751.022 124.07 751.022 M124.07 747.318 Q129.881 747.318 132.936 751.925 Q136.015 756.508 136.015 765.258 Q136.015 773.985 132.936 778.591 Q129.881 783.175 124.07 783.175 Q118.26 783.175 115.182 778.591 Q112.126 773.985 112.126 765.258 Q112.126 756.508 115.182 751.925 Q118.26 747.318 124.07 747.318 Z\" fill=\"#f8f8f2\" fill-rule=\"nonzero\" fill-opacity=\"1\" /><path clip-path=\"url(#clip810)\" d=\"M154.232 751.022 Q150.621 751.022 148.793 754.587 Q146.987 758.128 146.987 765.258 Q146.987 772.364 148.793 775.929 Q150.621 779.471 154.232 779.471 Q157.867 779.471 159.672 775.929 Q161.501 772.364 161.501 765.258 Q161.501 758.128 159.672 754.587 Q157.867 751.022 154.232 751.022 M154.232 747.318 Q160.042 747.318 163.098 751.925 Q166.177 756.508 166.177 765.258 Q166.177 773.985 163.098 778.591 Q160.042 783.175 154.232 783.175 Q148.422 783.175 145.343 778.591 Q142.288 773.985 142.288 765.258 Q142.288 756.508 145.343 751.925 Q148.422 747.318 154.232 747.318 Z\" fill=\"#f8f8f2\" fill-rule=\"nonzero\" fill-opacity=\"1\" /><path clip-path=\"url(#clip810)\" d=\"M64.3254 402.747 Q61.1773 402.747 59.3254 404.9 Q57.4967 407.053 57.4967 410.803 Q57.4967 414.53 59.3254 416.706 Q61.1773 418.859 64.3254 418.859 Q67.4735 418.859 69.3022 416.706 Q71.1541 414.53 71.1541 410.803 Q71.1541 407.053 69.3022 404.9 Q67.4735 402.747 64.3254 402.747 M73.6077 388.095 L73.6077 392.354 Q71.8485 391.521 70.0429 391.081 Q68.2606 390.641 66.5013 390.641 Q61.8717 390.641 59.418 393.766 Q56.9875 396.891 56.6402 403.21 Q58.006 401.197 60.0662 400.132 Q62.1263 399.044 64.6032 399.044 Q69.8115 399.044 72.8207 402.215 Q75.8531 405.363 75.8531 410.803 Q75.8531 416.127 72.705 419.345 Q69.5568 422.562 64.3254 422.562 Q58.33 422.562 55.1588 417.979 Q51.9875 413.372 51.9875 404.646 Q51.9875 396.451 55.8764 391.59 Q59.7652 386.706 66.3161 386.706 Q68.0754 386.706 69.8578 387.053 Q71.6633 387.4 73.6077 388.095 Z\" fill=\"#f8f8f2\" fill-rule=\"nonzero\" fill-opacity=\"1\" /><path clip-path=\"url(#clip810)\" d=\"M93.9086 390.41 Q90.2975 390.41 88.4688 393.974 Q86.6632 397.516 86.6632 404.646 Q86.6632 411.752 88.4688 415.317 Q90.2975 418.859 93.9086 418.859 Q97.5428 418.859 99.3483 415.317 Q101.177 411.752 101.177 404.646 Q101.177 397.516 99.3483 393.974 Q97.5428 390.41 93.9086 390.41 M93.9086 386.706 Q99.7187 386.706 102.774 391.312 Q105.853 395.896 105.853 404.646 Q105.853 413.372 102.774 417.979 Q99.7187 422.562 93.9086 422.562 Q88.0984 422.562 85.0197 417.979 Q81.9642 413.372 81.9642 404.646 Q81.9642 395.896 85.0197 391.312 Q88.0984 386.706 93.9086 386.706 Z\" fill=\"#f8f8f2\" fill-rule=\"nonzero\" fill-opacity=\"1\" /><path clip-path=\"url(#clip810)\" d=\"M124.07 390.41 Q120.459 390.41 118.631 393.974 Q116.825 397.516 116.825 404.646 Q116.825 411.752 118.631 415.317 Q120.459 418.859 124.07 418.859 Q127.705 418.859 129.51 415.317 Q131.339 411.752 131.339 404.646 Q131.339 397.516 129.51 393.974 Q127.705 390.41 124.07 390.41 M124.07 386.706 Q129.881 386.706 132.936 391.312 Q136.015 395.896 136.015 404.646 Q136.015 413.372 132.936 417.979 Q129.881 422.562 124.07 422.562 Q118.26 422.562 115.182 417.979 Q112.126 413.372 112.126 404.646 Q112.126 395.896 115.182 391.312 Q118.26 386.706 124.07 386.706 Z\" fill=\"#f8f8f2\" fill-rule=\"nonzero\" fill-opacity=\"1\" /><path clip-path=\"url(#clip810)\" d=\"M154.232 390.41 Q150.621 390.41 148.793 393.974 Q146.987 397.516 146.987 404.646 Q146.987 411.752 148.793 415.317 Q150.621 418.859 154.232 418.859 Q157.867 418.859 159.672 415.317 Q161.501 411.752 161.501 404.646 Q161.501 397.516 159.672 393.974 Q157.867 390.41 154.232 390.41 M154.232 386.706 Q160.042 386.706 163.098 391.312 Q166.177 395.896 166.177 404.646 Q166.177 413.372 163.098 417.979 Q160.042 422.562 154.232 422.562 Q148.422 422.562 145.343 417.979 Q142.288 413.372 142.288 404.646 Q142.288 395.896 145.343 391.312 Q148.422 386.706 154.232 386.706 Z\" fill=\"#f8f8f2\" fill-rule=\"nonzero\" fill-opacity=\"1\" /><path clip-path=\"url(#clip812)\" d=\"M320.462 1486.27 L320.462 1486.45 L360.338 1486.45 L360.338 1486.27 L320.462 1486.27 L320.462 1486.27  Z\" fill=\"#8be9fd\" fill-rule=\"evenodd\" fill-opacity=\"1\"/>\n",
       "<polyline clip-path=\"url(#clip812)\" style=\"stroke:#f8f8f2; stroke-linecap:round; stroke-linejoin:round; stroke-width:4; stroke-opacity:1; fill:none\" points=\"320.462,1486.27 320.462,1486.45 360.338,1486.45 360.338,1486.27 320.462,1486.27 \"/>\n",
       "<path clip-path=\"url(#clip812)\" d=\"M360.338 1486.27 L360.338 1486.45 L400.213 1486.45 L400.213 1486.27 L360.338 1486.27 L360.338 1486.27  Z\" fill=\"#8be9fd\" fill-rule=\"evenodd\" fill-opacity=\"1\"/>\n",
       "<polyline clip-path=\"url(#clip812)\" style=\"stroke:#f8f8f2; stroke-linecap:round; stroke-linejoin:round; stroke-width:4; stroke-opacity:1; fill:none\" points=\"360.338,1486.27 360.338,1486.45 400.213,1486.45 400.213,1486.27 360.338,1486.27 \"/>\n",
       "<path clip-path=\"url(#clip812)\" d=\"M400.213 1486.27 L400.213 1486.45 L440.088 1486.45 L440.088 1486.27 L400.213 1486.27 L400.213 1486.27  Z\" fill=\"#8be9fd\" fill-rule=\"evenodd\" fill-opacity=\"1\"/>\n",
       "<polyline clip-path=\"url(#clip812)\" style=\"stroke:#f8f8f2; stroke-linecap:round; stroke-linejoin:round; stroke-width:4; stroke-opacity:1; fill:none\" points=\"400.213,1486.27 400.213,1486.45 440.088,1486.45 440.088,1486.27 400.213,1486.27 \"/>\n",
       "<path clip-path=\"url(#clip812)\" d=\"M440.088 1486.27 L440.088 1486.45 L479.963 1486.45 L479.963 1486.27 L440.088 1486.27 L440.088 1486.27  Z\" fill=\"#8be9fd\" fill-rule=\"evenodd\" fill-opacity=\"1\"/>\n",
       "<polyline clip-path=\"url(#clip812)\" style=\"stroke:#f8f8f2; stroke-linecap:round; stroke-linejoin:round; stroke-width:4; stroke-opacity:1; fill:none\" points=\"440.088,1486.27 440.088,1486.45 479.963,1486.45 479.963,1486.27 440.088,1486.27 \"/>\n",
       "<path clip-path=\"url(#clip812)\" d=\"M479.963 1485.91 L479.963 1486.45 L519.838 1486.45 L519.838 1485.91 L479.963 1485.91 L479.963 1485.91  Z\" fill=\"#8be9fd\" fill-rule=\"evenodd\" fill-opacity=\"1\"/>\n",
       "<polyline clip-path=\"url(#clip812)\" style=\"stroke:#f8f8f2; stroke-linecap:round; stroke-linejoin:round; stroke-width:4; stroke-opacity:1; fill:none\" points=\"479.963,1485.91 479.963,1486.45 519.838,1486.45 519.838,1485.91 479.963,1485.91 \"/>\n",
       "<path clip-path=\"url(#clip812)\" d=\"M519.838 1485.37 L519.838 1486.45 L559.713 1486.45 L559.713 1485.37 L519.838 1485.37 L519.838 1485.37  Z\" fill=\"#8be9fd\" fill-rule=\"evenodd\" fill-opacity=\"1\"/>\n",
       "<polyline clip-path=\"url(#clip812)\" style=\"stroke:#f8f8f2; stroke-linecap:round; stroke-linejoin:round; stroke-width:4; stroke-opacity:1; fill:none\" points=\"519.838,1485.37 519.838,1486.45 559.713,1486.45 559.713,1485.37 519.838,1485.37 \"/>\n",
       "<path clip-path=\"url(#clip812)\" d=\"M559.713 1484.1 L559.713 1486.45 L599.589 1486.45 L599.589 1484.1 L559.713 1484.1 L559.713 1484.1  Z\" fill=\"#8be9fd\" fill-rule=\"evenodd\" fill-opacity=\"1\"/>\n",
       "<polyline clip-path=\"url(#clip812)\" style=\"stroke:#f8f8f2; stroke-linecap:round; stroke-linejoin:round; stroke-width:4; stroke-opacity:1; fill:none\" points=\"559.713,1484.1 559.713,1486.45 599.589,1486.45 599.589,1484.1 559.713,1484.1 \"/>\n",
       "<path clip-path=\"url(#clip812)\" d=\"M599.589 1481.22 L599.589 1486.45 L639.464 1486.45 L639.464 1481.22 L599.589 1481.22 L599.589 1481.22  Z\" fill=\"#8be9fd\" fill-rule=\"evenodd\" fill-opacity=\"1\"/>\n",
       "<polyline clip-path=\"url(#clip812)\" style=\"stroke:#f8f8f2; stroke-linecap:round; stroke-linejoin:round; stroke-width:4; stroke-opacity:1; fill:none\" points=\"599.589,1481.22 599.589,1486.45 639.464,1486.45 639.464,1481.22 599.589,1481.22 \"/>\n",
       "<path clip-path=\"url(#clip812)\" d=\"M639.464 1472.02 L639.464 1486.45 L679.339 1486.45 L679.339 1472.02 L639.464 1472.02 L639.464 1472.02  Z\" fill=\"#8be9fd\" fill-rule=\"evenodd\" fill-opacity=\"1\"/>\n",
       "<polyline clip-path=\"url(#clip812)\" style=\"stroke:#f8f8f2; stroke-linecap:round; stroke-linejoin:round; stroke-width:4; stroke-opacity:1; fill:none\" points=\"639.464,1472.02 639.464,1486.45 679.339,1486.45 679.339,1472.02 639.464,1472.02 \"/>\n",
       "<path clip-path=\"url(#clip812)\" d=\"M679.339 1466.43 L679.339 1486.45 L719.214 1486.45 L719.214 1466.43 L679.339 1466.43 L679.339 1466.43  Z\" fill=\"#8be9fd\" fill-rule=\"evenodd\" fill-opacity=\"1\"/>\n",
       "<polyline clip-path=\"url(#clip812)\" style=\"stroke:#f8f8f2; stroke-linecap:round; stroke-linejoin:round; stroke-width:4; stroke-opacity:1; fill:none\" points=\"679.339,1466.43 679.339,1486.45 719.214,1486.45 719.214,1466.43 679.339,1466.43 \"/>\n",
       "<path clip-path=\"url(#clip812)\" d=\"M719.214 1449.67 L719.214 1486.45 L759.089 1486.45 L759.089 1449.67 L719.214 1449.67 L719.214 1449.67  Z\" fill=\"#8be9fd\" fill-rule=\"evenodd\" fill-opacity=\"1\"/>\n",
       "<polyline clip-path=\"url(#clip812)\" style=\"stroke:#f8f8f2; stroke-linecap:round; stroke-linejoin:round; stroke-width:4; stroke-opacity:1; fill:none\" points=\"719.214,1449.67 719.214,1486.45 759.089,1486.45 759.089,1449.67 719.214,1449.67 \"/>\n",
       "<path clip-path=\"url(#clip812)\" d=\"M759.089 1420.82 L759.089 1486.45 L798.964 1486.45 L798.964 1420.82 L759.089 1420.82 L759.089 1420.82  Z\" fill=\"#8be9fd\" fill-rule=\"evenodd\" fill-opacity=\"1\"/>\n",
       "<polyline clip-path=\"url(#clip812)\" style=\"stroke:#f8f8f2; stroke-linecap:round; stroke-linejoin:round; stroke-width:4; stroke-opacity:1; fill:none\" points=\"759.089,1420.82 759.089,1486.45 798.964,1486.45 798.964,1420.82 759.089,1420.82 \"/>\n",
       "<path clip-path=\"url(#clip812)\" d=\"M798.964 1383.13 L798.964 1486.45 L838.84 1486.45 L838.84 1383.13 L798.964 1383.13 L798.964 1383.13  Z\" fill=\"#8be9fd\" fill-rule=\"evenodd\" fill-opacity=\"1\"/>\n",
       "<polyline clip-path=\"url(#clip812)\" style=\"stroke:#f8f8f2; stroke-linecap:round; stroke-linejoin:round; stroke-width:4; stroke-opacity:1; fill:none\" points=\"798.964,1383.13 798.964,1486.45 838.84,1486.45 838.84,1383.13 798.964,1383.13 \"/>\n",
       "<path clip-path=\"url(#clip812)\" d=\"M838.84 1325.43 L838.84 1486.45 L878.715 1486.45 L878.715 1325.43 L838.84 1325.43 L838.84 1325.43  Z\" fill=\"#8be9fd\" fill-rule=\"evenodd\" fill-opacity=\"1\"/>\n",
       "<polyline clip-path=\"url(#clip812)\" style=\"stroke:#f8f8f2; stroke-linecap:round; stroke-linejoin:round; stroke-width:4; stroke-opacity:1; fill:none\" points=\"838.84,1325.43 838.84,1486.45 878.715,1486.45 878.715,1325.43 838.84,1325.43 \"/>\n",
       "<path clip-path=\"url(#clip812)\" d=\"M878.715 1245.02 L878.715 1486.45 L918.59 1486.45 L918.59 1245.02 L878.715 1245.02 L878.715 1245.02  Z\" fill=\"#8be9fd\" fill-rule=\"evenodd\" fill-opacity=\"1\"/>\n",
       "<polyline clip-path=\"url(#clip812)\" style=\"stroke:#f8f8f2; stroke-linecap:round; stroke-linejoin:round; stroke-width:4; stroke-opacity:1; fill:none\" points=\"878.715,1245.02 878.715,1486.45 918.59,1486.45 918.59,1245.02 878.715,1245.02 \"/>\n",
       "<path clip-path=\"url(#clip812)\" d=\"M918.59 1149.1 L918.59 1486.45 L958.465 1486.45 L958.465 1149.1 L918.59 1149.1 L918.59 1149.1  Z\" fill=\"#8be9fd\" fill-rule=\"evenodd\" fill-opacity=\"1\"/>\n",
       "<polyline clip-path=\"url(#clip812)\" style=\"stroke:#f8f8f2; stroke-linecap:round; stroke-linejoin:round; stroke-width:4; stroke-opacity:1; fill:none\" points=\"918.59,1149.1 918.59,1486.45 958.465,1486.45 958.465,1149.1 918.59,1149.1 \"/>\n",
       "<path clip-path=\"url(#clip812)\" d=\"M958.465 1039.47 L958.465 1486.45 L998.34 1486.45 L998.34 1039.47 L958.465 1039.47 L958.465 1039.47  Z\" fill=\"#8be9fd\" fill-rule=\"evenodd\" fill-opacity=\"1\"/>\n",
       "<polyline clip-path=\"url(#clip812)\" style=\"stroke:#f8f8f2; stroke-linecap:round; stroke-linejoin:round; stroke-width:4; stroke-opacity:1; fill:none\" points=\"958.465,1039.47 958.465,1486.45 998.34,1486.45 998.34,1039.47 958.465,1039.47 \"/>\n",
       "<path clip-path=\"url(#clip812)\" d=\"M998.34 847.803 L998.34 1486.45 L1038.22 1486.45 L1038.22 847.803 L998.34 847.803 L998.34 847.803  Z\" fill=\"#8be9fd\" fill-rule=\"evenodd\" fill-opacity=\"1\"/>\n",
       "<polyline clip-path=\"url(#clip812)\" style=\"stroke:#f8f8f2; stroke-linecap:round; stroke-linejoin:round; stroke-width:4; stroke-opacity:1; fill:none\" points=\"998.34,847.803 998.34,1486.45 1038.22,1486.45 1038.22,847.803 998.34,847.803 \"/>\n",
       "<path clip-path=\"url(#clip812)\" d=\"M1038.22 710.59 L1038.22 1486.45 L1078.09 1486.45 L1078.09 710.59 L1038.22 710.59 L1038.22 710.59  Z\" fill=\"#8be9fd\" fill-rule=\"evenodd\" fill-opacity=\"1\"/>\n",
       "<polyline clip-path=\"url(#clip812)\" style=\"stroke:#f8f8f2; stroke-linecap:round; stroke-linejoin:round; stroke-width:4; stroke-opacity:1; fill:none\" points=\"1038.22,710.59 1038.22,1486.45 1078.09,1486.45 1078.09,710.59 1038.22,710.59 \"/>\n",
       "<path clip-path=\"url(#clip812)\" d=\"M1078.09 513.155 L1078.09 1486.45 L1117.97 1486.45 L1117.97 513.155 L1078.09 513.155 L1078.09 513.155  Z\" fill=\"#8be9fd\" fill-rule=\"evenodd\" fill-opacity=\"1\"/>\n",
       "<polyline clip-path=\"url(#clip812)\" style=\"stroke:#f8f8f2; stroke-linecap:round; stroke-linejoin:round; stroke-width:4; stroke-opacity:1; fill:none\" points=\"1078.09,513.155 1078.09,1486.45 1117.97,1486.45 1117.97,513.155 1078.09,513.155 \"/>\n",
       "<path clip-path=\"url(#clip812)\" d=\"M1117.97 351.24 L1117.97 1486.45 L1157.84 1486.45 L1157.84 351.24 L1117.97 351.24 L1117.97 351.24  Z\" fill=\"#8be9fd\" fill-rule=\"evenodd\" fill-opacity=\"1\"/>\n",
       "<polyline clip-path=\"url(#clip812)\" style=\"stroke:#f8f8f2; stroke-linecap:round; stroke-linejoin:round; stroke-width:4; stroke-opacity:1; fill:none\" points=\"1117.97,351.24 1117.97,1486.45 1157.84,1486.45 1157.84,351.24 1117.97,351.24 \"/>\n",
       "<path clip-path=\"url(#clip812)\" d=\"M1157.84 234.402 L1157.84 1486.45 L1197.72 1486.45 L1197.72 234.402 L1157.84 234.402 L1157.84 234.402  Z\" fill=\"#8be9fd\" fill-rule=\"evenodd\" fill-opacity=\"1\"/>\n",
       "<polyline clip-path=\"url(#clip812)\" style=\"stroke:#f8f8f2; stroke-linecap:round; stroke-linejoin:round; stroke-width:4; stroke-opacity:1; fill:none\" points=\"1157.84,234.402 1157.84,1486.45 1197.72,1486.45 1197.72,234.402 1157.84,234.402 \"/>\n",
       "<path clip-path=\"url(#clip812)\" d=\"M1197.72 94.1237 L1197.72 1486.45 L1237.59 1486.45 L1237.59 94.1237 L1197.72 94.1237 L1197.72 94.1237  Z\" fill=\"#8be9fd\" fill-rule=\"evenodd\" fill-opacity=\"1\"/>\n",
       "<polyline clip-path=\"url(#clip812)\" style=\"stroke:#f8f8f2; stroke-linecap:round; stroke-linejoin:round; stroke-width:4; stroke-opacity:1; fill:none\" points=\"1197.72,94.1237 1197.72,1486.45 1237.59,1486.45 1237.59,94.1237 1197.72,94.1237 \"/>\n",
       "<path clip-path=\"url(#clip812)\" d=\"M1237.59 47.2441 L1237.59 1486.45 L1277.47 1486.45 L1277.47 47.2441 L1237.59 47.2441 L1237.59 47.2441  Z\" fill=\"#8be9fd\" fill-rule=\"evenodd\" fill-opacity=\"1\"/>\n",
       "<polyline clip-path=\"url(#clip812)\" style=\"stroke:#f8f8f2; stroke-linecap:round; stroke-linejoin:round; stroke-width:4; stroke-opacity:1; fill:none\" points=\"1237.59,47.2441 1237.59,1486.45 1277.47,1486.45 1277.47,47.2441 1237.59,47.2441 \"/>\n",
       "<path clip-path=\"url(#clip812)\" d=\"M1277.47 73.0279 L1277.47 1486.45 L1317.34 1486.45 L1317.34 73.0279 L1277.47 73.0279 L1277.47 73.0279  Z\" fill=\"#8be9fd\" fill-rule=\"evenodd\" fill-opacity=\"1\"/>\n",
       "<polyline clip-path=\"url(#clip812)\" style=\"stroke:#f8f8f2; stroke-linecap:round; stroke-linejoin:round; stroke-width:4; stroke-opacity:1; fill:none\" points=\"1277.47,73.0279 1277.47,1486.45 1317.34,1486.45 1317.34,73.0279 1277.47,73.0279 \"/>\n",
       "<path clip-path=\"url(#clip812)\" d=\"M1317.34 120.268 L1317.34 1486.45 L1357.22 1486.45 L1357.22 120.268 L1317.34 120.268 L1317.34 120.268  Z\" fill=\"#8be9fd\" fill-rule=\"evenodd\" fill-opacity=\"1\"/>\n",
       "<polyline clip-path=\"url(#clip812)\" style=\"stroke:#f8f8f2; stroke-linecap:round; stroke-linejoin:round; stroke-width:4; stroke-opacity:1; fill:none\" points=\"1317.34,120.268 1317.34,1486.45 1357.22,1486.45 1357.22,120.268 1317.34,120.268 \"/>\n",
       "<path clip-path=\"url(#clip812)\" d=\"M1357.22 226.829 L1357.22 1486.45 L1397.09 1486.45 L1397.09 226.829 L1357.22 226.829 L1357.22 226.829  Z\" fill=\"#8be9fd\" fill-rule=\"evenodd\" fill-opacity=\"1\"/>\n",
       "<polyline clip-path=\"url(#clip812)\" style=\"stroke:#f8f8f2; stroke-linecap:round; stroke-linejoin:round; stroke-width:4; stroke-opacity:1; fill:none\" points=\"1357.22,226.829 1357.22,1486.45 1397.09,1486.45 1397.09,226.829 1357.22,226.829 \"/>\n",
       "<path clip-path=\"url(#clip812)\" d=\"M1397.09 376.303 L1397.09 1486.45 L1436.97 1486.45 L1436.97 376.303 L1397.09 376.303 L1397.09 376.303  Z\" fill=\"#8be9fd\" fill-rule=\"evenodd\" fill-opacity=\"1\"/>\n",
       "<polyline clip-path=\"url(#clip812)\" style=\"stroke:#f8f8f2; stroke-linecap:round; stroke-linejoin:round; stroke-width:4; stroke-opacity:1; fill:none\" points=\"1397.09,376.303 1397.09,1486.45 1436.97,1486.45 1436.97,376.303 1397.09,376.303 \"/>\n",
       "<path clip-path=\"url(#clip812)\" d=\"M1436.97 517.302 L1436.97 1486.45 L1476.84 1486.45 L1476.84 517.302 L1436.97 517.302 L1436.97 517.302  Z\" fill=\"#8be9fd\" fill-rule=\"evenodd\" fill-opacity=\"1\"/>\n",
       "<polyline clip-path=\"url(#clip812)\" style=\"stroke:#f8f8f2; stroke-linecap:round; stroke-linejoin:round; stroke-width:4; stroke-opacity:1; fill:none\" points=\"1436.97,517.302 1436.97,1486.45 1476.84,1486.45 1476.84,517.302 1436.97,517.302 \"/>\n",
       "<path clip-path=\"url(#clip812)\" d=\"M1476.84 689.314 L1476.84 1486.45 L1516.72 1486.45 L1516.72 689.314 L1476.84 689.314 L1476.84 689.314  Z\" fill=\"#8be9fd\" fill-rule=\"evenodd\" fill-opacity=\"1\"/>\n",
       "<polyline clip-path=\"url(#clip812)\" style=\"stroke:#f8f8f2; stroke-linecap:round; stroke-linejoin:round; stroke-width:4; stroke-opacity:1; fill:none\" points=\"1476.84,689.314 1476.84,1486.45 1516.72,1486.45 1516.72,689.314 1476.84,689.314 \"/>\n",
       "<path clip-path=\"url(#clip812)\" d=\"M1516.72 866.916 L1516.72 1486.45 L1556.59 1486.45 L1556.59 866.916 L1516.72 866.916 L1516.72 866.916  Z\" fill=\"#8be9fd\" fill-rule=\"evenodd\" fill-opacity=\"1\"/>\n",
       "<polyline clip-path=\"url(#clip812)\" style=\"stroke:#f8f8f2; stroke-linecap:round; stroke-linejoin:round; stroke-width:4; stroke-opacity:1; fill:none\" points=\"1516.72,866.916 1516.72,1486.45 1556.59,1486.45 1556.59,866.916 1516.72,866.916 \"/>\n",
       "<path clip-path=\"url(#clip812)\" d=\"M1556.59 1028.11 L1556.59 1486.45 L1596.47 1486.45 L1596.47 1028.11 L1556.59 1028.11 L1556.59 1028.11  Z\" fill=\"#8be9fd\" fill-rule=\"evenodd\" fill-opacity=\"1\"/>\n",
       "<polyline clip-path=\"url(#clip812)\" style=\"stroke:#f8f8f2; stroke-linecap:round; stroke-linejoin:round; stroke-width:4; stroke-opacity:1; fill:none\" points=\"1556.59,1028.11 1556.59,1486.45 1596.47,1486.45 1596.47,1028.11 1556.59,1028.11 \"/>\n",
       "<path clip-path=\"url(#clip812)\" d=\"M1596.47 1144.05 L1596.47 1486.45 L1636.34 1486.45 L1636.34 1144.05 L1596.47 1144.05 L1596.47 1144.05  Z\" fill=\"#8be9fd\" fill-rule=\"evenodd\" fill-opacity=\"1\"/>\n",
       "<polyline clip-path=\"url(#clip812)\" style=\"stroke:#f8f8f2; stroke-linecap:round; stroke-linejoin:round; stroke-width:4; stroke-opacity:1; fill:none\" points=\"1596.47,1144.05 1596.47,1486.45 1636.34,1486.45 1636.34,1144.05 1596.47,1144.05 \"/>\n",
       "<path clip-path=\"url(#clip812)\" d=\"M1636.34 1253.85 L1636.34 1486.45 L1676.22 1486.45 L1676.22 1253.85 L1636.34 1253.85 L1636.34 1253.85  Z\" fill=\"#8be9fd\" fill-rule=\"evenodd\" fill-opacity=\"1\"/>\n",
       "<polyline clip-path=\"url(#clip812)\" style=\"stroke:#f8f8f2; stroke-linecap:round; stroke-linejoin:round; stroke-width:4; stroke-opacity:1; fill:none\" points=\"1636.34,1253.85 1636.34,1486.45 1676.22,1486.45 1676.22,1253.85 1636.34,1253.85 \"/>\n",
       "<path clip-path=\"url(#clip812)\" d=\"M1676.22 1318.58 L1676.22 1486.45 L1716.09 1486.45 L1716.09 1318.58 L1676.22 1318.58 L1676.22 1318.58  Z\" fill=\"#8be9fd\" fill-rule=\"evenodd\" fill-opacity=\"1\"/>\n",
       "<polyline clip-path=\"url(#clip812)\" style=\"stroke:#f8f8f2; stroke-linecap:round; stroke-linejoin:round; stroke-width:4; stroke-opacity:1; fill:none\" points=\"1676.22,1318.58 1676.22,1486.45 1716.09,1486.45 1716.09,1318.58 1676.22,1318.58 \"/>\n",
       "<path clip-path=\"url(#clip812)\" d=\"M1716.09 1389.44 L1716.09 1486.45 L1755.97 1486.45 L1755.97 1389.44 L1716.09 1389.44 L1716.09 1389.44  Z\" fill=\"#8be9fd\" fill-rule=\"evenodd\" fill-opacity=\"1\"/>\n",
       "<polyline clip-path=\"url(#clip812)\" style=\"stroke:#f8f8f2; stroke-linecap:round; stroke-linejoin:round; stroke-width:4; stroke-opacity:1; fill:none\" points=\"1716.09,1389.44 1716.09,1486.45 1755.97,1486.45 1755.97,1389.44 1716.09,1389.44 \"/>\n",
       "<path clip-path=\"url(#clip812)\" d=\"M1755.97 1419.91 L1755.97 1486.45 L1795.84 1486.45 L1795.84 1419.91 L1755.97 1419.91 L1755.97 1419.91  Z\" fill=\"#8be9fd\" fill-rule=\"evenodd\" fill-opacity=\"1\"/>\n",
       "<polyline clip-path=\"url(#clip812)\" style=\"stroke:#f8f8f2; stroke-linecap:round; stroke-linejoin:round; stroke-width:4; stroke-opacity:1; fill:none\" points=\"1755.97,1419.91 1755.97,1486.45 1795.84,1486.45 1795.84,1419.91 1755.97,1419.91 \"/>\n",
       "<path clip-path=\"url(#clip812)\" d=\"M1795.84 1445.88 L1795.84 1486.45 L1835.72 1486.45 L1835.72 1445.88 L1795.84 1445.88 L1795.84 1445.88  Z\" fill=\"#8be9fd\" fill-rule=\"evenodd\" fill-opacity=\"1\"/>\n",
       "<polyline clip-path=\"url(#clip812)\" style=\"stroke:#f8f8f2; stroke-linecap:round; stroke-linejoin:round; stroke-width:4; stroke-opacity:1; fill:none\" points=\"1795.84,1445.88 1795.84,1486.45 1835.72,1486.45 1835.72,1445.88 1795.84,1445.88 \"/>\n",
       "<path clip-path=\"url(#clip812)\" d=\"M1835.72 1462.65 L1835.72 1486.45 L1875.59 1486.45 L1875.59 1462.65 L1835.72 1462.65 L1835.72 1462.65  Z\" fill=\"#8be9fd\" fill-rule=\"evenodd\" fill-opacity=\"1\"/>\n",
       "<polyline clip-path=\"url(#clip812)\" style=\"stroke:#f8f8f2; stroke-linecap:round; stroke-linejoin:round; stroke-width:4; stroke-opacity:1; fill:none\" points=\"1835.72,1462.65 1835.72,1486.45 1875.59,1486.45 1875.59,1462.65 1835.72,1462.65 \"/>\n",
       "<path clip-path=\"url(#clip812)\" d=\"M1875.59 1474.55 L1875.59 1486.45 L1915.47 1486.45 L1915.47 1474.55 L1875.59 1474.55 L1875.59 1474.55  Z\" fill=\"#8be9fd\" fill-rule=\"evenodd\" fill-opacity=\"1\"/>\n",
       "<polyline clip-path=\"url(#clip812)\" style=\"stroke:#f8f8f2; stroke-linecap:round; stroke-linejoin:round; stroke-width:4; stroke-opacity:1; fill:none\" points=\"1875.59,1474.55 1875.59,1486.45 1915.47,1486.45 1915.47,1474.55 1875.59,1474.55 \"/>\n",
       "<path clip-path=\"url(#clip812)\" d=\"M1915.47 1480.86 L1915.47 1486.45 L1955.34 1486.45 L1955.34 1480.86 L1915.47 1480.86 L1915.47 1480.86  Z\" fill=\"#8be9fd\" fill-rule=\"evenodd\" fill-opacity=\"1\"/>\n",
       "<polyline clip-path=\"url(#clip812)\" style=\"stroke:#f8f8f2; stroke-linecap:round; stroke-linejoin:round; stroke-width:4; stroke-opacity:1; fill:none\" points=\"1915.47,1480.86 1915.47,1486.45 1955.34,1486.45 1955.34,1480.86 1915.47,1480.86 \"/>\n",
       "<path clip-path=\"url(#clip812)\" d=\"M1955.34 1484.1 L1955.34 1486.45 L1995.22 1486.45 L1995.22 1484.1 L1955.34 1484.1 L1955.34 1484.1  Z\" fill=\"#8be9fd\" fill-rule=\"evenodd\" fill-opacity=\"1\"/>\n",
       "<polyline clip-path=\"url(#clip812)\" style=\"stroke:#f8f8f2; stroke-linecap:round; stroke-linejoin:round; stroke-width:4; stroke-opacity:1; fill:none\" points=\"1955.34,1484.1 1955.34,1486.45 1995.22,1486.45 1995.22,1484.1 1955.34,1484.1 \"/>\n",
       "<path clip-path=\"url(#clip812)\" d=\"M1995.22 1484.28 L1995.22 1486.45 L2035.09 1486.45 L2035.09 1484.28 L1995.22 1484.28 L1995.22 1484.28  Z\" fill=\"#8be9fd\" fill-rule=\"evenodd\" fill-opacity=\"1\"/>\n",
       "<polyline clip-path=\"url(#clip812)\" style=\"stroke:#f8f8f2; stroke-linecap:round; stroke-linejoin:round; stroke-width:4; stroke-opacity:1; fill:none\" points=\"1995.22,1484.28 1995.22,1486.45 2035.09,1486.45 2035.09,1484.28 1995.22,1484.28 \"/>\n",
       "<path clip-path=\"url(#clip812)\" d=\"M2035.09 1485.73 L2035.09 1486.45 L2074.97 1486.45 L2074.97 1485.73 L2035.09 1485.73 L2035.09 1485.73  Z\" fill=\"#8be9fd\" fill-rule=\"evenodd\" fill-opacity=\"1\"/>\n",
       "<polyline clip-path=\"url(#clip812)\" style=\"stroke:#f8f8f2; stroke-linecap:round; stroke-linejoin:round; stroke-width:4; stroke-opacity:1; fill:none\" points=\"2035.09,1485.73 2035.09,1486.45 2074.97,1486.45 2074.97,1485.73 2035.09,1485.73 \"/>\n",
       "<path clip-path=\"url(#clip812)\" d=\"M2074.97 1486.45 L2074.97 1486.45 L2114.84 1486.45 L2114.84 1486.45 L2074.97 1486.45 L2074.97 1486.45  Z\" fill=\"#8be9fd\" fill-rule=\"evenodd\" fill-opacity=\"1\"/>\n",
       "<polyline clip-path=\"url(#clip812)\" style=\"stroke:#f8f8f2; stroke-linecap:round; stroke-linejoin:round; stroke-width:4; stroke-opacity:1; fill:none\" points=\"2074.97,1486.45 2074.97,1486.45 2114.84,1486.45 2074.97,1486.45 \"/>\n",
       "<path clip-path=\"url(#clip812)\" d=\"M2114.84 1486.45 L2114.84 1486.45 L2154.72 1486.45 L2154.72 1486.45 L2114.84 1486.45 L2114.84 1486.45  Z\" fill=\"#8be9fd\" fill-rule=\"evenodd\" fill-opacity=\"1\"/>\n",
       "<polyline clip-path=\"url(#clip812)\" style=\"stroke:#f8f8f2; stroke-linecap:round; stroke-linejoin:round; stroke-width:4; stroke-opacity:1; fill:none\" points=\"2114.84,1486.45 2114.84,1486.45 2154.72,1486.45 2114.84,1486.45 \"/>\n",
       "<path clip-path=\"url(#clip812)\" d=\"M2154.72 1486.45 L2154.72 1486.45 L2194.6 1486.45 L2194.6 1486.45 L2154.72 1486.45 L2154.72 1486.45  Z\" fill=\"#8be9fd\" fill-rule=\"evenodd\" fill-opacity=\"1\"/>\n",
       "<polyline clip-path=\"url(#clip812)\" style=\"stroke:#f8f8f2; stroke-linecap:round; stroke-linejoin:round; stroke-width:4; stroke-opacity:1; fill:none\" points=\"2154.72,1486.45 2154.72,1486.45 2194.6,1486.45 2154.72,1486.45 \"/>\n",
       "<path clip-path=\"url(#clip812)\" d=\"M2194.6 1486.27 L2194.6 1486.45 L2234.47 1486.45 L2234.47 1486.27 L2194.6 1486.27 L2194.6 1486.27  Z\" fill=\"#8be9fd\" fill-rule=\"evenodd\" fill-opacity=\"1\"/>\n",
       "<polyline clip-path=\"url(#clip812)\" style=\"stroke:#f8f8f2; stroke-linecap:round; stroke-linejoin:round; stroke-width:4; stroke-opacity:1; fill:none\" points=\"2194.6,1486.27 2194.6,1486.45 2234.47,1486.45 2234.47,1486.27 2194.6,1486.27 \"/>\n",
       "<circle clip-path=\"url(#clip812)\" style=\"fill:#8be9fd; stroke:none; fill-opacity:0\" cx=\"340.4\" cy=\"1486.27\" r=\"2\"/>\n",
       "<circle clip-path=\"url(#clip812)\" style=\"fill:#8be9fd; stroke:none; fill-opacity:0\" cx=\"380.275\" cy=\"1486.27\" r=\"2\"/>\n",
       "<circle clip-path=\"url(#clip812)\" style=\"fill:#8be9fd; stroke:none; fill-opacity:0\" cx=\"420.15\" cy=\"1486.27\" r=\"2\"/>\n",
       "<circle clip-path=\"url(#clip812)\" style=\"fill:#8be9fd; stroke:none; fill-opacity:0\" cx=\"460.025\" cy=\"1486.27\" r=\"2\"/>\n",
       "<circle clip-path=\"url(#clip812)\" style=\"fill:#8be9fd; stroke:none; fill-opacity:0\" cx=\"499.901\" cy=\"1485.91\" r=\"2\"/>\n",
       "<circle clip-path=\"url(#clip812)\" style=\"fill:#8be9fd; stroke:none; fill-opacity:0\" cx=\"539.776\" cy=\"1485.37\" r=\"2\"/>\n",
       "<circle clip-path=\"url(#clip812)\" style=\"fill:#8be9fd; stroke:none; fill-opacity:0\" cx=\"579.651\" cy=\"1484.1\" r=\"2\"/>\n",
       "<circle clip-path=\"url(#clip812)\" style=\"fill:#8be9fd; stroke:none; fill-opacity:0\" cx=\"619.526\" cy=\"1481.22\" r=\"2\"/>\n",
       "<circle clip-path=\"url(#clip812)\" style=\"fill:#8be9fd; stroke:none; fill-opacity:0\" cx=\"659.401\" cy=\"1472.02\" r=\"2\"/>\n",
       "<circle clip-path=\"url(#clip812)\" style=\"fill:#8be9fd; stroke:none; fill-opacity:0\" cx=\"699.276\" cy=\"1466.43\" r=\"2\"/>\n",
       "<circle clip-path=\"url(#clip812)\" style=\"fill:#8be9fd; stroke:none; fill-opacity:0\" cx=\"739.152\" cy=\"1449.67\" r=\"2\"/>\n",
       "<circle clip-path=\"url(#clip812)\" style=\"fill:#8be9fd; stroke:none; fill-opacity:0\" cx=\"779.027\" cy=\"1420.82\" r=\"2\"/>\n",
       "<circle clip-path=\"url(#clip812)\" style=\"fill:#8be9fd; stroke:none; fill-opacity:0\" cx=\"818.902\" cy=\"1383.13\" r=\"2\"/>\n",
       "<circle clip-path=\"url(#clip812)\" style=\"fill:#8be9fd; stroke:none; fill-opacity:0\" cx=\"858.777\" cy=\"1325.43\" r=\"2\"/>\n",
       "<circle clip-path=\"url(#clip812)\" style=\"fill:#8be9fd; stroke:none; fill-opacity:0\" cx=\"898.652\" cy=\"1245.02\" r=\"2\"/>\n",
       "<circle clip-path=\"url(#clip812)\" style=\"fill:#8be9fd; stroke:none; fill-opacity:0\" cx=\"938.527\" cy=\"1149.1\" r=\"2\"/>\n",
       "<circle clip-path=\"url(#clip812)\" style=\"fill:#8be9fd; stroke:none; fill-opacity:0\" cx=\"978.403\" cy=\"1039.47\" r=\"2\"/>\n",
       "<circle clip-path=\"url(#clip812)\" style=\"fill:#8be9fd; stroke:none; fill-opacity:0\" cx=\"1018.28\" cy=\"847.803\" r=\"2\"/>\n",
       "<circle clip-path=\"url(#clip812)\" style=\"fill:#8be9fd; stroke:none; fill-opacity:0\" cx=\"1058.15\" cy=\"710.59\" r=\"2\"/>\n",
       "<circle clip-path=\"url(#clip812)\" style=\"fill:#8be9fd; stroke:none; fill-opacity:0\" cx=\"1098.03\" cy=\"513.155\" r=\"2\"/>\n",
       "<circle clip-path=\"url(#clip812)\" style=\"fill:#8be9fd; stroke:none; fill-opacity:0\" cx=\"1137.9\" cy=\"351.24\" r=\"2\"/>\n",
       "<circle clip-path=\"url(#clip812)\" style=\"fill:#8be9fd; stroke:none; fill-opacity:0\" cx=\"1177.78\" cy=\"234.402\" r=\"2\"/>\n",
       "<circle clip-path=\"url(#clip812)\" style=\"fill:#8be9fd; stroke:none; fill-opacity:0\" cx=\"1217.65\" cy=\"94.1237\" r=\"2\"/>\n",
       "<circle clip-path=\"url(#clip812)\" style=\"fill:#8be9fd; stroke:none; fill-opacity:0\" cx=\"1257.53\" cy=\"47.2441\" r=\"2\"/>\n",
       "<circle clip-path=\"url(#clip812)\" style=\"fill:#8be9fd; stroke:none; fill-opacity:0\" cx=\"1297.4\" cy=\"73.0279\" r=\"2\"/>\n",
       "<circle clip-path=\"url(#clip812)\" style=\"fill:#8be9fd; stroke:none; fill-opacity:0\" cx=\"1337.28\" cy=\"120.268\" r=\"2\"/>\n",
       "<circle clip-path=\"url(#clip812)\" style=\"fill:#8be9fd; stroke:none; fill-opacity:0\" cx=\"1377.15\" cy=\"226.829\" r=\"2\"/>\n",
       "<circle clip-path=\"url(#clip812)\" style=\"fill:#8be9fd; stroke:none; fill-opacity:0\" cx=\"1417.03\" cy=\"376.303\" r=\"2\"/>\n",
       "<circle clip-path=\"url(#clip812)\" style=\"fill:#8be9fd; stroke:none; fill-opacity:0\" cx=\"1456.9\" cy=\"517.302\" r=\"2\"/>\n",
       "<circle clip-path=\"url(#clip812)\" style=\"fill:#8be9fd; stroke:none; fill-opacity:0\" cx=\"1496.78\" cy=\"689.314\" r=\"2\"/>\n",
       "<circle clip-path=\"url(#clip812)\" style=\"fill:#8be9fd; stroke:none; fill-opacity:0\" cx=\"1536.65\" cy=\"866.916\" r=\"2\"/>\n",
       "<circle clip-path=\"url(#clip812)\" style=\"fill:#8be9fd; stroke:none; fill-opacity:0\" cx=\"1576.53\" cy=\"1028.11\" r=\"2\"/>\n",
       "<circle clip-path=\"url(#clip812)\" style=\"fill:#8be9fd; stroke:none; fill-opacity:0\" cx=\"1616.41\" cy=\"1144.05\" r=\"2\"/>\n",
       "<circle clip-path=\"url(#clip812)\" style=\"fill:#8be9fd; stroke:none; fill-opacity:0\" cx=\"1656.28\" cy=\"1253.85\" r=\"2\"/>\n",
       "<circle clip-path=\"url(#clip812)\" style=\"fill:#8be9fd; stroke:none; fill-opacity:0\" cx=\"1696.16\" cy=\"1318.58\" r=\"2\"/>\n",
       "<circle clip-path=\"url(#clip812)\" style=\"fill:#8be9fd; stroke:none; fill-opacity:0\" cx=\"1736.03\" cy=\"1389.44\" r=\"2\"/>\n",
       "<circle clip-path=\"url(#clip812)\" style=\"fill:#8be9fd; stroke:none; fill-opacity:0\" cx=\"1775.91\" cy=\"1419.91\" r=\"2\"/>\n",
       "<circle clip-path=\"url(#clip812)\" style=\"fill:#8be9fd; stroke:none; fill-opacity:0\" cx=\"1815.78\" cy=\"1445.88\" r=\"2\"/>\n",
       "<circle clip-path=\"url(#clip812)\" style=\"fill:#8be9fd; stroke:none; fill-opacity:0\" cx=\"1855.66\" cy=\"1462.65\" r=\"2\"/>\n",
       "<circle clip-path=\"url(#clip812)\" style=\"fill:#8be9fd; stroke:none; fill-opacity:0\" cx=\"1895.53\" cy=\"1474.55\" r=\"2\"/>\n",
       "<circle clip-path=\"url(#clip812)\" style=\"fill:#8be9fd; stroke:none; fill-opacity:0\" cx=\"1935.41\" cy=\"1480.86\" r=\"2\"/>\n",
       "<circle clip-path=\"url(#clip812)\" style=\"fill:#8be9fd; stroke:none; fill-opacity:0\" cx=\"1975.28\" cy=\"1484.1\" r=\"2\"/>\n",
       "<circle clip-path=\"url(#clip812)\" style=\"fill:#8be9fd; stroke:none; fill-opacity:0\" cx=\"2015.16\" cy=\"1484.28\" r=\"2\"/>\n",
       "<circle clip-path=\"url(#clip812)\" style=\"fill:#8be9fd; stroke:none; fill-opacity:0\" cx=\"2055.03\" cy=\"1485.73\" r=\"2\"/>\n",
       "<circle clip-path=\"url(#clip812)\" style=\"fill:#8be9fd; stroke:none; fill-opacity:0\" cx=\"2094.91\" cy=\"1486.45\" r=\"2\"/>\n",
       "<circle clip-path=\"url(#clip812)\" style=\"fill:#8be9fd; stroke:none; fill-opacity:0\" cx=\"2134.78\" cy=\"1486.45\" r=\"2\"/>\n",
       "<circle clip-path=\"url(#clip812)\" style=\"fill:#8be9fd; stroke:none; fill-opacity:0\" cx=\"2174.66\" cy=\"1486.45\" r=\"2\"/>\n",
       "<circle clip-path=\"url(#clip812)\" style=\"fill:#8be9fd; stroke:none; fill-opacity:0\" cx=\"2214.53\" cy=\"1486.27\" r=\"2\"/>\n",
       "</svg>\n"
      ],
      "text/html": [
       "<?xml version=\"1.0\" encoding=\"utf-8\"?>\n",
       "<svg xmlns=\"http://www.w3.org/2000/svg\" xmlns:xlink=\"http://www.w3.org/1999/xlink\" width=\"600\" height=\"400\" viewBox=\"0 0 2400 1600\">\n",
       "<defs>\n",
       "  <clipPath id=\"clip860\">\n",
       "    <rect x=\"0\" y=\"0\" width=\"2400\" height=\"1600\"/>\n",
       "  </clipPath>\n",
       "</defs>\n",
       "<path clip-path=\"url(#clip860)\" d=\"M0 1600 L2400 1600 L2400 0 L0 0  Z\" fill=\"#282a36\" fill-rule=\"evenodd\" fill-opacity=\"1\"/>\n",
       "<defs>\n",
       "  <clipPath id=\"clip861\">\n",
       "    <rect x=\"480\" y=\"0\" width=\"1681\" height=\"1600\"/>\n",
       "  </clipPath>\n",
       "</defs>\n",
       "<path clip-path=\"url(#clip860)\" d=\"M202.177 1486.45 L2352.76 1486.45 L2352.76 47.2441 L202.177 47.2441  Z\" fill=\"#30343b\" fill-rule=\"evenodd\" fill-opacity=\"1\"/>\n",
       "<defs>\n",
       "  <clipPath id=\"clip862\">\n",
       "    <rect x=\"202\" y=\"47\" width=\"2152\" height=\"1440\"/>\n",
       "  </clipPath>\n",
       "</defs>\n",
       "<polyline clip-path=\"url(#clip862)\" style=\"stroke:#f8f8f2; stroke-linecap:round; stroke-linejoin:round; stroke-width:2; stroke-opacity:0.1; fill:none\" points=\"479.963,1486.45 479.963,47.2441 \"/>\n",
       "<polyline clip-path=\"url(#clip862)\" style=\"stroke:#f8f8f2; stroke-linecap:round; stroke-linejoin:round; stroke-width:2; stroke-opacity:0.1; fill:none\" points=\"878.715,1486.45 878.715,47.2441 \"/>\n",
       "<polyline clip-path=\"url(#clip862)\" style=\"stroke:#f8f8f2; stroke-linecap:round; stroke-linejoin:round; stroke-width:2; stroke-opacity:0.1; fill:none\" points=\"1277.47,1486.45 1277.47,47.2441 \"/>\n",
       "<polyline clip-path=\"url(#clip862)\" style=\"stroke:#f8f8f2; stroke-linecap:round; stroke-linejoin:round; stroke-width:2; stroke-opacity:0.1; fill:none\" points=\"1676.22,1486.45 1676.22,47.2441 \"/>\n",
       "<polyline clip-path=\"url(#clip862)\" style=\"stroke:#f8f8f2; stroke-linecap:round; stroke-linejoin:round; stroke-width:2; stroke-opacity:0.1; fill:none\" points=\"2074.97,1486.45 2074.97,47.2441 \"/>\n",
       "<polyline clip-path=\"url(#clip862)\" style=\"stroke:#f8f8f2; stroke-linecap:round; stroke-linejoin:round; stroke-width:2; stroke-opacity:0.1; fill:none\" points=\"202.177,1486.45 2352.76,1486.45 \"/>\n",
       "<polyline clip-path=\"url(#clip862)\" style=\"stroke:#f8f8f2; stroke-linecap:round; stroke-linejoin:round; stroke-width:2; stroke-opacity:0.1; fill:none\" points=\"202.177,1125.84 2352.76,1125.84 \"/>\n",
       "<polyline clip-path=\"url(#clip862)\" style=\"stroke:#f8f8f2; stroke-linecap:round; stroke-linejoin:round; stroke-width:2; stroke-opacity:0.1; fill:none\" points=\"202.177,765.223 2352.76,765.223 \"/>\n",
       "<polyline clip-path=\"url(#clip862)\" style=\"stroke:#f8f8f2; stroke-linecap:round; stroke-linejoin:round; stroke-width:2; stroke-opacity:0.1; fill:none\" points=\"202.177,404.611 2352.76,404.611 \"/>\n",
       "<polyline clip-path=\"url(#clip860)\" style=\"stroke:#f8f8f2; stroke-linecap:round; stroke-linejoin:round; stroke-width:4; stroke-opacity:1; fill:none\" points=\"202.177,1486.45 2352.76,1486.45 \"/>\n",
       "<polyline clip-path=\"url(#clip860)\" style=\"stroke:#f8f8f2; stroke-linecap:round; stroke-linejoin:round; stroke-width:4; stroke-opacity:1; fill:none\" points=\"479.963,1486.45 479.963,1467.55 \"/>\n",
       "<polyline clip-path=\"url(#clip860)\" style=\"stroke:#f8f8f2; stroke-linecap:round; stroke-linejoin:round; stroke-width:4; stroke-opacity:1; fill:none\" points=\"878.715,1486.45 878.715,1467.55 \"/>\n",
       "<polyline clip-path=\"url(#clip860)\" style=\"stroke:#f8f8f2; stroke-linecap:round; stroke-linejoin:round; stroke-width:4; stroke-opacity:1; fill:none\" points=\"1277.47,1486.45 1277.47,1467.55 \"/>\n",
       "<polyline clip-path=\"url(#clip860)\" style=\"stroke:#f8f8f2; stroke-linecap:round; stroke-linejoin:round; stroke-width:4; stroke-opacity:1; fill:none\" points=\"1676.22,1486.45 1676.22,1467.55 \"/>\n",
       "<polyline clip-path=\"url(#clip860)\" style=\"stroke:#f8f8f2; stroke-linecap:round; stroke-linejoin:round; stroke-width:4; stroke-opacity:1; fill:none\" points=\"2074.97,1486.45 2074.97,1467.55 \"/>\n",
       "<path clip-path=\"url(#clip860)\" d=\"M448.864 1532.02 L478.539 1532.02 L478.539 1535.95 L448.864 1535.95 L448.864 1532.02 Z\" fill=\"#f8f8f2\" fill-rule=\"nonzero\" fill-opacity=\"1\" /><path clip-path=\"url(#clip860)\" d=\"M501.479 1518.36 L489.674 1536.81 L501.479 1536.81 L501.479 1518.36 M500.252 1514.29 L506.132 1514.29 L506.132 1536.81 L511.062 1536.81 L511.062 1540.7 L506.132 1540.7 L506.132 1548.85 L501.479 1548.85 L501.479 1540.7 L485.877 1540.7 L485.877 1536.19 L500.252 1514.29 Z\" fill=\"#f8f8f2\" fill-rule=\"nonzero\" fill-opacity=\"1\" /><path clip-path=\"url(#clip860)\" d=\"M848.657 1532.02 L878.333 1532.02 L878.333 1535.95 L848.657 1535.95 L848.657 1532.02 Z\" fill=\"#f8f8f2\" fill-rule=\"nonzero\" fill-opacity=\"1\" /><path clip-path=\"url(#clip860)\" d=\"M892.453 1544.91 L908.772 1544.91 L908.772 1548.85 L886.828 1548.85 L886.828 1544.91 Q889.49 1542.16 894.073 1537.53 Q898.68 1532.88 899.86 1531.53 Q902.106 1529.01 902.985 1527.27 Q903.888 1525.51 903.888 1523.82 Q903.888 1521.07 901.944 1519.33 Q900.022 1517.6 896.921 1517.6 Q894.722 1517.6 892.268 1518.36 Q889.837 1519.13 887.06 1520.68 L887.06 1515.95 Q889.884 1514.82 892.337 1514.24 Q894.791 1513.66 896.828 1513.66 Q902.198 1513.66 905.393 1516.35 Q908.587 1519.03 908.587 1523.52 Q908.587 1525.65 907.777 1527.57 Q906.99 1529.47 904.884 1532.07 Q904.305 1532.74 901.203 1535.95 Q898.101 1539.15 892.453 1544.91 Z\" fill=\"#f8f8f2\" fill-rule=\"nonzero\" fill-opacity=\"1\" /><path clip-path=\"url(#clip860)\" d=\"M1277.47 1517.37 Q1273.86 1517.37 1272.03 1520.93 Q1270.22 1524.47 1270.22 1531.6 Q1270.22 1538.71 1272.03 1542.27 Q1273.86 1545.82 1277.47 1545.82 Q1281.1 1545.82 1282.91 1542.27 Q1284.73 1538.71 1284.73 1531.6 Q1284.73 1524.47 1282.91 1520.93 Q1281.1 1517.37 1277.47 1517.37 M1277.47 1513.66 Q1283.28 1513.66 1286.33 1518.27 Q1289.41 1522.85 1289.41 1531.6 Q1289.41 1540.33 1286.33 1544.94 Q1283.28 1549.52 1277.47 1549.52 Q1271.66 1549.52 1268.58 1544.94 Q1265.52 1540.33 1265.52 1531.6 Q1265.52 1522.85 1268.58 1518.27 Q1271.66 1513.66 1277.47 1513.66 Z\" fill=\"#f8f8f2\" fill-rule=\"nonzero\" fill-opacity=\"1\" /><path clip-path=\"url(#clip860)\" d=\"M1670.87 1544.91 L1687.19 1544.91 L1687.19 1548.85 L1665.25 1548.85 L1665.25 1544.91 Q1667.91 1542.16 1672.49 1537.53 Q1677.1 1532.88 1678.28 1531.53 Q1680.52 1529.01 1681.4 1527.27 Q1682.31 1525.51 1682.31 1523.82 Q1682.31 1521.07 1680.36 1519.33 Q1678.44 1517.6 1675.34 1517.6 Q1673.14 1517.6 1670.69 1518.36 Q1668.26 1519.13 1665.48 1520.68 L1665.48 1515.95 Q1668.3 1514.82 1670.75 1514.24 Q1673.21 1513.66 1675.25 1513.66 Q1680.62 1513.66 1683.81 1516.35 Q1687 1519.03 1687 1523.52 Q1687 1525.65 1686.19 1527.57 Q1685.41 1529.47 1683.3 1532.07 Q1682.72 1532.74 1679.62 1535.95 Q1676.52 1539.15 1670.87 1544.91 Z\" fill=\"#f8f8f2\" fill-rule=\"nonzero\" fill-opacity=\"1\" /><path clip-path=\"url(#clip860)\" d=\"M2077.98 1518.36 L2066.17 1536.81 L2077.98 1536.81 L2077.98 1518.36 M2076.75 1514.29 L2082.63 1514.29 L2082.63 1536.81 L2087.56 1536.81 L2087.56 1540.7 L2082.63 1540.7 L2082.63 1548.85 L2077.98 1548.85 L2077.98 1540.7 L2062.38 1540.7 L2062.38 1536.19 L2076.75 1514.29 Z\" fill=\"#f8f8f2\" fill-rule=\"nonzero\" fill-opacity=\"1\" /><polyline clip-path=\"url(#clip860)\" style=\"stroke:#f8f8f2; stroke-linecap:round; stroke-linejoin:round; stroke-width:4; stroke-opacity:1; fill:none\" points=\"202.177,1486.45 202.177,47.2441 \"/>\n",
       "<polyline clip-path=\"url(#clip860)\" style=\"stroke:#f8f8f2; stroke-linecap:round; stroke-linejoin:round; stroke-width:4; stroke-opacity:1; fill:none\" points=\"202.177,1486.45 221.074,1486.45 \"/>\n",
       "<polyline clip-path=\"url(#clip860)\" style=\"stroke:#f8f8f2; stroke-linecap:round; stroke-linejoin:round; stroke-width:4; stroke-opacity:1; fill:none\" points=\"202.177,1125.84 221.074,1125.84 \"/>\n",
       "<polyline clip-path=\"url(#clip860)\" style=\"stroke:#f8f8f2; stroke-linecap:round; stroke-linejoin:round; stroke-width:4; stroke-opacity:1; fill:none\" points=\"202.177,765.223 221.074,765.223 \"/>\n",
       "<polyline clip-path=\"url(#clip860)\" style=\"stroke:#f8f8f2; stroke-linecap:round; stroke-linejoin:round; stroke-width:4; stroke-opacity:1; fill:none\" points=\"202.177,404.611 221.074,404.611 \"/>\n",
       "<path clip-path=\"url(#clip860)\" d=\"M154.232 1472.25 Q150.621 1472.25 148.793 1475.81 Q146.987 1479.35 146.987 1486.48 Q146.987 1493.59 148.793 1497.15 Q150.621 1500.7 154.232 1500.7 Q157.867 1500.7 159.672 1497.15 Q161.501 1493.59 161.501 1486.48 Q161.501 1479.35 159.672 1475.81 Q157.867 1472.25 154.232 1472.25 M154.232 1468.54 Q160.042 1468.54 163.098 1473.15 Q166.177 1477.73 166.177 1486.48 Q166.177 1495.21 163.098 1499.82 Q160.042 1504.4 154.232 1504.4 Q148.422 1504.4 145.343 1499.82 Q142.288 1495.21 142.288 1486.48 Q142.288 1477.73 145.343 1473.15 Q148.422 1468.54 154.232 1468.54 Z\" fill=\"#f8f8f2\" fill-rule=\"nonzero\" fill-opacity=\"1\" /><path clip-path=\"url(#clip860)\" d=\"M57.7745 1139.18 L74.0939 1139.18 L74.0939 1143.12 L52.1495 1143.12 L52.1495 1139.18 Q54.8115 1136.43 59.3949 1131.8 Q64.0013 1127.14 65.1819 1125.8 Q67.4272 1123.28 68.3068 1121.54 Q69.2096 1119.78 69.2096 1118.09 Q69.2096 1115.34 67.2652 1113.6 Q65.3439 1111.87 62.2421 1111.87 Q60.043 1111.87 57.5893 1112.63 Q55.1588 1113.39 52.381 1114.94 L52.381 1110.22 Q55.2051 1109.09 57.6588 1108.51 Q60.1124 1107.93 62.1495 1107.93 Q67.5198 1107.93 70.7142 1110.62 Q73.9087 1113.3 73.9087 1117.79 Q73.9087 1119.92 73.0985 1121.84 Q72.3115 1123.74 70.205 1126.33 Q69.6263 1127 66.5245 1130.22 Q63.4226 1133.42 57.7745 1139.18 Z\" fill=\"#f8f8f2\" fill-rule=\"nonzero\" fill-opacity=\"1\" /><path clip-path=\"url(#clip860)\" d=\"M93.9086 1111.63 Q90.2975 1111.63 88.4688 1115.2 Q86.6632 1118.74 86.6632 1125.87 Q86.6632 1132.98 88.4688 1136.54 Q90.2975 1140.08 93.9086 1140.08 Q97.5428 1140.08 99.3483 1136.54 Q101.177 1132.98 101.177 1125.87 Q101.177 1118.74 99.3483 1115.2 Q97.5428 1111.63 93.9086 1111.63 M93.9086 1107.93 Q99.7187 1107.93 102.774 1112.54 Q105.853 1117.12 105.853 1125.87 Q105.853 1134.6 102.774 1139.2 Q99.7187 1143.79 93.9086 1143.79 Q88.0984 1143.79 85.0197 1139.2 Q81.9642 1134.6 81.9642 1125.87 Q81.9642 1117.12 85.0197 1112.54 Q88.0984 1107.93 93.9086 1107.93 Z\" fill=\"#f8f8f2\" fill-rule=\"nonzero\" fill-opacity=\"1\" /><path clip-path=\"url(#clip860)\" d=\"M124.07 1111.63 Q120.459 1111.63 118.631 1115.2 Q116.825 1118.74 116.825 1125.87 Q116.825 1132.98 118.631 1136.54 Q120.459 1140.08 124.07 1140.08 Q127.705 1140.08 129.51 1136.54 Q131.339 1132.98 131.339 1125.87 Q131.339 1118.74 129.51 1115.2 Q127.705 1111.63 124.07 1111.63 M124.07 1107.93 Q129.881 1107.93 132.936 1112.54 Q136.015 1117.12 136.015 1125.87 Q136.015 1134.6 132.936 1139.2 Q129.881 1143.79 124.07 1143.79 Q118.26 1143.79 115.182 1139.2 Q112.126 1134.6 112.126 1125.87 Q112.126 1117.12 115.182 1112.54 Q118.26 1107.93 124.07 1107.93 Z\" fill=\"#f8f8f2\" fill-rule=\"nonzero\" fill-opacity=\"1\" /><path clip-path=\"url(#clip860)\" d=\"M154.232 1111.63 Q150.621 1111.63 148.793 1115.2 Q146.987 1118.74 146.987 1125.87 Q146.987 1132.98 148.793 1136.54 Q150.621 1140.08 154.232 1140.08 Q157.867 1140.08 159.672 1136.54 Q161.501 1132.98 161.501 1125.87 Q161.501 1118.74 159.672 1115.2 Q157.867 1111.63 154.232 1111.63 M154.232 1107.93 Q160.042 1107.93 163.098 1112.54 Q166.177 1117.12 166.177 1125.87 Q166.177 1134.6 163.098 1139.2 Q160.042 1143.79 154.232 1143.79 Q148.422 1143.79 145.343 1139.2 Q142.288 1134.6 142.288 1125.87 Q142.288 1117.12 145.343 1112.54 Q148.422 1107.93 154.232 1107.93 Z\" fill=\"#f8f8f2\" fill-rule=\"nonzero\" fill-opacity=\"1\" /><path clip-path=\"url(#clip860)\" d=\"M66.5939 752.017 L54.7884 770.466 L66.5939 770.466 L66.5939 752.017 M65.367 747.943 L71.2466 747.943 L71.2466 770.466 L76.1772 770.466 L76.1772 774.355 L71.2466 774.355 L71.2466 782.503 L66.5939 782.503 L66.5939 774.355 L50.9921 774.355 L50.9921 769.841 L65.367 747.943 Z\" fill=\"#f8f8f2\" fill-rule=\"nonzero\" fill-opacity=\"1\" /><path clip-path=\"url(#clip860)\" d=\"M93.9086 751.022 Q90.2975 751.022 88.4688 754.587 Q86.6632 758.128 86.6632 765.258 Q86.6632 772.364 88.4688 775.929 Q90.2975 779.471 93.9086 779.471 Q97.5428 779.471 99.3483 775.929 Q101.177 772.364 101.177 765.258 Q101.177 758.128 99.3483 754.587 Q97.5428 751.022 93.9086 751.022 M93.9086 747.318 Q99.7187 747.318 102.774 751.925 Q105.853 756.508 105.853 765.258 Q105.853 773.985 102.774 778.591 Q99.7187 783.175 93.9086 783.175 Q88.0984 783.175 85.0197 778.591 Q81.9642 773.985 81.9642 765.258 Q81.9642 756.508 85.0197 751.925 Q88.0984 747.318 93.9086 747.318 Z\" fill=\"#f8f8f2\" fill-rule=\"nonzero\" fill-opacity=\"1\" /><path clip-path=\"url(#clip860)\" d=\"M124.07 751.022 Q120.459 751.022 118.631 754.587 Q116.825 758.128 116.825 765.258 Q116.825 772.364 118.631 775.929 Q120.459 779.471 124.07 779.471 Q127.705 779.471 129.51 775.929 Q131.339 772.364 131.339 765.258 Q131.339 758.128 129.51 754.587 Q127.705 751.022 124.07 751.022 M124.07 747.318 Q129.881 747.318 132.936 751.925 Q136.015 756.508 136.015 765.258 Q136.015 773.985 132.936 778.591 Q129.881 783.175 124.07 783.175 Q118.26 783.175 115.182 778.591 Q112.126 773.985 112.126 765.258 Q112.126 756.508 115.182 751.925 Q118.26 747.318 124.07 747.318 Z\" fill=\"#f8f8f2\" fill-rule=\"nonzero\" fill-opacity=\"1\" /><path clip-path=\"url(#clip860)\" d=\"M154.232 751.022 Q150.621 751.022 148.793 754.587 Q146.987 758.128 146.987 765.258 Q146.987 772.364 148.793 775.929 Q150.621 779.471 154.232 779.471 Q157.867 779.471 159.672 775.929 Q161.501 772.364 161.501 765.258 Q161.501 758.128 159.672 754.587 Q157.867 751.022 154.232 751.022 M154.232 747.318 Q160.042 747.318 163.098 751.925 Q166.177 756.508 166.177 765.258 Q166.177 773.985 163.098 778.591 Q160.042 783.175 154.232 783.175 Q148.422 783.175 145.343 778.591 Q142.288 773.985 142.288 765.258 Q142.288 756.508 145.343 751.925 Q148.422 747.318 154.232 747.318 Z\" fill=\"#f8f8f2\" fill-rule=\"nonzero\" fill-opacity=\"1\" /><path clip-path=\"url(#clip860)\" d=\"M64.3254 402.747 Q61.1773 402.747 59.3254 404.9 Q57.4967 407.053 57.4967 410.803 Q57.4967 414.53 59.3254 416.706 Q61.1773 418.859 64.3254 418.859 Q67.4735 418.859 69.3022 416.706 Q71.1541 414.53 71.1541 410.803 Q71.1541 407.053 69.3022 404.9 Q67.4735 402.747 64.3254 402.747 M73.6077 388.095 L73.6077 392.354 Q71.8485 391.521 70.0429 391.081 Q68.2606 390.641 66.5013 390.641 Q61.8717 390.641 59.418 393.766 Q56.9875 396.891 56.6402 403.21 Q58.006 401.197 60.0662 400.132 Q62.1263 399.044 64.6032 399.044 Q69.8115 399.044 72.8207 402.215 Q75.8531 405.363 75.8531 410.803 Q75.8531 416.127 72.705 419.345 Q69.5568 422.562 64.3254 422.562 Q58.33 422.562 55.1588 417.979 Q51.9875 413.372 51.9875 404.646 Q51.9875 396.451 55.8764 391.59 Q59.7652 386.706 66.3161 386.706 Q68.0754 386.706 69.8578 387.053 Q71.6633 387.4 73.6077 388.095 Z\" fill=\"#f8f8f2\" fill-rule=\"nonzero\" fill-opacity=\"1\" /><path clip-path=\"url(#clip860)\" d=\"M93.9086 390.41 Q90.2975 390.41 88.4688 393.974 Q86.6632 397.516 86.6632 404.646 Q86.6632 411.752 88.4688 415.317 Q90.2975 418.859 93.9086 418.859 Q97.5428 418.859 99.3483 415.317 Q101.177 411.752 101.177 404.646 Q101.177 397.516 99.3483 393.974 Q97.5428 390.41 93.9086 390.41 M93.9086 386.706 Q99.7187 386.706 102.774 391.312 Q105.853 395.896 105.853 404.646 Q105.853 413.372 102.774 417.979 Q99.7187 422.562 93.9086 422.562 Q88.0984 422.562 85.0197 417.979 Q81.9642 413.372 81.9642 404.646 Q81.9642 395.896 85.0197 391.312 Q88.0984 386.706 93.9086 386.706 Z\" fill=\"#f8f8f2\" fill-rule=\"nonzero\" fill-opacity=\"1\" /><path clip-path=\"url(#clip860)\" d=\"M124.07 390.41 Q120.459 390.41 118.631 393.974 Q116.825 397.516 116.825 404.646 Q116.825 411.752 118.631 415.317 Q120.459 418.859 124.07 418.859 Q127.705 418.859 129.51 415.317 Q131.339 411.752 131.339 404.646 Q131.339 397.516 129.51 393.974 Q127.705 390.41 124.07 390.41 M124.07 386.706 Q129.881 386.706 132.936 391.312 Q136.015 395.896 136.015 404.646 Q136.015 413.372 132.936 417.979 Q129.881 422.562 124.07 422.562 Q118.26 422.562 115.182 417.979 Q112.126 413.372 112.126 404.646 Q112.126 395.896 115.182 391.312 Q118.26 386.706 124.07 386.706 Z\" fill=\"#f8f8f2\" fill-rule=\"nonzero\" fill-opacity=\"1\" /><path clip-path=\"url(#clip860)\" d=\"M154.232 390.41 Q150.621 390.41 148.793 393.974 Q146.987 397.516 146.987 404.646 Q146.987 411.752 148.793 415.317 Q150.621 418.859 154.232 418.859 Q157.867 418.859 159.672 415.317 Q161.501 411.752 161.501 404.646 Q161.501 397.516 159.672 393.974 Q157.867 390.41 154.232 390.41 M154.232 386.706 Q160.042 386.706 163.098 391.312 Q166.177 395.896 166.177 404.646 Q166.177 413.372 163.098 417.979 Q160.042 422.562 154.232 422.562 Q148.422 422.562 145.343 417.979 Q142.288 413.372 142.288 404.646 Q142.288 395.896 145.343 391.312 Q148.422 386.706 154.232 386.706 Z\" fill=\"#f8f8f2\" fill-rule=\"nonzero\" fill-opacity=\"1\" /><path clip-path=\"url(#clip862)\" d=\"M320.462 1486.27 L320.462 1486.45 L360.338 1486.45 L360.338 1486.27 L320.462 1486.27 L320.462 1486.27  Z\" fill=\"#8be9fd\" fill-rule=\"evenodd\" fill-opacity=\"1\"/>\n",
       "<polyline clip-path=\"url(#clip862)\" style=\"stroke:#f8f8f2; stroke-linecap:round; stroke-linejoin:round; stroke-width:4; stroke-opacity:1; fill:none\" points=\"320.462,1486.27 320.462,1486.45 360.338,1486.45 360.338,1486.27 320.462,1486.27 \"/>\n",
       "<path clip-path=\"url(#clip862)\" d=\"M360.338 1486.27 L360.338 1486.45 L400.213 1486.45 L400.213 1486.27 L360.338 1486.27 L360.338 1486.27  Z\" fill=\"#8be9fd\" fill-rule=\"evenodd\" fill-opacity=\"1\"/>\n",
       "<polyline clip-path=\"url(#clip862)\" style=\"stroke:#f8f8f2; stroke-linecap:round; stroke-linejoin:round; stroke-width:4; stroke-opacity:1; fill:none\" points=\"360.338,1486.27 360.338,1486.45 400.213,1486.45 400.213,1486.27 360.338,1486.27 \"/>\n",
       "<path clip-path=\"url(#clip862)\" d=\"M400.213 1486.27 L400.213 1486.45 L440.088 1486.45 L440.088 1486.27 L400.213 1486.27 L400.213 1486.27  Z\" fill=\"#8be9fd\" fill-rule=\"evenodd\" fill-opacity=\"1\"/>\n",
       "<polyline clip-path=\"url(#clip862)\" style=\"stroke:#f8f8f2; stroke-linecap:round; stroke-linejoin:round; stroke-width:4; stroke-opacity:1; fill:none\" points=\"400.213,1486.27 400.213,1486.45 440.088,1486.45 440.088,1486.27 400.213,1486.27 \"/>\n",
       "<path clip-path=\"url(#clip862)\" d=\"M440.088 1486.27 L440.088 1486.45 L479.963 1486.45 L479.963 1486.27 L440.088 1486.27 L440.088 1486.27  Z\" fill=\"#8be9fd\" fill-rule=\"evenodd\" fill-opacity=\"1\"/>\n",
       "<polyline clip-path=\"url(#clip862)\" style=\"stroke:#f8f8f2; stroke-linecap:round; stroke-linejoin:round; stroke-width:4; stroke-opacity:1; fill:none\" points=\"440.088,1486.27 440.088,1486.45 479.963,1486.45 479.963,1486.27 440.088,1486.27 \"/>\n",
       "<path clip-path=\"url(#clip862)\" d=\"M479.963 1485.91 L479.963 1486.45 L519.838 1486.45 L519.838 1485.91 L479.963 1485.91 L479.963 1485.91  Z\" fill=\"#8be9fd\" fill-rule=\"evenodd\" fill-opacity=\"1\"/>\n",
       "<polyline clip-path=\"url(#clip862)\" style=\"stroke:#f8f8f2; stroke-linecap:round; stroke-linejoin:round; stroke-width:4; stroke-opacity:1; fill:none\" points=\"479.963,1485.91 479.963,1486.45 519.838,1486.45 519.838,1485.91 479.963,1485.91 \"/>\n",
       "<path clip-path=\"url(#clip862)\" d=\"M519.838 1485.37 L519.838 1486.45 L559.713 1486.45 L559.713 1485.37 L519.838 1485.37 L519.838 1485.37  Z\" fill=\"#8be9fd\" fill-rule=\"evenodd\" fill-opacity=\"1\"/>\n",
       "<polyline clip-path=\"url(#clip862)\" style=\"stroke:#f8f8f2; stroke-linecap:round; stroke-linejoin:round; stroke-width:4; stroke-opacity:1; fill:none\" points=\"519.838,1485.37 519.838,1486.45 559.713,1486.45 559.713,1485.37 519.838,1485.37 \"/>\n",
       "<path clip-path=\"url(#clip862)\" d=\"M559.713 1484.1 L559.713 1486.45 L599.589 1486.45 L599.589 1484.1 L559.713 1484.1 L559.713 1484.1  Z\" fill=\"#8be9fd\" fill-rule=\"evenodd\" fill-opacity=\"1\"/>\n",
       "<polyline clip-path=\"url(#clip862)\" style=\"stroke:#f8f8f2; stroke-linecap:round; stroke-linejoin:round; stroke-width:4; stroke-opacity:1; fill:none\" points=\"559.713,1484.1 559.713,1486.45 599.589,1486.45 599.589,1484.1 559.713,1484.1 \"/>\n",
       "<path clip-path=\"url(#clip862)\" d=\"M599.589 1481.22 L599.589 1486.45 L639.464 1486.45 L639.464 1481.22 L599.589 1481.22 L599.589 1481.22  Z\" fill=\"#8be9fd\" fill-rule=\"evenodd\" fill-opacity=\"1\"/>\n",
       "<polyline clip-path=\"url(#clip862)\" style=\"stroke:#f8f8f2; stroke-linecap:round; stroke-linejoin:round; stroke-width:4; stroke-opacity:1; fill:none\" points=\"599.589,1481.22 599.589,1486.45 639.464,1486.45 639.464,1481.22 599.589,1481.22 \"/>\n",
       "<path clip-path=\"url(#clip862)\" d=\"M639.464 1472.02 L639.464 1486.45 L679.339 1486.45 L679.339 1472.02 L639.464 1472.02 L639.464 1472.02  Z\" fill=\"#8be9fd\" fill-rule=\"evenodd\" fill-opacity=\"1\"/>\n",
       "<polyline clip-path=\"url(#clip862)\" style=\"stroke:#f8f8f2; stroke-linecap:round; stroke-linejoin:round; stroke-width:4; stroke-opacity:1; fill:none\" points=\"639.464,1472.02 639.464,1486.45 679.339,1486.45 679.339,1472.02 639.464,1472.02 \"/>\n",
       "<path clip-path=\"url(#clip862)\" d=\"M679.339 1466.43 L679.339 1486.45 L719.214 1486.45 L719.214 1466.43 L679.339 1466.43 L679.339 1466.43  Z\" fill=\"#8be9fd\" fill-rule=\"evenodd\" fill-opacity=\"1\"/>\n",
       "<polyline clip-path=\"url(#clip862)\" style=\"stroke:#f8f8f2; stroke-linecap:round; stroke-linejoin:round; stroke-width:4; stroke-opacity:1; fill:none\" points=\"679.339,1466.43 679.339,1486.45 719.214,1486.45 719.214,1466.43 679.339,1466.43 \"/>\n",
       "<path clip-path=\"url(#clip862)\" d=\"M719.214 1449.67 L719.214 1486.45 L759.089 1486.45 L759.089 1449.67 L719.214 1449.67 L719.214 1449.67  Z\" fill=\"#8be9fd\" fill-rule=\"evenodd\" fill-opacity=\"1\"/>\n",
       "<polyline clip-path=\"url(#clip862)\" style=\"stroke:#f8f8f2; stroke-linecap:round; stroke-linejoin:round; stroke-width:4; stroke-opacity:1; fill:none\" points=\"719.214,1449.67 719.214,1486.45 759.089,1486.45 759.089,1449.67 719.214,1449.67 \"/>\n",
       "<path clip-path=\"url(#clip862)\" d=\"M759.089 1420.82 L759.089 1486.45 L798.964 1486.45 L798.964 1420.82 L759.089 1420.82 L759.089 1420.82  Z\" fill=\"#8be9fd\" fill-rule=\"evenodd\" fill-opacity=\"1\"/>\n",
       "<polyline clip-path=\"url(#clip862)\" style=\"stroke:#f8f8f2; stroke-linecap:round; stroke-linejoin:round; stroke-width:4; stroke-opacity:1; fill:none\" points=\"759.089,1420.82 759.089,1486.45 798.964,1486.45 798.964,1420.82 759.089,1420.82 \"/>\n",
       "<path clip-path=\"url(#clip862)\" d=\"M798.964 1383.13 L798.964 1486.45 L838.84 1486.45 L838.84 1383.13 L798.964 1383.13 L798.964 1383.13  Z\" fill=\"#8be9fd\" fill-rule=\"evenodd\" fill-opacity=\"1\"/>\n",
       "<polyline clip-path=\"url(#clip862)\" style=\"stroke:#f8f8f2; stroke-linecap:round; stroke-linejoin:round; stroke-width:4; stroke-opacity:1; fill:none\" points=\"798.964,1383.13 798.964,1486.45 838.84,1486.45 838.84,1383.13 798.964,1383.13 \"/>\n",
       "<path clip-path=\"url(#clip862)\" d=\"M838.84 1325.43 L838.84 1486.45 L878.715 1486.45 L878.715 1325.43 L838.84 1325.43 L838.84 1325.43  Z\" fill=\"#8be9fd\" fill-rule=\"evenodd\" fill-opacity=\"1\"/>\n",
       "<polyline clip-path=\"url(#clip862)\" style=\"stroke:#f8f8f2; stroke-linecap:round; stroke-linejoin:round; stroke-width:4; stroke-opacity:1; fill:none\" points=\"838.84,1325.43 838.84,1486.45 878.715,1486.45 878.715,1325.43 838.84,1325.43 \"/>\n",
       "<path clip-path=\"url(#clip862)\" d=\"M878.715 1245.02 L878.715 1486.45 L918.59 1486.45 L918.59 1245.02 L878.715 1245.02 L878.715 1245.02  Z\" fill=\"#8be9fd\" fill-rule=\"evenodd\" fill-opacity=\"1\"/>\n",
       "<polyline clip-path=\"url(#clip862)\" style=\"stroke:#f8f8f2; stroke-linecap:round; stroke-linejoin:round; stroke-width:4; stroke-opacity:1; fill:none\" points=\"878.715,1245.02 878.715,1486.45 918.59,1486.45 918.59,1245.02 878.715,1245.02 \"/>\n",
       "<path clip-path=\"url(#clip862)\" d=\"M918.59 1149.1 L918.59 1486.45 L958.465 1486.45 L958.465 1149.1 L918.59 1149.1 L918.59 1149.1  Z\" fill=\"#8be9fd\" fill-rule=\"evenodd\" fill-opacity=\"1\"/>\n",
       "<polyline clip-path=\"url(#clip862)\" style=\"stroke:#f8f8f2; stroke-linecap:round; stroke-linejoin:round; stroke-width:4; stroke-opacity:1; fill:none\" points=\"918.59,1149.1 918.59,1486.45 958.465,1486.45 958.465,1149.1 918.59,1149.1 \"/>\n",
       "<path clip-path=\"url(#clip862)\" d=\"M958.465 1039.47 L958.465 1486.45 L998.34 1486.45 L998.34 1039.47 L958.465 1039.47 L958.465 1039.47  Z\" fill=\"#8be9fd\" fill-rule=\"evenodd\" fill-opacity=\"1\"/>\n",
       "<polyline clip-path=\"url(#clip862)\" style=\"stroke:#f8f8f2; stroke-linecap:round; stroke-linejoin:round; stroke-width:4; stroke-opacity:1; fill:none\" points=\"958.465,1039.47 958.465,1486.45 998.34,1486.45 998.34,1039.47 958.465,1039.47 \"/>\n",
       "<path clip-path=\"url(#clip862)\" d=\"M998.34 847.803 L998.34 1486.45 L1038.22 1486.45 L1038.22 847.803 L998.34 847.803 L998.34 847.803  Z\" fill=\"#8be9fd\" fill-rule=\"evenodd\" fill-opacity=\"1\"/>\n",
       "<polyline clip-path=\"url(#clip862)\" style=\"stroke:#f8f8f2; stroke-linecap:round; stroke-linejoin:round; stroke-width:4; stroke-opacity:1; fill:none\" points=\"998.34,847.803 998.34,1486.45 1038.22,1486.45 1038.22,847.803 998.34,847.803 \"/>\n",
       "<path clip-path=\"url(#clip862)\" d=\"M1038.22 710.59 L1038.22 1486.45 L1078.09 1486.45 L1078.09 710.59 L1038.22 710.59 L1038.22 710.59  Z\" fill=\"#8be9fd\" fill-rule=\"evenodd\" fill-opacity=\"1\"/>\n",
       "<polyline clip-path=\"url(#clip862)\" style=\"stroke:#f8f8f2; stroke-linecap:round; stroke-linejoin:round; stroke-width:4; stroke-opacity:1; fill:none\" points=\"1038.22,710.59 1038.22,1486.45 1078.09,1486.45 1078.09,710.59 1038.22,710.59 \"/>\n",
       "<path clip-path=\"url(#clip862)\" d=\"M1078.09 513.155 L1078.09 1486.45 L1117.97 1486.45 L1117.97 513.155 L1078.09 513.155 L1078.09 513.155  Z\" fill=\"#8be9fd\" fill-rule=\"evenodd\" fill-opacity=\"1\"/>\n",
       "<polyline clip-path=\"url(#clip862)\" style=\"stroke:#f8f8f2; stroke-linecap:round; stroke-linejoin:round; stroke-width:4; stroke-opacity:1; fill:none\" points=\"1078.09,513.155 1078.09,1486.45 1117.97,1486.45 1117.97,513.155 1078.09,513.155 \"/>\n",
       "<path clip-path=\"url(#clip862)\" d=\"M1117.97 351.24 L1117.97 1486.45 L1157.84 1486.45 L1157.84 351.24 L1117.97 351.24 L1117.97 351.24  Z\" fill=\"#8be9fd\" fill-rule=\"evenodd\" fill-opacity=\"1\"/>\n",
       "<polyline clip-path=\"url(#clip862)\" style=\"stroke:#f8f8f2; stroke-linecap:round; stroke-linejoin:round; stroke-width:4; stroke-opacity:1; fill:none\" points=\"1117.97,351.24 1117.97,1486.45 1157.84,1486.45 1157.84,351.24 1117.97,351.24 \"/>\n",
       "<path clip-path=\"url(#clip862)\" d=\"M1157.84 234.402 L1157.84 1486.45 L1197.72 1486.45 L1197.72 234.402 L1157.84 234.402 L1157.84 234.402  Z\" fill=\"#8be9fd\" fill-rule=\"evenodd\" fill-opacity=\"1\"/>\n",
       "<polyline clip-path=\"url(#clip862)\" style=\"stroke:#f8f8f2; stroke-linecap:round; stroke-linejoin:round; stroke-width:4; stroke-opacity:1; fill:none\" points=\"1157.84,234.402 1157.84,1486.45 1197.72,1486.45 1197.72,234.402 1157.84,234.402 \"/>\n",
       "<path clip-path=\"url(#clip862)\" d=\"M1197.72 94.1237 L1197.72 1486.45 L1237.59 1486.45 L1237.59 94.1237 L1197.72 94.1237 L1197.72 94.1237  Z\" fill=\"#8be9fd\" fill-rule=\"evenodd\" fill-opacity=\"1\"/>\n",
       "<polyline clip-path=\"url(#clip862)\" style=\"stroke:#f8f8f2; stroke-linecap:round; stroke-linejoin:round; stroke-width:4; stroke-opacity:1; fill:none\" points=\"1197.72,94.1237 1197.72,1486.45 1237.59,1486.45 1237.59,94.1237 1197.72,94.1237 \"/>\n",
       "<path clip-path=\"url(#clip862)\" d=\"M1237.59 47.2441 L1237.59 1486.45 L1277.47 1486.45 L1277.47 47.2441 L1237.59 47.2441 L1237.59 47.2441  Z\" fill=\"#8be9fd\" fill-rule=\"evenodd\" fill-opacity=\"1\"/>\n",
       "<polyline clip-path=\"url(#clip862)\" style=\"stroke:#f8f8f2; stroke-linecap:round; stroke-linejoin:round; stroke-width:4; stroke-opacity:1; fill:none\" points=\"1237.59,47.2441 1237.59,1486.45 1277.47,1486.45 1277.47,47.2441 1237.59,47.2441 \"/>\n",
       "<path clip-path=\"url(#clip862)\" d=\"M1277.47 73.0279 L1277.47 1486.45 L1317.34 1486.45 L1317.34 73.0279 L1277.47 73.0279 L1277.47 73.0279  Z\" fill=\"#8be9fd\" fill-rule=\"evenodd\" fill-opacity=\"1\"/>\n",
       "<polyline clip-path=\"url(#clip862)\" style=\"stroke:#f8f8f2; stroke-linecap:round; stroke-linejoin:round; stroke-width:4; stroke-opacity:1; fill:none\" points=\"1277.47,73.0279 1277.47,1486.45 1317.34,1486.45 1317.34,73.0279 1277.47,73.0279 \"/>\n",
       "<path clip-path=\"url(#clip862)\" d=\"M1317.34 120.268 L1317.34 1486.45 L1357.22 1486.45 L1357.22 120.268 L1317.34 120.268 L1317.34 120.268  Z\" fill=\"#8be9fd\" fill-rule=\"evenodd\" fill-opacity=\"1\"/>\n",
       "<polyline clip-path=\"url(#clip862)\" style=\"stroke:#f8f8f2; stroke-linecap:round; stroke-linejoin:round; stroke-width:4; stroke-opacity:1; fill:none\" points=\"1317.34,120.268 1317.34,1486.45 1357.22,1486.45 1357.22,120.268 1317.34,120.268 \"/>\n",
       "<path clip-path=\"url(#clip862)\" d=\"M1357.22 226.829 L1357.22 1486.45 L1397.09 1486.45 L1397.09 226.829 L1357.22 226.829 L1357.22 226.829  Z\" fill=\"#8be9fd\" fill-rule=\"evenodd\" fill-opacity=\"1\"/>\n",
       "<polyline clip-path=\"url(#clip862)\" style=\"stroke:#f8f8f2; stroke-linecap:round; stroke-linejoin:round; stroke-width:4; stroke-opacity:1; fill:none\" points=\"1357.22,226.829 1357.22,1486.45 1397.09,1486.45 1397.09,226.829 1357.22,226.829 \"/>\n",
       "<path clip-path=\"url(#clip862)\" d=\"M1397.09 376.303 L1397.09 1486.45 L1436.97 1486.45 L1436.97 376.303 L1397.09 376.303 L1397.09 376.303  Z\" fill=\"#8be9fd\" fill-rule=\"evenodd\" fill-opacity=\"1\"/>\n",
       "<polyline clip-path=\"url(#clip862)\" style=\"stroke:#f8f8f2; stroke-linecap:round; stroke-linejoin:round; stroke-width:4; stroke-opacity:1; fill:none\" points=\"1397.09,376.303 1397.09,1486.45 1436.97,1486.45 1436.97,376.303 1397.09,376.303 \"/>\n",
       "<path clip-path=\"url(#clip862)\" d=\"M1436.97 517.302 L1436.97 1486.45 L1476.84 1486.45 L1476.84 517.302 L1436.97 517.302 L1436.97 517.302  Z\" fill=\"#8be9fd\" fill-rule=\"evenodd\" fill-opacity=\"1\"/>\n",
       "<polyline clip-path=\"url(#clip862)\" style=\"stroke:#f8f8f2; stroke-linecap:round; stroke-linejoin:round; stroke-width:4; stroke-opacity:1; fill:none\" points=\"1436.97,517.302 1436.97,1486.45 1476.84,1486.45 1476.84,517.302 1436.97,517.302 \"/>\n",
       "<path clip-path=\"url(#clip862)\" d=\"M1476.84 689.314 L1476.84 1486.45 L1516.72 1486.45 L1516.72 689.314 L1476.84 689.314 L1476.84 689.314  Z\" fill=\"#8be9fd\" fill-rule=\"evenodd\" fill-opacity=\"1\"/>\n",
       "<polyline clip-path=\"url(#clip862)\" style=\"stroke:#f8f8f2; stroke-linecap:round; stroke-linejoin:round; stroke-width:4; stroke-opacity:1; fill:none\" points=\"1476.84,689.314 1476.84,1486.45 1516.72,1486.45 1516.72,689.314 1476.84,689.314 \"/>\n",
       "<path clip-path=\"url(#clip862)\" d=\"M1516.72 866.916 L1516.72 1486.45 L1556.59 1486.45 L1556.59 866.916 L1516.72 866.916 L1516.72 866.916  Z\" fill=\"#8be9fd\" fill-rule=\"evenodd\" fill-opacity=\"1\"/>\n",
       "<polyline clip-path=\"url(#clip862)\" style=\"stroke:#f8f8f2; stroke-linecap:round; stroke-linejoin:round; stroke-width:4; stroke-opacity:1; fill:none\" points=\"1516.72,866.916 1516.72,1486.45 1556.59,1486.45 1556.59,866.916 1516.72,866.916 \"/>\n",
       "<path clip-path=\"url(#clip862)\" d=\"M1556.59 1028.11 L1556.59 1486.45 L1596.47 1486.45 L1596.47 1028.11 L1556.59 1028.11 L1556.59 1028.11  Z\" fill=\"#8be9fd\" fill-rule=\"evenodd\" fill-opacity=\"1\"/>\n",
       "<polyline clip-path=\"url(#clip862)\" style=\"stroke:#f8f8f2; stroke-linecap:round; stroke-linejoin:round; stroke-width:4; stroke-opacity:1; fill:none\" points=\"1556.59,1028.11 1556.59,1486.45 1596.47,1486.45 1596.47,1028.11 1556.59,1028.11 \"/>\n",
       "<path clip-path=\"url(#clip862)\" d=\"M1596.47 1144.05 L1596.47 1486.45 L1636.34 1486.45 L1636.34 1144.05 L1596.47 1144.05 L1596.47 1144.05  Z\" fill=\"#8be9fd\" fill-rule=\"evenodd\" fill-opacity=\"1\"/>\n",
       "<polyline clip-path=\"url(#clip862)\" style=\"stroke:#f8f8f2; stroke-linecap:round; stroke-linejoin:round; stroke-width:4; stroke-opacity:1; fill:none\" points=\"1596.47,1144.05 1596.47,1486.45 1636.34,1486.45 1636.34,1144.05 1596.47,1144.05 \"/>\n",
       "<path clip-path=\"url(#clip862)\" d=\"M1636.34 1253.85 L1636.34 1486.45 L1676.22 1486.45 L1676.22 1253.85 L1636.34 1253.85 L1636.34 1253.85  Z\" fill=\"#8be9fd\" fill-rule=\"evenodd\" fill-opacity=\"1\"/>\n",
       "<polyline clip-path=\"url(#clip862)\" style=\"stroke:#f8f8f2; stroke-linecap:round; stroke-linejoin:round; stroke-width:4; stroke-opacity:1; fill:none\" points=\"1636.34,1253.85 1636.34,1486.45 1676.22,1486.45 1676.22,1253.85 1636.34,1253.85 \"/>\n",
       "<path clip-path=\"url(#clip862)\" d=\"M1676.22 1318.58 L1676.22 1486.45 L1716.09 1486.45 L1716.09 1318.58 L1676.22 1318.58 L1676.22 1318.58  Z\" fill=\"#8be9fd\" fill-rule=\"evenodd\" fill-opacity=\"1\"/>\n",
       "<polyline clip-path=\"url(#clip862)\" style=\"stroke:#f8f8f2; stroke-linecap:round; stroke-linejoin:round; stroke-width:4; stroke-opacity:1; fill:none\" points=\"1676.22,1318.58 1676.22,1486.45 1716.09,1486.45 1716.09,1318.58 1676.22,1318.58 \"/>\n",
       "<path clip-path=\"url(#clip862)\" d=\"M1716.09 1389.44 L1716.09 1486.45 L1755.97 1486.45 L1755.97 1389.44 L1716.09 1389.44 L1716.09 1389.44  Z\" fill=\"#8be9fd\" fill-rule=\"evenodd\" fill-opacity=\"1\"/>\n",
       "<polyline clip-path=\"url(#clip862)\" style=\"stroke:#f8f8f2; stroke-linecap:round; stroke-linejoin:round; stroke-width:4; stroke-opacity:1; fill:none\" points=\"1716.09,1389.44 1716.09,1486.45 1755.97,1486.45 1755.97,1389.44 1716.09,1389.44 \"/>\n",
       "<path clip-path=\"url(#clip862)\" d=\"M1755.97 1419.91 L1755.97 1486.45 L1795.84 1486.45 L1795.84 1419.91 L1755.97 1419.91 L1755.97 1419.91  Z\" fill=\"#8be9fd\" fill-rule=\"evenodd\" fill-opacity=\"1\"/>\n",
       "<polyline clip-path=\"url(#clip862)\" style=\"stroke:#f8f8f2; stroke-linecap:round; stroke-linejoin:round; stroke-width:4; stroke-opacity:1; fill:none\" points=\"1755.97,1419.91 1755.97,1486.45 1795.84,1486.45 1795.84,1419.91 1755.97,1419.91 \"/>\n",
       "<path clip-path=\"url(#clip862)\" d=\"M1795.84 1445.88 L1795.84 1486.45 L1835.72 1486.45 L1835.72 1445.88 L1795.84 1445.88 L1795.84 1445.88  Z\" fill=\"#8be9fd\" fill-rule=\"evenodd\" fill-opacity=\"1\"/>\n",
       "<polyline clip-path=\"url(#clip862)\" style=\"stroke:#f8f8f2; stroke-linecap:round; stroke-linejoin:round; stroke-width:4; stroke-opacity:1; fill:none\" points=\"1795.84,1445.88 1795.84,1486.45 1835.72,1486.45 1835.72,1445.88 1795.84,1445.88 \"/>\n",
       "<path clip-path=\"url(#clip862)\" d=\"M1835.72 1462.65 L1835.72 1486.45 L1875.59 1486.45 L1875.59 1462.65 L1835.72 1462.65 L1835.72 1462.65  Z\" fill=\"#8be9fd\" fill-rule=\"evenodd\" fill-opacity=\"1\"/>\n",
       "<polyline clip-path=\"url(#clip862)\" style=\"stroke:#f8f8f2; stroke-linecap:round; stroke-linejoin:round; stroke-width:4; stroke-opacity:1; fill:none\" points=\"1835.72,1462.65 1835.72,1486.45 1875.59,1486.45 1875.59,1462.65 1835.72,1462.65 \"/>\n",
       "<path clip-path=\"url(#clip862)\" d=\"M1875.59 1474.55 L1875.59 1486.45 L1915.47 1486.45 L1915.47 1474.55 L1875.59 1474.55 L1875.59 1474.55  Z\" fill=\"#8be9fd\" fill-rule=\"evenodd\" fill-opacity=\"1\"/>\n",
       "<polyline clip-path=\"url(#clip862)\" style=\"stroke:#f8f8f2; stroke-linecap:round; stroke-linejoin:round; stroke-width:4; stroke-opacity:1; fill:none\" points=\"1875.59,1474.55 1875.59,1486.45 1915.47,1486.45 1915.47,1474.55 1875.59,1474.55 \"/>\n",
       "<path clip-path=\"url(#clip862)\" d=\"M1915.47 1480.86 L1915.47 1486.45 L1955.34 1486.45 L1955.34 1480.86 L1915.47 1480.86 L1915.47 1480.86  Z\" fill=\"#8be9fd\" fill-rule=\"evenodd\" fill-opacity=\"1\"/>\n",
       "<polyline clip-path=\"url(#clip862)\" style=\"stroke:#f8f8f2; stroke-linecap:round; stroke-linejoin:round; stroke-width:4; stroke-opacity:1; fill:none\" points=\"1915.47,1480.86 1915.47,1486.45 1955.34,1486.45 1955.34,1480.86 1915.47,1480.86 \"/>\n",
       "<path clip-path=\"url(#clip862)\" d=\"M1955.34 1484.1 L1955.34 1486.45 L1995.22 1486.45 L1995.22 1484.1 L1955.34 1484.1 L1955.34 1484.1  Z\" fill=\"#8be9fd\" fill-rule=\"evenodd\" fill-opacity=\"1\"/>\n",
       "<polyline clip-path=\"url(#clip862)\" style=\"stroke:#f8f8f2; stroke-linecap:round; stroke-linejoin:round; stroke-width:4; stroke-opacity:1; fill:none\" points=\"1955.34,1484.1 1955.34,1486.45 1995.22,1486.45 1995.22,1484.1 1955.34,1484.1 \"/>\n",
       "<path clip-path=\"url(#clip862)\" d=\"M1995.22 1484.28 L1995.22 1486.45 L2035.09 1486.45 L2035.09 1484.28 L1995.22 1484.28 L1995.22 1484.28  Z\" fill=\"#8be9fd\" fill-rule=\"evenodd\" fill-opacity=\"1\"/>\n",
       "<polyline clip-path=\"url(#clip862)\" style=\"stroke:#f8f8f2; stroke-linecap:round; stroke-linejoin:round; stroke-width:4; stroke-opacity:1; fill:none\" points=\"1995.22,1484.28 1995.22,1486.45 2035.09,1486.45 2035.09,1484.28 1995.22,1484.28 \"/>\n",
       "<path clip-path=\"url(#clip862)\" d=\"M2035.09 1485.73 L2035.09 1486.45 L2074.97 1486.45 L2074.97 1485.73 L2035.09 1485.73 L2035.09 1485.73  Z\" fill=\"#8be9fd\" fill-rule=\"evenodd\" fill-opacity=\"1\"/>\n",
       "<polyline clip-path=\"url(#clip862)\" style=\"stroke:#f8f8f2; stroke-linecap:round; stroke-linejoin:round; stroke-width:4; stroke-opacity:1; fill:none\" points=\"2035.09,1485.73 2035.09,1486.45 2074.97,1486.45 2074.97,1485.73 2035.09,1485.73 \"/>\n",
       "<path clip-path=\"url(#clip862)\" d=\"M2074.97 1486.45 L2074.97 1486.45 L2114.84 1486.45 L2114.84 1486.45 L2074.97 1486.45 L2074.97 1486.45  Z\" fill=\"#8be9fd\" fill-rule=\"evenodd\" fill-opacity=\"1\"/>\n",
       "<polyline clip-path=\"url(#clip862)\" style=\"stroke:#f8f8f2; stroke-linecap:round; stroke-linejoin:round; stroke-width:4; stroke-opacity:1; fill:none\" points=\"2074.97,1486.45 2074.97,1486.45 2114.84,1486.45 2074.97,1486.45 \"/>\n",
       "<path clip-path=\"url(#clip862)\" d=\"M2114.84 1486.45 L2114.84 1486.45 L2154.72 1486.45 L2154.72 1486.45 L2114.84 1486.45 L2114.84 1486.45  Z\" fill=\"#8be9fd\" fill-rule=\"evenodd\" fill-opacity=\"1\"/>\n",
       "<polyline clip-path=\"url(#clip862)\" style=\"stroke:#f8f8f2; stroke-linecap:round; stroke-linejoin:round; stroke-width:4; stroke-opacity:1; fill:none\" points=\"2114.84,1486.45 2114.84,1486.45 2154.72,1486.45 2114.84,1486.45 \"/>\n",
       "<path clip-path=\"url(#clip862)\" d=\"M2154.72 1486.45 L2154.72 1486.45 L2194.6 1486.45 L2194.6 1486.45 L2154.72 1486.45 L2154.72 1486.45  Z\" fill=\"#8be9fd\" fill-rule=\"evenodd\" fill-opacity=\"1\"/>\n",
       "<polyline clip-path=\"url(#clip862)\" style=\"stroke:#f8f8f2; stroke-linecap:round; stroke-linejoin:round; stroke-width:4; stroke-opacity:1; fill:none\" points=\"2154.72,1486.45 2154.72,1486.45 2194.6,1486.45 2154.72,1486.45 \"/>\n",
       "<path clip-path=\"url(#clip862)\" d=\"M2194.6 1486.27 L2194.6 1486.45 L2234.47 1486.45 L2234.47 1486.27 L2194.6 1486.27 L2194.6 1486.27  Z\" fill=\"#8be9fd\" fill-rule=\"evenodd\" fill-opacity=\"1\"/>\n",
       "<polyline clip-path=\"url(#clip862)\" style=\"stroke:#f8f8f2; stroke-linecap:round; stroke-linejoin:round; stroke-width:4; stroke-opacity:1; fill:none\" points=\"2194.6,1486.27 2194.6,1486.45 2234.47,1486.45 2234.47,1486.27 2194.6,1486.27 \"/>\n",
       "<circle clip-path=\"url(#clip862)\" style=\"fill:#8be9fd; stroke:none; fill-opacity:0\" cx=\"340.4\" cy=\"1486.27\" r=\"2\"/>\n",
       "<circle clip-path=\"url(#clip862)\" style=\"fill:#8be9fd; stroke:none; fill-opacity:0\" cx=\"380.275\" cy=\"1486.27\" r=\"2\"/>\n",
       "<circle clip-path=\"url(#clip862)\" style=\"fill:#8be9fd; stroke:none; fill-opacity:0\" cx=\"420.15\" cy=\"1486.27\" r=\"2\"/>\n",
       "<circle clip-path=\"url(#clip862)\" style=\"fill:#8be9fd; stroke:none; fill-opacity:0\" cx=\"460.025\" cy=\"1486.27\" r=\"2\"/>\n",
       "<circle clip-path=\"url(#clip862)\" style=\"fill:#8be9fd; stroke:none; fill-opacity:0\" cx=\"499.901\" cy=\"1485.91\" r=\"2\"/>\n",
       "<circle clip-path=\"url(#clip862)\" style=\"fill:#8be9fd; stroke:none; fill-opacity:0\" cx=\"539.776\" cy=\"1485.37\" r=\"2\"/>\n",
       "<circle clip-path=\"url(#clip862)\" style=\"fill:#8be9fd; stroke:none; fill-opacity:0\" cx=\"579.651\" cy=\"1484.1\" r=\"2\"/>\n",
       "<circle clip-path=\"url(#clip862)\" style=\"fill:#8be9fd; stroke:none; fill-opacity:0\" cx=\"619.526\" cy=\"1481.22\" r=\"2\"/>\n",
       "<circle clip-path=\"url(#clip862)\" style=\"fill:#8be9fd; stroke:none; fill-opacity:0\" cx=\"659.401\" cy=\"1472.02\" r=\"2\"/>\n",
       "<circle clip-path=\"url(#clip862)\" style=\"fill:#8be9fd; stroke:none; fill-opacity:0\" cx=\"699.276\" cy=\"1466.43\" r=\"2\"/>\n",
       "<circle clip-path=\"url(#clip862)\" style=\"fill:#8be9fd; stroke:none; fill-opacity:0\" cx=\"739.152\" cy=\"1449.67\" r=\"2\"/>\n",
       "<circle clip-path=\"url(#clip862)\" style=\"fill:#8be9fd; stroke:none; fill-opacity:0\" cx=\"779.027\" cy=\"1420.82\" r=\"2\"/>\n",
       "<circle clip-path=\"url(#clip862)\" style=\"fill:#8be9fd; stroke:none; fill-opacity:0\" cx=\"818.902\" cy=\"1383.13\" r=\"2\"/>\n",
       "<circle clip-path=\"url(#clip862)\" style=\"fill:#8be9fd; stroke:none; fill-opacity:0\" cx=\"858.777\" cy=\"1325.43\" r=\"2\"/>\n",
       "<circle clip-path=\"url(#clip862)\" style=\"fill:#8be9fd; stroke:none; fill-opacity:0\" cx=\"898.652\" cy=\"1245.02\" r=\"2\"/>\n",
       "<circle clip-path=\"url(#clip862)\" style=\"fill:#8be9fd; stroke:none; fill-opacity:0\" cx=\"938.527\" cy=\"1149.1\" r=\"2\"/>\n",
       "<circle clip-path=\"url(#clip862)\" style=\"fill:#8be9fd; stroke:none; fill-opacity:0\" cx=\"978.403\" cy=\"1039.47\" r=\"2\"/>\n",
       "<circle clip-path=\"url(#clip862)\" style=\"fill:#8be9fd; stroke:none; fill-opacity:0\" cx=\"1018.28\" cy=\"847.803\" r=\"2\"/>\n",
       "<circle clip-path=\"url(#clip862)\" style=\"fill:#8be9fd; stroke:none; fill-opacity:0\" cx=\"1058.15\" cy=\"710.59\" r=\"2\"/>\n",
       "<circle clip-path=\"url(#clip862)\" style=\"fill:#8be9fd; stroke:none; fill-opacity:0\" cx=\"1098.03\" cy=\"513.155\" r=\"2\"/>\n",
       "<circle clip-path=\"url(#clip862)\" style=\"fill:#8be9fd; stroke:none; fill-opacity:0\" cx=\"1137.9\" cy=\"351.24\" r=\"2\"/>\n",
       "<circle clip-path=\"url(#clip862)\" style=\"fill:#8be9fd; stroke:none; fill-opacity:0\" cx=\"1177.78\" cy=\"234.402\" r=\"2\"/>\n",
       "<circle clip-path=\"url(#clip862)\" style=\"fill:#8be9fd; stroke:none; fill-opacity:0\" cx=\"1217.65\" cy=\"94.1237\" r=\"2\"/>\n",
       "<circle clip-path=\"url(#clip862)\" style=\"fill:#8be9fd; stroke:none; fill-opacity:0\" cx=\"1257.53\" cy=\"47.2441\" r=\"2\"/>\n",
       "<circle clip-path=\"url(#clip862)\" style=\"fill:#8be9fd; stroke:none; fill-opacity:0\" cx=\"1297.4\" cy=\"73.0279\" r=\"2\"/>\n",
       "<circle clip-path=\"url(#clip862)\" style=\"fill:#8be9fd; stroke:none; fill-opacity:0\" cx=\"1337.28\" cy=\"120.268\" r=\"2\"/>\n",
       "<circle clip-path=\"url(#clip862)\" style=\"fill:#8be9fd; stroke:none; fill-opacity:0\" cx=\"1377.15\" cy=\"226.829\" r=\"2\"/>\n",
       "<circle clip-path=\"url(#clip862)\" style=\"fill:#8be9fd; stroke:none; fill-opacity:0\" cx=\"1417.03\" cy=\"376.303\" r=\"2\"/>\n",
       "<circle clip-path=\"url(#clip862)\" style=\"fill:#8be9fd; stroke:none; fill-opacity:0\" cx=\"1456.9\" cy=\"517.302\" r=\"2\"/>\n",
       "<circle clip-path=\"url(#clip862)\" style=\"fill:#8be9fd; stroke:none; fill-opacity:0\" cx=\"1496.78\" cy=\"689.314\" r=\"2\"/>\n",
       "<circle clip-path=\"url(#clip862)\" style=\"fill:#8be9fd; stroke:none; fill-opacity:0\" cx=\"1536.65\" cy=\"866.916\" r=\"2\"/>\n",
       "<circle clip-path=\"url(#clip862)\" style=\"fill:#8be9fd; stroke:none; fill-opacity:0\" cx=\"1576.53\" cy=\"1028.11\" r=\"2\"/>\n",
       "<circle clip-path=\"url(#clip862)\" style=\"fill:#8be9fd; stroke:none; fill-opacity:0\" cx=\"1616.41\" cy=\"1144.05\" r=\"2\"/>\n",
       "<circle clip-path=\"url(#clip862)\" style=\"fill:#8be9fd; stroke:none; fill-opacity:0\" cx=\"1656.28\" cy=\"1253.85\" r=\"2\"/>\n",
       "<circle clip-path=\"url(#clip862)\" style=\"fill:#8be9fd; stroke:none; fill-opacity:0\" cx=\"1696.16\" cy=\"1318.58\" r=\"2\"/>\n",
       "<circle clip-path=\"url(#clip862)\" style=\"fill:#8be9fd; stroke:none; fill-opacity:0\" cx=\"1736.03\" cy=\"1389.44\" r=\"2\"/>\n",
       "<circle clip-path=\"url(#clip862)\" style=\"fill:#8be9fd; stroke:none; fill-opacity:0\" cx=\"1775.91\" cy=\"1419.91\" r=\"2\"/>\n",
       "<circle clip-path=\"url(#clip862)\" style=\"fill:#8be9fd; stroke:none; fill-opacity:0\" cx=\"1815.78\" cy=\"1445.88\" r=\"2\"/>\n",
       "<circle clip-path=\"url(#clip862)\" style=\"fill:#8be9fd; stroke:none; fill-opacity:0\" cx=\"1855.66\" cy=\"1462.65\" r=\"2\"/>\n",
       "<circle clip-path=\"url(#clip862)\" style=\"fill:#8be9fd; stroke:none; fill-opacity:0\" cx=\"1895.53\" cy=\"1474.55\" r=\"2\"/>\n",
       "<circle clip-path=\"url(#clip862)\" style=\"fill:#8be9fd; stroke:none; fill-opacity:0\" cx=\"1935.41\" cy=\"1480.86\" r=\"2\"/>\n",
       "<circle clip-path=\"url(#clip862)\" style=\"fill:#8be9fd; stroke:none; fill-opacity:0\" cx=\"1975.28\" cy=\"1484.1\" r=\"2\"/>\n",
       "<circle clip-path=\"url(#clip862)\" style=\"fill:#8be9fd; stroke:none; fill-opacity:0\" cx=\"2015.16\" cy=\"1484.28\" r=\"2\"/>\n",
       "<circle clip-path=\"url(#clip862)\" style=\"fill:#8be9fd; stroke:none; fill-opacity:0\" cx=\"2055.03\" cy=\"1485.73\" r=\"2\"/>\n",
       "<circle clip-path=\"url(#clip862)\" style=\"fill:#8be9fd; stroke:none; fill-opacity:0\" cx=\"2094.91\" cy=\"1486.45\" r=\"2\"/>\n",
       "<circle clip-path=\"url(#clip862)\" style=\"fill:#8be9fd; stroke:none; fill-opacity:0\" cx=\"2134.78\" cy=\"1486.45\" r=\"2\"/>\n",
       "<circle clip-path=\"url(#clip862)\" style=\"fill:#8be9fd; stroke:none; fill-opacity:0\" cx=\"2174.66\" cy=\"1486.45\" r=\"2\"/>\n",
       "<circle clip-path=\"url(#clip862)\" style=\"fill:#8be9fd; stroke:none; fill-opacity:0\" cx=\"2214.53\" cy=\"1486.27\" r=\"2\"/>\n",
       "</svg>\n"
      ]
     },
     "execution_count": 91,
     "metadata": {},
     "output_type": "execute_result"
    }
   ],
   "source": [
    "x = randn(10^5)\n",
    "histogram(x, bins=64, legend=false)"
   ]
  },
  {
   "cell_type": "code",
   "execution_count": 92,
   "metadata": {},
   "outputs": [
    {
     "data": {
      "text/latex": [
       "\\textbf{Histogram in 2D}\n",
       "\n"
      ],
      "text/markdown": [
       "**Histogram in 2D**\n"
      ],
      "text/plain": [
       "  \u001b[1mHistogram in 2D\u001b[22m"
      ]
     },
     "execution_count": 92,
     "metadata": {},
     "output_type": "execute_result"
    }
   ],
   "source": [
    "md\"**Histogram in 2D**\""
   ]
  },
  {
   "cell_type": "code",
   "execution_count": 93,
   "metadata": {},
   "outputs": [
    {
     "data": {
      "image/png": "[encoded data removed]",
      "image/svg+xml": [
       "<?xml version=\"1.0\" encoding=\"utf-8\"?>\n",
       "<svg xmlns=\"http://www.w3.org/2000/svg\" xmlns:xlink=\"http://www.w3.org/1999/xlink\" width=\"600\" height=\"400\" viewBox=\"0 0 2400 1600\">\n",
       "<defs>\n",
       "  <clipPath id=\"clip900\">\n",
       "    <rect x=\"0\" y=\"0\" width=\"2400\" height=\"1600\"/>\n",
       "  </clipPath>\n",
       "</defs>\n",
       "<path clip-path=\"url(#clip900)\" d=\"M0 1600 L2400 1600 L2400 0 L0 0  Z\" fill=\"#282a36\" fill-rule=\"evenodd\" fill-opacity=\"1\"/>\n",
       "<defs>\n",
       "  <clipPath id=\"clip901\">\n",
       "    <rect x=\"480\" y=\"0\" width=\"1681\" height=\"1600\"/>\n",
       "  </clipPath>\n",
       "</defs>\n",
       "<path clip-path=\"url(#clip900)\" d=\"M149.191 1486.45 L2112.76 1486.45 L2112.76 47.2441 L149.191 47.2441  Z\" fill=\"#30343b\" fill-rule=\"evenodd\" fill-opacity=\"1\"/>\n",
       "<defs>\n",
       "  <clipPath id=\"clip902\">\n",
       "    <rect x=\"149\" y=\"47\" width=\"1965\" height=\"1440\"/>\n",
       "  </clipPath>\n",
       "</defs>\n",
       "<polyline clip-path=\"url(#clip902)\" style=\"stroke:#f8f8f2; stroke-linecap:round; stroke-linejoin:round; stroke-width:2; stroke-opacity:0.1; fill:none\" points=\"242.694,1486.45 242.694,47.2441 \"/>\n",
       "<polyline clip-path=\"url(#clip902)\" style=\"stroke:#f8f8f2; stroke-linecap:round; stroke-linejoin:round; stroke-width:2; stroke-opacity:0.1; fill:none\" points=\"710.209,1486.45 710.209,47.2441 \"/>\n",
       "<polyline clip-path=\"url(#clip902)\" style=\"stroke:#f8f8f2; stroke-linecap:round; stroke-linejoin:round; stroke-width:2; stroke-opacity:0.1; fill:none\" points=\"1177.72,1486.45 1177.72,47.2441 \"/>\n",
       "<polyline clip-path=\"url(#clip902)\" style=\"stroke:#f8f8f2; stroke-linecap:round; stroke-linejoin:round; stroke-width:2; stroke-opacity:0.1; fill:none\" points=\"1645.24,1486.45 1645.24,47.2441 \"/>\n",
       "<polyline clip-path=\"url(#clip902)\" style=\"stroke:#f8f8f2; stroke-linecap:round; stroke-linejoin:round; stroke-width:2; stroke-opacity:0.1; fill:none\" points=\"2112.76,1486.45 2112.76,47.2441 \"/>\n",
       "<polyline clip-path=\"url(#clip902)\" style=\"stroke:#f8f8f2; stroke-linecap:round; stroke-linejoin:round; stroke-width:2; stroke-opacity:0.1; fill:none\" points=\"149.191,1452.98 2112.76,1452.98 \"/>\n",
       "<polyline clip-path=\"url(#clip902)\" style=\"stroke:#f8f8f2; stroke-linecap:round; stroke-linejoin:round; stroke-width:2; stroke-opacity:0.1; fill:none\" points=\"149.191,1118.28 2112.76,1118.28 \"/>\n",
       "<polyline clip-path=\"url(#clip902)\" style=\"stroke:#f8f8f2; stroke-linecap:round; stroke-linejoin:round; stroke-width:2; stroke-opacity:0.1; fill:none\" points=\"149.191,783.581 2112.76,783.581 \"/>\n",
       "<polyline clip-path=\"url(#clip902)\" style=\"stroke:#f8f8f2; stroke-linecap:round; stroke-linejoin:round; stroke-width:2; stroke-opacity:0.1; fill:none\" points=\"149.191,448.882 2112.76,448.882 \"/>\n",
       "<polyline clip-path=\"url(#clip902)\" style=\"stroke:#f8f8f2; stroke-linecap:round; stroke-linejoin:round; stroke-width:2; stroke-opacity:0.1; fill:none\" points=\"149.191,114.184 2112.76,114.184 \"/>\n",
       "<polyline clip-path=\"url(#clip900)\" style=\"stroke:#f8f8f2; stroke-linecap:round; stroke-linejoin:round; stroke-width:4; stroke-opacity:1; fill:none\" points=\"149.191,1486.45 2112.76,1486.45 \"/>\n",
       "<polyline clip-path=\"url(#clip900)\" style=\"stroke:#f8f8f2; stroke-linecap:round; stroke-linejoin:round; stroke-width:4; stroke-opacity:1; fill:none\" points=\"242.694,1486.45 242.694,1467.55 \"/>\n",
       "<polyline clip-path=\"url(#clip900)\" style=\"stroke:#f8f8f2; stroke-linecap:round; stroke-linejoin:round; stroke-width:4; stroke-opacity:1; fill:none\" points=\"710.209,1486.45 710.209,1467.55 \"/>\n",
       "<polyline clip-path=\"url(#clip900)\" style=\"stroke:#f8f8f2; stroke-linecap:round; stroke-linejoin:round; stroke-width:4; stroke-opacity:1; fill:none\" points=\"1177.72,1486.45 1177.72,1467.55 \"/>\n",
       "<polyline clip-path=\"url(#clip900)\" style=\"stroke:#f8f8f2; stroke-linecap:round; stroke-linejoin:round; stroke-width:4; stroke-opacity:1; fill:none\" points=\"1645.24,1486.45 1645.24,1467.55 \"/>\n",
       "<polyline clip-path=\"url(#clip900)\" style=\"stroke:#f8f8f2; stroke-linecap:round; stroke-linejoin:round; stroke-width:4; stroke-opacity:1; fill:none\" points=\"2112.76,1486.45 2112.76,1467.55 \"/>\n",
       "<path clip-path=\"url(#clip900)\" d=\"M211.595 1532.02 L241.27 1532.02 L241.27 1535.95 L211.595 1535.95 L211.595 1532.02 Z\" fill=\"#f8f8f2\" fill-rule=\"nonzero\" fill-opacity=\"1\" /><path clip-path=\"url(#clip900)\" d=\"M264.21 1518.36 L252.405 1536.81 L264.21 1536.81 L264.21 1518.36 M262.983 1514.29 L268.863 1514.29 L268.863 1536.81 L273.793 1536.81 L273.793 1540.7 L268.863 1540.7 L268.863 1548.85 L264.21 1548.85 L264.21 1540.7 L248.608 1540.7 L248.608 1536.19 L262.983 1514.29 Z\" fill=\"#f8f8f2\" fill-rule=\"nonzero\" fill-opacity=\"1\" /><path clip-path=\"url(#clip900)\" d=\"M680.152 1532.02 L709.828 1532.02 L709.828 1535.95 L680.152 1535.95 L680.152 1532.02 Z\" fill=\"#f8f8f2\" fill-rule=\"nonzero\" fill-opacity=\"1\" /><path clip-path=\"url(#clip900)\" d=\"M723.948 1544.91 L740.267 1544.91 L740.267 1548.85 L718.323 1548.85 L718.323 1544.91 Q720.985 1542.16 725.568 1537.53 Q730.175 1532.88 731.355 1531.53 Q733.601 1529.01 734.48 1527.27 Q735.383 1525.51 735.383 1523.82 Q735.383 1521.07 733.438 1519.33 Q731.517 1517.6 728.415 1517.6 Q726.216 1517.6 723.763 1518.36 Q721.332 1519.13 718.554 1520.68 L718.554 1515.95 Q721.378 1514.82 723.832 1514.24 Q726.286 1513.66 728.323 1513.66 Q733.693 1513.66 736.888 1516.35 Q740.082 1519.03 740.082 1523.52 Q740.082 1525.65 739.272 1527.57 Q738.485 1529.47 736.378 1532.07 Q735.8 1532.74 732.698 1535.95 Q729.596 1539.15 723.948 1544.91 Z\" fill=\"#f8f8f2\" fill-rule=\"nonzero\" fill-opacity=\"1\" /><path clip-path=\"url(#clip900)\" d=\"M1177.72 1517.37 Q1174.11 1517.37 1172.29 1520.93 Q1170.48 1524.47 1170.48 1531.6 Q1170.48 1538.71 1172.29 1542.27 Q1174.11 1545.82 1177.72 1545.82 Q1181.36 1545.82 1183.16 1542.27 Q1184.99 1538.71 1184.99 1531.6 Q1184.99 1524.47 1183.16 1520.93 Q1181.36 1517.37 1177.72 1517.37 M1177.72 1513.66 Q1183.54 1513.66 1186.59 1518.27 Q1189.67 1522.85 1189.67 1531.6 Q1189.67 1540.33 1186.59 1544.94 Q1183.54 1549.52 1177.72 1549.52 Q1171.91 1549.52 1168.84 1544.94 Q1165.78 1540.33 1165.78 1531.6 Q1165.78 1522.85 1168.84 1518.27 Q1171.91 1513.66 1177.72 1513.66 Z\" fill=\"#f8f8f2\" fill-rule=\"nonzero\" fill-opacity=\"1\" /><path clip-path=\"url(#clip900)\" d=\"M1639.89 1544.91 L1656.21 1544.91 L1656.21 1548.85 L1634.27 1548.85 L1634.27 1544.91 Q1636.93 1542.16 1641.51 1537.53 Q1646.12 1532.88 1647.3 1531.53 Q1649.55 1529.01 1650.43 1527.27 Q1651.33 1525.51 1651.33 1523.82 Q1651.33 1521.07 1649.38 1519.33 Q1647.46 1517.6 1644.36 1517.6 Q1642.16 1517.6 1639.71 1518.36 Q1637.28 1519.13 1634.5 1520.68 L1634.5 1515.95 Q1637.32 1514.82 1639.78 1514.24 Q1642.23 1513.66 1644.27 1513.66 Q1649.64 1513.66 1652.83 1516.35 Q1656.03 1519.03 1656.03 1523.52 Q1656.03 1525.65 1655.22 1527.57 Q1654.43 1529.47 1652.32 1532.07 Q1651.75 1532.74 1648.64 1535.95 Q1645.54 1539.15 1639.89 1544.91 Z\" fill=\"#f8f8f2\" fill-rule=\"nonzero\" fill-opacity=\"1\" /><path clip-path=\"url(#clip900)\" d=\"M2115.77 1518.36 L2103.96 1536.81 L2115.77 1536.81 L2115.77 1518.36 M2114.54 1514.29 L2120.42 1514.29 L2120.42 1536.81 L2125.35 1536.81 L2125.35 1540.7 L2120.42 1540.7 L2120.42 1548.85 L2115.77 1548.85 L2115.77 1540.7 L2100.16 1540.7 L2100.16 1536.19 L2114.54 1514.29 Z\" fill=\"#f8f8f2\" fill-rule=\"nonzero\" fill-opacity=\"1\" /><polyline clip-path=\"url(#clip900)\" style=\"stroke:#f8f8f2; stroke-linecap:round; stroke-linejoin:round; stroke-width:4; stroke-opacity:1; fill:none\" points=\"149.191,1486.45 149.191,47.2441 \"/>\n",
       "<polyline clip-path=\"url(#clip900)\" style=\"stroke:#f8f8f2; stroke-linecap:round; stroke-linejoin:round; stroke-width:4; stroke-opacity:1; fill:none\" points=\"149.191,1452.98 166.03,1452.98 \"/>\n",
       "<polyline clip-path=\"url(#clip900)\" style=\"stroke:#f8f8f2; stroke-linecap:round; stroke-linejoin:round; stroke-width:4; stroke-opacity:1; fill:none\" points=\"149.191,1118.28 166.03,1118.28 \"/>\n",
       "<polyline clip-path=\"url(#clip900)\" style=\"stroke:#f8f8f2; stroke-linecap:round; stroke-linejoin:round; stroke-width:4; stroke-opacity:1; fill:none\" points=\"149.191,783.581 166.03,783.581 \"/>\n",
       "<polyline clip-path=\"url(#clip900)\" style=\"stroke:#f8f8f2; stroke-linecap:round; stroke-linejoin:round; stroke-width:4; stroke-opacity:1; fill:none\" points=\"149.191,448.882 166.03,448.882 \"/>\n",
       "<polyline clip-path=\"url(#clip900)\" style=\"stroke:#f8f8f2; stroke-linecap:round; stroke-linejoin:round; stroke-width:4; stroke-opacity:1; fill:none\" points=\"149.191,114.184 166.03,114.184 \"/>\n",
       "<path clip-path=\"url(#clip900)\" d=\"M50.9921 1453.43 L80.6679 1453.43 L80.6679 1457.36 L50.9921 1457.36 L50.9921 1453.43 Z\" fill=\"#f8f8f2\" fill-rule=\"nonzero\" fill-opacity=\"1\" /><path clip-path=\"url(#clip900)\" d=\"M103.608 1439.77 L91.8021 1458.22 L103.608 1458.22 L103.608 1439.77 M102.381 1435.7 L108.26 1435.7 L108.26 1458.22 L113.191 1458.22 L113.191 1462.11 L108.26 1462.11 L108.26 1470.26 L103.608 1470.26 L103.608 1462.11 L88.0058 1462.11 L88.0058 1457.6 L102.381 1435.7 Z\" fill=\"#f8f8f2\" fill-rule=\"nonzero\" fill-opacity=\"1\" /><path clip-path=\"url(#clip900)\" d=\"M53.0754 1118.73 L82.7512 1118.73 L82.7512 1122.67 L53.0754 1122.67 L53.0754 1118.73 Z\" fill=\"#f8f8f2\" fill-rule=\"nonzero\" fill-opacity=\"1\" /><path clip-path=\"url(#clip900)\" d=\"M96.8715 1131.62 L113.191 1131.62 L113.191 1135.56 L91.2465 1135.56 L91.2465 1131.62 Q93.9086 1128.87 98.4919 1124.24 Q103.098 1119.59 104.279 1118.24 Q106.524 1115.72 107.404 1113.99 Q108.307 1112.23 108.307 1110.54 Q108.307 1107.78 106.362 1106.05 Q104.441 1104.31 101.339 1104.31 Q99.14 1104.31 96.6863 1105.07 Q94.2558 1105.84 91.478 1107.39 L91.478 1102.67 Q94.3021 1101.53 96.7558 1100.95 Q99.2095 1100.37 101.246 1100.37 Q106.617 1100.37 109.811 1103.06 Q113.006 1105.74 113.006 1110.24 Q113.006 1112.37 112.196 1114.29 Q111.408 1116.18 109.302 1118.78 Q108.723 1119.45 105.621 1122.67 Q102.52 1125.86 96.8715 1131.62 Z\" fill=\"#f8f8f2\" fill-rule=\"nonzero\" fill-opacity=\"1\" /><path clip-path=\"url(#clip900)\" d=\"M101.246 769.38 Q97.6354 769.38 95.8067 772.944 Q94.0012 776.486 94.0012 783.616 Q94.0012 790.722 95.8067 794.287 Q97.6354 797.829 101.246 797.829 Q104.881 797.829 106.686 794.287 Q108.515 790.722 108.515 783.616 Q108.515 776.486 106.686 772.944 Q104.881 769.38 101.246 769.38 M101.246 765.676 Q107.057 765.676 110.112 770.282 Q113.191 774.866 113.191 783.616 Q113.191 792.342 110.112 796.949 Q107.057 801.532 101.246 801.532 Q95.4363 801.532 92.3576 796.949 Q89.3021 792.342 89.3021 783.616 Q89.3021 774.866 92.3576 770.282 Q95.4363 765.676 101.246 765.676 Z\" fill=\"#f8f8f2\" fill-rule=\"nonzero\" fill-opacity=\"1\" /><path clip-path=\"url(#clip900)\" d=\"M96.8715 462.227 L113.191 462.227 L113.191 466.162 L91.2465 466.162 L91.2465 462.227 Q93.9086 459.473 98.4919 454.843 Q103.098 450.19 104.279 448.848 Q106.524 446.325 107.404 444.588 Q108.307 442.829 108.307 441.139 Q108.307 438.385 106.362 436.649 Q104.441 434.913 101.339 434.913 Q99.14 434.913 96.6863 435.676 Q94.2558 436.44 91.478 437.991 L91.478 433.269 Q94.3021 432.135 96.7558 431.556 Q99.2095 430.977 101.246 430.977 Q106.617 430.977 109.811 433.663 Q113.006 436.348 113.006 440.838 Q113.006 442.968 112.196 444.889 Q111.408 446.787 109.302 449.38 Q108.723 450.051 105.621 453.269 Q102.52 456.463 96.8715 462.227 Z\" fill=\"#f8f8f2\" fill-rule=\"nonzero\" fill-opacity=\"1\" /><path clip-path=\"url(#clip900)\" d=\"M103.608 100.978 L91.8021 119.427 L103.608 119.427 L103.608 100.978 M102.381 96.9038 L108.26 96.9038 L108.26 119.427 L113.191 119.427 L113.191 123.316 L108.26 123.316 L108.26 131.464 L103.608 131.464 L103.608 123.316 L88.0058 123.316 L88.0058 118.802 L102.381 96.9038 Z\" fill=\"#f8f8f2\" fill-rule=\"nonzero\" fill-opacity=\"1\" /><g clip-path=\"url(#clip902)\">\n",
       "<image width=\"1964\" height=\"1439\" xlink:href=\"data:image/png;base64,\n",
       "iVBORw0KGgoAAAANSUhEUgAAB6wAAAWfCAYAAAAf3Aj/AAAgAElEQVR4nOzbQXIcV3pG0ZdVAEhJ\n",
       "3ZbaEw+9GWgHYIdX6AmxA2M9HnjW0bIEgqhKL6GttMXLnzhnBV9kvMrMqgtsCwAAAIAv5n572OsN\n",
       "Rz3tj1u9AQAA+Lac6gEAAAAAAAAAvE2CNQAAAAAAAAAJwRoAAAAAAACAhGANAAAAAAAAQEKwBgAA\n",
       "AAAAACAhWAMAAAAAAACQEKwBAAAAAAAASAjWAAAAAAAAACQEawAAAAAAAAASgjUAAAAAAAAACcEa\n",
       "AAAAAAAAgIRgDQAAAAAAAEBCsAYAAAAAAAAgIVgDAAAAAAAAkBCsAQAAAAAAAEgI1gAAAAAAAAAk\n",
       "BGsAAAAAAAAAEoI1AAAAAAAAAAnBGgAAAAAAAICEYA0AAAAAAABAQrAGAAAAAAAAICFYAwAAAAAA\n",
       "AJAQrAEAAAAAAABICNYAAAAAAAAAJARrAAAAAAAAABKCNQAAAAAAAAAJwRoAAAAAAACAhGANAAAA\n",
       "AAAAQEKwBgAAAAAAACAhWAMAAAAAAACQEKwBAAAAAAAASAjWAAAAAAAAACQEawAAAAAAAAASWz0A\n",
       "AACA/z/3pw97veGop+tH31G/sPvtYe552R+dFwAAgG+A/7AGAAAAAAAAICFYAwAAAAAAAJAQrAEA\n",
       "AAAAAABICNYAAAAAAAAAJARrAAAAAAAAABKCNQAAAAAAAAAJwRoAAAAAAACAhGANAAAAAAAAQEKw\n",
       "BgAAAAAAACAhWAMAAAAAAACQEKwBAAAAAAAASAjWAAAAAAAAACQEawAAAAAAAAASgjUAAAAAAAAA\n",
       "CcEaAAAAAAAAgIRgDQAAAAAAAEBCsAYAAAAAAAAgIVgDAAAAAAAAkBCsAQAAAAAAAEgI1gAAAAAA\n",
       "AAAkBGsAAAAAAAAAEoI1AAAAAAAAAAnBGgAAAAAAAICEYA0AAAAAAABAQrAGAAAAAAAAICFYAwAA\n",
       "AAAAAJAQrAEAAAAAAABICNYAAAAAAAAAJARrAAAAAAAAABKCNQAAAAAAAAAJwRoAAAAAAACAhGAN\n",
       "AAAAAAAAAAAAAAAAAAAAAAAAAAAAAAAAAAAAAAAAAAAAAAAAAAAAAAAAAAAAAAAAAAAAAAAAAAAA\n",
       "AAAAAAAAAAAAAAAAAAAAAAAAAAAAAAAAAAAAAAAAAAAAAAAAAAAAAAAAAAAAAAAAAAAAAAAAAAAA\n",
       "AAAAAAAAAAAAAAAAAAAAAAAAAAAAAAAAAAAAAAAAAAAAAAAAAAAAAAAAAAAAAAAAAAAAAAAAAAAA\n",
       "AAAAAAAAAAAAAAAAAAAAAAAAAAAAAAAAAAAAAAAAAAAAAAAAAAAAAAAAAAAAAAAAAAAAAAAAAAAA\n",
       "AAAAAAAAAAAAAAAAAAAAAAAAAAAAAAAAAAAAAAAAAAAAAAAAAPDN2+oBAPAtuN8e9nrDUU/7o/cB\n",
       "AL4KU5+nk5+lU6/5WrOv+2RTz4zzAgAAX69TPQAAAAAAAACAt0mwBgAAAAAAACAhWAMAAAAAAACQ\n",
       "EKwBAAAAAAAASAjWAAAAAAAAACQEawAAAAAAAAASgjUAAAAAAAAACcEaAAAAAAAAgIRgDQAAAAAA\n",
       "AEBCsAYAAAAAAAAgIVgDAAAAAAAAkBCsAQAAAAAAAEgI1gAAAAAAAAAkBGsAAAAAAAAAEoI1AAAA\n",
       "AAAAAAnBGgAAAAAAAICEYA0AAAAAAABAQrAGAAAAAAAAICFYAwAAAAAAAJAQrAEAAAAAAABICNYA\n",
       "AAAAAAAAJARrAAAAAAAAABKCNQAAAAAAAAAJwRoAAAAAAACAhGANAAAAAAAAQEKwBgAAAAAAACAh\n",
       "WAMAAAAAAACQEKwBAAAAAAAASAjWAAAAAAAAACQEawAAAAAAAAASgjUAAAAAAAAACcEaAAAAAAAA\n",
       "gMRWDwAAWvfbw15veGue9kfvYPCVc2+MbG6PX9w++KhPPi+Tr/tQ3r8AAODr5T+sAQAAAAAAAEgI\n",
       "1gAAAAAAAAAkBGsAAAAAAAAAEoI1AAAAAAAAAAnBGgAAAAAAAICEYA0AAAAAAABAQrAGAAAAAAAA\n",
       "ICFYAwAAAAAAAJAQrAEAAAAAAABICNYAAAAAAAAAJARrAAAAAAAAABKCNQAAAAAAAAAJwRoAAAAA\n",
       "AACAhGANAAAAAAAAQEKwBgAAAAAAACAhWAMAAAAAAACQEKwBAAAAAAAASAjWAAAAAAAAACQEawAA\n",
       "AAAAAAASgjUAAAAAAAAACcEaAAAAAAAAgIRgDQAAAAAAAEBCsAYAAAAAAAAgIVgDAAAAAAAAkBCs\n",
       "AQAAAAAAAEgI1gAAAAAAAAAkBGsAAAAAAAAAEoI1AAAAAAAAAAnBGgAAAAAAAICEYA0AAAAAAABA\n",
       "QrAGAAAAAAAAICFYAwAAAAAAAJAQrAEAAAAAAABIbPUA4Nt2vz3s9YajnvZH90jgDzH53ri2wbfG\n",
       "fe5lh99l8ud0qG3wNd+v13rCcYOv++gzM/V5OnX3WqPP+uTrPvU3gfvTh7EX/en6ceQ1B2aY+lvM\n",
       "1OcR/F7+wxoAAAAAAACAhGANAAAAAAAAQEKwBgAAAAAAACAhWAMAAAAAAACQEKwBAAAAAAAASAjW\n",
       "AAAAAAAAACQEawAAAAAAAAASgjUAAAAAAAAACcEaAAAAAAAAgIRgDQAAAAAAAEBCsAYAAAAAAAAg\n",
       "IVgDAAAAAAAAkBCsAQAAAAAAAEgI1gAAAAAAAAAkBGsAAAAAAAAAEoI1AAAAAAAAAAnBGgAAAAAA\n",
       "AICEYA0AAAAAAABAQrAGAAAAAAAAICFYAwAAAAAAAJAQrAEAAAAAAABICNYAAAAAAAAAJARrAAAA\n",
       "AAAAABKCNQAAAAAAAAAJwRoAAAAAAACAhGANAAAAAAAAQEKwBgAAAAAAACAhWAMAAAAAAACQEKwB\n",
       "AAAAAAAASAjWAAAAAAAAACQEawAAAAAAAAASgjUAAAAAAAAAia0eAABw1P32sNcbjthOc/9mcN9H\n",
       "XvK11lrbNvfVd+p1n3zW19BrPt3Usz7Z6M/pZJOfSZdLPeEQ7wH8XlPPzOjzMnn70POy1lpP149z\n",
       "xwPwzfDNFAAAAAAAAICEYA0AAAAAAABAQrAGAAAAAAAAICFYAwAAAAAAAJAQrAEAAAAAAABICNYA\n",
       "AAAAAAAAJARrAAAAAAAAABKCNQAAAAAAAAAJwRoAAAAAAACAhGANAAAAAAAAQEKwBgAAAAAAACAh\n",
       "WAMAAAAAAACQEKwBAAAAAAAASAjWAAAAAAAAACQEawAAAAAAAAASgjUAAAAAAAAACcEaAAAAAAAA\n",
       "gIRgDQAAAAAAAEBCsAYAAAAAAAAgIVgDAAAAAAAAkBCsAQAAAAAAAEgI1gAAAAAAAAAkBGsAAAAA\n",
       "AAAAEoI1AAAAAAAAAAnBGgAAAAAAAICEYA0AAAAAAABAQrAGAAAAAAAAICFYAwAAAAAAAJAQrAEA\n",
       "AAAAAABICNYAAAAAAAAAJARrAAAAAAAAABKCNQAAAAAAAAAJwRoAAAAAAACAxE09AABo3Z8+7PWG\n",
       "t2bfXfLEttULDtumbp+6e621Tud6wWFjz8taa+3XesGbs53nnvX9Mve8/MfLv4/9oP58+28zX2Su\n",
       "c88L/C6Dv2s87Y9j741r7mVf99vD4PUzjT7rAH8Q/2ENAAAAAAAAQEKwBgAAAAAAACAhWAMAAAAA\n",
       "AACQEKwBAAAAAAAASAjWAAAAAAAAACQEawAAAAAAAAASgjUAAAAAAAAACcEaAAAAAAAAgIRgDQAA\n",
       "AAAAAEBCsAYAAAAAAAAgIVgDAAAAAAAAkBCsAQAAAAAAAEgI1gAAAAAAAAAkBGsAAAAAAAAAEoI1\n",
       "AAAAAAAAAAnBGgAAAAAAAICEYA0AAAAAAABAQrAGAAAAAAAAICFYAwAAAAAAAJAQrAEAAAAAAABI\n",
       "CNYAAAAAAAAAJARrAAAAAAAAABKCNQAAAAAAAAAJwRoAAAAAAACAhGANAAAAAAAAQEKwBgAAAAAA\n",
       "ACAhWAMAAAAAAACQEKwBAAAAAAAASAjWAAAAAAAAACQEawAAAAAAAAASgjUAAAAAAAAACcEaAAAA\n",
       "AAAAgMRWDwC+bffbw15vOOppfxx7j7w/fRh53Z+uH11z3oRtG3vUZzuf6wXHXS71grfnfFMvOGw7\n",
       "T/675KH3x6Gz11prnQafl8+v9YLD9uu1nnDYdjP0/jj4ml8/v9QTDtsGv3/tQ9+/Jn/XmHxvXIOv\n",
       "+9TfYib/5jjZ5N9Lga/b4G+mAAAAAAAAAEwmWAMAAAAAAACQEKwBAAAAAAAASAjWAAAAAAAAACQE\n",
       "awAAAAAAAAASgjUAAAAAAAAACcEaAAAAAAAAgIRgDQAAAAAAAEBCsAYAAAAAAAAgIVgDAAAAAAAA\n",
       "kBCsAQAAAAAAAEgI1gAAAAAAAAAkBGsAAAAAAAAAEoI1AAAAAAAAAAnBGgAAAAAAAICEYA0AAAAA\n",
       "AABAQrAGAAAAAAAAICFYAwAAAAAAAJAQrAEAAAAAAABICNYAAAAAAAAAJARrAAAAAAAAABKCNQAA\n",
       "AAAAAAAJwRoAAAAAAACAhGANAAAAAAAAQEKwBgAAAAAAACAhWAMAAAAAAACQEKwBAAAAAAAASAjW\n",
       "AAAAAAAAACQEawAAAAAAAAASgjUAAAAAAAAACcEaAAAAAAAAgIRgDQAAAAAAAEBCsAYAAAAAAAAg\n",
       "cVMPAOAPsO/1gkPuTx9mDieznfzt3Re3bfWC4wbfYbbb23rC23M61wsO227nbl/XoR/U8+BrPvS9\n",
       "ca01+pm0nb3DfHGDj/rpNPesr2X7l7ZfXusJh03+frcPfp7+fP7ryPGTr/no96/Bxv7uOPi8PO2P\n",
       "Mx+mJOa+BQAAAAAAAAAwmmANAAAAAAAAQEKwBgAAAAAAACAhWAMAAAAAAACQEKwBAAAAAAAASAjW\n",
       "AAAAAAAAACQEawAAAAAAAAASgjUAAAAAAAAACcEaAAAAAAAAgIRgDQAAAAAAAEBCsAYAAAAAAAAg\n",
       "IVgDAAAAAAAAkBCsAQAAAAAAAEgI1gAAAAAAAAAkBGsAAAAAAAAAEoI1AAAAAAAAAAnBGgAAAAAA\n",
       "AICEYA0AAAAAAABAQrAGAAAAAAAAICFYAwAAAAAAAJAQrAEAAAAAAABICNYAAAAAAAAAJARrAAAA\n",
       "AAAAABKCNQAAAAAAAAAJwRoAAAAAAACAhGANAAAAAAAAQEKwBgAAAAAAACAhWAMAAAAAAACQEKwB\n",
       "AAAAAAAASAjWAAAAAAAAACQEawAAAAAAAAASgjUAAAAAAAAAiZt6APBte9oft3rDW7SdZv490r7v\n",
       "9YTjBm/fzud6wnHbzLO+1uDzcndXTzhsu5376ru/XuoJh5zev68n/B/M/Zyuoe8Ba621boZ+Tge/\n",
       "B6zr4O2D7+vr9bVecNz1Wi84ZL/MfJautdZ2HXzWJ5v6a8bU3WutyeO3y9z7+ujfYqba5p71yV+T\n",
       "nq4fB194+PYN/iUDAAAAAAAAgMkEawAAAAAAAAASgjUAAAAAAAAACcEaAAAAAAAAgIRgDQAAAAAA\n",
       "AEBCsAYAAAAAAAAgIVgDAAAAAAAAkBCsAQAAAAAAAEgI1gAAAAAAAAAkBGsAAAAAAAAAEoI1AAAA\n",
       "AAAAAAnBGgAAAAAAAICEYA0AAAAAAABAQrAGAAAAAAAAICFYAwAAAAAAAJAQrAEAAAAAAABICNYA\n",
       "AAAAAAAAJARrAAAAAAAAABKCNQAAAAAAAAAJwRoAAAAAAACAhGANAAAAAAAAQEKwBgAAAAAAACAh\n",
       "WAMAAAAAAACQEKwBAAAAAAAASAjWAAAAAAAAACQEawAAAAAAAAASgjUAAAAAAAAACcEaAAAAAAAA\n",
       "gIRgDQAAAAAAAEBCsAYAAAAAAAAgIVgDAAAAAAAAkBCsAQAAAAAAAEgI1gAAAAAAAAAktnoAfEn3\n",
       "28NebzjiaX/0WQ3cnz6MPC9rrbX2odO3uUd9Ow3+G7DB132q7faunnDYdnOuJxx3nrt9u7mpJxwz\n",
       "+bz86Yd6wXEvn+sFb8937+oFx10u9YLD9rvbesJh22+f6gnHTf2u8fm1XnDcy0u94LB98nXfr/WC\n",
       "Q/bXuff1yZ/T/TJ3+9TfBPbB7zCjTX0PWH5jh6/d4F/XAQAAAAAAAJhMsAYAAAAAAAAgIVgDAAAA\n",
       "AAAAkBCsAQAAAAAAAEgI1gAAAAAAAAAkBGsAAAAAAAAAEoI1AAAAAAAAAAnBGgAAAAAAAICEYA0A\n",
       "AAAAAABAQrAGAAAAAAAAICFYAwAAAAAAAJAQrAEAAAAAAABICNYAAAAAAAAAJARrAAAAAAAAABKC\n",
       "NQAAAAAAAAAJwRoAAAAAAACAhGANAAAAAAAAQEKwBgAAAAAAACAhWAMAAAAAAACQEKwBAAAAAAAA\n",
       "SAjWAAAAAAAAACQEawAAAAAAAAASgjUAAAAAAAAACcEaAAAAAAAAgIRgDQAAAAAAAEBCsAYAAAAA\n",
       "AAAgIVgDAAAAAAAAkBCsAQAAAAAAAEgI1gAAAAAAAAAkBGsAAAAAAAAAEoI1AAAAAAAAAAnBGgAA\n",
       "AAAAAIDEVg8A/rH77WGvN7xJm1sk/3vb5PMyePt2e1tPOGS7m7l7rbXWde4jafunP9cTjhv6Od1/\n",
       "/FM94bDtt0/1hMOu/zz3rG/Pn+sJh7z+5ft6wnEzby9rrbW212s94bDTy6WecNj268z74zb4HWZd\n",
       "55719etzveCw/e+/1BOOGXxf31/n3hv3Ty/1hOOuc6/7VPs++Jk0mev+xT3tj4OfSnNN7Un+wxoA\n",
       "AAAAAACAhGANAAAAAAAAQEKwBgAAAAAAACAhWAMAAAAAAACQEKwBAAAAAAAASAjWAAAAAAAAACQE\n",
       "awAAAAAAAAASgjUAAAAAAAAACcEaAAAAAAAAgIRgDQAAAAAAAEBCsAYAAAAAAAAgIVgDAAAAAAAA\n",
       "kBCsAQAAAAAAAEgI1gAAAAAAAAAkBGsAAAAAAAAAEoI1AAAAAAAAAAnBGgAAAAAAAICEYA0AAAAA\n",
       "AABAQrAGAAAAAAAAICFYAwAAAAAAAJAQrAEAAAAAAABICNYAAAAAAAAAJARrAAAAAAAAABKCNQAA\n",
       "AAAAAAAJwRoAAAAAAACAhGANAAAAAAAAQEKwBgAAAAAAACAhWAMAAAAAAACQEKwBAAAAAAAASAjW\n",
       "AAAAAAAAACQEawAAAAAAAAASgjUAAAAAAAAACcEaAAAAAAAAgMRWD2Ce++1hrzcc9bQ/OvNf2M/n\n",
       "v449L/s+dvpY28nfURVO331XTzju9rZecMg2dPdaa63v3tcLjru7qRcctr+/qyccc537LL3+8K6e\n",
       "cNjl/dyzfvn+XE84ZLvMPeuXd3Pfv06f5173yb/GnJ8v9YRDbv72qZ5w2H6e+zk9//JbPeG4T5/r\n",
       "Bcf88t/1gsP258Gf09fXesJxl5n39cnXfL9e6wnHbXNfYp6uH0eO12N4K+a+8QIAAAAAAAAwmmAN\n",
       "AAAAAAAAQEKwBgAAAAAAACAhWAMAAAAAAACQEKwBAAAAAAAASAjWAAAAAAAAACQEawAAAAAAAAAS\n",
       "gjUAAAAAAAAACcEaAAAAAAAAgIRgDQAAAAAAAEBCsAYAAAAAAAAgIVgDAAAAAAAAkBCsAQAAAAAA\n",
       "AEgI1gAAAAAAAAAkBGsAAAAAAAAAEoI1AAAAAAAAAAnBGgAAAAAAAICEYA0AAAAAAABAQrAGAAAA\n",
       "AAAAICFYAwAAAAAAAJAQrAEAAAAAAABICNYAAAAAAAAAJARrAAAAAAAAABKCNQAAAAAAAAAJwRoA\n",
       "AAAAAACAhGANAAAAAAAAQEKwBgAAAAAAACAhWAMAAAAAAACQEKwBAAAAAAAASAjWAAAAAAAAACQE\n",
       "awAAAAAAAAASgjUAAAAAAAAAiZt6AHxJ99vDXm84ZNvqBYft+8xLvtZa2+Drzpe3nc/1hMP2y7We\n",
       "cNjph9t6wjGnwX8z+G7oNV9r7Xdzt7/++L6ecMj1du5Z//Vf7uoJh93+Nvf96/mnmWdmH/zN+vRS\n",
       "Lzju9Dr3rG+XesFxd0O/Jl3PM5+la611fp57YLbL3Ofp6eW1nnDM4O8a293c87Jf536vXpeh95jz\n",
       "3BewbfKLwODfeoGv29w3GAAAAAAAAABGE6wBAAAAAAAASAjWAAAAAAAAACQEawAAAAAAAAASgjUA\n",
       "AAAAAAAACcEaAAAAAAAAgIRgDQAAAAAAAEBCsAYAAAAAAAAgIVgDAAAAAAAAkBCsAQAAAAAAAEgI\n",
       "1gAAAAAAAAAkBGsAAAAAAAAAEoI1AAAAAAAAAAnBGgAAAAAAAICEYA0AAAAAAABAQrAGAAAAAAAA\n",
       "ICFYAwAAAAAAAJAQrAEAAAAAAABICNYAAAAAAAAAJARrAAAAAAAAABKCNQAAAAAAAAAJwRoAAAAA\n",
       "AACAhGANAAAAAAAAQEKwBgAAAAAAACAhWAMAAAAAAACQEKwBAAAAAAAASAjWAAAAAAAAACQEawAA\n",
       "AAAAAAASgjUAAAAAAAAACcEaAAAAAAAAgIRgDQAAAAAAAEBCsAYAAAAAAAAgsdUDgH/sfnvY6w2H\n",
       "bXNvM9tp7t/0bOebesIx57nXfO2DP6Y3Q8/LWmv76cd6wjHv7+oFh+3v39UTjjvNfSb9+q9/ricc\n",
       "8vzTuZ7wJj3/Ze5Zf/2hXvD2nD7XC467zn2crh/+c/C746Ve8PZ8/1+v9YTDzs9zD8zN31/qCYec\n",
       "fn2uJxz3t1/qBYftz5/qCcddZt5j9peZu9daa13n3hv317nX/X/Yt5McS87zCsN/3DYzq5NYbGyZ\n",
       "amAYliFtQEMPUjuo0iK8NLGmGjkHHnhqwIAACwZE24BISRRZZHXZ3iY80AIEfQTq4EM9zwoOAnHj\n",
       "/jfezLnru7uuu+Gv1LgMAAAAAAAAANCZYA0AAAAAAABAhGANAAAAAAAAQIRgDQAAAAAAAECEYA0A\n",
       "AAAAAABAhGANAAAAAAAAQIRgDQAAAAAAAECEYA0AAAAAAABAhGANAAAAAAAAQIRgDQAAAAAAAECE\n",
       "YA0AAAAAAABAhGANAAAAAAAAQIRgDQAAAAAAAECEYA0AAAAAAABAhGANAAAAAAAAQIRgDQAAAAAA\n",
       "AECEYA0AAAAAAABAhGANAAAAAAAAQIRgDQAAAAAAAECEYA0AAAAAAABAhGANAAAAAAAAQIRgDQAA\n",
       "AAAAAECEYA0AAAAAAABAhGANAAAAAAAAQIRgDQAAAAAAAECEYA0AAAAAAABAhGANAAAAAAAAQIRg\n",
       "DQAAAAAAAECEYA0AAAAAAABAhGANAAAAAAAAQIRgDQAAAAAAAECEYA0AAAAAAABAhGANAAAAAAAA\n",
       "QMQqPYB+zqcnc3pD1cX8bEpvoJG57a0+xmi6/XhMLyib1uv0hLLp7Cw9oW6/Ty8omc8epieU7R9u\n",
       "0xPK9md9j75X7y/TE2oan7xuHvcdf+j7lTT299MLavYP+p5h5r63+pj6XvbR+f8Hjk2fMduv0wvq\n",
       "Fvum54AxxvZFekHdYtfzui9eHtIT6hq/h5mWfZ/r89zzXh9jlx5QNjd9l9HdxfGTlidfPSbjfPG0\n",
       "73Vveq/3/SYFAAAAAAAAoDXBGgAAAAAAAIAIwRoAAAAAAACACMEaAAAAAAAAgAjBGgAAAAAAAIAI\n",
       "wRoAAAAAAACACMEaAAAAAAAAgAjBGgAAAAAAAIAIwRoAAAAAAACACMEaAAAAAAAAgAjBGgAAAAAA\n",
       "AIAIwRoAAAAAAACACMEaAAAAAAAAgAjBGgAAAAAAAIAIwRoAAAAAAACACMEaAAAAAAAAgAjBGgAA\n",
       "AAAAAIAIwRoAAAAAAACACMEaAAAAAAAAgAjBGgAAAAAAAIAIwRoAAAAAAACACMEaAAAAAAAAgAjB\n",
       "GgAAAAAAAIAIwRoAAAAAAACACMEaAAAAAAAAgAjBGgAAAAAAAIAIwRoAAAAAAACACMEaAAAAAAAA\n",
       "gAjBGgAAAAAAAIAIwRoAAAAAAACACMEaAAAAAAAAgAjBGgAAAAAAAICIKT2Afs6nJ3N6Q9W06Pk3\n",
       "GvPc9pKPaWr8mGl6v4wxxrRapyeUTKtlekLdsu/2abVKTyib//aD9ISSedn3+XL1owfpCWX7077f\n",
       "Sdfv9bxnrj9KL6jbPTqmJ5TNj+/SE8rmY8/P6TT1Pa8/eHSdnlD2+tVpekLZfNf37Lj8uufZ8eTL\n",
       "ns+XMcZYXaUX1D34/JCeULa66nkWWL/sew5Y/ellekLdZeMP6rHnOeb45jI9oWze79ITyub9Pj3h\n",
       "nXNx/KTvIQb+Cj3ffAEAAAAAAADQnmANAAAAAAAAQIRgDQAAAAAAAECEYA0AAAAAAABAhGANAAAA\n",
       "AAAAQIRgDQAAAAAAAECEYA0AAAAAAABAhGANAAAAAAAAQIRgDQAAAAAAAECEYA0AAAAAAABAhGAN\n",
       "AAAAAAAAQIRgDQAAAAAAAECEYA0AAAAAAABAhGANAAAAAAAAQIRgDQAAAAAAAECEYA0AAAAAAABA\n",
       "hGANAAAAAAAAQIRgDQAAAAAAAECEYA0AAAAAAABAhGANAAAAAAAAQIRgDQAAAAAAAECEYA0AAAAA\n",
       "AABAhGANAAAAAAAAQIRgDQAAAAAAAECEYA0AAAAAAABAhGANAAAAAAAAQIRgDQAAAAAAAECEYA0A\n",
       "AAAAAABAhGANAAAAAAAAQIRgDQAAAAAAAECEYA0AAAAAAABAhGANAAAAAAAAQIRgDQAAAAAAAEDE\n",
       "Kj0A3qZ5ntMT4K2YD4f0hJJp3fdradpu0hPqttv0grJ53fNv7w5nfe+X5XXP58sYY1x90Pe63z5O\n",
       "L6i5+84xPaFsfrhPTyg7Od2lJ5T99G/+mJ5Q8vXNWXpC2T89+iI9oezVhyfpCWW/ef5RekLZi+29\n",
       "9ISSq03fc8C9z3qeeccYY3fWd/vypuc5Zmr87mv/4cP0hLLV7+7SE+pue26fNuv0hLLO24+vX6cn\n",
       "vHPOpydtH+zTou85YD72PAeMMcbF/GxKb6joe7cAAAAAAAAA0JpgDQAAAAAAAECEYA0AAAAAAABA\n",
       "hGANAAAAAAAAQIRgDQAAAAAAAECEYA0AAAAAAABAhGANAAAAAAAAQIRgDQAAAAAAAECEYA0AAAAA\n",
       "AABAhGANAAAAAAAAQIRgDQAAAAAAAECEYBW9NqUAACAASURBVA0AAAAAAABAhGANAAAAAAAAQIRg\n",
       "DQAAAAAAAECEYA0AAAAAAABAhGANAAAAAAAAQIRgDQAAAAAAAECEYA0AAAAAAABAhGANAAAAAAAA\n",
       "QIRgDQAAAAAAAECEYA0AAAAAAABAhGANAAAAAAAAQIRgDQAAAAAAAECEYA0AAAAAAABAhGANAAAA\n",
       "AAAAQIRgDQAAAAAAAECEYA0AAAAAAABAhGANAAAAAAAAQIRgDQAAAAAAAECEYA0AAAAAAABAhGAN\n",
       "AAAAAAAAQIRgDQAAAAAAAEDE6nx6MqdHvIsu5mdTesM7ae55u0+Lxn9bMrnVE6bVKj2hZL69S08o\n",
       "m0626Ql1jT+n0+6QnlBy3C7TE8puHvd8vowxxnToeQ4YY4zDuufndL7f8zM6xhg/+Pir9ISyB5vb\n",
       "9ISyn333f9ITSs4Wfc8wl4dNekLZZ7fvpSeU/eTxF+kJZf9x+3F6Qsnt+33PAdd3J+kJZavrnmeY\n",
       "McZYv+n5Luaw7XteXz+/TE+oW/X9jTdG07PAru/5a/T9Shpj0fdenw/79ISaxu/t5qY9ZozR+rp3\n",
       "fcb0PHkBAAAAAAAA0J5gDQAAAAAAAECEYA0AAAAAAABAhGANAAAAAAAAQIRgDQAAAAAAAECEYA0A\n",
       "AAAAAABAhGANAAAAAAAAQIRgDQAAAAAAAECEYA0AAAAAAABAhGANAAAAAAAAQIRgDQAAAAAAAECE\n",
       "YA0AAAAAAABAhGANAAAAAAAAQIRgDQAAAAAAAECEYA0AAAAAAABAhGANAAAAAAAAQIRgDQAAAAAA\n",
       "AECEYA0AAAAAAABAhGANAAAAAAAAQIRgDQAAAAAAAECEYA0AAAAAAABAhGANAAAAAAAAQIRgDQAA\n",
       "AAAAAECEYA0AAAAAAABAhGANAAAAAAAAQIRgDQAAAAAAAECEYA0AAAAAAABAhGANAAAAAAAAQIRg\n",
       "DQAAAAAAAECEYA0AAAAAAABAhGANAAAAAAAAQIRgDQAAAAAAAECEYA0AAAAAAABAxOpifjalR9BL\n",
       "53vmfHoypze8a+bjMT2hbJra3upj3u/SE0oWm016Qt3c+PGyWqYXlB1P1ukJJdOx7/1y2PR9Nl5/\n",
       "0Hf7/mHP79Npc0hPKLve9Xy+jDHGv/zw39ITyhZTz+fjP5/8Pj2h7P3l/fSEsl9d9b3u/3n1w/SE\n",
       "sk/vPU5PKHm16Pl8GWOM2/1pekLZ3YP0grrDSc+z4+7RKj2hbHnV9/y13G/TE+q++ia9oGbq+794\n",
       "8811ekLZtOx73cfU8/k47/fpCfBWNH66AAAAAAAAANCZYA0AAAAAAABAhGANAAAAAAAAQIRgDQAA\n",
       "AAAAAECEYA0AAAAAAABAhGANAAAAAAAAQIRgDQAAAAAAAECEYA0AAAAAAABAhGANAAAAAAAAQIRg\n",
       "DQAAAAAAAECEYA0AAAAAAABAhGANAAAAAAAAQIRgDQAAAAAAAECEYA0AAAAAAABAhGANAAAAAAAA\n",
       "QIRgDQAAAAAAAECEYA0AAAAAAABAhGANAAAAAAAAQIRgDQAAAAAAAECEYA0AAAAAAABAhGANAAAA\n",
       "AAAAQIRgDQAAAAAAAECEYA0AAAAAAABAhGANAAAAAAAAQIRgDQAAAAAAAECEYA0AAAAAAABAhGAN\n",
       "AAAAAAAAQIRgDQAAAAAAAECEYA0AAAAAAABAhGANAAAAAAAAQIRgDQAAAAAAAECEYA0AAAAAAABA\n",
       "xCo9AN6qaUovKJmPx/SEuqbXfIzRevu0Xqcn1Gw26QV1q8ZfqY2fMdNxTk8omZd9ny/7k77b15fp\n",
       "BXWX6573+v37t+kJZQ+2fbfvxzI9oewfV39MTyj57ND3HLCdrtMTyt5f7tMTyj5Yv05PKPvZh/+X\n",
       "nlDyq9/+ND2hbtnzHDDGGNOh79lxd7/n9s2rxvfLvu9v03nR834ZY4xp3fMcMy37/i/efHuXnlA2\n",
       "73bpCXVz32cMvAv6PtUBAAAAAAAAaE2wBgAAAAAAACBCsAYAAAAAAAAgQrAGAAAAAAAAIEKwBgAA\n",
       "AAAAACBCsAYAAAAAAAAgQrAGAAAAAAAAIEKwBgAAAAAAACBCsAYAAAAAAAAgQrAGAAAAAAAAIEKw\n",
       "BgAAAAAAACBCsAYAAAAAAAAgQrAGAAAAAAAAIEKwBgAAAAAAACBCsAYAAAAAAAAgQrAGAAAAAAAA\n",
       "IEKwBgAAAAAAACBCsAYAAAAAAAAgQrAGAAAAAAAAIEKwBgAAAAAAACBCsAYAAAAAAAAgQrAGAAAA\n",
       "AAAAIEKwBgAAAAAAACBCsAYAAAAAAAAgQrAGAAAAAAAAIEKwBgAAAAAAACBCsAYAAAAAAAAgQrAG\n",
       "AAAAAAAAIEKwBgAAAAAAACBCsAYAAAAAAAAgQrAGAAAAAAAAIEKwBgAAAAAAACBCsAYAAAAAAAAg\n",
       "YpUeQD/n05M5vaFs7jn9Yn42pTdU/Xzxi54XfYwxrTfpCXXHY3pByXx9k55QNq2W6Qll84Oz9ISy\n",
       "47bnUeb2O+v0hLLt67aP9fHNj9t+nY7V655/Z7pY9Pw+GmOM55d9n42/vvx+ekLZ8+399ISSH2//\n",
       "kJ5Q9qPVy/SEsl/ffpyeUPa7u/fSE8p+8/Kj9ISS9fqQnlB2ea/v9+nJn/r+Tlrs0gtqjpue58Yx\n",
       "xpg3je+X19fpCXXLntd9fnOZnlB32KcXfAt93wl0bQNtdxPTteH1PcEAAAAAAAAA0JpgDQAAAAAA\n",
       "AECEYA0AAAAAAABAhGANAAAAAAAAQIRgDQAAAAAAAECEYA0AAAAAAABAhGANAAAAAAAAQIRgDQAA\n",
       "AAAAAECEYA0AAAAAAABAhGANAAAAAAAAQIRgDQAAAAAAAECEYA0AAAAAAABAhGANAAAAAAAAQIRg\n",
       "DQAAAAAAAECEYA0AAAAAAABAhGANAAAAAAAAQIRgDQAAAAAAAECEYA0AAAAAAABAhGANAAAAAAAA\n",
       "QIRgDQAAAAAAAECEYA0AAAAAAABAhGANAAAAAAAAQIRgDQAAAAAAAECEYA0AAAAAAABAhGANAAAA\n",
       "AAAAQIRgDQAAAAAAAECEYA0AAAAAAABAhGANAAAAAAAAQIRgDQAAAAAAAECEYA0AAAAAAABAhGAN\n",
       "AAAAAAAAQIRgDQAAAAAAAEDEKj3g2zifnszpDVUX87MpvaGq8/bzxdOW98z51HN3d/PuLj2hbFpv\n",
       "0hNKpk3jr6W578d0+uZ1ekLZtF2nJ5Qs747pCWW3D5fpCWUnX6UX1L3++/SCmg8fvElPKPvJoz+m\n",
       "J5R9f/s8PaHsOHr+1Phs9156Qtmb40l6Qtlx7vs3+NPoe3ZcLXqeYw6HvvfLYtfz2TjGGMvb9IK6\n",
       "Y9Nj77HvrT5Gz8fLny36fk7H4ZBeULPse7NPm57v7cYYY9z1fV/a9fR1cfhl2wdM1x7T3cXxk5b3\n",
       "TN+nOgAAAAAAAACtCdYAAAAAAAAARAjWAAAAAAAAAEQI1gAAAAAAAABECNYAAAAAAAAARAjWAAAA\n",
       "AAAAAEQI1gAAAAAAAABECNYAAAAAAAAARAjWAAAAAAAAAEQI1gAAAAAAAABECNYAAAAAAAAARAjW\n",
       "AAAAAAAAAEQI1gAAAAAAAABECNYAAAAAAAAARAjWAAAAAAAAAEQI1gAAAAAAAABECNYAAAAAAAAA\n",
       "RAjWAAAAAAAAAEQI1gAAAAAAAABECNYAAAAAAAAARAjWAAAAAAAAAEQI1gAAAAAAAABECNYAAAAA\n",
       "AAAARAjWAAAAAAAAAEQI1gAAAAAAAABECNYAAAAAAAAARAjWAAAAAAAAAEQI1gAAAAAAAABECNYA\n",
       "AAAAAAAARAjWAAAAAAAAAEQI1gAAAAAAAABECNYAAAAAAAAARAjWAAAAAAAAAESs0gO+jYv52ZTe\n",
       "UHU+PZnTG6o6X/cxt73sfS38XUzE8ZBeUDNt0gvqOj9fNuv0grLpcExPKFldNv2MjjG228bP9b4n\n",
       "mLF+1XP8b3/zvfSEsm9+eJqeULb7aJmeUPaD0+fpCSUfr79OTyh7fniQnlD2X1d9nzFf3PS97l9d\n",
       "3U9PKLl+cZKeULa57Hv+mvt+JY3ty56/NU6f36UnlC1ud+kJdY1fCYxDz9+n881tekLZfOx7w8z7\n",
       "vp/Tqel76vPF07Y3zDT1fJcxxhj/evhl3/FN9fyEAgAAAAAAANCeYA0AAAAAAABAhGANAAAAAAAA\n",
       "QIRgDQAAAAAAAECEYA0AAAAAAABAhGANAAAAAAAAQIRgDQAAAAAAAECEYA0AAAAAAABAhGANAAAA\n",
       "AAAAQIRgDQAAAAAAAECEYA0AAAAAAABAhGANAAAAAAAAQIRgDQAAAAAAAECEYA0AAAAAAABAhGAN\n",
       "AAAAAAAAQIRgDQAAAAAAAECEYA0AAAAAAABAhGANAAAAAAAAQIRgDQAAAAAAAECEYA0AAAAAAABA\n",
       "hGANAAAAAAAAQIRgDQAAAAAAAECEYA0AAAAAAABAhGANAAAAAAAAQIRgDQAAAAAAAECEYA0AAAAA\n",
       "AABAhGANAAAAAAAAQIRgDQAAAAAAAECEYA0AAAAAAABAhGANAAAAAAAAQIRgDQAAAAAAAECEYA0A\n",
       "AAAAAABAxCo94F11MT+b0hveRV2v+8+Xv5jTG6rm4zE9oWxaNn5ELnr+PdK826Un1DW95mOMMV1d\n",
       "pyeULTbr9ISS6dE2PaFsed33ub44W6YnlC26Ph5PD+kFZa+vTtITyv775YfpCWUvd6fpCSX/vvuH\n",
       "9ISyh+ub9ISyb27P0hPKvry6l55Q9upNz8/p8lXf33fbr9ML6rYv2r7OGMu7ntvn0fLV159Njbc3\n",
       "fv/V1qLv77tx6PoDr/n70mPP36dT42dj5zbQ2fn0pOUhpu/bdQAAAAAAAABaE6wBAAAAAAAAiBCs\n",
       "AQAAAAAAAIgQrAEAAAAAAACIEKwBAAAAAAAAiBCsAQAAAAAAAIgQrAEAAAAAAACIEKwBAAAAAAAA\n",
       "iBCsAQAAAAAAAIgQrAEAAAAAAACIEKwBAAAAAAAAiBCsAQAAAAAAAIgQrAEAAAAAAACIEKwBAAAA\n",
       "AAAAiBCsAQAAAAAAAIgQrAEAAAAAAACIEKwBAAAAAAAAiBCsAQAAAAAAAIgQrAEAAAAAAACIEKwB\n",
       "AAAAAAAAiBCsAQAAAAAAAIgQrAEAAAAAAACIEKwBAAAAAAAAiBCsAQAAAAAAAIgQrAEAAAAAAACI\n",
       "EKwBAAAAAAAAiBCsAQAAAAAAAIgQrAEAAAAAAACIEKwBAAAAAAAAiBCsAQAAAAAAAIgQrAEAAAAA\n",
       "AACIEKwBAAAAAAAAiBCsAQAAAAAAAIhYpQcAf9k8z+kJZdOi8d/FTOkB38LUdHzX3WOMqfH21u52\n",
       "6QUlq1e36Qllh+0yPaFsedP3+3R11fMZc/rpJj2h7Pr7fc8w//vF99ITyj7dHtMTSt7/uxfpCWVf\n",
       "TvfSE8q+/OphekJd30fMWH6+TU8o2b7s+V06xhjrq/SCurMv9ukJZcubnt9Jq8u79ISy6fImPaHu\n",
       "6jq9oGzeNf2cLvo+18fo+9t0NH5P3VXnNtD5Xe/59LTthb84ftLywjf+iQQAAAAAAABAZ4I1AAAA\n",
       "AAAAABGCNQAAAAAAAAARgjUAAAAAAAAAEYI1AAAAAAAAABGCNQAAAAAAAAARgjUAAAAAAAAAEYI1\n",
       "AAAAAAAAABGCNQAAAAAAAAARgjUAAAAAAAAAEYI1AAAAAAAAABGCNQAAAAAAAAARgjUAAAAAAAAA\n",
       "EYI1AAAAAAAAABGCNQAAAAAAAAARgjUAAAAAAAAAEYI1AAAAAAAAABGCNQAAAAAAAAARgjUAAAAA\n",
       "AAAAEYI1AAAAAAAAABGCNQAAAAAAAAARgjUAAAAAAAAAEYI1AAAAAAAAABGCNQAAAAAAAAARgjUA\n",
       "AAAAAAAAEYI1AAAAAAAAABGCNQAAAAAAAAARgjUAAAAAAAAAEYI1AAAAAAAAABGCNQAAAAAAAAAR\n",
       "gjUAAAAAAAAAEYI1AAAAAAAAABFTegC8TeeLp3N6A31MC3/T87ZNy1V6Qtl0epKeUDat+173cXaW\n",
       "XlAyP+y5e4wxjve26Qllt+/13X73aJmeUHL1QePv0sanxuuP0gvqdo+O6Qkl87rvDbO87Ps5nXaN\n",
       "X2ks+t4zZ7/ved3Xb9IL6k5eHNITyrYv9ukJZdOh5+d084dX6Ql1t3fpBXXXN+kFZfPlVXpCzdTz\n",
       "+2iMMebb2/SEsvnQ9ztpPvb8rTHmnt9HY4xxMT/r+0Ft7Hx60vKm6fvLFAAAAAAAAIDWBGsAAAAA\n",
       "AAAAIgRrAAAAAAAAACIEawAAAAAAAAAiBGsAAAAAAAAAIgRrAAAAAAAAACIEawAAAAAAAAAiBGsA\n",
       "AAAAAAAAIgRrAAAAAAAAACIEawAAAAAAAAAiBGsAAAAAAAAAIgRrAAAAAAAAACIEawAAAAAAAAAi\n",
       "BGsAAAAAAAAAIgRrAAAAAAAAACIEawAAAAAAAAAiBGsAAAAAAAAAIgRrAAAAAAAAACIEawAAAAAA\n",
       "AAAiBGsAAAAAAAAAIgRrAAAAAAAAACIEawAAAAAAAAAiBGsAAAAAAAAAIgRrAAAAAAAAACIEawAA\n",
       "AAAAAAAiBGsAAAAAAAAAIgRrAAAAAAAAACIEawAAAAAAAAAiBGsAAAAAAAAAIgRrAAAAAAAAACIE\n",
       "awAAAAAAAAAiBGsAAAAAAAAAIgRrAAAAAAAAACJW6QHwVs1zekHJxfxsSm+oOl887XnRx2h7v4wx\n",
       "xlj0/HukeT6mJ9Td3KQX1B3W6QVl03KZnlAy3fS95uN0k15Qtn61S08oO2x7Ptfvf35ITyg7nPS8\n",
       "5mOMMaa2R8exvux53Rt/lY5l4yPMsfF1P/m67+d0sU8vqDn7sunwMcb+tOezcYwxpl3f33iry6Zn\n",
       "x33f89e4vUsvqNv3fcbMx56f03nX9DM6xhhNr/kYfe8XeJd07Ul9T7wAAAAAAAAAtCZYAwAAAAAA\n",
       "ABAhWAMAAAAAAAAQIVgDAAAAAAAAECFYAwAAAAAAABAhWAMAAAAAAAAQIVgDAAAAAAAAECFYAwAA\n",
       "AAAAABAhWAMAAAAAAAAQIVgDAAAAAAAAECFYAwAAAAAAABAhWAMAAAAAAAAQIVgDAAAAAAAAECFY\n",
       "AwAAAAAAABAhWAMAAAAAAAAQIVgDAAAAAAAAECFYAwAAAAAAABAhWAMAAAAAAAAQIVgDAAAAAAAA\n",
       "ECFYAwAAAAAAABAhWAMAAAAAAAAQIVgDAAAAAAAAECFYAwAAAAAAABAhWAMAAAAAAAAQIVgDAAAA\n",
       "AAAAECFYAwAAAAAAABAhWAMAAAAAAAAQIVgDAAAAAAAAECFYAwAAAAAAABAhWAMAAAAAAAAQIVgD\n",
       "AAAAAAAAECFYAwAAAAAAABAxpQcAf9n54umc3lB1cfyk7XPm58tftL3uY7FML6hpe7eMMa3W6Qll\n",
       "07Lx36+te173adNz9xhjjO8+TC8oO55s0hPKjmc975nDySo9oezmcc9rPsYY+5O+X6i3j3pun47p\n",
       "BXXry75H3t39nvfLGGPc//yQnlA2Nz06ri/7flA3L27TE8qm2316Qtni5WV6Qs31TXpB3W6XXlA2\n",
       "3/XdPo49n4/H277Pxq7XfIwxxtT3/DV3ve5z3/N65/ulc9foqunPDAAAAAAAAAC6E6wBAAAAAAAA\n",
       "iBCsAQAAAAAAAIgQrAEAAAAAAACIEKwBAAAAAAAAiBCsAQAAAAAAAIgQrAGA/2/fDnIjyc4zir5I\n",
       "kqVyud3QonIJrEUa5A6ci/HIEwM2bEndKhYZoYEsCPDE6Gg3b/2oc1bwIfDyMZiXBAAAAACAhGAN\n",
       "AAAAAAAAQEKwBgAAAAAAACAhWAMAAAAAAACQEKwBAAAAAAAASAjWAAAAAAAAACQEawAAAAAAAAAS\n",
       "gjUAAAAAAAAACcEaAAAAAAAAgIRgDQAAAAAAAEBCsAYAAAAAAAAgIVgDAAAAAAAAkBCsAQAAAAAA\n",
       "AEgI1gAAAAAAAAAkBGsAAAAAAAAAEoI1AAAAAAAAAAnBGgAAAAAAAICEYA0AAAAAAABAQrAGAAAA\n",
       "AAAAICFYAwAAAAAAAJAQrAEAAAAAAABICNYAAAAAAAAAJARrAAAAAAAAABKCNQAAAAAAAAAJwRoA\n",
       "AAAAAACAhGANAAAAAAAAQOK+HgDv6bo9HvWGM27701ZvOGvqM19rrWPf6wmnjT0wl8F/R3XMPS/H\n",
       "y1s94bS5Z33s8rV++nO94LTL69yzfvn5pZ5wyuWHj/WE07Z97CvM+vrD3F/zfvzXr/WEU15+/1BP\n",
       "OG2bezWu/T/qBed9+ref6gmnvX2aed7v/2vuO8z2ZebduNZa62Xw9j9/qRecM/j36n3qM19rrbfB\n",
       "3wl8nfm7xrrc1Qt+hcHnZfL3pUPvx395/eexXyJd19w2wPub+QkFAAAAAAAAYDzBGgAAAAAAAICE\n",
       "YA0AAAAAAABAQrAGAAAAAAAAICFYAwAAAAAAAJAQrAEAAAAAAABICNYAAAAAAAAAJARrAAAAAAAA\n",
       "ABKCNQAAAAAAAAAJwRoAAAAAAACAhGANAAAAAAAAQEKwBgAAAAAAACAhWAMAAAAAAACQEKwBAAAA\n",
       "AAAASAjWAAAAAAAAACQEawAAAAAAAAASgjUAAAAAAAAACcEaAAAAAAAAgIRgDQAAAAAAAEBCsAYA\n",
       "AAAAAAAgIVgDAAAAAAAAkBCsAQAAAAAAAEgI1gAAAAAAAAAkBGsAAAAAAAAAEoI1AAAAAAAAAAnB\n",
       "GgAAAAAAAICEYA0AAAAAAABAQrAGAAAAAAAAICFYAwAAAAAAAJAQrAEAAAAAAABICNYAAAAAAAAA\n",
       "JARrAAAAAAAAABKCNQAAAAAAAACJrR4A/N+u2+NRbzhtm3vNbIO3E7jc1QvOG3zWt4f7esIpk++X\n",
       "7ePHesJ5//gP9YLvz8ff1QtOOz5+qCecdtwN/rvkY+hr72XuvT76PeDltZ5w3tteLzht22duP+7n\n",
       "vq9v//6f9YTzhp6XtdZaDw/1glOOn36uJ5x2fPlSTzjteH2rJ5w39P3reJv7HjD5O4Fj6HmZ7LY/\n",
       "zT0w8AsM/iYDAAAAAAAAgMkEawAAAAAAAAASgjUAAAAAAAAACcEaAAAAAAAAgIRgDQAAAAAAAEBC\n",
       "sAYAAAAAAAAgIVgDAAAAAAAAkBCsAQAAAAAAAEgI1gAAAAAAAAAkBGsAAAAAAAAAEoI1AAAAAAAA\n",
       "AAnBGgAAAAAAAICEYA0AAAAAAABAQrAGAAAAAAAAICFYAwAAAAAAAJAQrAEAAAAAAABICNYAAAAA\n",
       "AAAAJARrAAAAAAAAABKCNQAAAAAAAAAJwRoAAAAAAACAhGANAAAAAAAAQEKwBgAAAAAAACAhWAMA\n",
       "AAAAAACQEKwBAAAAAAAASAjWAAAAAAAAACQEawAAAAAAAAASgjUAAAAAAAAACcEaAAAAAAAAgIRg\n",
       "DQAAAAAAAEBCsAYAAAAAAAAgIVgDAAAAAAAAkBCsAQAAAAAAAEhs9QCAb9X18vmoNzDHts39kbo9\n",
       "PNQTzpv63O/u6gWnjT7rHz7UE0471swfSduP/1RPOO/ra73gvPv7esF5l6F3zD7zM7rWWsePn+oJ\n",
       "p20/f6knnDd5+8PQO+Ztrxec9+WlXnDe0Gt9rbX2P/6pnnDK8fK1nnDadjf3f6uOl8mf05kf1GMf\n",
       "fK8PdtufZh4Y4Js39y0AAAAAAAAAgNEEawAAAAAAAAASgjUAAAAAAAAACcEaAAAAAAAAgIRgDQAA\n",
       "AAAAAEBCsAYAAAAAAAAgIVgDAAAAAAAAkBCsAQAAAAAAAEgI1gAAAAAAAAAkBGsAAAAAAAAAEoI1\n",
       "AAAAAAAAAAnBGgAAAAAAAICEYA0AAAAAAABAQrAGAAAAAAAAICFYAwAAAAAAAJAQrAEAAAAAAABI\n",
       "CNYAAAAAAAAAJARrAAAAAAAAABKCNQAAAAAAAAAJwRoAAAAAAACAhGANAAAAAAAAQEKwBgAAAAAA\n",
       "ACAhWAMAAAAAAACQEKwBAAAAAAAASAjWAAAAAAAAACQEawAAAAAAAAASgjUAAAAAAAAACcEaAAAA\n",
       "AAAAgIRgDQAAAAAAAEBCsAYAAAAAAAAgIVgDAAAAAAAAkBCsAQAAAAAAAEgI1gAAAAAAAAAk7usB\n",
       "zHO9fD7qDWfd9qet3sAgx9ijvm7H88izPvl+OQafl+PlpZ5w2nb/UE84ZdsHn5e7u3rCeYPP+nqY\n",
       "edbXH/5YLzjteH2tJ5y2/fBDPeG8wT9Pp9r++0/1hPO+DL7Xt5Gv6381+G6favLvGqM/p29v9YJz\n",
       "9qG71/CzPvlen/rcp+5ea/Z5AfiN+A9rAAAAAAAAABKCNQAAAAAAAAAJwRoAAAAAAACAhGANAAAA\n",
       "AAAAQEKwBgAAAAAAACAhWAMAAAAAAACQEKwBAAAAAAAASAjWAAAAAAAAACQEawAAAAAAAAASgjUA\n",
       "AAAAAAAACcEaAAAAAAAAgIRgDQAAAAAAAEBCsAYAAAAAAAAgIVgDAAAAAAAAkBCsAQAAAAAAAEgI\n",
       "1gAAAAAAAAAkBGsAAAAAAAAAEoI1AAAAAAAAAAnBGgAAAAAAAICEYA0AAAAAAABAQrAGAAAAAAAA\n",
       "ICFYAwAAAAAAAJAQrAEAAAAAAABICNYAAAAAAAAAJARrAAAAAAAAABKCNQAAAAAAAAAJwRoAAAAA\n",
       "AACAhGANAAAAAAAAQEKwBgAAAAAAACAhWAMAAAAAAACQEKwBAAAAAAAASAjWAAAAAAAAACS2egC8\n",
       "p+v2eNQbzrgdzz6rfBeul88jP6N0tsvMv7079r2ecNq2zf2RtP3uYz3hvP2tXnDK9uFDPeG04/W1\n",
       "nnDa5dOnesJpU+/HyXfj1Ge+1lrrGLx9n/vaO/V+3O7v6wmnHV9nPvO11lqD75jj9Ws94Rw/kxrH\n",
       "3Ht97JkZ/Mwnf9c79ft1GpPPOu9v5re8AAAAAAAAAIwnWAMAAAAAAACQEKwBAAAAAAAASAjWAAAA\n",
       "AAAAACQEawAAAAAAAAASgjUAAAAAAAAACcEaAAAAAAAAgIRgDQAAAAAAAEBCsAYAAAAAAAAgIVgD\n",
       "AAAAAAAAkBCsAQAAAAAAAEgI1gAAKxWtEQAADSJJREFUAAAAAAAkBGsAAAAAAAAAEoI1AAAAAAAA\n",
       "AAnBGgAAAAAAAICEYA0AAAAAAABAQrAGAAAAAAAAICFYAwAAAAAAAJAQrAEAAAAAAABICNYAAAAA\n",
       "AAAAJARrAAAAAAAAABKCNQAAAAAAAAAJwRoAAAAAAACAhGANAAAAAAAAQEKwBgAAAAAAACAhWAMA\n",
       "AAAAAACQEKwBAAAAAAAASAjWAAAAAAAAACQEawAAAAAAAAASgjUAAAAAAAAACcEaAAAAAAAAgIRg\n",
       "DQAAAAAAAEBCsAYAAAAAAAAgsdUDAOBvrtvjUW/4Hm2XuX+/dux7PeGUyc98Xe7qBb/C3CtmG/rc\n",
       "p35G11pruxv8OT3mnvWxv6Lez/yMrrXWenurFzDNNvN+PF5f6wmnbZehd+Na6xh8x0x9j9m2wedl\n",
       "9DvMYFOf++Czftuf5o6H78Tk76lvx/PIO2bmbxkAAAAAAAAAjCdYAwAAAAAAAJAQrAEAAAAAAABI\n",
       "CNYAAAAAAAAAJARrAAAAAAAAABKCNQAAAAAAAAAJwRoAAAAAAACAhGANAAAAAAAAQEKwBgAAAAAA\n",
       "ACAhWAMAAAAAAACQEKwBAAAAAAAASAjWAAAAAAAAACQEawAAAAAAAAASgjUAAAAAAAAACcEaAAAA\n",
       "AAAAgIRgDQAAAAAAAEBCsAYAAAAAAAAgIVgDAAAAAAAAkBCsAQAAAAAAAEgI1gAAAAAAAAAkBGsA\n",
       "AAAAAAAAEoI1AAAAAAAAAAnBGgAAAAAAAICEYA0AAAAAAABAQrAGAAAAAAAAICFYAwAAAAAAAJAQ\n",
       "rAEAAAAAAABICNYAAAAAAAAAJARrAAAAAAAAABKCNQAAAAAAAAAJwRoAAAAAAACAhGANAAAAAAAA\n",
       "QGKrBwB8q67b41FvOOt2PLvf4Rt2vXwee79s29zr5TjGPva1XYb+nengZ74ud/WC046313rCadvd\n",
       "fT3hnLlX4+x7fR98x6y524+3t3rCKdv90PtlrbWGPvO11lqD75ip7zHHvtcTznNeEr5DAuBbMPSb\n",
       "LwAAAAAAAACmE6wBAAAAAAAASAjWAAAAAAAAACQEawAAAAAAAAASgjUAAAAAAAAACcEaAAAAAAAA\n",
       "gIRgDQAAAAAAAEBCsAYAAAAAAAAgIVgDAAAAAAAAkBCsAQAAAAAAAEgI1gAAAAAAAAAkBGsAAAAA\n",
       "AAAAEoI1AAAAAAAAAAnBGgAAAAAAAICEYA0AAAAAAABAQrAGAAAAAAAAICFYAwAAAAAAAJAQrAEA\n",
       "AAAAAABICNYAAAAAAAAAJARrAAAAAAAAABKCNQAAAAAAAAAJwRoAAAAAAACAhGANAAAAAAAAQEKw\n",
       "BgAAAAAAACAhWAMAAAAAAACQEKwBAAAAAAAASAjWAAAAAAAAACQEawAAAAAAAAASgjUAAAAAAAAA\n",
       "CcEaAAAAAAAAgIRgDQAAAAAAAEBCsAYAAAAAAAAgIVgDAAAAAAAAkNjqAQD8/7tePh/1hjNu+9PY\n",
       "n0vX7XHkM6ex3d3VE0479r2e8F3atrHXI/wyl7n341TH22s94bs0+V4/jpmvvZOf+Rq8ffS749Cz\n",
       "PtnteJ572AGAX8V/WAMAAAAAAACQEKwBAAAAAAAASAjWAAAAAAAAACQEawAAAAAAAAASgjUAAAAA\n",
       "AAAACcEaAAAAAAAAgIRgDQAAAAAAAEBCsAYAAAAAAAAgIVgDAAAAAAAAkBCsAQAAAAAAAEgI1gAA\n",
       "AAAAAAAkBGsAAAAAAAAAEoI1AAAAAAAAAAnBGgAAAAAAAICEYA0AAAAAAABAQrAGAAAAAAAAICFY\n",
       "AwAAAAAAAJAQrAEAAAAAAABICNYAAAAAAAAAJARrAAAAAAAAABKCNQAAAAAAAAAJwRoAAAAAAACA\n",
       "hGANAAAAAAAAQEKwBgAAAAAAACAhWAMAAAAAAACQEKwBAAAAAAAASAjWAAAAAAAAACQEawAAAAAA\n",
       "AAASgjUAAAAAAAAACcEaAAAAAAAAgIRgDQAAAAAAAEBCsAYAAAAAAAAgsdUDAIDWdXs86g3wLjav\n",
       "vu9tu8z9+9hj3+sJ5x2u9fc2+qxPPi+Ttw92O55H/kAd/c47+R3G55RfYvBZv+1Pc8cDwDdg7m/V\n",
       "AAAAAAAAAIwmWAMAAAAAAACQEKwBAAAAAAAASAjWAAAAAAAAACQEawAAAAAAAAASgjUAAAAAAAAA\n",
       "CcEaAAAAAAAAgIRgDQAAAAAAAEBCsAYAAAAAAAAgIVgDAAAAAAAAkBCsAQAAAAAAAEgI1gAAAAAA\n",
       "AAAkBGsAAAAAAAAAEoI1AAAAAAAAAAnBGgAAAAAAAICEYA0AAAAAAABAQrAGAAAAAAAAICFYAwAA\n",
       "AAAAAJAQrAEAAAAAAABICNYAAAAAAAAAJARrAAAAAAAAABKCNQAAAAAAAAAJwRoAAAAAAACAhGAN\n",
       "AAAAAAAAQEKwBgAAAAAAACAhWAMAAAAAAACQEKwBAAAAAAAASAjWAAAAAAAAACQEawAAAAAAAAAS\n",
       "gjUAAAAAAAAACcEaAAAAAAAAgIRgDQAAAAAAAEBCsAYAAAAAAAAgcV8PAABat+N5qzfAuzjqAedd\n",
       "L59Hrj/2vZ5w3jHyka+1Zt/r1+1x5IM/Bp+X0baxR302x/3d3fansYd96r0+2eT3APcLAHy//Ic1\n",
       "AAAAAAAAAAnBGgAAAAAAAICEYA0AAAAAAABAQrAGAAAAAAAAICFYAwAAAAAAAJAQrAEAAAAAAABI\n",
       "CNYAAAAAAAAAJARrAAAAAAAAABKCNQAAAAAAAAAJwRoAAAAAAACAhGANAAAAAAAAQEKwBgAAAAAA\n",
       "ACAhWAMAAAAAAACQEKwBAAAAAAAASAjWAAAAAAAAACQEawAAAAAAAAASgjUAAAAAAAAACcEaAAAA\n",
       "AAAAgIRgDQAAAAAAAEBCsAYAAAAAAAAgIVgDAAAAAAAAkBCsAQAAAAAAAEgI1gAAAAAAAAAkBGsA\n",
       "AAAAAAAAEoI1AAAAAAAAAAnBGgAAAAAAAICEYA0AAAAAAABAQrAGAAAAAAAAICFYAwAAAAAAAJAQ\n",
       "rAEAAAAAAABICNYAAAAAAAAAJARrAAAAAAAAABJbPQAAgDmul89HveG0Y+702/HsvR3gf5n8M+m2\n",
       "P7nXAQAA/of/sAYAAAAAAAAgIVgDAAAAAAAAkBCsAQAAAAAAAEgI1gAAAAAAAAAkBGsAAAAAAAAA\n",
       "EoI1AAAAAAAAAAnBGgAAAAAAAICEYA0AAAAAAABAQrAGAAAAAAAAICFYAwAAAAAAAJAQrAEAAAAA\n",
       "AABICNYAAAAAAAAAJARrAAAAAAAAABKCNQAAAAAAAAAJwRoAAAAAAACAhGANAAAAAAAAQEKwBgAA\n",
       "AAAAACAhWAMAAAAAAACQEKwBAAAAAAAASAjWAAAAAAAAACQEawAAAAAAAAASgjUAAAAAAAAACcEa\n",
       "AAAAAAAAgIRgDQAAAAAAAEBCsAYAAAAAAAAgIVgDAAAAAAAAkBCsAQAAAAAAAEgI1gAAAAAAAAAk\n",
       "BGsAAAAAAAAAEoI1AAAAAAAAAAnBGgAAAAAAAICEYA0AAAAAAABAQrAGAAAAAAAAIHFfDwAAYI7b\n",
       "/rTVG75H1+3xqDeccTuex56Xqc98rdnPHX6RY+zHFOA34x0GAJjIf1gDAAAAAAAAkBCsAQAAAAAA\n",
       "AEgI1gAAAAAAAAAkBGsAAAAAAAAAEoI1AAAAAAAAAAnBGgAAAAAAAICEYA0AAAAAAABAQrAGAAAA\n",
       "AAAAICFYAwAAAAAAAJAQrAEAAAAAAABICNYAAAAAAAAAJARrAAAAAAAAABKCNQAAAAAAAAAJwRoA\n",
       "AAAAAACAhGANAAAAAAAAQEKwBgAAAAAAACAhWAMAAAAAAACQEKwBAAAAAAAASAjWAAAAAAAAACQE\n",
       "awAAAAAAAAASgjUAAAAAAAAACcEaAAAAAAAAgIRgDQAAAAAAAEBCsAYAAAAAAAAgIVgDAAAAAAAA\n",
       "kBCsAQAAAAAAAEgI1gAAAAAAAAAkBGsAAAAAAAAAEoI1AAAAAAAAAAnBGgAAAAAAAICEYA0AAAAA\n",
       "AABAQrAGAAAAAAAAILHVAwAAvjfX7fGoN5x1O569PwK/man34+S7ceozX2v2cwcAAODv/Ic1AAAA\n",
       "AAAAAAnBGgAAAAAAAICEYA0AAAAAAABAQrAGAAAAAAAAICFYAwAAAAAAAJAQrAEAAAAAAABICNYA\n",
       "AAAAAAAAJARrAAAAAAAAABKCNQAAAAAAAAAJwRoAAAAAAACAhGANAAAAAAAAQEKwBgAAAAAAACAh\n",
       "WAMAAAAAAACQEKwBAAAAAAAASAjWAAAAAAAAACQEawAAAAAAAAASgjUAAAAAAAAACcEaAAAAAAAA\n",
       "gIRgDQAAAAAAAEBCsAYAAAAAAAAgIVgDAAAAAAAAkBCsAQAAAAAAAEgI1gAAAAAAAAAkBGsAAAAA\n",
       "AAAAEoI1AAAAAAAAAAnBGgAAAAAAAICEYA0AAAAAAABAQrAGAAAAAAAAICFYAwAAAAAAAJAQrAEA\n",
       "AAAAAABICNYAAAAAAAAAJARrAAAAAAAAABJ/AWD/7ZRKkjWTAAAAAElFTkSuQmCC\n",
       "\" transform=\"translate(149, 47)\"/>\n",
       "</g>\n",
       "<defs>\n",
       "  <clipPath id=\"clip903\">\n",
       "    <rect x=\"2160\" y=\"47\" width=\"73\" height=\"1440\"/>\n",
       "  </clipPath>\n",
       "</defs>\n",
       "<g clip-path=\"url(#clip903)\">\n",
       "<image width=\"72\" height=\"1439\" xlink:href=\"data:image/png;base64,\n",
       "iVBORw0KGgoAAAANSUhEUgAAAEgAAAWfCAYAAAAI7rB3AAAMJ0lEQVR4nO3dwa3cSBAFQVIoU9Z/\n",
       "t2QFm7JgK4+cQ4QFQuJhiG7OfN3P3//ei//15+t/wK8TKAgUBAoChXne8/W/4adZUBAoCBQECgKF\n",
       "OZej2MaCgkBBoCBQmHM5amwsKAgUBAoCBYHCPK+jxsaCgkBBoCBQECg4iwULCgIFgYJAYR5vNVYW\n",
       "FAQKAgWBgkBhjguzlQUFgYJAQaDgqBEsKAgUBAoCBYHCeKexs6AgUBAoCBQECr5hFiwoCBQECgKF\n",
       "eb7+F/w4CwoCBYGCQEGg4MIsWFAQKAgUBAoChXncl60sKAgUBAoCBUeNYEFBoCBQECgIFOa57q//\n",
       "DT/NgoJAQaAgUJjn9SG9saAgUBAoCBQECnMcNVYWFAQKAgWBgkDBhVmwoCBQECgIFOa4MFtZUBAo\n",
       "CBQECgIFR41gQUGgIFAQKAgUPMWCBQWBgkBBoDDn1WijThAoCBQECgIFR41gQUGgIFAQKMyj0Uqd\n",
       "IFAQKAgUBAouzII6QaAgUBAoCBRcmAULCgIFgYJAYR5HjZU6QaAgUBAoCBTmaLRSJwgUBAoCBYGC\n",
       "C7NgQUGgIFAQKLgwC+oEgYJAQaAgUHBhFtQJAgWBgkDBUSOoEwQKAgWBgkDBW41gQUGgIFAQKAgU\n",
       "/CQzqBMECgIFgYK//hLUCQIFgYJAQaAwj/9fbGVBQaAgUBAo+AJVUCcIFAQKAgWBgm+YBXWCQEGg\n",
       "IFAQKHjtE9QJAgWBgkBhjrcaKwsKAgWBgkBBoOCoEdQJAgWBgkBBoODHLEGdIFAQKAgU/G4+WFAQ\n",
       "KAgUBAoCBUeNoE4QKAgUBAqOGsGCgkBBoCBQECg4agR1gkBBoCBQECj4SWZQJwgUBAoChTkuzFYW\n",
       "FAQKAgWBgkDBUSOoEwQKAgWBgkDBWSxYUBAoCBQECo4aQZ0gUBAoCBQECv6GWbCgIFAQKAgU/Imu\n",
       "oE4QKAgUBAoCBUeNYEFBoCBQECgIFDzFggUFgYJAQaDgwiyoEwQKAgWBgkDBUSNYUBAoCBQECgIF\n",
       "f8MsqBMECgIFgYJfHAYLCgIFgYJAQaAwjwuzlQUFgYJAQaDgPiioEwQKAgWBgkDBu/lgQUGgIFAQ\n",
       "KAgUvPYJFhQECgIFgYK3GsGCgkBBoCBQECh47RPUCQIFgYJAwVuNYEFBoCBQECgIFLzVCBYUBAoC\n",
       "BYGCQMFZLFhQECgIFAQKPqSDBQWBgkBBoCBQ8BQLFhQECgIFgYJAwTfMgjpBoCBQECh4Nx8sKAgU\n",
       "BAoCBYGCC7NgQUGgIFAQKPiQDhYUBAoCBYGCQMFTLFhQECgIFAQKAoV5PcVWFhQECgIFgYJ388GC\n",
       "gkBBoCBQECi4MAsWFAQKAgWBgkDBUyxYUBAoCBQECt5qBAsKAgWBgkBBoOCoESwoCBQECgIFH9LB\n",
       "goJAQaAgUBAozPv1v+DHWVAQKAgUBAoCBWexYEFBoCBQECh4Nx8sKAgUBAoCBYGCo0awoCBQECgI\n",
       "FAQKzmLBgoJAQaAgUJjj5fzKgoJAQaAgUBAoOGoECwoCBYGCQMGHdLCgIFAQKAgUBArezQcLCgIF\n",
       "gYJAQaDgJ5nBgoJAQaAgUHBhFiwoCBQECgIFgYKnWLCgIFAQKAgUBArzujFbWVAQKAgUBAqOGsGC\n",
       "gkBBoCBQECh4igULCgIFgYJAwX1QsKAgUBAoCBQECo4awYKCQEGgIFAQKDiLBQsKAgWBgkBhLkeN\n",
       "lQUFgYJAQaAgUHBhFiwoCBQECgIFf9wkWFAQKAgUBAoCBRdmwYKCQEGgIFAQKHg3HywoCBQECgKF\n",
       "uXxIrywoCBQECgIFgYJ388GCgkBBoCBQECg4iwULCgIFgYJAwbv5YEFBoCBQECgIFLybDxYUBAoC\n",
       "BYGCo0awoCBQECgIFAQK3moECwoCBYGCQEGg4CkWLCgIFAQKAgUXZsGCgkBBoCBQECg4agQLCgIF\n",
       "gYJAQaDgKRYsKAgUBAoCBRdmwYKCQEGgIFAQKAgUBAoCBYGCQMF9ULCgIFAQKAgUBAqeYsGCgkBB\n",
       "oCBQECjM7bXPyoKCQEGgIFBw1AgWFAQKAgWBgkDBUyxYUBAoCBQECgIFT7FgQUGgIFAQKPgxS7Cg\n",
       "IFAQKAgUBApzO2qsLCgIFAQKAgX3QcGCgkBBoCBQECh4igULCgIFgYJAQaDgwixYUBAoCBQECo4a\n",
       "wYKCQEGgIFAQKPiGWbCgIFAQKAgU3AcFCwoCBYGCQEGg4MIsWFAQKAgUBAoCBU+xYEFBoCBQECiM\n",
       "dxo7CwoCBYGCQEGg4KgRLCgIFAQKAgWBgqdYsKAgUBAoCBR8wyxYUBAoCBQECgIFR41gQUGgIFAQ\n",
       "KPiQDhYUBAoCBYGCQMGFWbCgIFAQKAgUBAr++kuwoCBQECgIFBw1ggUFgYJAQaAgUPDaJ1hQECgI\n",
       "FAQKAgVPsWBBQaAgUBAouDALFhQECgIFgYJAwVEjWFAQKAgUBAo+pIMFBYGCQEGgIFBwYRYsKAgU\n",
       "BAoCBYGCs1iwoCBQECgIFAQKAgWBgkBBoCBQcGEWLCgIFAQKAgWBgguzYEFBoCBQECg4agQLCgIF\n",
       "gYJAQaDgqBEsKAgUBAoCBR/SwYKCQEGgIFAQKLgwCxYUBAoCBYGCQMFZLFhQECgIFAQKjhrBgoJA\n",
       "QaAgUBAoOGoECwoCBYGCQMGHdLCgIFAQKAgUBAouzIIFBYGCQEGgIFBwFgsWFAQKAgWBgqNGsKAg\n",
       "UBAoCBQECo4awYKCQEGgIFAQKHiKBQsKAgWBgkBh7ten9MaCgkBBoCBQECg4agQLCgIFgYJAwbv5\n",
       "YEFBoCBQECgIFBw1ggUFgYJAQaAgUHAWCxYUBAoCBYGCo0awoCBQECgIFAQKnmLBgoJAQaAgUBAo\n",
       "uDALFhQECgIFgYKjRrCgIFAQKAgUBAqOGsGCgkBBoCBQcNQIFhQECgIFgYJAwVEjWFAQKAgUBAoC\n",
       "BWexYEFBoCBQECj4Q5PBgoJAQaAgUBAoOGoECwoCBYGCQEGg4LVPsKAgUBAoCBQcNYIFBYGCQEGg\n",
       "IFBw1AgWFAQKAgWBgqNGsKAgUBAoCBQECo4awYKCQEGgIFAQKMzle9IrCwoCBYGCQMFRI1hQECgI\n",
       "FAQKAgWvfYIFBYGCQEGgIFBwFgsWFAQKAgWBgqNGsKAgUBAoCBQECv6GWbCgIFAQKAgUHDWCBQWB\n",
       "gkBBoCBQmPt8/U/4bRYUBAoCBYGCQMFZLFhQECgIFAQK3moECwoCBYGCQEGg4KgRLCgIFAQKAgUf\n",
       "0sGCgkBBoCBQECj4xWGwoCBQECgIFAQK/tBksKAgUBAoCBQcNYIFBYGCQEGgIFCY63iMbSwoCBQE\n",
       "CgIFgYKzWLCgIFAQKAgUfMMsWFAQKAgUBAoCBT/JDBYUBAoCBYGCo0awoCBQECgIFAQKjhrBgoJA\n",
       "QaAgUBAozOXPJa8sKAgUBAoCBb84DBYUBAoCBYGCQMHXgIMFBYGCQEGgIFBwFgsWFAQKAgWBgm+Y\n",
       "BQsKAgWBgkBBoOAbZsGCgkBBoCBQ8Ce6ggUFgYJAQaAgUPBuPlhQECgIFAQKAgXv5oMFBYGCQEGg\n",
       "4EM6WFAQKAgUBAoCBb+bDxYUBAoCBYGCQME3zIIFBYGCQEGg4MIsWFAQKAgUBAoCBU+xYEFBoCBQ\n",
       "ECh4qxEsKAgUBAoCBYGCtxrBgoJAQaAgUBAouDALFhQECgIFgYIP6WBBQaAgUBAoCBT8DbNgQUGg\n",
       "IFAQKDhqBAsKAgWBgkBBoOApFiwoCBQECgIFgYKnWLCgIFAQKAgU5vZWY2VBQaAgUBAoCBQcNYIF\n",
       "BYGCQEGgIFDwFAsWFAQKAgWBgg/pYEFBoCBQECgIFPyYJVhQECgIFAQKjhrBgoJAQaAgUBAoeIoF\n",
       "CwoCBYGCQEGgMNfxV/83FhQECgIFgYKjRrCgIFAQKAgUBArzeoqtLCgIFAQKAgWBgm+YBQsKAgWB\n",
       "gkBhrtdbjY0FBYGCQEGgIFDw2idYUBAoCBQECu6DggUFgYJAQaAgUHBhFiwoCBQECgIFgYKzWLCg\n",
       "IFAQKAgUfA04WFAQKAgUBAoCBb+bDxYUBAoCBYGCQME3zIIFBYGCQEGg4KgRLCgIFAQKAgWBgtc+\n",
       "wYKCQEGgIFDwBapgQUGgIFAQKAgU/JglWFAQKAgUBAoChXmdxVYWFAQKAgWBgqNGsKAgUBAoCBQE\n",
       "Cr4GHCwoCBQECgKFf4jrjN/mS6F7AAAAAElFTkSuQmCC\n",
       "\" transform=\"translate(2161, 47)\"/>\n",
       "</g>\n",
       "<path clip-path=\"url(#clip900)\" d=\"M2269.43 1282.55 L2277.07 1282.55 L2277.07 1256.18 L2268.76 1257.85 L2268.76 1253.59 L2277.02 1251.92 L2281.7 1251.92 L2281.7 1282.55 L2289.33 1282.55 L2289.33 1286.48 L2269.43 1286.48 L2269.43 1282.55 Z\" fill=\"#f8f8f2\" fill-rule=\"nonzero\" fill-opacity=\"1\" /><path clip-path=\"url(#clip900)\" d=\"M2308.78 1255 Q2305.17 1255 2303.34 1258.57 Q2301.53 1262.11 2301.53 1269.24 Q2301.53 1276.35 2303.34 1279.91 Q2305.17 1283.45 2308.78 1283.45 Q2312.41 1283.45 2314.22 1279.91 Q2316.05 1276.35 2316.05 1269.24 Q2316.05 1262.11 2314.22 1258.57 Q2312.41 1255 2308.78 1255 M2308.78 1251.3 Q2314.59 1251.3 2317.64 1255.91 Q2320.72 1260.49 2320.72 1269.24 Q2320.72 1277.97 2317.64 1282.57 Q2314.59 1287.16 2308.78 1287.16 Q2302.97 1287.16 2299.89 1282.57 Q2296.83 1277.97 2296.83 1269.24 Q2296.83 1260.49 2299.89 1255.91 Q2302.97 1251.3 2308.78 1251.3 Z\" fill=\"#f8f8f2\" fill-rule=\"nonzero\" fill-opacity=\"1\" /><path clip-path=\"url(#clip900)\" d=\"M2338.94 1255 Q2335.33 1255 2333.5 1258.57 Q2331.7 1262.11 2331.7 1269.24 Q2331.7 1276.35 2333.5 1279.91 Q2335.33 1283.45 2338.94 1283.45 Q2342.57 1283.45 2344.38 1279.91 Q2346.21 1276.35 2346.21 1269.24 Q2346.21 1262.11 2344.38 1258.57 Q2342.57 1255 2338.94 1255 M2338.94 1251.3 Q2344.75 1251.3 2347.81 1255.91 Q2350.89 1260.49 2350.89 1269.24 Q2350.89 1277.97 2347.81 1282.57 Q2344.75 1287.16 2338.94 1287.16 Q2333.13 1287.16 2330.05 1282.57 Q2327 1277.97 2327 1269.24 Q2327 1260.49 2330.05 1255.91 Q2333.13 1251.3 2338.94 1251.3 Z\" fill=\"#f8f8f2\" fill-rule=\"nonzero\" fill-opacity=\"1\" /><polyline clip-path=\"url(#clip900)\" style=\"stroke:#000000; stroke-linecap:round; stroke-linejoin:round; stroke-width:4; stroke-opacity:1; fill:none\" points=\"2232.76,1272.83 2256.76,1272.83 \"/>\n",
       "<path clip-path=\"url(#clip900)\" d=\"M2274.38 1066.78 L2290.7 1066.78 L2290.7 1070.71 L2268.76 1070.71 L2268.76 1066.78 Q2271.42 1064.02 2276 1059.39 Q2280.61 1054.74 2281.79 1053.4 Q2284.03 1050.87 2284.91 1049.14 Q2285.82 1047.38 2285.82 1045.69 Q2285.82 1042.93 2283.87 1041.2 Q2281.95 1039.46 2278.85 1039.46 Q2276.65 1039.46 2274.2 1040.23 Q2271.77 1040.99 2268.99 1042.54 L2268.99 1037.82 Q2271.81 1036.68 2274.27 1036.11 Q2276.72 1035.53 2278.76 1035.53 Q2284.13 1035.53 2287.32 1038.21 Q2290.52 1040.9 2290.52 1045.39 Q2290.52 1047.52 2289.7 1049.44 Q2288.92 1051.34 2286.81 1053.93 Q2286.23 1054.6 2283.13 1057.82 Q2280.03 1061.01 2274.38 1066.78 Z\" fill=\"#f8f8f2\" fill-rule=\"nonzero\" fill-opacity=\"1\" /><path clip-path=\"url(#clip900)\" d=\"M2310.51 1039.23 Q2306.9 1039.23 2305.08 1042.79 Q2303.27 1046.34 2303.27 1053.47 Q2303.27 1060.57 2305.08 1064.14 Q2306.9 1067.68 2310.51 1067.68 Q2314.15 1067.68 2315.95 1064.14 Q2317.78 1060.57 2317.78 1053.47 Q2317.78 1046.34 2315.95 1042.79 Q2314.15 1039.23 2310.51 1039.23 M2310.51 1035.53 Q2316.33 1035.53 2319.38 1040.13 Q2322.46 1044.72 2322.46 1053.47 Q2322.46 1062.19 2319.38 1066.8 Q2316.33 1071.38 2310.51 1071.38 Q2304.7 1071.38 2301.63 1066.8 Q2298.57 1062.19 2298.57 1053.47 Q2298.57 1044.72 2301.63 1040.13 Q2304.7 1035.53 2310.51 1035.53 Z\" fill=\"#f8f8f2\" fill-rule=\"nonzero\" fill-opacity=\"1\" /><path clip-path=\"url(#clip900)\" d=\"M2340.68 1039.23 Q2337.07 1039.23 2335.24 1042.79 Q2333.43 1046.34 2333.43 1053.47 Q2333.43 1060.57 2335.24 1064.14 Q2337.07 1067.68 2340.68 1067.68 Q2344.31 1067.68 2346.12 1064.14 Q2347.95 1060.57 2347.95 1053.47 Q2347.95 1046.34 2346.12 1042.79 Q2344.31 1039.23 2340.68 1039.23 M2340.68 1035.53 Q2346.49 1035.53 2349.54 1040.13 Q2352.62 1044.72 2352.62 1053.47 Q2352.62 1062.19 2349.54 1066.8 Q2346.49 1071.38 2340.68 1071.38 Q2334.87 1071.38 2331.79 1066.8 Q2328.73 1062.19 2328.73 1053.47 Q2328.73 1044.72 2331.79 1040.13 Q2334.87 1035.53 2340.68 1035.53 Z\" fill=\"#f8f8f2\" fill-rule=\"nonzero\" fill-opacity=\"1\" /><polyline clip-path=\"url(#clip900)\" style=\"stroke:#000000; stroke-linecap:round; stroke-linejoin:round; stroke-width:4; stroke-opacity:1; fill:none\" points=\"2232.76,1057.06 2256.76,1057.06 \"/>\n",
       "<path clip-path=\"url(#clip900)\" d=\"M2284.38 836.305 Q2287.74 837.022 2289.61 839.291 Q2291.51 841.559 2291.51 844.893 Q2291.51 850.008 2287.99 852.809 Q2284.47 855.61 2277.99 855.61 Q2275.82 855.61 2273.5 855.17 Q2271.21 854.754 2268.76 853.897 L2268.76 849.383 Q2270.7 850.517 2273.02 851.096 Q2275.33 851.675 2277.85 851.675 Q2282.25 851.675 2284.54 849.939 Q2286.86 848.203 2286.86 844.893 Q2286.86 841.837 2284.7 840.124 Q2282.58 838.388 2278.76 838.388 L2274.73 838.388 L2274.73 834.545 L2278.94 834.545 Q2282.39 834.545 2284.22 833.18 Q2286.05 831.791 2286.05 829.198 Q2286.05 826.536 2284.15 825.124 Q2282.27 823.689 2278.76 823.689 Q2276.83 823.689 2274.64 824.106 Q2272.44 824.522 2269.8 825.402 L2269.8 821.235 Q2272.46 820.494 2274.77 820.124 Q2277.11 819.754 2279.17 819.754 Q2284.5 819.754 2287.6 822.184 Q2290.7 824.592 2290.7 828.712 Q2290.7 831.582 2289.06 833.573 Q2287.41 835.541 2284.38 836.305 Z\" fill=\"#f8f8f2\" fill-rule=\"nonzero\" fill-opacity=\"1\" /><path clip-path=\"url(#clip900)\" d=\"M2310.38 823.457 Q2306.76 823.457 2304.94 827.022 Q2303.13 830.564 2303.13 837.693 Q2303.13 844.8 2304.94 848.365 Q2306.76 851.906 2310.38 851.906 Q2314.01 851.906 2315.82 848.365 Q2317.64 844.8 2317.64 837.693 Q2317.64 830.564 2315.82 827.022 Q2314.01 823.457 2310.38 823.457 M2310.38 819.754 Q2316.19 819.754 2319.24 824.36 Q2322.32 828.944 2322.32 837.693 Q2322.32 846.42 2319.24 851.027 Q2316.19 855.61 2310.38 855.61 Q2304.57 855.61 2301.49 851.027 Q2298.43 846.42 2298.43 837.693 Q2298.43 828.944 2301.49 824.36 Q2304.57 819.754 2310.38 819.754 Z\" fill=\"#f8f8f2\" fill-rule=\"nonzero\" fill-opacity=\"1\" /><path clip-path=\"url(#clip900)\" d=\"M2340.54 823.457 Q2336.93 823.457 2335.1 827.022 Q2333.29 830.564 2333.29 837.693 Q2333.29 844.8 2335.1 848.365 Q2336.93 851.906 2340.54 851.906 Q2344.17 851.906 2345.98 848.365 Q2347.81 844.8 2347.81 837.693 Q2347.81 830.564 2345.98 827.022 Q2344.17 823.457 2340.54 823.457 M2340.54 819.754 Q2346.35 819.754 2349.4 824.36 Q2352.48 828.944 2352.48 837.693 Q2352.48 846.42 2349.4 851.027 Q2346.35 855.61 2340.54 855.61 Q2334.73 855.61 2331.65 851.027 Q2328.59 846.42 2328.59 837.693 Q2328.59 828.944 2331.65 824.36 Q2334.73 819.754 2340.54 819.754 Z\" fill=\"#f8f8f2\" fill-rule=\"nonzero\" fill-opacity=\"1\" /><polyline clip-path=\"url(#clip900)\" style=\"stroke:#000000; stroke-linecap:round; stroke-linejoin:round; stroke-width:4; stroke-opacity:1; fill:none\" points=\"2232.76,841.288 2256.76,841.288 \"/>\n",
       "<path clip-path=\"url(#clip900)\" d=\"M2284.36 608.68 L2272.55 627.129 L2284.36 627.129 L2284.36 608.68 M2283.13 604.606 L2289.01 604.606 L2289.01 627.129 L2293.94 627.129 L2293.94 631.018 L2289.01 631.018 L2289.01 639.166 L2284.36 639.166 L2284.36 631.018 L2268.76 631.018 L2268.76 626.504 L2283.13 604.606 Z\" fill=\"#f8f8f2\" fill-rule=\"nonzero\" fill-opacity=\"1\" /><path clip-path=\"url(#clip900)\" d=\"M2311.67 607.685 Q2308.06 607.685 2306.23 611.25 Q2304.43 614.791 2304.43 621.921 Q2304.43 629.027 2306.23 632.592 Q2308.06 636.134 2311.67 636.134 Q2315.31 636.134 2317.11 632.592 Q2318.94 629.027 2318.94 621.921 Q2318.94 614.791 2317.11 611.25 Q2315.31 607.685 2311.67 607.685 M2311.67 603.981 Q2317.48 603.981 2320.54 608.588 Q2323.62 613.171 2323.62 621.921 Q2323.62 630.648 2320.54 635.254 Q2317.48 639.837 2311.67 639.837 Q2305.86 639.837 2302.78 635.254 Q2299.73 630.648 2299.73 621.921 Q2299.73 613.171 2302.78 608.588 Q2305.86 603.981 2311.67 603.981 Z\" fill=\"#f8f8f2\" fill-rule=\"nonzero\" fill-opacity=\"1\" /><path clip-path=\"url(#clip900)\" d=\"M2341.83 607.685 Q2338.22 607.685 2336.39 611.25 Q2334.59 614.791 2334.59 621.921 Q2334.59 629.027 2336.39 632.592 Q2338.22 636.134 2341.83 636.134 Q2345.47 636.134 2347.27 632.592 Q2349.1 629.027 2349.1 621.921 Q2349.1 614.791 2347.27 611.25 Q2345.47 607.685 2341.83 607.685 M2341.83 603.981 Q2347.64 603.981 2350.7 608.588 Q2353.78 613.171 2353.78 621.921 Q2353.78 630.648 2350.7 635.254 Q2347.64 639.837 2341.83 639.837 Q2336.02 639.837 2332.95 635.254 Q2329.89 630.648 2329.89 621.921 Q2329.89 613.171 2332.95 608.588 Q2336.02 603.981 2341.83 603.981 Z\" fill=\"#f8f8f2\" fill-rule=\"nonzero\" fill-opacity=\"1\" /><polyline clip-path=\"url(#clip900)\" style=\"stroke:#000000; stroke-linecap:round; stroke-linejoin:round; stroke-width:4; stroke-opacity:1; fill:none\" points=\"2232.76,625.515 2256.76,625.515 \"/>\n",
       "<path clip-path=\"url(#clip900)\" d=\"M2270.21 388.833 L2288.57 388.833 L2288.57 392.769 L2274.5 392.769 L2274.5 401.241 Q2275.52 400.894 2276.53 400.731 Q2277.55 400.546 2278.57 400.546 Q2284.36 400.546 2287.74 403.718 Q2291.12 406.889 2291.12 412.305 Q2291.12 417.884 2287.64 420.986 Q2284.17 424.065 2277.85 424.065 Q2275.68 424.065 2273.41 423.694 Q2271.16 423.324 2268.76 422.583 L2268.76 417.884 Q2270.84 419.018 2273.06 419.574 Q2275.28 420.13 2277.76 420.13 Q2281.77 420.13 2284.1 418.023 Q2286.44 415.917 2286.44 412.305 Q2286.44 408.694 2284.1 406.588 Q2281.77 404.481 2277.76 404.481 Q2275.89 404.481 2274.01 404.898 Q2272.16 405.315 2270.21 406.194 L2270.21 388.833 Z\" fill=\"#f8f8f2\" fill-rule=\"nonzero\" fill-opacity=\"1\" /><path clip-path=\"url(#clip900)\" d=\"M2310.33 391.912 Q2306.72 391.912 2304.89 395.477 Q2303.08 399.019 2303.08 406.148 Q2303.08 413.255 2304.89 416.819 Q2306.72 420.361 2310.33 420.361 Q2313.96 420.361 2315.77 416.819 Q2317.6 413.255 2317.6 406.148 Q2317.6 399.019 2315.77 395.477 Q2313.96 391.912 2310.33 391.912 M2310.33 388.208 Q2316.14 388.208 2319.2 392.815 Q2322.27 397.398 2322.27 406.148 Q2322.27 414.875 2319.2 419.481 Q2316.14 424.065 2310.33 424.065 Q2304.52 424.065 2301.44 419.481 Q2298.39 414.875 2298.39 406.148 Q2298.39 397.398 2301.44 392.815 Q2304.52 388.208 2310.33 388.208 Z\" fill=\"#f8f8f2\" fill-rule=\"nonzero\" fill-opacity=\"1\" /><path clip-path=\"url(#clip900)\" d=\"M2340.49 391.912 Q2336.88 391.912 2335.05 395.477 Q2333.25 399.019 2333.25 406.148 Q2333.25 413.255 2335.05 416.819 Q2336.88 420.361 2340.49 420.361 Q2344.13 420.361 2345.93 416.819 Q2347.76 413.255 2347.76 406.148 Q2347.76 399.019 2345.93 395.477 Q2344.13 391.912 2340.49 391.912 M2340.49 388.208 Q2346.3 388.208 2349.36 392.815 Q2352.44 397.398 2352.44 406.148 Q2352.44 414.875 2349.36 419.481 Q2346.3 424.065 2340.49 424.065 Q2334.68 424.065 2331.6 419.481 Q2328.55 414.875 2328.55 406.148 Q2328.55 397.398 2331.6 392.815 Q2334.68 388.208 2340.49 388.208 Z\" fill=\"#f8f8f2\" fill-rule=\"nonzero\" fill-opacity=\"1\" /><polyline clip-path=\"url(#clip900)\" style=\"stroke:#000000; stroke-linecap:round; stroke-linejoin:round; stroke-width:4; stroke-opacity:1; fill:none\" points=\"2232.76,409.742 2256.76,409.742 \"/>\n",
       "<path clip-path=\"url(#clip900)\" d=\"M2281.09 188.477 Q2277.95 188.477 2276.09 190.63 Q2274.27 192.783 2274.27 196.533 Q2274.27 200.26 2276.09 202.436 Q2277.95 204.588 2281.09 204.588 Q2284.24 204.588 2286.07 202.436 Q2287.92 200.26 2287.92 196.533 Q2287.92 192.783 2286.07 190.63 Q2284.24 188.477 2281.09 188.477 M2290.38 173.825 L2290.38 178.084 Q2288.62 177.251 2286.81 176.811 Q2285.03 176.371 2283.27 176.371 Q2278.64 176.371 2276.19 179.496 Q2273.76 182.621 2273.41 188.94 Q2274.77 186.926 2276.83 185.862 Q2278.89 184.774 2281.37 184.774 Q2286.58 184.774 2289.59 187.945 Q2292.62 191.093 2292.62 196.533 Q2292.62 201.857 2289.47 205.074 Q2286.33 208.292 2281.09 208.292 Q2275.1 208.292 2271.93 203.709 Q2268.76 199.102 2268.76 190.375 Q2268.76 182.181 2272.64 177.32 Q2276.53 172.436 2283.08 172.436 Q2284.84 172.436 2286.63 172.783 Q2288.43 173.13 2290.38 173.825 Z\" fill=\"#f8f8f2\" fill-rule=\"nonzero\" fill-opacity=\"1\" /><path clip-path=\"url(#clip900)\" d=\"M2310.68 176.139 Q2307.07 176.139 2305.24 179.704 Q2303.43 183.246 2303.43 190.375 Q2303.43 197.482 2305.24 201.047 Q2307.07 204.588 2310.68 204.588 Q2314.31 204.588 2316.12 201.047 Q2317.95 197.482 2317.95 190.375 Q2317.95 183.246 2316.12 179.704 Q2314.31 176.139 2310.68 176.139 M2310.68 172.436 Q2316.49 172.436 2319.54 177.042 Q2322.62 181.625 2322.62 190.375 Q2322.62 199.102 2319.54 203.709 Q2316.49 208.292 2310.68 208.292 Q2304.87 208.292 2301.79 203.709 Q2298.73 199.102 2298.73 190.375 Q2298.73 181.625 2301.79 177.042 Q2304.87 172.436 2310.68 172.436 Z\" fill=\"#f8f8f2\" fill-rule=\"nonzero\" fill-opacity=\"1\" /><path clip-path=\"url(#clip900)\" d=\"M2340.84 176.139 Q2337.23 176.139 2335.4 179.704 Q2333.59 183.246 2333.59 190.375 Q2333.59 197.482 2335.4 201.047 Q2337.23 204.588 2340.84 204.588 Q2344.47 204.588 2346.28 201.047 Q2348.11 197.482 2348.11 190.375 Q2348.11 183.246 2346.28 179.704 Q2344.47 176.139 2340.84 176.139 M2340.84 172.436 Q2346.65 172.436 2349.7 177.042 Q2352.78 181.625 2352.78 190.375 Q2352.78 199.102 2349.7 203.709 Q2346.65 208.292 2340.84 208.292 Q2335.03 208.292 2331.95 203.709 Q2328.89 199.102 2328.89 190.375 Q2328.89 181.625 2331.95 177.042 Q2335.03 172.436 2340.84 172.436 Z\" fill=\"#f8f8f2\" fill-rule=\"nonzero\" fill-opacity=\"1\" /><polyline clip-path=\"url(#clip900)\" style=\"stroke:#000000; stroke-linecap:round; stroke-linejoin:round; stroke-width:4; stroke-opacity:1; fill:none\" points=\"2232.76,193.97 2256.76,193.97 \"/>\n",
       "<polyline clip-path=\"url(#clip900)\" style=\"stroke:#000000; stroke-linecap:round; stroke-linejoin:round; stroke-width:4; stroke-opacity:1; fill:none\" points=\"2232.76,1486.45 2232.76,47.2441 \"/>\n",
       "</svg>\n"
      ],
      "text/html": [
       "<?xml version=\"1.0\" encoding=\"utf-8\"?>\n",
       "<svg xmlns=\"http://www.w3.org/2000/svg\" xmlns:xlink=\"http://www.w3.org/1999/xlink\" width=\"600\" height=\"400\" viewBox=\"0 0 2400 1600\">\n",
       "<defs>\n",
       "  <clipPath id=\"clip950\">\n",
       "    <rect x=\"0\" y=\"0\" width=\"2400\" height=\"1600\"/>\n",
       "  </clipPath>\n",
       "</defs>\n",
       "<path clip-path=\"url(#clip950)\" d=\"M0 1600 L2400 1600 L2400 0 L0 0  Z\" fill=\"#282a36\" fill-rule=\"evenodd\" fill-opacity=\"1\"/>\n",
       "<defs>\n",
       "  <clipPath id=\"clip951\">\n",
       "    <rect x=\"480\" y=\"0\" width=\"1681\" height=\"1600\"/>\n",
       "  </clipPath>\n",
       "</defs>\n",
       "<path clip-path=\"url(#clip950)\" d=\"M149.191 1486.45 L2112.76 1486.45 L2112.76 47.2441 L149.191 47.2441  Z\" fill=\"#30343b\" fill-rule=\"evenodd\" fill-opacity=\"1\"/>\n",
       "<defs>\n",
       "  <clipPath id=\"clip952\">\n",
       "    <rect x=\"149\" y=\"47\" width=\"1965\" height=\"1440\"/>\n",
       "  </clipPath>\n",
       "</defs>\n",
       "<polyline clip-path=\"url(#clip952)\" style=\"stroke:#f8f8f2; stroke-linecap:round; stroke-linejoin:round; stroke-width:2; stroke-opacity:0.1; fill:none\" points=\"242.694,1486.45 242.694,47.2441 \"/>\n",
       "<polyline clip-path=\"url(#clip952)\" style=\"stroke:#f8f8f2; stroke-linecap:round; stroke-linejoin:round; stroke-width:2; stroke-opacity:0.1; fill:none\" points=\"710.209,1486.45 710.209,47.2441 \"/>\n",
       "<polyline clip-path=\"url(#clip952)\" style=\"stroke:#f8f8f2; stroke-linecap:round; stroke-linejoin:round; stroke-width:2; stroke-opacity:0.1; fill:none\" points=\"1177.72,1486.45 1177.72,47.2441 \"/>\n",
       "<polyline clip-path=\"url(#clip952)\" style=\"stroke:#f8f8f2; stroke-linecap:round; stroke-linejoin:round; stroke-width:2; stroke-opacity:0.1; fill:none\" points=\"1645.24,1486.45 1645.24,47.2441 \"/>\n",
       "<polyline clip-path=\"url(#clip952)\" style=\"stroke:#f8f8f2; stroke-linecap:round; stroke-linejoin:round; stroke-width:2; stroke-opacity:0.1; fill:none\" points=\"2112.76,1486.45 2112.76,47.2441 \"/>\n",
       "<polyline clip-path=\"url(#clip952)\" style=\"stroke:#f8f8f2; stroke-linecap:round; stroke-linejoin:round; stroke-width:2; stroke-opacity:0.1; fill:none\" points=\"149.191,1452.98 2112.76,1452.98 \"/>\n",
       "<polyline clip-path=\"url(#clip952)\" style=\"stroke:#f8f8f2; stroke-linecap:round; stroke-linejoin:round; stroke-width:2; stroke-opacity:0.1; fill:none\" points=\"149.191,1118.28 2112.76,1118.28 \"/>\n",
       "<polyline clip-path=\"url(#clip952)\" style=\"stroke:#f8f8f2; stroke-linecap:round; stroke-linejoin:round; stroke-width:2; stroke-opacity:0.1; fill:none\" points=\"149.191,783.581 2112.76,783.581 \"/>\n",
       "<polyline clip-path=\"url(#clip952)\" style=\"stroke:#f8f8f2; stroke-linecap:round; stroke-linejoin:round; stroke-width:2; stroke-opacity:0.1; fill:none\" points=\"149.191,448.882 2112.76,448.882 \"/>\n",
       "<polyline clip-path=\"url(#clip952)\" style=\"stroke:#f8f8f2; stroke-linecap:round; stroke-linejoin:round; stroke-width:2; stroke-opacity:0.1; fill:none\" points=\"149.191,114.184 2112.76,114.184 \"/>\n",
       "<polyline clip-path=\"url(#clip950)\" style=\"stroke:#f8f8f2; stroke-linecap:round; stroke-linejoin:round; stroke-width:4; stroke-opacity:1; fill:none\" points=\"149.191,1486.45 2112.76,1486.45 \"/>\n",
       "<polyline clip-path=\"url(#clip950)\" style=\"stroke:#f8f8f2; stroke-linecap:round; stroke-linejoin:round; stroke-width:4; stroke-opacity:1; fill:none\" points=\"242.694,1486.45 242.694,1467.55 \"/>\n",
       "<polyline clip-path=\"url(#clip950)\" style=\"stroke:#f8f8f2; stroke-linecap:round; stroke-linejoin:round; stroke-width:4; stroke-opacity:1; fill:none\" points=\"710.209,1486.45 710.209,1467.55 \"/>\n",
       "<polyline clip-path=\"url(#clip950)\" style=\"stroke:#f8f8f2; stroke-linecap:round; stroke-linejoin:round; stroke-width:4; stroke-opacity:1; fill:none\" points=\"1177.72,1486.45 1177.72,1467.55 \"/>\n",
       "<polyline clip-path=\"url(#clip950)\" style=\"stroke:#f8f8f2; stroke-linecap:round; stroke-linejoin:round; stroke-width:4; stroke-opacity:1; fill:none\" points=\"1645.24,1486.45 1645.24,1467.55 \"/>\n",
       "<polyline clip-path=\"url(#clip950)\" style=\"stroke:#f8f8f2; stroke-linecap:round; stroke-linejoin:round; stroke-width:4; stroke-opacity:1; fill:none\" points=\"2112.76,1486.45 2112.76,1467.55 \"/>\n",
       "<path clip-path=\"url(#clip950)\" d=\"M211.595 1532.02 L241.27 1532.02 L241.27 1535.95 L211.595 1535.95 L211.595 1532.02 Z\" fill=\"#f8f8f2\" fill-rule=\"nonzero\" fill-opacity=\"1\" /><path clip-path=\"url(#clip950)\" d=\"M264.21 1518.36 L252.405 1536.81 L264.21 1536.81 L264.21 1518.36 M262.983 1514.29 L268.863 1514.29 L268.863 1536.81 L273.793 1536.81 L273.793 1540.7 L268.863 1540.7 L268.863 1548.85 L264.21 1548.85 L264.21 1540.7 L248.608 1540.7 L248.608 1536.19 L262.983 1514.29 Z\" fill=\"#f8f8f2\" fill-rule=\"nonzero\" fill-opacity=\"1\" /><path clip-path=\"url(#clip950)\" d=\"M680.152 1532.02 L709.828 1532.02 L709.828 1535.95 L680.152 1535.95 L680.152 1532.02 Z\" fill=\"#f8f8f2\" fill-rule=\"nonzero\" fill-opacity=\"1\" /><path clip-path=\"url(#clip950)\" d=\"M723.948 1544.91 L740.267 1544.91 L740.267 1548.85 L718.323 1548.85 L718.323 1544.91 Q720.985 1542.16 725.568 1537.53 Q730.175 1532.88 731.355 1531.53 Q733.601 1529.01 734.48 1527.27 Q735.383 1525.51 735.383 1523.82 Q735.383 1521.07 733.438 1519.33 Q731.517 1517.6 728.415 1517.6 Q726.216 1517.6 723.763 1518.36 Q721.332 1519.13 718.554 1520.68 L718.554 1515.95 Q721.378 1514.82 723.832 1514.24 Q726.286 1513.66 728.323 1513.66 Q733.693 1513.66 736.888 1516.35 Q740.082 1519.03 740.082 1523.52 Q740.082 1525.65 739.272 1527.57 Q738.485 1529.47 736.378 1532.07 Q735.8 1532.74 732.698 1535.95 Q729.596 1539.15 723.948 1544.91 Z\" fill=\"#f8f8f2\" fill-rule=\"nonzero\" fill-opacity=\"1\" /><path clip-path=\"url(#clip950)\" d=\"M1177.72 1517.37 Q1174.11 1517.37 1172.29 1520.93 Q1170.48 1524.47 1170.48 1531.6 Q1170.48 1538.71 1172.29 1542.27 Q1174.11 1545.82 1177.72 1545.82 Q1181.36 1545.82 1183.16 1542.27 Q1184.99 1538.71 1184.99 1531.6 Q1184.99 1524.47 1183.16 1520.93 Q1181.36 1517.37 1177.72 1517.37 M1177.72 1513.66 Q1183.54 1513.66 1186.59 1518.27 Q1189.67 1522.85 1189.67 1531.6 Q1189.67 1540.33 1186.59 1544.94 Q1183.54 1549.52 1177.72 1549.52 Q1171.91 1549.52 1168.84 1544.94 Q1165.78 1540.33 1165.78 1531.6 Q1165.78 1522.85 1168.84 1518.27 Q1171.91 1513.66 1177.72 1513.66 Z\" fill=\"#f8f8f2\" fill-rule=\"nonzero\" fill-opacity=\"1\" /><path clip-path=\"url(#clip950)\" d=\"M1639.89 1544.91 L1656.21 1544.91 L1656.21 1548.85 L1634.27 1548.85 L1634.27 1544.91 Q1636.93 1542.16 1641.51 1537.53 Q1646.12 1532.88 1647.3 1531.53 Q1649.55 1529.01 1650.43 1527.27 Q1651.33 1525.51 1651.33 1523.82 Q1651.33 1521.07 1649.38 1519.33 Q1647.46 1517.6 1644.36 1517.6 Q1642.16 1517.6 1639.71 1518.36 Q1637.28 1519.13 1634.5 1520.68 L1634.5 1515.95 Q1637.32 1514.82 1639.78 1514.24 Q1642.23 1513.66 1644.27 1513.66 Q1649.64 1513.66 1652.83 1516.35 Q1656.03 1519.03 1656.03 1523.52 Q1656.03 1525.65 1655.22 1527.57 Q1654.43 1529.47 1652.32 1532.07 Q1651.75 1532.74 1648.64 1535.95 Q1645.54 1539.15 1639.89 1544.91 Z\" fill=\"#f8f8f2\" fill-rule=\"nonzero\" fill-opacity=\"1\" /><path clip-path=\"url(#clip950)\" d=\"M2115.77 1518.36 L2103.96 1536.81 L2115.77 1536.81 L2115.77 1518.36 M2114.54 1514.29 L2120.42 1514.29 L2120.42 1536.81 L2125.35 1536.81 L2125.35 1540.7 L2120.42 1540.7 L2120.42 1548.85 L2115.77 1548.85 L2115.77 1540.7 L2100.16 1540.7 L2100.16 1536.19 L2114.54 1514.29 Z\" fill=\"#f8f8f2\" fill-rule=\"nonzero\" fill-opacity=\"1\" /><polyline clip-path=\"url(#clip950)\" style=\"stroke:#f8f8f2; stroke-linecap:round; stroke-linejoin:round; stroke-width:4; stroke-opacity:1; fill:none\" points=\"149.191,1486.45 149.191,47.2441 \"/>\n",
       "<polyline clip-path=\"url(#clip950)\" style=\"stroke:#f8f8f2; stroke-linecap:round; stroke-linejoin:round; stroke-width:4; stroke-opacity:1; fill:none\" points=\"149.191,1452.98 166.03,1452.98 \"/>\n",
       "<polyline clip-path=\"url(#clip950)\" style=\"stroke:#f8f8f2; stroke-linecap:round; stroke-linejoin:round; stroke-width:4; stroke-opacity:1; fill:none\" points=\"149.191,1118.28 166.03,1118.28 \"/>\n",
       "<polyline clip-path=\"url(#clip950)\" style=\"stroke:#f8f8f2; stroke-linecap:round; stroke-linejoin:round; stroke-width:4; stroke-opacity:1; fill:none\" points=\"149.191,783.581 166.03,783.581 \"/>\n",
       "<polyline clip-path=\"url(#clip950)\" style=\"stroke:#f8f8f2; stroke-linecap:round; stroke-linejoin:round; stroke-width:4; stroke-opacity:1; fill:none\" points=\"149.191,448.882 166.03,448.882 \"/>\n",
       "<polyline clip-path=\"url(#clip950)\" style=\"stroke:#f8f8f2; stroke-linecap:round; stroke-linejoin:round; stroke-width:4; stroke-opacity:1; fill:none\" points=\"149.191,114.184 166.03,114.184 \"/>\n",
       "<path clip-path=\"url(#clip950)\" d=\"M50.9921 1453.43 L80.6679 1453.43 L80.6679 1457.36 L50.9921 1457.36 L50.9921 1453.43 Z\" fill=\"#f8f8f2\" fill-rule=\"nonzero\" fill-opacity=\"1\" /><path clip-path=\"url(#clip950)\" d=\"M103.608 1439.77 L91.8021 1458.22 L103.608 1458.22 L103.608 1439.77 M102.381 1435.7 L108.26 1435.7 L108.26 1458.22 L113.191 1458.22 L113.191 1462.11 L108.26 1462.11 L108.26 1470.26 L103.608 1470.26 L103.608 1462.11 L88.0058 1462.11 L88.0058 1457.6 L102.381 1435.7 Z\" fill=\"#f8f8f2\" fill-rule=\"nonzero\" fill-opacity=\"1\" /><path clip-path=\"url(#clip950)\" d=\"M53.0754 1118.73 L82.7512 1118.73 L82.7512 1122.67 L53.0754 1122.67 L53.0754 1118.73 Z\" fill=\"#f8f8f2\" fill-rule=\"nonzero\" fill-opacity=\"1\" /><path clip-path=\"url(#clip950)\" d=\"M96.8715 1131.62 L113.191 1131.62 L113.191 1135.56 L91.2465 1135.56 L91.2465 1131.62 Q93.9086 1128.87 98.4919 1124.24 Q103.098 1119.59 104.279 1118.24 Q106.524 1115.72 107.404 1113.99 Q108.307 1112.23 108.307 1110.54 Q108.307 1107.78 106.362 1106.05 Q104.441 1104.31 101.339 1104.31 Q99.14 1104.31 96.6863 1105.07 Q94.2558 1105.84 91.478 1107.39 L91.478 1102.67 Q94.3021 1101.53 96.7558 1100.95 Q99.2095 1100.37 101.246 1100.37 Q106.617 1100.37 109.811 1103.06 Q113.006 1105.74 113.006 1110.24 Q113.006 1112.37 112.196 1114.29 Q111.408 1116.18 109.302 1118.78 Q108.723 1119.45 105.621 1122.67 Q102.52 1125.86 96.8715 1131.62 Z\" fill=\"#f8f8f2\" fill-rule=\"nonzero\" fill-opacity=\"1\" /><path clip-path=\"url(#clip950)\" d=\"M101.246 769.38 Q97.6354 769.38 95.8067 772.944 Q94.0012 776.486 94.0012 783.616 Q94.0012 790.722 95.8067 794.287 Q97.6354 797.829 101.246 797.829 Q104.881 797.829 106.686 794.287 Q108.515 790.722 108.515 783.616 Q108.515 776.486 106.686 772.944 Q104.881 769.38 101.246 769.38 M101.246 765.676 Q107.057 765.676 110.112 770.282 Q113.191 774.866 113.191 783.616 Q113.191 792.342 110.112 796.949 Q107.057 801.532 101.246 801.532 Q95.4363 801.532 92.3576 796.949 Q89.3021 792.342 89.3021 783.616 Q89.3021 774.866 92.3576 770.282 Q95.4363 765.676 101.246 765.676 Z\" fill=\"#f8f8f2\" fill-rule=\"nonzero\" fill-opacity=\"1\" /><path clip-path=\"url(#clip950)\" d=\"M96.8715 462.227 L113.191 462.227 L113.191 466.162 L91.2465 466.162 L91.2465 462.227 Q93.9086 459.473 98.4919 454.843 Q103.098 450.19 104.279 448.848 Q106.524 446.325 107.404 444.588 Q108.307 442.829 108.307 441.139 Q108.307 438.385 106.362 436.649 Q104.441 434.913 101.339 434.913 Q99.14 434.913 96.6863 435.676 Q94.2558 436.44 91.478 437.991 L91.478 433.269 Q94.3021 432.135 96.7558 431.556 Q99.2095 430.977 101.246 430.977 Q106.617 430.977 109.811 433.663 Q113.006 436.348 113.006 440.838 Q113.006 442.968 112.196 444.889 Q111.408 446.787 109.302 449.38 Q108.723 450.051 105.621 453.269 Q102.52 456.463 96.8715 462.227 Z\" fill=\"#f8f8f2\" fill-rule=\"nonzero\" fill-opacity=\"1\" /><path clip-path=\"url(#clip950)\" d=\"M103.608 100.978 L91.8021 119.427 L103.608 119.427 L103.608 100.978 M102.381 96.9038 L108.26 96.9038 L108.26 119.427 L113.191 119.427 L113.191 123.316 L108.26 123.316 L108.26 131.464 L103.608 131.464 L103.608 123.316 L88.0058 123.316 L88.0058 118.802 L102.381 96.9038 Z\" fill=\"#f8f8f2\" fill-rule=\"nonzero\" fill-opacity=\"1\" /><g clip-path=\"url(#clip952)\">\n",
       "<image width=\"1964\" height=\"1439\" xlink:href=\"data:image/png;base64,\n",
       "iVBORw0KGgoAAAANSUhEUgAAB6wAAAWfCAYAAAAf3Aj/AAAgAElEQVR4nOzbQXIcV3pG0ZdVAEhJ\n",
       "3ZbaEw+9GWgHYIdX6AmxA2M9HnjW0bIEgqhKL6GttMXLnzhnBV9kvMrMqgtsCwAAAIAv5n572OsN\n",
       "Rz3tj1u9AQAA+Lac6gEAAAAAAAAAvE2CNQAAAAAAAAAJwRoAAAAAAACAhGANAAAAAAAAQEKwBgAA\n",
       "AAAAACAhWAMAAAAAAACQEKwBAAAAAAAASAjWAAAAAAAAACQEawAAAAAAAAASgjUAAAAAAAAACcEa\n",
       "AAAAAAAAgIRgDQAAAAAAAEBCsAYAAAAAAAAgIVgDAAAAAAAAkBCsAQAAAAAAAEgI1gAAAAAAAAAk\n",
       "BGsAAAAAAAAAEoI1AAAAAAAAAAnBGgAAAAAAAICEYA0AAAAAAABAQrAGAAAAAAAAICFYAwAAAAAA\n",
       "AJAQrAEAAAAAAABICNYAAAAAAAAAJARrAAAAAAAAABKCNQAAAAAAAAAJwRoAAAAAAACAhGANAAAA\n",
       "AAAAQEKwBgAAAAAAACAhWAMAAAAAAACQEKwBAAAAAAAASAjWAAAAAAAAACQEawAAAAAAAAASWz0A\n",
       "AACA/z/3pw97veGop+tH31G/sPvtYe552R+dFwAAgG+A/7AGAAAAAAAAICFYAwAAAAAAAJAQrAEA\n",
       "AAAAAABICNYAAAAAAAAAJARrAAAAAAAAABKCNQAAAAAAAAAJwRoAAAAAAACAhGANAAAAAAAAQEKw\n",
       "BgAAAAAAACAhWAMAAAAAAACQEKwBAAAAAAAASAjWAAAAAAAAACQEawAAAAAAAAASgjUAAAAAAAAA\n",
       "CcEaAAAAAAAAgIRgDQAAAAAAAEBCsAYAAAAAAAAgIVgDAAAAAAAAkBCsAQAAAAAAAEgI1gAAAAAA\n",
       "AAAkBGsAAAAAAAAAEoI1AAAAAAAAAAnBGgAAAAAAAICEYA0AAAAAAABAQrAGAAAAAAAAICFYAwAA\n",
       "AAAAAJAQrAEAAAAAAABICNYAAAAAAAAAJARrAAAAAAAAABKCNQAAAAAAAAAJwRoAAAAAAACAhGAN\n",
       "AAAAAAAAAAAAAAAAAAAAAAAAAAAAAAAAAAAAAAAAAAAAAAAAAAAAAAAAAAAAAAAAAAAAAAAAAAAA\n",
       "AAAAAAAAAAAAAAAAAAAAAAAAAAAAAAAAAAAAAAAAAAAAAAAAAAAAAAAAAAAAAAAAAAAAAAAAAAAA\n",
       "AAAAAAAAAAAAAAAAAAAAAAAAAAAAAAAAAAAAAAAAAAAAAAAAAAAAAAAAAAAAAAAAAAAAAAAAAAAA\n",
       "AAAAAAAAAAAAAAAAAAAAAAAAAAAAAAAAAAAAAAAAAAAAAAAAAAAAAAAAAAAAAAAAAAAAAAAAAAAA\n",
       "AAAAAAAAAAAAAAAAAAAAAAAAAAAAAAAAAAAAAAAAAAAAAAAAAPDN2+oBAPAtuN8e9nrDUU/7o/cB\n",
       "AL4KU5+nk5+lU6/5WrOv+2RTz4zzAgAAX69TPQAAAAAAAACAt0mwBgAAAAAAACAhWAMAAAAAAACQ\n",
       "EKwBAAAAAAAASAjWAAAAAAAAACQEawAAAAAAAAASgjUAAAAAAAAACcEaAAAAAAAAgIRgDQAAAAAA\n",
       "AEBCsAYAAAAAAAAgIVgDAAAAAAAAkBCsAQAAAAAAAEgI1gAAAAAAAAAkBGsAAAAAAAAAEoI1AAAA\n",
       "AAAAAAnBGgAAAAAAAICEYA0AAAAAAABAQrAGAAAAAAAAICFYAwAAAAAAAJAQrAEAAAAAAABICNYA\n",
       "AAAAAAAAJARrAAAAAAAAABKCNQAAAAAAAAAJwRoAAAAAAACAhGANAAAAAAAAQEKwBgAAAAAAACAh\n",
       "WAMAAAAAAACQEKwBAAAAAAAASAjWAAAAAAAAACQEawAAAAAAAAASgjUAAAAAAAAACcEaAAAAAAAA\n",
       "gMRWDwAAWvfbw15veGue9kfvYPCVc2+MbG6PX9w++KhPPi+Tr/tQ3r8AAODr5T+sAQAAAAAAAEgI\n",
       "1gAAAAAAAAAkBGsAAAAAAAAAEoI1AAAAAAAAAAnBGgAAAAAAAICEYA0AAAAAAABAQrAGAAAAAAAA\n",
       "ICFYAwAAAAAAAJAQrAEAAAAAAABICNYAAAAAAAAAJARrAAAAAAAAABKCNQAAAAAAAAAJwRoAAAAA\n",
       "AACAhGANAAAAAAAAQEKwBgAAAAAAACAhWAMAAAAAAACQEKwBAAAAAAAASAjWAAAAAAAAACQEawAA\n",
       "AAAAAAASgjUAAAAAAAAACcEaAAAAAAAAgIRgDQAAAAAAAEBCsAYAAAAAAAAgIVgDAAAAAAAAkBCs\n",
       "AQAAAAAAAEgI1gAAAAAAAAAkBGsAAAAAAAAAEoI1AAAAAAAAAAnBGgAAAAAAAICEYA0AAAAAAABA\n",
       "QrAGAAAAAAAAICFYAwAAAAAAAJAQrAEAAAAAAABIbPUA4Nt2vz3s9YajnvZH90jgDzH53ri2wbfG\n",
       "fe5lh99l8ud0qG3wNd+v13rCcYOv++gzM/V5OnX3WqPP+uTrPvU3gfvTh7EX/en6ceQ1B2aY+lvM\n",
       "1OcR/F7+wxoAAAAAAACAhGANAAAAAAAAQEKwBgAAAAAAACAhWAMAAAAAAACQEKwBAAAAAAAASAjW\n",
       "AAAAAAAAACQEawAAAAAAAAASgjUAAAAAAAAACcEaAAAAAAAAgIRgDQAAAAAAAEBCsAYAAAAAAAAg\n",
       "IVgDAAAAAAAAkBCsAQAAAAAAAEgI1gAAAAAAAAAkBGsAAAAAAAAAEoI1AAAAAAAAAAnBGgAAAAAA\n",
       "AICEYA0AAAAAAABAQrAGAAAAAAAAICFYAwAAAAAAAJAQrAEAAAAAAABICNYAAAAAAAAAJARrAAAA\n",
       "AAAAABKCNQAAAAAAAAAJwRoAAAAAAACAhGANAAAAAAAAQEKwBgAAAAAAACAhWAMAAAAAAACQEKwB\n",
       "AAAAAAAASAjWAAAAAAAAACQEawAAAAAAAAASgjUAAAAAAAAAia0eAABw1P32sNcbjthOc/9mcN9H\n",
       "XvK11lrbNvfVd+p1n3zW19BrPt3Usz7Z6M/pZJOfSZdLPeEQ7wH8XlPPzOjzMnn70POy1lpP149z\n",
       "xwPwzfDNFAAAAAAAAICEYA0AAAAAAABAQrAGAAAAAAAAICFYAwAAAAAAAJAQrAEAAAAAAABICNYA\n",
       "AAAAAAAAJARrAAAAAAAAABKCNQAAAAAAAAAJwRoAAAAAAACAhGANAAAAAAAAQEKwBgAAAAAAACAh\n",
       "WAMAAAAAAACQEKwBAAAAAAAASAjWAAAAAAAAACQEawAAAAAAAAASgjUAAAAAAAAACcEaAAAAAAAA\n",
       "gIRgDQAAAAAAAEBCsAYAAAAAAAAgIVgDAAAAAAAAkBCsAQAAAAAAAEgI1gAAAAAAAAAkBGsAAAAA\n",
       "AAAAEoI1AAAAAAAAAAnBGgAAAAAAAICEYA0AAAAAAABAQrAGAAAAAAAAICFYAwAAAAAAAJAQrAEA\n",
       "AAAAAABICNYAAAAAAAAAJARrAAAAAAAAABKCNQAAAAAAAAAJwRoAAAAAAACAxE09AABo3Z8+7PWG\n",
       "t2bfXfLEttULDtumbp+6e621Tud6wWFjz8taa+3XesGbs53nnvX9Mve8/MfLv4/9oP58+28zX2Su\n",
       "c88L/C6Dv2s87Y9j741r7mVf99vD4PUzjT7rAH8Q/2ENAAAAAAAAQEKwBgAAAAAAACAhWAMAAAAA\n",
       "AACQEKwBAAAAAAAASAjWAAAAAAAAACQEawAAAAAAAAASgjUAAAAAAAAACcEaAAAAAAAAgIRgDQAA\n",
       "AAAAAEBCsAYAAAAAAAAgIVgDAAAAAAAAkBCsAQAAAAAAAEgI1gAAAAAAAAAkBGsAAAAAAAAAEoI1\n",
       "AAAAAAAAAAnBGgAAAAAAAICEYA0AAAAAAABAQrAGAAAAAAAAICFYAwAAAAAAAJAQrAEAAAAAAABI\n",
       "CNYAAAAAAAAAJARrAAAAAAAAABKCNQAAAAAAAAAJwRoAAAAAAACAhGANAAAAAAAAQEKwBgAAAAAA\n",
       "ACAhWAMAAAAAAACQEKwBAAAAAAAASAjWAAAAAAAAACQEawAAAAAAAAASgjUAAAAAAAAACcEaAAAA\n",
       "AAAAgMRWDwC+bffbw15vOOppfxx7j7w/fRh53Z+uH11z3oRtG3vUZzuf6wXHXS71grfnfFMvOGw7\n",
       "T/675KH3x6Gz11prnQafl8+v9YLD9uu1nnDYdjP0/jj4ml8/v9QTDtsGv3/tQ9+/Jn/XmHxvXIOv\n",
       "+9TfYib/5jjZ5N9Lga/b4G+mAAAAAAAAAEwmWAMAAAAAAACQEKwBAAAAAAAASAjWAAAAAAAAACQE\n",
       "awAAAAAAAAASgjUAAAAAAAAACcEaAAAAAAAAgIRgDQAAAAAAAEBCsAYAAAAAAAAgIVgDAAAAAAAA\n",
       "kBCsAQAAAAAAAEgI1gAAAAAAAAAkBGsAAAAAAAAAEoI1AAAAAAAAAAnBGgAAAAAAAICEYA0AAAAA\n",
       "AABAQrAGAAAAAAAAICFYAwAAAAAAAJAQrAEAAAAAAABICNYAAAAAAAAAJARrAAAAAAAAABKCNQAA\n",
       "AAAAAAAJwRoAAAAAAACAhGANAAAAAAAAQEKwBgAAAAAAACAhWAMAAAAAAACQEKwBAAAAAAAASAjW\n",
       "AAAAAAAAACQEawAAAAAAAAASgjUAAAAAAAAACcEaAAAAAAAAgIRgDQAAAAAAAEBCsAYAAAAAAAAg\n",
       "cVMPAOAPsO/1gkPuTx9mDieznfzt3Re3bfWC4wbfYbbb23rC23M61wsO227nbl/XoR/U8+BrPvS9\n",
       "ca01+pm0nb3DfHGDj/rpNPesr2X7l7ZfXusJh03+frcPfp7+fP7ryPGTr/no96/Bxv7uOPi8PO2P\n",
       "Mx+mJOa+BQAAAAAAAAAwmmANAAAAAAAAQEKwBgAAAAAAACAhWAMAAAAAAACQEKwBAAAAAAAASAjW\n",
       "AAAAAAAAACQEawAAAAAAAAASgjUAAAAAAAAACcEaAAAAAAAAgIRgDQAAAAAAAEBCsAYAAAAAAAAg\n",
       "IVgDAAAAAAAAkBCsAQAAAAAAAEgI1gAAAAAAAAAkBGsAAAAAAAAAEoI1AAAAAAAAAAnBGgAAAAAA\n",
       "AICEYA0AAAAAAABAQrAGAAAAAAAAICFYAwAAAAAAAJAQrAEAAAAAAABICNYAAAAAAAAAJARrAAAA\n",
       "AAAAABKCNQAAAAAAAAAJwRoAAAAAAACAhGANAAAAAAAAQEKwBgAAAAAAACAhWAMAAAAAAACQEKwB\n",
       "AAAAAAAASAjWAAAAAAAAACQEawAAAAAAAAASgjUAAAAAAAAAiZt6APBte9oft3rDW7SdZv490r7v\n",
       "9YTjBm/fzud6wnHbzLO+1uDzcndXTzhsu5376ru/XuoJh5zev68n/B/M/Zyuoe8Ba621boZ+Tge/\n",
       "B6zr4O2D7+vr9bVecNz1Wi84ZL/MfJautdZ2HXzWJ5v6a8bU3WutyeO3y9z7+ujfYqba5p71yV+T\n",
       "nq4fB194+PYN/iUDAAAAAAAAgMkEawAAAAAAAAASgjUAAAAAAAAACcEaAAAAAAAAgIRgDQAAAAAA\n",
       "AEBCsAYAAAAAAAAgIVgDAAAAAAAAkBCsAQAAAAAAAEgI1gAAAAAAAAAkBGsAAAAAAAAAEoI1AAAA\n",
       "AAAAAAnBGgAAAAAAAICEYA0AAAAAAABAQrAGAAAAAAAAICFYAwAAAAAAAJAQrAEAAAAAAABICNYA\n",
       "AAAAAAAAJARrAAAAAAAAABKCNQAAAAAAAAAJwRoAAAAAAACAhGANAAAAAAAAQEKwBgAAAAAAACAh\n",
       "WAMAAAAAAACQEKwBAAAAAAAASAjWAAAAAAAAACQEawAAAAAAAAASgjUAAAAAAAAACcEaAAAAAAAA\n",
       "gIRgDQAAAAAAAEBCsAYAAAAAAAAgIVgDAAAAAAAAkBCsAQAAAAAAAEgI1gAAAAAAAAAktnoAfEn3\n",
       "28NebzjiaX/0WQ3cnz6MPC9rrbX2odO3uUd9Ow3+G7DB132q7faunnDYdnOuJxx3nrt9u7mpJxwz\n",
       "+bz86Yd6wXEvn+sFb8937+oFx10u9YLD9rvbesJh22+f6gnHTf2u8fm1XnDcy0u94LB98nXfr/WC\n",
       "Q/bXuff1yZ/T/TJ3+9TfBPbB7zCjTX0PWH5jh6/d4F/XAQAAAAAAAJhMsAYAAAAAAAAgIVgDAAAA\n",
       "AAAAkBCsAQAAAAAAAEgI1gAAAAAAAAAkBGsAAAAAAAAAEoI1AAAAAAAAAAnBGgAAAAAAAICEYA0A\n",
       "AAAAAABAQrAGAAAAAAAAICFYAwAAAAAAAJAQrAEAAAAAAABICNYAAAAAAAAAJARrAAAAAAAAABKC\n",
       "NQAAAAAAAAAJwRoAAAAAAACAhGANAAAAAAAAQEKwBgAAAAAAACAhWAMAAAAAAACQEKwBAAAAAAAA\n",
       "SAjWAAAAAAAAACQEawAAAAAAAAASgjUAAAAAAAAACcEaAAAAAAAAgIRgDQAAAAAAAEBCsAYAAAAA\n",
       "AAAgIVgDAAAAAAAAkBCsAQAAAAAAAEgI1gAAAAAAAAAkBGsAAAAAAAAAEoI1AAAAAAAAAAnBGgAA\n",
       "AAAAAIDEVg8A/rH77WGvN7xJm1sk/3vb5PMyePt2e1tPOGS7m7l7rbXWde4jafunP9cTjhv6Od1/\n",
       "/FM94bDtt0/1hMOu/zz3rG/Pn+sJh7z+5ft6wnEzby9rrbW212s94bDTy6WecNj268z74zb4HWZd\n",
       "55719etzveCw/e+/1BOOGXxf31/n3hv3Ty/1hOOuc6/7VPs++Jk0mev+xT3tj4OfSnNN7Un+wxoA\n",
       "AAAAAACAhGANAAAAAAAAQEKwBgAAAAAAACAhWAMAAAAAAACQEKwBAAAAAAAASAjWAAAAAAAAACQE\n",
       "awAAAAAAAAASgjUAAAAAAAAACcEaAAAAAAAAgIRgDQAAAAAAAEBCsAYAAAAAAAAgIVgDAAAAAAAA\n",
       "kBCsAQAAAAAAAEgI1gAAAAAAAAAkBGsAAAAAAAAAEoI1AAAAAAAAAAnBGgAAAAAAAICEYA0AAAAA\n",
       "AABAQrAGAAAAAAAAICFYAwAAAAAAAJAQrAEAAAAAAABICNYAAAAAAAAAJARrAAAAAAAAABKCNQAA\n",
       "AAAAAAAJwRoAAAAAAACAhGANAAAAAAAAQEKwBgAAAAAAACAhWAMAAAAAAACQEKwBAAAAAAAASAjW\n",
       "AAAAAAAAACQEawAAAAAAAAASgjUAAAAAAAAACcEaAAAAAAAAgMRWD2Ce++1hrzcc9bQ/OvNf2M/n\n",
       "v449L/s+dvpY28nfURVO331XTzju9rZecMg2dPdaa63v3tcLjru7qRcctr+/qyccc537LL3+8K6e\n",
       "cNjl/dyzfvn+XE84ZLvMPeuXd3Pfv06f5173yb/GnJ8v9YRDbv72qZ5w2H6e+zk9//JbPeG4T5/r\n",
       "Bcf88t/1gsP258Gf09fXesJxl5n39cnXfL9e6wnHbXNfYp6uH0eO12N4K+a+8QIAAAAAAAAwmmAN\n",
       "AAAAAAAAQEKwBgAAAAAAACAhWAMAAAAAAACQEKwBAAAAAAAASAjWAAAAAAAAACQEawAAAAAAAAAS\n",
       "gjUAAAAAAAAACcEaAAAAAAAAgIRgDQAAAAAAAEBCsAYAAAAAAAAgIVgDAAAAAAAAkBCsAQAAAAAA\n",
       "AEgI1gAAAAAAAAAkBGsAAAAAAAAAEoI1AAAAAAAAAAnBGgAAAAAAAICEYA0AAAAAAABAQrAGAAAA\n",
       "AAAAICFYAwAAAAAAAJAQrAEAAAAAAABICNYAAAAAAAAAJARrAAAAAAAAABKCNQAAAAAAAAAJwRoA\n",
       "AAAAAACAhGANAAAAAAAAQEKwBgAAAAAAACAhWAMAAAAAAACQEKwBAAAAAAAASAjWAAAAAAAAACQE\n",
       "awAAAAAAAAASgjUAAAAAAAAAiZt6AHxJ99vDXm84ZNvqBYft+8xLvtZa2+Drzpe3nc/1hMP2y7We\n",
       "cNjph9t6wjGnwX8z+G7oNV9r7Xdzt7/++L6ecMj1du5Z//Vf7uoJh93+Nvf96/mnmWdmH/zN+vRS\n",
       "Lzju9Dr3rG+XesFxd0O/Jl3PM5+la611fp57YLbL3Ofp6eW1nnDM4O8a293c87Jf536vXpeh95jz\n",
       "3BewbfKLwODfeoGv29w3GAAAAAAAAABGE6wBAAAAAAAASAjWAAAAAAAAACQEawAAAAAAAAASgjUA\n",
       "AAAAAAAACcEaAAAAAAAAgIRgDQAAAAAAAEBCsAYAAAAAAAAgIVgDAAAAAAAAkBCsAQAAAAAAAEgI\n",
       "1gAAAAAAAAAkBGsAAAAAAAAAEoI1AAAAAAAAAAnBGgAAAAAAAICEYA0AAAAAAABAQrAGAAAAAAAA\n",
       "ICFYAwAAAAAAAJAQrAEAAAAAAABICNYAAAAAAAAAJARrAAAAAAAAABKCNQAAAAAAAAAJwRoAAAAA\n",
       "AACAhGANAAAAAAAAQEKwBgAAAAAAACAhWAMAAAAAAACQEKwBAAAAAAAASAjWAAAAAAAAACQEawAA\n",
       "AAAAAAASgjUAAAAAAAAACcEaAAAAAAAAgIRgDQAAAAAAAEBCsAYAAAAAAAAgsdUDgH/sfnvY6w2H\n",
       "bXNvM9tp7t/0bOebesIx57nXfO2DP6Y3Q8/LWmv76cd6wjHv7+oFh+3v39UTjjvNfSb9+q9/ricc\n",
       "8vzTuZ7wJj3/Ze5Zf/2hXvD2nD7XC467zn2crh/+c/C746Ve8PZ8/1+v9YTDzs9zD8zN31/qCYec\n",
       "fn2uJxz3t1/qBYftz5/qCcddZt5j9peZu9daa13n3hv317nX/X/Yt5McS87zCsN/3DYzq5NYbGyZ\n",
       "amAYliFtQEMPUjuo0iK8NLGmGjkHHnhqwIAACwZE24BISRRZZHXZ3iY80AIEfQTq4EM9zwoOAnHj\n",
       "/jfezLnru7uuu+Gv1LgMAAAAAAAAANCZYA0AAAAAAABAhGANAAAAAAAAQIRgDQAAAAAAAECEYA0A\n",
       "AAAAAABAhGANAAAAAAAAQIRgDQAAAAAAAECEYA0AAAAAAABAhGANAAAAAAAAQIRgDQAAAAAAAECE\n",
       "YA0AAAAAAABAhGANAAAAAAAAQIRgDQAAAAAAAECEYA0AAAAAAABAhGANAAAAAAAAQIRgDQAAAAAA\n",
       "AECEYA0AAAAAAABAhGANAAAAAAAAQIRgDQAAAAAAAECEYA0AAAAAAABAhGANAAAAAAAAQIRgDQAA\n",
       "AAAAAECEYA0AAAAAAABAhGANAAAAAAAAQIRgDQAAAAAAAECEYA0AAAAAAABAhGANAAAAAAAAQIRg\n",
       "DQAAAAAAAECEYA0AAAAAAABAhGANAAAAAAAAQIRgDQAAAAAAAECEYA0AAAAAAABAhGANAAAAAAAA\n",
       "QMQqPYB+zqcnc3pD1cX8bEpvoJG57a0+xmi6/XhMLyib1uv0hLLp7Cw9oW6/Ty8omc8epieU7R9u\n",
       "0xPK9md9j75X7y/TE2oan7xuHvcdf+j7lTT299MLavYP+p5h5r63+pj6XvbR+f8Hjk2fMduv0wvq\n",
       "Fvum54AxxvZFekHdYtfzui9eHtIT6hq/h5mWfZ/r89zzXh9jlx5QNjd9l9HdxfGTlidfPSbjfPG0\n",
       "73Vveq/3/SYFAAAAAAAAoDXBGgAAAAAAAIAIwRoAAAAAAACACMEaAAAAAAAAgAjBGgAAAAAAAIAI\n",
       "wRoAAAAAAACACMEaAAAAAAAAgAjBGgAAAAAAAIAIwRoAAAAAAACACMEaAAAAAAAAgAjBGgAAAAAA\n",
       "AIAIwRoAAAAAAACACMEaAAAAAAAAgAjBGgAAAAAAAIAIwRoAAAAAAACACMEaAAAAAAAAgAjBGgAA\n",
       "AAAAAIAIwRoAAAAAAACACMEaAAAAAAAAgAjBGgAAAAAAAIAIwRoAAAAAAACACMEaAAAAAAAAgAjB\n",
       "GgAAAAAAAIAIwRoAAAAAAACACMEaAAAAAAAAgAjBGgAAAAAAAIAIwRoAAAAAAACACMEaAAAAAAAA\n",
       "gAjBGgAAAAAAAIAIwRoAAAAAAACACMEaAAAAAAAAgAjBGgAAAAAAAICIKT2Afs6nJ3N6Q9W06Pk3\n",
       "GvPc9pKPaWr8mGl6v4wxxrRapyeUTKtlekLdsu/2abVKTyib//aD9ISSedn3+XL1owfpCWX7077f\n",
       "Sdfv9bxnrj9KL6jbPTqmJ5TNj+/SE8rmY8/P6TT1Pa8/eHSdnlD2+tVpekLZfNf37Lj8uufZ8eTL\n",
       "ns+XMcZYXaUX1D34/JCeULa66nkWWL/sew5Y/ellekLdZeMP6rHnOeb45jI9oWze79ITyub9Pj3h\n",
       "nXNx/KTvIQb+Cj3ffAEAAAAAAADQnmANAAAAAAAAQIRgDQAAAAAAAECEYA0AAAAAAABAhGANAAAA\n",
       "AAAAQIRgDQAAAAAAAECEYA0AAAAAAABAhGANAAAAAAAAQIRgDQAAAAAAAECEYA0AAAAAAABAhGAN\n",
       "AAAAAAAAQIRgDQAAAAAAAECEYA0AAAAAAABAhGANAAAAAAAAQIRgDQAAAAAAAECEYA0AAAAAAABA\n",
       "hGANAAAAAAAAQIRgDQAAAAAAAECEYA0AAAAAAABAhGANAAAAAAAAQIRgDQAAAAAAAECEYA0AAAAA\n",
       "AABAhGANAAAAAAAAQIRgDQAAAAAAAECEYA0AAAAAAABAhGANAAAAAAAAQIRgDQAAAAAAAECEYA0A\n",
       "AAAAAABAhGANAAAAAAAAQIRgDQAAAAAAAECEYA0AAAAAAABAhGANAAAAAAAAQIRgDQAAAAAAAEDE\n",
       "Kj0A3qZ5ntMT4K2YD4f0hJJp3fdradpu0hPqttv0grJ53fNv7w5nfe+X5XXP58sYY1x90Pe63z5O\n",
       "L6i5+84xPaFsfrhPTyg7Od2lJ5T99G/+mJ5Q8vXNWXpC2T89+iI9oezVhyfpCWW/ef5RekLZi+29\n",
       "9ISSq03fc8C9z3qeeccYY3fWd/vypuc5Zmr87mv/4cP0hLLV7+7SE+pue26fNuv0hLLO24+vX6cn\n",
       "vHPOpydtH+zTou85YD72PAeMMcbF/GxKb6joe7cAAAAAAAAA0JpgDQAAAAAAAECEYA0AAAAAAABA\n",
       "hGANAAAAAAAAQIRgDQAAAAAAAECEYA0AAAAAAABAhGANAAAAAAAAQIRgDQAAAAAAAECEYA0AAAAA\n",
       "AABAhGANAAAAAAAAQIRgDQAAAAAAAECEYBW9NqUAACAASURBVA0AAAAAAABAhGANAAAAAAAAQIRg\n",
       "DQAAAAAAAECEYA0AAAAAAABAhGANAAAAAAAAQIRgDQAAAAAAAECEYA0AAAAAAABAhGANAAAAAAAA\n",
       "QIRgDQAAAAAAAECEYA0AAAAAAABAhGANAAAAAAAAQIRgDQAAAAAAAECEYA0AAAAAAABAhGANAAAA\n",
       "AAAAQIRgDQAAAAAAAECEYA0AAAAAAABAhGANAAAAAAAAQIRgDQAAAAAAAECEYA0AAAAAAABAhGAN\n",
       "AAAAAAAAQIRgDQAAAAAAAEDE6nx6MqdHvIsu5mdTesM7ae55u0+Lxn9bMrnVE6bVKj2hZL69S08o\n",
       "m0626Ql1jT+n0+6QnlBy3C7TE8puHvd8vowxxnToeQ4YY4zDuufndL7f8zM6xhg/+Pir9ISyB5vb\n",
       "9ISyn333f9ITSs4Wfc8wl4dNekLZZ7fvpSeU/eTxF+kJZf9x+3F6Qsnt+33PAdd3J+kJZavrnmeY\n",
       "McZYv+n5Luaw7XteXz+/TE+oW/X9jTdG07PAru/5a/T9Shpj0fdenw/79ISaxu/t5qY9ZozR+rp3\n",
       "fcb0PHkBAAAAAAAA0J5gDQAAAAAAAECEYA0AAAAAAABAhGANAAAAAAAAQIRgDQAAAAAAAECEYA0A\n",
       "AAAAAABAhGANAAAAAAAAQIRgDQAAAAAAAECEYA0AAAAAAABAhGANAAAAAAAAQIRgDQAAAAAAAECE\n",
       "YA0AAAAAAABAhGANAAAAAAAAQIRgDQAAAAAAAECEYA0AAAAAAABAhGANAAAAAAAAQIRgDQAAAAAA\n",
       "AECEYA0AAAAAAABAhGANAAAAAAAAQIRgDQAAAAAAAECEYA0AAAAAAABAhGANAAAAAAAAQIRgDQAA\n",
       "AAAAAECEYA0AAAAAAABAhGANAAAAAAAAQIRgDQAAAAAAAECEYA0AAAAAAABAhGANAAAAAAAAQIRg\n",
       "DQAAAAAAAECEYA0AAAAAAABAhGANAAAAAAAAQIRgDQAAAAAAAECEYA0AAAAAAABAxOpifjalR9BL\n",
       "53vmfHoypze8a+bjMT2hbJra3upj3u/SE0oWm016Qt3c+PGyWqYXlB1P1ukJJdOx7/1y2PR9Nl5/\n",
       "0Hf7/mHP79Npc0hPKLve9Xy+jDHGv/zw39ITyhZTz+fjP5/8Pj2h7P3l/fSEsl9d9b3u/3n1w/SE\n",
       "sk/vPU5PKHm16Pl8GWOM2/1pekLZ3YP0grrDSc+z4+7RKj2hbHnV9/y13G/TE+q++ia9oGbq+794\n",
       "8811ekLZtOx73cfU8/k47/fpCfBWNH66AAAAAAAAANCZYA0AAAAAAABAhGANAAAAAAAAQIRgDQAA\n",
       "AAAAAECEYA0AAAAAAABAhGANAAAAAAAAQIRgDQAAAAAAAECEYA0AAAAAAABAhGANAAAAAAAAQIRg\n",
       "DQAAAAAAAECEYA0AAAAAAABAhGANAAAAAAAAQIRgDQAAAAAAAECEYA0AAAAAAABAhGANAAAAAAAA\n",
       "QIRgDQAAAAAAAECEYA0AAAAAAABAhGANAAAAAAAAQIRgDQAAAAAAAECEYA0AAAAAAABAhGANAAAA\n",
       "AAAAQIRgDQAAAAAAAECEYA0AAAAAAABAhGANAAAAAAAAQIRgDQAAAAAAAECEYA0AAAAAAABAhGAN\n",
       "AAAAAAAAQIRgDQAAAAAAAECEYA0AAAAAAABAhGANAAAAAAAAQIRgDQAAAAAAAECEYA0AAAAAAABA\n",
       "xCo9AN6qaUovKJmPx/SEuqbXfIzRevu0Xqcn1Gw26QV1q8ZfqY2fMdNxTk8omZd9ny/7k77b15fp\n",
       "BXWX6573+v37t+kJZQ+2fbfvxzI9oewfV39MTyj57ND3HLCdrtMTyt5f7tMTyj5Yv05PKPvZh/+X\n",
       "nlDyq9/+ND2hbtnzHDDGGNOh79lxd7/n9s2rxvfLvu9v03nR834ZY4xp3fMcMy37/i/efHuXnlA2\n",
       "73bpCXVz32cMvAv6PtUBAAAAAAAAaE2wBgAAAAAAACBCsAYAAAAAAAAgQrAGAAAAAAAAIEKwBgAA\n",
       "AAAAACBCsAYAAAAAAAAgQrAGAAAAAAAAIEKwBgAAAAAAACBCsAYAAAAAAAAgQrAGAAAAAAAAIEKw\n",
       "BgAAAAAAACBCsAYAAAAAAAAgQrAGAAAAAAAAIEKwBgAAAAAAACBCsAYAAAAAAAAgQrAGAAAAAAAA\n",
       "IEKwBgAAAAAAACBCsAYAAAAAAAAgQrAGAAAAAAAAIEKwBgAAAAAAACBCsAYAAAAAAAAgQrAGAAAA\n",
       "AAAAIEKwBgAAAAAAACBCsAYAAAAAAAAgQrAGAAAAAAAAIEKwBgAAAAAAACBCsAYAAAAAAAAgQrAG\n",
       "AAAAAAAAIEKwBgAAAAAAACBCsAYAAAAAAAAgQrAGAAAAAAAAIEKwBgAAAAAAACBCsAYAAAAAAAAg\n",
       "YpUeQD/n05M5vaFs7jn9Yn42pTdU/Xzxi54XfYwxrTfpCXXHY3pByXx9k55QNq2W6Qll84Oz9ISy\n",
       "47bnUeb2O+v0hLLt67aP9fHNj9t+nY7V655/Z7pY9Pw+GmOM55d9n42/vvx+ekLZ8+399ISSH2//\n",
       "kJ5Q9qPVy/SEsl/ffpyeUPa7u/fSE8p+8/Kj9ISS9fqQnlB2ea/v9+nJn/r+Tlrs0gtqjpue58Yx\n",
       "xpg3je+X19fpCXXLntd9fnOZnlB32KcXfAt93wl0bQNtdxPTteH1PcEAAAAAAAAA0JpgDQAAAAAA\n",
       "AECEYA0AAAAAAABAhGANAAAAAAAAQIRgDQAAAAAAAECEYA0AAAAAAABAhGANAAAAAAAAQIRgDQAA\n",
       "AAAAAECEYA0AAAAAAABAhGANAAAAAAAAQIRgDQAAAAAAAECEYA0AAAAAAABAhGANAAAAAAAAQIRg\n",
       "DQAAAAAAAECEYA0AAAAAAABAhGANAAAAAAAAQIRgDQAAAAAAAECEYA0AAAAAAABAhGANAAAAAAAA\n",
       "QIRgDQAAAAAAAECEYA0AAAAAAABAhGANAAAAAAAAQIRgDQAAAAAAAECEYA0AAAAAAABAhGANAAAA\n",
       "AAAAQIRgDQAAAAAAAECEYA0AAAAAAABAhGANAAAAAAAAQIRgDQAAAAAAAECEYA0AAAAAAABAhGAN\n",
       "AAAAAAAAQIRgDQAAAAAAAEDEKj3g2zifnszpDVUX87MpvaGq8/bzxdOW98z51HN3d/PuLj2hbFpv\n",
       "0hNKpk3jr6W578d0+uZ1ekLZtF2nJ5Qs747pCWW3D5fpCWUnX6UX1L3++/SCmg8fvElPKPvJoz+m\n",
       "J5R9f/s8PaHsOHr+1Phs9156Qtmb40l6Qtlx7vs3+NPoe3ZcLXqeYw6HvvfLYtfz2TjGGMvb9IK6\n",
       "Y9Nj77HvrT5Gz8fLny36fk7H4ZBeULPse7NPm57v7cYYY9z1fV/a9fR1cfhl2wdM1x7T3cXxk5b3\n",
       "TN+nOgAAAAAAAACtCdYAAAAAAAAARAjWAAAAAAAAAEQI1gAAAAAAAABECNYAAAAAAAAARAjWAAAA\n",
       "AAAAAEQI1gAAAAAAAABECNYAAAAAAAAARAjWAAAAAAAAAEQI1gAAAAAAAABECNYAAAAAAAAARAjW\n",
       "AAAAAAAAAEQI1gAAAAAAAABECNYAAAAAAAAARAjWAAAAAAAAAEQI1gAAAAAAAABECNYAAAAAAAAA\n",
       "RAjWAAAAAAAAAEQI1gAAAAAAAABECNYAAAAAAAAARAjWAAAAAAAAAEQI1gAAAAAAAABECNYAAAAA\n",
       "AAAARAjWAAAAAAAAAEQI1gAAAAAAAABECNYAAAAAAAAARAjWAAAAAAAAAEQI1gAAAAAAAABECNYA\n",
       "AAAAAAAARAjWAAAAAAAAAEQI1gAAAAAAAABECNYAAAAAAAAARAjWAAAAAAAAAESs0gO+jYv52ZTe\n",
       "UHU+PZnTG6o6X/cxt73sfS38XUzE8ZBeUDNt0gvqOj9fNuv0grLpcExPKFldNv2MjjG228bP9b4n\n",
       "mLF+1XP8b3/zvfSEsm9+eJqeULb7aJmeUPaD0+fpCSUfr79OTyh7fniQnlD2X1d9nzFf3PS97l9d\n",
       "3U9PKLl+cZKeULa57Hv+mvt+JY3ty56/NU6f36UnlC1ud+kJdY1fCYxDz9+n881tekLZfOx7w8z7\n",
       "vp/Tqel76vPF07Y3zDT1fJcxxhj/evhl3/FN9fyEAgAAAAAAANCeYA0AAAAAAABAhGANAAAAAAAA\n",
       "QIRgDQAAAAAAAECEYA0AAAAAAABAhGANAAAAAAAAQIRgDQAAAAAAAECEYA0AAAAAAABAhGANAAAA\n",
       "AAAAQIRgDQAAAAAAAECEYA0AAAAAAABAhGANAAAAAAAAQIRgDQAAAAAAAECEYA0AAAAAAABAhGAN\n",
       "AAAAAAAAQIRgDQAAAAAAAECEYA0AAAAAAABAhGANAAAAAAAAQIRgDQAAAAAAAECEYA0AAAAAAABA\n",
       "hGANAAAAAAAAQIRgDQAAAAAAAECEYA0AAAAAAABAhGANAAAAAAAAQIRgDQAAAAAAAECEYA0AAAAA\n",
       "AABAhGANAAAAAAAAQIRgDQAAAAAAAECEYA0AAAAAAABAhGANAAAAAAAAQIRgDQAAAAAAAECEYA0A\n",
       "AAAAAABAxCo94F11MT+b0hveRV2v+8+Xv5jTG6rm4zE9oWxaNn5ELnr+PdK826Un1DW95mOMMV1d\n",
       "pyeULTbr9ISS6dE2PaFsed33ub44W6YnlC26Ph5PD+kFZa+vTtITyv775YfpCWUvd6fpCSX/vvuH\n",
       "9ISyh+ub9ISyb27P0hPKvry6l55Q9upNz8/p8lXf33fbr9ML6rYv2r7OGMu7ntvn0fLV159Njbc3\n",
       "fv/V1qLv77tx6PoDr/n70mPP36dT42dj5zbQ2fn0pOUhpu/bdQAAAAAAAABaE6wBAAAAAAAAiBCs\n",
       "AQAAAAAAAIgQrAEAAAAAAACIEKwBAAAAAAAAiBCsAQAAAAAAAIgQrAEAAAAAAACIEKwBAAAAAAAA\n",
       "iBCsAQAAAAAAAIgQrAEAAAAAAACIEKwBAAAAAAAAiBCsAQAAAAAAAIgQrAEAAAAAAACIEKwBAAAA\n",
       "AAAAiBCsAQAAAAAAAIgQrAEAAAAAAACIEKwBAAAAAAAAiBCsAQAAAAAAAIgQrAEAAAAAAACIEKwB\n",
       "AAAAAAAAiBCsAQAAAAAAAIgQrAEAAAAAAACIEKwBAAAAAAAAiBCsAQAAAAAAAIgQrAEAAAAAAACI\n",
       "EKwBAAAAAAAAiBCsAQAAAAAAAIgQrAEAAAAAAACIEKwBAAAAAAAAiBCsAQAAAAAAAIgQrAEAAAAA\n",
       "AACIEKwBAAAAAAAAiBCsAQAAAAAAAIhYpQcAf9k8z+kJZdOi8d/FTOkB38LUdHzX3WOMqfH21u52\n",
       "6QUlq1e36Qllh+0yPaFsedP3+3R11fMZc/rpJj2h7Pr7fc8w//vF99ITyj7dHtMTSt7/uxfpCWVf\n",
       "TvfSE8q+/OphekJd30fMWH6+TU8o2b7s+V06xhjrq/SCurMv9ukJZcubnt9Jq8u79ISy6fImPaHu\n",
       "6jq9oGzeNf2cLvo+18fo+9t0NH5P3VXnNtD5Xe/59LTthb84ftLywjf+iQQAAAAAAABAZ4I1AAAA\n",
       "AAAAABGCNQAAAAAAAAARgjUAAAAAAAAAEYI1AAAAAAAAABGCNQAAAAAAAAARgjUAAAAAAAAAEYI1\n",
       "AAAAAAAAABGCNQAAAAAAAAARgjUAAAAAAAAAEYI1AAAAAAAAABGCNQAAAAAAAAARgjUAAAAAAAAA\n",
       "EYI1AAAAAAAAABGCNQAAAAAAAAARgjUAAAAAAAAAEYI1AAAAAAAAABGCNQAAAAAAAAARgjUAAAAA\n",
       "AAAAEYI1AAAAAAAAABGCNQAAAAAAAAARgjUAAAAAAAAAEYI1AAAAAAAAABGCNQAAAAAAAAARgjUA\n",
       "AAAAAAAAEYI1AAAAAAAAABGCNQAAAAAAAAARgjUAAAAAAAAAEYI1AAAAAAAAABGCNQAAAAAAAAAR\n",
       "gjUAAAAAAAAAEYI1AAAAAAAAABFTegC8TeeLp3N6A31MC3/T87ZNy1V6Qtl0epKeUDat+173cXaW\n",
       "XlAyP+y5e4wxjve26Qllt+/13X73aJmeUHL1QePv0sanxuuP0gvqdo+O6Qkl87rvDbO87Ps5nXaN\n",
       "X2ks+t4zZ7/ved3Xb9IL6k5eHNITyrYv9ukJZdOh5+d084dX6Ql1t3fpBXXXN+kFZfPlVXpCzdTz\n",
       "+2iMMebb2/SEsvnQ9ztpPvb8rTHmnt9HY4xxMT/r+0Ft7Hx60vKm6fvLFAAAAAAAAIDWBGsAAAAA\n",
       "AAAAIgRrAAAAAAAAACIEawAAAAAAAAAiBGsAAAAAAAAAIgRrAAAAAAAAACIEawAAAAAAAAAiBGsA\n",
       "AAAAAAAAIgRrAAAAAAAAACIEawAAAAAAAAAiBGsAAAAAAAAAIgRrAAAAAAAAACIEawAAAAAAAAAi\n",
       "BGsAAAAAAAAAIgRrAAAAAAAAACIEawAAAAAAAAAiBGsAAAAAAAAAIgRrAAAAAAAAACIEawAAAAAA\n",
       "AAAiBGsAAAAAAAAAIgRrAAAAAAAAACIEawAAAAAAAAAiBGsAAAAAAAAAIgRrAAAAAAAAACIEawAA\n",
       "AAAAAAAiBGsAAAAAAAAAIgRrAAAAAAAAACIEawAAAAAAAAAiBGsAAAAAAAAAIgRrAAAAAAAAACIE\n",
       "awAAAAAAAAAiBGsAAAAAAAAAIgRrAAAAAAAAACJW6QHwVs1zekHJxfxsSm+oOl887XnRx2h7v4wx\n",
       "xlj0/HukeT6mJ9Td3KQX1B3W6QVl03KZnlAy3fS95uN0k15Qtn61S08oO2x7Ptfvf35ITyg7nPS8\n",
       "5mOMMaa2R8exvux53Rt/lY5l4yPMsfF1P/m67+d0sU8vqDn7sunwMcb+tOezcYwxpl3f33iry6Zn\n",
       "x33f89e4vUsvqNv3fcbMx56f03nX9DM6xhhNr/kYfe8XeJd07Ul9T7wAAAAAAAAAtCZYAwAAAAAA\n",
       "ABAhWAMAAAAAAAAQIVgDAAAAAAAAECFYAwAAAAAAABAhWAMAAAAAAAAQIVgDAAAAAAAAECFYAwAA\n",
       "AAAAABAhWAMAAAAAAAAQIVgDAAAAAAAAECFYAwAAAAAAABAhWAMAAAAAAAAQIVgDAAAAAAAAECFY\n",
       "AwAAAAAAABAhWAMAAAAAAAAQIVgDAAAAAAAAECFYAwAAAAAAABAhWAMAAAAAAAAQIVgDAAAAAAAA\n",
       "ECFYAwAAAAAAABAhWAMAAAAAAAAQIVgDAAAAAAAAECFYAwAAAAAAABAhWAMAAAAAAAAQIVgDAAAA\n",
       "AAAAECFYAwAAAAAAABAhWAMAAAAAAAAQIVgDAAAAAAAAECFYAwAAAAAAABAhWAMAAAAAAAAQIVgD\n",
       "AAAAAAAAECFYAwAAAAAAABAxpQcAf9n54umc3lB1cfyk7XPm58tftL3uY7FML6hpe7eMMa3W6Qll\n",
       "07Lx36+te173adNz9xhjjO8+TC8oO55s0hPKjmc975nDySo9oezmcc9rPsYY+5O+X6i3j3pun47p\n",
       "BXXry75H3t39nvfLGGPc//yQnlA2Nz06ri/7flA3L27TE8qm2316Qtni5WV6Qs31TXpB3W6XXlA2\n",
       "3/XdPo49n4/H277Pxq7XfIwxxtT3/DV3ve5z3/N65/ulc9foqunPDAAAAAAAAAC6E6wBAAAAAAAA\n",
       "iBCsAQAAAAAAAIgQrAEAAAAAAACIEKwBAAAAAAAAiBCsAQAAAAAAAIgQrAGA/2/fDnIjyc4zir5I\n",
       "kqVyud3QonIJrEUa5A6ci/HIEwM2bEndKhYZoYEsCPDE6Gg3b/2oc1bwIfDyMZiXBAAAAACAhGAN\n",
       "AAAAAAAAQEKwBgAAAAAAACAhWAMAAAAAAACQEKwBAAAAAAAASAjWAAAAAAAAACQEawAAAAAAAAAS\n",
       "gjUAAAAAAAAACcEaAAAAAAAAgIRgDQAAAAAAAEBCsAYAAAAAAAAgIVgDAAAAAAAAkBCsAQAAAAAA\n",
       "AEgI1gAAAAAAAAAkBGsAAAAAAAAAEoI1AAAAAAAAAAnBGgAAAAAAAICEYA0AAAAAAABAQrAGAAAA\n",
       "AAAAICFYAwAAAAAAAJAQrAEAAAAAAABICNYAAAAAAAAAJARrAAAAAAAAABKCNQAAAAAAAAAJwRoA\n",
       "AAAAAACAhGANAAAAAAAAQOK+HgDv6bo9HvWGM27701ZvOGvqM19rrWPf6wmnjT0wl8F/R3XMPS/H\n",
       "y1s94bS5Z33s8rV++nO94LTL69yzfvn5pZ5wyuWHj/WE07Z97CvM+vrD3F/zfvzXr/WEU15+/1BP\n",
       "OG2bezWu/T/qBed9+ref6gmnvX2aed7v/2vuO8z2ZebduNZa62Xw9j9/qRecM/j36n3qM19rrbfB\n",
       "3wl8nfm7xrrc1Qt+hcHnZfL3pUPvx395/eexXyJd19w2wPub+QkFAAAAAAAAYDzBGgAAAAAAAICE\n",
       "YA0AAAAAAABAQrAGAAAAAAAAICFYAwAAAAAAAJAQrAEAAAAAAABICNYAAAAAAAAAJARrAAAAAAAA\n",
       "ABKCNQAAAAAAAAAJwRoAAAAAAACAhGANAAAAAAAAQEKwBgAAAAAAACAhWAMAAAAAAACQEKwBAAAA\n",
       "AAAASAjWAAAAAAAAACQEawAAAAAAAAASgjUAAAAAAAAACcEaAAAAAAAAgIRgDQAAAAAAAEBCsAYA\n",
       "AAAAAAAgIVgDAAAAAAAAkBCsAQAAAAAAAEgI1gAAAAAAAAAkBGsAAAAAAAAAEoI1AAAAAAAAAAnB\n",
       "GgAAAAAAAICEYA0AAAAAAABAQrAGAAAAAAAAICFYAwAAAAAAAJAQrAEAAAAAAABICNYAAAAAAAAA\n",
       "JARrAAAAAAAAABKCNQAAAAAAAACJrR4A/N+u2+NRbzhtm3vNbIO3E7jc1QvOG3zWt4f7esIpk++X\n",
       "7ePHesJ5//gP9YLvz8ff1QtOOz5+qCecdtwN/rvkY+hr72XuvT76PeDltZ5w3tteLzht22duP+7n\n",
       "vq9v//6f9YTzhp6XtdZaDw/1glOOn36uJ5x2fPlSTzjteH2rJ5w39P3reJv7HjD5O4Fj6HmZ7LY/\n",
       "zT0w8AsM/iYDAAAAAAAAgMkEawAAAAAAAAASgjUAAAAAAAAACcEaAAAAAAAAgIRgDQAAAAAAAEBC\n",
       "sAYAAAAAAAAgIVgDAAAAAAAAkBCsAQAAAAAAAEgI1gAAAAAAAAAkBGsAAAAAAAAAEoI1AAAAAAAA\n",
       "AAnBGgAAAAAAAICEYA0AAAAAAABAQrAGAAAAAAAAICFYAwAAAAAAAJAQrAEAAAAAAABICNYAAAAA\n",
       "AAAAJARrAAAAAAAAABKCNQAAAAAAAAAJwRoAAAAAAACAhGANAAAAAAAAQEKwBgAAAAAAACAhWAMA\n",
       "AAAAAACQEKwBAAAAAAAASAjWAAAAAAAAACQEawAAAAAAAAASgjUAAAAAAAAACcEaAAAAAAAAgIRg\n",
       "DQAAAAAAAEBCsAYAAAAAAAAgIVgDAAAAAAAAkBCsAQAAAAAAAEhs9QCAb9X18vmoNzDHts39kbo9\n",
       "PNQTzpv63O/u6gWnjT7rHz7UE0471swfSduP/1RPOO/ra73gvPv7esF5l6F3zD7zM7rWWsePn+oJ\n",
       "p20/f6knnDd5+8PQO+Ztrxec9+WlXnDe0Gt9rbX2P/6pnnDK8fK1nnDadjf3f6uOl8mf05kf1GMf\n",
       "fK8PdtufZh4Y4Js39y0AAAAAAAAAgNEEawAAAAAAAAASgjUAAAAAAAAACcEaAAAAAAAAgIRgDQAA\n",
       "AAAAAEBCsAYAAAAAAAAgIVgDAAAAAAAAkBCsAQAAAAAAAEgI1gAAAAAAAAAkBGsAAAAAAAAAEoI1\n",
       "AAAAAAAAAAnBGgAAAAAAAICEYA0AAAAAAABAQrAGAAAAAAAAICFYAwAAAAAAAJAQrAEAAAAAAABI\n",
       "CNYAAAAAAAAAJARrAAAAAAAAABKCNQAAAAAAAAAJwRoAAAAAAACAhGANAAAAAAAAQEKwBgAAAAAA\n",
       "ACAhWAMAAAAAAACQEKwBAAAAAAAASAjWAAAAAAAAACQEawAAAAAAAAASgjUAAAAAAAAACcEaAAAA\n",
       "AAAAgIRgDQAAAAAAAEBCsAYAAAAAAAAgIVgDAAAAAAAAkBCsAQAAAAAAAEgI1gAAAAAAAAAk7usB\n",
       "zHO9fD7qDWfd9qet3sAgx9ijvm7H88izPvl+OQafl+PlpZ5w2nb/UE84ZdsHn5e7u3rCeYPP+nqY\n",
       "edbXH/5YLzjteH2tJ5y2/fBDPeG8wT9Pp9r++0/1hPO+DL7Xt5Gv6381+G6favLvGqM/p29v9YJz\n",
       "9qG71/CzPvlen/rcp+5ea/Z5AfiN+A9rAAAAAAAAABKCNQAAAAAAAAAJwRoAAAAAAACAhGANAAAA\n",
       "AAAAQEKwBgAAAAAAACAhWAMAAAAAAACQEKwBAAAAAAAASAjWAAAAAAAAACQEawAAAAAAAAASgjUA\n",
       "AAAAAAAACcEaAAAAAAAAgIRgDQAAAAAAAEBCsAYAAAAAAAAgIVgDAAAAAAAAkBCsAQAAAAAAAEgI\n",
       "1gAAAAAAAAAkBGsAAAAAAAAAEoI1AAAAAAAAAAnBGgAAAAAAAICEYA0AAAAAAABAQrAGAAAAAAAA\n",
       "ICFYAwAAAAAAAJAQrAEAAAAAAABICNYAAAAAAAAAJARrAAAAAAAAABKCNQAAAAAAAAAJwRoAAAAA\n",
       "AACAhGANAAAAAAAAQEKwBgAAAAAAACAhWAMAAAAAAACQEKwBAAAAAAAASAjWAAAAAAAAACS2egC8\n",
       "p+v2eNQbzrgdzz6rfBeul88jP6N0tsvMv7079r2ecNq2zf2RtP3uYz3hvP2tXnDK9uFDPeG04/W1\n",
       "nnDa5dOnesJpU+/HyXfj1Ge+1lrrGLx9n/vaO/V+3O7v6wmnHV9nPvO11lqD75jj9Ws94Rw/kxrH\n",
       "3Ht97JkZ/Mwnf9c79ft1GpPPOu9v5re8AAAAAAAAAIwnWAMAAAAAAACQEKwBAAAAAAAASAjWAAAA\n",
       "AAAAACQEawAAAAAAAAASgjUAAAAAAAAACcEaAAAAAAAAgIRgDQAAAAAAAEBCsAYAAAAAAAAgIVgD\n",
       "AAAAAAAAkBCsAQAAAAAAAEgI1gAAKxWtEQAADSJJREFUAAAAAAAkBGsAAAAAAAAAEoI1AAAAAAAA\n",
       "AAnBGgAAAAAAAICEYA0AAAAAAABAQrAGAAAAAAAAICFYAwAAAAAAAJAQrAEAAAAAAABICNYAAAAA\n",
       "AAAAJARrAAAAAAAAABKCNQAAAAAAAAAJwRoAAAAAAACAhGANAAAAAAAAQEKwBgAAAAAAACAhWAMA\n",
       "AAAAAACQEKwBAAAAAAAASAjWAAAAAAAAACQEawAAAAAAAAASgjUAAAAAAAAACcEaAAAAAAAAgIRg\n",
       "DQAAAAAAAEBCsAYAAAAAAAAgsdUDAOBvrtvjUW/4Hm2XuX+/dux7PeGUyc98Xe7qBb/C3CtmG/rc\n",
       "p35G11pruxv8OT3mnvWxv6Lez/yMrrXWenurFzDNNvN+PF5f6wmnbZehd+Na6xh8x0x9j9m2wedl\n",
       "9DvMYFOf++Czftuf5o6H78Tk76lvx/PIO2bmbxkAAAAAAAAAjCdYAwAAAAAAAJAQrAEAAAAAAABI\n",
       "CNYAAAAAAAAAJARrAAAAAAAAABKCNQAAAAAAAAAJwRoAAAAAAACAhGANAAAAAAAAQEKwBgAAAAAA\n",
       "ACAhWAMAAAAAAACQEKwBAAAAAAAASAjWAAAAAAAAACQEawAAAAAAAAASgjUAAAAAAAAACcEaAAAA\n",
       "AAAAgIRgDQAAAAAAAEBCsAYAAAAAAAAgIVgDAAAAAAAAkBCsAQAAAAAAAEgI1gAAAAAAAAAkBGsA\n",
       "AAAAAAAAEoI1AAAAAAAAAAnBGgAAAAAAAICEYA0AAAAAAABAQrAGAAAAAAAAICFYAwAAAAAAAJAQ\n",
       "rAEAAAAAAABICNYAAAAAAAAAJARrAAAAAAAAABKCNQAAAAAAAAAJwRoAAAAAAACAhGANAAAAAAAA\n",
       "QGKrBwB8q67b41FvOOt2PLvf4Rt2vXwee79s29zr5TjGPva1XYb+nengZ74ud/WC046313rCadvd\n",
       "fT3hnLlX4+x7fR98x6y524+3t3rCKdv90PtlrbWGPvO11lqD75ip7zHHvtcTznNeEr5DAuBbMPSb\n",
       "LwAAAAAAAACmE6wBAAAAAAAASAjWAAAAAAAAACQEawAAAAAAAAASgjUAAAAAAAAACcEaAAAAAAAA\n",
       "gIRgDQAAAAAAAEBCsAYAAAAAAAAgIVgDAAAAAAAAkBCsAQAAAAAAAEgI1gAAAAAAAAAkBGsAAAAA\n",
       "AAAAEoI1AAAAAAAAAAnBGgAAAAAAAICEYA0AAAAAAABAQrAGAAAAAAAAICFYAwAAAAAAAJAQrAEA\n",
       "AAAAAABICNYAAAAAAAAAJARrAAAAAAAAABKCNQAAAAAAAAAJwRoAAAAAAACAhGANAAAAAAAAQEKw\n",
       "BgAAAAAAACAhWAMAAAAAAACQEKwBAAAAAAAASAjWAAAAAAAAACQEawAAAAAAAAASgjUAAAAAAAAA\n",
       "CcEaAAAAAAAAgIRgDQAAAAAAAEBCsAYAAAAAAAAgIVgDAAAAAAAAkNjqAQD8/7tePh/1hjNu+9PY\n",
       "n0vX7XHkM6ex3d3VE0479r2e8F3atrHXI/wyl7n341TH22s94bs0+V4/jpmvvZOf+Rq8ffS749Cz\n",
       "PtnteJ572AGAX8V/WAMAAAAAAACQEKwBAAAAAAAASAjWAAAAAAAAACQEawAAAAAAAAASgjUAAAAA\n",
       "AAAACcEaAAAAAAAAgIRgDQAAAAAAAEBCsAYAAAAAAAAgIVgDAAAAAAAAkBCsAQAAAAAAAEgI1gAA\n",
       "AAAAAAAkBGsAAAAAAAAAEoI1AAAAAAAAAAnBGgAAAAAAAICEYA0AAAAAAABAQrAGAAAAAAAAICFY\n",
       "AwAAAAAAAJAQrAEAAAAAAABICNYAAAAAAAAAJARrAAAAAAAAABKCNQAAAAAAAAAJwRoAAAAAAACA\n",
       "hGANAAAAAAAAQEKwBgAAAAAAACAhWAMAAAAAAACQEKwBAAAAAAAASAjWAAAAAAAAACQEawAAAAAA\n",
       "AAASgjUAAAAAAAAACcEaAAAAAAAAgIRgDQAAAAAAAEBCsAYAAAAAAAAgsdUDAIDWdXs86g3wLjav\n",
       "vu9tu8z9+9hj3+sJ5x2u9fc2+qxPPi+Ttw92O55H/kAd/c47+R3G55RfYvBZv+1Pc8cDwDdg7m/V\n",
       "AAAAAAAAAIwmWAMAAAAAAACQEKwBAAAAAAAASAjWAAAAAAAAACQEawAAAAAAAAASgjUAAAAAAAAA\n",
       "CcEaAAAAAAAAgIRgDQAAAAAAAEBCsAYAAAAAAAAgIVgDAAAAAAAAkBCsAQAAAAAAAEgI1gAAAAAA\n",
       "AAAkBGsAAAAAAAAAEoI1AAAAAAAAAAnBGgAAAAAAAICEYA0AAAAAAABAQrAGAAAAAAAAICFYAwAA\n",
       "AAAAAJAQrAEAAAAAAABICNYAAAAAAAAAJARrAAAAAAAAABKCNQAAAAAAAAAJwRoAAAAAAACAhGAN\n",
       "AAAAAAAAQEKwBgAAAAAAACAhWAMAAAAAAACQEKwBAAAAAAAASAjWAAAAAAAAACQEawAAAAAAAAAS\n",
       "gjUAAAAAAAAACcEaAAAAAAAAgIRgDQAAAAAAAEBCsAYAAAAAAAAgcV8PAABat+N5qzfAuzjqAedd\n",
       "L59Hrj/2vZ5w3jHyka+1Zt/r1+1x5IM/Bp+X0baxR302x/3d3fansYd96r0+2eT3APcLAHy//Ic1\n",
       "AAAAAAAAAAnBGgAAAAAAAICEYA0AAAAAAABAQrAGAAAAAAAAICFYAwAAAAAAAJAQrAEAAAAAAABI\n",
       "CNYAAAAAAAAAJARrAAAAAAAAABKCNQAAAAAAAAAJwRoAAAAAAACAhGANAAAAAAAAQEKwBgAAAAAA\n",
       "ACAhWAMAAAAAAACQEKwBAAAAAAAASAjWAAAAAAAAACQEawAAAAAAAAASgjUAAAAAAAAACcEaAAAA\n",
       "AAAAgIRgDQAAAAAAAEBCsAYAAAAAAAAgIVgDAAAAAAAAkBCsAQAAAAAAAEgI1gAAAAAAAAAkBGsA\n",
       "AAAAAAAAEoI1AAAAAAAAAAnBGgAAAAAAAICEYA0AAAAAAABAQrAGAAAAAAAAICFYAwAAAAAAAJAQ\n",
       "rAEAAAAAAABICNYAAAAAAAAAJARrAAAAAAAAABJbPQAAgDmul89HveG0Y+702/HsvR3gf5n8M+m2\n",
       "P7nXAQAA/of/sAYAAAAAAAAgIVgDAAAAAAAAkBCsAQAAAAAAAEgI1gAAAAAAAAAkBGsAAAAAAAAA\n",
       "EoI1AAAAAAAAAAnBGgAAAAAAAICEYA0AAAAAAABAQrAGAAAAAAAAICFYAwAAAAAAAJAQrAEAAAAA\n",
       "AABICNYAAAAAAAAAJARrAAAAAAAAABKCNQAAAAAAAAAJwRoAAAAAAACAhGANAAAAAAAAQEKwBgAA\n",
       "AAAAACAhWAMAAAAAAACQEKwBAAAAAAAASAjWAAAAAAAAACQEawAAAAAAAAASgjUAAAAAAAAACcEa\n",
       "AAAAAAAAgIRgDQAAAAAAAEBCsAYAAAAAAAAgIVgDAAAAAAAAkBCsAQAAAAAAAEgI1gAAAAAAAAAk\n",
       "BGsAAAAAAAAAEoI1AAAAAAAAAAnBGgAAAAAAAICEYA0AAAAAAABAQrAGAAAAAAAAIHFfDwAAYI7b\n",
       "/rTVG75H1+3xqDeccTuex56Xqc98rdnPHX6RY+zHFOA34x0GAJjIf1gDAAAAAAAAkBCsAQAAAAAA\n",
       "AEgI1gAAAAAAAAAkBGsAAAAAAAAAEoI1AAAAAAAAAAnBGgAAAAAAAICEYA0AAAAAAABAQrAGAAAA\n",
       "AAAAICFYAwAAAAAAAJAQrAEAAAAAAABICNYAAAAAAAAAJARrAAAAAAAAABKCNQAAAAAAAAAJwRoA\n",
       "AAAAAACAhGANAAAAAAAAQEKwBgAAAAAAACAhWAMAAAAAAACQEKwBAAAAAAAASAjWAAAAAAAAACQE\n",
       "awAAAAAAAAASgjUAAAAAAAAACcEaAAAAAAAAgIRgDQAAAAAAAEBCsAYAAAAAAAAgIVgDAAAAAAAA\n",
       "kBCsAQAAAAAAAEgI1gAAAAAAAAAkBGsAAAAAAAAAEoI1AAAAAAAAAAnBGgAAAAAAAICEYA0AAAAA\n",
       "AABAQrAGAAAAAAAAILHVAwAAvjfX7fGoN5x1O569PwK/man34+S7ceozX2v2cwcAAODv/Ic1AAAA\n",
       "AAAAAAnBGgAAAAAAAICEYA0AAAAAAABAQrAGAAAAAAAAICFYAwAAAAAAAJAQrAEAAAAAAABICNYA\n",
       "AAAAAAAAJARrAAAAAAAAABKCNQAAAAAAAAAJwRoAAAAAAACAhGANAAAAAAAAQEKwBgAAAAAAACAh\n",
       "WAMAAAAAAACQEKwBAAAAAAAASAjWAAAAAAAAACQEawAAAAAAAAASgjUAAAAAAAAACcEaAAAAAAAA\n",
       "gIRgDQAAAAAAAEBCsAYAAAAAAAAgIVgDAAAAAAAAkBCsAQAAAAAAAEgI1gAAAAAAAAAkBGsAAAAA\n",
       "AAAAEoI1AAAAAAAAAAnBGgAAAAAAAICEYA0AAAAAAABAQrAGAAAAAAAAICFYAwAAAAAAAJAQrAEA\n",
       "AAAAAABICNYAAAAAAAAAJARrAAAAAAAAABJ/AWD/7ZRKkjWTAAAAAElFTkSuQmCC\n",
       "\" transform=\"translate(149, 47)\"/>\n",
       "</g>\n",
       "<defs>\n",
       "  <clipPath id=\"clip953\">\n",
       "    <rect x=\"2160\" y=\"47\" width=\"73\" height=\"1440\"/>\n",
       "  </clipPath>\n",
       "</defs>\n",
       "<g clip-path=\"url(#clip953)\">\n",
       "<image width=\"72\" height=\"1439\" xlink:href=\"data:image/png;base64,\n",
       "iVBORw0KGgoAAAANSUhEUgAAAEgAAAWfCAYAAAAI7rB3AAAMJ0lEQVR4nO3dwa3cSBAFQVIoU9Z/\n",
       "t2QFm7JgK4+cQ4QFQuJhiG7OfN3P3//ei//15+t/wK8TKAgUBAoChXne8/W/4adZUBAoCBQECgKF\n",
       "OZej2MaCgkBBoCBQmHM5amwsKAgUBAoCBYHCPK+jxsaCgkBBoCBQECg4iwULCgIFgYJAYR5vNVYW\n",
       "FAQKAgWBgkBhjguzlQUFgYJAQaDgqBEsKAgUBAoCBYHCeKexs6AgUBAoCBQECr5hFiwoCBQECgKF\n",
       "eb7+F/w4CwoCBYGCQEGg4MIsWFAQKAgUBAoChXncl60sKAgUBAoCBUeNYEFBoCBQECgIFOa57q//\n",
       "DT/NgoJAQaAgUJjn9SG9saAgUBAoCBQECnMcNVYWFAQKAgWBgkDBhVmwoCBQECgIFOa4MFtZUBAo\n",
       "CBQECgIFR41gQUGgIFAQKAgUPMWCBQWBgkBBoDDn1WijThAoCBQECgIFR41gQUGgIFAQKMyj0Uqd\n",
       "IFAQKAgUBAouzII6QaAgUBAoCBRcmAULCgIFgYJAYR5HjZU6QaAgUBAoCBTmaLRSJwgUBAoCBYGC\n",
       "C7NgQUGgIFAQKLgwC+oEgYJAQaAgUHBhFtQJAgWBgkDBUSOoEwQKAgWBgkDBW41gQUGgIFAQKAgU\n",
       "/CQzqBMECgIFgYK//hLUCQIFgYJAQaAwj/9fbGVBQaAgUBAo+AJVUCcIFAQKAgWBgm+YBXWCQEGg\n",
       "IFAQKHjtE9QJAgWBgkBhjrcaKwsKAgWBgkBBoOCoEdQJAgWBgkBBoODHLEGdIFAQKAgU/G4+WFAQ\n",
       "KAgUBAoCBUeNoE4QKAgUBAqOGsGCgkBBoCBQECg4agR1gkBBoCBQECj4SWZQJwgUBAoChTkuzFYW\n",
       "FAQKAgWBgkDBUSOoEwQKAgWBgkDBWSxYUBAoCBQECo4aQZ0gUBAoCBQECv6GWbCgIFAQKAgU/Imu\n",
       "oE4QKAgUBAoCBUeNYEFBoCBQECgIFDzFggUFgYJAQaDgwiyoEwQKAgWBgkDBUSNYUBAoCBQECgIF\n",
       "f8MsqBMECgIFgYJfHAYLCgIFgYJAQaAwjwuzlQUFgYJAQaDgPiioEwQKAgWBgkDBu/lgQUGgIFAQ\n",
       "KAgUvPYJFhQECgIFgYK3GsGCgkBBoCBQECh47RPUCQIFgYJAwVuNYEFBoCBQECgIFLzVCBYUBAoC\n",
       "BYGCQMFZLFhQECgIFAQKPqSDBQWBgkBBoCBQ8BQLFhQECgIFgYJAwTfMgjpBoCBQECh4Nx8sKAgU\n",
       "BAoCBYGCC7NgQUGgIFAQKPiQDhYUBAoCBYGCQMFTLFhQECgIFAQKAoV5PcVWFhQECgIFgYJ388GC\n",
       "gkBBoCBQECi4MAsWFAQKAgWBgkDBUyxYUBAoCBQECt5qBAsKAgWBgkBBoOCoESwoCBQECgIFH9LB\n",
       "goJAQaAgUBAozPv1v+DHWVAQKAgUBAoCBWexYEFBoCBQECh4Nx8sKAgUBAoCBYGCo0awoCBQECgI\n",
       "FAQKzmLBgoJAQaAgUJjj5fzKgoJAQaAgUBAoOGoECwoCBYGCQMGHdLCgIFAQKAgUBArezQcLCgIF\n",
       "gYJAQaDgJ5nBgoJAQaAgUHBhFiwoCBQECgIFgYKnWLCgIFAQKAgUBArzujFbWVAQKAgUBAqOGsGC\n",
       "gkBBoCBQECh4igULCgIFgYJAwX1QsKAgUBAoCBQECo4awYKCQEGgIFAQKDiLBQsKAgWBgkBhLkeN\n",
       "lQUFgYJAQaAgUHBhFiwoCBQECgIFf9wkWFAQKAgUBAoCBRdmwYKCQEGgIFAQKHg3HywoCBQECgKF\n",
       "uXxIrywoCBQECgIFgYJ388GCgkBBoCBQECg4iwULCgIFgYJAwbv5YEFBoCBQECgIFLybDxYUBAoC\n",
       "BYGCo0awoCBQECgIFAQK3moECwoCBYGCQEGg4CkWLCgIFAQKAgUXZsGCgkBBoCBQECg4agQLCgIF\n",
       "gYJAQaDgKRYsKAgUBAoCBRdmwYKCQEGgIFAQKAgUBAoCBYGCQMF9ULCgIFAQKAgUBAqeYsGCgkBB\n",
       "oCBQECjM7bXPyoKCQEGgIFBw1AgWFAQKAgWBgkDBUyxYUBAoCBQECgIFT7FgQUGgIFAQKPgxS7Cg\n",
       "IFAQKAgUBApzO2qsLCgIFAQKAgX3QcGCgkBBoCBQECh4igULCgIFgYJAQaDgwixYUBAoCBQECo4a\n",
       "wYKCQEGgIFAQKPiGWbCgIFAQKAgU3AcFCwoCBYGCQEGg4MIsWFAQKAgUBAoCBU+xYEFBoCBQECiM\n",
       "dxo7CwoCBYGCQEGg4KgRLCgIFAQKAgWBgqdYsKAgUBAoCBR8wyxYUBAoCBQECgIFR41gQUGgIFAQ\n",
       "KPiQDhYUBAoCBYGCQMGFWbCgIFAQKAgUBAr++kuwoCBQECgIFBw1ggUFgYJAQaAgUPDaJ1hQECgI\n",
       "FAQKAgVPsWBBQaAgUBAouDALFhQECgIFgYJAwVEjWFAQKAgUBAo+pIMFBYGCQEGgIFBwYRYsKAgU\n",
       "BAoCBYGCs1iwoCBQECgIFAQKAgWBgkBBoCBQcGEWLCgIFAQKAgWBgguzYEFBoCBQECg4agQLCgIF\n",
       "gYJAQaDgqBEsKAgUBAoCBR/SwYKCQEGgIFAQKLgwCxYUBAoCBYGCQMFZLFhQECgIFAQKjhrBgoJA\n",
       "QaAgUBAoOGoECwoCBYGCQMGHdLCgIFAQKAgUBAouzIIFBYGCQEGgIFBwFgsWFAQKAgWBgqNGsKAg\n",
       "UBAoCBQECo4awYKCQEGgIFAQKHiKBQsKAgWBgkBh7ten9MaCgkBBoCBQECg4agQLCgIFgYJAwbv5\n",
       "YEFBoCBQECgIFBw1ggUFgYJAQaAgUHAWCxYUBAoCBYGCo0awoCBQECgIFAQKnmLBgoJAQaAgUBAo\n",
       "uDALFhQECgIFgYKjRrCgIFAQKAgUBAqOGsGCgkBBoCBQcNQIFhQECgIFgYJAwVEjWFAQKAgUBAoC\n",
       "BWexYEFBoCBQECj4Q5PBgoJAQaAgUBAoOGoECwoCBYGCQEGg4LVPsKAgUBAoCBQcNYIFBYGCQEGg\n",
       "IFBw1AgWFAQKAgWBgqNGsKAgUBAoCBQECo4awYKCQEGgIFAQKMzle9IrCwoCBYGCQMFRI1hQECgI\n",
       "FAQKAgWvfYIFBYGCQEGgIFBwFgsWFAQKAgWBgqNGsKAgUBAoCBQECv6GWbCgIFAQKAgUHDWCBQWB\n",
       "gkBBoCBQmPt8/U/4bRYUBAoCBYGCQMFZLFhQECgIFAQK3moECwoCBYGCQEGg4KgRLCgIFAQKAgUf\n",
       "0sGCgkBBoCBQECj4xWGwoCBQECgIFAQK/tBksKAgUBAoCBQcNYIFBYGCQEGgIFCY63iMbSwoCBQE\n",
       "CgIFgYKzWLCgIFAQKAgUfMMsWFAQKAgUBAoCBT/JDBYUBAoCBYGCo0awoCBQECgIFAQKjhrBgoJA\n",
       "QaAgUBAozOXPJa8sKAgUBAoCBb84DBYUBAoCBYGCQMHXgIMFBYGCQEGgIFBwFgsWFAQKAgWBgm+Y\n",
       "BQsKAgWBgkBBoOAbZsGCgkBBoCBQ8Ce6ggUFgYJAQaAgUPBuPlhQECgIFAQKAgXv5oMFBYGCQEGg\n",
       "4EM6WFAQKAgUBAoCBb+bDxYUBAoCBYGCQME3zIIFBYGCQEGg4MIsWFAQKAgUBAoCBU+xYEFBoCBQ\n",
       "ECh4qxEsKAgUBAoCBYGCtxrBgoJAQaAgUBAouDALFhQECgIFgYIP6WBBQaAgUBAoCBT8DbNgQUGg\n",
       "IFAQKDhqBAsKAgWBgkBBoOApFiwoCBQECgIFgYKnWLCgIFAQKAgU5vZWY2VBQaAgUBAoCBQcNYIF\n",
       "BYGCQEGgIFDwFAsWFAQKAgWBgg/pYEFBoCBQECgIFPyYJVhQECgIFAQKjhrBgoJAQaAgUBAoeIoF\n",
       "CwoCBYGCQEGgMNfxV/83FhQECgIFgYKjRrCgIFAQKAgUBArzeoqtLCgIFAQKAgWBgm+YBQsKAgWB\n",
       "gkBhrtdbjY0FBYGCQEGgIFDw2idYUBAoCBQECu6DggUFgYJAQaAgUHBhFiwoCBQECgIFgYKzWLCg\n",
       "IFAQKAgUfA04WFAQKAgUBAoCBb+bDxYUBAoCBYGCQME3zIIFBYGCQEGg4KgRLCgIFAQKAgWBgtc+\n",
       "wYKCQEGgIFDwBapgQUGgIFAQKAgU/JglWFAQKAgUBAoChXmdxVYWFAQKAgWBgqNGsKAgUBAoCBQE\n",
       "Cr4GHCwoCBQECgKFf4jrjN/mS6F7AAAAAElFTkSuQmCC\n",
       "\" transform=\"translate(2161, 47)\"/>\n",
       "</g>\n",
       "<path clip-path=\"url(#clip950)\" d=\"M2269.43 1282.55 L2277.07 1282.55 L2277.07 1256.18 L2268.76 1257.85 L2268.76 1253.59 L2277.02 1251.92 L2281.7 1251.92 L2281.7 1282.55 L2289.33 1282.55 L2289.33 1286.48 L2269.43 1286.48 L2269.43 1282.55 Z\" fill=\"#f8f8f2\" fill-rule=\"nonzero\" fill-opacity=\"1\" /><path clip-path=\"url(#clip950)\" d=\"M2308.78 1255 Q2305.17 1255 2303.34 1258.57 Q2301.53 1262.11 2301.53 1269.24 Q2301.53 1276.35 2303.34 1279.91 Q2305.17 1283.45 2308.78 1283.45 Q2312.41 1283.45 2314.22 1279.91 Q2316.05 1276.35 2316.05 1269.24 Q2316.05 1262.11 2314.22 1258.57 Q2312.41 1255 2308.78 1255 M2308.78 1251.3 Q2314.59 1251.3 2317.64 1255.91 Q2320.72 1260.49 2320.72 1269.24 Q2320.72 1277.97 2317.64 1282.57 Q2314.59 1287.16 2308.78 1287.16 Q2302.97 1287.16 2299.89 1282.57 Q2296.83 1277.97 2296.83 1269.24 Q2296.83 1260.49 2299.89 1255.91 Q2302.97 1251.3 2308.78 1251.3 Z\" fill=\"#f8f8f2\" fill-rule=\"nonzero\" fill-opacity=\"1\" /><path clip-path=\"url(#clip950)\" d=\"M2338.94 1255 Q2335.33 1255 2333.5 1258.57 Q2331.7 1262.11 2331.7 1269.24 Q2331.7 1276.35 2333.5 1279.91 Q2335.33 1283.45 2338.94 1283.45 Q2342.57 1283.45 2344.38 1279.91 Q2346.21 1276.35 2346.21 1269.24 Q2346.21 1262.11 2344.38 1258.57 Q2342.57 1255 2338.94 1255 M2338.94 1251.3 Q2344.75 1251.3 2347.81 1255.91 Q2350.89 1260.49 2350.89 1269.24 Q2350.89 1277.97 2347.81 1282.57 Q2344.75 1287.16 2338.94 1287.16 Q2333.13 1287.16 2330.05 1282.57 Q2327 1277.97 2327 1269.24 Q2327 1260.49 2330.05 1255.91 Q2333.13 1251.3 2338.94 1251.3 Z\" fill=\"#f8f8f2\" fill-rule=\"nonzero\" fill-opacity=\"1\" /><polyline clip-path=\"url(#clip950)\" style=\"stroke:#000000; stroke-linecap:round; stroke-linejoin:round; stroke-width:4; stroke-opacity:1; fill:none\" points=\"2232.76,1272.83 2256.76,1272.83 \"/>\n",
       "<path clip-path=\"url(#clip950)\" d=\"M2274.38 1066.78 L2290.7 1066.78 L2290.7 1070.71 L2268.76 1070.71 L2268.76 1066.78 Q2271.42 1064.02 2276 1059.39 Q2280.61 1054.74 2281.79 1053.4 Q2284.03 1050.87 2284.91 1049.14 Q2285.82 1047.38 2285.82 1045.69 Q2285.82 1042.93 2283.87 1041.2 Q2281.95 1039.46 2278.85 1039.46 Q2276.65 1039.46 2274.2 1040.23 Q2271.77 1040.99 2268.99 1042.54 L2268.99 1037.82 Q2271.81 1036.68 2274.27 1036.11 Q2276.72 1035.53 2278.76 1035.53 Q2284.13 1035.53 2287.32 1038.21 Q2290.52 1040.9 2290.52 1045.39 Q2290.52 1047.52 2289.7 1049.44 Q2288.92 1051.34 2286.81 1053.93 Q2286.23 1054.6 2283.13 1057.82 Q2280.03 1061.01 2274.38 1066.78 Z\" fill=\"#f8f8f2\" fill-rule=\"nonzero\" fill-opacity=\"1\" /><path clip-path=\"url(#clip950)\" d=\"M2310.51 1039.23 Q2306.9 1039.23 2305.08 1042.79 Q2303.27 1046.34 2303.27 1053.47 Q2303.27 1060.57 2305.08 1064.14 Q2306.9 1067.68 2310.51 1067.68 Q2314.15 1067.68 2315.95 1064.14 Q2317.78 1060.57 2317.78 1053.47 Q2317.78 1046.34 2315.95 1042.79 Q2314.15 1039.23 2310.51 1039.23 M2310.51 1035.53 Q2316.33 1035.53 2319.38 1040.13 Q2322.46 1044.72 2322.46 1053.47 Q2322.46 1062.19 2319.38 1066.8 Q2316.33 1071.38 2310.51 1071.38 Q2304.7 1071.38 2301.63 1066.8 Q2298.57 1062.19 2298.57 1053.47 Q2298.57 1044.72 2301.63 1040.13 Q2304.7 1035.53 2310.51 1035.53 Z\" fill=\"#f8f8f2\" fill-rule=\"nonzero\" fill-opacity=\"1\" /><path clip-path=\"url(#clip950)\" d=\"M2340.68 1039.23 Q2337.07 1039.23 2335.24 1042.79 Q2333.43 1046.34 2333.43 1053.47 Q2333.43 1060.57 2335.24 1064.14 Q2337.07 1067.68 2340.68 1067.68 Q2344.31 1067.68 2346.12 1064.14 Q2347.95 1060.57 2347.95 1053.47 Q2347.95 1046.34 2346.12 1042.79 Q2344.31 1039.23 2340.68 1039.23 M2340.68 1035.53 Q2346.49 1035.53 2349.54 1040.13 Q2352.62 1044.72 2352.62 1053.47 Q2352.62 1062.19 2349.54 1066.8 Q2346.49 1071.38 2340.68 1071.38 Q2334.87 1071.38 2331.79 1066.8 Q2328.73 1062.19 2328.73 1053.47 Q2328.73 1044.72 2331.79 1040.13 Q2334.87 1035.53 2340.68 1035.53 Z\" fill=\"#f8f8f2\" fill-rule=\"nonzero\" fill-opacity=\"1\" /><polyline clip-path=\"url(#clip950)\" style=\"stroke:#000000; stroke-linecap:round; stroke-linejoin:round; stroke-width:4; stroke-opacity:1; fill:none\" points=\"2232.76,1057.06 2256.76,1057.06 \"/>\n",
       "<path clip-path=\"url(#clip950)\" d=\"M2284.38 836.305 Q2287.74 837.022 2289.61 839.291 Q2291.51 841.559 2291.51 844.893 Q2291.51 850.008 2287.99 852.809 Q2284.47 855.61 2277.99 855.61 Q2275.82 855.61 2273.5 855.17 Q2271.21 854.754 2268.76 853.897 L2268.76 849.383 Q2270.7 850.517 2273.02 851.096 Q2275.33 851.675 2277.85 851.675 Q2282.25 851.675 2284.54 849.939 Q2286.86 848.203 2286.86 844.893 Q2286.86 841.837 2284.7 840.124 Q2282.58 838.388 2278.76 838.388 L2274.73 838.388 L2274.73 834.545 L2278.94 834.545 Q2282.39 834.545 2284.22 833.18 Q2286.05 831.791 2286.05 829.198 Q2286.05 826.536 2284.15 825.124 Q2282.27 823.689 2278.76 823.689 Q2276.83 823.689 2274.64 824.106 Q2272.44 824.522 2269.8 825.402 L2269.8 821.235 Q2272.46 820.494 2274.77 820.124 Q2277.11 819.754 2279.17 819.754 Q2284.5 819.754 2287.6 822.184 Q2290.7 824.592 2290.7 828.712 Q2290.7 831.582 2289.06 833.573 Q2287.41 835.541 2284.38 836.305 Z\" fill=\"#f8f8f2\" fill-rule=\"nonzero\" fill-opacity=\"1\" /><path clip-path=\"url(#clip950)\" d=\"M2310.38 823.457 Q2306.76 823.457 2304.94 827.022 Q2303.13 830.564 2303.13 837.693 Q2303.13 844.8 2304.94 848.365 Q2306.76 851.906 2310.38 851.906 Q2314.01 851.906 2315.82 848.365 Q2317.64 844.8 2317.64 837.693 Q2317.64 830.564 2315.82 827.022 Q2314.01 823.457 2310.38 823.457 M2310.38 819.754 Q2316.19 819.754 2319.24 824.36 Q2322.32 828.944 2322.32 837.693 Q2322.32 846.42 2319.24 851.027 Q2316.19 855.61 2310.38 855.61 Q2304.57 855.61 2301.49 851.027 Q2298.43 846.42 2298.43 837.693 Q2298.43 828.944 2301.49 824.36 Q2304.57 819.754 2310.38 819.754 Z\" fill=\"#f8f8f2\" fill-rule=\"nonzero\" fill-opacity=\"1\" /><path clip-path=\"url(#clip950)\" d=\"M2340.54 823.457 Q2336.93 823.457 2335.1 827.022 Q2333.29 830.564 2333.29 837.693 Q2333.29 844.8 2335.1 848.365 Q2336.93 851.906 2340.54 851.906 Q2344.17 851.906 2345.98 848.365 Q2347.81 844.8 2347.81 837.693 Q2347.81 830.564 2345.98 827.022 Q2344.17 823.457 2340.54 823.457 M2340.54 819.754 Q2346.35 819.754 2349.4 824.36 Q2352.48 828.944 2352.48 837.693 Q2352.48 846.42 2349.4 851.027 Q2346.35 855.61 2340.54 855.61 Q2334.73 855.61 2331.65 851.027 Q2328.59 846.42 2328.59 837.693 Q2328.59 828.944 2331.65 824.36 Q2334.73 819.754 2340.54 819.754 Z\" fill=\"#f8f8f2\" fill-rule=\"nonzero\" fill-opacity=\"1\" /><polyline clip-path=\"url(#clip950)\" style=\"stroke:#000000; stroke-linecap:round; stroke-linejoin:round; stroke-width:4; stroke-opacity:1; fill:none\" points=\"2232.76,841.288 2256.76,841.288 \"/>\n",
       "<path clip-path=\"url(#clip950)\" d=\"M2284.36 608.68 L2272.55 627.129 L2284.36 627.129 L2284.36 608.68 M2283.13 604.606 L2289.01 604.606 L2289.01 627.129 L2293.94 627.129 L2293.94 631.018 L2289.01 631.018 L2289.01 639.166 L2284.36 639.166 L2284.36 631.018 L2268.76 631.018 L2268.76 626.504 L2283.13 604.606 Z\" fill=\"#f8f8f2\" fill-rule=\"nonzero\" fill-opacity=\"1\" /><path clip-path=\"url(#clip950)\" d=\"M2311.67 607.685 Q2308.06 607.685 2306.23 611.25 Q2304.43 614.791 2304.43 621.921 Q2304.43 629.027 2306.23 632.592 Q2308.06 636.134 2311.67 636.134 Q2315.31 636.134 2317.11 632.592 Q2318.94 629.027 2318.94 621.921 Q2318.94 614.791 2317.11 611.25 Q2315.31 607.685 2311.67 607.685 M2311.67 603.981 Q2317.48 603.981 2320.54 608.588 Q2323.62 613.171 2323.62 621.921 Q2323.62 630.648 2320.54 635.254 Q2317.48 639.837 2311.67 639.837 Q2305.86 639.837 2302.78 635.254 Q2299.73 630.648 2299.73 621.921 Q2299.73 613.171 2302.78 608.588 Q2305.86 603.981 2311.67 603.981 Z\" fill=\"#f8f8f2\" fill-rule=\"nonzero\" fill-opacity=\"1\" /><path clip-path=\"url(#clip950)\" d=\"M2341.83 607.685 Q2338.22 607.685 2336.39 611.25 Q2334.59 614.791 2334.59 621.921 Q2334.59 629.027 2336.39 632.592 Q2338.22 636.134 2341.83 636.134 Q2345.47 636.134 2347.27 632.592 Q2349.1 629.027 2349.1 621.921 Q2349.1 614.791 2347.27 611.25 Q2345.47 607.685 2341.83 607.685 M2341.83 603.981 Q2347.64 603.981 2350.7 608.588 Q2353.78 613.171 2353.78 621.921 Q2353.78 630.648 2350.7 635.254 Q2347.64 639.837 2341.83 639.837 Q2336.02 639.837 2332.95 635.254 Q2329.89 630.648 2329.89 621.921 Q2329.89 613.171 2332.95 608.588 Q2336.02 603.981 2341.83 603.981 Z\" fill=\"#f8f8f2\" fill-rule=\"nonzero\" fill-opacity=\"1\" /><polyline clip-path=\"url(#clip950)\" style=\"stroke:#000000; stroke-linecap:round; stroke-linejoin:round; stroke-width:4; stroke-opacity:1; fill:none\" points=\"2232.76,625.515 2256.76,625.515 \"/>\n",
       "<path clip-path=\"url(#clip950)\" d=\"M2270.21 388.833 L2288.57 388.833 L2288.57 392.769 L2274.5 392.769 L2274.5 401.241 Q2275.52 400.894 2276.53 400.731 Q2277.55 400.546 2278.57 400.546 Q2284.36 400.546 2287.74 403.718 Q2291.12 406.889 2291.12 412.305 Q2291.12 417.884 2287.64 420.986 Q2284.17 424.065 2277.85 424.065 Q2275.68 424.065 2273.41 423.694 Q2271.16 423.324 2268.76 422.583 L2268.76 417.884 Q2270.84 419.018 2273.06 419.574 Q2275.28 420.13 2277.76 420.13 Q2281.77 420.13 2284.1 418.023 Q2286.44 415.917 2286.44 412.305 Q2286.44 408.694 2284.1 406.588 Q2281.77 404.481 2277.76 404.481 Q2275.89 404.481 2274.01 404.898 Q2272.16 405.315 2270.21 406.194 L2270.21 388.833 Z\" fill=\"#f8f8f2\" fill-rule=\"nonzero\" fill-opacity=\"1\" /><path clip-path=\"url(#clip950)\" d=\"M2310.33 391.912 Q2306.72 391.912 2304.89 395.477 Q2303.08 399.019 2303.08 406.148 Q2303.08 413.255 2304.89 416.819 Q2306.72 420.361 2310.33 420.361 Q2313.96 420.361 2315.77 416.819 Q2317.6 413.255 2317.6 406.148 Q2317.6 399.019 2315.77 395.477 Q2313.96 391.912 2310.33 391.912 M2310.33 388.208 Q2316.14 388.208 2319.2 392.815 Q2322.27 397.398 2322.27 406.148 Q2322.27 414.875 2319.2 419.481 Q2316.14 424.065 2310.33 424.065 Q2304.52 424.065 2301.44 419.481 Q2298.39 414.875 2298.39 406.148 Q2298.39 397.398 2301.44 392.815 Q2304.52 388.208 2310.33 388.208 Z\" fill=\"#f8f8f2\" fill-rule=\"nonzero\" fill-opacity=\"1\" /><path clip-path=\"url(#clip950)\" d=\"M2340.49 391.912 Q2336.88 391.912 2335.05 395.477 Q2333.25 399.019 2333.25 406.148 Q2333.25 413.255 2335.05 416.819 Q2336.88 420.361 2340.49 420.361 Q2344.13 420.361 2345.93 416.819 Q2347.76 413.255 2347.76 406.148 Q2347.76 399.019 2345.93 395.477 Q2344.13 391.912 2340.49 391.912 M2340.49 388.208 Q2346.3 388.208 2349.36 392.815 Q2352.44 397.398 2352.44 406.148 Q2352.44 414.875 2349.36 419.481 Q2346.3 424.065 2340.49 424.065 Q2334.68 424.065 2331.6 419.481 Q2328.55 414.875 2328.55 406.148 Q2328.55 397.398 2331.6 392.815 Q2334.68 388.208 2340.49 388.208 Z\" fill=\"#f8f8f2\" fill-rule=\"nonzero\" fill-opacity=\"1\" /><polyline clip-path=\"url(#clip950)\" style=\"stroke:#000000; stroke-linecap:round; stroke-linejoin:round; stroke-width:4; stroke-opacity:1; fill:none\" points=\"2232.76,409.742 2256.76,409.742 \"/>\n",
       "<path clip-path=\"url(#clip950)\" d=\"M2281.09 188.477 Q2277.95 188.477 2276.09 190.63 Q2274.27 192.783 2274.27 196.533 Q2274.27 200.26 2276.09 202.436 Q2277.95 204.588 2281.09 204.588 Q2284.24 204.588 2286.07 202.436 Q2287.92 200.26 2287.92 196.533 Q2287.92 192.783 2286.07 190.63 Q2284.24 188.477 2281.09 188.477 M2290.38 173.825 L2290.38 178.084 Q2288.62 177.251 2286.81 176.811 Q2285.03 176.371 2283.27 176.371 Q2278.64 176.371 2276.19 179.496 Q2273.76 182.621 2273.41 188.94 Q2274.77 186.926 2276.83 185.862 Q2278.89 184.774 2281.37 184.774 Q2286.58 184.774 2289.59 187.945 Q2292.62 191.093 2292.62 196.533 Q2292.62 201.857 2289.47 205.074 Q2286.33 208.292 2281.09 208.292 Q2275.1 208.292 2271.93 203.709 Q2268.76 199.102 2268.76 190.375 Q2268.76 182.181 2272.64 177.32 Q2276.53 172.436 2283.08 172.436 Q2284.84 172.436 2286.63 172.783 Q2288.43 173.13 2290.38 173.825 Z\" fill=\"#f8f8f2\" fill-rule=\"nonzero\" fill-opacity=\"1\" /><path clip-path=\"url(#clip950)\" d=\"M2310.68 176.139 Q2307.07 176.139 2305.24 179.704 Q2303.43 183.246 2303.43 190.375 Q2303.43 197.482 2305.24 201.047 Q2307.07 204.588 2310.68 204.588 Q2314.31 204.588 2316.12 201.047 Q2317.95 197.482 2317.95 190.375 Q2317.95 183.246 2316.12 179.704 Q2314.31 176.139 2310.68 176.139 M2310.68 172.436 Q2316.49 172.436 2319.54 177.042 Q2322.62 181.625 2322.62 190.375 Q2322.62 199.102 2319.54 203.709 Q2316.49 208.292 2310.68 208.292 Q2304.87 208.292 2301.79 203.709 Q2298.73 199.102 2298.73 190.375 Q2298.73 181.625 2301.79 177.042 Q2304.87 172.436 2310.68 172.436 Z\" fill=\"#f8f8f2\" fill-rule=\"nonzero\" fill-opacity=\"1\" /><path clip-path=\"url(#clip950)\" d=\"M2340.84 176.139 Q2337.23 176.139 2335.4 179.704 Q2333.59 183.246 2333.59 190.375 Q2333.59 197.482 2335.4 201.047 Q2337.23 204.588 2340.84 204.588 Q2344.47 204.588 2346.28 201.047 Q2348.11 197.482 2348.11 190.375 Q2348.11 183.246 2346.28 179.704 Q2344.47 176.139 2340.84 176.139 M2340.84 172.436 Q2346.65 172.436 2349.7 177.042 Q2352.78 181.625 2352.78 190.375 Q2352.78 199.102 2349.7 203.709 Q2346.65 208.292 2340.84 208.292 Q2335.03 208.292 2331.95 203.709 Q2328.89 199.102 2328.89 190.375 Q2328.89 181.625 2331.95 177.042 Q2335.03 172.436 2340.84 172.436 Z\" fill=\"#f8f8f2\" fill-rule=\"nonzero\" fill-opacity=\"1\" /><polyline clip-path=\"url(#clip950)\" style=\"stroke:#000000; stroke-linecap:round; stroke-linejoin:round; stroke-width:4; stroke-opacity:1; fill:none\" points=\"2232.76,193.97 2256.76,193.97 \"/>\n",
       "<polyline clip-path=\"url(#clip950)\" style=\"stroke:#000000; stroke-linecap:round; stroke-linejoin:round; stroke-width:4; stroke-opacity:1; fill:none\" points=\"2232.76,1486.45 2232.76,47.2441 \"/>\n",
       "</svg>\n"
      ]
     },
     "execution_count": 93,
     "metadata": {},
     "output_type": "execute_result"
    }
   ],
   "source": [
    "x = randn(10^5)\n",
    "y = randn(10^5)\n",
    "histogram2d(x, y, bins=(64, 64))"
   ]
  },
  {
   "cell_type": "markdown",
   "metadata": {},
   "source": [
    "### Importing Data"
   ]
  },
  {
   "cell_type": "markdown",
   "metadata": {},
   "source": [
    "Bring data from external files into ${\\tt Julia}$. Data is typically stored in files, such as _CSV_ or _JSON_ files. In order to train and test machine learning models, the data needs to be loaded into the program. Additionally, the results of the training and testing process, such as model weights and performance metrics, also need to be saved to files. Therefore, the ability to manipulate files is essential for loading and saving data and model information in the machine learning process."
   ]
  },
  {
   "cell_type": "code",
   "execution_count": 94,
   "metadata": {},
   "outputs": [
    {
     "name": "stderr",
     "output_type": "stream",
     "text": [
      "\u001b[32m\u001b[1m   Resolving\u001b[22m\u001b[39m package versions...\n",
      "\u001b[32m\u001b[1m  No Changes\u001b[22m\u001b[39m to `~/Work/git-repos/AI-ML-DL/jlai/Codes/Julia/Part-1/Project.toml`\n",
      "\u001b[32m\u001b[1m  No Changes\u001b[22m\u001b[39m to `~/Work/git-repos/AI-ML-DL/jlai/Codes/Julia/Part-1/Manifest.toml`\n",
      "\u001b[32m\u001b[1m   Resolving\u001b[22m\u001b[39m package versions...\n",
      "\u001b[32m\u001b[1m  No Changes\u001b[22m\u001b[39m to `~/Work/git-repos/AI-ML-DL/jlai/Codes/Julia/Part-1/Project.toml`\n",
      "\u001b[32m\u001b[1m  No Changes\u001b[22m\u001b[39m to `~/Work/git-repos/AI-ML-DL/jlai/Codes/Julia/Part-1/Manifest.toml`\n"
     ]
    }
   ],
   "source": [
    "using Pkg\n",
    "Pkg.add(\"DataFrames\")\n",
    "Pkg.add(\"CSV\")"
   ]
  },
  {
   "cell_type": "code",
   "execution_count": 95,
   "metadata": {},
   "outputs": [
    {
     "data": {
      "text/latex": [
       "Create new CSV file\n",
       "\n"
      ],
      "text/markdown": [
       "Create new CSV file\n"
      ],
      "text/plain": [
       "  Create new CSV file"
      ]
     },
     "execution_count": 95,
     "metadata": {},
     "output_type": "execute_result"
    }
   ],
   "source": [
    "md\"Create new CSV file\""
   ]
  },
  {
   "cell_type": "code",
   "execution_count": 96,
   "metadata": {},
   "outputs": [],
   "source": [
    "using CSV, DataFrames"
   ]
  },
  {
   "cell_type": "code",
   "execution_count": 97,
   "metadata": {},
   "outputs": [
    {
     "data": {
      "text/latex": [
       "\\texttt{touch} command allows to create a file if it doesn't exist. Otherwise, it changes the file timestamps.\n",
       "\n"
      ],
      "text/markdown": [
       "`touch` command allows to create a file if it doesn't exist. Otherwise, it changes the file timestamps.\n"
      ],
      "text/plain": [
       "  \u001b[36mtouch\u001b[39m command allows to create a file if it doesn't exist. Otherwise, it\n",
       "  changes the file timestamps."
      ]
     },
     "execution_count": 97,
     "metadata": {},
     "output_type": "execute_result"
    }
   ],
   "source": [
    "md\"`touch` command allows to create a file if it doesn't exist. Otherwise, it changes the file timestamps.\""
   ]
  },
  {
   "cell_type": "code",
   "execution_count": 98,
   "metadata": {},
   "outputs": [
    {
     "data": {
      "text/plain": [
       "\"test-file.csv\""
      ]
     },
     "execution_count": 98,
     "metadata": {},
     "output_type": "execute_result"
    }
   ],
   "source": [
    "touch(\"test-file.csv\")"
   ]
  },
  {
   "cell_type": "code",
   "execution_count": 99,
   "metadata": {},
   "outputs": [
    {
     "name": "stdout",
     "output_type": "stream",
     "text": [
      "-rw-rw-r-- 1 mhamdi mhamdi 66 Mar  5 23:20 test-file.csv\n"
     ]
    }
   ],
   "source": [
    ";ls -la test-file.csv"
   ]
  },
  {
   "cell_type": "code",
   "execution_count": 100,
   "metadata": {},
   "outputs": [
    {
     "data": {
      "text/plain": [
       "IOStream(<file test-file.csv>)"
      ]
     },
     "execution_count": 100,
     "metadata": {},
     "output_type": "execute_result"
    }
   ],
   "source": [
    "file = open(\"test-file.csv\", \"w\")"
   ]
  },
  {
   "cell_type": "code",
   "execution_count": 101,
   "metadata": {},
   "outputs": [
    {
     "data": {
      "text/latex": [
       "Let's create some imaginary data\n",
       "\n"
      ],
      "text/markdown": [
       "Let's create some imaginary data\n"
      ],
      "text/plain": [
       "  Let's create some imaginary data"
      ]
     },
     "execution_count": 101,
     "metadata": {},
     "output_type": "execute_result"
    }
   ],
   "source": [
    "md\"Let's create some imaginary data\""
   ]
  },
  {
   "cell_type": "code",
   "execution_count": 102,
   "metadata": {},
   "outputs": [
    {
     "data": {
      "text/html": [
       "<div><div style = \"float: left;\"><span>4×3 DataFrame</span></div><div style = \"clear: both;\"></div></div><div class = \"data-frame\" style = \"overflow-x: scroll;\"><table class = \"data-frame\" style = \"margin-bottom: 6px;\"><thead><tr class = \"header\"><th class = \"rowNumber\" style = \"font-weight: bold; text-align: right;\">Row</th><th style = \"text-align: left;\">Student</th><th style = \"text-align: left;\">Id</th><th style = \"text-align: left;\">Marks</th></tr><tr class = \"subheader headerLastRow\"><th class = \"rowNumber\" style = \"font-weight: bold; text-align: right;\"></th><th title = \"String\" style = \"text-align: left;\">String</th><th title = \"Int64\" style = \"text-align: left;\">Int64</th><th title = \"Float64\" style = \"text-align: left;\">Float64</th></tr></thead><tbody><tr><td class = \"rowNumber\" style = \"font-weight: bold; text-align: right;\">1</td><td style = \"text-align: left;\">Mohamed</td><td style = \"text-align: right;\">1</td><td style = \"text-align: right;\">18.0</td></tr><tr><td class = \"rowNumber\" style = \"font-weight: bold; text-align: right;\">2</td><td style = \"text-align: left;\">Aymen</td><td style = \"text-align: right;\">2</td><td style = \"text-align: right;\">7.0</td></tr><tr><td class = \"rowNumber\" style = \"font-weight: bold; text-align: right;\">3</td><td style = \"text-align: left;\">Rami</td><td style = \"text-align: right;\">3</td><td style = \"text-align: right;\">12.0</td></tr><tr><td class = \"rowNumber\" style = \"font-weight: bold; text-align: right;\">4</td><td style = \"text-align: left;\">Ala</td><td style = \"text-align: right;\">4</td><td style = \"text-align: right;\">5.5</td></tr></tbody></table></div>"
      ],
      "text/latex": [
       "\\begin{tabular}{r|ccc}\n",
       "\t& Student & Id & Marks\\\\\n",
       "\t\\hline\n",
       "\t& String & Int64 & Float64\\\\\n",
       "\t\\hline\n",
       "\t1 & Mohamed & 1 & 18.0 \\\\\n",
       "\t2 & Aymen & 2 & 7.0 \\\\\n",
       "\t3 & Rami & 3 & 12.0 \\\\\n",
       "\t4 & Ala & 4 & 5.5 \\\\\n",
       "\\end{tabular}\n"
      ],
      "text/plain": [
       "\u001b[1m4×3 DataFrame\u001b[0m\n",
       "\u001b[1m Row \u001b[0m│\u001b[1m Student \u001b[0m\u001b[1m Id    \u001b[0m\u001b[1m Marks   \u001b[0m\n",
       "     │\u001b[90m String  \u001b[0m\u001b[90m Int64 \u001b[0m\u001b[90m Float64 \u001b[0m\n",
       "─────┼─────────────────────────\n",
       "   1 │ Mohamed      1     18.0\n",
       "   2 │ Aymen        2      7.0\n",
       "   3 │ Rami         3     12.0\n",
       "   4 │ Ala          4      5.5"
      ]
     },
     "execution_count": 102,
     "metadata": {},
     "output_type": "execute_result"
    }
   ],
   "source": [
    "df = DataFrame(\n",
    "        Student = [\"Mohamed\", \"Aymen\", \"Rami\", \"Ala\"],\n",
    "        Id = [1, 2, 3, 4],\n",
    "        Marks = [18, 7, 12, 5.5]\n",
    "        )"
   ]
  },
  {
   "cell_type": "code",
   "execution_count": 103,
   "metadata": {},
   "outputs": [
    {
     "data": {
      "text/latex": [
       "Write \\texttt{df} to file\n",
       "\n"
      ],
      "text/markdown": [
       "Write `df` to file\n"
      ],
      "text/plain": [
       "  Write \u001b[36mdf\u001b[39m to file"
      ]
     },
     "execution_count": 103,
     "metadata": {},
     "output_type": "execute_result"
    }
   ],
   "source": [
    "md\"Write `df` to file\""
   ]
  },
  {
   "cell_type": "code",
   "execution_count": 104,
   "metadata": {},
   "outputs": [
    {
     "data": {
      "text/plain": [
       "\"test-file.csv\""
      ]
     },
     "execution_count": 104,
     "metadata": {},
     "output_type": "execute_result"
    }
   ],
   "source": [
    "CSV.write(\"test-file.csv\", df)"
   ]
  },
  {
   "cell_type": "code",
   "execution_count": 105,
   "metadata": {},
   "outputs": [
    {
     "data": {
      "text/latex": [
       "Open the CSV file and add some contents. See what happens when we load it again.\n",
       "\n"
      ],
      "text/markdown": [
       "Open the CSV file and add some contents. See what happens when we load it again.\n"
      ],
      "text/plain": [
       "  Open the CSV file and add some contents. See what happens when we load it\n",
       "  again."
      ]
     },
     "execution_count": 105,
     "metadata": {},
     "output_type": "execute_result"
    }
   ],
   "source": [
    "md\"Open the CSV file and add some contents. See what happens when we load it again.\""
   ]
  },
  {
   "cell_type": "code",
   "execution_count": 106,
   "metadata": {},
   "outputs": [
    {
     "data": {
      "text/html": [
       "<div><div style = \"float: left;\"><span>4×3 DataFrame</span></div><div style = \"clear: both;\"></div></div><div class = \"data-frame\" style = \"overflow-x: scroll;\"><table class = \"data-frame\" style = \"margin-bottom: 6px;\"><thead><tr class = \"header\"><th class = \"rowNumber\" style = \"font-weight: bold; text-align: right;\">Row</th><th style = \"text-align: left;\">Student</th><th style = \"text-align: left;\">Id</th><th style = \"text-align: left;\">Marks</th></tr><tr class = \"subheader headerLastRow\"><th class = \"rowNumber\" style = \"font-weight: bold; text-align: right;\"></th><th title = \"String7\" style = \"text-align: left;\">String7</th><th title = \"Int64\" style = \"text-align: left;\">Int64</th><th title = \"Float64\" style = \"text-align: left;\">Float64</th></tr></thead><tbody><tr><td class = \"rowNumber\" style = \"font-weight: bold; text-align: right;\">1</td><td style = \"text-align: left;\">Mohamed</td><td style = \"text-align: right;\">1</td><td style = \"text-align: right;\">18.0</td></tr><tr><td class = \"rowNumber\" style = \"font-weight: bold; text-align: right;\">2</td><td style = \"text-align: left;\">Aymen</td><td style = \"text-align: right;\">2</td><td style = \"text-align: right;\">7.0</td></tr><tr><td class = \"rowNumber\" style = \"font-weight: bold; text-align: right;\">3</td><td style = \"text-align: left;\">Rami</td><td style = \"text-align: right;\">3</td><td style = \"text-align: right;\">12.0</td></tr><tr><td class = \"rowNumber\" style = \"font-weight: bold; text-align: right;\">4</td><td style = \"text-align: left;\">Ala</td><td style = \"text-align: right;\">4</td><td style = \"text-align: right;\">5.5</td></tr></tbody></table></div>"
      ],
      "text/latex": [
       "\\begin{tabular}{r|ccc}\n",
       "\t& Student & Id & Marks\\\\\n",
       "\t\\hline\n",
       "\t& String7 & Int64 & Float64\\\\\n",
       "\t\\hline\n",
       "\t1 & Mohamed & 1 & 18.0 \\\\\n",
       "\t2 & Aymen & 2 & 7.0 \\\\\n",
       "\t3 & Rami & 3 & 12.0 \\\\\n",
       "\t4 & Ala & 4 & 5.5 \\\\\n",
       "\\end{tabular}\n"
      ],
      "text/plain": [
       "\u001b[1m4×3 DataFrame\u001b[0m\n",
       "\u001b[1m Row \u001b[0m│\u001b[1m Student \u001b[0m\u001b[1m Id    \u001b[0m\u001b[1m Marks   \u001b[0m\n",
       "     │\u001b[90m String7 \u001b[0m\u001b[90m Int64 \u001b[0m\u001b[90m Float64 \u001b[0m\n",
       "─────┼─────────────────────────\n",
       "   1 │ Mohamed      1     18.0\n",
       "   2 │ Aymen        2      7.0\n",
       "   3 │ Rami         3     12.0\n",
       "   4 │ Ala          4      5.5"
      ]
     },
     "execution_count": 106,
     "metadata": {},
     "output_type": "execute_result"
    }
   ],
   "source": [
    "CSV.read(\"test-file.csv\", DataFrame)"
   ]
  },
  {
   "cell_type": "markdown",
   "metadata": {},
   "source": [
    "### Logical Arrays"
   ]
  },
  {
   "cell_type": "markdown",
   "metadata": {},
   "source": [
    "Use logical expressions to help extract elements of interest from ${\\tt Julia}$ arrays."
   ]
  },
  {
   "cell_type": "code",
   "execution_count": 107,
   "metadata": {},
   "outputs": [
    {
     "name": "stdout",
     "output_type": "stream",
     "text": [
      "ComplexF64[1.0 + 0.0im, 2.0 + 0.0im, -5.0 + 0.0im, 7.2 + 0.0im, 0.0 + 3.0im]\n"
     ]
    },
    {
     "data": {
      "text/plain": [
       "Vector{ComplexF64}\u001b[90m (alias for \u001b[39m\u001b[90mArray{Complex{Float64}, 1}\u001b[39m\u001b[90m)\u001b[39m"
      ]
     },
     "execution_count": 107,
     "metadata": {},
     "output_type": "execute_result"
    }
   ],
   "source": [
    "x = [1, 2, -5, 7.2, 3im]\n",
    "println(x)\n",
    "typeof(x)"
   ]
  },
  {
   "cell_type": "code",
   "execution_count": 108,
   "metadata": {},
   "outputs": [
    {
     "name": "stdout",
     "output_type": "stream",
     "text": [
      "ComplexF64[2.0 + 0.0im, 0.0 + 3.0im]"
     ]
    }
   ],
   "source": [
    "idx = [false, true, false, false, true]\n",
    "print(x[idx])"
   ]
  },
  {
   "cell_type": "code",
   "execution_count": 109,
   "metadata": {},
   "outputs": [
    {
     "data": {
      "text/plain": [
       "5×4 Matrix{Float64}:\n",
       " 6.35973e-310  6.35973e-310  6.35973e-310  6.35973e-310\n",
       " 6.35973e-310  6.35973e-310  6.35973e-310  6.35973e-310\n",
       " 6.35973e-310  6.35973e-310  6.35973e-310  6.35973e-310\n",
       " 6.35973e-310  6.35973e-310  6.35973e-310  6.35973e-310\n",
       " 6.35973e-310  6.35973e-310  6.35962e-310  6.35973e-310"
      ]
     },
     "execution_count": 109,
     "metadata": {},
     "output_type": "execute_result"
    }
   ],
   "source": [
    "M = Array{Float64, 2}(undef, 5, 4)"
   ]
  },
  {
   "cell_type": "code",
   "execution_count": 110,
   "metadata": {},
   "outputs": [],
   "source": [
    "row_idx = [true, false, true, true, false];\n",
    "col_idx = [false, true, true, false];"
   ]
  },
  {
   "cell_type": "code",
   "execution_count": 111,
   "metadata": {},
   "outputs": [
    {
     "data": {
      "text/plain": [
       "3×4 Matrix{Float64}:\n",
       " 6.35973e-310  6.35973e-310  6.35973e-310  6.35973e-310\n",
       " 6.35973e-310  6.35973e-310  6.35973e-310  6.35973e-310\n",
       " 6.35973e-310  6.35973e-310  6.35973e-310  6.35973e-310"
      ]
     },
     "execution_count": 111,
     "metadata": {},
     "output_type": "execute_result"
    }
   ],
   "source": [
    "M[row_idx, :]"
   ]
  },
  {
   "cell_type": "code",
   "execution_count": 112,
   "metadata": {},
   "outputs": [
    {
     "data": {
      "text/plain": [
       "5×2 Matrix{Float64}:\n",
       " 6.35973e-310  6.35973e-310\n",
       " 6.35973e-310  6.35973e-310\n",
       " 6.35973e-310  6.35973e-310\n",
       " 6.35973e-310  6.35973e-310\n",
       " 6.35973e-310  6.35962e-310"
      ]
     },
     "execution_count": 112,
     "metadata": {},
     "output_type": "execute_result"
    }
   ],
   "source": [
    "M[:, col_idx]"
   ]
  },
  {
   "cell_type": "code",
   "execution_count": 113,
   "metadata": {},
   "outputs": [
    {
     "data": {
      "text/plain": [
       "3×2 Matrix{Float64}:\n",
       " 6.35973e-310  6.35973e-310\n",
       " 6.35973e-310  6.35973e-310\n",
       " 6.35973e-310  6.35973e-310"
      ]
     },
     "execution_count": 113,
     "metadata": {},
     "output_type": "execute_result"
    }
   ],
   "source": [
    "M[row_idx, col_idx]"
   ]
  },
  {
   "cell_type": "markdown",
   "metadata": {},
   "source": [
    "### Programming\n",
    "Write programs that execute code based on some condition."
   ]
  },
  {
   "cell_type": "code",
   "execution_count": 114,
   "metadata": {},
   "outputs": [
    {
     "data": {
      "text/latex": [
       "\\textbf{Conditional Evaluation}\n",
       "\n"
      ],
      "text/markdown": [
       "**Conditional Evaluation**\n"
      ],
      "text/plain": [
       "  \u001b[1mConditional Evaluation\u001b[22m"
      ]
     },
     "execution_count": 114,
     "metadata": {},
     "output_type": "execute_result"
    }
   ],
   "source": [
    "md\"**Conditional Evaluation**\""
   ]
  },
  {
   "cell_type": "code",
   "execution_count": 115,
   "metadata": {},
   "outputs": [
    {
     "name": "stdout",
     "output_type": "stream",
     "text": [
      "π is equal to π\n"
     ]
    }
   ],
   "source": [
    "a, b = π, π\n",
    "if a < b\n",
    "    println(\"$a is less than $b\")\n",
    "elseif a > b\n",
    "    println(\"$a is greater than $b\")\n",
    "else\n",
    "    println(\"$a is equal to $b\")\n",
    "end"
   ]
  },
  {
   "cell_type": "code",
   "execution_count": 116,
   "metadata": {},
   "outputs": [
    {
     "data": {
      "text/latex": [
       "\\textbf{\\texttt{While} Loop}\n",
       "\n"
      ],
      "text/markdown": [
       "**`While` Loop**\n"
      ],
      "text/plain": [
       "  \u001b[1m\u001b[36mWhile\u001b[39m Loop\u001b[22m"
      ]
     },
     "execution_count": 116,
     "metadata": {},
     "output_type": "execute_result"
    }
   ],
   "source": [
    "md\"**`While` Loop**\""
   ]
  },
  {
   "cell_type": "code",
   "execution_count": 117,
   "metadata": {},
   "outputs": [
    {
     "name": "stdout",
     "output_type": "stream",
     "text": [
      "Item #1 is Blueberry\n",
      "Item #2 is Orange\n",
      "Item #3 is Banana\n",
      "Item #4 is Raspberry\n",
      "Item #5 is Strawberry\n"
     ]
    }
   ],
   "source": [
    "fruits = [\"Blueberry\", \"Orange\", \"Banana\", \"Raspberry\", \"Strawberry\"]\n",
    "iter = 1\n",
    "while iter ≤ length(fruits)\n",
    "    println(\"Item #$iter is $(fruits[iter])\")\n",
    "    iter +=1\n",
    "end"
   ]
  },
  {
   "cell_type": "code",
   "execution_count": 118,
   "metadata": {},
   "outputs": [
    {
     "data": {
      "text/latex": [
       "\\textbf{\\texttt{For} Loop}\n",
       "\n"
      ],
      "text/markdown": [
       "**`For` Loop**\n"
      ],
      "text/plain": [
       "  \u001b[1m\u001b[36mFor\u001b[39m Loop\u001b[22m"
      ]
     },
     "execution_count": 118,
     "metadata": {},
     "output_type": "execute_result"
    }
   ],
   "source": [
    "md\"**`For` Loop**\""
   ]
  },
  {
   "cell_type": "code",
   "execution_count": 119,
   "metadata": {},
   "outputs": [
    {
     "name": "stdout",
     "output_type": "stream",
     "text": [
      "Item #1 is Broccoli\n",
      "Item #2 is Garlic\n",
      "Item #3 is Mushrooms\n",
      "Item #4 is Potatoes\n"
     ]
    }
   ],
   "source": [
    "vegetables = [\"Broccoli\", \"Garlic\", \"Mushrooms\", \"Potatoes\"]\n",
    "i = 1\n",
    "for item in vegetables\n",
    "    println(\"Item #$i is $item\")\n",
    "    i += 1\n",
    "end"
   ]
  },
  {
   "cell_type": "markdown",
   "metadata": {},
   "source": [
    "### Final Project"
   ]
  },
  {
   "cell_type": "markdown",
   "metadata": {},
   "source": [
    "Bring together concepts that you have learned with a project. This simple project consists of implementing a basic calculator. This latter could have the ability to perform basic arithmetic operations like _addition_, _subtraction_, _multiplication_, and _division_.\n",
    "\n",
    "Here are the steps to be followed:\n",
    "1. Create a function called `calculator()` that takes two arguments, `x` and `y`, and a char operation that specifies which operation to perform.\n",
    "1. Use an `if-else` statement to check the value of operation. Depending on the value of operation, call the appropriate function to perform the calculation.\n",
    "1. Test the calculator function by calling it with different values for `x`, `y`, and operation and printing the result.\n",
    "1. Once the basic calculator is working, we can improve it by adding more functionality such as handling decimals and negative numbers, or implementing more advanced operations such as square root, power, trigonometry and so on.\n",
    "1. Finally, we could also experiment with different input types, such as command line arguments or a graphical user interface."
   ]
  },
  {
   "cell_type": "code",
   "execution_count": 120,
   "metadata": {},
   "outputs": [
    {
     "data": {
      "text/latex": [
       "Here is an example of how the basic calculator function could look like:\n",
       "\n"
      ],
      "text/markdown": [
       "Here is an example of how the basic calculator function could look like:\n"
      ],
      "text/plain": [
       "  Here is an example of how the basic calculator function could look like:"
      ]
     },
     "execution_count": 120,
     "metadata": {},
     "output_type": "execute_result"
    }
   ],
   "source": [
    "md\"Here is an example of how the basic calculator function could look like:\""
   ]
  },
  {
   "cell_type": "code",
   "execution_count": 121,
   "metadata": {},
   "outputs": [
    {
     "data": {
      "text/plain": [
       "calculator (generic function with 1 method)"
      ]
     },
     "execution_count": 121,
     "metadata": {},
     "output_type": "execute_result"
    }
   ],
   "source": [
    "function calculator(x::Number, y::Number, op::Char)\n",
    "    if op == '+'\n",
    "        return x + y\n",
    "    elseif op == '-'\n",
    "        return x - y\n",
    "    elseif op == '*'\n",
    "        return x * y\n",
    "    elseif op in ['/', '÷']\n",
    "        return x / y\n",
    "    else\n",
    "        return \"INVALID OPERATION\"\n",
    "    end\n",
    "end"
   ]
  },
  {
   "cell_type": "code",
   "execution_count": 122,
   "metadata": {},
   "outputs": [
    {
     "name": "stdout",
     "output_type": "stream",
     "text": [
      "Summation is 8\n",
      "Subtraction is 2\n",
      "Multiplication is 15\n",
      "Division is 1.6666666666666667\n",
      "INVALID OPERATION\n"
     ]
    }
   ],
   "source": [
    "println(\"Summation is $(calculator(5, 3, '+'))\")\n",
    "println(\"Subtraction is $(calculator(5, 3, '-'))\")\n",
    "println(\"Multiplication is $(calculator(5, 3, '*'))\")\n",
    "println(\"Division is $(calculator(5, 3, '÷'))\")\n",
    "println(calculator(5, 3, '×'))"
   ]
  },
  {
   "cell_type": "markdown",
   "metadata": {},
   "source": [
    "**Miscallenous**"
   ]
  },
  {
   "cell_type": "code",
   "execution_count": 123,
   "metadata": {
    "tags": []
   },
   "outputs": [
    {
     "name": "stdout",
     "output_type": "stream",
     "text": [
      "Julia Version 1.11.2\n",
      "Commit 5e9a32e7af2 (2024-12-01 20:02 UTC)\n",
      "Build Info:\n",
      "  Official https://julialang.org/ release\n",
      "Platform Info:\n",
      "  OS: Linux (x86_64-linux-gnu)\n",
      "  CPU: 8 × Intel(R) Core(TM) i7-8565U CPU @ 1.80GHz\n",
      "  WORD_SIZE: 64\n",
      "  LLVM: libLLVM-16.0.6 (ORCJIT, skylake)\n",
      "Threads: 8 default, 0 interactive, 4 GC (on 8 virtual cores)\n",
      "Environment:\n",
      "  LD_LIBRARY_PATH = /home/mhamdi/torch/install/lib:/home/mhamdi/torch/install/lib:/home/mhamdi/torch/install/lib:\n",
      "  DYLD_LIBRARY_PATH = /home/mhamdi/torch/install/lib:/home/mhamdi/torch/install/lib:/home/mhamdi/torch/install/lib:\n",
      "  JULIA_NUM_THREADS = 8\n"
     ]
    }
   ],
   "source": [
    "md\"Check your version of Julia\"\n",
    "versioninfo()"
   ]
  },
  {
   "cell_type": "code",
   "execution_count": 124,
   "metadata": {
    "tags": []
   },
   "outputs": [
    {
     "data": {
      "text/latex": [
       "The macro \\texttt{@edit} shows the defintion of a function when invoked with specific arguments\n",
       "\n"
      ],
      "text/markdown": [
       "The macro `@edit` shows the defintion of a function when invoked with specific arguments\n"
      ],
      "text/plain": [
       "  The macro \u001b[36m@edit\u001b[39m shows the defintion of a function when invoked with specific\n",
       "  arguments"
      ]
     },
     "execution_count": 124,
     "metadata": {},
     "output_type": "execute_result"
    }
   ],
   "source": [
    "md\"The macro `@edit` shows the defintion of a function when invoked with specific arguments\"\n",
    "# @edit maximum([-1, 0, 1])"
   ]
  },
  {
   "cell_type": "code",
   "execution_count": 125,
   "metadata": {
    "tags": []
   },
   "outputs": [
    {
     "data": {
      "text/latex": [
       "\\begin{tabular}\n",
       "{l | r | l}\n",
       "name & size & summary \\\\\n",
       "\\hline\n",
       "Base &  & Module \\\\\n",
       "Core &  & Module \\\\\n",
       "Foo & 0 bytes & Foo (generic function with 1 method) \\\\\n",
       "M & 208 bytes & 5×4 Matrix\\{Float64\\} \\\\\n",
       "Main &  & Module \\\\\n",
       "PLOTS\\_DEFAULTS & 384 bytes & Dict\\{Symbol, Symbol\\} with 1 entry \\\\\n",
       "a & 0 bytes & Irrational\\{:π\\} \\\\\n",
       "b & 0 bytes & Irrational\\{:π\\} \\\\\n",
       "bar & 0 bytes & bar (generic function with 1 method) \\\\\n",
       "calculator & 0 bytes & calculator (generic function with 1 method) \\\\\n",
       "col\\_idx & 44 bytes & 4-element Vector\\{Bool\\} \\\\\n",
       "df & 827 bytes & 4×3 DataFrame \\\\\n",
       "dict & 431 bytes & Dict\\{String, Int64\\} with 3 entries \\\\\n",
       "docs & 7.446 KiB & Markdown.MD \\\\\n",
       "f & 0 bytes & f (generic function with 4 methods) \\\\\n",
       "file & 380 bytes & IOStream \\\\\n",
       "foo & 0 bytes & foo (generic function with 4 methods) \\\\\n",
       "fruits & 160 bytes & 5-element Vector\\{String\\} \\\\\n",
       "g & 0 bytes & g (generic function with 1 method) \\\\\n",
       "h & 0 bytes & h (generic function with 1 method) \\\\\n",
       "i & 8 bytes & Int64 \\\\\n",
       "idx & 45 bytes & 5-element Vector\\{Bool\\} \\\\\n",
       "iter & 8 bytes & Int64 \\\\\n",
       "mycos & 0 bytes & mycos (generic function with 2 methods) \\\\\n",
       "row\\_idx & 45 bytes & 5-element Vector\\{Bool\\} \\\\\n",
       "showall & 0 bytes & showall (generic function with 1 method) \\\\\n",
       "str & 19 bytes & 11-codeunit String \\\\\n",
       "tmp & 1 byte & UInt8 \\\\\n",
       "var & 80 bytes & 2×4 BitMatrix \\\\\n",
       "vect & 176 bytes & 5-element Vector\\{Any\\} \\\\\n",
       "vegetables & 135 bytes & 4-element Vector\\{String\\} \\\\\n",
       "x & 120 bytes & 5-element Vector\\{ComplexF64\\} \\\\\n",
       "y & 781.289 KiB & 100000-element Vector\\{Float64\\} \\\\\n",
       "z & 768 bytes & 91-element Vector\\{Float64\\} \\\\\n",
       "\\end{tabular}\n"
      ],
      "text/markdown": [
       "| name           |        size | summary                                     |\n",
       "|:-------------- | -----------:|:------------------------------------------- |\n",
       "| Base           |             | Module                                      |\n",
       "| Core           |             | Module                                      |\n",
       "| Foo            |     0 bytes | Foo (generic function with 1 method)        |\n",
       "| M              |   208 bytes | 5×4 Matrix{Float64}                         |\n",
       "| Main           |             | Module                                      |\n",
       "| PLOTS_DEFAULTS |   384 bytes | Dict{Symbol, Symbol} with 1 entry           |\n",
       "| a              |     0 bytes | Irrational{:π}                              |\n",
       "| b              |     0 bytes | Irrational{:π}                              |\n",
       "| bar            |     0 bytes | bar (generic function with 1 method)        |\n",
       "| calculator     |     0 bytes | calculator (generic function with 1 method) |\n",
       "| col_idx        |    44 bytes | 4-element Vector{Bool}                      |\n",
       "| df             |   827 bytes | 4×3 DataFrame                               |\n",
       "| dict           |   431 bytes | Dict{String, Int64} with 3 entries          |\n",
       "| docs           |   7.446 KiB | Markdown.MD                                 |\n",
       "| f              |     0 bytes | f (generic function with 4 methods)         |\n",
       "| file           |   380 bytes | IOStream                                    |\n",
       "| foo            |     0 bytes | foo (generic function with 4 methods)       |\n",
       "| fruits         |   160 bytes | 5-element Vector{String}                    |\n",
       "| g              |     0 bytes | g (generic function with 1 method)          |\n",
       "| h              |     0 bytes | h (generic function with 1 method)          |\n",
       "| i              |     8 bytes | Int64                                       |\n",
       "| idx            |    45 bytes | 5-element Vector{Bool}                      |\n",
       "| iter           |     8 bytes | Int64                                       |\n",
       "| mycos          |     0 bytes | mycos (generic function with 2 methods)     |\n",
       "| row_idx        |    45 bytes | 5-element Vector{Bool}                      |\n",
       "| showall        |     0 bytes | showall (generic function with 1 method)    |\n",
       "| str            |    19 bytes | 11-codeunit String                          |\n",
       "| tmp            |      1 byte | UInt8                                       |\n",
       "| var            |    80 bytes | 2×4 BitMatrix                               |\n",
       "| vect           |   176 bytes | 5-element Vector{Any}                       |\n",
       "| vegetables     |   135 bytes | 4-element Vector{String}                    |\n",
       "| x              |   120 bytes | 5-element Vector{ComplexF64}                |\n",
       "| y              | 781.289 KiB | 100000-element Vector{Float64}              |\n",
       "| z              |   768 bytes | 91-element Vector{Float64}                  |\n"
      ],
      "text/plain": [
       "  name                  size summary                                    \n",
       "  –––––––––––––– ––––––––––– –––––––––––––––––––––––––––––––––––––––––––\n",
       "  Base                       Module                                     \n",
       "  Core                       Module                                     \n",
       "  Foo                0 bytes Foo (generic function with 1 method)       \n",
       "  M                208 bytes 5×4 Matrix{Float64}                        \n",
       "  Main                       Module                                     \n",
       "  PLOTS_DEFAULTS   384 bytes Dict{Symbol, Symbol} with 1 entry          \n",
       "  a                  0 bytes Irrational{:π}                             \n",
       "  b                  0 bytes Irrational{:π}                             \n",
       "  bar                0 bytes bar (generic function with 1 method)       \n",
       "  calculator         0 bytes calculator (generic function with 1 method)\n",
       "  col_idx           44 bytes 4-element Vector{Bool}                     \n",
       "  df               827 bytes 4×3 DataFrame                              \n",
       "  dict             431 bytes Dict{String, Int64} with 3 entries         \n",
       "  docs             7.446 KiB Markdown.MD                                \n",
       "  f                  0 bytes f (generic function with 4 methods)        \n",
       "  file             380 bytes IOStream                                   \n",
       "  foo                0 bytes foo (generic function with 4 methods)      \n",
       "  fruits           160 bytes 5-element Vector{String}                   \n",
       "  g                  0 bytes g (generic function with 1 method)         \n",
       "  h                  0 bytes h (generic function with 1 method)         \n",
       "  i                  8 bytes Int64                                      \n",
       "  idx               45 bytes 5-element Vector{Bool}                     \n",
       "  iter               8 bytes Int64                                      \n",
       "  mycos              0 bytes mycos (generic function with 2 methods)    \n",
       "  row_idx           45 bytes 5-element Vector{Bool}                     \n",
       "  showall            0 bytes showall (generic function with 1 method)   \n",
       "  str               19 bytes 11-codeunit String                         \n",
       "  tmp                 1 byte UInt8                                      \n",
       "  var               80 bytes 2×4 BitMatrix                              \n",
       "  vect             176 bytes 5-element Vector{Any}                      \n",
       "  vegetables       135 bytes 4-element Vector{String}                   \n",
       "  x                120 bytes 5-element Vector{ComplexF64}               \n",
       "  y              781.289 KiB 100000-element Vector{Float64}             \n",
       "  z                768 bytes 91-element Vector{Float64}                 "
      ]
     },
     "execution_count": 125,
     "metadata": {},
     "output_type": "execute_result"
    }
   ],
   "source": [
    "md\"`varinfo` lists all global variables and their corresponding types in the current scope\"\n",
    "varinfo()"
   ]
  },
  {
   "cell_type": "markdown",
   "metadata": {
    "tags": []
   },
   "source": [
    "_Modules_"
   ]
  },
  {
   "cell_type": "code",
   "execution_count": 126,
   "metadata": {
    "tags": []
   },
   "outputs": [
    {
     "data": {
      "text/plain": [
       "Main.MyModule"
      ]
     },
     "execution_count": 126,
     "metadata": {},
     "output_type": "execute_result"
    }
   ],
   "source": [
    "module MyModule\n",
    "export a\n",
    "a = 0\n",
    "b = true\n",
    "end"
   ]
  },
  {
   "cell_type": "code",
   "execution_count": 127,
   "metadata": {
    "tags": []
   },
   "outputs": [
    {
     "data": {
      "text/latex": [
       "\\begin{tabular}\n",
       "{l | r | l}\n",
       "name & size & summary \\\\\n",
       "\\hline\n",
       "MyModule & 2.234 KiB & Module \\\\\n",
       "a & 8 bytes & Int64 \\\\\n",
       "\\end{tabular}\n"
      ],
      "text/markdown": [
       "| name     |      size | summary |\n",
       "|:-------- | ---------:|:------- |\n",
       "| MyModule | 2.234 KiB | Module  |\n",
       "| a        |   8 bytes | Int64   |\n"
      ],
      "text/plain": [
       "  name          size summary\n",
       "  –––––––– ––––––––– –––––––\n",
       "  MyModule 2.234 KiB Module \n",
       "  a          8 bytes Int64  "
      ]
     },
     "execution_count": 127,
     "metadata": {},
     "output_type": "execute_result"
    }
   ],
   "source": [
    "varinfo(MyModule)"
   ]
  },
  {
   "cell_type": "code",
   "execution_count": 128,
   "metadata": {
    "tags": []
   },
   "outputs": [
    {
     "data": {
      "text/plain": [
       "π = 3.1415926535897..."
      ]
     },
     "execution_count": 128,
     "metadata": {},
     "output_type": "execute_result"
    }
   ],
   "source": [
    "a"
   ]
  },
  {
   "cell_type": "code",
   "execution_count": 129,
   "metadata": {
    "tags": []
   },
   "outputs": [
    {
     "data": {
      "text/plain": [
       "0"
      ]
     },
     "execution_count": 129,
     "metadata": {},
     "output_type": "execute_result"
    }
   ],
   "source": [
    "MyModule.a"
   ]
  },
  {
   "cell_type": "code",
   "execution_count": 130,
   "metadata": {
    "tags": []
   },
   "outputs": [
    {
     "data": {
      "text/plain": [
       "true"
      ]
     },
     "execution_count": 130,
     "metadata": {},
     "output_type": "execute_result"
    }
   ],
   "source": [
    "MyModule.b"
   ]
  },
  {
   "cell_type": "code",
   "execution_count": 131,
   "metadata": {},
   "outputs": [
    {
     "name": "stderr",
     "output_type": "stream",
     "text": [
      "WARNING: using MyModule.a in module Main conflicts with an existing identifier.\n"
     ]
    }
   ],
   "source": [
    "using .MyModule"
   ]
  },
  {
   "cell_type": "code",
   "execution_count": 132,
   "metadata": {},
   "outputs": [
    {
     "data": {
      "text/plain": [
       "(π, π)"
      ]
     },
     "execution_count": 132,
     "metadata": {},
     "output_type": "execute_result"
    }
   ],
   "source": [
    "a, b"
   ]
  },
  {
   "cell_type": "code",
   "execution_count": 133,
   "metadata": {},
   "outputs": [
    {
     "name": "stderr",
     "output_type": "stream",
     "text": [
      "WARNING: import of MyModule.b into Main conflicts with an existing identifier; ignored.\n"
     ]
    }
   ],
   "source": [
    "using .MyModule: b"
   ]
  },
  {
   "cell_type": "code",
   "execution_count": 134,
   "metadata": {},
   "outputs": [
    {
     "data": {
      "text/plain": [
       "π = 3.1415926535897..."
      ]
     },
     "execution_count": 134,
     "metadata": {},
     "output_type": "execute_result"
    }
   ],
   "source": [
    "b"
   ]
  }
 ],
 "metadata": {
  "kernelspec": {
   "display_name": "IJulia 1.11.2",
   "language": "julia",
   "name": "ijulia-1.11"
  },
  "language_info": {
   "file_extension": ".jl",
   "mimetype": "application/julia",
   "name": "julia",
   "version": "1.11.2"
  }
 },
 "nbformat": 4,
 "nbformat_minor": 4
}
