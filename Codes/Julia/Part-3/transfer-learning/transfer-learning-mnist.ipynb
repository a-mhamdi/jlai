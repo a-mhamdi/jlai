{
  "cells": [
    {
      "cell_type": "markdown",
      "metadata": {
        "id": "view-in-github",
        "colab_type": "text"
      },
      "source": [
        "<a href=\"https://colab.research.google.com/github/a-mhamdi/jlai/blob/main/Codes/Julia/Part-3/transfer-learning/transfer-learning-mnist.ipynb\" target=\"_parent\"><img src=\"https://colab.research.google.com/assets/colab-badge.svg\" alt=\"Open In Colab\"/></a>"
      ]
    },
    {
      "cell_type": "markdown",
      "id": "fad20012-cd54-4b2a-b425-18975bd1d0ef",
      "metadata": {
        "id": "fad20012-cd54-4b2a-b425-18975bd1d0ef"
      },
      "source": [
        "# Transfer Learning (MNIST DATASET)\n",
        "---"
      ]
    },
    {
      "cell_type": "code",
      "execution_count": 1,
      "id": "a8ed2021-edb4-4f5e-9525-6c1fc4fe194f",
      "metadata": {
        "id": "a8ed2021-edb4-4f5e-9525-6c1fc4fe194f",
        "outputId": "88d79b19-78da-49a2-a3fd-50c01a7ac006",
        "colab": {
          "base_uri": "https://localhost:8080/"
        }
      },
      "outputs": [
        {
          "output_type": "stream",
          "name": "stdout",
          "text": [
            "Julia Version 1.10.8\n",
            "Commit 4c16ff44be8 (2025-01-22 10:06 UTC)\n",
            "Build Info:\n",
            "  Official https://julialang.org/ release\n",
            "Platform Info:\n",
            "  OS: Linux (x86_64-linux-gnu)\n",
            "  CPU: 2 × Intel(R) Xeon(R) CPU @ 2.00GHz\n",
            "  WORD_SIZE: 64\n",
            "  LIBM: libopenlibm\n",
            "  LLVM: libLLVM-15.0.7 (ORCJIT, skylake-avx512)\n",
            "Threads: 2 default, 0 interactive, 1 GC (on 2 virtual cores)\n",
            "Environment:\n",
            "  LD_LIBRARY_PATH = /usr/lib64-nvidia\n",
            "  JULIA_NUM_THREADS = 2\n"
          ]
        }
      ],
      "source": [
        "versioninfo()"
      ]
    },
    {
      "cell_type": "code",
      "source": [
        "using Pkg; Pkg.add([\"DataAugmentation\", \"Flux\", \"Images\", \"ProgressMeter\", \"MLDatasets\", \"Metalhead\", \"CUDA\", \"cuDNN\"])"
      ],
      "metadata": {
        "id": "mP2TbUM_mbPx",
        "collapsed": true,
        "outputId": "bab49366-3393-4d35-db2e-b18650d33545",
        "colab": {
          "base_uri": "https://localhost:8080/"
        }
      },
      "id": "mP2TbUM_mbPx",
      "execution_count": 2,
      "outputs": [
        {
          "output_type": "stream",
          "name": "stderr",
          "text": [
            "\u001b[32m\u001b[1m   Resolving\u001b[22m\u001b[39m package versions...\n",
            "\u001b[32m\u001b[1m  No Changes\u001b[22m\u001b[39m to `~/.julia/environments/v1.10/Project.toml`\n",
            "\u001b[32m\u001b[1m  No Changes\u001b[22m\u001b[39m to `~/.julia/environments/v1.10/Manifest.toml`\n",
            "\u001b[32m\u001b[1mPrecompiling\u001b[22m\u001b[39m packages...\n",
            "         \u001b[91m  ✗ \u001b[39m\u001b[90mlibwebp_jll\u001b[39m\n",
            "         \u001b[91m  ✗ \u001b[39m\u001b[90mQt5Base_jll\u001b[39m\n",
            "         \u001b[91m  ✗ \u001b[39m\u001b[90mGR_jll\u001b[39m\n",
            "         \u001b[91m  ✗ \u001b[39m\u001b[90mWebP\u001b[39m\n",
            "         \u001b[91m  ✗ \u001b[39mPlots\n",
            "         \u001b[91m  ✗ \u001b[39mPlots → UnitfulExt\n",
            "         \u001b[91m  ✗ \u001b[39mPlots → IJuliaExt\n",
            "         \u001b[91m  ✗ \u001b[39mPlots → FileIOExt\n",
            "         \u001b[91m  ✗ \u001b[39mPlots → GeometryBasicsExt\n",
            "  0 dependencies successfully precompiled in 57 seconds. 520 already precompiled.\n",
            "  \u001b[91m9\u001b[39m dependencies errored.\n",
            "  For a report of the errors see `julia> err`. To retry use `pkg> precompile`\n"
          ]
        }
      ]
    },
    {
      "cell_type": "code",
      "source": [
        "Pkg.status()"
      ],
      "metadata": {
        "id": "TfgfVEwJnl5c",
        "outputId": "71935ea7-26ba-4939-a0b5-99ef91fdd0da",
        "colab": {
          "base_uri": "https://localhost:8080/"
        }
      },
      "id": "TfgfVEwJnl5c",
      "execution_count": 3,
      "outputs": [
        {
          "output_type": "stream",
          "name": "stdout",
          "text": [
            "\u001b[32m\u001b[1mStatus\u001b[22m\u001b[39m `~/.julia/environments/v1.10/Project.toml`\n",
            "  \u001b[90m[336ed68f] \u001b[39mCSV v0.10.15\n",
            "  \u001b[90m[052768ef] \u001b[39mCUDA v5.6.1\n",
            "  \u001b[90m[88a5189c] \u001b[39mDataAugmentation v0.3.2\n",
            "  \u001b[90m[a93c6f00] \u001b[39mDataFrames v1.7.0\n",
            "  \u001b[90m[587475ba] \u001b[39mFlux v0.16.3\n",
            "  \u001b[90m[7073ff75] \u001b[39mIJulia v1.26.0\n",
            "  \u001b[90m[916415d5] \u001b[39mImages v0.26.2\n",
            "  \u001b[90m[eb30cadb] \u001b[39mMLDatasets v0.7.18\n",
            "  \u001b[90m[ee78f7c6] \u001b[39mMakie v0.22.2\n",
            "  \u001b[90m[dbeba491] \u001b[39mMetalhead v0.9.5\n",
            "\u001b[32m⌃\u001b[39m \u001b[90m[91a5bcdd] \u001b[39mPlots v1.40.7\n",
            "  \u001b[90m[92933f4c] \u001b[39mProgressMeter v1.10.2\n",
            "  \u001b[90m[02a925ec] \u001b[39mcuDNN v1.4.1\n",
            "\u001b[36m\u001b[1mInfo\u001b[22m\u001b[39m Packages marked with \u001b[32m⌃\u001b[39m have new versions available and may be upgradable.\n"
          ]
        }
      ]
    },
    {
      "cell_type": "markdown",
      "id": "2cbdc160-0674-4095-9380-c2447dc2e254",
      "metadata": {
        "id": "2cbdc160-0674-4095-9380-c2447dc2e254"
      },
      "source": [
        "Load the pre-trained model"
      ]
    },
    {
      "cell_type": "code",
      "execution_count": 4,
      "id": "f8a8b799-ea33-4581-ba2f-14f4de721f3d",
      "metadata": {
        "id": "f8a8b799-ea33-4581-ba2f-14f4de721f3d"
      },
      "outputs": [],
      "source": [
        "using Metalhead"
      ]
    },
    {
      "cell_type": "markdown",
      "id": "dd05e920-99b2-4b90-b6a0-f4f58908ef74",
      "metadata": {
        "id": "dd05e920-99b2-4b90-b6a0-f4f58908ef74"
      },
      "source": [
        "[API Reference](https://fluxml.ai/Metalhead.jl/dev/api/reference/#API-Reference)"
      ]
    },
    {
      "cell_type": "code",
      "execution_count": 5,
      "id": "32df0d6d-d81c-4c33-8b77-94c0f2995cec",
      "metadata": {
        "id": "32df0d6d-d81c-4c33-8b77-94c0f2995cec",
        "outputId": "28369ee9-38bd-4b4b-ddbb-a1873cf657bf",
        "colab": {
          "base_uri": "https://localhost:8080/",
          "height": 1000
        }
      },
      "outputs": [
        {
          "output_type": "error",
          "ename": "LoadError",
          "evalue": "ArgumentError: Tried to load Base.OneTo(0) into (:pad, :k, :stride) but the structures do not match.",
          "traceback": [
            "ArgumentError: Tried to load Base.OneTo(0) into (:pad, :k, :stride) but the structures do not match.",
            "",
            "Stacktrace:",
            "  [1] loadmodel!(dst::Flux.MaxPool{2, 4}, src::Tuple{}; filter::Function, cache::Base.IdSet{Any})",
            "    @ Flux ~/.julia/packages/Flux/3711C/src/loading.jl:95",
            "  [2] loadmodel!(dst::Tuple{Flux.Conv{2, 2, typeof(NNlib.relu), Array{Float32, 4}, Vector{Float32}}, Flux.Conv{2, 2, typeof(NNlib.relu), Array{Float32, 4}, Vector{Float32}}, Flux.MaxPool{2, 4}, Flux.Conv{2, 2, typeof(NNlib.relu), Array{Float32, 4}, Vector{Float32}}, Flux.Conv{2, 2, typeof(NNlib.relu), Array{Float32, 4}, Vector{Float32}}, Flux.MaxPool{2, 4}, Flux.Conv{2, 2, typeof(NNlib.relu), Array{Float32, 4}, Vector{Float32}}, Flux.Conv{2, 2, typeof(NNlib.relu), Array{Float32, 4}, Vector{Float32}}, Flux.Conv{2, 2, typeof(NNlib.relu), Array{Float32, 4}, Vector{Float32}}, Flux.MaxPool{2, 4}, Flux.Conv{2, 2, typeof(NNlib.relu), Array{Float32, 4}, Vector{Float32}}, Flux.Conv{2, 2, typeof(NNlib.relu), Array{Float32, 4}, Vector{Float32}}, Flux.Conv{2, 2, typeof(NNlib.relu), Array{Float32, 4}, Vector{Float32}}, Flux.MaxPool{2, 4}, Flux.Conv{2, 2, typeof(NNlib.relu), Array{Float32, 4}, Vector{Float32}}, Flux.Conv{2, 2, typeof(NNlib.relu), Array{Float32, 4}, Vector{Float32}}, Flux.Conv{2, 2, typeof(NNlib.relu), Array{Float32, 4}, Vector{Float32}}, Flux.MaxPool{2, 4}}, src::Tuple{@NamedTuple{σ::Tuple{}, weight::Array{Float32, 4}, bias::Vector{Float32}, stride::Tuple{Int64, Int64}, pad::Tuple{Int64, Int64}, dilation::Tuple{Int64, Int64}, groups::Int64}, @NamedTuple{σ::Tuple{}, weight::Array{Float32, 4}, bias::Vector{Float32}, stride::Tuple{Int64, Int64}, pad::Tuple{Int64, Int64}, dilation::Tuple{Int64, Int64}, groups::Int64}, Tuple{}, @NamedTuple{σ::Tuple{}, weight::Array{Float32, ...",
            "    @ Flux ~/.julia/packages/Flux/3711C/src/loading.jl:105",
            "  [3] loadmodel!(dst::Flux.Chain{Tuple{Flux.Conv{2, 2, typeof(NNlib.relu), Array{Float32, 4}, Vector{Float32}}, Flux.Conv{2, 2, typeof(NNlib.relu), Array{Float32, 4}, Vector{Float32}}, Flux.MaxPool{2, 4}, Flux.Conv{2, 2, typeof(NNlib.relu), Array{Float32, 4}, Vector{Float32}}, Flux.Conv{2, 2, typeof(NNlib.relu), Array{Float32, 4}, Vector{Float32}}, Flux.MaxPool{2, 4}, Flux.Conv{2, 2, typeof(NNlib.relu), Array{Float32, 4}, Vector{Float32}}, Flux.Conv{2, 2, typeof(NNlib.relu), Array{Float32, 4}, Vector{Float32}}, Flux.Conv{2, 2, typeof(NNlib.relu), Array{Float32, 4}, Vector{Float32}}, Flux.MaxPool{2, 4}, Flux.Conv{2, 2, typeof(NNlib.relu), Array{Float32, 4}, Vector{Float32}}, Flux.Conv{2, 2, typeof(NNlib.relu), Array{Float32, 4}, Vector{Float32}}, Flux.Conv{2, 2, typeof(NNlib.relu), Array{Float32, 4}, Vector{Float32}}, Flux.MaxPool{2, 4}, Flux.Conv{2, 2, typeof(NNlib.relu), Array{Float32, 4}, Vector{Float32}}, Flux.Conv{2, 2, typeof(NNlib.relu), Array{Float32, 4}, Vector{Float32}}, Flux.Conv{2, 2, typeof(NNlib.relu), Array{Float32, 4}, Vector{Float32}}, Flux.MaxPool{2, 4}}}, src::@NamedTuple{layers::Tuple{@NamedTuple{σ::Tuple{}, weight::Array{Float32, 4}, bias::Vector{Float32}, stride::Tuple{Int64, Int64}, pad::Tuple{Int64, Int64}, dilation::Tuple{Int64, Int64}, groups::Int64}, @NamedTuple{σ::Tuple{}, weight::Array{Float32, 4}, bias::Vector{Float32}, stride::Tuple{Int64, Int64}, pad::Tuple{Int64, Int64}, dilation::Tuple{Int64, Int64}, groups::Int64}, Tuple{}, @NamedTuple{σ::...",
            "    @ Flux ~/.julia/packages/Flux/3711C/src/loading.jl:105",
            "  [4] loadmodel!(dst::Tuple{Flux.Chain{Tuple{Flux.Conv{2, 2, typeof(NNlib.relu), Array{Float32, 4}, Vector{Float32}}, Flux.Conv{2, 2, typeof(NNlib.relu), Array{Float32, 4}, Vector{Float32}}, Flux.MaxPool{2, 4}, Flux.Conv{2, 2, typeof(NNlib.relu), Array{Float32, 4}, Vector{Float32}}, Flux.Conv{2, 2, typeof(NNlib.relu), Array{Float32, 4}, Vector{Float32}}, Flux.MaxPool{2, 4}, Flux.Conv{2, 2, typeof(NNlib.relu), Array{Float32, 4}, Vector{Float32}}, Flux.Conv{2, 2, typeof(NNlib.relu), Array{Float32, 4}, Vector{Float32}}, Flux.Conv{2, 2, typeof(NNlib.relu), Array{Float32, 4}, Vector{Float32}}, Flux.MaxPool{2, 4}, Flux.Conv{2, 2, typeof(NNlib.relu), Array{Float32, 4}, Vector{Float32}}, Flux.Conv{2, 2, typeof(NNlib.relu), Array{Float32, 4}, Vector{Float32}}, Flux.Conv{2, 2, typeof(NNlib.relu), Array{Float32, 4}, Vector{Float32}}, Flux.MaxPool{2, 4}, Flux.Conv{2, 2, typeof(NNlib.relu), Array{Float32, 4}, Vector{Float32}}, Flux.Conv{2, 2, typeof(NNlib.relu), Array{Float32, 4}, Vector{Float32}}, Flux.Conv{2, 2, typeof(NNlib.relu), Array{Float32, 4}, Vector{Float32}}, Flux.MaxPool{2, 4}}}, Flux.Chain{Tuple{typeof(MLUtils.flatten), Flux.Dense{typeof(NNlib.relu), Matrix{Float32}, Vector{Float32}}, Flux.Dropout{Float64, Colon, Random.TaskLocalRNG}, Flux.Dense{typeof(NNlib.relu), Matrix{Float32}, Vector{Float32}}, Flux.Dropout{Float64, Colon, Random.TaskLocalRNG}, Flux.Dense{typeof(identity), Matrix{Float32}, Vector{Float32}}}}}, src::Tuple{@NamedTuple{layers::Tuple{@NamedTuple{σ::Tuple{...",
            "    @ Flux ~/.julia/packages/Flux/3711C/src/loading.jl:105",
            "  [5] loadmodel!(dst::Flux.Chain{Tuple{Flux.Chain{Tuple{Flux.Conv{2, 2, typeof(NNlib.relu), Array{Float32, 4}, Vector{Float32}}, Flux.Conv{2, 2, typeof(NNlib.relu), Array{Float32, 4}, Vector{Float32}}, Flux.MaxPool{2, 4}, Flux.Conv{2, 2, typeof(NNlib.relu), Array{Float32, 4}, Vector{Float32}}, Flux.Conv{2, 2, typeof(NNlib.relu), Array{Float32, 4}, Vector{Float32}}, Flux.MaxPool{2, 4}, Flux.Conv{2, 2, typeof(NNlib.relu), Array{Float32, 4}, Vector{Float32}}, Flux.Conv{2, 2, typeof(NNlib.relu), Array{Float32, 4}, Vector{Float32}}, Flux.Conv{2, 2, typeof(NNlib.relu), Array{Float32, 4}, Vector{Float32}}, Flux.MaxPool{2, 4}, Flux.Conv{2, 2, typeof(NNlib.relu), Array{Float32, 4}, Vector{Float32}}, Flux.Conv{2, 2, typeof(NNlib.relu), Array{Float32, 4}, Vector{Float32}}, Flux.Conv{2, 2, typeof(NNlib.relu), Array{Float32, 4}, Vector{Float32}}, Flux.MaxPool{2, 4}, Flux.Conv{2, 2, typeof(NNlib.relu), Array{Float32, 4}, Vector{Float32}}, Flux.Conv{2, 2, typeof(NNlib.relu), Array{Float32, 4}, Vector{Float32}}, Flux.Conv{2, 2, typeof(NNlib.relu), Array{Float32, 4}, Vector{Float32}}, Flux.MaxPool{2, 4}}}, Flux.Chain{Tuple{typeof(MLUtils.flatten), Flux.Dense{typeof(NNlib.relu), Matrix{Float32}, Vector{Float32}}, Flux.Dropout{Float64, Colon, Random.TaskLocalRNG}, Flux.Dense{typeof(NNlib.relu), Matrix{Float32}, Vector{Float32}}, Flux.Dropout{Float64, Colon, Random.TaskLocalRNG}, Flux.Dense{typeof(identity), Matrix{Float32}, Vector{Float32}}}}}}, src::@NamedTuple{layers::Tuple{@NamedTuple{lay...",
            "    @ Flux ~/.julia/packages/Flux/3711C/src/loading.jl:105",
            "  [6] loadmodel!(dst::VGG, src::@NamedTuple{layers::@NamedTuple{layers::Tuple{@NamedTuple{layers::Tuple{@NamedTuple{σ::Tuple{}, weight::Array{Float32, 4}, bias::Vector{Float32}, stride::Tuple{Int64, Int64}, pad::Tuple{Int64, Int64}, dilation::Tuple{Int64, Int64}, groups::Int64}, @NamedTuple{σ::Tuple{}, weight::Array{Float32, 4}, bias::Vector{Float32}, stride::Tuple{Int64, Int64}, pad::Tuple{Int64, Int64}, dilation::Tuple{Int64, Int64}, groups::Int64}, Tuple{}, @NamedTuple{σ::Tuple{}, weight::Array{Float32, 4}, bias::Vector{Float32}, stride::Tuple{Int64, Int64}, pad::Tuple{Int64, Int64}, dilation::Tuple{Int64, Int64}, groups::Int64}, @NamedTuple{σ::Tuple{}, weight::Array{Float32, 4}, bias::Vector{Float32}, stride::Tuple{Int64, Int64}, pad::Tuple{Int64, Int64}, dilation::Tuple{Int64, Int64}, groups::Int64}, Tuple{}, @NamedTuple{σ::Tuple{}, weight::Array{Float32, 4}, bias::Vector{Float32}, stride::Tuple{Int64, Int64}, pad::Tuple{Int64, Int64}, dilation::Tuple{Int64, Int64}, groups::Int64}, @NamedTuple{σ::Tuple{}, weight::Array{Float32, 4}, bias::Vector{Float32}, stride::Tuple{Int64, Int64}, pad::Tuple{Int64, Int64}, dilation::Tuple{Int64, Int64}, groups::Int64}, @NamedTuple{σ::Tuple{}, weight::Array{Float32, 4}, bias::Vector{Float32}, stride::Tuple{Int64, Int64}, pad::Tuple{Int64, Int64}, dilation::Tuple{Int64, Int64}, groups::Int64}, Tuple{}, @NamedTuple{σ::Tuple{}, weight::Array{Float32, 4}, bias::Vector{Float32}, stride::Tuple{Int64, Int64}, pad::Tuple{Int64, Int64}, dilat...",
            "    @ Flux ~/.julia/packages/Flux/3711C/src/loading.jl:105",
            "  [7] loadmodel!(dst::VGG, src::@NamedTuple{layers::@NamedTuple{layers::Tuple{@NamedTuple{layers::Tuple{@NamedTuple{σ::Tuple{}, weight::Array{Float32, 4}, bias::Vector{Float32}, stride::Tuple{Int64, Int64}, pad::Tuple{Int64, Int64}, dilation::Tuple{Int64, Int64}, groups::Int64}, @NamedTuple{σ::Tuple{}, weight::Array{Float32, 4}, bias::Vector{Float32}, stride::Tuple{Int64, Int64}, pad::Tuple{Int64, Int64}, dilation::Tuple{Int64, Int64}, groups::Int64}, Tuple{}, @NamedTuple{σ::Tuple{}, weight::Array{Float32, 4}, bias::Vector{Float32}, stride::Tuple{Int64, Int64}, pad::Tuple{Int64, Int64}, dilation::Tuple{Int64, Int64}, groups::Int64}, @NamedTuple{σ::Tuple{}, weight::Array{Float32, 4}, bias::Vector{Float32}, stride::Tuple{Int64, Int64}, pad::Tuple{Int64, Int64}, dilation::Tuple{Int64, Int64}, groups::Int64}, Tuple{}, @NamedTuple{σ::Tuple{}, weight::Array{Float32, 4}, bias::Vector{Float32}, stride::Tuple{Int64, Int64}, pad::Tuple{Int64, Int64}, dilation::Tuple{Int64, Int64}, groups::Int64}, @NamedTuple{σ::Tuple{}, weight::Array{Float32, 4}, bias::Vector{Float32}, stride::Tuple{Int64, Int64}, pad::Tuple{Int64, Int64}, dilation::Tuple{Int64, Int64}, groups::Int64}, @NamedTuple{σ::Tuple{}, weight::Array{Float32, 4}, bias::Vector{Float32}, stride::Tuple{Int64, Int64}, pad::Tuple{Int64, Int64}, dilation::Tuple{Int64, Int64}, groups::Int64}, Tuple{}, @NamedTuple{σ::Tuple{}, weight::Array{Float32, 4}, bias::Vector{Float32}, stride::Tuple{Int64, Int64}, pad::Tuple{Int64, Int64}, dilat...",
            "    @ Flux ~/.julia/packages/Flux/3711C/src/loading.jl:90",
            "  [8] loadpretrain!(model::VGG, artifact_name::String)",
            "    @ Metalhead ~/.julia/packages/Metalhead/sKQks/src/pretrain.jl:57",
            "  [9] VGG(depth::Int64; pretrain::Bool, batchnorm::Bool, inchannels::Int64, nclasses::Int64)",
            "    @ Metalhead ~/.julia/packages/Metalhead/sKQks/src/convnets/vgg.jl:143",
            " [10] top-level scope",
            "    @ In[5]:1"
          ]
        }
      ],
      "source": [
        "vgg = VGG(16; pretrain=true)"
      ]
    },
    {
      "cell_type": "code",
      "execution_count": 6,
      "id": "69369c55-a2cf-41a1-a408-72aa4538965b",
      "metadata": {
        "id": "69369c55-a2cf-41a1-a408-72aa4538965b"
      },
      "outputs": [],
      "source": [
        "using DataAugmentation"
      ]
    },
    {
      "cell_type": "code",
      "execution_count": 7,
      "id": "e058f571-eedc-4d3c-906e-7c9bdc211c3b",
      "metadata": {
        "id": "e058f571-eedc-4d3c-906e-7c9bdc211c3b",
        "outputId": "43c37344-cf96-412d-c512-803413f0a9ad",
        "colab": {
          "base_uri": "https://localhost:8080/"
        }
      },
      "outputs": [
        {
          "output_type": "execute_result",
          "data": {
            "text/plain": [
              "Sequence{Tuple{Crop{2, DataAugmentation.FromCenter}, ImageToTensor{Float32}}}((Crop{2, DataAugmentation.FromCenter}((224, 224), DataAugmentation.FromCenter()), ImageToTensor{Float32}()))"
            ]
          },
          "metadata": {},
          "execution_count": 7
        }
      ],
      "source": [
        "tfm = CenterCrop((224, 224)) |> ImageToTensor()"
      ]
    },
    {
      "cell_type": "code",
      "execution_count": 8,
      "id": "9e3f43f2-e0a9-425a-901e-0c32c8e0cd6a",
      "metadata": {
        "id": "9e3f43f2-e0a9-425a-901e-0c32c8e0cd6a"
      },
      "outputs": [],
      "source": [
        "using Flux\n",
        "using Flux: onecold, onehotbatch"
      ]
    },
    {
      "cell_type": "code",
      "execution_count": 9,
      "id": "ff2ce582-614d-4986-9f1b-f894cb2e4fbd",
      "metadata": {
        "id": "ff2ce582-614d-4986-9f1b-f894cb2e4fbd",
        "outputId": "25b9d057-3ca5-46ce-8203-e7a1f14534cf",
        "colab": {
          "base_uri": "https://localhost:8080/",
          "height": 124
        }
      },
      "outputs": [
        {
          "output_type": "error",
          "ename": "LoadError",
          "evalue": "UndefVarError: `vgg` not defined",
          "traceback": [
            "UndefVarError: `vgg` not defined",
            "",
            "Stacktrace:",
            " [1] top-level scope",
            "   @ In[9]:1"
          ]
        }
      ],
      "source": [
        "model = Chain(\n",
        "    vgg[1:end-1],\n",
        "    vgg[end][1:end-1],\n",
        "    # Replace the last layer\n",
        "    Dense(4096, 256),\n",
        "    Dense(256, 10)\n",
        "    ) |> gpu"
      ]
    },
    {
      "cell_type": "code",
      "execution_count": 10,
      "id": "fefa85dc-b5d0-4d0f-995f-32e24c2cff8e",
      "metadata": {
        "id": "fefa85dc-b5d0-4d0f-995f-32e24c2cff8e"
      },
      "outputs": [],
      "source": [
        "using MLDatasets"
      ]
    },
    {
      "cell_type": "markdown",
      "id": "2b081c74-e9b9-49d4-85ef-634c5d755fdf",
      "metadata": {
        "id": "2b081c74-e9b9-49d4-85ef-634c5d755fdf"
      },
      "source": [
        "Load the MNIST dataset"
      ]
    },
    {
      "cell_type": "code",
      "execution_count": 11,
      "id": "425accbf-62ff-40f4-8eac-94bfd619b6bc",
      "metadata": {
        "id": "425accbf-62ff-40f4-8eac-94bfd619b6bc",
        "outputId": "480351f2-ff91-46e7-9d65-1c0c5110197f",
        "colab": {
          "base_uri": "https://localhost:8080/"
        }
      },
      "outputs": [
        {
          "output_type": "execute_result",
          "data": {
            "text/plain": [
              "get_data (generic function with 1 method)"
            ]
          },
          "metadata": {},
          "execution_count": 11
        }
      ],
      "source": [
        "function get_data(split)\n",
        "    data = MNIST(split)\n",
        "    imgs, y = data.features ./ 255, onehotbatch(data.targets, 0:9);\n",
        "    X = []\n",
        "    for i in 1:length(y)\n",
        "        img = apply(tfm, Image(RGB.(imgs[:,:,i]))) |> itemdata\n",
        "        push!(X, img)\n",
        "    end\n",
        "    loader = Flux.Data.DataLoader((X, y); batchsize=64, shuffle=true) |> gpu;\n",
        "    return loader\n",
        "end"
      ]
    },
    {
      "cell_type": "code",
      "execution_count": 12,
      "id": "00f2c515-22e2-4c1a-a72c-12f23aa3623e",
      "metadata": {
        "id": "00f2c515-22e2-4c1a-a72c-12f23aa3623e"
      },
      "outputs": [],
      "source": [
        "using Images"
      ]
    },
    {
      "cell_type": "code",
      "execution_count": null,
      "id": "863ee73e-e2b7-451e-b4bf-d56a112642a4",
      "metadata": {
        "id": "863ee73e-e2b7-451e-b4bf-d56a112642a4"
      },
      "outputs": [],
      "source": [
        "train_loader = get_data(:train);\n",
        "test_loader = get_data(:test);"
      ]
    },
    {
      "cell_type": "markdown",
      "id": "047f0416-f8d7-4a2f-8cdb-c75eef0cd452",
      "metadata": {
        "id": "047f0416-f8d7-4a2f-8cdb-c75eef0cd452"
      },
      "source": [
        "**Define a loss function and an optimizer**"
      ]
    },
    {
      "cell_type": "code",
      "execution_count": null,
      "id": "0b4da587-d7b8-4ad5-aed3-a37c131bd6c7",
      "metadata": {
        "id": "0b4da587-d7b8-4ad5-aed3-a37c131bd6c7"
      },
      "outputs": [],
      "source": [
        "loss_fn = Flux.logitcrossentropy\n",
        "opt_state = Flux.setup(Adam(3e-3), model[end]) # Freeze the weights of the pre-trained layers"
      ]
    },
    {
      "cell_type": "code",
      "execution_count": null,
      "id": "511681f7-97a9-4550-bfbf-a1d425aa2a8d",
      "metadata": {
        "id": "511681f7-97a9-4550-bfbf-a1d425aa2a8d"
      },
      "outputs": [],
      "source": [
        "using ProgressMeter"
      ]
    },
    {
      "cell_type": "code",
      "execution_count": null,
      "id": "ac33cc65-7856-43a5-8c55-18010e85cb57",
      "metadata": {
        "id": "ac33cc65-7856-43a5-8c55-18010e85cb57"
      },
      "outputs": [],
      "source": [
        "epochs = 3"
      ]
    },
    {
      "cell_type": "markdown",
      "id": "6840ce40-8f1d-4359-9a31-292cc8a55072",
      "metadata": {
        "id": "6840ce40-8f1d-4359-9a31-292cc8a55072"
      },
      "source": [
        "Fine-tune the model"
      ]
    },
    {
      "cell_type": "code",
      "execution_count": null,
      "id": "c13c8019-2656-4456-90e1-1d9a9124a607",
      "metadata": {
        "id": "c13c8019-2656-4456-90e1-1d9a9124a607"
      },
      "outputs": [],
      "source": [
        "for epoch in 1:epochs\n",
        "    @showprogress for (X, y) in train_loader\n",
        "        # Compute the gradient of the loss with respect to the model's parameters\n",
        "        loss, ∇ = Flux.withgradient(model) do m\n",
        "            ŷ = m(X)\n",
        "            loss_fn(ŷ, y)\n",
        "        end\n",
        "        # Update the model's parameters using the optimizer\n",
        "        Flux.update!(opt_state, model, ∇[1])\n",
        "    end\n",
        "    @info \"Calculate the accuracy on the test set\"\n",
        "    for (X, y) in test_loader\n",
        "        ys = onecold(y, 0:9) |> cpu\n",
        "        ŷ  = onecold(model(X), 0:9) |> cpu\n",
        "        accuracy = sum( ys .== ŷ ) / length(ys)\n",
        "        println(\"Epoch: $epoch, Accuracy: $accuracy\")\n",
        "    end\n",
        "end"
      ]
    }
  ],
  "metadata": {
    "kernelspec": {
      "display_name": "Julia",
      "name": "julia"
    },
    "language_info": {
      "name": "julia"
    },
    "colab": {
      "provenance": [],
      "gpuType": "T4",
      "include_colab_link": true
    },
    "accelerator": "GPU"
  },
  "nbformat": 4,
  "nbformat_minor": 5
}