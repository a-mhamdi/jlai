{
  "cells": [
    {
      "cell_type": "markdown",
      "metadata": {
        "id": "view-in-github",
        "colab_type": "text"
      },
      "source": [
        "<a href=\"https://colab.research.google.com/github/a-mhamdi/jlai/blob/main/Codes/Julia/Part-3/vae/vae.ipynb\" target=\"_parent\"><img src=\"https://colab.research.google.com/assets/colab-badge.svg\" alt=\"Open In Colab\"/></a>"
      ]
    },
    {
      "cell_type": "markdown",
      "id": "5cedd213-90cc-4106-91d3-ec0ac4c8ff65",
      "metadata": {
        "id": "5cedd213-90cc-4106-91d3-ec0ac4c8ff65"
      },
      "source": [
        "# VARIATIONAL AUTOENCODER (VAE)\n",
        "---"
      ]
    },
    {
      "cell_type": "markdown",
      "id": "58bdb6b7-1714-405f-8112-699ff9c37c6a",
      "metadata": {
        "id": "58bdb6b7-1714-405f-8112-699ff9c37c6a"
      },
      "source": [
        "**VAE** implemented in `Julia` using the `Flux.jl` library"
      ]
    },
    {
      "cell_type": "code",
      "execution_count": 1,
      "id": "beab227b-2d88-4b30-ac4d-52f0ebbaf1c3",
      "metadata": {
        "id": "beab227b-2d88-4b30-ac4d-52f0ebbaf1c3",
        "outputId": "6e50fcc6-6496-4238-e0cf-0b949270da44",
        "colab": {
          "base_uri": "https://localhost:8080/"
        }
      },
      "outputs": [
        {
          "output_type": "stream",
          "name": "stdout",
          "text": [
            "Julia Version 1.11.5\n",
            "Commit 760b2e5b739 (2025-04-14 06:53 UTC)\n",
            "Build Info:\n",
            "  Official https://julialang.org/ release\n",
            "Platform Info:\n",
            "  OS: Linux (x86_64-linux-gnu)\n",
            "  CPU: 2 × Intel(R) Xeon(R) CPU @ 2.00GHz\n",
            "  WORD_SIZE: 64\n",
            "  LLVM: libLLVM-16.0.6 (ORCJIT, skylake-avx512)\n",
            "Threads: 2 default, 0 interactive, 1 GC (on 2 virtual cores)\n",
            "Environment:\n",
            "  LD_LIBRARY_PATH = /usr/lib64-nvidia\n",
            "  JULIA_NUM_THREADS = auto\n"
          ]
        }
      ],
      "source": [
        "versioninfo()"
      ]
    },
    {
      "cell_type": "markdown",
      "metadata": {
        "id": "b80ea0d7"
      },
      "source": [
        "Manage project dependencies."
      ],
      "id": "b80ea0d7"
    },
    {
      "cell_type": "code",
      "metadata": {
        "colab": {
          "base_uri": "https://localhost:8080/"
        },
        "id": "419fe5c4",
        "outputId": "44e2ae68-8d35-4c19-933b-04f0a869f58c"
      },
      "source": [
        "pkgs = \"\"\"[deps]\n",
        "BSON = \"fbb218c0-5317-5bc6-957e-2ee96dd4b1f0\"\n",
        "CUDA = \"052768ef-5323-5732-b1bb-66c8b64840ba\"\n",
        "CairoMakie = \"13f3f980-e62b-5c42-98c6-ff1f3baf88f0\"\n",
        "Flux = \"587475ba-b771-5e3f-ad9e-33799f191a9c\"\n",
        "ImageInTerminal = \"d8c32880-2388-543b-8c61-d9f865259254\"\n",
        "ImageShow = \"4e3cecfd-b093-5904-9786-8bbb286a6a31\"\n",
        "JLD2 = \"033835bb-8acc-5ee8-8aae-3f567f8a3819\"\n",
        "MLDatasets = \"eb30cadb-4394-5ae3-aed4-317e484a6458\"\n",
        "Markdown = \"d6f4376e-aef5-505a-96c1-9c027394607a\"\n",
        "ProgressMeter = \"92933f4c-e287-5a05-a399-4b506db050ca\"\n",
        "Statistics = \"10745b16-79ce-11e8-11f9-7d13ad32a3b2\"\n",
        "cuDNN = \"02a925ec-e4fe-4b08-9a7e-0d78e3d38ccd\"\n",
        "\"\"\"\n",
        "\n",
        "open(\"Project.toml\", \"w\") do file\n",
        "    write(file, pkgs)\n",
        "end"
      ],
      "id": "419fe5c4",
      "execution_count": 2,
      "outputs": [
        {
          "output_type": "execute_result",
          "data": {
            "text/plain": [
              "607"
            ]
          },
          "metadata": {},
          "execution_count": 2
        }
      ]
    },
    {
      "cell_type": "markdown",
      "metadata": {
        "id": "6ce9fd21"
      },
      "source": [
        "Activate the project environment and instantiate the listed packages."
      ],
      "id": "6ce9fd21"
    },
    {
      "cell_type": "code",
      "metadata": {
        "colab": {
          "base_uri": "https://localhost:8080/"
        },
        "id": "e28e9bd5",
        "outputId": "09a599a9-51bb-4145-ff0f-38774405d9c3"
      },
      "source": [
        "_ = begin\n",
        "  import Pkg;\n",
        "  Pkg.activate(\".\");\n",
        "  Pkg.instantiate();\n",
        "end"
      ],
      "id": "e28e9bd5",
      "execution_count": 3,
      "outputs": [
        {
          "output_type": "stream",
          "name": "stderr",
          "text": [
            "\u001b[32m\u001b[1m  Activating\u001b[22m\u001b[39m project at `/content`\n",
            "\u001b[92m\u001b[1mPrecompiling\u001b[22m\u001b[39m project...\n",
            "  15086.0 ms\u001b[32m  ✓ \u001b[39mCUDA → SpecialFunctionsExt\n",
            "  14899.5 ms\u001b[32m  ✓ \u001b[39m\u001b[90mAtomix → AtomixCUDAExt\u001b[39m\n",
            "  15229.6 ms\u001b[32m  ✓ \u001b[39mCUDA → ChainRulesCoreExt\n",
            "  14451.8 ms\u001b[32m  ✓ \u001b[39mCUDA → EnzymeCoreExt\n",
            "  14928.3 ms\u001b[32m  ✓ \u001b[39m\u001b[90mMLDataDevices → MLDataDevicesCUDAExt\u001b[39m\n",
            "  16803.4 ms\u001b[32m  ✓ \u001b[39m\u001b[90mStridedViews → StridedViewsCUDAExt\u001b[39m\n",
            "  11294.7 ms\u001b[32m  ✓ \u001b[39m\u001b[90mNNlib → NNlibCUDAExt\u001b[39m\n",
            "  14711.2 ms\u001b[32m  ✓ \u001b[39mcuDNN\n",
            "  14986.5 ms\u001b[32m  ✓ \u001b[39m\u001b[90mMLDataDevices → MLDataDevicescuDNNExt\u001b[39m\n",
            "  15400.3 ms\u001b[32m  ✓ \u001b[39m\u001b[90mNNlib → NNlibCUDACUDNNExt\u001b[39m\n",
            "  16882.5 ms\u001b[32m  ✓ \u001b[39mFlux → FluxCUDAcuDNNExt\n",
            "  11 dependencies successfully precompiled in 64 seconds. 446 already precompiled.\n"
          ]
        }
      ]
    },
    {
      "cell_type": "markdown",
      "metadata": {
        "id": "cbf4b58b"
      },
      "source": [
        "Display the status of the packages in the active project environment."
      ],
      "id": "cbf4b58b"
    },
    {
      "cell_type": "code",
      "metadata": {
        "colab": {
          "base_uri": "https://localhost:8080/"
        },
        "id": "137c697e",
        "outputId": "40e16c19-bab7-4184-afb0-a44fa328142a"
      },
      "source": [
        "Pkg.status()"
      ],
      "id": "137c697e",
      "execution_count": 4,
      "outputs": [
        {
          "output_type": "stream",
          "name": "stdout",
          "text": [
            "\u001b[32m\u001b[1mStatus\u001b[22m\u001b[39m `/content/Project.toml`\n",
            "  \u001b[90m[fbb218c0] \u001b[39mBSON v0.3.9\n",
            "\u001b[33m⌅\u001b[39m \u001b[90m[052768ef] \u001b[39mCUDA v5.8.5\n",
            "  \u001b[90m[13f3f980] \u001b[39mCairoMakie v0.15.6\n",
            "  \u001b[90m[587475ba] \u001b[39mFlux v0.16.5\n",
            "  \u001b[90m[d8c32880] \u001b[39mImageInTerminal v0.5.4\n",
            "  \u001b[90m[4e3cecfd] \u001b[39mImageShow v0.3.8\n",
            "\u001b[33m⌅\u001b[39m \u001b[90m[033835bb] \u001b[39mJLD2 v0.5.15\n",
            "  \u001b[90m[eb30cadb] \u001b[39mMLDatasets v0.7.18\n",
            "  \u001b[90m[92933f4c] \u001b[39mProgressMeter v1.11.0\n",
            "  \u001b[90m[10745b16] \u001b[39mStatistics v1.11.1\n",
            "  \u001b[90m[02a925ec] \u001b[39mcuDNN v1.4.5\n",
            "  \u001b[90m[d6f4376e] \u001b[39mMarkdown v1.11.0\n",
            "\u001b[36m\u001b[1mInfo\u001b[22m\u001b[39m Packages marked with \u001b[33m⌅\u001b[39m have new versions available but compatibility constraints restrict them from upgrading. To see why use `status --outdated`\n"
          ]
        }
      ]
    },
    {
      "cell_type": "markdown",
      "metadata": {
        "id": "42baf5e9"
      },
      "source": [
        "Import the Flux library and some of its submodules."
      ],
      "id": "42baf5e9"
    },
    {
      "cell_type": "code",
      "metadata": {
        "id": "eeec93c5"
      },
      "source": [
        "using Flux # v\"0.16.0\"\n",
        "using Flux: @functor\n",
        "using Flux: DataLoader\n",
        "using Flux: onecold, onehotbatch"
      ],
      "id": "eeec93c5",
      "execution_count": 5,
      "outputs": []
    },
    {
      "cell_type": "markdown",
      "metadata": {
        "id": "df6bb65f"
      },
      "source": [
        "Import the `CUDA` library for **GPU** acceleration."
      ],
      "id": "df6bb65f"
    },
    {
      "cell_type": "code",
      "metadata": {
        "id": "eb0563f0"
      },
      "source": [
        "using CUDA"
      ],
      "id": "eb0563f0",
      "execution_count": 6,
      "outputs": []
    },
    {
      "cell_type": "markdown",
      "metadata": {
        "id": "3e919973"
      },
      "source": [
        "Import the `ProgressMeter` library for displaying progress during training."
      ],
      "id": "3e919973"
    },
    {
      "cell_type": "code",
      "metadata": {
        "id": "10cc5029"
      },
      "source": [
        "using ProgressMeter: Progress, next!"
      ],
      "id": "10cc5029",
      "execution_count": 7,
      "outputs": []
    },
    {
      "cell_type": "markdown",
      "metadata": {
        "id": "a9726641"
      },
      "source": [
        "Load the **MNIST** dataset."
      ],
      "id": "a9726641"
    },
    {
      "cell_type": "code",
      "metadata": {
        "colab": {
          "base_uri": "https://localhost:8080/"
        },
        "id": "74ab5610",
        "outputId": "38386e1f-704e-42e1-c825-c8283b782d7c"
      },
      "source": [
        "using MLDatasets\n",
        "d = MNIST()"
      ],
      "id": "74ab5610",
      "execution_count": 8,
      "outputs": [
        {
          "output_type": "execute_result",
          "data": {
            "text/plain": [
              "dataset MNIST:\n",
              "  metadata  =>    Dict{String, Any} with 3 entries\n",
              "  split     =>    :train\n",
              "  features  =>    28×28×60000 Array{Float32, 3}\n",
              "  targets   =>    60000-element Vector{Int64}"
            ]
          },
          "metadata": {},
          "execution_count": 8
        }
      ]
    },
    {
      "cell_type": "markdown",
      "metadata": {
        "id": "de0607b8"
      },
      "source": [
        "Let's define a mutable struct `HyperParams` to hold hyperparameters for the **VAE** model."
      ],
      "id": "de0607b8"
    },
    {
      "cell_type": "code",
      "metadata": {
        "colab": {
          "base_uri": "https://localhost:8080/"
        },
        "id": "d9661cab",
        "outputId": "5466acd5-a757-45dd-b817-a770aa187d7d"
      },
      "source": [
        "Base.@kwdef mutable struct HyperParams\n",
        "    η = 3f-3                        # Learning rate\n",
        "    λ = 1f-2                        # Regularization parameter\n",
        "    batchsize = 64                  # Batch size\n",
        "    epochs = 16                     # Number of epochs\n",
        "    split = :train                  # Split data into `train` and `test`\n",
        "    input_dim = 28*28               # Input dimension\n",
        "    hidden_dim = 512                # Hidden dimension\n",
        "    latent_dim = 2                  # Latent dimension\n",
        "    # save_path = \"Output\"          # Results folder\n",
        "end"
      ],
      "id": "d9661cab",
      "execution_count": 9,
      "outputs": [
        {
          "output_type": "execute_result",
          "data": {
            "text/plain": [
              "HyperParams"
            ]
          },
          "metadata": {},
          "execution_count": 9
        }
      ]
    },
    {
      "cell_type": "markdown",
      "metadata": {
        "id": "3eaa1c83"
      },
      "source": [
        "Load and prepare the **MNIST** data for training and testing."
      ],
      "id": "3eaa1c83"
    },
    {
      "cell_type": "code",
      "metadata": {
        "colab": {
          "base_uri": "https://localhost:8080/"
        },
        "id": "9588362e",
        "outputId": "bcbca4aa-2b22-422a-817b-051403a91e01"
      },
      "source": [
        "function get_data(; kws...)\n",
        "    args = HyperParams(; kws...);\n",
        "    # Split data\n",
        "    data = MNIST(split=args.split);\n",
        "    X = reshape(data.features, (args.input_dim, :));\n",
        "    loader = DataLoader(X; batchsize=args.batchsize, shuffle=true) |> gpu;\n",
        "    return loader\n",
        "end"
      ],
      "id": "9588362e",
      "execution_count": 10,
      "outputs": [
        {
          "output_type": "execute_result",
          "data": {
            "text/plain": [
              "get_data (generic function with 1 method)"
            ]
          },
          "metadata": {},
          "execution_count": 10
        }
      ]
    },
    {
      "cell_type": "markdown",
      "metadata": {
        "id": "cdddd059"
      },
      "source": [
        "Load the training and testing data using the `get_data` function."
      ],
      "id": "cdddd059"
    },
    {
      "cell_type": "code",
      "metadata": {
        "id": "46273111"
      },
      "source": [
        "train_loader = get_data();\n",
        "test_loader = get_data(split=:test);"
      ],
      "id": "46273111",
      "execution_count": 11,
      "outputs": []
    },
    {
      "cell_type": "markdown",
      "metadata": {
        "id": "32c1f683"
      },
      "source": [
        "This struct defines the encoder network for the **VAE**."
      ],
      "id": "32c1f683"
    },
    {
      "cell_type": "code",
      "metadata": {
        "id": "3b091596"
      },
      "source": [
        "struct Encoder\n",
        "    linear\n",
        "    μ\n",
        "    log_σ\n",
        "end"
      ],
      "id": "3b091596",
      "execution_count": 12,
      "outputs": []
    },
    {
      "cell_type": "markdown",
      "metadata": {
        "id": "24c631c2"
      },
      "source": [
        "This macro makes the `Encoder` struct compatible with Flux's automatic differentiation."
      ],
      "id": "24c631c2"
    },
    {
      "cell_type": "code",
      "metadata": {
        "colab": {
          "base_uri": "https://localhost:8080/"
        },
        "id": "c854e9df",
        "outputId": "57e6eca4-198d-4529-bf11-2a3142c3acec"
      },
      "source": [
        "@functor Encoder"
      ],
      "id": "c854e9df",
      "execution_count": 13,
      "outputs": [
        {
          "output_type": "stream",
          "name": "stderr",
          "text": [
            "\u001b[33m\u001b[1m┌ \u001b[22m\u001b[39m\u001b[33m\u001b[1mWarning: \u001b[22m\u001b[39mThe use of `Flux.@functor` is deprecated.\n",
            "\u001b[33m\u001b[1m│ \u001b[22m\u001b[39mMost likely, you should write `Flux.@layer MyLayer`which will add various convenience methods for your type,such as pretty-printing and use with Adapt.jl.\n",
            "\u001b[33m\u001b[1m│ \u001b[22m\u001b[39mHowever, this is not required. Flux.jl v0.15 uses Functors.jl v0.5,which makes exploration of most nested `struct`s opt-out instead of opt-in...so Flux will automatically see inside any custom struct definitions.\n",
            "\u001b[33m\u001b[1m│ \u001b[22m\u001b[39mIf you really want to apply the `@functor` macro to a custom struct, use `Functors.@functor` instead.\n",
            "\u001b[33m\u001b[1m└ \u001b[22m\u001b[39m\u001b[90m@ Flux ~/.julia/packages/Flux/uRn8o/src/deprecations.jl:101\u001b[39m\n"
          ]
        }
      ]
    },
    {
      "cell_type": "markdown",
      "metadata": {
        "id": "a43acdeb"
      },
      "source": [
        "Construct an `Encoder` model with specified input, hidden, and latent dimensions."
      ],
      "id": "a43acdeb"
    },
    {
      "cell_type": "code",
      "metadata": {
        "colab": {
          "base_uri": "https://localhost:8080/"
        },
        "id": "379be037",
        "outputId": "ca0bc9e6-0855-444b-9e7c-85b9bf4010ca"
      },
      "source": [
        "encoder(input_dim::Int, hidden_dim::Int, latent_dim::Int) = Encoder(\n",
        "    Dense(input_dim, hidden_dim, tanh),   # linear\n",
        "    Dense(hidden_dim, latent_dim),        # μ\n",
        "    Dense(hidden_dim, latent_dim),        # log_σ\n",
        "    ) |> gpu"
      ],
      "id": "379be037",
      "execution_count": 14,
      "outputs": [
        {
          "output_type": "execute_result",
          "data": {
            "text/plain": [
              "encoder (generic function with 1 method)"
            ]
          },
          "metadata": {},
          "execution_count": 14
        }
      ]
    },
    {
      "cell_type": "markdown",
      "metadata": {
        "id": "81810e2e"
      },
      "source": [
        "Define the forward pass for the encoder, returning the mean and log variance of the latent distribution."
      ],
      "id": "81810e2e"
    },
    {
      "cell_type": "code",
      "metadata": {
        "id": "06283740"
      },
      "source": [
        "function (encoder::Encoder)(x)\n",
        "    h = encoder.linear(x)\n",
        "    encoder.μ(h), encoder.log_σ(h)\n",
        "end"
      ],
      "id": "06283740",
      "execution_count": 15,
      "outputs": []
    },
    {
      "cell_type": "markdown",
      "metadata": {
        "id": "768b37d2"
      },
      "source": [
        "Construct a decoder model with specified input, hidden, and output dimensions."
      ],
      "id": "768b37d2"
    },
    {
      "cell_type": "code",
      "metadata": {
        "colab": {
          "base_uri": "https://localhost:8080/"
        },
        "id": "0b8713af",
        "outputId": "0370034b-341a-4e0b-d60f-51759b9c609a"
      },
      "source": [
        "decoder(input_dim::Int, hidden_dim::Int, latent_dim::Int) = Chain(\n",
        "    Dense(latent_dim, hidden_dim, tanh),\n",
        "    Dense(hidden_dim, input_dim)\n",
        "    ) |> gpu"
      ],
      "id": "0b8713af",
      "execution_count": 16,
      "outputs": [
        {
          "output_type": "execute_result",
          "data": {
            "text/plain": [
              "decoder (generic function with 1 method)"
            ]
          },
          "metadata": {},
          "execution_count": 16
        }
      ]
    },
    {
      "cell_type": "markdown",
      "metadata": {
        "id": "1c684a17"
      },
      "source": [
        "Define the forward pass for the **VAE**, encoding the input, sampling from the latent space, and decoding to reconstruct the input."
      ],
      "id": "1c684a17"
    },
    {
      "cell_type": "code",
      "metadata": {
        "colab": {
          "base_uri": "https://localhost:8080/"
        },
        "id": "3e66bf72",
        "outputId": "129a5d22-a09b-48a3-c06a-bc1ff953343e"
      },
      "source": [
        "function vae(x, enc, dec)\n",
        "    # Encode `x` into the latent space\n",
        "    μ, log_σ = enc(x)\n",
        "    # `z` si a sample from the latent distribution\n",
        "    z = μ + randn(Float32, size(log_σ)) .* exp.(log_σ)\n",
        "    # Decode the latent representation into a reconstruction of `x`\n",
        "    x̂ = dec(z)\n",
        "    # Return μ, log_σ and x̂\n",
        "    μ, log_σ, x̂\n",
        "end"
      ],
      "id": "3e66bf72",
      "execution_count": 17,
      "outputs": [
        {
          "output_type": "execute_result",
          "data": {
            "text/plain": [
              "vae (generic function with 1 method)"
            ]
          },
          "metadata": {},
          "execution_count": 17
        }
      ]
    },
    {
      "cell_type": "markdown",
      "metadata": {
        "id": "07b10af2"
      },
      "source": [
        "Calculate the loss for the **VAE**, including the reconstruction loss, **KL** divergence loss, and **L2** regularization."
      ],
      "id": "07b10af2"
    },
    {
      "cell_type": "code",
      "metadata": {
        "colab": {
          "base_uri": "https://localhost:8080/"
        },
        "id": "e477a4ec",
        "outputId": "5cec9ba9-0d8e-47da-a5a2-5c4dd16a2dd9"
      },
      "source": [
        "function l(x, enc, dec, λ)\n",
        "    μ, log_σ, x̂ = vae(x, enc, dec)\n",
        "    len = size(x)[end]\n",
        "    # The reconstruction loss measures how well the VAE was able to reconstruct the input data\n",
        "    logp_x_z = -Flux.Losses.logitbinarycrossentropy(x̂, x, agg=sum) / len\n",
        "    # The KL divergence loss measures how close the latent distribution is to the normal distribution\n",
        "    kl_q_p = 5f-1 * sum(@. (-2f0 * log_σ - 1f0 + exp(2f0 * log_σ) + μ^2)) / len\n",
        "    # L2 Regularization\n",
        "    reg = λ * sum( θ -> sum(θ.^2), Flux.params(dec) )\n",
        "    # Sum of the reconstruction loss and the KL divergence loss\n",
        "    -logp_x_z + kl_q_p + reg\n",
        "end"
      ],
      "id": "e477a4ec",
      "execution_count": 18,
      "outputs": [
        {
          "output_type": "execute_result",
          "data": {
            "text/plain": [
              "l (generic function with 1 method)"
            ]
          },
          "metadata": {},
          "execution_count": 18
        }
      ]
    },
    {
      "cell_type": "markdown",
      "metadata": {
        "id": "f547947e"
      },
      "source": [
        "Train the **VAE** model for a specified number of epochs using the `Adam` optimizer."
      ],
      "id": "f547947e"
    },
    {
      "cell_type": "code",
      "metadata": {
        "colab": {
          "base_uri": "https://localhost:8080/"
        },
        "id": "e3756eb2",
        "outputId": "c8151434-d9d2-450f-d644-6da18bb361dd"
      },
      "source": [
        "function train(; kws...)\n",
        "    args = HyperParams(; kws...)\n",
        "\n",
        "    # Initialize `encoder` and `decoder`\n",
        "    enc_mdl = encoder(args.input_dim, args.hidden_dim, args.latent_dim)\n",
        "    dec_mdl = decoder(args.input_dim, args.hidden_dim, args.latent_dim)\n",
        "\n",
        "    # ADAM optimizers\n",
        "    opt_enc = Flux.setup(Adam(args.η), enc_mdl)\n",
        "    opt_dec = Flux.setup(Adam(args.η), dec_mdl)\n",
        "\n",
        "    for epoch in 1:args.epochs\n",
        "        printstyled(\"\\t***\\t === EPOCH $(epoch) === \\t*** \\n\", color=:magenta, bold=true)\n",
        "        progress = Progress(length(train_loader))\n",
        "        for X in train_loader\n",
        "                loss, back = Flux.pullback(enc_mdl, dec_mdl) do enc, dec\n",
        "                    l(X, enc, dec, args.λ)\n",
        "                end\n",
        "                grad_enc, grad_dec = back(1f0)\n",
        "                Flux.update!(opt_enc, enc_mdl, grad_enc) # Upd `encoder` params\n",
        "                Flux.update!(opt_dec, dec_mdl, grad_dec) # Upd `decoder` params\n",
        "                next!(progress; showvalues=[(:loss, loss)])\n",
        "        end\n",
        "    end\n",
        "\n",
        "    # Save the model\n",
        "    #=\n",
        "    using DrWatson: struct2dict\n",
        "    using BSON\n",
        "\n",
        "    mdl_path = joinpath(args.save_path, \"vae.bson\")\n",
        "    let args=struct2dict(args)\n",
        "        BSON.@save mdl_path encoder decoder args\n",
        "        @info \"Model saved to $(mdl_path)\"\n",
        "    end\n",
        "    =#\n",
        "\n",
        "    enc_mdl, dec_mdl\n",
        "end"
      ],
      "id": "e3756eb2",
      "execution_count": 19,
      "outputs": [
        {
          "output_type": "execute_result",
          "data": {
            "text/plain": [
              "train (generic function with 1 method)"
            ]
          },
          "metadata": {},
          "execution_count": 19
        }
      ]
    },
    {
      "cell_type": "markdown",
      "metadata": {
        "id": "04cb587b"
      },
      "source": [
        "Initiate the training process for the **VAE** model."
      ],
      "id": "04cb587b"
    },
    {
      "cell_type": "code",
      "metadata": {
        "id": "044826da"
      },
      "source": [
        "enc_model, dec_model = train()"
      ],
      "id": "044826da",
      "execution_count": null,
      "outputs": []
    }
  ],
  "metadata": {
    "kernelspec": {
      "display_name": "Julia",
      "name": "julia"
    },
    "language_info": {
      "name": "julia"
    },
    "colab": {
      "provenance": [],
      "gpuType": "T4",
      "include_colab_link": true
    },
    "accelerator": "GPU"
  },
  "nbformat": 4,
  "nbformat_minor": 5
}