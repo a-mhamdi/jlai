{
  "cells": [
    {
      "cell_type": "markdown",
      "metadata": {
        "id": "view-in-github",
        "colab_type": "text"
      },
      "source": [
        "<a href=\"https://colab.research.google.com/github/a-mhamdi/jlai/blob/main/Codes/Julia/Part-3/vae/vae.ipynb\" target=\"_parent\"><img src=\"https://colab.research.google.com/assets/colab-badge.svg\" alt=\"Open In Colab\"/></a>"
      ]
    },
    {
      "cell_type": "markdown",
      "id": "5cedd213-90cc-4106-91d3-ec0ac4c8ff65",
      "metadata": {
        "id": "5cedd213-90cc-4106-91d3-ec0ac4c8ff65"
      },
      "source": [
        "# VARIATIONAL AUTOENCODER (VAE)\n",
        "---"
      ]
    },
    {
      "cell_type": "markdown",
      "id": "58bdb6b7-1714-405f-8112-699ff9c37c6a",
      "metadata": {
        "id": "58bdb6b7-1714-405f-8112-699ff9c37c6a"
      },
      "source": [
        "VAE implemented in `Julia` using the `Flux.jl` library"
      ]
    },
    {
      "cell_type": "code",
      "execution_count": 1,
      "id": "beab227b-2d88-4b30-ac4d-52f0ebbaf1c3",
      "metadata": {
        "id": "beab227b-2d88-4b30-ac4d-52f0ebbaf1c3",
        "outputId": "dab59d62-e290-4d6c-8823-e22fc84b4e10",
        "colab": {
          "base_uri": "https://localhost:8080/"
        }
      },
      "outputs": [
        {
          "output_type": "stream",
          "name": "stdout",
          "text": [
            "Julia Version 1.10.8\n",
            "Commit 4c16ff44be8 (2025-01-22 10:06 UTC)\n",
            "Build Info:\n",
            "  Official https://julialang.org/ release\n",
            "Platform Info:\n",
            "  OS: Linux (x86_64-linux-gnu)\n",
            "  CPU: 2 × Intel(R) Xeon(R) CPU @ 2.20GHz\n",
            "  WORD_SIZE: 64\n",
            "  LIBM: libopenlibm\n",
            "  LLVM: libLLVM-15.0.7 (ORCJIT, broadwell)\n",
            "Threads: 2 default, 0 interactive, 1 GC (on 2 virtual cores)\n",
            "Environment:\n",
            "  LD_LIBRARY_PATH = /usr/lib64-nvidia\n",
            "  JULIA_NUM_THREADS = 2\n"
          ]
        }
      ],
      "source": [
        "versioninfo()"
      ]
    },
    {
      "cell_type": "code",
      "execution_count": 2,
      "id": "d9d8e2d6-eb3d-4446-a59a-dc8927ea4449",
      "metadata": {
        "id": "d9d8e2d6-eb3d-4446-a59a-dc8927ea4449",
        "outputId": "9ad22e11-503a-4794-e929-d5d93bb2e79c",
        "colab": {
          "base_uri": "https://localhost:8080/"
        }
      },
      "outputs": [
        {
          "output_type": "stream",
          "name": "stderr",
          "text": [
            "\u001b[32m\u001b[1m  Activating\u001b[22m\u001b[39m new project at `/content`\n"
          ]
        },
        {
          "output_type": "stream",
          "name": "stdout",
          "text": [
            "\u001b[32m\u001b[1mStatus\u001b[22m\u001b[39m `/content/Project.toml` (empty project)\n"
          ]
        }
      ],
      "source": [
        "using Pkg; pkg\"activate .\"; pkg\"status\""
      ]
    },
    {
      "cell_type": "code",
      "source": [
        "Pkg.add([ \"Flux\", \"MLDatasets\", \"ProgressMeter\", \"CUDA\", \"cuDNN\" ])"
      ],
      "metadata": {
        "id": "7ksi813rjnL9",
        "outputId": "b7adbeda-858e-4133-a7f9-a70b95c9c81f",
        "colab": {
          "base_uri": "https://localhost:8080/"
        }
      },
      "id": "7ksi813rjnL9",
      "execution_count": null,
      "outputs": [
        {
          "output_type": "stream",
          "name": "stderr",
          "text": [
            "\u001b[32m\u001b[1m    Updating\u001b[22m\u001b[39m registry at `~/.julia/registries/General.toml`\n",
            "\u001b[32m\u001b[1m   Resolving\u001b[22m\u001b[39m package versions...\n",
            "\u001b[32m\u001b[1m   Installed\u001b[22m\u001b[39m TimerOutputs ─────────── v0.5.28\n",
            "\u001b[32m\u001b[1m   Installed\u001b[22m\u001b[39m LLVMLoopInfo ─────────── v1.0.0\n",
            "\u001b[32m\u001b[1m   Installed\u001b[22m\u001b[39m ZipFile ──────────────── v0.10.1\n",
            "\u001b[32m\u001b[1m   Installed\u001b[22m\u001b[39m ContextVariablesX ────── v0.1.3\n",
            "\u001b[32m\u001b[1m   Installed\u001b[22m\u001b[39m ShowCases ────────────── v0.1.0\n",
            "\u001b[32m\u001b[1m   Installed\u001b[22m\u001b[39m Accessors ────────────── v0.1.42\n",
            "\u001b[32m\u001b[1m   Installed\u001b[22m\u001b[39m NVTX_jll ─────────────── v3.1.1+0\n",
            "\u001b[32m\u001b[1m   Installed\u001b[22m\u001b[39m cuDNN ────────────────── v1.4.1\n",
            "\u001b[32m\u001b[1m   Installed\u001b[22m\u001b[39m Optimisers ───────────── v0.4.5\n",
            "\u001b[32m\u001b[1m   Installed\u001b[22m\u001b[39m NNlib ────────────────── v0.9.28\n",
            "\u001b[32m\u001b[1m   Installed\u001b[22m\u001b[39m GPUArrays ────────────── v11.2.2\n",
            "\u001b[32m\u001b[1m   Installed\u001b[22m\u001b[39m InitialValues ────────── v0.3.1\n",
            "\u001b[32m\u001b[1m   Installed\u001b[22m\u001b[39m ZygoteRules ──────────── v0.2.7\n",
            "\u001b[32m\u001b[1m   Installed\u001b[22m\u001b[39m CUDA_Runtime_jll ─────── v0.15.5+0\n",
            "\u001b[32m\u001b[1m   Installed\u001b[22m\u001b[39m ScopedValues ─────────── v1.3.0\n",
            "\u001b[32m\u001b[1m   Installed\u001b[22m\u001b[39m BFloat16s ────────────── v0.5.0\n",
            "\u001b[32m\u001b[1m   Installed\u001b[22m\u001b[39m RandomNumbers ────────── v1.6.0\n",
            "\u001b[32m\u001b[1m   Installed\u001b[22m\u001b[39m PrettyPrint ──────────── v0.2.0\n",
            "\u001b[32m\u001b[1m   Installed\u001b[22m\u001b[39m LLVM ─────────────────── v9.2.0\n",
            "\u001b[32m\u001b[1m   Installed\u001b[22m\u001b[39m MLUtils ──────────────── v0.4.7\n",
            "\u001b[32m\u001b[1m   Installed\u001b[22m\u001b[39m demumble_jll ─────────── v1.3.0+0\n",
            "\u001b[32m\u001b[1m   Installed\u001b[22m\u001b[39m RealDot ──────────────── v0.1.0\n",
            "\u001b[32m\u001b[1m   Installed\u001b[22m\u001b[39m MLCore ───────────────── v1.0.0\n",
            "\u001b[32m\u001b[1m   Installed\u001b[22m\u001b[39m GZip ─────────────────── v0.6.2\n",
            "\u001b[32m\u001b[1m   Installed\u001b[22m\u001b[39m Functors ─────────────── v0.5.2\n",
            "\u001b[32m\u001b[1m   Installed\u001b[22m\u001b[39m IRTools ──────────────── v0.4.14\n",
            "\u001b[32m\u001b[1m   Installed\u001b[22m\u001b[39m JLD2 ─────────────────── v0.5.11\n",
            "\u001b[32m\u001b[1m   Installed\u001b[22m\u001b[39m CUDA_Driver_jll ──────── v0.10.4+0\n",
            "\u001b[32m\u001b[1m   Installed\u001b[22m\u001b[39m MicrosoftMPI_jll ─────── v10.1.4+3\n",
            "\u001b[32m\u001b[1m   Installed\u001b[22m\u001b[39m Hwloc_jll ────────────── v2.12.0+0\n",
            "\u001b[32m\u001b[1m   Installed\u001b[22m\u001b[39m AtomsBase ────────────── v0.5.1\n",
            "\u001b[32m\u001b[1m   Installed\u001b[22m\u001b[39m Chemfiles ────────────── v0.10.42\n",
            "\u001b[32m\u001b[1m   Installed\u001b[22m\u001b[39m Zygote ───────────────── v0.7.4\n",
            "\u001b[32m\u001b[1m   Installed\u001b[22m\u001b[39m MAT ──────────────────── v0.10.7\n",
            "\u001b[32m\u001b[1m   Installed\u001b[22m\u001b[39m ProgressLogging ──────── v0.1.4\n",
            "\u001b[32m\u001b[1m   Installed\u001b[22m\u001b[39m StringEncodings ──────── v0.3.7\n",
            "\u001b[32m\u001b[1m   Installed\u001b[22m\u001b[39m NameResolution ───────── v0.1.5\n",
            "\u001b[32m\u001b[1m   Installed\u001b[22m\u001b[39m MicroCollections ─────── v0.2.0\n",
            "\u001b[32m\u001b[1m   Installed\u001b[22m\u001b[39m DefineSingletons ─────── v0.1.2\n",
            "\u001b[32m\u001b[1m   Installed\u001b[22m\u001b[39m OneHotArrays ─────────── v0.2.6\n",
            "\u001b[32m\u001b[1m   Installed\u001b[22m\u001b[39m CUDA_Runtime_Discovery ─ v0.3.5\n",
            "\u001b[32m\u001b[1m   Installed\u001b[22m\u001b[39m CommonSubexpressions ─── v0.3.1\n",
            "\u001b[32m\u001b[1m   Installed\u001b[22m\u001b[39m FLoopsBase ───────────── v0.1.1\n",
            "\u001b[32m\u001b[1m   Installed\u001b[22m\u001b[39m MLDataDevices ────────── v1.9.1\n",
            "\u001b[32m\u001b[1m   Installed\u001b[22m\u001b[39m MPIPreferences ───────── v0.1.11\n",
            "\u001b[32m\u001b[1m   Installed\u001b[22m\u001b[39m Random123 ────────────── v1.7.0\n",
            "\u001b[32m\u001b[1m   Installed\u001b[22m\u001b[39m BufferedStreams ──────── v1.2.2\n",
            "\u001b[32m\u001b[1m   Installed\u001b[22m\u001b[39m StridedViews ─────────── v0.2.2\n",
            "\u001b[32m\u001b[1m   Installed\u001b[22m\u001b[39m ChainRules ───────────── v1.72.3\n",
            "\u001b[32m\u001b[1m   Installed\u001b[22m\u001b[39m BangBang ─────────────── v0.4.4\n",
            "\u001b[32m\u001b[1m   Installed\u001b[22m\u001b[39m ExprTools ────────────── v0.1.10\n",
            "\u001b[32m\u001b[1m   Installed\u001b[22m\u001b[39m MPICH_jll ────────────── v4.3.0+1\n",
            "\u001b[32m\u001b[1m   Installed\u001b[22m\u001b[39m StructTypes ──────────── v1.11.0\n",
            "\u001b[32m\u001b[1m   Installed\u001b[22m\u001b[39m HDF5_jll ─────────────── v1.14.6+0\n",
            "\u001b[32m\u001b[1m   Installed\u001b[22m\u001b[39m MLStyle ──────────────── v0.4.17\n",
            "\u001b[32m\u001b[1m   Installed\u001b[22m\u001b[39m Flux ─────────────────── v0.16.3\n",
            "\u001b[32m\u001b[1m   Installed\u001b[22m\u001b[39m DiffRules ────────────── v1.15.1\n",
            "\u001b[32m\u001b[1m   Installed\u001b[22m\u001b[39m Glob ─────────────────── v1.3.1\n",
            "\u001b[32m\u001b[1m   Installed\u001b[22m\u001b[39m ArgCheck ─────────────── v2.4.0\n",
            "\u001b[32m\u001b[1m   Installed\u001b[22m\u001b[39m FLoops ───────────────── v0.2.2\n",
            "\u001b[32m\u001b[1m   Installed\u001b[22m\u001b[39m JSON3 ────────────────── v1.14.1\n",
            "\u001b[32m\u001b[1m   Installed\u001b[22m\u001b[39m HashArrayMappedTries ─── v0.2.0\n",
            "\u001b[32m\u001b[1m   Installed\u001b[22m\u001b[39m PeriodicTable ────────── v1.2.1\n",
            "\u001b[32m\u001b[1m   Installed\u001b[22m\u001b[39m DiffResults ──────────── v1.1.0\n",
            "\u001b[32m\u001b[1m   Installed\u001b[22m\u001b[39m LLVMExtra_jll ────────── v0.0.35+0\n",
            "\u001b[32m\u001b[1m   Installed\u001b[22m\u001b[39m DataDeps ─────────────── v0.7.13\n",
            "\u001b[32m\u001b[1m   Installed\u001b[22m\u001b[39m KernelAbstractions ───── v0.9.34\n",
            "\u001b[32m\u001b[1m   Installed\u001b[22m\u001b[39m ImageShow ────────────── v0.3.8\n",
            "\u001b[32m\u001b[1m   Installed\u001b[22m\u001b[39m OpenMPI_jll ──────────── v5.0.7+1\n",
            "\u001b[32m\u001b[1m   Installed\u001b[22m\u001b[39m Setfield ─────────────── v1.1.2\n",
            "\u001b[32m\u001b[1m   Installed\u001b[22m\u001b[39m NVTX ─────────────────── v0.3.5\n",
            "\u001b[32m\u001b[1m   Installed\u001b[22m\u001b[39m PackageExtensionCompat ─ v1.0.2\n",
            "\u001b[32m\u001b[1m   Installed\u001b[22m\u001b[39m HDF5 ─────────────────── v0.17.2\n",
            "\u001b[32m\u001b[1m   Installed\u001b[22m\u001b[39m CompositionsBase ─────── v0.1.2\n",
            "\u001b[32m\u001b[1m   Installed\u001b[22m\u001b[39m UnsafeAtomics ────────── v0.3.0\n",
            "\u001b[32m\u001b[1m   Installed\u001b[22m\u001b[39m JuliaVariables ───────── v0.2.4\n",
            "\u001b[32m\u001b[1m   Installed\u001b[22m\u001b[39m GPUArraysCore ────────── v0.2.0\n",
            "\u001b[32m\u001b[1m   Installed\u001b[22m\u001b[39m MLDatasets ───────────── v0.7.18\n",
            "\u001b[32m\u001b[1m   Installed\u001b[22m\u001b[39m SparseInverseSubset ──── v0.1.2\n",
            "\u001b[32m\u001b[1m   Installed\u001b[22m\u001b[39m Atomix ───────────────── v1.1.1\n",
            "\u001b[32m\u001b[1m   Installed\u001b[22m\u001b[39m InternedStrings ──────── v0.7.0\n",
            "\u001b[32m\u001b[1m   Installed\u001b[22m\u001b[39m Transducers ──────────── v0.4.84\n",
            "\u001b[32m\u001b[1m   Installed\u001b[22m\u001b[39m EnzymeCore ───────────── v0.8.8\n",
            "\u001b[32m\u001b[1m   Installed\u001b[22m\u001b[39m NPZ ──────────────────── v0.4.3\n",
            "\u001b[32m\u001b[1m   Installed\u001b[22m\u001b[39m Chemfiles_jll ────────── v0.10.4+0\n",
            "\u001b[32m\u001b[1m   Installed\u001b[22m\u001b[39m JuliaNVTXCallbacks_jll ─ v0.2.1+0\n",
            "\u001b[32m\u001b[1m   Installed\u001b[22m\u001b[39m GPUCompiler ──────────── v1.2.0\n",
            "\u001b[32m\u001b[1m   Installed\u001b[22m\u001b[39m Baselet ──────────────── v0.1.1\n",
            "\u001b[32m\u001b[1m   Installed\u001b[22m\u001b[39m ForwardDiff ──────────── v0.10.38\n",
            "\u001b[32m\u001b[1m   Installed\u001b[22m\u001b[39m UnitfulAtomic ────────── v1.0.0\n",
            "\u001b[32m\u001b[1m   Installed\u001b[22m\u001b[39m MPItrampoline_jll ────── v5.5.3+0\n",
            "\u001b[32m\u001b[1m   Installed\u001b[22m\u001b[39m libaec_jll ───────────── v1.1.3+0\n",
            "\u001b[32m\u001b[1m   Installed\u001b[22m\u001b[39m SplittablesBase ──────── v0.1.15\n",
            "\u001b[32m\u001b[1m   Installed\u001b[22m\u001b[39m Pickle ───────────────── v0.3.5\n",
            "\u001b[32m\u001b[1m   Installed\u001b[22m\u001b[39m CUDNN_jll ────────────── v9.4.0+0\n",
            "\u001b[32m\u001b[1m   Installed\u001b[22m\u001b[39m CUDA ─────────────────── v5.6.1\n",
            "\u001b[32m\u001b[1m    Updating\u001b[22m\u001b[39m `/content/Project.toml`\n",
            "  \u001b[90m[052768ef] \u001b[39m\u001b[92m+ CUDA v5.6.1\u001b[39m\n",
            "  \u001b[90m[587475ba] \u001b[39m\u001b[92m+ Flux v0.16.3\u001b[39m\n",
            "  \u001b[90m[eb30cadb] \u001b[39m\u001b[92m+ MLDatasets v0.7.18\u001b[39m\n",
            "  \u001b[90m[92933f4c] \u001b[39m\u001b[92m+ ProgressMeter v1.10.2\u001b[39m\n",
            "  \u001b[90m[02a925ec] \u001b[39m\u001b[92m+ cuDNN v1.4.1\u001b[39m\n",
            "\u001b[32m\u001b[1m    Updating\u001b[22m\u001b[39m `/content/Manifest.toml`\n",
            " Downloading artifact: CUDA_Runtime\n",
            "   \u001b[90m[621f4979] \u001b[39m\u001b[92m+ AbstractFFTs v1.5.0\u001b[39m\n",
            "   \u001b[90m[7d9f7c33] \u001b[39m\u001b[92m+ Accessors v0.1.42\u001b[39m\n",
            "   \u001b[90m[79e6a3ab] \u001b[39m\u001b[92m+ Adapt v4.2.0\u001b[39m\n",
            "   \u001b[90m[66dad0bd] \u001b[39m\u001b[92m+ AliasTables v1.1.3\u001b[39m\n",
            "   \u001b[90m[dce04be8] \u001b[39m\u001b[92m+ ArgCheck v2.4.0\u001b[39m\n",
            "   \u001b[90m[a9b6321e] \u001b[39m\u001b[92m+ Atomix v1.1.1\u001b[39m\n",
            "   \u001b[90m[a963bdd2] \u001b[39m\u001b[92m+ AtomsBase v0.5.1\u001b[39m\n",
            "   \u001b[90m[ab4f0b2a] \u001b[39m\u001b[92m+ BFloat16s v0.5.0\u001b[39m\n",
            "   \u001b[90m[198e06fe] \u001b[39m\u001b[92m+ BangBang v0.4.4\u001b[39m\n",
            "   \u001b[90m[9718e550] \u001b[39m\u001b[92m+ Baselet v0.1.1\u001b[39m\n",
            "   \u001b[90m[d1d4a3ce] \u001b[39m\u001b[92m+ BitFlags v0.1.9\u001b[39m\n",
            "   \u001b[90m[e1450e63] \u001b[39m\u001b[92m+ BufferedStreams v1.2.2\u001b[39m\n",
            "   \u001b[90m[fa961155] \u001b[39m\u001b[92m+ CEnum v0.5.0\u001b[39m\n",
            "   \u001b[90m[336ed68f] \u001b[39m\u001b[92m+ CSV v0.10.15\u001b[39m\n",
            "   \u001b[90m[052768ef] \u001b[39m\u001b[92m+ CUDA v5.6.1\u001b[39m\n",
            "   \u001b[90m[1af6417a] \u001b[39m\u001b[92m+ CUDA_Runtime_Discovery v0.3.5\u001b[39m\n",
            "   \u001b[90m[082447d4] \u001b[39m\u001b[92m+ ChainRules v1.72.3\u001b[39m\n",
            "   \u001b[90m[d360d2e6] \u001b[39m\u001b[92m+ ChainRulesCore v1.25.1\u001b[39m\n",
            "   \u001b[90m[46823bd8] \u001b[39m\u001b[92m+ Chemfiles v0.10.42\u001b[39m\n",
            "   \u001b[90m[944b1d66] \u001b[39m\u001b[92m+ CodecZlib v0.7.8\u001b[39m\n",
            "   \u001b[90m[35d6a980] \u001b[39m\u001b[92m+ ColorSchemes v3.29.0\u001b[39m\n",
            "   \u001b[90m[3da002f7] \u001b[39m\u001b[92m+ ColorTypes v0.12.0\u001b[39m\n",
            "   \u001b[90m[c3611d14] \u001b[39m\u001b[92m+ ColorVectorSpace v0.11.0\u001b[39m\n",
            "   \u001b[90m[5ae59095] \u001b[39m\u001b[92m+ Colors v0.13.0\u001b[39m\n",
            "   \u001b[90m[bbf7d656] \u001b[39m\u001b[92m+ CommonSubexpressions v0.3.1\u001b[39m\n",
            "   \u001b[90m[34da2185] \u001b[39m\u001b[92m+ Compat v4.16.0\u001b[39m\n",
            "   \u001b[90m[a33af91c] \u001b[39m\u001b[92m+ CompositionsBase v0.1.2\u001b[39m\n",
            "   \u001b[90m[f0e56b4a] \u001b[39m\u001b[92m+ ConcurrentUtilities v2.5.0\u001b[39m\n",
            "   \u001b[90m[187b0558] \u001b[39m\u001b[92m+ ConstructionBase v1.5.8\u001b[39m\n",
            "   \u001b[90m[6add18c4] \u001b[39m\u001b[92m+ ContextVariablesX v0.1.3\u001b[39m\n",
            "   \u001b[90m[a8cc5b0e] \u001b[39m\u001b[92m+ Crayons v4.1.1\u001b[39m\n",
            "   \u001b[90m[9a962f9c] \u001b[39m\u001b[92m+ DataAPI v1.16.0\u001b[39m\n",
            "   \u001b[90m[124859b0] \u001b[39m\u001b[92m+ DataDeps v0.7.13\u001b[39m\n",
            "   \u001b[90m[a93c6f00] \u001b[39m\u001b[92m+ DataFrames v1.7.0\u001b[39m\n",
            "   \u001b[90m[864edb3b] \u001b[39m\u001b[92m+ DataStructures v0.18.20\u001b[39m\n",
            "   \u001b[90m[e2d170a0] \u001b[39m\u001b[92m+ DataValueInterfaces v1.0.0\u001b[39m\n",
            "   \u001b[90m[244e2a9f] \u001b[39m\u001b[92m+ DefineSingletons v0.1.2\u001b[39m\n",
            "   \u001b[90m[8bb1440f] \u001b[39m\u001b[92m+ DelimitedFiles v1.9.1\u001b[39m\n",
            "   \u001b[90m[163ba53b] \u001b[39m\u001b[92m+ DiffResults v1.1.0\u001b[39m\n",
            "   \u001b[90m[b552c78f] \u001b[39m\u001b[92m+ DiffRules v1.15.1\u001b[39m\n",
            "   \u001b[90m[ffbed154] \u001b[39m\u001b[92m+ DocStringExtensions v0.9.3\u001b[39m\n",
            "   \u001b[90m[f151be2c] \u001b[39m\u001b[92m+ EnzymeCore v0.8.8\u001b[39m\n",
            "   \u001b[90m[460bff9d] \u001b[39m\u001b[92m+ ExceptionUnwrapping v0.1.11\u001b[39m\n",
            "   \u001b[90m[e2ba6199] \u001b[39m\u001b[92m+ ExprTools v0.1.10\u001b[39m\n",
            "   \u001b[90m[cc61a311] \u001b[39m\u001b[92m+ FLoops v0.2.2\u001b[39m\n",
            "   \u001b[90m[b9860ae5] \u001b[39m\u001b[92m+ FLoopsBase v0.1.1\u001b[39m\n",
            "   \u001b[90m[5789e2e9] \u001b[39m\u001b[92m+ FileIO v1.17.0\u001b[39m\n",
            "   \u001b[90m[48062228] \u001b[39m\u001b[92m+ FilePathsBase v0.9.24\u001b[39m\n",
            "   \u001b[90m[1a297f60] \u001b[39m\u001b[92m+ FillArrays v1.13.0\u001b[39m\n",
            "   \u001b[90m[53c48c17] \u001b[39m\u001b[92m+ FixedPointNumbers v0.8.5\u001b[39m\n",
            "   \u001b[90m[587475ba] \u001b[39m\u001b[92m+ Flux v0.16.3\u001b[39m\n",
            "   \u001b[90m[f6369f11] \u001b[39m\u001b[92m+ ForwardDiff v0.10.38\u001b[39m\n",
            "   \u001b[90m[d9f16b24] \u001b[39m\u001b[92m+ Functors v0.5.2\u001b[39m\n",
            "   \u001b[90m[0c68f7d7] \u001b[39m\u001b[92m+ GPUArrays v11.2.2\u001b[39m\n",
            "   \u001b[90m[46192b85] \u001b[39m\u001b[92m+ GPUArraysCore v0.2.0\u001b[39m\n",
            "   \u001b[90m[61eb1bfa] \u001b[39m\u001b[92m+ GPUCompiler v1.2.0\u001b[39m\n",
            "   \u001b[90m[92fee26a] \u001b[39m\u001b[92m+ GZip v0.6.2\u001b[39m\n",
            "   \u001b[90m[c27321d9] \u001b[39m\u001b[92m+ Glob v1.3.1\u001b[39m\n",
            "   \u001b[90m[f67ccb44] \u001b[39m\u001b[92m+ HDF5 v0.17.2\u001b[39m\n",
            "   \u001b[90m[cd3eb016] \u001b[39m\u001b[92m+ HTTP v1.10.15\u001b[39m\n",
            "   \u001b[90m[076d061b] \u001b[39m\u001b[92m+ HashArrayMappedTries v0.2.0\u001b[39m\n",
            "   \u001b[90m[7869d1d1] \u001b[39m\u001b[92m+ IRTools v0.4.14\u001b[39m\n",
            "   \u001b[90m[c817782e] \u001b[39m\u001b[92m+ ImageBase v0.1.7\u001b[39m\n",
            "   \u001b[90m[a09fc81d] \u001b[39m\u001b[92m+ ImageCore v0.10.5\u001b[39m\n",
            "   \u001b[90m[4e3cecfd] \u001b[39m\u001b[92m+ ImageShow v0.3.8\u001b[39m\n",
            "   \u001b[90m[22cec73e] \u001b[39m\u001b[92m+ InitialValues v0.3.1\u001b[39m\n",
            "   \u001b[90m[842dd82b] \u001b[39m\u001b[92m+ InlineStrings v1.4.3\u001b[39m\n",
            "   \u001b[90m[7d512f48] \u001b[39m\u001b[92m+ InternedStrings v0.7.0\u001b[39m\n",
            "   \u001b[90m[3587e190] \u001b[39m\u001b[92m+ InverseFunctions v0.1.17\u001b[39m\n",
            "   \u001b[90m[41ab1584] \u001b[39m\u001b[92m+ InvertedIndices v1.3.1\u001b[39m\n",
            "   \u001b[90m[92d709cd] \u001b[39m\u001b[92m+ IrrationalConstants v0.2.4\u001b[39m\n",
            "   \u001b[90m[82899510] \u001b[39m\u001b[92m+ IteratorInterfaceExtensions v1.0.0\u001b[39m\n",
            "   \u001b[90m[033835bb] \u001b[39m\u001b[92m+ JLD2 v0.5.11\u001b[39m\n",
            "   \u001b[90m[692b3bcd] \u001b[39m\u001b[92m+ JLLWrappers v1.7.0\u001b[39m\n",
            "   \u001b[90m[0f8b85d8] \u001b[39m\u001b[92m+ JSON3 v1.14.1\u001b[39m\n",
            "   \u001b[90m[b14d175d] \u001b[39m\u001b[92m+ JuliaVariables v0.2.4\u001b[39m\n",
            "   \u001b[90m[63c18a36] \u001b[39m\u001b[92m+ KernelAbstractions v0.9.34\u001b[39m\n",
            "   \u001b[90m[929cbde3] \u001b[39m\u001b[92m+ LLVM v9.2.0\u001b[39m\n",
            "   \u001b[90m[8b046642] \u001b[39m\u001b[92m+ LLVMLoopInfo v1.0.0\u001b[39m\n",
            "   \u001b[90m[b964fa9f] \u001b[39m\u001b[92m+ LaTeXStrings v1.4.0\u001b[39m\n",
            "   \u001b[90m[8cdb02fc] \u001b[39m\u001b[92m+ LazyModules v0.3.1\u001b[39m\n",
            "   \u001b[90m[2ab3a3ac] \u001b[39m\u001b[92m+ LogExpFunctions v0.3.29\u001b[39m\n",
            "   \u001b[90m[e6f89c97] \u001b[39m\u001b[92m+ LoggingExtras v1.1.0\u001b[39m\n",
            "   \u001b[90m[23992714] \u001b[39m\u001b[92m+ MAT v0.10.7\u001b[39m\n",
            "   \u001b[90m[c2834f40] \u001b[39m\u001b[92m+ MLCore v1.0.0\u001b[39m\n",
            "   \u001b[90m[7e8f7934] \u001b[39m\u001b[92m+ MLDataDevices v1.9.1\u001b[39m\n",
            "   \u001b[90m[eb30cadb] \u001b[39m\u001b[92m+ MLDatasets v0.7.18\u001b[39m\n",
            "   \u001b[90m[d8e11817] \u001b[39m\u001b[92m+ MLStyle v0.4.17\u001b[39m\n",
            "   \u001b[90m[f1d291b0] \u001b[39m\u001b[92m+ MLUtils v0.4.7\u001b[39m\n",
            "   \u001b[90m[3da0fdf6] \u001b[39m\u001b[92m+ MPIPreferences v0.1.11\u001b[39m\n",
            "   \u001b[90m[1914dd2f] \u001b[39m\u001b[92m+ MacroTools v0.5.15\u001b[39m\n",
            "   \u001b[90m[dbb5928d] \u001b[39m\u001b[92m+ MappedArrays v0.4.2\u001b[39m\n",
            "   \u001b[90m[739be429] \u001b[39m\u001b[92m+ MbedTLS v1.1.9\u001b[39m\n",
            "   \u001b[90m[128add7d] \u001b[39m\u001b[92m+ MicroCollections v0.2.0\u001b[39m\n",
            "   \u001b[90m[e1d29d7a] \u001b[39m\u001b[92m+ Missings v1.2.0\u001b[39m\n",
            "   \u001b[90m[e94cdb99] \u001b[39m\u001b[92m+ MosaicViews v0.3.4\u001b[39m\n",
            "   \u001b[90m[872c559c] \u001b[39m\u001b[92m+ NNlib v0.9.28\u001b[39m\n",
            "   \u001b[90m[15e1cf62] \u001b[39m\u001b[92m+ NPZ v0.4.3\u001b[39m\n",
            " \u001b[33m⌅\u001b[39m \u001b[90m[5da4648a] \u001b[39m\u001b[92m+ NVTX v0.3.5\u001b[39m\n",
            "   \u001b[90m[77ba4419] \u001b[39m\u001b[92m+ NaNMath v1.1.2\u001b[39m\n",
            "   \u001b[90m[71a1bf82] \u001b[39m\u001b[92m+ NameResolution v0.1.5\u001b[39m\n",
            "   \u001b[90m[6fe1bfb0] \u001b[39m\u001b[92m+ OffsetArrays v1.15.0\u001b[39m\n",
            "   \u001b[90m[0b1bfda6] \u001b[39m\u001b[92m+ OneHotArrays v0.2.6\u001b[39m\n",
            "   \u001b[90m[4d8831e6] \u001b[39m\u001b[92m+ OpenSSL v1.4.3\u001b[39m\n",
            "   \u001b[90m[3bd65402] \u001b[39m\u001b[92m+ Optimisers v0.4.5\u001b[39m\n",
            "   \u001b[90m[bac558e1] \u001b[39m\u001b[92m+ OrderedCollections v1.8.0\u001b[39m\n",
            "   \u001b[90m[65ce6f38] \u001b[39m\u001b[92m+ PackageExtensionCompat v1.0.2\u001b[39m\n",
            "   \u001b[90m[5432bcbf] \u001b[39m\u001b[92m+ PaddedViews v0.5.12\u001b[39m\n",
            "   \u001b[90m[69de0a69] \u001b[39m\u001b[92m+ Parsers v2.8.1\u001b[39m\n",
            "   \u001b[90m[7b2266bf] \u001b[39m\u001b[92m+ PeriodicTable v1.2.1\u001b[39m\n",
            "   \u001b[90m[fbb45041] \u001b[39m\u001b[92m+ Pickle v0.3.5\u001b[39m\n",
            "   \u001b[90m[2dfb63ee] \u001b[39m\u001b[92m+ PooledArrays v1.4.3\u001b[39m\n",
            "   \u001b[90m[aea7be01] \u001b[39m\u001b[92m+ PrecompileTools v1.2.1\u001b[39m\n",
            "   \u001b[90m[21216c6a] \u001b[39m\u001b[92m+ Preferences v1.4.3\u001b[39m\n",
            "   \u001b[90m[8162dcfd] \u001b[39m\u001b[92m+ PrettyPrint v0.2.0\u001b[39m\n",
            "   \u001b[90m[08abe8d2] \u001b[39m\u001b[92m+ PrettyTables v2.4.0\u001b[39m\n",
            "   \u001b[90m[33c8b6b6] \u001b[39m\u001b[92m+ ProgressLogging v0.1.4\u001b[39m\n",
            "   \u001b[90m[92933f4c] \u001b[39m\u001b[92m+ ProgressMeter v1.10.2\u001b[39m\n",
            "   \u001b[90m[43287f4e] \u001b[39m\u001b[92m+ PtrArrays v1.3.0\u001b[39m\n",
            "   \u001b[90m[74087812] \u001b[39m\u001b[92m+ Random123 v1.7.0\u001b[39m\n",
            "   \u001b[90m[e6cf234a] \u001b[39m\u001b[92m+ RandomNumbers v1.6.0\u001b[39m\n",
            "   \u001b[90m[c1ae055f] \u001b[39m\u001b[92m+ RealDot v0.1.0\u001b[39m\n",
            "   \u001b[90m[189a3867] \u001b[39m\u001b[92m+ Reexport v1.2.2\u001b[39m\n",
            "   \u001b[90m[ae029012] \u001b[39m\u001b[92m+ Requires v1.3.1\u001b[39m\n",
            "   \u001b[90m[7e506255] \u001b[39m\u001b[92m+ ScopedValues v1.3.0\u001b[39m\n",
            "   \u001b[90m[6c6a2e73] \u001b[39m\u001b[92m+ Scratch v1.2.1\u001b[39m\n",
            "   \u001b[90m[91c51154] \u001b[39m\u001b[92m+ SentinelArrays v1.4.8\u001b[39m\n",
            "   \u001b[90m[efcf1570] \u001b[39m\u001b[92m+ Setfield v1.1.2\u001b[39m\n",
            "   \u001b[90m[605ecd9f] \u001b[39m\u001b[92m+ ShowCases v0.1.0\u001b[39m\n",
            "   \u001b[90m[777ac1f9] \u001b[39m\u001b[92m+ SimpleBufferStream v1.2.0\u001b[39m\n",
            "   \u001b[90m[699a6c99] \u001b[39m\u001b[92m+ SimpleTraits v0.9.4\u001b[39m\n",
            "   \u001b[90m[a2af1166] \u001b[39m\u001b[92m+ SortingAlgorithms v1.2.1\u001b[39m\n",
            "   \u001b[90m[dc90abb0] \u001b[39m\u001b[92m+ SparseInverseSubset v0.1.2\u001b[39m\n",
            "   \u001b[90m[276daf66] \u001b[39m\u001b[92m+ SpecialFunctions v2.5.0\u001b[39m\n",
            "   \u001b[90m[171d559e] \u001b[39m\u001b[92m+ SplittablesBase v0.1.15\u001b[39m\n",
            "   \u001b[90m[cae243ae] \u001b[39m\u001b[92m+ StackViews v0.1.1\u001b[39m\n",
            "   \u001b[90m[90137ffa] \u001b[39m\u001b[92m+ StaticArrays v1.9.13\u001b[39m\n",
            "   \u001b[90m[1e83bf80] \u001b[39m\u001b[92m+ StaticArraysCore v1.4.3\u001b[39m\n",
            "   \u001b[90m[82ae8749] \u001b[39m\u001b[92m+ StatsAPI v1.7.0\u001b[39m\n",
            "   \u001b[90m[2913bbd2] \u001b[39m\u001b[92m+ StatsBase v0.34.4\u001b[39m\n",
            " \u001b[33m⌅\u001b[39m \u001b[90m[4db3bf67] \u001b[39m\u001b[92m+ StridedViews v0.2.2\u001b[39m\n",
            "   \u001b[90m[69024149] \u001b[39m\u001b[92m+ StringEncodings v0.3.7\u001b[39m\n",
            "   \u001b[90m[892a3eda] \u001b[39m\u001b[92m+ StringManipulation v0.4.1\u001b[39m\n",
            "   \u001b[90m[09ab397b] \u001b[39m\u001b[92m+ StructArrays v0.7.0\u001b[39m\n",
            "   \u001b[90m[856f2bd8] \u001b[39m\u001b[92m+ StructTypes v1.11.0\u001b[39m\n",
            "   \u001b[90m[3783bdb8] \u001b[39m\u001b[92m+ TableTraits v1.0.1\u001b[39m\n",
            "   \u001b[90m[bd369af6] \u001b[39m\u001b[92m+ Tables v1.12.0\u001b[39m\n",
            "   \u001b[90m[62fd8b95] \u001b[39m\u001b[92m+ TensorCore v0.1.1\u001b[39m\n",
            "   \u001b[90m[a759f4b9] \u001b[39m\u001b[92m+ TimerOutputs v0.5.28\u001b[39m\n",
            "   \u001b[90m[3bb67fe8] \u001b[39m\u001b[92m+ TranscodingStreams v0.11.3\u001b[39m\n",
            "   \u001b[90m[28d57a85] \u001b[39m\u001b[92m+ Transducers v0.4.84\u001b[39m\n",
            "   \u001b[90m[5c2747f8] \u001b[39m\u001b[92m+ URIs v1.5.1\u001b[39m\n",
            "   \u001b[90m[1986cc42] \u001b[39m\u001b[92m+ Unitful v1.22.0\u001b[39m\n",
            "   \u001b[90m[a7773ee8] \u001b[39m\u001b[92m+ UnitfulAtomic v1.0.0\u001b[39m\n",
            "   \u001b[90m[013be700] \u001b[39m\u001b[92m+ UnsafeAtomics v0.3.0\u001b[39m\n",
            "   \u001b[90m[ea10d353] \u001b[39m\u001b[92m+ WeakRefStrings v1.4.2\u001b[39m\n",
            "   \u001b[90m[76eceee3] \u001b[39m\u001b[92m+ WorkerUtilities v1.6.1\u001b[39m\n",
            "   \u001b[90m[a5390f91] \u001b[39m\u001b[92m+ ZipFile v0.10.1\u001b[39m\n",
            "   \u001b[90m[e88e6eb3] \u001b[39m\u001b[92m+ Zygote v0.7.4\u001b[39m\n",
            "   \u001b[90m[700de1a5] \u001b[39m\u001b[92m+ ZygoteRules v0.2.7\u001b[39m\n",
            "   \u001b[90m[02a925ec] \u001b[39m\u001b[92m+ cuDNN v1.4.1\u001b[39m\n",
            " \u001b[33m⌅\u001b[39m \u001b[90m[4ee394cb] \u001b[39m\u001b[92m+ CUDA_Driver_jll v0.10.4+0\u001b[39m\n",
            "\u001b[91m→\u001b[39m\u001b[33m⌅\u001b[39m \u001b[90m[76a88914] \u001b[39m\u001b[92m+ CUDA_Runtime_jll v0.15.5+0\u001b[39m\n",
            "\u001b[91m→\u001b[39m\u001b[33m⌅\u001b[39m \u001b[90m[62b44479] \u001b[39m\u001b[92m+ CUDNN_jll v9.4.0+0\u001b[39m\n",
            "   \u001b[90m[78a364fa] \u001b[39m\u001b[92m+ Chemfiles_jll v0.10.4+0\u001b[39m\n",
            "   \u001b[90m[0234f1f7] \u001b[39m\u001b[92m+ HDF5_jll v1.14.6+0\u001b[39m\n",
            "   \u001b[90m[e33a78d0] \u001b[39m\u001b[92m+ Hwloc_jll v2.12.0+0\u001b[39m\n",
            "   \u001b[90m[9c1d0b0a] \u001b[39m\u001b[92m+ JuliaNVTXCallbacks_jll v0.2.1+0\u001b[39m\n",
            "   \u001b[90m[dad2f222] \u001b[39m\u001b[92m+ LLVMExtra_jll v0.0.35+0\u001b[39m\n",
            "   \u001b[90m[94ce4f54] \u001b[39m\u001b[92m+ Libiconv_jll v1.18.0+0\u001b[39m\n",
            "   \u001b[90m[7cb0a576] \u001b[39m\u001b[92m+ MPICH_jll v4.3.0+1\u001b[39m\n",
            "   \u001b[90m[f1f71cc9] \u001b[39m\u001b[92m+ MPItrampoline_jll v5.5.3+0\u001b[39m\n",
            "   \u001b[90m[9237b28f] \u001b[39m\u001b[92m+ MicrosoftMPI_jll v10.1.4+3\u001b[39m\n",
            "   \u001b[90m[e98f9f5b] \u001b[39m\u001b[92m+ NVTX_jll v3.1.1+0\u001b[39m\n",
            "   \u001b[90m[fe0851c0] \u001b[39m\u001b[92m+ OpenMPI_jll v5.0.7+1\u001b[39m\n",
            "   \u001b[90m[458c3c95] \u001b[39m\u001b[92m+ OpenSSL_jll v3.0.16+0\u001b[39m\n",
            "   \u001b[90m[efe28fd5] \u001b[39m\u001b[92m+ OpenSpecFun_jll v0.5.6+0\u001b[39m\n",
            "   \u001b[90m[1e29f10c] \u001b[39m\u001b[92m+ demumble_jll v1.3.0+0\u001b[39m\n",
            "   \u001b[90m[477f73a3] \u001b[39m\u001b[92m+ libaec_jll v1.1.3+0\u001b[39m\n",
            "   \u001b[90m[0dad84c5] \u001b[39m\u001b[92m+ ArgTools v1.1.1\u001b[39m\n",
            "   \u001b[90m[56f22d72] \u001b[39m\u001b[92m+ Artifacts\u001b[39m\n",
            "   \u001b[90m[2a0f44e3] \u001b[39m\u001b[92m+ Base64\u001b[39m\n",
            "   \u001b[90m[ade2ca70] \u001b[39m\u001b[92m+ Dates\u001b[39m\n",
            "   \u001b[90m[8ba89e20] \u001b[39m\u001b[92m+ Distributed\u001b[39m\n",
            "   \u001b[90m[f43a241f] \u001b[39m\u001b[92m+ Downloads v1.6.0\u001b[39m\n",
            "   \u001b[90m[7b1f6079] \u001b[39m\u001b[92m+ FileWatching\u001b[39m\n",
            "   \u001b[90m[9fa8497b] \u001b[39m\u001b[92m+ Future\u001b[39m\n",
            "   \u001b[90m[b77e0a4c] \u001b[39m\u001b[92m+ InteractiveUtils\u001b[39m\n",
            "   \u001b[90m[4af54fe1] \u001b[39m\u001b[92m+ LazyArtifacts\u001b[39m\n",
            "   \u001b[90m[b27032c2] \u001b[39m\u001b[92m+ LibCURL v0.6.4\u001b[39m\n",
            "   \u001b[90m[76f85450] \u001b[39m\u001b[92m+ LibGit2\u001b[39m\n",
            "   \u001b[90m[8f399da3] \u001b[39m\u001b[92m+ Libdl\u001b[39m\n",
            "   \u001b[90m[37e2e46d] \u001b[39m\u001b[92m+ LinearAlgebra\u001b[39m\n",
            "   \u001b[90m[56ddb016] \u001b[39m\u001b[92m+ Logging\u001b[39m\n",
            "   \u001b[90m[d6f4376e] \u001b[39m\u001b[92m+ Markdown\u001b[39m\n",
            "   \u001b[90m[a63ad114] \u001b[39m\u001b[92m+ Mmap\u001b[39m\n",
            "   \u001b[90m[ca575930] \u001b[39m\u001b[92m+ NetworkOptions v1.2.0\u001b[39m\n",
            "   \u001b[90m[44cfe95a] \u001b[39m\u001b[92m+ Pkg v1.10.0\u001b[39m\n",
            "   \u001b[90m[de0858da] \u001b[39m\u001b[92m+ Printf\u001b[39m\n",
            "   \u001b[90m[3fa0cd96] \u001b[39m\u001b[92m+ REPL\u001b[39m\n",
            "   \u001b[90m[9a3f8284] \u001b[39m\u001b[92m+ Random\u001b[39m\n",
            "   \u001b[90m[ea8e919c] \u001b[39m\u001b[92m+ SHA v0.7.0\u001b[39m\n",
            "   \u001b[90m[9e88b42a] \u001b[39m\u001b[92m+ Serialization\u001b[39m\n",
            "   \u001b[90m[6462fe0b] \u001b[39m\u001b[92m+ Sockets\u001b[39m\n",
            "   \u001b[90m[2f01184e] \u001b[39m\u001b[92m+ SparseArrays v1.10.0\u001b[39m\n",
            "   \u001b[90m[10745b16] \u001b[39m\u001b[92m+ Statistics v1.10.0\u001b[39m\n",
            "   \u001b[90m[4607b0f0] \u001b[39m\u001b[92m+ SuiteSparse\u001b[39m\n",
            "   \u001b[90m[fa267f1f] \u001b[39m\u001b[92m+ TOML v1.0.3\u001b[39m\n",
            "   \u001b[90m[a4e569a6] \u001b[39m\u001b[92m+ Tar v1.10.0\u001b[39m\n",
            "   \u001b[90m[8dfed614] \u001b[39m\u001b[92m+ Test\u001b[39m\n",
            "   \u001b[90m[cf7118a7] \u001b[39m\u001b[92m+ UUIDs\u001b[39m\n",
            "   \u001b[90m[4ec0a83e] \u001b[39m\u001b[92m+ Unicode\u001b[39m\n",
            "   \u001b[90m[e66e0078] \u001b[39m\u001b[92m+ CompilerSupportLibraries_jll v1.1.1+0\u001b[39m\n",
            "   \u001b[90m[deac9b47] \u001b[39m\u001b[92m+ LibCURL_jll v8.4.0+0\u001b[39m\n",
            "   \u001b[90m[e37daf67] \u001b[39m\u001b[92m+ LibGit2_jll v1.6.4+0\u001b[39m\n",
            "   \u001b[90m[29816b5a] \u001b[39m\u001b[92m+ LibSSH2_jll v1.11.0+1\u001b[39m\n",
            "   \u001b[90m[c8ffd9c3] \u001b[39m\u001b[92m+ MbedTLS_jll v2.28.2+1\u001b[39m\n",
            "   \u001b[90m[14a3606d] \u001b[39m\u001b[92m+ MozillaCACerts_jll v2023.1.10\u001b[39m\n",
            "   \u001b[90m[4536629a] \u001b[39m\u001b[92m+ OpenBLAS_jll v0.3.23+4\u001b[39m\n",
            "   \u001b[90m[05823500] \u001b[39m\u001b[92m+ OpenLibm_jll v0.8.1+2\u001b[39m\n",
            "   \u001b[90m[bea87d4a] \u001b[39m\u001b[92m+ SuiteSparse_jll v7.2.1+1\u001b[39m\n",
            "   \u001b[90m[83775a58] \u001b[39m\u001b[92m+ Zlib_jll v1.2.13+1\u001b[39m\n",
            "   \u001b[90m[8e850b90] \u001b[39m\u001b[92m+ libblastrampoline_jll v5.11.0+0\u001b[39m\n",
            "   \u001b[90m[8e850ede] \u001b[39m\u001b[92m+ nghttp2_jll v1.52.0+1\u001b[39m\n",
            "   \u001b[90m[3f19e933] \u001b[39m\u001b[92m+ p7zip_jll v17.4.0+2\u001b[39m\n",
            "\u001b[36m\u001b[1m        Info\u001b[22m\u001b[39m Packages marked with \u001b[91m→\u001b[39m are not downloaded, use `instantiate` to download\n",
            "\u001b[36m\u001b[1m        Info\u001b[22m\u001b[39m Packages marked with \u001b[33m⌅\u001b[39m have new versions available but compatibility constraints restrict them from upgrading. To see why use `status --outdated -m`\n",
            "\u001b[32m\u001b[1mPrecompiling\u001b[22m\u001b[39m packages...\n",
            "    976.2 ms\u001b[32m  ✓ \u001b[39m\u001b[90mLLVMLoopInfo\u001b[39m\n",
            "    899.7 ms\u001b[32m  ✓ \u001b[39m\u001b[90mGlob\u001b[39m\n",
            "    966.6 ms\u001b[32m  ✓ \u001b[39m\u001b[90mExprTools\u001b[39m\n",
            "   1685.8 ms\u001b[32m  ✓ \u001b[39m\u001b[90mStructTypes\u001b[39m\n",
            "   1195.9 ms\u001b[32m  ✓ \u001b[39m\u001b[90mBufferedStreams\u001b[39m\n",
            "   1648.7 ms\u001b[32m  ✓ \u001b[39m\u001b[90mInitialValues\u001b[39m\n",
            "    928.2 ms\u001b[32m  ✓ \u001b[39m\u001b[90mPrettyPrint\u001b[39m\n",
            "    835.8 ms\u001b[32m  ✓ \u001b[39m\u001b[90mArgCheck\u001b[39m\n",
            "   1164.0 ms\u001b[32m  ✓ \u001b[39m\u001b[90mShowCases\u001b[39m\n",
            "   4930.4 ms\u001b[32m  ✓ \u001b[39m\u001b[90mUnsafeAtomics\u001b[39m\n",
            "   1422.2 ms\u001b[32m  ✓ \u001b[39m\u001b[90mInternedStrings\u001b[39m\n",
            "   2758.8 ms\u001b[32m  ✓ \u001b[39m\u001b[90mRandomNumbers\u001b[39m\n",
            "   1223.8 ms\u001b[32m  ✓ \u001b[39m\u001b[90mRealDot\u001b[39m\n",
            "   1380.5 ms\u001b[32m  ✓ \u001b[39m\u001b[90mMPIPreferences\u001b[39m\n",
            "   1127.1 ms\u001b[32m  ✓ \u001b[39m\u001b[90mCompositionsBase\u001b[39m\n",
            "   1523.0 ms\u001b[32m  ✓ \u001b[39m\u001b[90mBFloat16s\u001b[39m\n",
            "    929.3 ms\u001b[32m  ✓ \u001b[39m\u001b[90mHashArrayMappedTries\u001b[39m\n",
            "    723.1 ms\u001b[32m  ✓ \u001b[39m\u001b[90mDefineSingletons\u001b[39m\n",
            "   1067.9 ms\u001b[32m  ✓ \u001b[39m\u001b[90mContextVariablesX\u001b[39m\n",
            "   3809.8 ms\u001b[32m  ✓ \u001b[39m\u001b[90mCUDA_Runtime_Discovery\u001b[39m\n",
            "   3767.3 ms\u001b[32m  ✓ \u001b[39m\u001b[90mIRTools\u001b[39m\n",
            "   1199.9 ms\u001b[32m  ✓ \u001b[39m\u001b[90mEnzymeCore\u001b[39m\n",
            "    882.8 ms\u001b[32m  ✓ \u001b[39m\u001b[90mPackageExtensionCompat\u001b[39m\n",
            "   1033.1 ms\u001b[32m  ✓ \u001b[39m\u001b[90mProgressLogging\u001b[39m\n",
            "   2369.3 ms\u001b[32m  ✓ \u001b[39m\u001b[90mBaselet\u001b[39m\n",
            "   4618.1 ms\u001b[32m  ✓ \u001b[39m\u001b[90mUnitfulAtomic\u001b[39m\n",
            "   1614.9 ms\u001b[32m  ✓ \u001b[39m\u001b[90mGZip\u001b[39m\n",
            "   1750.2 ms\u001b[32m  ✓ \u001b[39m\u001b[90mCommonSubexpressions\u001b[39m\n",
            "   2019.1 ms\u001b[32m  ✓ \u001b[39m\u001b[90mZipFile\u001b[39m\n",
            "   1394.3 ms\u001b[32m  ✓ \u001b[39m\u001b[90mSparseInverseSubset\u001b[39m\n",
            "   2191.7 ms\u001b[32m  ✓ \u001b[39m\u001b[90mZygoteRules\u001b[39m\n",
            "   1130.9 ms\u001b[32m  ✓ \u001b[39m\u001b[90mGPUArraysCore\u001b[39m\n",
            "   1928.7 ms\u001b[32m  ✓ \u001b[39m\u001b[90mMLCore\u001b[39m\n",
            "    912.0 ms\u001b[32m  ✓ \u001b[39m\u001b[90mDiffResults\u001b[39m\n",
            "   2667.2 ms\u001b[32m  ✓ \u001b[39m\u001b[90mSetfield\u001b[39m\n",
            "   5995.3 ms\u001b[32m  ✓ \u001b[39m\u001b[90mPeriodicTable\u001b[39m\n",
            "   1625.0 ms\u001b[32m  ✓ \u001b[39m\u001b[90mCUDA_Driver_jll\u001b[39m\n",
            "   1909.1 ms\u001b[32m  ✓ \u001b[39m\u001b[90mChemfiles_jll\u001b[39m\n",
            "   1322.3 ms\u001b[32m  ✓ \u001b[39m\u001b[90mlibaec_jll\u001b[39m\n",
            "   1116.9 ms\u001b[32m  ✓ \u001b[39m\u001b[90mNVTX_jll\u001b[39m\n",
            "   1308.9 ms\u001b[32m  ✓ \u001b[39m\u001b[90mHwloc_jll\u001b[39m\n",
            "   1230.4 ms\u001b[32m  ✓ \u001b[39m\u001b[90mdemumble_jll\u001b[39m\n",
            "   1742.4 ms\u001b[32m  ✓ \u001b[39m\u001b[90mLLVMExtra_jll\u001b[39m\n",
            "   1232.3 ms\u001b[32m  ✓ \u001b[39m\u001b[90mJuliaNVTXCallbacks_jll\u001b[39m\n",
            "    942.8 ms\u001b[32m  ✓ \u001b[39m\u001b[90mMicrosoftMPI_jll\u001b[39m\n",
            "   1486.6 ms\u001b[32m  ✓ \u001b[39m\u001b[90mFunctors\u001b[39m\n",
            "   2000.9 ms\u001b[32m  ✓ \u001b[39m\u001b[90mStringEncodings\u001b[39m\n"
          ]
        }
      ]
    },
    {
      "cell_type": "markdown",
      "id": "09828e35-8f57-48bf-acee-2eedec9c3557",
      "metadata": {
        "id": "09828e35-8f57-48bf-acee-2eedec9c3557"
      },
      "source": [
        "Import the machine learning library `Flux`"
      ]
    },
    {
      "cell_type": "code",
      "execution_count": null,
      "id": "127ab0b7-5b37-4265-a66e-4c35d7df1ba6",
      "metadata": {
        "id": "127ab0b7-5b37-4265-a66e-4c35d7df1ba6"
      },
      "outputs": [],
      "source": [
        "using Flux # v\"0.16.0\"\n",
        "using Flux: @functor\n",
        "using Flux: DataLoader\n",
        "using Flux: onecold, onehotbatch"
      ]
    },
    {
      "cell_type": "code",
      "execution_count": null,
      "id": "ed08fb17-bcad-4ee8-ab55-0a11588804ea",
      "metadata": {
        "id": "ed08fb17-bcad-4ee8-ab55-0a11588804ea"
      },
      "outputs": [],
      "source": [
        "using ProgressMeter: Progress, next!"
      ]
    },
    {
      "cell_type": "code",
      "execution_count": null,
      "id": "f7c37037-9d7e-4e72-8346-f8328326c610",
      "metadata": {
        "id": "f7c37037-9d7e-4e72-8346-f8328326c610",
        "outputId": "f3b81104-33ae-45ee-bbb6-8963041116f7"
      },
      "outputs": [
        {
          "data": {
            "text/plain": [
              "dataset MNIST:\n",
              "  metadata  =>    Dict{String, Any} with 3 entries\n",
              "  split     =>    :train\n",
              "  features  =>    28×28×60000 Array{Float32, 3}\n",
              "  targets   =>    60000-element Vector{Int64}"
            ]
          },
          "execution_count": 5,
          "metadata": {},
          "output_type": "execute_result"
        }
      ],
      "source": [
        "using MLDatasets\n",
        "d = MNIST()"
      ]
    },
    {
      "cell_type": "code",
      "execution_count": null,
      "id": "74719038-eea2-4101-b795-71f3210c040c",
      "metadata": {
        "id": "74719038-eea2-4101-b795-71f3210c040c",
        "outputId": "51f399b8-bdbf-47c4-bd62-9e28ce8ee500"
      },
      "outputs": [
        {
          "data": {
            "text/plain": [
              "HyperParams"
            ]
          },
          "execution_count": 6,
          "metadata": {},
          "output_type": "execute_result"
        }
      ],
      "source": [
        "Base.@kwdef mutable struct HyperParams\n",
        "    η = 3f-3                        # Learning rate\n",
        "    λ = 1f-2                        # Regularization parameter\n",
        "    batchsize = 64                  # Batch size\n",
        "    epochs = 16                     # Number of epochs\n",
        "    split = :train                  # Split data into `train` and `test`\n",
        "    input_dim = 28*28               # Input dimension\n",
        "    hidden_dim = 512                # Hidden dimension\n",
        "    latent_dim = 2                  # Latent dimension\n",
        "    # save_path = \"Output\"          # Results folder\n",
        "end"
      ]
    },
    {
      "cell_type": "markdown",
      "id": "1d86adcb-099a-4afc-b554-0717640aae0c",
      "metadata": {
        "id": "1d86adcb-099a-4afc-b554-0717640aae0c"
      },
      "source": [
        "Load the **MNIST** dataset"
      ]
    },
    {
      "cell_type": "code",
      "execution_count": null,
      "id": "bc126bdd-1dfd-44c1-b6fb-bfa019516e44",
      "metadata": {
        "id": "bc126bdd-1dfd-44c1-b6fb-bfa019516e44",
        "outputId": "4c3b6ec9-b69b-4362-866b-5d2bb89fa0d8"
      },
      "outputs": [
        {
          "data": {
            "text/plain": [
              "get_data (generic function with 1 method)"
            ]
          },
          "execution_count": 7,
          "metadata": {},
          "output_type": "execute_result"
        }
      ],
      "source": [
        "function get_data(; kws...)\n",
        "    args = HyperParams(; kws...);\n",
        "    # Split data\n",
        "    data = MNIST(split=args.split);\n",
        "    X = reshape(data.features, (args.input_dim, :));\n",
        "    loader = DataLoader(X; batchsize=args.batchsize, shuffle=true) |> gpu;\n",
        "    return loader\n",
        "end"
      ]
    },
    {
      "cell_type": "code",
      "execution_count": null,
      "id": "5e8eeff3-a9db-42de-9005-aa5cc2adfa13",
      "metadata": {
        "id": "5e8eeff3-a9db-42de-9005-aa5cc2adfa13"
      },
      "outputs": [],
      "source": [
        "train_loader = get_data();\n",
        "test_loader = get_data(split=:test);"
      ]
    },
    {
      "cell_type": "markdown",
      "id": "bc40899e-5ae7-4e21-8315-cc3c9fb71571",
      "metadata": {
        "id": "bc40899e-5ae7-4e21-8315-cc3c9fb71571"
      },
      "source": [
        "Define the `encoder` network: The encoder network should return the parameters of the _latent distribution_ (μ and σ)."
      ]
    },
    {
      "cell_type": "code",
      "execution_count": null,
      "id": "79fcdbea-c6d4-4d51-ab1f-e75fb33940ec",
      "metadata": {
        "id": "79fcdbea-c6d4-4d51-ab1f-e75fb33940ec"
      },
      "outputs": [],
      "source": [
        "struct Encoder\n",
        "    linear\n",
        "    μ\n",
        "    log_σ\n",
        "end"
      ]
    },
    {
      "cell_type": "code",
      "execution_count": null,
      "id": "9f1c171e-a2f6-4a65-9843-6f7f5ec3a46c",
      "metadata": {
        "id": "9f1c171e-a2f6-4a65-9843-6f7f5ec3a46c",
        "outputId": "14f1b434-f2e8-4946-cd68-8ad408b553a6"
      },
      "outputs": [
        {
          "name": "stderr",
          "output_type": "stream",
          "text": [
            "\u001b[33m\u001b[1m┌ \u001b[22m\u001b[39m\u001b[33m\u001b[1mWarning: \u001b[22m\u001b[39mThe use of `Flux.@functor` is deprecated.\n",
            "\u001b[33m\u001b[1m│ \u001b[22m\u001b[39mMost likely, you should write `Flux.@layer MyLayer`which will add various convenience methods for your type,such as pretty-printing and use with Adapt.jl.\n",
            "\u001b[33m\u001b[1m│ \u001b[22m\u001b[39mHowever, this is not required. Flux.jl v0.15 uses Functors.jl v0.5,which makes exploration of most nested `struct`s opt-out instead of opt-in...so Flux will automatically see inside any custom struct definitions.\n",
            "\u001b[33m\u001b[1m│ \u001b[22m\u001b[39mIf you really want to apply the `@functor` macro to a custom struct, use `Functors.@functor` instead.\n",
            "\u001b[33m\u001b[1m└ \u001b[22m\u001b[39m\u001b[90m@ Flux ~/.julia/packages/Flux/Mhg1r/src/deprecations.jl:101\u001b[39m\n"
          ]
        }
      ],
      "source": [
        "@functor Encoder"
      ]
    },
    {
      "cell_type": "code",
      "execution_count": null,
      "id": "5f6dfed6-ee27-4d16-89da-510dde2e132d",
      "metadata": {
        "id": "5f6dfed6-ee27-4d16-89da-510dde2e132d",
        "outputId": "310dc301-cd80-4216-e25c-5665745b490e"
      },
      "outputs": [
        {
          "data": {
            "text/plain": [
              "encoder (generic function with 1 method)"
            ]
          },
          "execution_count": 11,
          "metadata": {},
          "output_type": "execute_result"
        }
      ],
      "source": [
        "encoder(input_dim::Int, hidden_dim::Int, latent_dim::Int) = Encoder(\n",
        "    Dense(input_dim, hidden_dim, tanh),   # linear\n",
        "    Dense(hidden_dim, latent_dim),        # μ\n",
        "    Dense(hidden_dim, latent_dim),        # log_σ\n",
        "    ) |> gpu"
      ]
    },
    {
      "cell_type": "code",
      "execution_count": null,
      "id": "938a17e8-4a49-46ab-815a-73fd70cd2e46",
      "metadata": {
        "id": "938a17e8-4a49-46ab-815a-73fd70cd2e46"
      },
      "outputs": [],
      "source": [
        "function (encoder::Encoder)(x)\n",
        "    h = encoder.linear(x)\n",
        "    encoder.μ(h), encoder.log_σ(h)\n",
        "end"
      ]
    },
    {
      "cell_type": "markdown",
      "id": "2b653535-0cfb-44e7-ab0f-363638bb0cd5",
      "metadata": {
        "id": "2b653535-0cfb-44e7-ab0f-363638bb0cd5"
      },
      "source": [
        "Define the `decoder` network: The decoder network should return the reconstruction of the input data"
      ]
    },
    {
      "cell_type": "code",
      "execution_count": null,
      "id": "6bc6817b-1f4a-4d65-89ca-8d9ede2f4b11",
      "metadata": {
        "id": "6bc6817b-1f4a-4d65-89ca-8d9ede2f4b11",
        "outputId": "4b922833-0af7-4300-88db-3f9bb88e3190"
      },
      "outputs": [
        {
          "data": {
            "text/plain": [
              "decoder (generic function with 1 method)"
            ]
          },
          "execution_count": 13,
          "metadata": {},
          "output_type": "execute_result"
        }
      ],
      "source": [
        "decoder(input_dim::Int, hidden_dim::Int, latent_dim::Int) = Chain(\n",
        "    Dense(latent_dim, hidden_dim, tanh),\n",
        "    Dense(hidden_dim, input_dim)\n",
        "    ) |> gpu"
      ]
    },
    {
      "cell_type": "markdown",
      "id": "7dca5ce8-aced-43b8-9c01-75a7893153ef",
      "metadata": {
        "id": "7dca5ce8-aced-43b8-9c01-75a7893153ef"
      },
      "source": [
        "Reconstruction of the input data"
      ]
    },
    {
      "cell_type": "code",
      "execution_count": null,
      "id": "9ae574d6-17b2-4aba-8749-09d2b84bf95c",
      "metadata": {
        "id": "9ae574d6-17b2-4aba-8749-09d2b84bf95c",
        "outputId": "68a1ce71-9f68-4c67-d0b0-cfd62bb34617"
      },
      "outputs": [
        {
          "data": {
            "text/plain": [
              "vae (generic function with 1 method)"
            ]
          },
          "execution_count": 14,
          "metadata": {},
          "output_type": "execute_result"
        }
      ],
      "source": [
        "function vae(x, enc, dec)\n",
        "    # Encode `x` into the latent space\n",
        "    μ, log_σ = enc(x)\n",
        "    # `z` si a sample from the latent distribution\n",
        "    z = μ + randn(Float32, size(log_σ)) .* exp.(log_σ)\n",
        "    # Decode the latent representation into a reconstruction of `x`\n",
        "    x̂ = dec(z)\n",
        "    # Return μ, log_σ and x̂\n",
        "    μ, log_σ, x̂\n",
        "end"
      ]
    },
    {
      "cell_type": "code",
      "execution_count": null,
      "id": "99660b4d-c3ce-469c-bb9c-fdd86a3feb13",
      "metadata": {
        "id": "99660b4d-c3ce-469c-bb9c-fdd86a3feb13",
        "outputId": "77753333-bdbe-4b38-c866-4a8495a3eda7"
      },
      "outputs": [
        {
          "data": {
            "text/plain": [
              "l (generic function with 1 method)"
            ]
          },
          "execution_count": 15,
          "metadata": {},
          "output_type": "execute_result"
        }
      ],
      "source": [
        "function l(x, enc, dec, λ)\n",
        "    μ, log_σ, x̂ = vae(x, enc, dec)\n",
        "    len = size(x)[end]\n",
        "    # The reconstruction loss measures how well the VAE was able to reconstruct the input data\n",
        "    logp_x_z = -Flux.Losses.logitbinarycrossentropy(x̂, x, agg=sum) / len\n",
        "    # The KL divergence loss measures how close the latent distribution is to the normal distribution\n",
        "    kl_q_p = 5f-1 * sum(@. (-2f0 * log_σ - 1f0 + exp(2f0 * log_σ) + μ^2)) / len\n",
        "    # L2 Regularization\n",
        "    reg = λ * sum( θ -> sum(θ.^2), Flux.params(dec) )\n",
        "    # Sum of the reconstruction loss and the KL divergence loss\n",
        "    -logp_x_z + kl_q_p + reg\n",
        "end"
      ]
    },
    {
      "cell_type": "code",
      "execution_count": null,
      "id": "e8ace135-e555-4266-a007-ae7c91b3adc7",
      "metadata": {
        "id": "e8ace135-e555-4266-a007-ae7c91b3adc7",
        "outputId": "abcb1063-f163-4e38-88d0-2f09c7f8e128"
      },
      "outputs": [
        {
          "data": {
            "text/plain": [
              "train (generic function with 1 method)"
            ]
          },
          "execution_count": 16,
          "metadata": {},
          "output_type": "execute_result"
        }
      ],
      "source": [
        "function train(; kws...)\n",
        "    args = HyperParams(; kws...)\n",
        "\n",
        "    # Initialize `encoder` and `decoder`\n",
        "    enc_mdl = encoder(args.input_dim, args.hidden_dim, args.latent_dim)\n",
        "    dec_mdl = decoder(args.input_dim, args.hidden_dim, args.latent_dim)\n",
        "\n",
        "    # ADAM optimizers\n",
        "    opt_enc = Flux.setup(Adam(args.η), enc_mdl)\n",
        "    opt_dec = Flux.setup(Adam(args.η), dec_mdl)\n",
        "\n",
        "    for epoch in 1:args.epochs\n",
        "        printstyled(\"\\t***\\t === EPOCH $(epoch) === \\t*** \\n\", color=:magenta, bold=true)\n",
        "        progress = Progress(length(train_loader))\n",
        "        for X in train_loader\n",
        "                loss, back = Flux.pullback(enc_mdl, dec_mdl) do enc, dec\n",
        "                    l(X, enc, dec, args.λ)\n",
        "                end\n",
        "                grad_enc, grad_dec = back(1f0)\n",
        "                Flux.update!(opt_enc, enc_mdl, grad_enc) # Upd `encoder` params\n",
        "                Flux.update!(opt_dec, dec_mdl, grad_dec) # Upd `decoder` params\n",
        "                next!(progress; showvalues=[(:loss, loss)])\n",
        "        end\n",
        "    end\n",
        "\n",
        "    # Save the model\n",
        "    #=\n",
        "    using DrWatson: struct2dict\n",
        "    using BSON\n",
        "\n",
        "    mdl_path = joinpath(args.save_path, \"vae.bson\")\n",
        "    let args=struct2dict(args)\n",
        "    \tBSON.@save mdl_path encoder decoder args\n",
        "    \t@info \"Model saved to $(mdl_path)\"\n",
        "    end\n",
        "    =#\n",
        "\n",
        "    enc_mdl, dec_mdl\n",
        "end"
      ]
    },
    {
      "cell_type": "code",
      "execution_count": null,
      "id": "94970592-419d-4779-9f21-7a7f626503f8",
      "metadata": {
        "jupyter": {
          "outputs_hidden": true
        },
        "scrolled": true,
        "id": "94970592-419d-4779-9f21-7a7f626503f8",
        "outputId": "3220f135-cfb5-439f-ae9a-0f00d69785db"
      },
      "outputs": [
        {
          "name": "stderr",
          "output_type": "stream",
          "text": [
            "\u001b[33m\u001b[1m┌ \u001b[22m\u001b[39m\u001b[33m\u001b[1mWarning: \u001b[22m\u001b[39mProgressMeter by default refresh meters with additional information in IJulia via `IJulia.clear_output`, which clears all outputs in the cell. \n",
            "\u001b[33m\u001b[1m│ \u001b[22m\u001b[39m - To prevent this behaviour, do `ProgressMeter.ijulia_behavior(:append)`. \n",
            "\u001b[33m\u001b[1m│ \u001b[22m\u001b[39m - To disable this warning message, do `ProgressMeter.ijulia_behavior(:clear)`.\n",
            "\u001b[33m\u001b[1m└ \u001b[22m\u001b[39m\u001b[90m@ ProgressMeter ~/.julia/packages/ProgressMeter/kVZZH/src/ProgressMeter.jl:594\u001b[39m\n",
            "\u001b[32mProgress:  15%|██████▎                                  |  ETA: 0:12:19\u001b[39m\n",
            "\u001b[34m  loss:  192.82417\u001b[39m"
          ]
        },
        {
          "ename": "LoadError",
          "evalue": "InterruptException:",
          "output_type": "error",
          "traceback": [
            "InterruptException:",
            "",
            "Stacktrace:",
            "  [1] _fast_broadcast!(f::ComposedFunction{typeof(identity), typeof(+)}, x::Matrix{Float32}, yz::Vector{Float32})",
            "    @ NNlib ~/.julia/packages/NNlib/mRRJu/src/utils.jl:131",
            "  [2] bias_act!",
            "    @ ~/.julia/packages/NNlib/mRRJu/src/bias_act.jl:32 [inlined]",
            "  [3] rrule",
            "    @ ~/.julia/packages/NNlib/mRRJu/src/bias_act.jl:101 [inlined]",
            "  [4] chain_rrule",
            "    @ ~/.julia/packages/Zygote/nyzjS/src/compiler/chainrules.jl:224 [inlined]",
            "  [5] macro expansion",
            "    @ ~/.julia/packages/Zygote/nyzjS/src/compiler/interface2.jl:0 [inlined]",
            "  [6] _pullback",
            "    @ ~/.julia/packages/Zygote/nyzjS/src/compiler/interface2.jl:87 [inlined]",
            "  [7] Dense",
            "    @ ~/.julia/packages/Flux/Mhg1r/src/layers/basic.jl:199 [inlined]",
            "  [8] _pullback(ctx::Zygote.Context{false}, f::Dense{typeof(identity), Matrix{Float32}, Vector{Float32}}, args::Matrix{Float32})",
            "    @ Zygote ~/.julia/packages/Zygote/nyzjS/src/compiler/interface2.jl:0",
            "  [9] _applychain",
            "    @ ~/.julia/packages/Flux/Mhg1r/src/layers/basic.jl:68 [inlined]",
            " [10] Chain",
            "    @ ~/.julia/packages/Flux/Mhg1r/src/layers/basic.jl:65 [inlined]",
            " [11] _pullback(ctx::Zygote.Context{false}, f::Chain{Tuple{Dense{typeof(tanh), Matrix{Float32}, Vector{Float32}}, Dense{typeof(identity), Matrix{Float32}, Vector{Float32}}}}, args::Matrix{Float32})",
            "    @ Zygote ~/.julia/packages/Zygote/nyzjS/src/compiler/interface2.jl:0",
            " [12] vae",
            "    @ ./In[14]:7 [inlined]",
            " [13] _pullback(::Zygote.Context{false}, ::typeof(vae), ::Matrix{Float32}, ::Encoder, ::Chain{Tuple{Dense{typeof(tanh), Matrix{Float32}, Vector{Float32}}, Dense{typeof(identity), Matrix{Float32}, Vector{Float32}}}})",
            "    @ Zygote ~/.julia/packages/Zygote/nyzjS/src/compiler/interface2.jl:0",
            " [14] l",
            "    @ ./In[15]:2 [inlined]",
            " [15] _pullback(::Zygote.Context{false}, ::typeof(l), ::Matrix{Float32}, ::Encoder, ::Chain{Tuple{Dense{typeof(tanh), Matrix{Float32}, Vector{Float32}}, Dense{typeof(identity), Matrix{Float32}, Vector{Float32}}}}, ::Float32)",
            "    @ Zygote ~/.julia/packages/Zygote/nyzjS/src/compiler/interface2.jl:0",
            " [16] #9",
            "    @ ./In[16]:17 [inlined]",
            " [17] _pullback(::Zygote.Context{false}, ::var\"#9#10\"{HyperParams, Matrix{Float32}}, ::Encoder, ::Chain{Tuple{Dense{typeof(tanh), Matrix{Float32}, Vector{Float32}}, Dense{typeof(identity), Matrix{Float32}, Vector{Float32}}}})",
            "    @ Zygote ~/.julia/packages/Zygote/nyzjS/src/compiler/interface2.jl:0",
            " [18] pullback(::Function, ::Zygote.Context{false}, ::Encoder, ::Vararg{Any})",
            "    @ Zygote ~/.julia/packages/Zygote/nyzjS/src/compiler/interface.jl:90",
            " [19] pullback",
            "    @ ~/.julia/packages/Zygote/nyzjS/src/compiler/interface.jl:88 [inlined]",
            " [20] train(; kws::@Kwargs{})",
            "    @ Main ./In[16]:16",
            " [21] train()",
            "    @ Main ./In[16]:1",
            " [22] top-level scope",
            "    @ In[17]:1"
          ]
        }
      ],
      "source": [
        "enc_model, dec_model = train()"
      ]
    }
  ],
  "metadata": {
    "kernelspec": {
      "display_name": "Julia",
      "name": "julia"
    },
    "language_info": {
      "name": "julia"
    },
    "colab": {
      "provenance": [],
      "gpuType": "T4",
      "include_colab_link": true
    },
    "accelerator": "GPU"
  },
  "nbformat": 4,
  "nbformat_minor": 5
}