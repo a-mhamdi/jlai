{
  "cells": [
    {
      "cell_type": "markdown",
      "metadata": {
        "id": "view-in-github",
        "colab_type": "text"
      },
      "source": [
        "<a href=\"https://colab.research.google.com/github/a-mhamdi/jlai/blob/main/Codes/Julia/Part-3/vae/vae.ipynb\" target=\"_parent\"><img src=\"https://colab.research.google.com/assets/colab-badge.svg\" alt=\"Open In Colab\"/></a>"
      ]
    },
    {
      "cell_type": "markdown",
      "id": "5cedd213-90cc-4106-91d3-ec0ac4c8ff65",
      "metadata": {
        "id": "5cedd213-90cc-4106-91d3-ec0ac4c8ff65"
      },
      "source": [
        "# VARIATIONAL AUTOENCODER (VAE)\n",
        "---"
      ]
    },
    {
      "cell_type": "markdown",
      "id": "58bdb6b7-1714-405f-8112-699ff9c37c6a",
      "metadata": {
        "id": "58bdb6b7-1714-405f-8112-699ff9c37c6a"
      },
      "source": [
        "VAE implemented in `Julia` using the `Flux.jl` library"
      ]
    },
    {
      "cell_type": "code",
      "execution_count": 1,
      "id": "beab227b-2d88-4b30-ac4d-52f0ebbaf1c3",
      "metadata": {
        "id": "beab227b-2d88-4b30-ac4d-52f0ebbaf1c3",
        "outputId": "d93c6841-3c68-4000-a9a8-1c3d5c944f72",
        "colab": {
          "base_uri": "https://localhost:8080/"
        }
      },
      "outputs": [
        {
          "output_type": "stream",
          "name": "stdout",
          "text": [
            "Julia Version 1.10.8\n",
            "Commit 4c16ff44be8 (2025-01-22 10:06 UTC)\n",
            "Build Info:\n",
            "  Official https://julialang.org/ release\n",
            "Platform Info:\n",
            "  OS: Linux (x86_64-linux-gnu)\n",
            "  CPU: 2 × Intel(R) Xeon(R) CPU @ 2.00GHz\n",
            "  WORD_SIZE: 64\n",
            "  LIBM: libopenlibm\n",
            "  LLVM: libLLVM-15.0.7 (ORCJIT, skylake-avx512)\n",
            "Threads: 2 default, 0 interactive, 1 GC (on 2 virtual cores)\n",
            "Environment:\n",
            "  LD_LIBRARY_PATH = /usr/lib64-nvidia\n",
            "  JULIA_NUM_THREADS = 2\n"
          ]
        }
      ],
      "source": [
        "versioninfo()"
      ]
    },
    {
      "cell_type": "code",
      "source": [
        "using Pkg; Pkg.add([ \"Flux\", \"MLDatasets\", \"ProgressMeter\", \"LuxCUDA\" ])"
      ],
      "metadata": {
        "id": "7ksi813rjnL9",
        "outputId": "17ba5ecc-ab19-4745-a77a-76e3686e5488",
        "colab": {
          "base_uri": "https://localhost:8080/"
        },
        "collapsed": true
      },
      "id": "7ksi813rjnL9",
      "execution_count": 2,
      "outputs": [
        {
          "output_type": "stream",
          "name": "stderr",
          "text": [
            "\u001b[32m\u001b[1m    Updating\u001b[22m\u001b[39m registry at `~/.julia/registries/General.toml`\n",
            "\u001b[32m\u001b[1m   Resolving\u001b[22m\u001b[39m package versions...\n",
            "\u001b[32m\u001b[1m   Installed\u001b[22m\u001b[39m cuDNN ────────────────── v1.4.1\n",
            "\u001b[32m\u001b[1m   Installed\u001b[22m\u001b[39m ZipFile ──────────────── v0.10.1\n",
            "\u001b[32m\u001b[1m   Installed\u001b[22m\u001b[39m LLVMLoopInfo ─────────── v1.0.0\n",
            "\u001b[32m\u001b[1m   Installed\u001b[22m\u001b[39m ContextVariablesX ────── v0.1.3\n",
            "\u001b[32m\u001b[1m   Installed\u001b[22m\u001b[39m TimerOutputs ─────────── v0.5.28\n",
            "\u001b[32m\u001b[1m   Installed\u001b[22m\u001b[39m Accessors ────────────── v0.1.42\n",
            "\u001b[32m\u001b[1m   Installed\u001b[22m\u001b[39m ShowCases ────────────── v0.1.0\n",
            "\u001b[32m\u001b[1m   Installed\u001b[22m\u001b[39m NNlib ────────────────── v0.9.28\n",
            "\u001b[32m\u001b[1m   Installed\u001b[22m\u001b[39m NVTX_jll ─────────────── v3.1.1+0\n",
            "\u001b[32m\u001b[1m   Installed\u001b[22m\u001b[39m ScopedValues ─────────── v1.3.0\n",
            "\u001b[32m\u001b[1m   Installed\u001b[22m\u001b[39m BFloat16s ────────────── v0.5.0\n",
            "\u001b[32m\u001b[1m   Installed\u001b[22m\u001b[39m Optimisers ───────────── v0.4.5\n",
            "\u001b[32m\u001b[1m   Installed\u001b[22m\u001b[39m InitialValues ────────── v0.3.1\n",
            "\u001b[32m\u001b[1m   Installed\u001b[22m\u001b[39m GPUArrays ────────────── v11.2.2\n",
            "\u001b[32m\u001b[1m   Installed\u001b[22m\u001b[39m MAT ──────────────────── v0.10.7\n",
            "\u001b[32m\u001b[1m   Installed\u001b[22m\u001b[39m CUDA_Runtime_jll ─────── v0.15.5+0\n",
            "\u001b[32m\u001b[1m   Installed\u001b[22m\u001b[39m PrettyPrint ──────────── v0.2.0\n",
            "\u001b[32m\u001b[1m   Installed\u001b[22m\u001b[39m MLUtils ──────────────── v0.4.7\n",
            "\u001b[32m\u001b[1m   Installed\u001b[22m\u001b[39m JLD2 ─────────────────── v0.5.11\n",
            "\u001b[32m\u001b[1m   Installed\u001b[22m\u001b[39m RandomNumbers ────────── v1.6.0\n",
            "\u001b[32m\u001b[1m   Installed\u001b[22m\u001b[39m Chemfiles ────────────── v0.10.42\n",
            "\u001b[32m\u001b[1m   Installed\u001b[22m\u001b[39m LLVM ─────────────────── v9.2.0\n",
            "\u001b[32m\u001b[1m   Installed\u001b[22m\u001b[39m ZygoteRules ──────────── v0.2.7\n",
            "\u001b[32m\u001b[1m   Installed\u001b[22m\u001b[39m demumble_jll ─────────── v1.3.0+0\n",
            "\u001b[32m\u001b[1m   Installed\u001b[22m\u001b[39m MLCore ───────────────── v1.0.0\n",
            "\u001b[32m\u001b[1m   Installed\u001b[22m\u001b[39m GZip ─────────────────── v0.6.2\n",
            "\u001b[32m\u001b[1m   Installed\u001b[22m\u001b[39m FLoopsBase ───────────── v0.1.1\n",
            "\u001b[32m\u001b[1m   Installed\u001b[22m\u001b[39m RealDot ──────────────── v0.1.0\n",
            "\u001b[32m\u001b[1m   Installed\u001b[22m\u001b[39m AtomsBase ────────────── v0.5.1\n",
            "\u001b[32m\u001b[1m   Installed\u001b[22m\u001b[39m Functors ─────────────── v0.5.2\n",
            "\u001b[32m\u001b[1m   Installed\u001b[22m\u001b[39m IRTools ──────────────── v0.4.14\n",
            "\u001b[32m\u001b[1m   Installed\u001b[22m\u001b[39m CUDA_Driver_jll ──────── v0.10.4+0\n",
            "\u001b[32m\u001b[1m   Installed\u001b[22m\u001b[39m Hwloc_jll ────────────── v2.12.0+0\n",
            "\u001b[32m\u001b[1m   Installed\u001b[22m\u001b[39m MicrosoftMPI_jll ─────── v10.1.4+3\n",
            "\u001b[32m\u001b[1m   Installed\u001b[22m\u001b[39m CUDA_Runtime_Discovery ─ v0.3.5\n",
            "\u001b[32m\u001b[1m   Installed\u001b[22m\u001b[39m StringEncodings ──────── v0.3.7\n",
            "\u001b[32m\u001b[1m   Installed\u001b[22m\u001b[39m OneHotArrays ─────────── v0.2.6\n",
            "\u001b[32m\u001b[1m   Installed\u001b[22m\u001b[39m MicroCollections ─────── v0.2.0\n",
            "\u001b[32m\u001b[1m   Installed\u001b[22m\u001b[39m NameResolution ───────── v0.1.5\n",
            "\u001b[32m\u001b[1m   Installed\u001b[22m\u001b[39m MPIPreferences ───────── v0.1.11\n",
            "\u001b[32m\u001b[1m   Installed\u001b[22m\u001b[39m ProgressLogging ──────── v0.1.4\n",
            "\u001b[32m\u001b[1m   Installed\u001b[22m\u001b[39m LuxCUDA ──────────────── v0.3.3\n",
            "\u001b[32m\u001b[1m   Installed\u001b[22m\u001b[39m CommonSubexpressions ─── v0.3.1\n",
            "\u001b[32m\u001b[1m   Installed\u001b[22m\u001b[39m ChainRules ───────────── v1.72.3\n",
            "\u001b[32m\u001b[1m   Installed\u001b[22m\u001b[39m Zygote ───────────────── v0.7.4\n",
            "\u001b[32m\u001b[1m   Installed\u001b[22m\u001b[39m BufferedStreams ──────── v1.2.2\n",
            "\u001b[32m\u001b[1m   Installed\u001b[22m\u001b[39m DefineSingletons ─────── v0.1.2\n",
            "\u001b[32m\u001b[1m   Installed\u001b[22m\u001b[39m Random123 ────────────── v1.7.0\n",
            "\u001b[32m\u001b[1m   Installed\u001b[22m\u001b[39m MLDataDevices ────────── v1.9.1\n",
            "\u001b[32m\u001b[1m   Installed\u001b[22m\u001b[39m StridedViews ─────────── v0.2.2\n",
            "\u001b[32m\u001b[1m   Installed\u001b[22m\u001b[39m ExprTools ────────────── v0.1.10\n",
            "\u001b[32m\u001b[1m   Installed\u001b[22m\u001b[39m BangBang ─────────────── v0.4.4\n",
            "\u001b[32m\u001b[1m   Installed\u001b[22m\u001b[39m FLoops ───────────────── v0.2.2\n",
            "\u001b[32m\u001b[1m   Installed\u001b[22m\u001b[39m PeriodicTable ────────── v1.2.1\n",
            "\u001b[32m\u001b[1m   Installed\u001b[22m\u001b[39m StructTypes ──────────── v1.11.0\n",
            "\u001b[32m\u001b[1m   Installed\u001b[22m\u001b[39m MPICH_jll ────────────── v4.3.0+1\n",
            "\u001b[32m\u001b[1m   Installed\u001b[22m\u001b[39m DiffRules ────────────── v1.15.1\n",
            "\u001b[32m\u001b[1m   Installed\u001b[22m\u001b[39m JSON3 ────────────────── v1.14.1\n",
            "\u001b[32m\u001b[1m   Installed\u001b[22m\u001b[39m MLStyle ──────────────── v0.4.17\n",
            "\u001b[32m\u001b[1m   Installed\u001b[22m\u001b[39m DiffResults ──────────── v1.1.0\n",
            "\u001b[32m\u001b[1m   Installed\u001b[22m\u001b[39m DataDeps ─────────────── v0.7.13\n",
            "\u001b[32m\u001b[1m   Installed\u001b[22m\u001b[39m Glob ─────────────────── v1.3.1\n",
            "\u001b[32m\u001b[1m   Installed\u001b[22m\u001b[39m ImageShow ────────────── v0.3.8\n",
            "\u001b[32m\u001b[1m   Installed\u001b[22m\u001b[39m ArgCheck ─────────────── v2.4.0\n",
            "\u001b[32m\u001b[1m   Installed\u001b[22m\u001b[39m HashArrayMappedTries ─── v0.2.0\n",
            "\u001b[32m\u001b[1m   Installed\u001b[22m\u001b[39m NVTX ─────────────────── v0.3.5\n",
            "\u001b[32m\u001b[1m   Installed\u001b[22m\u001b[39m Setfield ─────────────── v1.1.2\n",
            "\u001b[32m\u001b[1m   Installed\u001b[22m\u001b[39m OpenMPI_jll ──────────── v5.0.7+1\n",
            "\u001b[32m\u001b[1m   Installed\u001b[22m\u001b[39m Flux ─────────────────── v0.16.3\n",
            "\u001b[32m\u001b[1m   Installed\u001b[22m\u001b[39m LLVMExtra_jll ────────── v0.0.35+0\n",
            "\u001b[32m\u001b[1m   Installed\u001b[22m\u001b[39m EnzymeCore ───────────── v0.8.8\n",
            "\u001b[32m\u001b[1m   Installed\u001b[22m\u001b[39m CompositionsBase ─────── v0.1.2\n",
            "\u001b[32m\u001b[1m   Installed\u001b[22m\u001b[39m PackageExtensionCompat ─ v1.0.2\n",
            "\u001b[32m\u001b[1m   Installed\u001b[22m\u001b[39m UnsafeAtomics ────────── v0.3.0\n",
            "\u001b[32m\u001b[1m   Installed\u001b[22m\u001b[39m KernelAbstractions ───── v0.9.34\n",
            "\u001b[32m\u001b[1m   Installed\u001b[22m\u001b[39m HDF5_jll ─────────────── v1.14.6+0\n",
            "\u001b[32m\u001b[1m   Installed\u001b[22m\u001b[39m MLDatasets ───────────── v0.7.18\n",
            "\u001b[32m\u001b[1m   Installed\u001b[22m\u001b[39m GPUArraysCore ────────── v0.2.0\n",
            "\u001b[32m\u001b[1m   Installed\u001b[22m\u001b[39m JuliaVariables ───────── v0.2.4\n",
            "\u001b[32m\u001b[1m   Installed\u001b[22m\u001b[39m Atomix ───────────────── v1.1.1\n",
            "\u001b[32m\u001b[1m   Installed\u001b[22m\u001b[39m HDF5 ─────────────────── v0.17.2\n",
            "\u001b[32m\u001b[1m   Installed\u001b[22m\u001b[39m libaec_jll ───────────── v1.1.3+0\n",
            "\u001b[32m\u001b[1m   Installed\u001b[22m\u001b[39m InternedStrings ──────── v0.7.0\n",
            "\u001b[32m\u001b[1m   Installed\u001b[22m\u001b[39m Transducers ──────────── v0.4.84\n",
            "\u001b[32m\u001b[1m   Installed\u001b[22m\u001b[39m NPZ ──────────────────── v0.4.3\n",
            "\u001b[32m\u001b[1m   Installed\u001b[22m\u001b[39m Chemfiles_jll ────────── v0.10.4+0\n",
            "\u001b[32m\u001b[1m   Installed\u001b[22m\u001b[39m GPUCompiler ──────────── v1.2.0\n",
            "\u001b[32m\u001b[1m   Installed\u001b[22m\u001b[39m ForwardDiff ──────────── v0.10.38\n",
            "\u001b[32m\u001b[1m   Installed\u001b[22m\u001b[39m UnitfulAtomic ────────── v1.0.0\n",
            "\u001b[32m\u001b[1m   Installed\u001b[22m\u001b[39m JuliaNVTXCallbacks_jll ─ v0.2.1+0\n",
            "\u001b[32m\u001b[1m   Installed\u001b[22m\u001b[39m SparseInverseSubset ──── v0.1.2\n",
            "\u001b[32m\u001b[1m   Installed\u001b[22m\u001b[39m MPItrampoline_jll ────── v5.5.3+0\n",
            "\u001b[32m\u001b[1m   Installed\u001b[22m\u001b[39m SplittablesBase ──────── v0.1.15\n",
            "\u001b[32m\u001b[1m   Installed\u001b[22m\u001b[39m CUDNN_jll ────────────── v9.4.0+0\n",
            "\u001b[32m\u001b[1m   Installed\u001b[22m\u001b[39m Baselet ──────────────── v0.1.1\n",
            "\u001b[32m\u001b[1m   Installed\u001b[22m\u001b[39m Pickle ───────────────── v0.3.5\n",
            "\u001b[32m\u001b[1m   Installed\u001b[22m\u001b[39m CUDA ─────────────────── v5.6.1\n",
            "\u001b[32m\u001b[1m    Updating\u001b[22m\u001b[39m `~/.julia/environments/v1.10/Project.toml`\n",
            "  \u001b[90m[587475ba] \u001b[39m\u001b[92m+ Flux v0.16.3\u001b[39m\n",
            "  \u001b[90m[d0bbae9a] \u001b[39m\u001b[92m+ LuxCUDA v0.3.3\u001b[39m\n",
            "  \u001b[90m[eb30cadb] \u001b[39m\u001b[92m+ MLDatasets v0.7.18\u001b[39m\n",
            "  \u001b[90m[92933f4c] \u001b[39m\u001b[92m+ ProgressMeter v1.10.2\u001b[39m\n",
            "\u001b[32m\u001b[1m    Updating\u001b[22m\u001b[39m `~/.julia/environments/v1.10/Manifest.toml`\n",
            " Downloading artifact: CUDA_Runtime\n",
            "   \u001b[90m[7d9f7c33] \u001b[39m\u001b[92m+ Accessors v0.1.42\u001b[39m\n",
            "   \u001b[90m[dce04be8] \u001b[39m\u001b[92m+ ArgCheck v2.4.0\u001b[39m\n",
            "   \u001b[90m[a9b6321e] \u001b[39m\u001b[92m+ Atomix v1.1.1\u001b[39m\n",
            "   \u001b[90m[a963bdd2] \u001b[39m\u001b[92m+ AtomsBase v0.5.1\u001b[39m\n",
            "   \u001b[90m[ab4f0b2a] \u001b[39m\u001b[92m+ BFloat16s v0.5.0\u001b[39m\n",
            "   \u001b[90m[198e06fe] \u001b[39m\u001b[92m+ BangBang v0.4.4\u001b[39m\n",
            "   \u001b[90m[9718e550] \u001b[39m\u001b[92m+ Baselet v0.1.1\u001b[39m\n",
            "   \u001b[90m[e1450e63] \u001b[39m\u001b[92m+ BufferedStreams v1.2.2\u001b[39m\n",
            "   \u001b[90m[052768ef] \u001b[39m\u001b[92m+ CUDA v5.6.1\u001b[39m\n",
            "   \u001b[90m[1af6417a] \u001b[39m\u001b[92m+ CUDA_Runtime_Discovery v0.3.5\u001b[39m\n",
            "   \u001b[90m[082447d4] \u001b[39m\u001b[92m+ ChainRules v1.72.3\u001b[39m\n",
            "   \u001b[90m[46823bd8] \u001b[39m\u001b[92m+ Chemfiles v0.10.42\u001b[39m\n",
            "   \u001b[90m[bbf7d656] \u001b[39m\u001b[92m+ CommonSubexpressions v0.3.1\u001b[39m\n",
            "   \u001b[90m[a33af91c] \u001b[39m\u001b[92m+ CompositionsBase v0.1.2\u001b[39m\n",
            "   \u001b[90m[6add18c4] \u001b[39m\u001b[92m+ ContextVariablesX v0.1.3\u001b[39m\n",
            "   \u001b[90m[124859b0] \u001b[39m\u001b[92m+ DataDeps v0.7.13\u001b[39m\n",
            "   \u001b[90m[244e2a9f] \u001b[39m\u001b[92m+ DefineSingletons v0.1.2\u001b[39m\n",
            "   \u001b[90m[163ba53b] \u001b[39m\u001b[92m+ DiffResults v1.1.0\u001b[39m\n",
            "   \u001b[90m[b552c78f] \u001b[39m\u001b[92m+ DiffRules v1.15.1\u001b[39m\n",
            "   \u001b[90m[f151be2c] \u001b[39m\u001b[92m+ EnzymeCore v0.8.8\u001b[39m\n",
            "   \u001b[90m[e2ba6199] \u001b[39m\u001b[92m+ ExprTools v0.1.10\u001b[39m\n",
            "   \u001b[90m[cc61a311] \u001b[39m\u001b[92m+ FLoops v0.2.2\u001b[39m\n",
            "   \u001b[90m[b9860ae5] \u001b[39m\u001b[92m+ FLoopsBase v0.1.1\u001b[39m\n",
            "   \u001b[90m[587475ba] \u001b[39m\u001b[92m+ Flux v0.16.3\u001b[39m\n",
            "   \u001b[90m[f6369f11] \u001b[39m\u001b[92m+ ForwardDiff v0.10.38\u001b[39m\n",
            "   \u001b[90m[d9f16b24] \u001b[39m\u001b[92m+ Functors v0.5.2\u001b[39m\n",
            "   \u001b[90m[0c68f7d7] \u001b[39m\u001b[92m+ GPUArrays v11.2.2\u001b[39m\n",
            "   \u001b[90m[46192b85] \u001b[39m\u001b[92m+ GPUArraysCore v0.2.0\u001b[39m\n",
            "   \u001b[90m[61eb1bfa] \u001b[39m\u001b[92m+ GPUCompiler v1.2.0\u001b[39m\n",
            "   \u001b[90m[92fee26a] \u001b[39m\u001b[92m+ GZip v0.6.2\u001b[39m\n",
            "   \u001b[90m[c27321d9] \u001b[39m\u001b[92m+ Glob v1.3.1\u001b[39m\n",
            "   \u001b[90m[f67ccb44] \u001b[39m\u001b[92m+ HDF5 v0.17.2\u001b[39m\n",
            "   \u001b[90m[076d061b] \u001b[39m\u001b[92m+ HashArrayMappedTries v0.2.0\u001b[39m\n",
            "   \u001b[90m[7869d1d1] \u001b[39m\u001b[92m+ IRTools v0.4.14\u001b[39m\n",
            "   \u001b[90m[4e3cecfd] \u001b[39m\u001b[92m+ ImageShow v0.3.8\u001b[39m\n",
            "   \u001b[90m[22cec73e] \u001b[39m\u001b[92m+ InitialValues v0.3.1\u001b[39m\n",
            "   \u001b[90m[7d512f48] \u001b[39m\u001b[92m+ InternedStrings v0.7.0\u001b[39m\n",
            "   \u001b[90m[033835bb] \u001b[39m\u001b[92m+ JLD2 v0.5.11\u001b[39m\n",
            "   \u001b[90m[0f8b85d8] \u001b[39m\u001b[92m+ JSON3 v1.14.1\u001b[39m\n",
            "   \u001b[90m[b14d175d] \u001b[39m\u001b[92m+ JuliaVariables v0.2.4\u001b[39m\n",
            "   \u001b[90m[63c18a36] \u001b[39m\u001b[92m+ KernelAbstractions v0.9.34\u001b[39m\n",
            "   \u001b[90m[929cbde3] \u001b[39m\u001b[92m+ LLVM v9.2.0\u001b[39m\n",
            "   \u001b[90m[8b046642] \u001b[39m\u001b[92m+ LLVMLoopInfo v1.0.0\u001b[39m\n",
            "   \u001b[90m[d0bbae9a] \u001b[39m\u001b[92m+ LuxCUDA v0.3.3\u001b[39m\n",
            "   \u001b[90m[23992714] \u001b[39m\u001b[92m+ MAT v0.10.7\u001b[39m\n",
            "   \u001b[90m[c2834f40] \u001b[39m\u001b[92m+ MLCore v1.0.0\u001b[39m\n",
            "   \u001b[90m[7e8f7934] \u001b[39m\u001b[92m+ MLDataDevices v1.9.1\u001b[39m\n",
            "   \u001b[90m[eb30cadb] \u001b[39m\u001b[92m+ MLDatasets v0.7.18\u001b[39m\n",
            "   \u001b[90m[d8e11817] \u001b[39m\u001b[92m+ MLStyle v0.4.17\u001b[39m\n",
            "   \u001b[90m[f1d291b0] \u001b[39m\u001b[92m+ MLUtils v0.4.7\u001b[39m\n",
            "   \u001b[90m[3da0fdf6] \u001b[39m\u001b[92m+ MPIPreferences v0.1.11\u001b[39m\n",
            "   \u001b[90m[128add7d] \u001b[39m\u001b[92m+ MicroCollections v0.2.0\u001b[39m\n",
            "   \u001b[90m[872c559c] \u001b[39m\u001b[92m+ NNlib v0.9.28\u001b[39m\n",
            "   \u001b[90m[15e1cf62] \u001b[39m\u001b[92m+ NPZ v0.4.3\u001b[39m\n",
            " \u001b[33m⌅\u001b[39m \u001b[90m[5da4648a] \u001b[39m\u001b[92m+ NVTX v0.3.5\u001b[39m\n",
            "   \u001b[90m[71a1bf82] \u001b[39m\u001b[92m+ NameResolution v0.1.5\u001b[39m\n",
            "   \u001b[90m[0b1bfda6] \u001b[39m\u001b[92m+ OneHotArrays v0.2.6\u001b[39m\n",
            "   \u001b[90m[3bd65402] \u001b[39m\u001b[92m+ Optimisers v0.4.5\u001b[39m\n",
            "   \u001b[90m[65ce6f38] \u001b[39m\u001b[92m+ PackageExtensionCompat v1.0.2\u001b[39m\n",
            "   \u001b[90m[7b2266bf] \u001b[39m\u001b[92m+ PeriodicTable v1.2.1\u001b[39m\n",
            "   \u001b[90m[fbb45041] \u001b[39m\u001b[92m+ Pickle v0.3.5\u001b[39m\n",
            "   \u001b[90m[8162dcfd] \u001b[39m\u001b[92m+ PrettyPrint v0.2.0\u001b[39m\n",
            "   \u001b[90m[33c8b6b6] \u001b[39m\u001b[92m+ ProgressLogging v0.1.4\u001b[39m\n",
            "   \u001b[90m[74087812] \u001b[39m\u001b[92m+ Random123 v1.7.0\u001b[39m\n",
            "   \u001b[90m[e6cf234a] \u001b[39m\u001b[92m+ RandomNumbers v1.6.0\u001b[39m\n",
            "   \u001b[90m[c1ae055f] \u001b[39m\u001b[92m+ RealDot v0.1.0\u001b[39m\n",
            "   \u001b[90m[7e506255] \u001b[39m\u001b[92m+ ScopedValues v1.3.0\u001b[39m\n",
            "   \u001b[90m[efcf1570] \u001b[39m\u001b[92m+ Setfield v1.1.2\u001b[39m\n",
            "   \u001b[90m[605ecd9f] \u001b[39m\u001b[92m+ ShowCases v0.1.0\u001b[39m\n",
            "   \u001b[90m[dc90abb0] \u001b[39m\u001b[92m+ SparseInverseSubset v0.1.2\u001b[39m\n",
            "   \u001b[90m[171d559e] \u001b[39m\u001b[92m+ SplittablesBase v0.1.15\u001b[39m\n",
            " \u001b[33m⌅\u001b[39m \u001b[90m[4db3bf67] \u001b[39m\u001b[92m+ StridedViews v0.2.2\u001b[39m\n",
            "   \u001b[90m[69024149] \u001b[39m\u001b[92m+ StringEncodings v0.3.7\u001b[39m\n",
            "   \u001b[90m[856f2bd8] \u001b[39m\u001b[92m+ StructTypes v1.11.0\u001b[39m\n",
            "   \u001b[90m[a759f4b9] \u001b[39m\u001b[92m+ TimerOutputs v0.5.28\u001b[39m\n",
            "   \u001b[90m[28d57a85] \u001b[39m\u001b[92m+ Transducers v0.4.84\u001b[39m\n",
            "   \u001b[90m[a7773ee8] \u001b[39m\u001b[92m+ UnitfulAtomic v1.0.0\u001b[39m\n",
            "   \u001b[90m[013be700] \u001b[39m\u001b[92m+ UnsafeAtomics v0.3.0\u001b[39m\n",
            "   \u001b[90m[a5390f91] \u001b[39m\u001b[92m+ ZipFile v0.10.1\u001b[39m\n",
            "   \u001b[90m[e88e6eb3] \u001b[39m\u001b[92m+ Zygote v0.7.4\u001b[39m\n",
            "   \u001b[90m[700de1a5] \u001b[39m\u001b[92m+ ZygoteRules v0.2.7\u001b[39m\n",
            "   \u001b[90m[02a925ec] \u001b[39m\u001b[92m+ cuDNN v1.4.1\u001b[39m\n",
            " \u001b[33m⌅\u001b[39m \u001b[90m[4ee394cb] \u001b[39m\u001b[92m+ CUDA_Driver_jll v0.10.4+0\u001b[39m\n",
            "\u001b[91m→\u001b[39m\u001b[33m⌅\u001b[39m \u001b[90m[76a88914] \u001b[39m\u001b[92m+ CUDA_Runtime_jll v0.15.5+0\u001b[39m\n",
            "\u001b[91m→\u001b[39m\u001b[33m⌅\u001b[39m \u001b[90m[62b44479] \u001b[39m\u001b[92m+ CUDNN_jll v9.4.0+0\u001b[39m\n",
            "   \u001b[90m[78a364fa] \u001b[39m\u001b[92m+ Chemfiles_jll v0.10.4+0\u001b[39m\n",
            "   \u001b[90m[0234f1f7] \u001b[39m\u001b[92m+ HDF5_jll v1.14.6+0\u001b[39m\n",
            "   \u001b[90m[e33a78d0] \u001b[39m\u001b[92m+ Hwloc_jll v2.12.0+0\u001b[39m\n",
            "   \u001b[90m[9c1d0b0a] \u001b[39m\u001b[92m+ JuliaNVTXCallbacks_jll v0.2.1+0\u001b[39m\n",
            "   \u001b[90m[dad2f222] \u001b[39m\u001b[92m+ LLVMExtra_jll v0.0.35+0\u001b[39m\n",
            "   \u001b[90m[7cb0a576] \u001b[39m\u001b[92m+ MPICH_jll v4.3.0+1\u001b[39m\n",
            "   \u001b[90m[f1f71cc9] \u001b[39m\u001b[92m+ MPItrampoline_jll v5.5.3+0\u001b[39m\n",
            "   \u001b[90m[9237b28f] \u001b[39m\u001b[92m+ MicrosoftMPI_jll v10.1.4+3\u001b[39m\n",
            "   \u001b[90m[e98f9f5b] \u001b[39m\u001b[92m+ NVTX_jll v3.1.1+0\u001b[39m\n",
            "   \u001b[90m[fe0851c0] \u001b[39m\u001b[92m+ OpenMPI_jll v5.0.7+1\u001b[39m\n",
            "   \u001b[90m[1e29f10c] \u001b[39m\u001b[92m+ demumble_jll v1.3.0+0\u001b[39m\n",
            "   \u001b[90m[477f73a3] \u001b[39m\u001b[92m+ libaec_jll v1.1.3+0\u001b[39m\n",
            "\u001b[36m\u001b[1m        Info\u001b[22m\u001b[39m Packages marked with \u001b[91m→\u001b[39m are not downloaded, use `instantiate` to download\n",
            "\u001b[36m\u001b[1m        Info\u001b[22m\u001b[39m Packages marked with \u001b[33m⌅\u001b[39m have new versions available but compatibility constraints restrict them from upgrading. To see why use `status --outdated -m`\n",
            "\u001b[32m\u001b[1mPrecompiling\u001b[22m\u001b[39m packages...\n",
            "   2027.8 ms\u001b[32m  ✓ \u001b[39m\u001b[90mLLVMLoopInfo\u001b[39m\n",
            "   2090.5 ms\u001b[32m  ✓ \u001b[39m\u001b[90mStructTypes\u001b[39m\n",
            "   3197.0 ms\u001b[32m  ✓ \u001b[39m\u001b[90mBaselet\u001b[39m\n",
            "   1511.8 ms\u001b[32m  ✓ \u001b[39m\u001b[90mExprTools\u001b[39m\n",
            "   1538.9 ms\u001b[32m  ✓ \u001b[39m\u001b[90mGlob\u001b[39m\n",
            "   1318.9 ms\u001b[32m  ✓ \u001b[39m\u001b[90mBufferedStreams\u001b[39m\n",
            "   2055.0 ms\u001b[32m  ✓ \u001b[39m\u001b[90mInitialValues\u001b[39m\n",
            "   1118.5 ms\u001b[32m  ✓ \u001b[39m\u001b[90mPrettyPrint\u001b[39m\n",
            "    885.6 ms\u001b[32m  ✓ \u001b[39m\u001b[90mArgCheck\u001b[39m\n",
            "   1172.5 ms\u001b[32m  ✓ \u001b[39m\u001b[90mShowCases\u001b[39m\n",
            "   5271.5 ms\u001b[32m  ✓ \u001b[39m\u001b[90mUnsafeAtomics\u001b[39m\n",
            "    833.0 ms\u001b[32m  ✓ \u001b[39m\u001b[90mInternedStrings\u001b[39m\n",
            "   1871.3 ms\u001b[32m  ✓ \u001b[39m\u001b[90mRandomNumbers\u001b[39m\n",
            "    981.1 ms\u001b[32m  ✓ \u001b[39m\u001b[90mRealDot\u001b[39m\n",
            "   1035.3 ms\u001b[32m  ✓ \u001b[39m\u001b[90mMPIPreferences\u001b[39m\n",
            "   1293.8 ms\u001b[32m  ✓ \u001b[39m\u001b[90mBFloat16s\u001b[39m\n",
            "    895.3 ms\u001b[32m  ✓ \u001b[39m\u001b[90mCompositionsBase\u001b[39m\n",
            "    778.2 ms\u001b[32m  ✓ \u001b[39m\u001b[90mHashArrayMappedTries\u001b[39m\n",
            "    869.4 ms\u001b[32m  ✓ \u001b[39m\u001b[90mDefineSingletons\u001b[39m\n",
            "   1019.7 ms\u001b[32m  ✓ \u001b[39m\u001b[90mContextVariablesX\u001b[39m\n",
            "   3668.6 ms\u001b[32m  ✓ \u001b[39m\u001b[90mCUDA_Runtime_Discovery\u001b[39m\n",
            "   4019.0 ms\u001b[32m  ✓ \u001b[39m\u001b[90mIRTools\u001b[39m\n",
            "   1036.4 ms\u001b[32m  ✓ \u001b[39m\u001b[90mEnzymeCore\u001b[39m\n",
            "   1009.7 ms\u001b[32m  ✓ \u001b[39m\u001b[90mPackageExtensionCompat\u001b[39m\n",
            "   1270.5 ms\u001b[32m  ✓ \u001b[39m\u001b[90mProgressLogging\u001b[39m\n",
            "   2115.8 ms\u001b[32m  ✓ \u001b[39m\u001b[90mGZip\u001b[39m\n",
            "   1036.1 ms\u001b[32m  ✓ \u001b[39m\u001b[90mCommonSubexpressions\u001b[39m\n",
            "   1383.7 ms\u001b[32m  ✓ \u001b[39m\u001b[90mZipFile\u001b[39m\n",
            "   5542.3 ms\u001b[32m  ✓ \u001b[39m\u001b[90mUnitfulAtomic\u001b[39m\n",
            "   1130.8 ms\u001b[32m  ✓ \u001b[39m\u001b[90mSparseInverseSubset\u001b[39m\n",
            "   2202.1 ms\u001b[32m  ✓ \u001b[39m\u001b[90mZygoteRules\u001b[39m\n",
            "    997.7 ms\u001b[32m  ✓ \u001b[39m\u001b[90mGPUArraysCore\u001b[39m\n",
            "   1836.2 ms\u001b[32m  ✓ \u001b[39m\u001b[90mMLCore\u001b[39m\n",
            "    802.4 ms\u001b[32m  ✓ \u001b[39m\u001b[90mDiffResults\u001b[39m\n",
            "   3083.9 ms\u001b[32m  ✓ \u001b[39m\u001b[90mSetfield\u001b[39m\n",
            "   6168.4 ms\u001b[32m  ✓ \u001b[39m\u001b[90mPeriodicTable\u001b[39m\n",
            "   1925.5 ms\u001b[32m  ✓ \u001b[39m\u001b[90mCUDA_Driver_jll\u001b[39m\n",
            "    949.1 ms\u001b[32m  ✓ \u001b[39m\u001b[90mChemfiles_jll\u001b[39m\n",
            "   1525.8 ms\u001b[32m  ✓ \u001b[39m\u001b[90mlibaec_jll\u001b[39m\n",
            "   1107.6 ms\u001b[32m  ✓ \u001b[39m\u001b[90mNVTX_jll\u001b[39m\n",
            "   1023.9 ms\u001b[32m  ✓ \u001b[39m\u001b[90mHwloc_jll\u001b[39m\n",
            "   1252.7 ms\u001b[32m  ✓ \u001b[39m\u001b[90mdemumble_jll\u001b[39m\n",
            "   1641.1 ms\u001b[32m  ✓ \u001b[39m\u001b[90mLLVMExtra_jll\u001b[39m\n",
            "   1164.0 ms\u001b[32m  ✓ \u001b[39m\u001b[90mJuliaNVTXCallbacks_jll\u001b[39m\n",
            "   1598.9 ms\u001b[32m  ✓ \u001b[39m\u001b[90mMicrosoftMPI_jll\u001b[39m\n",
            "   1897.5 ms\u001b[32m  ✓ \u001b[39m\u001b[90mFunctors\u001b[39m\n",
            "   1263.9 ms\u001b[32m  ✓ \u001b[39m\u001b[90mStringEncodings\u001b[39m\n",
            "   1595.6 ms\u001b[32m  ✓ \u001b[39m\u001b[90mDiffRules\u001b[39m\n",
            "   5495.3 ms\u001b[32m  ✓ \u001b[39m\u001b[90mDataDeps\u001b[39m\n",
            "   4222.0 ms\u001b[32m  ✓ \u001b[39m\u001b[90mImageShow\u001b[39m\n",
            "  60328.5 ms\u001b[32m  ✓ \u001b[39m\u001b[90mMLStyle\u001b[39m\n",
            "   7883.0 ms\u001b[32m  ✓ \u001b[39m\u001b[90mTimerOutputs\u001b[39m\n",
            "    767.3 ms\u001b[32m  ✓ \u001b[39m\u001b[90mNameResolution\u001b[39m\n",
            "  27289.4 ms\u001b[32m  ✓ \u001b[39m\u001b[90mJSON3\u001b[39m\n",
            "   1185.0 ms\u001b[32m  ✓ \u001b[39m\u001b[90mAtomix\u001b[39m\n",
            "    894.3 ms\u001b[32m  ✓ \u001b[39m\u001b[90mMPItrampoline_jll\u001b[39m\n",
            "    745.7 ms\u001b[32m  ✓ \u001b[39m\u001b[90mCompositionsBase → CompositionsBaseInverseFunctionsExt\u001b[39m\n",
            "   2392.6 ms\u001b[32m  ✓ \u001b[39m\u001b[90mRandom123\u001b[39m\n",
            "    956.9 ms\u001b[32m  ✓ \u001b[39m\u001b[90mScopedValues\u001b[39m\n",
            "   1137.5 ms\u001b[32m  ✓ \u001b[39m\u001b[90mFLoopsBase\u001b[39m\n",
            "    864.5 ms\u001b[32m  ✓ \u001b[39m\u001b[90mEnzymeCore → AdaptExt\u001b[39m\n",
            "   1036.2 ms\u001b[32m  ✓ \u001b[39m\u001b[90mStridedViews\u001b[39m\n",
            "   1800.5 ms\u001b[32m  ✓ \u001b[39m\u001b[90mNPZ\u001b[39m\n",
            "   2512.2 ms\u001b[32m  ✓ \u001b[39m\u001b[90mSplittablesBase\u001b[39m\n",
            "   6143.8 ms\u001b[32m  ✓ \u001b[39m\u001b[90mAtomsBase\u001b[39m\n",
            "  12472.1 ms\u001b[32m  ✓ \u001b[39m\u001b[90mChainRules\u001b[39m\n",
            "   1068.4 ms\u001b[32m  ✓ \u001b[39m\u001b[90mOpenMPI_jll\u001b[39m\n",
            "   4071.5 ms\u001b[32m  ✓ \u001b[39m\u001b[90mCUDA_Runtime_jll\u001b[39m\n",
            "   1602.7 ms\u001b[32m  ✓ \u001b[39m\u001b[90mMPICH_jll\u001b[39m\n",
            "   3904.6 ms\u001b[32m  ✓ \u001b[39m\u001b[90mNVTX\u001b[39m\n",
            "   2582.9 ms\u001b[32m  ✓ \u001b[39m\u001b[90mOptimisers\u001b[39m\n",
            "   1670.4 ms\u001b[32m  ✓ \u001b[39m\u001b[90mMLDataDevices\u001b[39m\n",
            "   1110.4 ms\u001b[32m  ✓ \u001b[39m\u001b[90mIntervalArithmetic → IntervalArithmeticDiffRulesExt\u001b[39m\n",
            "  15346.5 ms\u001b[32m  ✓ \u001b[39m\u001b[90mLLVM\u001b[39m\n",
            "   9378.8 ms\u001b[32m  ✓ \u001b[39m\u001b[90mForwardDiff\u001b[39m\n",
            "   5602.6 ms\u001b[32m  ✓ \u001b[39m\u001b[90mJuliaVariables\u001b[39m\n",
            "   5326.4 ms\u001b[32m  ✓ \u001b[39m\u001b[90mAccessors\u001b[39m\n",
            "  99495.2 ms\u001b[32m  ✓ \u001b[39m\u001b[90mJLD2\u001b[39m\n",
            "   9822.3 ms\u001b[32m  ✓ \u001b[39m\u001b[90mKernelAbstractions\u001b[39m\n",
            "   6438.7 ms\u001b[32m  ✓ \u001b[39m\u001b[90mChemfiles\u001b[39m\n",
            "   6543.2 ms\u001b[32m  ✓ \u001b[39m\u001b[90mPickle\u001b[39m\n",
            "   2866.0 ms\u001b[32m  ✓ \u001b[39m\u001b[90mCUDNN_jll\u001b[39m\n",
            "    875.9 ms\u001b[32m  ✓ \u001b[39m\u001b[90mOptimisers → OptimisersEnzymeCoreExt\u001b[39m\n",
            "   1139.4 ms\u001b[32m  ✓ \u001b[39m\u001b[90mOptimisers → OptimisersAdaptExt\u001b[39m\n",
            "   1221.0 ms\u001b[32m  ✓ \u001b[39m\u001b[90mMLDataDevices → MLDataDevicesChainRulesCoreExt\u001b[39m\n",
            "   2216.0 ms\u001b[32m  ✓ \u001b[39m\u001b[90mHDF5_jll\u001b[39m\n",
            "   1218.1 ms\u001b[32m  ✓ \u001b[39m\u001b[90mMLDataDevices → MLDataDevicesFillArraysExt\u001b[39m\n",
            "   1155.6 ms\u001b[32m  ✓ \u001b[39m\u001b[90mMLDataDevices → MLDataDevicesSparseArraysExt\u001b[39m\n",
            "   1128.5 ms\u001b[32m  ✓ \u001b[39m\u001b[90mLLVM → BFloat16sExt\u001b[39m\n",
            "   1547.9 ms\u001b[32m  ✓ \u001b[39m\u001b[90mForwardDiff → ForwardDiffStaticArraysExt\u001b[39m\n",
            "   1174.8 ms\u001b[32m  ✓ \u001b[39m\u001b[90mAccessors → LinearAlgebraExt\u001b[39m\n",
            "   3259.6 ms\u001b[32m  ✓ \u001b[39m\u001b[90mUnsafeAtomics → UnsafeAtomicsLLVM\u001b[39m\n",
            "   2541.3 ms\u001b[32m  ✓ \u001b[39m\u001b[90mKernelAbstractions → LinearAlgebraExt\u001b[39m\n",
            "   1910.4 ms\u001b[32m  ✓ \u001b[39m\u001b[90mMLDataDevices → MLDataDevicesChainRulesExt\u001b[39m\n",
            "   1204.2 ms\u001b[32m  ✓ \u001b[39m\u001b[90mAccessors → StructArraysExt\u001b[39m\n",
            "   1164.6 ms\u001b[32m  ✓ \u001b[39m\u001b[90mAccessors → TestExt\u001b[39m\n",
            "   1245.2 ms\u001b[32m  ✓ \u001b[39m\u001b[90mAccessors → IntervalSetsExt\u001b[39m\n",
            "   1528.6 ms\u001b[32m  ✓ \u001b[39m\u001b[90mAccessors → UnitfulExt\u001b[39m\n",
            "   1732.3 ms\u001b[32m  ✓ \u001b[39m\u001b[90mAccessors → StaticArraysExt\u001b[39m\n",
            "   2188.5 ms\u001b[32m  ✓ \u001b[39m\u001b[90mBangBang\u001b[39m\n",
            "   2710.7 ms\u001b[32m  ✓ \u001b[39m\u001b[90mKernelAbstractions → SparseArraysExt\u001b[39m\n",
            "   1884.7 ms\u001b[32m  ✓ \u001b[39m\u001b[90mKernelAbstractions → EnzymeExt\u001b[39m\n",
            "   1929.9 ms\u001b[32m  ✓ \u001b[39m\u001b[90mStructArrays → StructArraysGPUArraysCoreExt\u001b[39m\n",
            "  20103.0 ms\u001b[32m  ✓ \u001b[39m\u001b[90mHDF5\u001b[39m\n",
            "   1670.4 ms\u001b[32m  ✓ \u001b[39m\u001b[90mBangBang → BangBangStaticArraysExt\u001b[39m\n",
            "   1199.8 ms\u001b[32m  ✓ \u001b[39m\u001b[90mBangBang → BangBangChainRulesCoreExt\u001b[39m\n",
            "   1054.6 ms\u001b[32m  ✓ \u001b[39m\u001b[90mBangBang → BangBangTablesExt\u001b[39m\n",
            "   1724.9 ms\u001b[32m  ✓ \u001b[39m\u001b[90mMicroCollections\u001b[39m\n",
            "   7600.8 ms\u001b[32m  ✓ \u001b[39m\u001b[90mGPUArrays\u001b[39m\n",
            "   2925.7 ms\u001b[32m  ✓ \u001b[39m\u001b[90mMAT\u001b[39m\n",
            "  12346.3 ms\u001b[32m  ✓ \u001b[39m\u001b[90mNNlib\u001b[39m\n",
            "   1261.2 ms\u001b[32m  ✓ \u001b[39m\u001b[90mBangBang → BangBangStructArraysExt\u001b[39m\n",
            "   3946.8 ms\u001b[32m  ✓ \u001b[39m\u001b[90mBangBang → BangBangDataFramesExt\u001b[39m\n",
            "   3812.8 ms\u001b[32m  ✓ \u001b[39m\u001b[90mMLDataDevices → MLDataDevicesGPUArraysExt\u001b[39m\n",
            "   6362.7 ms\u001b[32m  ✓ \u001b[39m\u001b[90mTransducers\u001b[39m\n",
            "   3206.4 ms\u001b[32m  ✓ \u001b[39m\u001b[90mNNlib → NNlibEnzymeCoreExt\u001b[39m\n",
            "   2598.2 ms\u001b[32m  ✓ \u001b[39m\u001b[90mNNlib → NNlibSpecialFunctionsExt\u001b[39m\n",
            "   3993.7 ms\u001b[32m  ✓ \u001b[39m\u001b[90mNNlib → NNlibFFTWExt\u001b[39m\n",
            "   2565.1 ms\u001b[32m  ✓ \u001b[39m\u001b[90mOneHotArrays\u001b[39m\n",
            "   3674.5 ms\u001b[32m  ✓ \u001b[39m\u001b[90mTransducers → TransducersDataFramesExt\u001b[39m\n",
            "   1327.7 ms\u001b[32m  ✓ \u001b[39m\u001b[90mTransducers → TransducersAdaptExt\u001b[39m\n",
            "   8489.9 ms\u001b[32m  ✓ \u001b[39m\u001b[90mFLoops\u001b[39m\n",
            "   2889.4 ms\u001b[32m  ✓ \u001b[39m\u001b[90mNNlib → NNlibForwardDiffExt\u001b[39m\n",
            "   2613.0 ms\u001b[32m  ✓ \u001b[39m\u001b[90mMLDataDevices → MLDataDevicesOneHotArraysExt\u001b[39m\n",
            "  15804.6 ms\u001b[32m  ✓ \u001b[39m\u001b[90mMLUtils\u001b[39m\n",
            "   3368.0 ms\u001b[32m  ✓ \u001b[39m\u001b[90mMLDataDevices → MLDataDevicesMLUtilsExt\u001b[39m\n",
            " 107610.1 ms\u001b[32m  ✓ \u001b[39m\u001b[90mGPUCompiler\u001b[39m\n",
            "  19700.1 ms\u001b[32m  ✓ \u001b[39mMLDatasets\n",
            "  92680.9 ms\u001b[32m  ✓ \u001b[39m\u001b[90mZygote\u001b[39m\n",
            "   2652.6 ms\u001b[32m  ✓ \u001b[39m\u001b[90mMLDataDevices → MLDataDevicesZygoteExt\u001b[39m\n",
            "   3296.0 ms\u001b[32m  ✓ \u001b[39m\u001b[90mZygote → ZygoteColorsExt\u001b[39m\n",
            "  10520.3 ms\u001b[32m  ✓ \u001b[39mFlux\n",
            "  90490.0 ms\u001b[32m  ✓ \u001b[39m\u001b[90mCUDA\u001b[39m\n",
            "   5054.9 ms\u001b[32m  ✓ \u001b[39m\u001b[90mAtomix → AtomixCUDAExt\u001b[39m\n",
            "  10102.3 ms\u001b[32m  ✓ \u001b[39m\u001b[90mCUDA → SpecialFunctionsExt\u001b[39m\n",
            "  10771.5 ms\u001b[32m  ✓ \u001b[39m\u001b[90mCUDA → ChainRulesCoreExt\u001b[39m\n",
            "  19904.3 ms\u001b[32m  ✓ \u001b[39m\u001b[90mcuDNN\u001b[39m\n",
            "   9945.8 ms\u001b[32m  ✓ \u001b[39m\u001b[90mStridedViews → StridedViewsCUDAExt\u001b[39m\n",
            "  11886.1 ms\u001b[32m  ✓ \u001b[39m\u001b[90mCUDA → EnzymeCoreExt\u001b[39m\n",
            "  10769.0 ms\u001b[32m  ✓ \u001b[39m\u001b[90mMLDataDevices → MLDataDevicesCUDAExt\u001b[39m\n",
            "  12180.9 ms\u001b[32m  ✓ \u001b[39m\u001b[90mNNlib → NNlibCUDAExt\u001b[39m\n",
            "  11265.3 ms\u001b[32m  ✓ \u001b[39mLuxCUDA\n",
            "    808.8 ms\u001b[32m  ✓ \u001b[39mFlux → FluxCUDAExt\n",
            "   9015.1 ms\u001b[32m  ✓ \u001b[39m\u001b[90mMLDataDevices → MLDataDevicescuDNNExt\u001b[39m\n",
            "   8285.2 ms\u001b[32m  ✓ \u001b[39m\u001b[90mNNlib → NNlibCUDACUDNNExt\u001b[39m\n",
            "   6175.5 ms\u001b[32m  ✓ \u001b[39mFlux → FluxCUDAcuDNNExt\n",
            "  146 dependencies successfully precompiled in 392 seconds. 324 already precompiled.\n",
            "  \u001b[33m1\u001b[39m dependency had output during precompilation:\u001b[33m\n",
            "┌ \u001b[39mFlux → FluxCUDAcuDNNExt\u001b[33m\n",
            "│  \u001b[39m\u001b[33m\u001b[1m┌ \u001b[22m\u001b[39m\u001b[33m\u001b[1mWarning: \u001b[22m\u001b[39mPackage cuDNN not found in current path.\u001b[33m\n",
            "│  \u001b[39m\u001b[33m\u001b[1m│ \u001b[22m\u001b[39m- Run `import Pkg; Pkg.add(\"cuDNN\")` to install the cuDNN package, then restart julia.\u001b[33m\n",
            "│  \u001b[39m\u001b[33m\u001b[1m│ \u001b[22m\u001b[39m- If cuDNN is not installed, some Flux functionalities will not be available when running on the GPU.\u001b[33m\n",
            "│  \u001b[39m\u001b[33m\u001b[1m└ \u001b[22m\u001b[39m\u001b[90m@ FluxCUDAExt ~/.julia/packages/Flux/3711C/ext/FluxCUDAExt/FluxCUDAExt.jl:10\u001b[39m\u001b[33m\n",
            "└  \u001b[39m\n"
          ]
        }
      ]
    },
    {
      "cell_type": "code",
      "execution_count": 3,
      "id": "d9d8e2d6-eb3d-4446-a59a-dc8927ea4449",
      "metadata": {
        "id": "d9d8e2d6-eb3d-4446-a59a-dc8927ea4449",
        "outputId": "f5e59bcb-9d00-484f-de3f-e5f9716fc435",
        "colab": {
          "base_uri": "https://localhost:8080/"
        }
      },
      "outputs": [
        {
          "output_type": "stream",
          "name": "stdout",
          "text": [
            "\u001b[32m\u001b[1mStatus\u001b[22m\u001b[39m `~/.julia/environments/v1.10/Project.toml`\n",
            "  \u001b[90m[336ed68f] \u001b[39mCSV v0.10.15\n",
            "  \u001b[90m[a93c6f00] \u001b[39mDataFrames v1.7.0\n",
            "  \u001b[90m[587475ba] \u001b[39mFlux v0.16.3\n",
            "  \u001b[90m[7073ff75] \u001b[39mIJulia v1.26.0\n",
            "  \u001b[90m[d0bbae9a] \u001b[39mLuxCUDA v0.3.3\n",
            "  \u001b[90m[eb30cadb] \u001b[39mMLDatasets v0.7.18\n",
            "  \u001b[90m[ee78f7c6] \u001b[39mMakie v0.22.2\n",
            "  \u001b[90m[91a5bcdd] \u001b[39mPlots v1.40.9\n",
            "  \u001b[90m[92933f4c] \u001b[39mProgressMeter v1.10.2\n"
          ]
        }
      ],
      "source": [
        "Pkg.status()"
      ]
    },
    {
      "cell_type": "markdown",
      "id": "09828e35-8f57-48bf-acee-2eedec9c3557",
      "metadata": {
        "id": "09828e35-8f57-48bf-acee-2eedec9c3557"
      },
      "source": [
        "Import the machine learning library `Flux`"
      ]
    },
    {
      "cell_type": "code",
      "execution_count": 4,
      "id": "127ab0b7-5b37-4265-a66e-4c35d7df1ba6",
      "metadata": {
        "id": "127ab0b7-5b37-4265-a66e-4c35d7df1ba6"
      },
      "outputs": [],
      "source": [
        "using Flux # v\"0.16.0\"\n",
        "using Flux: @functor\n",
        "using Flux: DataLoader\n",
        "using Flux: onecold, onehotbatch"
      ]
    },
    {
      "cell_type": "code",
      "execution_count": 5,
      "id": "ed08fb17-bcad-4ee8-ab55-0a11588804ea",
      "metadata": {
        "id": "ed08fb17-bcad-4ee8-ab55-0a11588804ea"
      },
      "outputs": [],
      "source": [
        "using ProgressMeter: Progress, next!"
      ]
    },
    {
      "cell_type": "code",
      "execution_count": 6,
      "id": "f7c37037-9d7e-4e72-8346-f8328326c610",
      "metadata": {
        "id": "f7c37037-9d7e-4e72-8346-f8328326c610",
        "outputId": "4b74708e-11fb-44ab-9c8b-d8e7646371b3",
        "colab": {
          "base_uri": "https://localhost:8080/"
        }
      },
      "outputs": [
        {
          "name": "stdout",
          "output_type": "stream",
          "text": [
            "This program has requested access to the data dependency MNIST.\n",
            "which is not currently installed. It can be installed automatically, and you will not see this message again.\n",
            "\n",
            "Dataset: THE MNIST DATABASE of handwritten digits\n",
            "Authors: Yann LeCun, Corinna Cortes, Christopher J.C. Burges\n",
            "Website: http://yann.lecun.com/exdb/mnist/\n",
            "\n",
            "[LeCun et al., 1998a]\n",
            "    Y. LeCun, L. Bottou, Y. Bengio, and P. Haffner.\n",
            "    \"Gradient-based learning applied to document recognition.\"\n",
            "    Proceedings of the IEEE, 86(11):2278-2324, November 1998\n",
            "\n",
            "The files are available for download at the offical\n",
            "website linked above. Note that using the data\n",
            "responsibly and respecting copyright remains your\n",
            "responsibility. The authors of MNIST aren't really\n",
            "explicit about any terms of use, so please read the\n",
            "website to make sure you want to download the\n",
            "dataset.\n",
            "\n",
            "\n",
            "\n",
            "Do you want to download the dataset from [\"https://ossci-datasets.s3.amazonaws.com/mnist/train-images-idx3-ubyte.gz\", \"https://ossci-datasets.s3.amazonaws.com/mnist/train-labels-idx1-ubyte.gz\", \"https://ossci-datasets.s3.amazonaws.com/mnist/t10k-images-idx3-ubyte.gz\", \"https://ossci-datasets.s3.amazonaws.com/mnist/t10k-labels-idx1-ubyte.gz\"] to \"/root/.julia/scratchspaces/124859b0-ceae-595e-8997-d05f6a7a8dfe/datadeps/MNIST\"?\n",
            "[y/n]\n",
            "stdin> y\n"
          ]
        },
        {
          "output_type": "execute_result",
          "data": {
            "text/plain": [
              "dataset MNIST:\n",
              "  metadata  =>    Dict{String, Any} with 3 entries\n",
              "  split     =>    :train\n",
              "  features  =>    28×28×60000 Array{Float32, 3}\n",
              "  targets   =>    60000-element Vector{Int64}"
            ]
          },
          "metadata": {},
          "execution_count": 6
        }
      ],
      "source": [
        "using MLDatasets\n",
        "d = MNIST()"
      ]
    },
    {
      "cell_type": "code",
      "execution_count": 7,
      "id": "74719038-eea2-4101-b795-71f3210c040c",
      "metadata": {
        "id": "74719038-eea2-4101-b795-71f3210c040c",
        "outputId": "34861227-0ae3-46dd-e551-1ad50b38f8fe",
        "colab": {
          "base_uri": "https://localhost:8080/"
        }
      },
      "outputs": [
        {
          "output_type": "execute_result",
          "data": {
            "text/plain": [
              "HyperParams"
            ]
          },
          "metadata": {},
          "execution_count": 7
        }
      ],
      "source": [
        "Base.@kwdef mutable struct HyperParams\n",
        "    η = 3f-3                        # Learning rate\n",
        "    λ = 1f-2                        # Regularization parameter\n",
        "    batchsize = 64                  # Batch size\n",
        "    epochs = 16                     # Number of epochs\n",
        "    split = :train                  # Split data into `train` and `test`\n",
        "    input_dim = 28*28               # Input dimension\n",
        "    hidden_dim = 512                # Hidden dimension\n",
        "    latent_dim = 2                  # Latent dimension\n",
        "    # save_path = \"Output\"          # Results folder\n",
        "end"
      ]
    },
    {
      "cell_type": "markdown",
      "id": "1d86adcb-099a-4afc-b554-0717640aae0c",
      "metadata": {
        "id": "1d86adcb-099a-4afc-b554-0717640aae0c"
      },
      "source": [
        "Load the **MNIST** dataset"
      ]
    },
    {
      "cell_type": "code",
      "execution_count": 8,
      "id": "bc126bdd-1dfd-44c1-b6fb-bfa019516e44",
      "metadata": {
        "id": "bc126bdd-1dfd-44c1-b6fb-bfa019516e44",
        "outputId": "bec94811-72d6-45d5-ca3a-92032a3c2165",
        "colab": {
          "base_uri": "https://localhost:8080/"
        }
      },
      "outputs": [
        {
          "output_type": "execute_result",
          "data": {
            "text/plain": [
              "get_data (generic function with 1 method)"
            ]
          },
          "metadata": {},
          "execution_count": 8
        }
      ],
      "source": [
        "function get_data(; kws...)\n",
        "    args = HyperParams(; kws...);\n",
        "    # Split data\n",
        "    data = MNIST(split=args.split);\n",
        "    X = reshape(data.features, (args.input_dim, :));\n",
        "    loader = DataLoader(X; batchsize=args.batchsize, shuffle=true) |> gpu;\n",
        "    return loader\n",
        "end"
      ]
    },
    {
      "cell_type": "code",
      "execution_count": 9,
      "id": "5e8eeff3-a9db-42de-9005-aa5cc2adfa13",
      "metadata": {
        "id": "5e8eeff3-a9db-42de-9005-aa5cc2adfa13"
      },
      "outputs": [],
      "source": [
        "train_loader = get_data();\n",
        "test_loader = get_data(split=:test);"
      ]
    },
    {
      "cell_type": "markdown",
      "id": "bc40899e-5ae7-4e21-8315-cc3c9fb71571",
      "metadata": {
        "id": "bc40899e-5ae7-4e21-8315-cc3c9fb71571"
      },
      "source": [
        "Define the `encoder` network: The encoder network should return the parameters of the _latent distribution_ (μ and σ)."
      ]
    },
    {
      "cell_type": "code",
      "execution_count": 10,
      "id": "79fcdbea-c6d4-4d51-ab1f-e75fb33940ec",
      "metadata": {
        "id": "79fcdbea-c6d4-4d51-ab1f-e75fb33940ec"
      },
      "outputs": [],
      "source": [
        "struct Encoder\n",
        "    linear\n",
        "    μ\n",
        "    log_σ\n",
        "end"
      ]
    },
    {
      "cell_type": "code",
      "execution_count": 11,
      "id": "9f1c171e-a2f6-4a65-9843-6f7f5ec3a46c",
      "metadata": {
        "id": "9f1c171e-a2f6-4a65-9843-6f7f5ec3a46c",
        "outputId": "c5b6f8ff-22f8-425e-d8fb-c234b24a0020",
        "colab": {
          "base_uri": "https://localhost:8080/"
        }
      },
      "outputs": [
        {
          "output_type": "stream",
          "name": "stderr",
          "text": [
            "\u001b[33m\u001b[1m┌ \u001b[22m\u001b[39m\u001b[33m\u001b[1mWarning: \u001b[22m\u001b[39mThe use of `Flux.@functor` is deprecated.\n",
            "\u001b[33m\u001b[1m│ \u001b[22m\u001b[39mMost likely, you should write `Flux.@layer MyLayer`which will add various convenience methods for your type,such as pretty-printing and use with Adapt.jl.\n",
            "\u001b[33m\u001b[1m│ \u001b[22m\u001b[39mHowever, this is not required. Flux.jl v0.15 uses Functors.jl v0.5,which makes exploration of most nested `struct`s opt-out instead of opt-in...so Flux will automatically see inside any custom struct definitions.\n",
            "\u001b[33m\u001b[1m│ \u001b[22m\u001b[39mIf you really want to apply the `@functor` macro to a custom struct, use `Functors.@functor` instead.\n",
            "\u001b[33m\u001b[1m└ \u001b[22m\u001b[39m\u001b[90m@ Flux ~/.julia/packages/Flux/3711C/src/deprecations.jl:101\u001b[39m\n"
          ]
        }
      ],
      "source": [
        "@functor Encoder"
      ]
    },
    {
      "cell_type": "code",
      "execution_count": 12,
      "id": "5f6dfed6-ee27-4d16-89da-510dde2e132d",
      "metadata": {
        "id": "5f6dfed6-ee27-4d16-89da-510dde2e132d",
        "outputId": "76445e9b-bfb3-4118-87a0-966e865bb0f7",
        "colab": {
          "base_uri": "https://localhost:8080/"
        }
      },
      "outputs": [
        {
          "output_type": "execute_result",
          "data": {
            "text/plain": [
              "encoder (generic function with 1 method)"
            ]
          },
          "metadata": {},
          "execution_count": 12
        }
      ],
      "source": [
        "encoder(input_dim::Int, hidden_dim::Int, latent_dim::Int) = Encoder(\n",
        "    Dense(input_dim, hidden_dim, tanh),   # linear\n",
        "    Dense(hidden_dim, latent_dim),        # μ\n",
        "    Dense(hidden_dim, latent_dim),        # log_σ\n",
        "    ) |> gpu"
      ]
    },
    {
      "cell_type": "code",
      "execution_count": 13,
      "id": "938a17e8-4a49-46ab-815a-73fd70cd2e46",
      "metadata": {
        "id": "938a17e8-4a49-46ab-815a-73fd70cd2e46"
      },
      "outputs": [],
      "source": [
        "function (encoder::Encoder)(x)\n",
        "    h = encoder.linear(x)\n",
        "    encoder.μ(h), encoder.log_σ(h)\n",
        "end"
      ]
    },
    {
      "cell_type": "markdown",
      "id": "2b653535-0cfb-44e7-ab0f-363638bb0cd5",
      "metadata": {
        "id": "2b653535-0cfb-44e7-ab0f-363638bb0cd5"
      },
      "source": [
        "Define the `decoder` network: The decoder network should return the reconstruction of the input data"
      ]
    },
    {
      "cell_type": "code",
      "execution_count": 14,
      "id": "6bc6817b-1f4a-4d65-89ca-8d9ede2f4b11",
      "metadata": {
        "id": "6bc6817b-1f4a-4d65-89ca-8d9ede2f4b11",
        "outputId": "69ea905a-748a-487c-9c91-c83bbb28cb4d",
        "colab": {
          "base_uri": "https://localhost:8080/"
        }
      },
      "outputs": [
        {
          "output_type": "execute_result",
          "data": {
            "text/plain": [
              "decoder (generic function with 1 method)"
            ]
          },
          "metadata": {},
          "execution_count": 14
        }
      ],
      "source": [
        "decoder(input_dim::Int, hidden_dim::Int, latent_dim::Int) = Chain(\n",
        "    Dense(latent_dim, hidden_dim, tanh),\n",
        "    Dense(hidden_dim, input_dim)\n",
        "    ) |> gpu"
      ]
    },
    {
      "cell_type": "markdown",
      "id": "7dca5ce8-aced-43b8-9c01-75a7893153ef",
      "metadata": {
        "id": "7dca5ce8-aced-43b8-9c01-75a7893153ef"
      },
      "source": [
        "Reconstruction of the input data"
      ]
    },
    {
      "cell_type": "code",
      "execution_count": 15,
      "id": "9ae574d6-17b2-4aba-8749-09d2b84bf95c",
      "metadata": {
        "id": "9ae574d6-17b2-4aba-8749-09d2b84bf95c",
        "outputId": "a46b1837-31ba-4c57-8fc0-0e77a30e8d0f",
        "colab": {
          "base_uri": "https://localhost:8080/"
        }
      },
      "outputs": [
        {
          "output_type": "execute_result",
          "data": {
            "text/plain": [
              "vae (generic function with 1 method)"
            ]
          },
          "metadata": {},
          "execution_count": 15
        }
      ],
      "source": [
        "function vae(x, enc, dec)\n",
        "    # Encode `x` into the latent space\n",
        "    μ, log_σ = enc(x)\n",
        "    # `z` si a sample from the latent distribution\n",
        "    z = μ + randn(Float32, size(log_σ)) .* exp.(log_σ)\n",
        "    # Decode the latent representation into a reconstruction of `x`\n",
        "    x̂ = dec(z)\n",
        "    # Return μ, log_σ and x̂\n",
        "    μ, log_σ, x̂\n",
        "end"
      ]
    },
    {
      "cell_type": "code",
      "execution_count": 16,
      "id": "99660b4d-c3ce-469c-bb9c-fdd86a3feb13",
      "metadata": {
        "id": "99660b4d-c3ce-469c-bb9c-fdd86a3feb13",
        "outputId": "2efe36a7-0c63-445c-85b9-d88a906b8400",
        "colab": {
          "base_uri": "https://localhost:8080/"
        }
      },
      "outputs": [
        {
          "output_type": "execute_result",
          "data": {
            "text/plain": [
              "l (generic function with 1 method)"
            ]
          },
          "metadata": {},
          "execution_count": 16
        }
      ],
      "source": [
        "function l(x, enc, dec, λ)\n",
        "    μ, log_σ, x̂ = vae(x, enc, dec)\n",
        "    len = size(x)[end]\n",
        "    # The reconstruction loss measures how well the VAE was able to reconstruct the input data\n",
        "    logp_x_z = -Flux.Losses.logitbinarycrossentropy(x̂, x, agg=sum) / len\n",
        "    # The KL divergence loss measures how close the latent distribution is to the normal distribution\n",
        "    kl_q_p = 5f-1 * sum(@. (-2f0 * log_σ - 1f0 + exp(2f0 * log_σ) + μ^2)) / len\n",
        "    # L2 Regularization\n",
        "    reg = λ * sum( θ -> sum(θ.^2), Flux.params(dec) )\n",
        "    # Sum of the reconstruction loss and the KL divergence loss\n",
        "    -logp_x_z + kl_q_p + reg\n",
        "end"
      ]
    },
    {
      "cell_type": "code",
      "execution_count": 17,
      "id": "e8ace135-e555-4266-a007-ae7c91b3adc7",
      "metadata": {
        "id": "e8ace135-e555-4266-a007-ae7c91b3adc7",
        "outputId": "78dcf263-5451-4abd-835f-c456f1392795",
        "colab": {
          "base_uri": "https://localhost:8080/"
        }
      },
      "outputs": [
        {
          "output_type": "execute_result",
          "data": {
            "text/plain": [
              "train (generic function with 1 method)"
            ]
          },
          "metadata": {},
          "execution_count": 17
        }
      ],
      "source": [
        "function train(; kws...)\n",
        "    args = HyperParams(; kws...)\n",
        "\n",
        "    # Initialize `encoder` and `decoder`\n",
        "    enc_mdl = encoder(args.input_dim, args.hidden_dim, args.latent_dim)\n",
        "    dec_mdl = decoder(args.input_dim, args.hidden_dim, args.latent_dim)\n",
        "\n",
        "    # ADAM optimizers\n",
        "    opt_enc = Flux.setup(Adam(args.η), enc_mdl)\n",
        "    opt_dec = Flux.setup(Adam(args.η), dec_mdl)\n",
        "\n",
        "    for epoch in 1:args.epochs\n",
        "        printstyled(\"\\t***\\t === EPOCH $(epoch) === \\t*** \\n\", color=:magenta, bold=true)\n",
        "        progress = Progress(length(train_loader))\n",
        "        for X in train_loader\n",
        "                loss, back = Flux.pullback(enc_mdl, dec_mdl) do enc, dec\n",
        "                    l(X, enc, dec, args.λ)\n",
        "                end\n",
        "                grad_enc, grad_dec = back(1f0)\n",
        "                Flux.update!(opt_enc, enc_mdl, grad_enc) # Upd `encoder` params\n",
        "                Flux.update!(opt_dec, dec_mdl, grad_dec) # Upd `decoder` params\n",
        "                next!(progress; showvalues=[(:loss, loss)])\n",
        "        end\n",
        "    end\n",
        "\n",
        "    # Save the model\n",
        "    #=\n",
        "    using DrWatson: struct2dict\n",
        "    using BSON\n",
        "\n",
        "    mdl_path = joinpath(args.save_path, \"vae.bson\")\n",
        "    let args=struct2dict(args)\n",
        "    \tBSON.@save mdl_path encoder decoder args\n",
        "    \t@info \"Model saved to $(mdl_path)\"\n",
        "    end\n",
        "    =#\n",
        "\n",
        "    enc_mdl, dec_mdl\n",
        "end"
      ]
    },
    {
      "cell_type": "code",
      "execution_count": null,
      "id": "94970592-419d-4779-9f21-7a7f626503f8",
      "metadata": {
        "jupyter": {
          "outputs_hidden": true
        },
        "scrolled": true,
        "id": "94970592-419d-4779-9f21-7a7f626503f8",
        "outputId": "11ffcaa9-bbe1-4008-a1f0-a02780f326e4",
        "colab": {
          "base_uri": "https://localhost:8080/"
        }
      },
      "outputs": [
        {
          "output_type": "stream",
          "name": "stderr",
          "text": [
            "\u001b[33m\u001b[1m┌ \u001b[22m\u001b[39m\u001b[33m\u001b[1mWarning: \u001b[22m\u001b[39mProgressMeter by default refresh meters with additional information in IJulia via `IJulia.clear_output`, which clears all outputs in the cell. \n",
            "\u001b[33m\u001b[1m│ \u001b[22m\u001b[39m - To prevent this behaviour, do `ProgressMeter.ijulia_behavior(:append)`. \n",
            "\u001b[33m\u001b[1m│ \u001b[22m\u001b[39m - To disable this warning message, do `ProgressMeter.ijulia_behavior(:clear)`.\n",
            "\u001b[33m\u001b[1m└ \u001b[22m\u001b[39m\u001b[90m@ ProgressMeter ~/.julia/packages/ProgressMeter/kVZZH/src/ProgressMeter.jl:594\u001b[39m\n",
            "\r\u001b[32mProgress:  60%|████████████████████████████████████▉                        |  ETA: 0:04:50\u001b[39m\r\n",
            "\u001b[34m  loss:  181.97878\u001b[39m"
          ]
        }
      ],
      "source": [
        "enc_model, dec_model = train()"
      ]
    },
    {
      "cell_type": "code",
      "source": [],
      "metadata": {
        "id": "omZzyrcNNivC"
      },
      "id": "omZzyrcNNivC",
      "execution_count": null,
      "outputs": []
    }
  ],
  "metadata": {
    "kernelspec": {
      "display_name": "Julia",
      "name": "julia"
    },
    "language_info": {
      "name": "julia"
    },
    "colab": {
      "provenance": [],
      "gpuType": "T4",
      "include_colab_link": true
    },
    "accelerator": "GPU"
  },
  "nbformat": 4,
  "nbformat_minor": 5
}