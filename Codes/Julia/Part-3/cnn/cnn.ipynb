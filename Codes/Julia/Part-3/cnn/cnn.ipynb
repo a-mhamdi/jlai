{
  "cells": [
    {
      "cell_type": "markdown",
      "metadata": {
        "id": "view-in-github",
        "colab_type": "text"
      },
      "source": [
        "<a href=\"https://colab.research.google.com/github/a-mhamdi/jlai/blob/main/Codes/Julia/Part-3/cnn/cnn.ipynb\" target=\"_parent\"><img src=\"https://colab.research.google.com/assets/colab-badge.svg\" alt=\"Open In Colab\"/></a>"
      ]
    },
    {
      "cell_type": "markdown",
      "id": "5db8d32e-66e3-4e8d-9bde-d8314fe891f8",
      "metadata": {
        "id": "5db8d32e-66e3-4e8d-9bde-d8314fe891f8"
      },
      "source": [
        "# HANDWRITTEN DIGITS RECOGNITION USING CNN\n",
        "---"
      ]
    },
    {
      "cell_type": "markdown",
      "id": "ee62e05e-ef9e-4423-87dc-9f45e666877d",
      "metadata": {
        "id": "ee62e05e-ef9e-4423-87dc-9f45e666877d"
      },
      "source": [
        "Handwritten digits classification using **CNN**. This solution is implemented in `Julia` using the `Flux.jl` library"
      ]
    },
    {
      "cell_type": "code",
      "execution_count": 1,
      "id": "5b2929ed-640f-4681-b7cd-bd5540758737",
      "metadata": {
        "id": "5b2929ed-640f-4681-b7cd-bd5540758737",
        "outputId": "8b995853-3a63-4f3c-9006-837baaae4ac4",
        "colab": {
          "base_uri": "https://localhost:8080/"
        }
      },
      "outputs": [
        {
          "output_type": "stream",
          "name": "stdout",
          "text": [
            "Julia Version 1.11.5\n",
            "Commit 760b2e5b739 (2025-04-14 06:53 UTC)\n",
            "Build Info:\n",
            "  Official https://julialang.org/ release\n",
            "Platform Info:\n",
            "  OS: Linux (x86_64-linux-gnu)\n",
            "  CPU: 2 × Intel(R) Xeon(R) CPU @ 2.00GHz\n",
            "  WORD_SIZE: 64\n",
            "  LLVM: libLLVM-16.0.6 (ORCJIT, skylake-avx512)\n",
            "Threads: 2 default, 0 interactive, 1 GC (on 2 virtual cores)\n",
            "Environment:\n",
            "  LD_LIBRARY_PATH = /usr/lib64-nvidia\n",
            "  JULIA_NUM_THREADS = auto\n"
          ]
        }
      ],
      "source": [
        "versioninfo()"
      ]
    },
    {
      "cell_type": "code",
      "source": [
        ";wget -O Project.toml https://raw.githubusercontent.com/a-mhamdi/jlai/refs/heads/main/Codes/Julia/Part-3/cnn/Project.toml"
      ],
      "metadata": {
        "id": "sArmsQK9fkFs",
        "outputId": "250217cc-bd23-42d5-a30d-8b3004a53c98",
        "colab": {
          "base_uri": "https://localhost:8080/"
        }
      },
      "id": "sArmsQK9fkFs",
      "execution_count": 2,
      "outputs": [
        {
          "output_type": "stream",
          "name": "stderr",
          "text": [
            "--2025-10-17 21:07:49--  https://raw.githubusercontent.com/a-mhamdi/jlai/refs/heads/main/Codes/Julia/Part-3/cnn/Project.toml\n",
            "Resolving raw.githubusercontent.com (raw.githubusercontent.com)... 185.199.108.133, 185.199.109.133, 185.199.110.133, ...\n",
            "Connecting to raw.githubusercontent.com (raw.githubusercontent.com)|185.199.108.133|:443... connected.\n",
            "HTTP request sent, awaiting response... 200 OK\n",
            "Length: 707 [text/plain]\n",
            "Saving to: ‘Project.toml’\n",
            "\n",
            "     0K                                                       100% 66.5M=0s\n",
            "\n",
            "2025-10-17 21:07:49 (66.5 MB/s) - ‘Project.toml’ saved [707/707]\n",
            "\n"
          ]
        }
      ]
    },
    {
      "cell_type": "code",
      "source": [
        ";sed -i -e '/^Pl[uo]/d' -e '/^Image/d' Project.toml"
      ],
      "metadata": {
        "id": "56oZPpvYyzjT"
      },
      "id": "56oZPpvYyzjT",
      "execution_count": 3,
      "outputs": []
    },
    {
      "cell_type": "code",
      "source": [
        "import Pkg; Pkg.activate(\".\"); Pkg.instantiate(); Pkg.update()"
      ],
      "metadata": {
        "id": "Q_lHYKpafw5C",
        "outputId": "9fa227b3-af92-4a88-fe40-d4424be478d2",
        "colab": {
          "base_uri": "https://localhost:8080/"
        },
        "collapsed": true
      },
      "id": "Q_lHYKpafw5C",
      "execution_count": 4,
      "outputs": [
        {
          "output_type": "stream",
          "name": "stderr",
          "text": [
            "\u001b[32m\u001b[1m  Activating\u001b[22m\u001b[39m project at `/content`\n",
            "\u001b[33m\u001b[1m┌ \u001b[22m\u001b[39m\u001b[33m\u001b[1mWarning: \u001b[22m\u001b[39mThe project dependencies or compat requirements have changed since the manifest was last resolved.\n",
            "\u001b[33m\u001b[1m│ \u001b[22m\u001b[39mIt is recommended to `Pkg.resolve()` or consider `Pkg.update()` if necessary.\n",
            "\u001b[33m\u001b[1m└ \u001b[22m\u001b[39m\u001b[90m@ Pkg.API /usr/local/share/julia/stdlib/v1.11/Pkg/src/API.jl:1206\u001b[39m\n",
            "\u001b[92m\u001b[1mPrecompiling\u001b[22m\u001b[39m project...\n",
            "\u001b[33m\u001b[1m┌ \u001b[22m\u001b[39m\u001b[33m\u001b[1mWarning: \u001b[22m\u001b[39mattempting to remove probably stale pidfile\n",
            "\u001b[33m\u001b[1m│ \u001b[22m\u001b[39m  path = \"/root/.julia/compiled/v1.11/CUDA/oWw5k_MJWkB.ji.pidfile\"\n",
            "\u001b[33m\u001b[1m└ \u001b[22m\u001b[39m\u001b[90m@ FileWatching.Pidfile /usr/local/share/julia/stdlib/v1.11/FileWatching/src/pidfile.jl:249\u001b[39m\n",
            "   3725.6 ms\u001b[32m  ✓ \u001b[39m\u001b[90mTransducers → TransducersDataFramesExt\u001b[39m\n",
            "   4181.0 ms\u001b[32m  ✓ \u001b[39m\u001b[90mBangBang → BangBangDataFramesExt\u001b[39m\n",
            "  60506.7 ms\u001b[32m  ✓ \u001b[39m\u001b[90mCUDA\u001b[39m\n",
            "\u001b[33m\u001b[1m┌ \u001b[22m\u001b[39m\u001b[33m\u001b[1mWarning: \u001b[22m\u001b[39mattempting to remove probably stale pidfile\n",
            "\u001b[33m\u001b[1m│ \u001b[22m\u001b[39m  path = \"/root/.julia/compiled/v1.11/SpecialFunctionsExt/9h4VD_MJWkB.ji.pidfile\"\n",
            "\u001b[33m\u001b[1m└ \u001b[22m\u001b[39m\u001b[90m@ FileWatching.Pidfile /usr/local/share/julia/stdlib/v1.11/FileWatching/src/pidfile.jl:249\u001b[39m\n",
            "\u001b[33m\u001b[1m┌ \u001b[22m\u001b[39m\u001b[33m\u001b[1mWarning: \u001b[22m\u001b[39mattempting to remove probably stale pidfile\n",
            "\u001b[33m\u001b[1m│ \u001b[22m\u001b[39m  path = \"/root/.julia/compiled/v1.11/ChainRulesCoreExt/S7fZn_MJWkB.ji.pidfile\"\n",
            "\u001b[33m\u001b[1m└ \u001b[22m\u001b[39m\u001b[90m@ FileWatching.Pidfile /usr/local/share/julia/stdlib/v1.11/FileWatching/src/pidfile.jl:249\u001b[39m\n",
            "  14400.5 ms\u001b[32m  ✓ \u001b[39m\u001b[90mCUDA → SpecialFunctionsExt\u001b[39m\n",
            "\u001b[33m\u001b[1m┌ \u001b[22m\u001b[39m\u001b[33m\u001b[1mWarning: \u001b[22m\u001b[39mattempting to remove probably stale pidfile\n",
            "\u001b[33m\u001b[1m│ \u001b[22m\u001b[39m  path = \"/root/.julia/compiled/v1.11/EnzymeCoreExt/10xBC_MJWkB.ji.pidfile\"\n",
            "\u001b[33m\u001b[1m└ \u001b[22m\u001b[39m\u001b[90m@ FileWatching.Pidfile /usr/local/share/julia/stdlib/v1.11/FileWatching/src/pidfile.jl:249\u001b[39m\n",
            "  14567.5 ms\u001b[32m  ✓ \u001b[39m\u001b[90mAtomix → AtomixCUDAExt\u001b[39m\n",
            "  14796.7 ms\u001b[32m  ✓ \u001b[39m\u001b[90mCUDA → ChainRulesCoreExt\u001b[39m\n",
            "  14300.8 ms\u001b[32m  ✓ \u001b[39m\u001b[90mCUDA → EnzymeCoreExt\u001b[39m\n",
            "  14304.7 ms\u001b[32m  ✓ \u001b[39m\u001b[90mStridedViews → StridedViewsCUDAExt\u001b[39m\n",
            "  14818.9 ms\u001b[32m  ✓ \u001b[39m\u001b[90mMLDataDevices → MLDataDevicesCUDAExt\u001b[39m\n",
            "  10897.3 ms\u001b[32m  ✓ \u001b[39m\u001b[90mNNlib → NNlibCUDAExt\u001b[39m\n",
            "  14497.7 ms\u001b[32m  ✓ \u001b[39m\u001b[90mcuDNN\u001b[39m\n",
            "  15183.4 ms\u001b[32m  ✓ \u001b[39m\u001b[90mNNlib → NNlibCUDACUDNNExt\u001b[39m\n",
            "  15283.4 ms\u001b[32m  ✓ \u001b[39m\u001b[90mMLDataDevices → MLDataDevicescuDNNExt\u001b[39m\n",
            "  17751.5 ms\u001b[32m  ✓ \u001b[39mFlux → FluxCUDAcuDNNExt\n",
            "  14 dependencies successfully precompiled in 124 seconds. 447 already precompiled.\n",
            "  \u001b[33m1\u001b[39m dependency had output during precompilation:\u001b[33m\n",
            "┌ \u001b[39mFlux → FluxCUDAcuDNNExt\u001b[33m\n",
            "│  \u001b[39m\u001b[33m\u001b[1m┌ \u001b[22m\u001b[39m\u001b[33m\u001b[1mWarning: \u001b[22m\u001b[39mPackage cuDNN not found in current path.\u001b[33m\n",
            "│  \u001b[39m\u001b[33m\u001b[1m│ \u001b[22m\u001b[39m- Run `import Pkg; Pkg.add(\"cuDNN\")` to install the cuDNN package, then restart julia.\u001b[33m\n",
            "│  \u001b[39m\u001b[33m\u001b[1m│ \u001b[22m\u001b[39m- If cuDNN is not installed, some Flux functionalities will not be available when running on the GPU.\u001b[33m\n",
            "│  \u001b[39m\u001b[33m\u001b[1m└ \u001b[22m\u001b[39m\u001b[90m@ FluxCUDAExt ~/.julia/packages/Flux/uRn8o/ext/FluxCUDAExt/FluxCUDAExt.jl:10\u001b[39m\u001b[33m\n",
            "└  \u001b[39m\n",
            "\u001b[32m\u001b[1m    Updating\u001b[22m\u001b[39m registry at `~/.julia/registries/General.toml`\n",
            "\u001b[32m\u001b[1m  No Changes\u001b[22m\u001b[39m to `/content/Project.toml`\n",
            "\u001b[32m\u001b[1m    Updating\u001b[22m\u001b[39m `/content/Manifest.toml`\n",
            "  \u001b[90m[1520ce14] \u001b[39m\u001b[91m- AbstractTrees v0.4.5\u001b[39m\n",
            "  \u001b[90m[35492f91] \u001b[39m\u001b[91m- AdaptivePredicates v1.2.0\u001b[39m\n",
            "  \u001b[90m[27a7e980] \u001b[39m\u001b[91m- Animations v0.4.2\u001b[39m\n",
            "  \u001b[90m[67c07d97] \u001b[39m\u001b[91m- Automa v1.1.0\u001b[39m\n",
            "  \u001b[90m[13072b0f] \u001b[39m\u001b[91m- AxisAlgorithms v1.1.0\u001b[39m\n",
            "  \u001b[90m[39de3d68] \u001b[39m\u001b[91m- AxisArrays v0.4.8\u001b[39m\n",
            "  \u001b[90m[18cc8868] \u001b[39m\u001b[91m- BaseDirs v1.3.2\u001b[39m\n",
            "  \u001b[90m[824d6782] \u001b[39m\u001b[91m- Bonito v4.1.7\u001b[39m\n",
            "  \u001b[90m[fa961155] \u001b[39m\u001b[91m- CEnum v0.5.0\u001b[39m\n",
            "  \u001b[90m[96374032] \u001b[39m\u001b[91m- CRlibm v1.0.2\u001b[39m\n",
            "  \u001b[90m[052768ef] \u001b[39m\u001b[91m- CUDA v5.8.5\u001b[39m\n",
            "  \u001b[90m[1af6417a] \u001b[39m\u001b[91m- CUDA_Runtime_Discovery v1.0.0\u001b[39m\n",
            "  \u001b[90m[a2cac450] \u001b[39m\u001b[91m- ColorBrewer v0.4.2\u001b[39m\n",
            "  \u001b[90m[95dc2771] \u001b[39m\u001b[91m- ComputePipeline v0.1.4\u001b[39m\n",
            "  \u001b[90m[d38c429a] \u001b[39m\u001b[91m- Contour v0.6.3\u001b[39m\n",
            "  \u001b[90m[927a84f5] \u001b[39m\u001b[91m- DelaunayTriangulation v1.6.4\u001b[39m\n",
            "  \u001b[90m[31c24e10] \u001b[39m\u001b[91m- Distributions v0.25.122\u001b[39m\n",
            "  \u001b[90m[4e289a0a] \u001b[39m\u001b[91m- EnumX v1.0.5\u001b[39m\n",
            "  \u001b[90m[429591f6] \u001b[39m\u001b[91m- ExactPredicates v2.2.9\u001b[39m\n",
            "  \u001b[90m[e2ba6199] \u001b[39m\u001b[91m- ExprTools v0.1.10\u001b[39m\n",
            "  \u001b[90m[411431e0] \u001b[39m\u001b[91m- Extents v0.1.6\u001b[39m\n",
            "  \u001b[90m[7a1cc6ca] \u001b[39m\u001b[91m- FFTW v1.10.0\u001b[39m\n",
            "  \u001b[90m[8fc22ac5] \u001b[39m\u001b[91m- FilePaths v0.8.3\u001b[39m\n",
            "  \u001b[90m[1fa38f19] \u001b[39m\u001b[91m- Format v1.3.7\u001b[39m\n",
            "  \u001b[90m[b38be410] \u001b[39m\u001b[91m- FreeType v4.1.1\u001b[39m\n",
            "  \u001b[90m[663a7486] \u001b[39m\u001b[91m- FreeTypeAbstraction v0.10.8\u001b[39m\n",
            "  \u001b[90m[0c68f7d7] \u001b[39m\u001b[91m- GPUArrays v11.2.6\u001b[39m\n",
            "  \u001b[90m[61eb1bfa] \u001b[39m\u001b[91m- GPUCompiler v1.7.2\u001b[39m\n",
            "  \u001b[90m[096a3bc2] \u001b[39m\u001b[91m- GPUToolbox v0.3.0\u001b[39m\n",
            "  \u001b[90m[5c1252a2] \u001b[39m\u001b[91m- GeometryBasics v0.5.10\u001b[39m\n",
            "  \u001b[90m[3955a311] \u001b[39m\u001b[91m- GridLayoutBase v0.11.2\u001b[39m\n",
            "  \u001b[90m[42e2da0e] \u001b[39m\u001b[91m- Grisu v1.0.2\u001b[39m\n",
            "  \u001b[90m[34004b35] \u001b[39m\u001b[91m- HypergeometricFunctions v0.3.28\u001b[39m\n",
            "  \u001b[90m[47d2ed2b] \u001b[39m\u001b[91m- Hyperscript v0.0.5\u001b[39m\n",
            "  \u001b[90m[2803e5a7] \u001b[39m\u001b[91m- ImageAxes v0.6.12\u001b[39m\n",
            "  \u001b[90m[82e4d734] \u001b[39m\u001b[91m- ImageIO v0.6.9\u001b[39m\n",
            "  \u001b[90m[bc367c6b] \u001b[39m\u001b[91m- ImageMetadata v0.9.10\u001b[39m\n",
            "  \u001b[90m[9b13fd28] \u001b[39m\u001b[91m- IndirectArrays v1.0.0\u001b[39m\n",
            "  \u001b[90m[d25df0c9] \u001b[39m\u001b[91m- Inflate v0.1.5\u001b[39m\n",
            "  \u001b[90m[a98d9a8b] \u001b[39m\u001b[91m- Interpolations v0.16.2\u001b[39m\n",
            "  \u001b[90m[d1acc4aa] \u001b[39m\u001b[91m- IntervalArithmetic v1.0.1\u001b[39m\n",
            "  \u001b[90m[8197267c] \u001b[39m\u001b[91m- IntervalSets v0.7.11\u001b[39m\n",
            "  \u001b[90m[f1662d9f] \u001b[39m\u001b[91m- Isoband v0.1.1\u001b[39m\n",
            "  \u001b[90m[c8e1da08] \u001b[39m\u001b[91m- IterTools v1.10.0\u001b[39m\n",
            "  \u001b[90m[682c06a0] \u001b[39m\u001b[91m- JSON v1.2.0\u001b[39m\n",
            "  \u001b[90m[b835a17e] \u001b[39m\u001b[91m- JpegTurbo v0.1.6\u001b[39m\n",
            "  \u001b[90m[5ab0869b] \u001b[39m\u001b[91m- KernelDensity v0.6.10\u001b[39m\n",
            "  \u001b[90m[929cbde3] \u001b[39m\u001b[91m- LLVM v9.4.4\u001b[39m\n",
            "  \u001b[90m[8b046642] \u001b[39m\u001b[91m- LLVMLoopInfo v1.0.0\u001b[39m\n",
            "  \u001b[90m[ee78f7c6] \u001b[39m\u001b[91m- Makie v0.24.6\u001b[39m\n",
            "  \u001b[90m[0a4f8689] \u001b[39m\u001b[91m- MathTeXEngine v0.6.6\u001b[39m\n",
            "  \u001b[90m[99f44e22] \u001b[39m\u001b[91m- MsgPack v1.2.1\u001b[39m\n",
            "  \u001b[90m[5da4648a] \u001b[39m\u001b[91m- NVTX v1.0.1\u001b[39m\n",
            "  \u001b[90m[f09324ee] \u001b[39m\u001b[91m- Netpbm v1.1.1\u001b[39m\n",
            "  \u001b[90m[510215fc] \u001b[39m\u001b[91m- Observables v0.5.5\u001b[39m\n",
            "  \u001b[90m[52e1d378] \u001b[39m\u001b[91m- OpenEXR v0.3.3\u001b[39m\n",
            "  \u001b[90m[90014a1f] \u001b[39m\u001b[91m- PDMats v0.11.35\u001b[39m\n",
            "  \u001b[90m[f57f5aa1] \u001b[39m\u001b[91m- PNGFiles v0.4.4\u001b[39m\n",
            "  \u001b[90m[19eb6ba3] \u001b[39m\u001b[91m- Packing v0.5.1\u001b[39m\n",
            "  \u001b[90m[eebad327] \u001b[39m\u001b[91m- PkgVersion v0.3.3\u001b[39m\n",
            "  \u001b[90m[995b91a9] \u001b[39m\u001b[91m- PlotUtils v1.4.3\u001b[39m\n",
            "  \u001b[90m[647866c9] \u001b[39m\u001b[91m- PolygonOps v0.1.2\u001b[39m\n",
            "  \u001b[90m[08abe8d2] \u001b[39m\u001b[93m↑ PrettyTables v2.4.0 ⇒ v3.1.0\u001b[39m\n",
            "  \u001b[90m[4b34888f] \u001b[39m\u001b[91m- QOI v1.0.1\u001b[39m\n",
            "  \u001b[90m[1fd47b50] \u001b[39m\u001b[91m- QuadGK v2.11.2\u001b[39m\n",
            "  \u001b[90m[74087812] \u001b[39m\u001b[91m- Random123 v1.7.1\u001b[39m\n",
            "  \u001b[90m[e6cf234a] \u001b[39m\u001b[91m- RandomNumbers v1.6.0\u001b[39m\n",
            "  \u001b[90m[b3c3ace0] \u001b[39m\u001b[91m- RangeArrays v0.3.2\u001b[39m\n",
            "  \u001b[90m[c84ed2f1] \u001b[39m\u001b[91m- Ratios v0.4.5\u001b[39m\n",
            "  \u001b[90m[3cdcf5f2] \u001b[39m\u001b[91m- RecipesBase v1.3.4\u001b[39m\n",
            "  \u001b[90m[05181044] \u001b[39m\u001b[91m- RelocatableFolders v1.0.1\u001b[39m\n",
            "  \u001b[90m[79098fc4] \u001b[39m\u001b[91m- Rmath v0.8.0\u001b[39m\n",
            "  \u001b[90m[5eaf0fd0] \u001b[39m\u001b[91m- RoundingEmulator v0.2.1\u001b[39m\n",
            "  \u001b[90m[fdea26ae] \u001b[39m\u001b[91m- SIMD v3.7.2\u001b[39m\n",
            "  \u001b[90m[65257c39] \u001b[39m\u001b[91m- ShaderAbstractions v0.5.0\u001b[39m\n",
            "  \u001b[90m[992d4aef] \u001b[39m\u001b[91m- Showoff v1.0.3\u001b[39m\n",
            "  \u001b[90m[73760f76] \u001b[39m\u001b[91m- SignedDistanceFields v0.4.0\u001b[39m\n",
            "  \u001b[90m[45858cf5] \u001b[39m\u001b[91m- Sixel v0.1.5\u001b[39m\n",
            "  \u001b[90m[860ef19b] \u001b[39m\u001b[91m- StableRNGs v1.0.3\u001b[39m\n",
            "  \u001b[90m[4c63d2b9] \u001b[39m\u001b[91m- StatsFuns v1.5.0\u001b[39m\n",
            "  \u001b[90m[ec057cc2] \u001b[39m\u001b[91m- StructUtils v2.5.1\u001b[39m\n",
            "  \u001b[90m[b189fb0b] \u001b[39m\u001b[91m- ThreadPools v2.1.1\u001b[39m\n",
            "  \u001b[90m[731e570b] \u001b[39m\u001b[91m- TiffImages v0.11.6\u001b[39m\n",
            "  \u001b[90m[e689c965] \u001b[39m\u001b[91m- Tracy v0.1.6\u001b[39m\n",
            "  \u001b[90m[981d1d27] \u001b[39m\u001b[91m- TriplotBase v0.1.0\u001b[39m\n",
            "  \u001b[90m[1cfade01] \u001b[39m\u001b[91m- UnicodeFun v0.4.1\u001b[39m\n",
            "  \u001b[90m[276b4fcb] \u001b[39m\u001b[91m- WGLMakie v0.13.6\u001b[39m\n",
            "  \u001b[90m[e3aaa7dc] \u001b[39m\u001b[91m- WebP v0.1.3\u001b[39m\n",
            "  \u001b[90m[eead4739] \u001b[39m\u001b[91m- WidgetsBase v0.1.4\u001b[39m\n",
            "  \u001b[90m[efce3f68] \u001b[39m\u001b[91m- WoodburyMatrices v1.0.0\u001b[39m\n",
            "  \u001b[90m[02a925ec] \u001b[39m\u001b[91m- cuDNN v1.4.5\u001b[39m\n",
            "  \u001b[90m[6e34b625] \u001b[39m\u001b[91m- Bzip2_jll v1.0.9+0\u001b[39m\n",
            "  \u001b[90m[4e9b3aee] \u001b[39m\u001b[91m- CRlibm_jll v1.0.1+0\u001b[39m\n",
            "  \u001b[90m[d1e2174e] \u001b[39m\u001b[91m- CUDA_Compiler_jll v0.2.2+0\u001b[39m\n",
            "  \u001b[90m[4ee394cb] \u001b[39m\u001b[91m- CUDA_Driver_jll v13.0.2+0\u001b[39m\n",
            "  \u001b[90m[76a88914] \u001b[39m\u001b[91m- CUDA_Runtime_jll v0.19.2+0\u001b[39m\n",
            "  \u001b[90m[62b44479] \u001b[39m\u001b[91m- CUDNN_jll v9.13.0+0\u001b[39m\n",
            "  \u001b[90m[83423d85] \u001b[39m\u001b[91m- Cairo_jll v1.18.5+0\u001b[39m\n",
            "  \u001b[90m[04572ae6] \u001b[39m\u001b[91m- Deno_jll v1.33.4+0\u001b[39m\n",
            "  \u001b[90m[5ae413db] \u001b[39m\u001b[91m- EarCut_jll v2.2.4+0\u001b[39m\n",
            "  \u001b[90m[2e619515] \u001b[39m\u001b[91m- Expat_jll v2.7.1+0\u001b[39m\n",
            "  \u001b[90m[b22a6f82] \u001b[39m\u001b[91m- FFMPEG_jll v6.1.3+0\u001b[39m\n",
            "  \u001b[90m[f5851436] \u001b[39m\u001b[91m- FFTW_jll v3.3.11+0\u001b[39m\n",
            "  \u001b[90m[a3f928ae] \u001b[39m\u001b[91m- Fontconfig_jll v2.17.1+0\u001b[39m\n",
            "  \u001b[90m[d7e528f0] \u001b[39m\u001b[91m- FreeType2_jll v2.13.4+0\u001b[39m\n",
            "  \u001b[90m[559328eb] \u001b[39m\u001b[91m- FriBidi_jll v1.0.17+0\u001b[39m\n",
            "  \u001b[90m[b0724c58] \u001b[39m\u001b[91m- GettextRuntime_jll v0.22.4+0\u001b[39m\n",
            "  \u001b[90m[59f7168a] \u001b[39m\u001b[91m- Giflib_jll v5.2.3+0\u001b[39m\n",
            "  \u001b[90m[7746bdde] \u001b[39m\u001b[91m- Glib_jll v2.86.0+0\u001b[39m\n",
            "  \u001b[90m[3b182d85] \u001b[39m\u001b[91m- Graphite2_jll v1.3.15+0\u001b[39m\n",
            "  \u001b[90m[2e76f6c2] \u001b[39m\u001b[91m- HarfBuzz_jll v8.5.1+0\u001b[39m\n",
            "  \u001b[90m[905a6f67] \u001b[39m\u001b[91m- Imath_jll v3.1.11+0\u001b[39m\n",
            "  \u001b[90m[1d5cc7b8] \u001b[39m\u001b[91m- IntelOpenMP_jll v2025.2.0+0\u001b[39m\n",
            "  \u001b[90m[aacddb02] \u001b[39m\u001b[91m- JpegTurbo_jll v3.1.3+0\u001b[39m\n",
            "  \u001b[90m[9c1d0b0a] \u001b[39m\u001b[91m- JuliaNVTXCallbacks_jll v0.2.1+0\u001b[39m\n",
            "  \u001b[90m[c1c5ebd0] \u001b[39m\u001b[91m- LAME_jll v3.100.3+0\u001b[39m\n",
            "  \u001b[90m[88015f11] \u001b[39m\u001b[91m- LERC_jll v4.0.1+0\u001b[39m\n",
            "  \u001b[90m[dad2f222] \u001b[39m\u001b[91m- LLVMExtra_jll v0.0.38+0\u001b[39m\n",
            "  \u001b[90m[1d63c593] \u001b[39m\u001b[91m- LLVMOpenMP_jll v18.1.8+0\u001b[39m\n",
            "  \u001b[90m[dd4b983a] \u001b[39m\u001b[91m- LZO_jll v2.10.3+0\u001b[39m\n",
            "  \u001b[90m[ad6e5548] \u001b[39m\u001b[91m- LibTracyClient_jll v0.9.1+6\u001b[39m\n",
            "  \u001b[90m[e9f186c6] \u001b[39m\u001b[91m- Libffi_jll v3.4.7+0\u001b[39m\n",
            "  \u001b[90m[7e76a0d4] \u001b[39m\u001b[91m- Libglvnd_jll v1.7.1+1\u001b[39m\n",
            "  \u001b[90m[4b2f31a3] \u001b[39m\u001b[91m- Libmount_jll v2.41.2+0\u001b[39m\n",
            "  \u001b[90m[89763e89] \u001b[39m\u001b[91m- Libtiff_jll v4.7.2+0\u001b[39m\n",
            "  \u001b[90m[38a345b3] \u001b[39m\u001b[91m- Libuuid_jll v2.41.2+0\u001b[39m\n",
            "  \u001b[90m[856f044c] \u001b[39m\u001b[91m- MKL_jll v2025.2.0+0\u001b[39m\n",
            "  \u001b[90m[e98f9f5b] \u001b[39m\u001b[91m- NVTX_jll v3.2.2+0\u001b[39m\n",
            "  \u001b[90m[e7412a2a] \u001b[39m\u001b[91m- Ogg_jll v1.3.6+0\u001b[39m\n",
            "  \u001b[90m[6cdc7f73] \u001b[39m\u001b[91m- OpenBLASConsistentFPCSR_jll v0.3.29+0\u001b[39m\n",
            "  \u001b[90m[18a262bb] \u001b[39m\u001b[91m- OpenEXR_jll v3.2.4+0\u001b[39m\n",
            "  \u001b[90m[91d4177d] \u001b[39m\u001b[91m- Opus_jll v1.5.2+0\u001b[39m\n",
            "  \u001b[90m[30392449] \u001b[39m\u001b[91m- Pixman_jll v0.44.2+0\u001b[39m\n",
            "  \u001b[90m[f50d1b31] \u001b[39m\u001b[91m- Rmath_jll v0.5.1+0\u001b[39m\n",
            "  \u001b[90m[ffd25f8a] \u001b[39m\u001b[91m- XZ_jll v5.8.1+0\u001b[39m\n",
            "  \u001b[90m[4f6342f7] \u001b[39m\u001b[91m- Xorg_libX11_jll v1.8.12+0\u001b[39m\n",
            "  \u001b[90m[0c0b7dd1] \u001b[39m\u001b[91m- Xorg_libXau_jll v1.0.13+0\u001b[39m\n",
            "  \u001b[90m[a3789734] \u001b[39m\u001b[91m- Xorg_libXdmcp_jll v1.1.6+0\u001b[39m\n",
            "  \u001b[90m[1082639a] \u001b[39m\u001b[91m- Xorg_libXext_jll v1.3.7+0\u001b[39m\n",
            "  \u001b[90m[ea2f1a96] \u001b[39m\u001b[91m- Xorg_libXrender_jll v0.9.12+0\u001b[39m\n",
            "  \u001b[90m[c7cfdc94] \u001b[39m\u001b[91m- Xorg_libxcb_jll v1.17.1+0\u001b[39m\n",
            "  \u001b[90m[c5fb5394] \u001b[39m\u001b[91m- Xorg_xtrans_jll v1.6.0+0\u001b[39m\n",
            "  \u001b[90m[3161d3a3] \u001b[39m\u001b[91m- Zstd_jll v1.5.7+1\u001b[39m\n",
            "  \u001b[90m[1e29f10c] \u001b[39m\u001b[91m- demumble_jll v1.3.0+0\u001b[39m\n",
            "  \u001b[90m[9a68df92] \u001b[39m\u001b[91m- isoband_jll v0.2.3+0\u001b[39m\n",
            "  \u001b[90m[a4ae2306] \u001b[39m\u001b[91m- libaom_jll v3.13.1+0\u001b[39m\n",
            "  \u001b[90m[0ac62f75] \u001b[39m\u001b[91m- libass_jll v0.17.4+0\u001b[39m\n",
            "  \u001b[90m[f638f0a6] \u001b[39m\u001b[91m- libfdk_aac_jll v2.0.4+0\u001b[39m\n",
            "  \u001b[90m[b53b4c65] \u001b[39m\u001b[91m- libpng_jll v1.6.50+0\u001b[39m\n",
            "  \u001b[90m[075b6546] \u001b[39m\u001b[91m- libsixel_jll v1.10.5+0\u001b[39m\n",
            "  \u001b[90m[f27f6e37] \u001b[39m\u001b[91m- libvorbis_jll v1.3.8+0\u001b[39m\n",
            "  \u001b[90m[c5f90fcd] \u001b[39m\u001b[91m- libwebp_jll v1.6.0+0\u001b[39m\n",
            "  \u001b[90m[1317d2d5] \u001b[39m\u001b[91m- oneTBB_jll v2022.0.0+1\u001b[39m\n",
            "  \u001b[90m[1270edf5] \u001b[39m\u001b[91m- x264_jll v10164.0.1+0\u001b[39m\n",
            "  \u001b[90m[dfaa095f] \u001b[39m\u001b[91m- x265_jll v4.1.0+0\u001b[39m\n",
            "  \u001b[90m[8bf52ea8] \u001b[39m\u001b[91m- CRC32c v1.11.0\u001b[39m\n",
            "  \u001b[90m[1a1011a3] \u001b[39m\u001b[91m- SharedArrays v1.11.0\u001b[39m\n",
            "  \u001b[90m[efcefdf7] \u001b[39m\u001b[91m- PCRE2_jll v10.42.0+1\u001b[39m\n",
            "\u001b[92m\u001b[1mPrecompiling\u001b[22m\u001b[39m project...\n",
            "  74967.8 ms\u001b[32m  ✓ \u001b[39m\u001b[90mDataFrames\u001b[39m\n",
            "   2896.9 ms\u001b[32m  ✓ \u001b[39m\u001b[90mTransducers → TransducersDataFramesExt\u001b[39m\n",
            "   3276.7 ms\u001b[32m  ✓ \u001b[39m\u001b[90mBangBang → BangBangDataFramesExt\u001b[39m\n",
            "  3 dependencies successfully precompiled in 79 seconds. 265 already precompiled.\n"
          ]
        }
      ]
    },
    {
      "cell_type": "code",
      "source": [
        "import Pkg; Pkg.add([\"CUDA\", \"cuDNN\"]);"
      ],
      "metadata": {
        "id": "OmTWH-Ohq66M",
        "outputId": "2432ce56-baa3-441d-a305-86f16b512f10",
        "colab": {
          "base_uri": "https://localhost:8080/"
        }
      },
      "id": "OmTWH-Ohq66M",
      "execution_count": 5,
      "outputs": [
        {
          "output_type": "stream",
          "name": "stderr",
          "text": [
            "\u001b[32m\u001b[1m   Resolving\u001b[22m\u001b[39m package versions...\n",
            "\u001b[32m\u001b[1m    Updating\u001b[22m\u001b[39m `/content/Project.toml`\n",
            "\u001b[33m⌅\u001b[39m \u001b[90m[052768ef] \u001b[39m\u001b[92m+ CUDA v5.8.5\u001b[39m\n",
            "  \u001b[90m[02a925ec] \u001b[39m\u001b[92m+ cuDNN v1.4.5\u001b[39m\n",
            "\u001b[32m\u001b[1m    Updating\u001b[22m\u001b[39m `/content/Manifest.toml`\n",
            "  \u001b[90m[fa961155] \u001b[39m\u001b[92m+ CEnum v0.5.0\u001b[39m\n",
            "\u001b[33m⌅\u001b[39m \u001b[90m[052768ef] \u001b[39m\u001b[92m+ CUDA v5.8.5\u001b[39m\n",
            "  \u001b[90m[1af6417a] \u001b[39m\u001b[92m+ CUDA_Runtime_Discovery v1.0.0\u001b[39m\n",
            "  \u001b[90m[e2ba6199] \u001b[39m\u001b[92m+ ExprTools v0.1.10\u001b[39m\n",
            "  \u001b[90m[0c68f7d7] \u001b[39m\u001b[92m+ GPUArrays v11.2.6\u001b[39m\n",
            "  \u001b[90m[61eb1bfa] \u001b[39m\u001b[92m+ GPUCompiler v1.7.2\u001b[39m\n",
            "\u001b[33m⌅\u001b[39m \u001b[90m[096a3bc2] \u001b[39m\u001b[92m+ GPUToolbox v0.3.0\u001b[39m\n",
            "  \u001b[90m[929cbde3] \u001b[39m\u001b[92m+ LLVM v9.4.4\u001b[39m\n",
            "  \u001b[90m[8b046642] \u001b[39m\u001b[92m+ LLVMLoopInfo v1.0.0\u001b[39m\n",
            "  \u001b[90m[5da4648a] \u001b[39m\u001b[92m+ NVTX v1.0.1\u001b[39m\n",
            "\u001b[33m⌅\u001b[39m \u001b[90m[08abe8d2] \u001b[39m\u001b[95m↓ PrettyTables v3.1.0 ⇒ v2.4.0\u001b[39m\n",
            "  \u001b[90m[74087812] \u001b[39m\u001b[92m+ Random123 v1.7.1\u001b[39m\n",
            "  \u001b[90m[e6cf234a] \u001b[39m\u001b[92m+ RandomNumbers v1.6.0\u001b[39m\n",
            "  \u001b[90m[e689c965] \u001b[39m\u001b[92m+ Tracy v0.1.6\u001b[39m\n",
            "  \u001b[90m[02a925ec] \u001b[39m\u001b[92m+ cuDNN v1.4.5\u001b[39m\n",
            "  \u001b[90m[d1e2174e] \u001b[39m\u001b[92m+ CUDA_Compiler_jll v0.2.2+0\u001b[39m\n",
            "  \u001b[90m[4ee394cb] \u001b[39m\u001b[92m+ CUDA_Driver_jll v13.0.2+0\u001b[39m\n",
            "  \u001b[90m[76a88914] \u001b[39m\u001b[92m+ CUDA_Runtime_jll v0.19.2+0\u001b[39m\n",
            "  \u001b[90m[62b44479] \u001b[39m\u001b[92m+ CUDNN_jll v9.13.0+0\u001b[39m\n",
            "  \u001b[90m[9c1d0b0a] \u001b[39m\u001b[92m+ JuliaNVTXCallbacks_jll v0.2.1+0\u001b[39m\n",
            "  \u001b[90m[dad2f222] \u001b[39m\u001b[92m+ LLVMExtra_jll v0.0.38+0\u001b[39m\n",
            "  \u001b[90m[ad6e5548] \u001b[39m\u001b[92m+ LibTracyClient_jll v0.9.1+6\u001b[39m\n",
            "  \u001b[90m[e98f9f5b] \u001b[39m\u001b[92m+ NVTX_jll v3.2.2+0\u001b[39m\n",
            "  \u001b[90m[1e29f10c] \u001b[39m\u001b[92m+ demumble_jll v1.3.0+0\u001b[39m\n",
            "  \u001b[90m[3fa0cd96] \u001b[39m\u001b[91m- REPL v1.11.0\u001b[39m\n",
            "  \u001b[90m[f489334b] \u001b[39m\u001b[91m- StyledStrings v1.11.0\u001b[39m\n",
            "\u001b[36m\u001b[1m        Info\u001b[22m\u001b[39m Packages marked with \u001b[33m⌅\u001b[39m have new versions available but compatibility constraints restrict them from upgrading. To see why use `status --outdated -m`\n",
            "\u001b[92m\u001b[1mPrecompiling\u001b[22m\u001b[39m project...\n",
            "  71382.2 ms\u001b[32m  ✓ \u001b[39m\u001b[90mDataFrames\u001b[39m\n",
            "   2960.0 ms\u001b[32m  ✓ \u001b[39m\u001b[90mTransducers → TransducersDataFramesExt\u001b[39m\n",
            "   3811.5 ms\u001b[32m  ✓ \u001b[39m\u001b[90mBangBang → BangBangDataFramesExt\u001b[39m\n",
            "  60383.8 ms\u001b[32m  ✓ \u001b[39mCUDA\n",
            "  14372.1 ms\u001b[32m  ✓ \u001b[39m\u001b[90mAtomix → AtomixCUDAExt\u001b[39m\n",
            "  14631.7 ms\u001b[32m  ✓ \u001b[39mCUDA → ChainRulesCoreExt\n",
            "  14801.8 ms\u001b[32m  ✓ \u001b[39mCUDA → SpecialFunctionsExt\n",
            "  13649.3 ms\u001b[32m  ✓ \u001b[39m\u001b[90mStridedViews → StridedViewsCUDAExt\u001b[39m\n",
            "  15119.9 ms\u001b[32m  ✓ \u001b[39mCUDA → EnzymeCoreExt\n",
            "  14923.0 ms\u001b[32m  ✓ \u001b[39m\u001b[90mMLDataDevices → MLDataDevicesCUDAExt\u001b[39m\n",
            "  10893.1 ms\u001b[32m  ✓ \u001b[39m\u001b[90mNNlib → NNlibCUDAExt\u001b[39m\n",
            "  14251.5 ms\u001b[32m  ✓ \u001b[39mcuDNN\n",
            "  14615.3 ms\u001b[32m  ✓ \u001b[39m\u001b[90mMLDataDevices → MLDataDevicescuDNNExt\u001b[39m\n",
            "  15095.3 ms\u001b[32m  ✓ \u001b[39m\u001b[90mNNlib → NNlibCUDACUDNNExt\u001b[39m\n",
            "  16681.6 ms\u001b[32m  ✓ \u001b[39mFlux → FluxCUDAcuDNNExt\n",
            "  15 dependencies successfully precompiled in 193 seconds. 287 already precompiled.\n"
          ]
        }
      ]
    },
    {
      "cell_type": "code",
      "source": [
        "import Pkg; Pkg.add([\"ImageShow\", \"WGLMakie\"]);"
      ],
      "metadata": {
        "id": "ZrdjJ0o9cl6a"
      },
      "execution_count": null,
      "outputs": [],
      "id": "ZrdjJ0o9cl6a"
    },
    {
      "cell_type": "code",
      "source": [
        "import Pkg; Pkg.precompile(); Pkg.resolve()"
      ],
      "metadata": {
        "id": "x1AvTnQxrFMF",
        "outputId": "7c455033-bd60-4de1-8b5d-ad256e793544",
        "colab": {
          "base_uri": "https://localhost:8080/"
        }
      },
      "id": "x1AvTnQxrFMF",
      "execution_count": 7,
      "outputs": [
        {
          "output_type": "stream",
          "name": "stderr",
          "text": [
            "\u001b[32m\u001b[1m  No Changes\u001b[22m\u001b[39m to `/content/Project.toml`\n",
            "\u001b[32m\u001b[1m  No Changes\u001b[22m\u001b[39m to `/content/Manifest.toml`\n"
          ]
        }
      ]
    },
    {
      "cell_type": "markdown",
      "id": "9aa09ef6-ef2c-4251-ac69-9b29e84e3005",
      "metadata": {
        "id": "9aa09ef6-ef2c-4251-ac69-9b29e84e3005"
      },
      "source": [
        "Import the machine learning library `Flux`"
      ]
    },
    {
      "cell_type": "code",
      "execution_count": 8,
      "id": "70892ade-17e9-4da5-95e9-4d3b169fa5f3",
      "metadata": {
        "id": "70892ade-17e9-4da5-95e9-4d3b169fa5f3"
      },
      "outputs": [],
      "source": [
        "using Flux\n",
        "using Flux: DataLoader\n",
        "using Flux: onecold, onehotbatch"
      ]
    },
    {
      "cell_type": "code",
      "source": [
        "using CUDA\n",
        "CUDA.versioninfo()"
      ],
      "metadata": {
        "id": "W-jcDC6Dne3L",
        "colab": {
          "base_uri": "https://localhost:8080/"
        },
        "outputId": "490e24cb-3f35-4d0a-c761-e08d6bbb9710"
      },
      "id": "W-jcDC6Dne3L",
      "execution_count": 9,
      "outputs": [
        {
          "output_type": "stream",
          "name": "stdout",
          "text": [
            "CUDA toolchain: \n",
            "- runtime 12.5, local installation\n",
            "- driver 550.54.15 for 13.0\n",
            "- compiler 12.9\n",
            "\n",
            "CUDA libraries: \n",
            "- CUBLAS: 12.5.3\n",
            "- CURAND: 10.3.6\n",
            "- CUFFT: 11.2.3\n",
            "- CUSOLVER: 11.6.3\n",
            "- CUSPARSE: 12.5.1\n",
            "- CUPTI: 2024.2.1 (API 12.5.0)\n",
            "- NVML: 12.0.0+550.54.15\n",
            "\n",
            "Julia packages: \n",
            "- CUDA: 5.8.5\n",
            "- CUDA_Driver_jll: 13.0.2+0\n",
            "- CUDA_Compiler_jll: 0.2.2+0\n",
            "- CUDA_Runtime_jll: 0.19.2+0\n",
            "- CUDA_Runtime_Discovery: 1.0.0\n",
            "\n",
            "Toolchain:\n",
            "- Julia: 1.11.5\n",
            "- LLVM: 16.0.6\n",
            "\n",
            "Preferences:\n",
            "- CUDA_Runtime_jll.version: 12.5.1\n",
            "- CUDA_Runtime_jll.local: true\n",
            "\n",
            "1 device:\n",
            "  0: Tesla T4 (sm_75, 14.738 GiB / 15.000 GiB available)\n"
          ]
        }
      ]
    },
    {
      "cell_type": "code",
      "execution_count": 10,
      "id": "9da5166c-b178-49e1-81c4-3f47cc0a2046",
      "metadata": {
        "id": "9da5166c-b178-49e1-81c4-3f47cc0a2046",
        "colab": {
          "base_uri": "https://localhost:8080/"
        },
        "outputId": "f93cdffc-a1a0-4e5a-bd1e-da8640490648"
      },
      "outputs": [
        {
          "output_type": "execute_result",
          "data": {
            "text/plain": [
              "HyperParams"
            ]
          },
          "metadata": {},
          "execution_count": 10
        }
      ],
      "source": [
        "Base.@kwdef mutable struct HyperParams\n",
        "    η = 3f-3                # Learning rate\n",
        "    batchsize = 64          # Batch size\n",
        "    epochs = 8              # Number of epochs\n",
        "    split = :train          # Split data into `train` and `test`\n",
        "end"
      ]
    },
    {
      "cell_type": "markdown",
      "id": "70c04da4-1d18-442f-b6bc-cb774d4bbae3",
      "metadata": {
        "id": "70c04da4-1d18-442f-b6bc-cb774d4bbae3"
      },
      "source": [
        "Load the **MNIST** dataset"
      ]
    },
    {
      "cell_type": "code",
      "execution_count": 11,
      "id": "5786c3d6-a334-4561-b177-20929cd86c3f",
      "metadata": {
        "id": "5786c3d6-a334-4561-b177-20929cd86c3f"
      },
      "outputs": [],
      "source": [
        "using MLDatasets"
      ]
    },
    {
      "cell_type": "code",
      "source": [
        "d = MNIST()"
      ],
      "metadata": {
        "id": "URiPgKtK2I9d",
        "colab": {
          "base_uri": "https://localhost:8080/"
        },
        "outputId": "623bd7da-6827-424f-ed10-2ec86a548f27"
      },
      "id": "URiPgKtK2I9d",
      "execution_count": 12,
      "outputs": [
        {
          "output_type": "execute_result",
          "data": {
            "text/plain": [
              "dataset MNIST:\n",
              "  metadata  =>    Dict{String, Any} with 3 entries\n",
              "  split     =>    :train\n",
              "  features  =>    28×28×60000 Array{Float32, 3}\n",
              "  targets   =>    60000-element Vector{Int64}"
            ]
          },
          "metadata": {},
          "execution_count": 12
        }
      ]
    },
    {
      "cell_type": "code",
      "execution_count": 13,
      "id": "5e565f6a-0320-40c1-a84c-b08278fd9aca",
      "metadata": {
        "id": "5e565f6a-0320-40c1-a84c-b08278fd9aca",
        "colab": {
          "base_uri": "https://localhost:8080/"
        },
        "outputId": "5f3497bd-ffb2-4dd9-aff8-75032c1705db"
      },
      "outputs": [
        {
          "output_type": "execute_result",
          "data": {
            "text/plain": [
              "get_data (generic function with 1 method)"
            ]
          },
          "metadata": {},
          "execution_count": 13
        }
      ],
      "source": [
        "function get_data(; kws...)\n",
        "    args = HyperParams(; kws...);\n",
        "    # Split and normalize data\n",
        "    data = MNIST(split=args.split);\n",
        "    X, y = data.features ./ 255, data.targets;\n",
        "    X = reshape(X, (28, 28, 1, :));\n",
        "    y = onehotbatch(y, 0:9);\n",
        "    loader = DataLoader((X, y); batchsize=args.batchsize, shuffle=true) |> gpu;\n",
        "    return loader\n",
        "end"
      ]
    },
    {
      "cell_type": "code",
      "execution_count": 14,
      "id": "a560e2a1-d919-44c4-b56c-e4fc972b1660",
      "metadata": {
        "id": "a560e2a1-d919-44c4-b56c-e4fc972b1660"
      },
      "outputs": [],
      "source": [
        "train_loader = get_data();\n",
        "test_loader = get_data(split=:test);"
      ]
    },
    {
      "cell_type": "code",
      "source": [
        "x1, y1 = first(get_data());\n",
        "# CPU => Array...\n",
        "# GPU => CuArray...\n",
        "typeof((x1, y1))"
      ],
      "metadata": {
        "colab": {
          "base_uri": "https://localhost:8080/"
        },
        "id": "TwBNIUdTO6M_",
        "outputId": "2d72a8d0-edc0-4920-8213-77c7f8c121f4"
      },
      "id": "TwBNIUdTO6M_",
      "execution_count": 15,
      "outputs": [
        {
          "output_type": "execute_result",
          "data": {
            "text/plain": [
              "Tuple{CuArray{Float32, 4, CUDA.DeviceMemory}, OneHotArrays.OneHotMatrix{UInt32, CuArray{UInt32, 1, CUDA.DeviceMemory}}}"
            ]
          },
          "metadata": {},
          "execution_count": 15
        }
      ]
    },
    {
      "cell_type": "markdown",
      "id": "cf4b49dc-286e-4a5a-9573-add0f6c26599",
      "metadata": {
        "id": "cf4b49dc-286e-4a5a-9573-add0f6c26599"
      },
      "source": [
        "Transform sample training data to an image. View the image and check the corresponding digit value."
      ]
    },
    {
      "cell_type": "code",
      "source": [
        "using Statistics"
      ],
      "metadata": {
        "id": "Db1mArOv1prr"
      },
      "id": "Db1mArOv1prr",
      "execution_count": 16,
      "outputs": []
    },
    {
      "cell_type": "code",
      "source": [
        "idx = rand(1:6_000, 3)"
      ],
      "metadata": {
        "id": "d4pYvrke1tO_",
        "colab": {
          "base_uri": "https://localhost:8080/"
        },
        "outputId": "7641af33-6a50-4acf-f92d-12ee1dd81288"
      },
      "id": "d4pYvrke1tO_",
      "execution_count": 17,
      "outputs": [
        {
          "output_type": "execute_result",
          "data": {
            "text/plain": [
              "3-element Vector{Int64}:\n",
              " 5446\n",
              " 2528\n",
              " 1218"
            ]
          },
          "metadata": {},
          "execution_count": 17
        }
      ]
    },
    {
      "cell_type": "code",
      "source": [
        "using ImageShow"
      ],
      "metadata": {
        "id": "EY62yRYsCg0D"
      },
      "id": "EY62yRYsCg0D",
      "execution_count": null,
      "outputs": []
    },
    {
      "cell_type": "code",
      "source": [
        "convert2image(d, idx)"
      ],
      "metadata": {
        "id": "UoRiMci_1ybl",
        "colab": {
          "base_uri": "https://localhost:8080/",
          "height": 367
        },
        "outputId": "1b059106-1156-42a6-b726-aa5f1e818b5d"
      },
      "id": "UoRiMci_1ybl",
      "execution_count": 18,
      "outputs": [
        {
          "output_type": "error",
          "ename": "LoadError",
          "evalue": "Add `import ImageShow` or `using ImageShow` to your code to unlock this functionality.",
          "traceback": [
            "Add `import ImageShow` or `using ImageShow` to your code to unlock this functionality.",
            "",
            "Stacktrace:",
            " [1] \u001b[0m\u001b[1merror\u001b[22m\u001b[0m\u001b[1m(\u001b[22m\u001b[90ms\u001b[39m::\u001b[0mString\u001b[0m\u001b[1m)\u001b[22m",
            "\u001b[90m   @\u001b[39m \u001b[90mBase\u001b[39m \u001b[90m./\u001b[39m\u001b[90m\u001b[4merror.jl:35\u001b[24m\u001b[39m",
            " [2] \u001b[0m\u001b[1massert_imported\u001b[22m",
            "\u001b[90m   @\u001b[39m \u001b[90m~/.julia/packages/MLDatasets/0MkOE/src/\u001b[39m\u001b[90m\u001b[4mrequire.jl:32\u001b[24m\u001b[39m\u001b[90m [inlined]\u001b[39m",
            " [3] \u001b[0m\u001b[1mrequire_import\u001b[22m",
            "\u001b[90m   @\u001b[39m \u001b[90m~/.julia/packages/MLDatasets/0MkOE/src/\u001b[39m\u001b[90m\u001b[4mrequire.jl:39\u001b[24m\u001b[39m\u001b[90m [inlined]\u001b[39m",
            " [4] \u001b[0m\u001b[1mgetproperty\u001b[22m",
            "\u001b[90m   @\u001b[39m \u001b[90m~/.julia/packages/MLDatasets/0MkOE/src/\u001b[39m\u001b[90m\u001b[4mrequire.jl:25\u001b[24m\u001b[39m\u001b[90m [inlined]\u001b[39m",
            " [5] \u001b[0m\u001b[1mconvert2image\u001b[22m\u001b[0m\u001b[1m(\u001b[22m::\u001b[0mType\u001b[90m{MNIST}\u001b[39m, \u001b[90mx\u001b[39m::\u001b[0mArray\u001b[90m{Float32, 3}\u001b[39m\u001b[0m\u001b[1m)\u001b[22m",
            "\u001b[90m   @\u001b[39m \u001b[35mMLDatasets\u001b[39m \u001b[90m~/.julia/packages/MLDatasets/0MkOE/src/datasets/vision/\u001b[39m\u001b[90m\u001b[4mmnist.jl:144\u001b[24m\u001b[39m",
            " [6] \u001b[0m\u001b[1mconvert2image\u001b[22m\u001b[0m\u001b[1m(\u001b[22m\u001b[90md\u001b[39m::\u001b[0mMNIST, \u001b[90mi\u001b[39m::\u001b[0mVector\u001b[90m{Int64}\u001b[39m\u001b[0m\u001b[1m)\u001b[22m",
            "\u001b[90m   @\u001b[39m \u001b[35mMLDatasets\u001b[39m \u001b[90m~/.julia/packages/MLDatasets/0MkOE/src/\u001b[39m\u001b[90m\u001b[4mutils.jl:106\u001b[24m\u001b[39m",
            " [7] top-level scope",
            "\u001b[90m   @\u001b[39m \u001b[90m\u001b[4mIn[18]:1\u001b[24m\u001b[39m"
          ]
        }
      ]
    },
    {
      "cell_type": "code",
      "source": [
        "\"Digit are $(d.targets[idx])\""
      ],
      "metadata": {
        "id": "wUvOu_Ty14vV",
        "colab": {
          "base_uri": "https://localhost:8080/"
        },
        "outputId": "4caff46e-802f-445f-f258-afeb445b4ed1"
      },
      "id": "wUvOu_Ty14vV",
      "execution_count": 19,
      "outputs": [
        {
          "output_type": "execute_result",
          "data": {
            "text/plain": [
              "\"Digit are [4, 5, 7]\""
            ]
          },
          "metadata": {},
          "execution_count": 19
        }
      ]
    },
    {
      "cell_type": "markdown",
      "id": "5bd6e011-e46d-4f20-9889-f95f8603d3c0",
      "metadata": {
        "id": "5bd6e011-e46d-4f20-9889-f95f8603d3c0"
      },
      "source": [
        "**CNN** ARCHITECTURE"
      ]
    },
    {
      "cell_type": "markdown",
      "id": "7d2909e3-3284-478c-b38b-2983b494b744",
      "metadata": {
        "id": "7d2909e3-3284-478c-b38b-2983b494b744"
      },
      "source": [
        "The input `X` is a batch of images with dimensions `(width=28, height=28, channels=1, batchsize)`"
      ]
    },
    {
      "cell_type": "code",
      "execution_count": 20,
      "id": "2d9eb5fe-1900-4638-be5e-71dccc790c97",
      "metadata": {
        "id": "2d9eb5fe-1900-4638-be5e-71dccc790c97",
        "colab": {
          "base_uri": "https://localhost:8080/"
        },
        "outputId": "188995fa-e5e3-4cec-b712-20f023c7be87"
      },
      "outputs": [
        {
          "output_type": "execute_result",
          "data": {
            "text/plain": [
              "400"
            ]
          },
          "metadata": {},
          "execution_count": 20
        }
      ],
      "source": [
        "fc = prod(Int.(floor.([28/4 - 2, 28/4 - 2, 16]))) # 2^{\\# max-pool}"
      ]
    },
    {
      "cell_type": "code",
      "execution_count": 21,
      "id": "90fe95e6-fba5-409d-888d-c35347e2fb8c",
      "metadata": {
        "id": "90fe95e6-fba5-409d-888d-c35347e2fb8c",
        "colab": {
          "base_uri": "https://localhost:8080/"
        },
        "outputId": "aa93b10b-19d3-4a7f-f1b1-b658458bc4ca"
      },
      "outputs": [
        {
          "output_type": "execute_result",
          "data": {
            "text/plain": [
              "Chain(\n",
              "  Conv((5, 5), 1 => 16, relu),          \u001b[90m# 416 parameters\u001b[39m\n",
              "  MaxPool((2, 2)),\n",
              "  Conv((3, 3), 16 => 16, relu),         \u001b[90m# 2_320 parameters\u001b[39m\n",
              "  MaxPool((2, 2)),\n",
              "  Flux.flatten,\n",
              "  Dense(400 => 64, relu),               \u001b[90m# 25_664 parameters\u001b[39m\n",
              "  Dense(64 => 32, relu),                \u001b[90m# 2_080 parameters\u001b[39m\n",
              "  Dense(32 => 10),                      \u001b[90m# 330 parameters\u001b[39m\n",
              ") \u001b[90m                  # Total: 10 arrays, \u001b[39m30_810 parameters, 1.859 KiB."
            ]
          },
          "metadata": {},
          "execution_count": 21
        }
      ],
      "source": [
        "model = Chain(\n",
        "            Conv((5, 5), 1 => 16, relu),  # (28-5+1)x(28-5+1)x16 = 24x24x16\n",
        "            MaxPool((2, 2)),              # 12x12x16\n",
        "            Conv((3, 3), 16 => 16, relu), # (12-3+1)x(12-3+1)x16 = 10x10x16\n",
        "            MaxPool((2, 2)),              # 5x5x16\n",
        "            Flux.flatten,                 # 400\n",
        "            Dense(fc => 64, relu),\n",
        "            Dense(64 => 32, relu),\n",
        "            Dense(32 => 10)\n",
        ") |> gpu"
      ]
    },
    {
      "cell_type": "code",
      "source": [
        "using ProgressMeter: Progress, next!"
      ],
      "metadata": {
        "id": "tQukOZAi2XOW"
      },
      "id": "tQukOZAi2XOW",
      "execution_count": 22,
      "outputs": []
    },
    {
      "cell_type": "code",
      "execution_count": 23,
      "id": "4b53fe85-24c1-48ba-bf39-a2605dd9f6c5",
      "metadata": {
        "id": "4b53fe85-24c1-48ba-bf39-a2605dd9f6c5",
        "colab": {
          "base_uri": "https://localhost:8080/"
        },
        "outputId": "a8b67941-d0fd-4951-a03c-ea17743d2ec8"
      },
      "outputs": [
        {
          "output_type": "execute_result",
          "data": {
            "text/plain": [
              "train (generic function with 1 method)"
            ]
          },
          "metadata": {},
          "execution_count": 23
        }
      ],
      "source": [
        "function train(; kws...)\n",
        "    args = HyperParams(; kws...)\n",
        "    # Define the loss function\n",
        "    l(α, β) = Flux.logitcrossentropy(α, β)\n",
        "    # Define the accuracy metric\n",
        "    acc(α, β) = mean(onecold(α) .== onecold(β))\n",
        "    # Optimizer\n",
        "    optim_state = Flux.setup(Adam(args.η), model);\n",
        "\n",
        "    vec_loss = []\n",
        "    vec_acc = []\n",
        "\n",
        "    for epoch in 1:args.epochs\n",
        "        printstyled(\"\\t***\\t === EPOCH $(epoch) === \\t*** \\n\", color=:magenta, bold=true)\n",
        "        @info \"TRAINING\"\n",
        "        prg_train = Progress(length(train_loader))\n",
        "        for (X, y) in train_loader\n",
        "            loss, grads = Flux.withgradient(model) do m\n",
        "                ŷ = m(X);\n",
        "                l(ŷ, y);\n",
        "            end\n",
        "            Flux.update!(optim_state, model, grads[1]); # Upd `W` and `b`\n",
        "            # Show progress meter\n",
        "            next!(prg_train, showvalues=[(:loss, loss)])\n",
        "        end\n",
        "        @info \"TESTING\"\n",
        "        prg_test = Progress(length(test_loader))\n",
        "        for (X, y) in test_loader\n",
        "            ŷ = model(X);\n",
        "            push!(vec_loss, l(ŷ, y));  # log `loss` value -> `vec_loss` vector\n",
        "            push!(vec_acc, acc(ŷ, y)); # log `accuracy` value -> `vec_acc` vector\n",
        "          \t# Show progress meter\n",
        "            next!(prg_test, showvalues=[(:loss, vec_loss[end]), (:accuracy, vec_acc[end])])\n",
        "        end\n",
        "    end\n",
        "    return vec_loss, vec_acc\n",
        "end"
      ]
    },
    {
      "cell_type": "code",
      "execution_count": 24,
      "id": "282e88b9-736f-491c-add7-a4dad2b4da7f",
      "metadata": {
        "id": "282e88b9-736f-491c-add7-a4dad2b4da7f",
        "colab": {
          "base_uri": "https://localhost:8080/"
        },
        "collapsed": true,
        "outputId": "49299636-6a4c-41b0-d7e1-48b67013cab2"
      },
      "outputs": [
        {
          "output_type": "stream",
          "name": "stderr",
          "text": [
            "\u001b[33m\u001b[1m┌ \u001b[22m\u001b[39m\u001b[33m\u001b[1mWarning: \u001b[22m\u001b[39mProgressMeter by default refresh meters with additional information in IJulia via `IJulia.clear_output`, which clears all outputs in the cell. \n",
            "\u001b[33m\u001b[1m│ \u001b[22m\u001b[39m - To prevent this behaviour, do `ProgressMeter.ijulia_behavior(:append)`. \n",
            "\u001b[33m\u001b[1m│ \u001b[22m\u001b[39m - To disable this warning message, do `ProgressMeter.ijulia_behavior(:clear)`.\n",
            "\u001b[33m\u001b[1m└ \u001b[22m\u001b[39m\u001b[90m@ ProgressMeter ~/.julia/packages/ProgressMeter/N660J/src/ProgressMeter.jl:607\u001b[39m\n",
            "\r\u001b[32mProgress: 100%|█████████████████████████████████████████| Time: 0:00:00\u001b[39m\r\n",
            "\u001b[34m       loss: 2.2870932\u001b[39m\r\n",
            "\u001b[34m   accuracy: 0.125\u001b[39m\n"
          ]
        },
        {
          "output_type": "execute_result",
          "data": {
            "text/plain": [
              "(Any[2.3016305f0, 2.2977686f0, 2.2997186f0, 2.296072f0, 2.3016214f0, 2.3024366f0, 2.3082395f0, 2.2978535f0, 2.3037832f0, 2.306711f0  …  2.300909f0, 2.3006914f0, 2.3036096f0, 2.3018723f0, 2.2952554f0, 2.2918506f0, 2.3001223f0, 2.2979794f0, 2.2966824f0, 2.2870932f0], Any[0.203125, 0.1875, 0.1875, 0.078125, 0.0625, 0.09375, 0.09375, 0.125, 0.140625, 0.078125  …  0.109375, 0.078125, 0.09375, 0.109375, 0.109375, 0.140625, 0.125, 0.125, 0.171875, 0.125])"
            ]
          },
          "metadata": {},
          "execution_count": 24
        }
      ],
      "source": [
        "vec_loss, vec_acc = train()"
      ]
    },
    {
      "cell_type": "markdown",
      "id": "a1301109-f9ef-4eee-8045-f242783b0bc0",
      "metadata": {
        "id": "a1301109-f9ef-4eee-8045-f242783b0bc0"
      },
      "source": [
        "Plot results"
      ]
    },
    {
      "cell_type": "code",
      "source": [
        "# Load the package\n",
        "using WGLMakie\n",
        "\n",
        "# Create data for sine wave\n",
        "x = range(0, 4π, length=100)\n",
        "y = sin.(x)\n",
        "\n",
        "# Create the plot\n",
        "fig = Figure(size = (800, 400))\n",
        "ax1 = Axis(\n",
        "    fig[1, 1],\n",
        "    xlabel = \"Iteration\",\n",
        "    title = \"Test Loss vs. Iteration\"\n",
        ")\n",
        "ax2 = Axis(\n",
        "    fig[2, 1],\n",
        "    xlabel = \"Iteration\",\n",
        "    title = \"Test Accuracy vs. Iteration\"\n",
        ")\n",
        "\n",
        "# Plot the `vec_loss`\n",
        "lines!(ax1, vec_loss, color = :red, linewidth = 2)\n",
        "\n",
        "# Plot the `acc_loss`\n",
        "lines!(ax2, acc_loss, color = :blue, linewidth = 2)\n",
        "\n",
        "# Display the figure\n",
        "fig"
      ],
      "metadata": {
        "id": "ThgbGFDQqfNN",
        "outputId": "095e5a67-0592-42d5-8d0f-49d773a62182",
        "colab": {
          "base_uri": "https://localhost:8080/",
          "height": 1000
        }
      },
      "id": "ThgbGFDQqfNN",
      "execution_count": 25,
      "outputs": [
        {
          "output_type": "stream",
          "name": "stderr",
          "text": [
            "\u001b[36m\u001b[1m[ \u001b[22m\u001b[39m\u001b[36m\u001b[1mInfo: \u001b[22m\u001b[39mPrecompiling WGLMakie [276b4fcb-3e11-5398-bf8b-a0c2d153d008] (cache misses: wrong dep version loaded (2))\n",
            "\n",
            "[16888] signal 2: Interrupt\n",
            "in expression starting at /root/.julia/packages/WGLMakie/FbMOf/src/WGLMakie.jl:6\n",
            "tname_intersection_dt at /cache/build/tester-amdci5-12/julialang/julia-release-1-dot-11/src/typemap.c:409 [inlined]\n",
            "tname_intersection_dt at /cache/build/tester-amdci5-12/julialang/julia-release-1-dot-11/src/typemap.c:399 [inlined]\n",
            "jl_typemap_intersection_memory_visitor at /cache/build/tester-amdci5-12/julialang/julia-release-1-dot-11/src/typemap.c:492\n",
            "jl_typemap_intersection_visitor at /cache/build/tester-amdci5-12/julialang/julia-release-1-dot-11/src/typemap.c:733\n",
            "jl_typemap_intersection_visitor at /cache/build/tester-amdci5-12/julialang/julia-release-1-dot-11/src/typemap.c:793\n",
            "ml_mtable_visitor at /cache/build/tester-amdci5-12/julialang/julia-release-1-dot-11/src/gf.c:3347 [inlined]\n",
            "ml_matches at /cache/build/tester-amdci5-12/julialang/julia-release-1-dot-11/src/gf.c:3724\n",
            "ml_matches at /cache/build/tester-amdci5-12/julialang/julia-release-1-dot-11/src/gf.c:67 [inlined]\n",
            "cache_method at /cache/build/tester-amdci5-12/julialang/julia-release-1-dot-11/src/gf.c:1334\n",
            "ml_matches at /cache/build/tester-amdci5-12/julialang/julia-release-1-dot-11/src/gf.c:3980\n",
            "ml_matches at /cache/build/tester-amdci5-12/julialang/julia-release-1-dot-11/src/gf.c:3639 [inlined]\n",
            "ijl_matching_methods at /cache/build/tester-amdci5-12/julialang/julia-release-1-dot-11/src/gf.c:2336\n",
            "jl_verify_edges at /cache/build/tester-amdci5-12/julialang/julia-release-1-dot-11/src/staticdata_utils.c:1023 [inlined]\n",
            "jl_insert_backedges at /cache/build/tester-amdci5-12/julialang/julia-release-1-dot-11/src/staticdata_utils.c:1215 [inlined]\n",
            "jl_restore_package_image_from_stream at /cache/build/tester-amdci5-12/julialang/julia-release-1-dot-11/src/staticdata.c:3685\n",
            "jl_restore_incremental_from_buf at /cache/build/tester-amdci5-12/julialang/julia-release-1-dot-11/src/staticdata.c:3725\n",
            "ijl_restore_package_image_from_file at /cache/build/tester-amdci5-12/julialang/julia-release-1-dot-11/src/staticdata.c:3816\n",
            "#_include_from_serialized#1082 at ./loading.jl:1245\n",
            "_include_from_serialized at ./loading.jl:1210 [inlined]\n",
            "_tryrequire_from_serialized at ./loading.jl:1963\n",
            "_require at ./loading.jl:2594\n",
            "__require_prelocked at ./loading.jl:2388\n",
            "jfptr___require_prelocked_71186.1 at /usr/local/lib/julia/sys.so (unknown line)\n",
            "jl_apply at /cache/build/tester-amdci5-12/julialang/julia-release-1-dot-11/src/julia.h:2157 [inlined]\n",
            "jl_f__call_in_world at /cache/build/tester-amdci5-12/julialang/julia-release-1-dot-11/src/builtins.c:894\n",
            "#invoke_in_world#3 at ./essentials.jl:1089 [inlined]\n",
            "invoke_in_world at ./essentials.jl:1086 [inlined]\n",
            "_require_prelocked at ./loading.jl:2375\n",
            "macro expansion at ./loading.jl:2314 [inlined]\n",
            "macro expansion at ./lock.jl:273 [inlined]\n",
            "__require at ./loading.jl:2271\n",
            "jfptr___require_71117.1 at /usr/local/lib/julia/sys.so (unknown line)\n",
            "jl_apply at /cache/build/tester-amdci5-12/julialang/julia-release-1-dot-11/src/julia.h:2157 [inlined]\n",
            "jl_f__call_in_world at /cache/build/tester-amdci5-12/julialang/julia-release-1-dot-11/src/builtins.c:894\n",
            "#invoke_in_world#3 at ./essentials.jl:1089 [inlined]\n",
            "invoke_in_world at ./essentials.jl:1086 [inlined]\n",
            "require at ./loading.jl:2260\n",
            "jfptr_require_71114.1 at /usr/local/lib/julia/sys.so (unknown line)\n",
            "jl_apply at /cache/build/tester-amdci5-12/julialang/julia-release-1-dot-11/src/julia.h:2157 [inlined]\n",
            "call_require at /cache/build/tester-amdci5-12/julialang/julia-release-1-dot-11/src/toplevel.c:486 [inlined]\n",
            "eval_import_path at /cache/build/tester-amdci5-12/julialang/julia-release-1-dot-11/src/toplevel.c:523\n",
            "jl_toplevel_eval_flex at /cache/build/tester-amdci5-12/julialang/julia-release-1-dot-11/src/toplevel.c:759\n",
            "jl_eval_module_expr at /cache/build/tester-amdci5-12/julialang/julia-release-1-dot-11/src/toplevel.c:215 [inlined]\n",
            "jl_toplevel_eval_flex at /cache/build/tester-amdci5-12/julialang/julia-release-1-dot-11/src/toplevel.c:743\n",
            "jl_toplevel_eval_flex at /cache/build/tester-amdci5-12/julialang/julia-release-1-dot-11/src/toplevel.c:886\n",
            "ijl_toplevel_eval_in at /cache/build/tester-amdci5-12/julialang/julia-release-1-dot-11/src/toplevel.c:994\n",
            "eval at ./boot.jl:430 [inlined]\n",
            "include_string at ./loading.jl:2734\n",
            "_include at ./loading.jl:2794\n",
            "include at ./Base.jl:557 [inlined]\n",
            "include_package_for_output at ./loading.jl:2881\n",
            "jfptr_include_package_for_output_72070.1 at /usr/local/lib/julia/sys.so (unknown line)\n",
            "jl_apply at /cache/build/tester-amdci5-12/julialang/julia-release-1-dot-11/src/julia.h:2157 [inlined]\n",
            "do_call at /cache/build/tester-amdci5-12/julialang/julia-release-1-dot-11/src/interpreter.c:126\n",
            "eval_value at /cache/build/tester-amdci5-12/julialang/julia-release-1-dot-11/src/interpreter.c:223\n",
            "eval_stmt_value at /cache/build/tester-amdci5-12/julialang/julia-release-1-dot-11/src/interpreter.c:174 [inlined]\n",
            "eval_body at /cache/build/tester-amdci5-12/julialang/julia-release-1-dot-11/src/interpreter.c:666\n",
            "jl_interpret_toplevel_thunk at /cache/build/tester-amdci5-12/julialang/julia-release-1-dot-11/src/interpreter.c:824\n",
            "jl_toplevel_eval_flex at /cache/build/tester-amdci5-12/julialang/julia-release-1-dot-11/src/toplevel.c:943\n",
            "jl_toplevel_eval_flex at /cache/build/tester-amdci5-12/julialang/julia-release-1-dot-11/src/toplevel.c:886\n",
            "ijl_toplevel_eval_in at /cache/build/tester-amdci5-12/julialang/julia-release-1-dot-11/src/toplevel.c:994\n",
            "eval at ./boot.jl:430 [inlined]\n",
            "include_string at ./loading.jl:2734\n",
            "include_string at ./loading.jl:2744 [inlined]\n",
            "exec_options at ./client.jl:321\n",
            "_start at ./client.jl:531\n",
            "jfptr__start_73430.1 at /usr/local/lib/julia/sys.so (unknown line)\n",
            "jl_apply at /cache/build/tester-amdci5-12/julialang/julia-release-1-dot-11/src/julia.h:2157 [inlined]\n",
            "true_main at /cache/build/tester-amdci5-12/julialang/julia-release-1-dot-11/src/jlapi.c:900\n",
            "jl_repl_entrypoint at /cache/build/tester-amdci5-12/julialang/julia-release-1-dot-11/src/jlapi.c:1059\n",
            "main at /cache/build/tester-amdci5-12/julialang/julia-release-1-dot-11/cli/loader_exe.c:58\n",
            "unknown function (ip: 0x7cc4b1af2d8f)\n",
            "__libc_start_main at /lib/x86_64-linux-gnu/libc.so.6 (unknown line)\n",
            "unknown function (ip: 0x4010b8)\n",
            "unknown function (ip: (nil))\n",
            "Allocations: 3984959 (Pool: 3984492; Big: 467); GC: 8\n"
          ]
        },
        {
          "output_type": "error",
          "ename": "LoadError",
          "evalue": "Failed to precompile WGLMakie [276b4fcb-3e11-5398-bf8b-a0c2d153d008] to \"/root/.julia/compiled/v1.11/WGLMakie/jl_6P8M9L\".",
          "traceback": [
            "Failed to precompile WGLMakie [276b4fcb-3e11-5398-bf8b-a0c2d153d008] to \"/root/.julia/compiled/v1.11/WGLMakie/jl_6P8M9L\".",
            "",
            "Stacktrace:",
            "  [1] \u001b[0m\u001b[1merror\u001b[22m\u001b[0m\u001b[1m(\u001b[22m\u001b[90ms\u001b[39m::\u001b[0mString\u001b[0m\u001b[1m)\u001b[22m",
            "\u001b[90m    @\u001b[39m \u001b[90mBase\u001b[39m \u001b[90m./\u001b[39m\u001b[90m\u001b[4merror.jl:35\u001b[24m\u001b[39m",
            "  [2] \u001b[0m\u001b[1mcompilecache\u001b[22m\u001b[0m\u001b[1m(\u001b[22m\u001b[90mpkg\u001b[39m::\u001b[0mBase.PkgId, \u001b[90mpath\u001b[39m::\u001b[0mString, \u001b[90minternal_stderr\u001b[39m::\u001b[0mIO, \u001b[90minternal_stdout\u001b[39m::\u001b[0mIO, \u001b[90mkeep_loaded_modules\u001b[39m::\u001b[0mBool; \u001b[90mflags\u001b[39m::\u001b[0mCmd, \u001b[90mcacheflags\u001b[39m::\u001b[0mBase.CacheFlags, \u001b[90mreasons\u001b[39m::\u001b[0mDict\u001b[90m{String, Int64}\u001b[39m, \u001b[90mloadable_exts\u001b[39m::\u001b[0mNothing\u001b[0m\u001b[1m)\u001b[22m",
            "\u001b[90m    @\u001b[39m \u001b[90mBase\u001b[39m \u001b[90m./\u001b[39m\u001b[90m\u001b[4mloading.jl:3174\u001b[24m\u001b[39m",
            "  [3] \u001b[0m\u001b[1m(::Base.var\"#1110#1111\"{Base.PkgId})\u001b[22m\u001b[0m\u001b[1m(\u001b[22m\u001b[0m\u001b[1m)\u001b[22m",
            "\u001b[90m    @\u001b[39m \u001b[90mBase\u001b[39m \u001b[90m./\u001b[39m\u001b[90m\u001b[4mloading.jl:2579\u001b[24m\u001b[39m",
            "  [4] \u001b[0m\u001b[1mmkpidlock\u001b[22m\u001b[0m\u001b[1m(\u001b[22m\u001b[90mf\u001b[39m::\u001b[0mBase.var\"#1110#1111\"\u001b[90m{Base.PkgId}\u001b[39m, \u001b[90mat\u001b[39m::\u001b[0mString, \u001b[90mpid\u001b[39m::\u001b[0mInt32; \u001b[90mkwopts\u001b[39m::\u001b[0m@Kwargs\u001b[90m{stale_age::Int64, wait::Bool}\u001b[39m\u001b[0m\u001b[1m)\u001b[22m",
            "\u001b[90m    @\u001b[39m \u001b[36mFileWatching.Pidfile\u001b[39m \u001b[90m/usr/local/share/julia/stdlib/v1.11/FileWatching/src/\u001b[39m\u001b[90m\u001b[4mpidfile.jl:95\u001b[24m\u001b[39m",
            "  [5] \u001b[0m\u001b[1m#mkpidlock#6\u001b[22m",
            "\u001b[90m    @\u001b[39m \u001b[90m/usr/local/share/julia/stdlib/v1.11/FileWatching/src/\u001b[39m\u001b[90m\u001b[4mpidfile.jl:90\u001b[24m\u001b[39m\u001b[90m [inlined]\u001b[39m",
            "  [6] \u001b[0m\u001b[1mtrymkpidlock\u001b[22m\u001b[0m\u001b[1m(\u001b[22m::\u001b[0mFunction, ::\u001b[0mVararg\u001b[90m{Any}\u001b[39m; \u001b[90mkwargs\u001b[39m::\u001b[0m@Kwargs\u001b[90m{stale_age::Int64}\u001b[39m\u001b[0m\u001b[1m)\u001b[22m",
            "\u001b[90m    @\u001b[39m \u001b[36mFileWatching.Pidfile\u001b[39m \u001b[90m/usr/local/share/julia/stdlib/v1.11/FileWatching/src/\u001b[39m\u001b[90m\u001b[4mpidfile.jl:116\u001b[24m\u001b[39m",
            "  [7] \u001b[0m\u001b[1m#invokelatest#2\u001b[22m",
            "\u001b[90m    @\u001b[39m \u001b[90m./\u001b[39m\u001b[90m\u001b[4messentials.jl:1057\u001b[24m\u001b[39m\u001b[90m [inlined]\u001b[39m",
            "  [8] \u001b[0m\u001b[1minvokelatest\u001b[22m",
            "\u001b[90m    @\u001b[39m \u001b[90m./\u001b[39m\u001b[90m\u001b[4messentials.jl:1052\u001b[24m\u001b[39m\u001b[90m [inlined]\u001b[39m",
            "  [9] \u001b[0m\u001b[1mmaybe_cachefile_lock\u001b[22m\u001b[0m\u001b[1m(\u001b[22m\u001b[90mf\u001b[39m::\u001b[0mBase.var\"#1110#1111\"\u001b[90m{Base.PkgId}\u001b[39m, \u001b[90mpkg\u001b[39m::\u001b[0mBase.PkgId, \u001b[90msrcpath\u001b[39m::\u001b[0mString; \u001b[90mstale_age\u001b[39m::\u001b[0mInt64\u001b[0m\u001b[1m)\u001b[22m",
            "\u001b[90m    @\u001b[39m \u001b[90mBase\u001b[39m \u001b[90m./\u001b[39m\u001b[90m\u001b[4mloading.jl:3698\u001b[24m\u001b[39m",
            " [10] \u001b[0m\u001b[1mmaybe_cachefile_lock\u001b[22m",
            "\u001b[90m    @\u001b[39m \u001b[90m./\u001b[39m\u001b[90m\u001b[4mloading.jl:3695\u001b[24m\u001b[39m\u001b[90m [inlined]\u001b[39m",
            " [11] \u001b[0m\u001b[1m_require\u001b[22m\u001b[0m\u001b[1m(\u001b[22m\u001b[90mpkg\u001b[39m::\u001b[0mBase.PkgId, \u001b[90menv\u001b[39m::\u001b[0mString\u001b[0m\u001b[1m)\u001b[22m",
            "\u001b[90m    @\u001b[39m \u001b[90mBase\u001b[39m \u001b[90m./\u001b[39m\u001b[90m\u001b[4mloading.jl:2565\u001b[24m\u001b[39m",
            " [12] \u001b[0m\u001b[1m__require_prelocked\u001b[22m\u001b[0m\u001b[1m(\u001b[22m\u001b[90muuidkey\u001b[39m::\u001b[0mBase.PkgId, \u001b[90menv\u001b[39m::\u001b[0mString\u001b[0m\u001b[1m)\u001b[22m",
            "\u001b[90m    @\u001b[39m \u001b[90mBase\u001b[39m \u001b[90m./\u001b[39m\u001b[90m\u001b[4mloading.jl:2388\u001b[24m\u001b[39m",
            " [13] \u001b[0m\u001b[1m#invoke_in_world#3\u001b[22m",
            "\u001b[90m    @\u001b[39m \u001b[90m./\u001b[39m\u001b[90m\u001b[4messentials.jl:1089\u001b[24m\u001b[39m\u001b[90m [inlined]\u001b[39m",
            " [14] \u001b[0m\u001b[1minvoke_in_world\u001b[22m",
            "\u001b[90m    @\u001b[39m \u001b[90m./\u001b[39m\u001b[90m\u001b[4messentials.jl:1086\u001b[24m\u001b[39m\u001b[90m [inlined]\u001b[39m",
            " [15] \u001b[0m\u001b[1m_require_prelocked\u001b[22m\u001b[0m\u001b[1m(\u001b[22m\u001b[90muuidkey\u001b[39m::\u001b[0mBase.PkgId, \u001b[90menv\u001b[39m::\u001b[0mString\u001b[0m\u001b[1m)\u001b[22m",
            "\u001b[90m    @\u001b[39m \u001b[90mBase\u001b[39m \u001b[90m./\u001b[39m\u001b[90m\u001b[4mloading.jl:2375\u001b[24m\u001b[39m",
            " [16] \u001b[0m\u001b[1mmacro expansion\u001b[22m",
            "\u001b[90m    @\u001b[39m \u001b[90m./\u001b[39m\u001b[90m\u001b[4mloading.jl:2314\u001b[24m\u001b[39m\u001b[90m [inlined]\u001b[39m",
            " [17] \u001b[0m\u001b[1mmacro expansion\u001b[22m",
            "\u001b[90m    @\u001b[39m \u001b[90m./\u001b[39m\u001b[90m\u001b[4mlock.jl:273\u001b[24m\u001b[39m\u001b[90m [inlined]\u001b[39m",
            " [18] \u001b[0m\u001b[1m__require\u001b[22m\u001b[0m\u001b[1m(\u001b[22m\u001b[90minto\u001b[39m::\u001b[0mModule, \u001b[90mmod\u001b[39m::\u001b[0mSymbol\u001b[0m\u001b[1m)\u001b[22m",
            "\u001b[90m    @\u001b[39m \u001b[90mBase\u001b[39m \u001b[90m./\u001b[39m\u001b[90m\u001b[4mloading.jl:2271\u001b[24m\u001b[39m",
            " [19] \u001b[0m\u001b[1m#invoke_in_world#3\u001b[22m",
            "\u001b[90m    @\u001b[39m \u001b[90m./\u001b[39m\u001b[90m\u001b[4messentials.jl:1089\u001b[24m\u001b[39m\u001b[90m [inlined]\u001b[39m",
            " [20] \u001b[0m\u001b[1minvoke_in_world\u001b[22m",
            "\u001b[90m    @\u001b[39m \u001b[90m./\u001b[39m\u001b[90m\u001b[4messentials.jl:1086\u001b[24m\u001b[39m\u001b[90m [inlined]\u001b[39m",
            " [21] \u001b[0m\u001b[1mrequire\u001b[22m\u001b[0m\u001b[1m(\u001b[22m\u001b[90minto\u001b[39m::\u001b[0mModule, \u001b[90mmod\u001b[39m::\u001b[0mSymbol\u001b[0m\u001b[1m)\u001b[22m",
            "\u001b[90m    @\u001b[39m \u001b[90mBase\u001b[39m \u001b[90m./\u001b[39m\u001b[90m\u001b[4mloading.jl:2260\u001b[24m\u001b[39m"
          ]
        }
      ]
    },
    {
      "cell_type": "markdown",
      "id": "8e0e8b75-a9a4-40f8-8c65-52da41b27d76",
      "metadata": {
        "id": "8e0e8b75-a9a4-40f8-8c65-52da41b27d76"
      },
      "source": [
        "Let's make some predictions"
      ]
    },
    {
      "cell_type": "code",
      "execution_count": 26,
      "id": "7f0dd9ff-8208-4ef8-85a7-5eb06e605936",
      "metadata": {
        "id": "7f0dd9ff-8208-4ef8-85a7-5eb06e605936",
        "colab": {
          "base_uri": "https://localhost:8080/",
          "height": 263
        },
        "outputId": "1ae2bb19-20ef-4b31-a874-887c2e791daa"
      },
      "outputs": [
        {
          "output_type": "error",
          "ename": "LoadError",
          "evalue": "type DeviceIterator has no field data",
          "traceback": [
            "type DeviceIterator has no field data",
            "",
            "Stacktrace:",
            " [1] \u001b[0m\u001b[1mgetproperty\u001b[22m\u001b[0m\u001b[1m(\u001b[22m\u001b[90mx\u001b[39m::\u001b[0mDeviceIterator\u001b[90m{CUDADevice{Nothing, Missing}, DataLoader{MLUtils.BatchView{Tuple{Array{Float32, 4}, OneHotArrays.OneHotMatrix{UInt32, Vector{UInt32}}}, MLUtils.ObsView{Tuple{Array{Float32, 4}, OneHotArrays.OneHotMatrix{UInt32, Vector{UInt32}}}, Vector{Int64}}, Val{nothing}}, Bool, :serial, Val{nothing}, Tuple{Array{Float32, 4}, OneHotArrays.OneHotMatrix{UInt32, Vector{UInt32}}}, Random.TaskLocalRNG}}\u001b[39m, \u001b[90mf\u001b[39m::\u001b[0mSymbol\u001b[0m\u001b[1m)\u001b[22m",
            "\u001b[90m   @\u001b[39m \u001b[90mBase\u001b[39m \u001b[90m./\u001b[39m\u001b[90m\u001b[4mBase.jl:49\u001b[24m\u001b[39m",
            " [2] top-level scope",
            "\u001b[90m   @\u001b[39m \u001b[90m\u001b[4mIn[26]:2\u001b[24m\u001b[39m"
          ]
        }
      ],
      "source": [
        "idx = rand(1:1000, 16)\n",
        "xs = test_loader.data[idx][1]\n",
        "yp = xs |> model |> softmax |> out -> onecold(out, 0:9) |> cpu\n",
        "ys = onecold(test_loader.data[idx][2]) .- 1 |> cpu;"
      ]
    },
    {
      "cell_type": "code",
      "execution_count": 27,
      "id": "a88ae6ce-5b7e-41b5-bffb-edaef4a31c70",
      "metadata": {
        "id": "a88ae6ce-5b7e-41b5-bffb-edaef4a31c70",
        "colab": {
          "base_uri": "https://localhost:8080/",
          "height": 141
        },
        "outputId": "7d8b0b7d-159e-47a3-c8d8-77b05027bde9"
      },
      "outputs": [
        {
          "output_type": "error",
          "ename": "LoadError",
          "evalue": "UndefVarError: `yp` not defined in `Main`\nSuggestion: check for spelling errors or missing imports.",
          "traceback": [
            "UndefVarError: `yp` not defined in `Main`\nSuggestion: check for spelling errors or missing imports.",
            "",
            "Stacktrace:",
            " [1] top-level scope",
            "\u001b[90m   @\u001b[39m \u001b[90m./\u001b[39m\u001b[90m\u001b[4mIn[27]:1\u001b[24m\u001b[39m"
          ]
        }
      ],
      "source": [
        "for i ∈ eachindex(yp)\n",
        "    @info \"**Prediction is $(yp[i]). Label is $(ys[i]).**\"\n",
        "end"
      ]
    },
    {
      "cell_type": "markdown",
      "id": "4d7ab869-3978-45a3-b6f5-4b30b1a9cac7",
      "metadata": {
        "id": "4d7ab869-3978-45a3-b6f5-4b30b1a9cac7"
      },
      "source": [
        "Save and load the model"
      ]
    },
    {
      "cell_type": "code",
      "source": [
        "folder = \"models\"\n",
        "isdir(folder) || mkdir(folder)"
      ],
      "metadata": {
        "colab": {
          "base_uri": "https://localhost:8080/"
        },
        "id": "7OU79FCXRZp6",
        "outputId": "ace80e81-8fdf-4108-94c8-ddcd4b48a1c5"
      },
      "id": "7OU79FCXRZp6",
      "execution_count": 28,
      "outputs": [
        {
          "output_type": "execute_result",
          "data": {
            "text/plain": [
              "true"
            ]
          },
          "metadata": {},
          "execution_count": 28
        }
      ]
    },
    {
      "cell_type": "code",
      "source": [
        "#=\n",
        "using JLD2\n",
        "\n",
        "filename_1 = joinpath(folder, \"cnn.jld2\")\n",
        "JLD2.jldsave(filename; cnn_state = Flux.state(model) |> cpu)\n",
        "Flux.loadmodel!(mdl_1, cnn_state)\n",
        "=#"
      ],
      "metadata": {
        "id": "yBi6lEQNROLc"
      },
      "id": "yBi6lEQNROLc",
      "execution_count": 29,
      "outputs": []
    },
    {
      "cell_type": "code",
      "execution_count": 30,
      "id": "982f8b09-9303-4478-980f-83baf7ed68e2",
      "metadata": {
        "id": "982f8b09-9303-4478-980f-83baf7ed68e2"
      },
      "outputs": [],
      "source": [
        "#=\n",
        "using BSON: @save, @load\n",
        "\n",
        "filename_2 = joinpath(folder, \"cnn.bson\")\n",
        "@save filename_2 model\n",
        "@load\n",
        "=#"
      ]
    }
  ],
  "metadata": {
    "kernelspec": {
      "display_name": "Julia",
      "name": "julia"
    },
    "language_info": {
      "name": "julia"
    },
    "colab": {
      "provenance": [],
      "gpuType": "T4",
      "include_colab_link": true
    },
    "accelerator": "GPU"
  },
  "nbformat": 4,
  "nbformat_minor": 5
}