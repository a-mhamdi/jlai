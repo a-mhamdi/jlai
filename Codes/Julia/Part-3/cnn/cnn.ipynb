{
  "cells": [
    {
      "cell_type": "markdown",
      "metadata": {
        "id": "view-in-github",
        "colab_type": "text"
      },
      "source": [
        "<a href=\"https://colab.research.google.com/github/a-mhamdi/jlai/blob/main/Codes/Julia/Part-3/cnn/cnn.ipynb\" target=\"_parent\"><img src=\"https://colab.research.google.com/assets/colab-badge.svg\" alt=\"Open In Colab\"/></a>"
      ]
    },
    {
      "cell_type": "markdown",
      "id": "5db8d32e-66e3-4e8d-9bde-d8314fe891f8",
      "metadata": {
        "id": "5db8d32e-66e3-4e8d-9bde-d8314fe891f8"
      },
      "source": [
        "# HANDWRITTEN DIGITS RECOGNITION USING CNN\n",
        "---"
      ]
    },
    {
      "cell_type": "markdown",
      "id": "ee62e05e-ef9e-4423-87dc-9f45e666877d",
      "metadata": {
        "id": "ee62e05e-ef9e-4423-87dc-9f45e666877d"
      },
      "source": [
        "Handwritten digits classification using **CNN**. This solution is implemented in `Julia` using the `Flux.jl` library along `CUDA.jl` for GPU computing support."
      ]
    },
    {
      "cell_type": "code",
      "execution_count": null,
      "id": "5b2929ed-640f-4681-b7cd-bd5540758737",
      "metadata": {
        "id": "5b2929ed-640f-4681-b7cd-bd5540758737"
      },
      "outputs": [],
      "source": [
        "versioninfo()"
      ]
    },
    {
      "cell_type": "code",
      "source": [
        "# ;wget -O Project.toml https://raw.githubusercontent.com/a-mhamdi/jlai/refs/heads/main/Codes/Julia/Part-3/cnn/Project.toml"
      ],
      "metadata": {
        "id": "sArmsQK9fkFs"
      },
      "id": "sArmsQK9fkFs",
      "execution_count": null,
      "outputs": []
    },
    {
      "cell_type": "code",
      "source": [
        "# ;sed -i -e '/^Pl[uo]/d' -e '/^Image/d' Project.toml"
      ],
      "metadata": {
        "id": "56oZPpvYyzjT"
      },
      "id": "56oZPpvYyzjT",
      "execution_count": null,
      "outputs": []
    },
    {
      "cell_type": "code",
      "source": [
        "pkgs = \"\"\" \\\n",
        "[deps]\n",
        "BSON = \"fbb218c0-5317-5bc6-957e-2ee96dd4b1f0\"\n",
        "CUDA = \"052768ef-5323-5732-b1bb-66c8b64840ba\"\n",
        "Flux = \"587475ba-b771-5e3f-ad9e-33799f191a9c\"\n",
        "ImageInTerminal = \"d8c32880-2388-543b-8c61-d9f865259254\"\n",
        "JLD2 = \"033835bb-8acc-5ee8-8aae-3f567f8a3819\"\n",
        "MLDatasets = \"eb30cadb-4394-5ae3-aed4-317e484a6458\"\n",
        "Markdown = \"d6f4376e-aef5-505a-96c1-9c027394607a\"\n",
        "ProgressMeter = \"92933f4c-e287-5a05-a399-4b506db050ca\"\n",
        "Statistics = \"10745b16-79ce-11e8-11f9-7d13ad32a3b2\"\n",
        "WGLMakie = \"276b4fcb-3e11-5398-bf8b-a0c2d153d008\"\n",
        "cuDNN = \"02a925ec-e4fe-4b08-9a7e-0d78e3d38ccd\"\n",
        "\"\"\"\n",
        "\n",
        "open(\"Project.toml\", \"w\") do file\n",
        "    write(file, pkgs)\n",
        "end"
      ],
      "metadata": {
        "id": "Fud7cTtFRJkl"
      },
      "execution_count": null,
      "outputs": [],
      "id": "Fud7cTtFRJkl"
    },
    {
      "cell_type": "code",
      "source": [
        "import Pkg; Pkg.activate(\".\"); Pkg.instantiate(); Pkg.update(); Pkg.precompile(); Pkg.resolve(); Pkg.status()"
      ],
      "metadata": {
        "id": "Q_lHYKpafw5C",
        "collapsed": true
      },
      "id": "Q_lHYKpafw5C",
      "execution_count": null,
      "outputs": []
    },
    {
      "cell_type": "code",
      "source": [
        "Pkg.precompile(); Pkg.resolve()"
      ],
      "metadata": {
        "id": "x1AvTnQxrFMF"
      },
      "id": "x1AvTnQxrFMF",
      "execution_count": null,
      "outputs": []
    },
    {
      "cell_type": "markdown",
      "id": "9aa09ef6-ef2c-4251-ac69-9b29e84e3005",
      "metadata": {
        "id": "9aa09ef6-ef2c-4251-ac69-9b29e84e3005"
      },
      "source": [
        "Import the machine learning library `Flux`"
      ]
    },
    {
      "cell_type": "code",
      "execution_count": null,
      "id": "70892ade-17e9-4da5-95e9-4d3b169fa5f3",
      "metadata": {
        "id": "70892ade-17e9-4da5-95e9-4d3b169fa5f3"
      },
      "outputs": [],
      "source": [
        "using Flux\n",
        "using Flux: DataLoader\n",
        "using Flux: onecold, onehotbatch"
      ]
    },
    {
      "cell_type": "code",
      "source": [
        "using CUDA\n",
        "CUDA.versioninfo()"
      ],
      "metadata": {
        "id": "W-jcDC6Dne3L"
      },
      "id": "W-jcDC6Dne3L",
      "execution_count": null,
      "outputs": []
    },
    {
      "cell_type": "code",
      "execution_count": null,
      "id": "9da5166c-b178-49e1-81c4-3f47cc0a2046",
      "metadata": {
        "id": "9da5166c-b178-49e1-81c4-3f47cc0a2046"
      },
      "outputs": [],
      "source": [
        "Base.@kwdef mutable struct HyperParams\n",
        "    η = 3f-3                # Learning rate\n",
        "    batchsize = 64          # Batch size\n",
        "    epochs = 8              # Number of epochs\n",
        "    split = :train          # Split data into `train` and `test`\n",
        "end"
      ]
    },
    {
      "cell_type": "markdown",
      "id": "70c04da4-1d18-442f-b6bc-cb774d4bbae3",
      "metadata": {
        "id": "70c04da4-1d18-442f-b6bc-cb774d4bbae3"
      },
      "source": [
        "Load the **MNIST** dataset"
      ]
    },
    {
      "cell_type": "code",
      "execution_count": null,
      "id": "5786c3d6-a334-4561-b177-20929cd86c3f",
      "metadata": {
        "id": "5786c3d6-a334-4561-b177-20929cd86c3f"
      },
      "outputs": [],
      "source": [
        "using MLDatasets"
      ]
    },
    {
      "cell_type": "code",
      "source": [
        "d = MNIST()"
      ],
      "metadata": {
        "id": "URiPgKtK2I9d"
      },
      "id": "URiPgKtK2I9d",
      "execution_count": null,
      "outputs": []
    },
    {
      "cell_type": "code",
      "execution_count": null,
      "id": "5e565f6a-0320-40c1-a84c-b08278fd9aca",
      "metadata": {
        "id": "5e565f6a-0320-40c1-a84c-b08278fd9aca"
      },
      "outputs": [],
      "source": [
        "function get_data(; kws...)\n",
        "    args = HyperParams(; kws...);\n",
        "    # Split and normalize data\n",
        "    data = MNIST(split=args.split);\n",
        "    X, y = data.features ./ 255, data.targets;\n",
        "    X = reshape(X, (28, 28, 1, :));\n",
        "    y = onehotbatch(y, 0:9);\n",
        "    loader = DataLoader((X, y); batchsize=args.batchsize, shuffle=true) |> gpu;\n",
        "    return loader\n",
        "end"
      ]
    },
    {
      "cell_type": "code",
      "execution_count": null,
      "id": "a560e2a1-d919-44c4-b56c-e4fc972b1660",
      "metadata": {
        "id": "a560e2a1-d919-44c4-b56c-e4fc972b1660"
      },
      "outputs": [],
      "source": [
        "train_loader = get_data();\n",
        "test_loader = get_data(split=:test);"
      ]
    },
    {
      "cell_type": "code",
      "source": [
        "x1, y1 = first(get_data());\n",
        "# CPU => Array...\n",
        "# GPU => CuArray...\n",
        "typeof((x1, y1))"
      ],
      "metadata": {
        "id": "TwBNIUdTO6M_"
      },
      "id": "TwBNIUdTO6M_",
      "execution_count": null,
      "outputs": []
    },
    {
      "cell_type": "markdown",
      "id": "cf4b49dc-286e-4a5a-9573-add0f6c26599",
      "metadata": {
        "id": "cf4b49dc-286e-4a5a-9573-add0f6c26599"
      },
      "source": [
        "Transform sample training data to an image. View the image and check the corresponding digit value."
      ]
    },
    {
      "cell_type": "code",
      "source": [
        "using Statistics"
      ],
      "metadata": {
        "id": "Db1mArOv1prr"
      },
      "id": "Db1mArOv1prr",
      "execution_count": null,
      "outputs": []
    },
    {
      "cell_type": "code",
      "source": [
        "idx = rand(1:6_000, 3)"
      ],
      "metadata": {
        "id": "d4pYvrke1tO_"
      },
      "id": "d4pYvrke1tO_",
      "execution_count": null,
      "outputs": []
    },
    {
      "cell_type": "code",
      "source": [
        "using ImageInTerminal"
      ],
      "metadata": {
        "id": "EY62yRYsCg0D"
      },
      "id": "EY62yRYsCg0D",
      "execution_count": null,
      "outputs": []
    },
    {
      "cell_type": "code",
      "source": [
        "convert2image(d, idx)"
      ],
      "metadata": {
        "id": "UoRiMci_1ybl"
      },
      "id": "UoRiMci_1ybl",
      "execution_count": null,
      "outputs": []
    },
    {
      "cell_type": "code",
      "source": [
        "\"Digit are $(d.targets[idx])\""
      ],
      "metadata": {
        "id": "wUvOu_Ty14vV"
      },
      "id": "wUvOu_Ty14vV",
      "execution_count": null,
      "outputs": []
    },
    {
      "cell_type": "markdown",
      "id": "5bd6e011-e46d-4f20-9889-f95f8603d3c0",
      "metadata": {
        "id": "5bd6e011-e46d-4f20-9889-f95f8603d3c0"
      },
      "source": [
        "**CNN** ARCHITECTURE"
      ]
    },
    {
      "cell_type": "markdown",
      "id": "7d2909e3-3284-478c-b38b-2983b494b744",
      "metadata": {
        "id": "7d2909e3-3284-478c-b38b-2983b494b744"
      },
      "source": [
        "The input `X` is a batch of images with dimensions `(width=28, height=28, channels=1, batchsize)`"
      ]
    },
    {
      "cell_type": "code",
      "execution_count": null,
      "id": "2d9eb5fe-1900-4638-be5e-71dccc790c97",
      "metadata": {
        "id": "2d9eb5fe-1900-4638-be5e-71dccc790c97"
      },
      "outputs": [],
      "source": [
        "fc = prod(Int.(floor.([28/4 - 2, 28/4 - 2, 16]))) # 2^{\\# max-pool}"
      ]
    },
    {
      "cell_type": "code",
      "execution_count": null,
      "id": "90fe95e6-fba5-409d-888d-c35347e2fb8c",
      "metadata": {
        "id": "90fe95e6-fba5-409d-888d-c35347e2fb8c"
      },
      "outputs": [],
      "source": [
        "model = Chain(\n",
        "            Conv((5, 5), 1 => 16, relu),  # (28-5+1)x(28-5+1)x16 = 24x24x16\n",
        "            MaxPool((2, 2)),              # 12x12x16\n",
        "            Conv((3, 3), 16 => 16, relu), # (12-3+1)x(12-3+1)x16 = 10x10x16\n",
        "            MaxPool((2, 2)),              # 5x5x16\n",
        "            Flux.flatten,                 # 400\n",
        "            Dense(fc => 64, relu),\n",
        "            Dense(64 => 32, relu),\n",
        "            Dense(32 => 10)\n",
        ") |> gpu"
      ]
    },
    {
      "cell_type": "code",
      "source": [
        "using ProgressMeter: Progress, next!"
      ],
      "metadata": {
        "id": "tQukOZAi2XOW"
      },
      "id": "tQukOZAi2XOW",
      "execution_count": null,
      "outputs": []
    },
    {
      "cell_type": "code",
      "execution_count": null,
      "id": "4b53fe85-24c1-48ba-bf39-a2605dd9f6c5",
      "metadata": {
        "id": "4b53fe85-24c1-48ba-bf39-a2605dd9f6c5"
      },
      "outputs": [],
      "source": [
        "function train(; kws...)\n",
        "    args = HyperParams(; kws...)\n",
        "    # Define the loss function\n",
        "    l(α, β) = Flux.logitcrossentropy(α, β)\n",
        "    # Define the accuracy metric\n",
        "    acc(α, β) = mean(onecold(α) .== onecold(β))\n",
        "    # Optimizer\n",
        "    optim_state = Flux.setup(Adam(args.η), model);\n",
        "\n",
        "    vec_loss = []\n",
        "    vec_acc = []\n",
        "\n",
        "    for epoch in 1:args.epochs\n",
        "        printstyled(\"\\t***\\t === EPOCH $(epoch) === \\t*** \\n\", color=:magenta, bold=true)\n",
        "        @info \"TRAINING\"\n",
        "        prg_train = Progress(length(train_loader))\n",
        "        for (X, y) in train_loader\n",
        "            loss, grads = Flux.withgradient(model) do m\n",
        "                ŷ = m(X);\n",
        "                l(ŷ, y);\n",
        "            end\n",
        "            Flux.update!(optim_state, model, grads[1]); # Upd `W` and `b`\n",
        "            # Show progress meter\n",
        "            next!(prg_train, showvalues=[(:loss, loss)])\n",
        "        end\n",
        "        @info \"TESTING\"\n",
        "        prg_test = Progress(length(test_loader))\n",
        "        for (X, y) in test_loader\n",
        "            ŷ = model(X);\n",
        "            push!(vec_loss, l(ŷ, y));  # log `loss` value -> `vec_loss` vector\n",
        "            push!(vec_acc, acc(ŷ, y)); # log `accuracy` value -> `vec_acc` vector\n",
        "          \t# Show progress meter\n",
        "            next!(prg_test, showvalues=[(:loss, vec_loss[end]), (:accuracy, vec_acc[end])])\n",
        "        end\n",
        "    end\n",
        "    return vec_loss, vec_acc\n",
        "end"
      ]
    },
    {
      "cell_type": "code",
      "execution_count": null,
      "id": "282e88b9-736f-491c-add7-a4dad2b4da7f",
      "metadata": {
        "id": "282e88b9-736f-491c-add7-a4dad2b4da7f",
        "collapsed": true
      },
      "outputs": [],
      "source": [
        "vec_loss, vec_acc = train()"
      ]
    },
    {
      "cell_type": "markdown",
      "id": "a1301109-f9ef-4eee-8045-f242783b0bc0",
      "metadata": {
        "id": "a1301109-f9ef-4eee-8045-f242783b0bc0"
      },
      "source": [
        "Plot results"
      ]
    },
    {
      "cell_type": "code",
      "source": [
        "# Load the package\n",
        "using WGLMakie\n",
        "\n",
        "# Create the plot\n",
        "fig = Figure(size = (800, 400))\n",
        "ax1 = Axis(\n",
        "    fig[1, 1],\n",
        "    xlabel = \"Iteration\",\n",
        "    title = \"Test Loss vs. Iteration\"\n",
        ")\n",
        "ax2 = Axis(\n",
        "    fig[2, 1],\n",
        "    xlabel = \"Iteration\",\n",
        "    title = \"Test Accuracy vs. Iteration\"\n",
        ")\n",
        "\n",
        "# Plot the `vec_loss`\n",
        "lines!(ax1, vec_loss, color = :red, linewidth = 2)\n",
        "\n",
        "# Plot the `acc_loss`\n",
        "lines!(ax2, acc_loss, color = :blue, linewidth = 2)\n",
        "\n",
        "# Display the figure\n",
        "fig"
      ],
      "metadata": {
        "id": "ThgbGFDQqfNN"
      },
      "id": "ThgbGFDQqfNN",
      "execution_count": null,
      "outputs": []
    },
    {
      "cell_type": "code",
      "execution_count": null,
      "id": "7f0dd9ff-8208-4ef8-85a7-5eb06e605936",
      "metadata": {
        "id": "7f0dd9ff-8208-4ef8-85a7-5eb06e605936"
      },
      "outputs": [],
      "source": [
        "#=\n",
        "idx = rand(1:1000, 16)\n",
        "xs = test_loader.DataLoader[idx][1]\n",
        "yp = xs |> model |> softmax |> out -> onecold(out, 0:9) |> cpu\n",
        "ys = onecold(test_loader.data[idx][2]) .- 1 |> cpu;\n",
        "=#"
      ]
    },
    {
      "cell_type": "code",
      "execution_count": null,
      "id": "a88ae6ce-5b7e-41b5-bffb-edaef4a31c70",
      "metadata": {
        "id": "a88ae6ce-5b7e-41b5-bffb-edaef4a31c70"
      },
      "outputs": [],
      "source": [
        "#=\n",
        "for i ∈ eachindex(yp)\n",
        "    @info \"**Prediction is $(yp[i]). Label is $(ys[i]).**\"\n",
        "end\n",
        "=#"
      ]
    },
    {
      "cell_type": "markdown",
      "id": "4d7ab869-3978-45a3-b6f5-4b30b1a9cac7",
      "metadata": {
        "id": "4d7ab869-3978-45a3-b6f5-4b30b1a9cac7"
      },
      "source": [
        "Save and load the model"
      ]
    },
    {
      "cell_type": "code",
      "source": [
        "folder = \"models\"\n",
        "isdir(folder) || mkdir(folder)"
      ],
      "metadata": {
        "id": "7OU79FCXRZp6"
      },
      "id": "7OU79FCXRZp6",
      "execution_count": null,
      "outputs": []
    },
    {
      "cell_type": "code",
      "source": [
        "using JLD2\n",
        "\n",
        "filename_1 = joinpath(folder, \"cnn.jld2\")\n",
        "JLD2.jldsave(filename_1; cnn_state = Flux.state(model) |> cpu)\n",
        "cnn_state = JLD2.load(filename_1, \"cnn_state\")"
      ],
      "metadata": {
        "id": "yBi6lEQNROLc"
      },
      "id": "yBi6lEQNROLc",
      "execution_count": null,
      "outputs": []
    },
    {
      "cell_type": "code",
      "execution_count": null,
      "id": "982f8b09-9303-4478-980f-83baf7ed68e2",
      "metadata": {
        "id": "982f8b09-9303-4478-980f-83baf7ed68e2"
      },
      "outputs": [],
      "source": [
        "using BSON: @save, @load\n",
        "\n",
        "filename_2 = joinpath(folder, \"cnn.bson\")\n",
        "@save filename_2 model\n",
        "@load filename_2 model"
      ]
    }
  ],
  "metadata": {
    "kernelspec": {
      "display_name": "Julia",
      "name": "julia"
    },
    "language_info": {
      "name": "julia"
    },
    "colab": {
      "provenance": [],
      "gpuType": "T4",
      "include_colab_link": true
    },
    "accelerator": "GPU"
  },
  "nbformat": 4,
  "nbformat_minor": 5
}