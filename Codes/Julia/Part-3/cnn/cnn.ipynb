{
  "cells": [
    {
      "cell_type": "markdown",
      "metadata": {
        "id": "view-in-github",
        "colab_type": "text"
      },
      "source": [
        "<a href=\"https://colab.research.google.com/github/a-mhamdi/jlai/blob/main/Codes/Julia/Part-3/cnn/cnn.ipynb\" target=\"_parent\"><img src=\"https://colab.research.google.com/assets/colab-badge.svg\" alt=\"Open In Colab\"/></a>"
      ]
    },
    {
      "cell_type": "markdown",
      "id": "5db8d32e-66e3-4e8d-9bde-d8314fe891f8",
      "metadata": {
        "id": "5db8d32e-66e3-4e8d-9bde-d8314fe891f8"
      },
      "source": [
        "# HANDWRITTEN DIGITS RECOGNITION USING CNN\n",
        "---"
      ]
    },
    {
      "cell_type": "markdown",
      "id": "ee62e05e-ef9e-4423-87dc-9f45e666877d",
      "metadata": {
        "id": "ee62e05e-ef9e-4423-87dc-9f45e666877d"
      },
      "source": [
        "This notebook demonstrates handwritten digit classification using a **Convolutional Neural Network** (**CNN**). The implementation utilizes the `Flux.jl` library in Julia, with `CUDA.jl` for **GPU** acceleration."
      ]
    },
    {
      "cell_type": "markdown",
      "source": [
        "## Project Setup"
      ],
      "metadata": {
        "id": "tfngKdCMC_ug"
      },
      "id": "tfngKdCMC_ug"
    },
    {
      "cell_type": "code",
      "execution_count": null,
      "id": "5b2929ed-640f-4681-b7cd-bd5540758737",
      "metadata": {
        "id": "5b2929ed-640f-4681-b7cd-bd5540758737"
      },
      "outputs": [],
      "source": [
        "versioninfo()"
      ]
    },
    {
      "cell_type": "code",
      "source": [
        "# ;wget -O Project.toml https://raw.githubusercontent.com/a-mhamdi/jlai/refs/heads/main/Codes/Julia/Part-3/cnn/Project.toml"
      ],
      "metadata": {
        "id": "sArmsQK9fkFs"
      },
      "id": "sArmsQK9fkFs",
      "execution_count": null,
      "outputs": []
    },
    {
      "cell_type": "code",
      "source": [
        "# ;sed -i -e '/^Pl[uo]/d' -e '/^Image/d' Project.toml"
      ],
      "metadata": {
        "id": "56oZPpvYyzjT"
      },
      "id": "56oZPpvYyzjT",
      "execution_count": null,
      "outputs": []
    },
    {
      "cell_type": "markdown",
      "metadata": {
        "id": "1b607856"
      },
      "source": [
        "We write the package dependencies to a `Project.toml` file. This file is used by Julia's package manager `Pkg` to specify the exact versions of the packages needed here."
      ],
      "id": "1b607856"
    },
    {
      "cell_type": "code",
      "source": [
        "pkgs = \"\"\"[deps]\n",
        "BSON = \"fbb218c0-5317-5bc6-957e-2ee96dd4b1f0\"\n",
        "CUDA = \"052768ef-5323-5732-b1bb-66c8b64840ba\"\n",
        "CairoMakie = \"13f3f980-e62b-5c42-98c6-ff1f3baf88f0\"\n",
        "Flux = \"587475ba-b771-5e3f-ad9e-33799f191a9c\"\n",
        "ImageInTerminal = \"d8c32880-2388-543b-8c61-d9f865259254\"\n",
        "ImageShow = \"4e3cecfd-b093-5904-9786-8bbb286a6a31\"\n",
        "JLD2 = \"033835bb-8acc-5ee8-8aae-3f567f8a3819\"\n",
        "MLDatasets = \"eb30cadb-4394-5ae3-aed4-317e484a6458\"\n",
        "Markdown = \"d6f4376e-aef5-505a-96c1-9c027394607a\"\n",
        "ProgressMeter = \"92933f4c-e287-5a05-a399-4b506db050ca\"\n",
        "Statistics = \"10745b16-79ce-11e8-11f9-7d13ad32a3b2\"\n",
        "cuDNN = \"02a925ec-e4fe-4b08-9a7e-0d78e3d38ccd\"\n",
        "\"\"\"\n",
        "\n",
        "open(\"Project.toml\", \"w\") do file\n",
        "    write(file, pkgs)\n",
        "end"
      ],
      "metadata": {
        "id": "Fud7cTtFRJkl"
      },
      "execution_count": null,
      "outputs": [],
      "id": "Fud7cTtFRJkl"
    },
    {
      "cell_type": "markdown",
      "metadata": {
        "id": "d6f0939e"
      },
      "source": [
        "Activate the project environment and instantiates the packages listed in the `Project.toml` file."
      ],
      "id": "d6f0939e"
    },
    {
      "cell_type": "code",
      "source": [
        "_ = begin\n",
        "  import Pkg;\n",
        "  Pkg.activate(\".\");\n",
        "  Pkg.instantiate();\n",
        "end"
      ],
      "metadata": {
        "id": "Q_lHYKpafw5C",
        "collapsed": true
      },
      "id": "Q_lHYKpafw5C",
      "execution_count": null,
      "outputs": []
    },
    {
      "cell_type": "markdown",
      "metadata": {
        "id": "198c0974"
      },
      "source": [
        "Status of the installed packages in the current environment, showing their versions and any compatibility issues."
      ],
      "id": "198c0974"
    },
    {
      "cell_type": "code",
      "source": [
        "Pkg.status()"
      ],
      "metadata": {
        "id": "nW5rqGre_D8e"
      },
      "id": "nW5rqGre_D8e",
      "execution_count": null,
      "outputs": []
    },
    {
      "cell_type": "markdown",
      "metadata": {
        "id": "d9a42fa9"
      },
      "source": [
        "Import the `Flux` library, which is essential for building and training the neural network."
      ],
      "id": "d9a42fa9"
    },
    {
      "cell_type": "code",
      "metadata": {
        "id": "f6203a29"
      },
      "source": [
        "using Flux\n",
        "using Flux: DataLoader\n",
        "using Flux: onecold, onehotbatch"
      ],
      "id": "f6203a29",
      "execution_count": null,
      "outputs": []
    },
    {
      "cell_type": "markdown",
      "metadata": {
        "id": "ca960655"
      },
      "source": [
        "Import the `CUDA` package and displays information about the `CUDA` version and available **GPU** devices."
      ],
      "id": "ca960655"
    },
    {
      "cell_type": "code",
      "metadata": {
        "id": "a75a7084"
      },
      "source": [
        "using CUDA\n",
        "CUDA.versioninfo()"
      ],
      "id": "a75a7084",
      "execution_count": null,
      "outputs": []
    },
    {
      "cell_type": "markdown",
      "metadata": {
        "id": "14591022"
      },
      "source": [
        "## Load and process data"
      ],
      "id": "14591022"
    },
    {
      "cell_type": "code",
      "execution_count": null,
      "id": "9da5166c-b178-49e1-81c4-3f47cc0a2046",
      "metadata": {
        "id": "9da5166c-b178-49e1-81c4-3f47cc0a2046"
      },
      "outputs": [],
      "source": [
        "Base.@kwdef mutable struct HyperParams\n",
        "    η = 3f-3                # Learning rate\n",
        "    batchsize = 64          # Batch size\n",
        "    epochs = 8              # Number of epochs\n",
        "    split = :train          # Split data into `train` and `test`\n",
        "end"
      ]
    },
    {
      "cell_type": "markdown",
      "id": "70c04da4-1d18-442f-b6bc-cb774d4bbae3",
      "metadata": {
        "id": "70c04da4-1d18-442f-b6bc-cb774d4bbae3"
      },
      "source": [
        "Load the **MNIST** dataset"
      ]
    },
    {
      "cell_type": "code",
      "execution_count": null,
      "id": "5786c3d6-a334-4561-b177-20929cd86c3f",
      "metadata": {
        "id": "5786c3d6-a334-4561-b177-20929cd86c3f"
      },
      "outputs": [],
      "source": [
        "using MLDatasets"
      ]
    },
    {
      "cell_type": "code",
      "source": [
        "d = MNIST()"
      ],
      "metadata": {
        "id": "URiPgKtK2I9d"
      },
      "id": "URiPgKtK2I9d",
      "execution_count": null,
      "outputs": []
    },
    {
      "cell_type": "markdown",
      "metadata": {
        "id": "c12da39e"
      },
      "source": [
        "The function `get_data` loads the MNIST dataset, normalizes the features by dividing by 255, reshapes the data to include a channel dimension, and one-hot encodes the labels. It then creates a `DataLoader` for efficient batching and moves the data to the GPU."
      ],
      "id": "c12da39e"
    },
    {
      "cell_type": "code",
      "execution_count": null,
      "id": "5e565f6a-0320-40c1-a84c-b08278fd9aca",
      "metadata": {
        "id": "5e565f6a-0320-40c1-a84c-b08278fd9aca"
      },
      "outputs": [],
      "source": [
        "function get_data(; kws...)\n",
        "    args = HyperParams(; kws...);\n",
        "    # Split and normalize data\n",
        "    data = MNIST(split=args.split);\n",
        "    X, y = data.features ./ 255, data.targets;\n",
        "    X = reshape(X, (28, 28, 1, :));\n",
        "    y = onehotbatch(y, 0:9);\n",
        "    loader = DataLoader((X, y); batchsize=args.batchsize, shuffle=true) |> gpu;\n",
        "    return loader\n",
        "end"
      ]
    },
    {
      "cell_type": "code",
      "execution_count": null,
      "id": "a560e2a1-d919-44c4-b56c-e4fc972b1660",
      "metadata": {
        "id": "a560e2a1-d919-44c4-b56c-e4fc972b1660"
      },
      "outputs": [],
      "source": [
        "train_loader = get_data();\n",
        "test_loader = get_data(split=:test);"
      ]
    },
    {
      "cell_type": "markdown",
      "metadata": {
        "id": "13d9a374"
      },
      "source": [
        "Check the type of the first batch of data from the `get_data` function. The output will indicate whether the data is stored as an `Array` (on the CPU) or a `CuArray` (on the GPU)."
      ],
      "id": "13d9a374"
    },
    {
      "cell_type": "code",
      "source": [
        "x1, y1 = first(get_data());\n",
        "# CPU => Array...\n",
        "# GPU => CuArray...\n",
        "typeof((x1, y1))"
      ],
      "metadata": {
        "id": "TwBNIUdTO6M_"
      },
      "id": "TwBNIUdTO6M_",
      "execution_count": null,
      "outputs": []
    },
    {
      "cell_type": "markdown",
      "id": "cf4b49dc-286e-4a5a-9573-add0f6c26599",
      "metadata": {
        "id": "cf4b49dc-286e-4a5a-9573-add0f6c26599"
      },
      "source": [
        "Transform sample training data to an image. View the image and check the corresponding digit value."
      ]
    },
    {
      "cell_type": "code",
      "source": [
        "using Statistics"
      ],
      "metadata": {
        "id": "Db1mArOv1prr"
      },
      "id": "Db1mArOv1prr",
      "execution_count": null,
      "outputs": []
    },
    {
      "cell_type": "code",
      "source": [
        "idx = rand(1:6_000, 3)"
      ],
      "metadata": {
        "id": "d4pYvrke1tO_"
      },
      "id": "d4pYvrke1tO_",
      "execution_count": null,
      "outputs": []
    },
    {
      "cell_type": "code",
      "source": [
        "using ImageInTerminal, ImageShow"
      ],
      "metadata": {
        "id": "EY62yRYsCg0D"
      },
      "id": "EY62yRYsCg0D",
      "execution_count": null,
      "outputs": []
    },
    {
      "cell_type": "code",
      "source": [
        "convert2image(d, idx)"
      ],
      "metadata": {
        "id": "UoRiMci_1ybl"
      },
      "id": "UoRiMci_1ybl",
      "execution_count": null,
      "outputs": []
    },
    {
      "cell_type": "code",
      "source": [
        "\"Digits are $(d.targets[idx])\""
      ],
      "metadata": {
        "id": "wUvOu_Ty14vV"
      },
      "id": "wUvOu_Ty14vV",
      "execution_count": null,
      "outputs": []
    },
    {
      "cell_type": "markdown",
      "metadata": {
        "id": "ed3141ab"
      },
      "source": [
        "## Model Architecture Design"
      ],
      "id": "ed3141ab"
    },
    {
      "cell_type": "markdown",
      "source": [
        "Let us readjust and use the original `LeNet-5` Architecture."
      ],
      "metadata": {
        "id": "vJRWAcZ29zzI"
      },
      "id": "vJRWAcZ29zzI"
    },
    {
      "cell_type": "code",
      "source": [
        "lenet5 = Chain(\n",
        "    # Layer C1: Convolutional layer - 6 feature maps, 5x5 kernel\n",
        "    Conv((5, 5), 1 => 6, relu),\n",
        "\n",
        "    # Layer S2: Subsampling (Max Pooling) - 2x2\n",
        "    MaxPool((2, 2)),\n",
        "\n",
        "    # Layer C3: Convolutional layer - 16 feature maps, 5x5 kernel\n",
        "    Conv((5, 5), 6 => 16, relu),\n",
        "\n",
        "    # Layer S4: Subsampling (Max Pooling) - 2x2\n",
        "    MaxPool((2, 2)),\n",
        "\n",
        "    # Flatten for fully connected layers\n",
        "    Flux.flatten,\n",
        "\n",
        "    # Layer F5: Fully connected - 120 units\n",
        "    Dense(256, 120, tanh),\n",
        "\n",
        "    # Layer F6: Fully connected - 84 units\n",
        "    Dense(120, 84, tanh),\n",
        "\n",
        "    # Output layer: 10 classes (for digits 0-9)\n",
        "    Dense(84, 10),\n",
        ") |> gpu"
      ],
      "metadata": {
        "id": "QJFcG_n79wir"
      },
      "id": "QJFcG_n79wir",
      "execution_count": null,
      "outputs": []
    },
    {
      "cell_type": "markdown",
      "source": [
        "The input `X` is a batch of images with dimensions `(width=28, height=28, channels=1, batchsize)`."
      ],
      "metadata": {
        "id": "zhIWqnorMzg4"
      },
      "id": "zhIWqnorMzg4"
    },
    {
      "cell_type": "code",
      "source": [
        "lenet5(x1) |> out -> softmax(out; dims=1)"
      ],
      "metadata": {
        "id": "TfQM9NXtLUvq"
      },
      "id": "TfQM9NXtLUvq",
      "execution_count": null,
      "outputs": []
    },
    {
      "cell_type": "markdown",
      "metadata": {
        "id": "068b4f6d"
      },
      "source": [
        "## Training and Validation"
      ],
      "id": "068b4f6d"
    },
    {
      "cell_type": "code",
      "source": [
        "using ProgressMeter: Progress, next!"
      ],
      "metadata": {
        "id": "tQukOZAi2XOW"
      },
      "id": "tQukOZAi2XOW",
      "execution_count": null,
      "outputs": []
    },
    {
      "cell_type": "code",
      "execution_count": null,
      "id": "4b53fe85-24c1-48ba-bf39-a2605dd9f6c5",
      "metadata": {
        "id": "4b53fe85-24c1-48ba-bf39-a2605dd9f6c5"
      },
      "outputs": [],
      "source": [
        "function train(; kws...)\n",
        "    args = HyperParams(; kws...)\n",
        "    # Define the loss function\n",
        "    l(α, β) = Flux.logitcrossentropy(α, β)\n",
        "    # Define the accuracy metric\n",
        "    acc(α, β) = mean(onecold(α) .== onecold(β))\n",
        "    # Optimizer\n",
        "    optim_state = Flux.setup(Adam(args.η), lenet5);\n",
        "\n",
        "    vec_loss = []\n",
        "    vec_acc = []\n",
        "\n",
        "    for epoch in 1:args.epochs\n",
        "        printstyled(\"\\t***\\t === EPOCH $(epoch) === \\t*** \\n\", color=:magenta, bold=true)\n",
        "        @info \"TRAINING\"\n",
        "        prg_train = Progress(length(train_loader))\n",
        "        for (X, y) in train_loader\n",
        "            loss, grads = Flux.withgradient(lenet5) do m\n",
        "                ŷ = m(X);\n",
        "                l(ŷ, y);\n",
        "            end\n",
        "            Flux.update!(optim_state, lenet5, grads[1]); # Upd `W` and `b`\n",
        "            # Show progress meter\n",
        "            next!(prg_train, showvalues=[(:loss, loss)])\n",
        "        end\n",
        "        @info \"TESTING\"\n",
        "        prg_test = Progress(length(test_loader))\n",
        "        for (X, y) in test_loader\n",
        "            ŷ = lenet5(X);\n",
        "            push!(vec_loss, l(ŷ, y));  # log `loss` value -> `vec_loss` vector\n",
        "            push!(vec_acc, acc(ŷ, y)); # log `accuracy` value -> `vec_acc` vector\n",
        "          \t# Show progress meter\n",
        "            next!(prg_test, showvalues=[(:loss, vec_loss[end]), (:accuracy, vec_acc[end])])\n",
        "        end\n",
        "    end\n",
        "    vec_loss, vec_acc\n",
        "end"
      ]
    },
    {
      "cell_type": "code",
      "execution_count": null,
      "id": "282e88b9-736f-491c-add7-a4dad2b4da7f",
      "metadata": {
        "id": "282e88b9-736f-491c-add7-a4dad2b4da7f",
        "collapsed": true
      },
      "outputs": [],
      "source": [
        "vec_loss, vec_acc = train();"
      ]
    },
    {
      "cell_type": "code",
      "source": [
        "using CairoMakie\n",
        "\n",
        "fig = Figure(size = (800, 800))\n",
        "ax1 = Axis(\n",
        "    fig[1, 1],\n",
        "    xlabel = \"Iteration\",\n",
        "    ylabel = \"Loss\",\n",
        "    title = \"Test Loss vs. Iteration\"\n",
        ")\n",
        "ax2 = Axis(\n",
        "    fig[2, 1],\n",
        "    xlabel = \"Iteration\",\n",
        "    ylabel = \"Accuracy\",\n",
        "    title = \"Test Accuracy vs. Iteration\"\n",
        ")\n",
        "\n",
        "# Scatter plot the `vec_loss`\n",
        "scatter!(ax1, vec_loss[1:10:end], color=:red, markersize=5)\n",
        "ylims!(ax1, 0, 2)\n",
        "\n",
        "# Scatter plot the `acc_loss`\n",
        "scatter!(ax2, vec_acc[1:10:end], color=:blue, markersize=5)\n",
        "ylims!(ax2, 0, 1)\n",
        "\n",
        "# Display the figure\n",
        "fig"
      ],
      "metadata": {
        "id": "ThgbGFDQqfNN"
      },
      "id": "ThgbGFDQqfNN",
      "execution_count": null,
      "outputs": []
    },
    {
      "cell_type": "markdown",
      "source": [
        "Sampling from `test_loader` and comparison between predicted and actual outputs:"
      ],
      "metadata": {
        "id": "9HZ_NLBq6GOh"
      },
      "id": "9HZ_NLBq6GOh"
    },
    {
      "cell_type": "code",
      "source": [
        "xs, ys = first(test_loader)\n",
        "yp = xs |> lenet5 |> softmax |> out -> onecold(out, 0:9) |> cpu\n",
        "ys = onecold(ys) .- 1 |> cpu;"
      ],
      "metadata": {
        "id": "E_lr3WmF5TWh"
      },
      "id": "E_lr3WmF5TWh",
      "execution_count": null,
      "outputs": []
    },
    {
      "cell_type": "code",
      "execution_count": null,
      "id": "a88ae6ce-5b7e-41b5-bffb-edaef4a31c70",
      "metadata": {
        "id": "a88ae6ce-5b7e-41b5-bffb-edaef4a31c70"
      },
      "outputs": [],
      "source": [
        "idx = rand(1:HyperParams().batchsize, 8)\n",
        "for i ∈ idx\n",
        "    @info \"**Prediction is $(yp[i]). Label is $(ys[i]).**\"\n",
        "end"
      ]
    },
    {
      "cell_type": "markdown",
      "metadata": {
        "id": "4a68461a"
      },
      "source": [
        "## Save and Load"
      ],
      "id": "4a68461a"
    },
    {
      "cell_type": "code",
      "source": [
        "cnn_model = lenet5 |> cpu;"
      ],
      "metadata": {
        "id": "WFlNbAGqlmSu"
      },
      "id": "WFlNbAGqlmSu",
      "execution_count": null,
      "outputs": []
    },
    {
      "cell_type": "code",
      "source": [
        "folder = \"models\"\n",
        "isdir(folder) || mkdir(folder)"
      ],
      "metadata": {
        "id": "7OU79FCXRZp6"
      },
      "id": "7OU79FCXRZp6",
      "execution_count": null,
      "outputs": []
    },
    {
      "cell_type": "code",
      "source": [
        "using Serialization\n",
        "\n",
        "filename_1 = joinpath(folder, \"cnn.jls\")\n",
        "serialize(filename_1, cnn_model)"
      ],
      "metadata": {
        "id": "Lu8WO-FvbQmi"
      },
      "id": "Lu8WO-FvbQmi",
      "execution_count": null,
      "outputs": []
    },
    {
      "cell_type": "code",
      "execution_count": null,
      "metadata": {
        "id": "982f8b09-9303-4478-980f-83baf7ed68e2"
      },
      "outputs": [],
      "source": [
        "using BSON\n",
        "\n",
        "filename_3 = joinpath(folder, \"cnn.bson\")\n",
        "BSON.@save filename_3 bson_mdl=cnn_model"
      ],
      "id": "982f8b09-9303-4478-980f-83baf7ed68e2"
    },
    {
      "cell_type": "code",
      "source": [
        "using JLD2\n",
        "\n",
        "filename_2 = joinpath(folder, \"cnn.jld2\")\n",
        "JLD2.@save filename_2 jld2_mdl=cnn_model"
      ],
      "metadata": {
        "id": "yBi6lEQNROLc"
      },
      "id": "yBi6lEQNROLc",
      "execution_count": null,
      "outputs": []
    },
    {
      "cell_type": "code",
      "source": [
        "# cnn_model = nothing"
      ],
      "metadata": {
        "id": "crrviku6rT0r"
      },
      "id": "crrviku6rT0r",
      "execution_count": null,
      "outputs": []
    },
    {
      "cell_type": "code",
      "source": [
        "idx = rand(1:6000)\n",
        "sample = d.features[:, :, idx] |> im -> reshape(im, (28, 28, 1, 1))\n",
        "convert2image(d, idx)"
      ],
      "metadata": {
        "id": "mwxrnp2BngAd"
      },
      "id": "mwxrnp2BngAd",
      "execution_count": null,
      "outputs": []
    },
    {
      "cell_type": "code",
      "source": [
        "stream_mdl = deserialize(filename_1)\n",
        "pred = stream_mdl(sample) |> out -> (onecold(out) .- 1)[1]\n",
        "print(d.targets[idx], ' ', pred)"
      ],
      "metadata": {
        "id": "ztiwaSM2p0H8"
      },
      "id": "ztiwaSM2p0H8",
      "execution_count": null,
      "outputs": []
    },
    {
      "cell_type": "code",
      "source": [
        "BSON.@load filename_3 bson_mdl\n",
        "pred = bson_mdl(sample) |> out -> (onecold(out) .- 1)[1]\n",
        "print(d.targets[idx], ' ', pred)"
      ],
      "metadata": {
        "id": "UKgC-wkkpzHi"
      },
      "id": "UKgC-wkkpzHi",
      "execution_count": null,
      "outputs": []
    },
    {
      "cell_type": "code",
      "source": [
        "JLD2.@load filename_2 jld2_mdl\n",
        "pred = jld2_mdl(sample) |> out -> (onecold(out) .- 1)[1]\n",
        "print(d.targets[idx], ' ', pred)"
      ],
      "metadata": {
        "id": "r-3PWi_an1jP"
      },
      "id": "r-3PWi_an1jP",
      "execution_count": null,
      "outputs": []
    }
  ],
  "metadata": {
    "kernelspec": {
      "display_name": "Julia",
      "name": "julia"
    },
    "language_info": {
      "name": "julia"
    },
    "colab": {
      "provenance": [],
      "gpuType": "T4",
      "include_colab_link": true
    },
    "accelerator": "GPU"
  },
  "nbformat": 4,
  "nbformat_minor": 5
}